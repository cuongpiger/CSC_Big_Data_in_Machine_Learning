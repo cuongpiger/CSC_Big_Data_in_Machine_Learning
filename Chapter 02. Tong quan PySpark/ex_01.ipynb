{
 "metadata": {
  "language_info": {
   "codemirror_mode": {
    "name": "ipython",
    "version": 3
   },
   "file_extension": ".py",
   "mimetype": "text/x-python",
   "name": "python",
   "nbconvert_exporter": "python",
   "pygments_lexer": "ipython3",
   "version": "3.8.5-final"
  },
  "orig_nbformat": 2,
  "kernelspec": {
   "name": "python38564bit739b5682ab17410ead4710a41bd80672",
   "display_name": "Python 3.8.5 64-bit"
  },
  "metadata": {
   "interpreter": {
    "hash": "31f2aee4e71d21fbe5cf8b01ff0e069b9275f58929596ceb00d14d90e3e16cd6"
   }
  }
 },
 "nbformat": 4,
 "nbformat_minor": 2,
 "cells": [
  {
   "source": [
    "# Ex1\n",
    "* Cho tập tin `./data/t8.shakespeare.txt`\n",
    "  * a) Cho biết dữ liệu có bao nhiêu dòng?\n",
    "  * b) Cho biết từ `love` xuất hiện trên bao nhiêu dòng?\n",
    "  * c) Cho biết trong tập tin có xuất hiện giá trị số nào không? Nếu có thì xuất hiện trên bao nhiêu dòng và liệt kê các dòng đó.\n",
    "  * d) Tự làm một pattern cho regular expression."
   ],
   "cell_type": "markdown",
   "metadata": {}
  },
  {
   "cell_type": "code",
   "execution_count": 1,
   "metadata": {},
   "outputs": [],
   "source": [
    "%load_ext autoreload\n",
    "%autoreload 2"
   ]
  },
  {
   "cell_type": "code",
   "execution_count": 2,
   "metadata": {},
   "outputs": [],
   "source": [
    "import re\n",
    "from modules.pyspark import CPySpark"
   ]
  },
  {
   "cell_type": "code",
   "execution_count": 3,
   "metadata": {},
   "outputs": [],
   "source": [
    "spark = CPySpark()"
   ]
  },
  {
   "cell_type": "code",
   "execution_count": 4,
   "metadata": {},
   "outputs": [
    {
     "output_type": "execute_result",
     "data": {
      "text/plain": [
       "<SparkContext master=local appName=pyspark-shell>"
      ],
      "text/html": "\n        <div>\n            <p><b>SparkContext</b></p>\n\n            <p><a href=\"http://192.168.1.10:4041\">Spark UI</a></p>\n\n            <dl>\n              <dt>Version</dt>\n                <dd><code>v3.1.1</code></dd>\n              <dt>Master</dt>\n                <dd><code>local</code></dd>\n              <dt>AppName</dt>\n                <dd><code>pyspark-shell</code></dd>\n            </dl>\n        </div>\n        "
     },
     "metadata": {},
     "execution_count": 4
    }
   ],
   "source": [
    "spark.sc"
   ]
  },
  {
   "source": [
    "Đọc dữ liệu"
   ],
   "cell_type": "markdown",
   "metadata": {}
  },
  {
   "cell_type": "code",
   "execution_count": 5,
   "metadata": {},
   "outputs": [],
   "source": [
    "rdd = spark.rdd(file='./data/t8.shakespeare.txt', cache=True)"
   ]
  },
  {
   "cell_type": "code",
   "execution_count": 6,
   "metadata": {},
   "outputs": [
    {
     "output_type": "execute_result",
     "data": {
      "text/plain": [
       "['This is the 100th Etext file presented by Project Gutenberg, and',\n",
       " 'is presented in cooperation with World Library, Inc., from their',\n",
       " 'Library of the Future and Shakespeare CDROMS.  Project Gutenberg',\n",
       " 'often releases Etexts that are NOT placed in the Public Domain!!',\n",
       " '',\n",
       " 'Shakespeare',\n",
       " '',\n",
       " '*This Etext has certain copyright implications you should read!*',\n",
       " '',\n",
       " '<<THIS ELECTRONIC VERSION OF THE COMPLETE WORKS OF WILLIAM']"
      ]
     },
     "metadata": {},
     "execution_count": 6
    }
   ],
   "source": [
    "rdd.take(10)"
   ]
  },
  {
   "source": [
    "a) Đếm dữ liệu có bao nhiêu dòng"
   ],
   "cell_type": "markdown",
   "metadata": {}
  },
  {
   "cell_type": "code",
   "execution_count": 7,
   "metadata": {},
   "outputs": [
    {
     "output_type": "execute_result",
     "data": {
      "text/plain": [
       "124456"
      ]
     },
     "metadata": {},
     "execution_count": 7
    }
   ],
   "source": [
    "rdd.count()"
   ]
  },
  {
   "cell_type": "code",
   "execution_count": 8,
   "metadata": {},
   "outputs": [
    {
     "output_type": "execute_result",
     "data": {
      "text/plain": [
       "124456"
      ]
     },
     "metadata": {},
     "execution_count": 8
    }
   ],
   "source": [
    "len(rdd.collect())"
   ]
  },
  {
   "source": [
    "b) Cho biết từ `love` xuất hiện trên bao nhiêu dòng?"
   ],
   "cell_type": "markdown",
   "metadata": {}
  },
  {
   "cell_type": "code",
   "execution_count": 9,
   "metadata": {},
   "outputs": [],
   "source": [
    "no_loves = rdd.filter(lambda s: 'love' in s).count()"
   ]
  },
  {
   "cell_type": "code",
   "execution_count": 10,
   "metadata": {},
   "outputs": [
    {
     "output_type": "execute_result",
     "data": {
      "text/plain": [
       "2484"
      ]
     },
     "metadata": {},
     "execution_count": 10
    }
   ],
   "source": [
    "no_loves"
   ]
  },
  {
   "source": [
    "c) Cho biết trong tập tin có xuất hiện giá trị số nào không? Nếu có thì xuất hiện trên bao nhiêu dòng và liệt kê các dòng đó."
   ],
   "cell_type": "markdown",
   "metadata": {}
  },
  {
   "cell_type": "code",
   "execution_count": 11,
   "metadata": {},
   "outputs": [],
   "source": [
    "pattern = \"[\\s|\\S]*\\d{1,}[\\s|\\S]*\""
   ]
  },
  {
   "cell_type": "code",
   "execution_count": 12,
   "metadata": {},
   "outputs": [],
   "source": [
    "no_digits = rdd.filter(lambda s: re.match(pattern, s)).count()"
   ]
  },
  {
   "cell_type": "code",
   "execution_count": 13,
   "metadata": {},
   "outputs": [
    {
     "output_type": "execute_result",
     "data": {
      "text/plain": [
       "1191"
      ]
     },
     "metadata": {},
     "execution_count": 13
    }
   ],
   "source": [
    "no_digits"
   ]
  },
  {
   "cell_type": "code",
   "execution_count": 14,
   "metadata": {},
   "outputs": [],
   "source": [
    "samples = rdd.filter(lambda s: re.match(pattern, s))"
   ]
  },
  {
   "cell_type": "code",
   "execution_count": 15,
   "metadata": {
    "tags": [
     "outputPrepend"
    ]
   },
   "outputs": [
    {
     "output_type": "stream",
     "name": "stdout",
     "text": [
      "817: PERSONAL USE ONLY, AND (2) ARE NOT DISTRIBUTED OR USED\n818: 1599\n819: SHAKESPEARE IS COPYRIGHT 1990-1993 BY WORLD LIBRARY, INC., AND IS\n820: DISTRIBUTED SO LONG AS SUCH COPIES (1) ARE FOR YOUR OR OTHERS\n821: PERSONAL USE ONLY, AND (2) ARE NOT DISTRIBUTED OR USED\n822: SHAKESPEARE IS COPYRIGHT 1990-1993 BY WORLD LIBRARY, INC., AND IS\n823: DISTRIBUTED SO LONG AS SUCH COPIES (1) ARE FOR YOUR OR OTHERS\n824: PERSONAL USE ONLY, AND (2) ARE NOT DISTRIBUTED OR USED\n825: SHAKESPEARE IS COPYRIGHT 1990-1993 BY WORLD LIBRARY, INC., AND IS\n826: DISTRIBUTED SO LONG AS SUCH COPIES (1) ARE FOR YOUR OR OTHERS\n827: PERSONAL USE ONLY, AND (2) ARE NOT DISTRIBUTED OR USED\n828:   1. Watch. Hugh Oatcake, sir, or George Seacoal; for they can write\n829:   2. Watch. Both which, Master Constable--\n830:   2. Watch. How if 'a will not stand?\n831:   2. Watch. We will rather sleep than talk. We know what belongs to\n832:   2. Watch. How if they will not?\n833:   2. Watch. Well, sir.\n834:   2. Watch. If we know him to be a thief, shall we not lay hands on\n835:   2. Watch. How if the nurse be asleep and will not hear us?  \n836:   2. Watch. Well, masters, we hear our charge. Let us go sit here\n837:   2. Watch. [aside] Peace! stir not!\n838:   2. Watch. [aside] Some treason, masters. Yet stand close.\n839:   2. Watch. [aside] I know that Deformed. 'A bas been a vile thief\n840:   2. Watch. We charge you in the Prince's name stand!\n841:   1. Watch. Call up the right Master Constable. We have here\n842:   2. Watch. And one Deformed is one of them. I know him; 'a wears a\n843:   1. Watch. You'll be made bring Deformed forth, I warrant you.\n844:   2. Watch. Never speak, we charge you. Let us obey you to go with\n845: SHAKESPEARE IS COPYRIGHT 1990-1993 BY WORLD LIBRARY, INC., AND IS\n846: DISTRIBUTED SO LONG AS SUCH COPIES (1) ARE FOR YOUR OR OTHERS\n847: PERSONAL USE ONLY, AND (2) ARE NOT DISTRIBUTED OR USED\n848:   1. Watch. This man said, sir, that Don John the Prince's brother\n849:   2. Watch. Marry, that he had received a thousand ducats of Don John\n850:   1. Watch. And that Count Claudio did mean, upon his words, to\n851: SHAKESPEARE IS COPYRIGHT 1990-1993 BY WORLD LIBRARY, INC., AND IS\n852: DISTRIBUTED SO LONG AS SUCH COPIES (1) ARE FOR YOUR OR OTHERS\n853: PERSONAL USE ONLY, AND (2) ARE NOT DISTRIBUTED OR USED\n854: SHAKESPEARE IS COPYRIGHT 1990-1993 BY WORLD LIBRARY, INC., AND IS\n855: DISTRIBUTED SO LONG AS SUCH COPIES (1) ARE FOR YOUR OR OTHERS\n856: PERSONAL USE ONLY, AND (2) ARE NOT DISTRIBUTED OR USED\n857: 1605\n858: SHAKESPEARE IS COPYRIGHT 1990-1993 BY WORLD LIBRARY, INC., AND IS\n859: DISTRIBUTED SO LONG AS SUCH COPIES (1) ARE FOR YOUR OR OTHERS\n860: PERSONAL USE ONLY, AND (2) ARE NOT DISTRIBUTED OR USED\n861: SHAKESPEARE IS COPYRIGHT 1990-1993 BY WORLD LIBRARY, INC., AND IS\n862: DISTRIBUTED SO LONG AS SUCH COPIES (1) ARE FOR YOUR OR OTHERS\n863: PERSONAL USE ONLY, AND (2) ARE NOT DISTRIBUTED OR USED\n864: SHAKESPEARE IS COPYRIGHT 1990-1993 BY WORLD LIBRARY, INC., AND IS\n865: DISTRIBUTED SO LONG AS SUCH COPIES (1) ARE FOR YOUR OR OTHERS\n866: PERSONAL USE ONLY, AND (2) ARE NOT DISTRIBUTED OR USED\n867: SHAKESPEARE IS COPYRIGHT 1990-1993 BY WORLD LIBRARY, INC., AND IS\n868: DISTRIBUTED SO LONG AS SUCH COPIES (1) ARE FOR YOUR OR OTHERS\n869: PERSONAL USE ONLY, AND (2) ARE NOT DISTRIBUTED OR USED\n870: SHAKESPEARE IS COPYRIGHT 1990-1993 BY WORLD LIBRARY, INC., AND IS\n871: DISTRIBUTED SO LONG AS SUCH COPIES (1) ARE FOR YOUR OR OTHERS\n872: PERSONAL USE ONLY, AND (2) ARE NOT DISTRIBUTED OR USED\n873: SHAKESPEARE IS COPYRIGHT 1990-1993 BY WORLD LIBRARY, INC., AND IS\n874: DISTRIBUTED SO LONG AS SUCH COPIES (1) ARE FOR YOUR OR OTHERS\n875: PERSONAL USE ONLY, AND (2) ARE NOT DISTRIBUTED OR USED\n876: 1596\n877: SHAKESPEARE IS COPYRIGHT 1990-1993 BY WORLD LIBRARY, INC., AND IS\n878: DISTRIBUTED SO LONG AS SUCH COPIES (1) ARE FOR YOUR OR OTHERS\n879: PERSONAL USE ONLY, AND (2) ARE NOT DISTRIBUTED OR USED\n880: SCENE 2.\n881: SCENE 3.\n882: SCENE 4.\n883: SHAKESPEARE IS COPYRIGHT 1990-1993 BY WORLD LIBRARY, INC., AND IS\n884: DISTRIBUTED SO LONG AS SUCH COPIES (1) ARE FOR YOUR OR OTHERS\n885: PERSONAL USE ONLY, AND (2) ARE NOT DISTRIBUTED OR USED\n886: SCENE 2.\n887: SCENE 3.\n888: SCENE 4.\n889: SHAKESPEARE IS COPYRIGHT 1990-1993 BY WORLD LIBRARY, INC., AND IS\n890: DISTRIBUTED SO LONG AS SUCH COPIES (1) ARE FOR YOUR OR OTHERS\n891: PERSONAL USE ONLY, AND (2) ARE NOT DISTRIBUTED OR USED\n892: SCENE 2.\n893: SCENE 3.\n894: SCENE 4.\n895: SHAKESPEARE IS COPYRIGHT 1990-1993 BY WORLD LIBRARY, INC., AND IS\n896: DISTRIBUTED SO LONG AS SUCH COPIES (1) ARE FOR YOUR OR OTHERS\n897: PERSONAL USE ONLY, AND (2) ARE NOT DISTRIBUTED OR USED\n898: ACT IV. SCENE 1.\n899: SHAKESPEARE IS COPYRIGHT 1990-1993 BY WORLD LIBRARY, INC., AND IS\n900: DISTRIBUTED SO LONG AS SUCH COPIES (1) ARE FOR YOUR OR OTHERS\n901: PERSONAL USE ONLY, AND (2) ARE NOT DISTRIBUTED OR USED\n902: ACT V. SCENE 1.\n903: SCENE 2.\n904: SCENE 3.\n905: SCENE 4.\n906: SCENE 5.\n907: SCENE 6.\n908: SHAKESPEARE IS COPYRIGHT 1990-1993 BY WORLD LIBRARY, INC., AND IS\n909: DISTRIBUTED SO LONG AS SUCH COPIES (1) ARE FOR YOUR OR OTHERS\n910: PERSONAL USE ONLY, AND (2) ARE NOT DISTRIBUTED OR USED\n911: 1593\n912: SHAKESPEARE IS COPYRIGHT 1990-1993 BY WORLD LIBRARY, INC., AND IS\n913: DISTRIBUTED SO LONG AS SUCH COPIES (1) ARE FOR YOUR OR OTHERS\n914: PERSONAL USE ONLY, AND (2) ARE NOT DISTRIBUTED OR USED\n915: ACT I. SCENE 1.\n916: SCENE 2.\n917: SCENE 3.\n918: SCENE 4.\n919: SHAKESPEARE IS COPYRIGHT 1990-1993 BY WORLD LIBRARY, INC., AND IS\n920: DISTRIBUTED SO LONG AS SUCH COPIES (1) ARE FOR YOUR OR OTHERS\n921: PERSONAL USE ONLY, AND (2) ARE NOT DISTRIBUTED OR USED\n922: ACT II. SCENE 1.\n923: SCENE 2.\n924: SCENE 3.\n925: SCENE 4.\n926: SHAKESPEARE IS COPYRIGHT 1990-1993 BY WORLD LIBRARY, INC., AND IS\n927: DISTRIBUTED SO LONG AS SUCH COPIES (1) ARE FOR YOUR OR OTHERS\n928: PERSONAL USE ONLY, AND (2) ARE NOT DISTRIBUTED OR USED\n929: ACT III. SCENE 1.\n930: SCENE 2.\n931: SCENE 3.\n932: SCENE 4\n933: SCENE 5.\n934: SCENE 6.\n935: SCENE 7.\n936: SHAKESPEARE IS COPYRIGHT 1990-1993 BY WORLD LIBRARY, INC., AND IS\n937: DISTRIBUTED SO LONG AS SUCH COPIES (1) ARE FOR YOUR OR OTHERS\n938: PERSONAL USE ONLY, AND (2) ARE NOT DISTRIBUTED OR USED\n939: ACT IV. SCENE 1.\n940: SCENE 2.\n941: SCENE 3.\n942: SCENE 4.\n943: SCENE 5.\n944: SHAKESPEARE IS COPYRIGHT 1990-1993 BY WORLD LIBRARY, INC., AND IS\n945: DISTRIBUTED SO LONG AS SUCH COPIES (1) ARE FOR YOUR OR OTHERS\n946: PERSONAL USE ONLY, AND (2) ARE NOT DISTRIBUTED OR USED\n947: ACT V. SCENE 1.\n948: SCENE 2.\n949: SCENE 3.\n950: SCENE 4.\n951: SCENE 5.\n952: SHAKESPEARE IS COPYRIGHT 1990-1993 BY WORLD LIBRARY, INC., AND IS\n953: DISTRIBUTED SO LONG AS SUCH COPIES (1) ARE FOR YOUR OR OTHERS\n954: PERSONAL USE ONLY, AND (2) ARE NOT DISTRIBUTED OR USED\n955: 1595\n956: SHAKESPEARE IS COPYRIGHT 1990-1993 BY WORLD LIBRARY, INC., AND IS\n957: DISTRIBUTED SO LONG AS SUCH COPIES (1) ARE FOR YOUR OR OTHERS\n958: PERSONAL USE ONLY, AND (2) ARE NOT DISTRIBUTED OR USED\n959:   1. Serv. Where's Potpan, that he helps not to take away?\n960:   2. Serv. When good manners shall lie all in one or two men's hands,\n961:   1. Serv. Away with the join-stools, remove the court-cubbert, look\n962:   2. Serv. Ay, boy, ready.\n963:   1. Serv. You are look'd for and call'd for, ask'd for and sought\n964:   3. Serv. We cannot be here and there too. Cheerly, boys!\n965:   2. Cap. By'r Lady, thirty years.\n966:   2. Cap. 'Tis more, 'tis more! His son is elder, sir;\n967: SHAKESPEARE IS COPYRIGHT 1990-1993 BY WORLD LIBRARY, INC., AND IS\n968: DISTRIBUTED SO LONG AS SUCH COPIES (1) ARE FOR YOUR OR OTHERS\n969: PERSONAL USE ONLY, AND (2) ARE NOT DISTRIBUTED OR USED\n970: SHAKESPEARE IS COPYRIGHT 1990-1993 BY WORLD LIBRARY, INC., AND IS\n971: DISTRIBUTED SO LONG AS SUCH COPIES (1) ARE FOR YOUR OR OTHERS\n972: PERSONAL USE ONLY, AND (2) ARE NOT DISTRIBUTED OR USED\n973: SHAKESPEARE IS COPYRIGHT 1990-1993 BY WORLD LIBRARY, INC., AND IS\n974: DISTRIBUTED SO LONG AS SUCH COPIES (1) ARE FOR YOUR OR OTHERS\n975: PERSONAL USE ONLY, AND (2) ARE NOT DISTRIBUTED OR USED\n976:   1. Mus. Faith, we may put up our pipes and be gone.\n977:   1. Mus. Ay, by my troth, the case may be amended.\n978:   1. Mus. Why 'Heart's ease'',\n979:   1. Mus. Not a dump we! 'Tis no time to play now.\n980:   1. Mus. No.\n981:   1. Mus. What will you give us?\n982:   1. Mus. Then will I give you the serving-creature.\n983:   1. Mus. An you re us and fa us, you note us.\n984:   2. Mus. Pray you put up your dagger, and put out your wit.\n985:   1. Mus. Marry, sir, because silver hath a sweet sound.\n986:   2. Mus. I say 'silver sound' because musicians sound for silver.\n987:   3. Mus. Faith, I know not what to say.\n988:   1. Mus. What a pestilent knave is this same?\n989:   2. Mus. Hang him, Jack! Come, we'll in here, tarry for the  \n990: SHAKESPEARE IS COPYRIGHT 1990-1993 BY WORLD LIBRARY, INC., AND IS\n991: DISTRIBUTED SO LONG AS SUCH COPIES (1) ARE FOR YOUR OR OTHERS\n992: PERSONAL USE ONLY, AND (2) ARE NOT DISTRIBUTED OR USED\n993:   2. Watch. Here's Romeo's man. We found him in the churchyard.\n994:   3. Watch. Here is a friar that trembles, sighs, and weeps.\n995: SHAKESPEARE IS COPYRIGHT 1990-1993 BY WORLD LIBRARY, INC., AND IS\n996: DISTRIBUTED SO LONG AS SUCH COPIES (1) ARE FOR YOUR OR OTHERS\n997: PERSONAL USE ONLY, AND (2) ARE NOT DISTRIBUTED OR USED\n998: 1594\n999: SC_1\n1000: SC_2\n1001: SHAKESPEARE IS COPYRIGHT 1990-1993 BY WORLD LIBRARY, INC., AND IS\n1002: DISTRIBUTED SO LONG AS SUCH COPIES (1) ARE FOR YOUR OR OTHERS\n1003: PERSONAL USE ONLY, AND (2) ARE NOT DISTRIBUTED OR USED\n1004: SHAKESPEARE IS COPYRIGHT 1990-1993 BY WORLD LIBRARY, INC., AND IS\n1005: DISTRIBUTED SO LONG AS SUCH COPIES (1) ARE FOR YOUR OR OTHERS\n1006: PERSONAL USE ONLY, AND (2) ARE NOT DISTRIBUTED OR USED\n1007: SHAKESPEARE IS COPYRIGHT 1990-1993 BY WORLD LIBRARY, INC., AND IS\n1008: DISTRIBUTED SO LONG AS SUCH COPIES (1) ARE FOR YOUR OR OTHERS\n1009: PERSONAL USE ONLY, AND (2) ARE NOT DISTRIBUTED OR USED\n1010: SHAKESPEARE IS COPYRIGHT 1990-1993 BY WORLD LIBRARY, INC., AND IS\n1011: DISTRIBUTED SO LONG AS SUCH COPIES (1) ARE FOR YOUR OR OTHERS\n1012: PERSONAL USE ONLY, AND (2) ARE NOT DISTRIBUTED OR USED\n1013: SHAKESPEARE IS COPYRIGHT 1990-1993 BY WORLD LIBRARY, INC., AND IS\n1014: DISTRIBUTED SO LONG AS SUCH COPIES (1) ARE FOR YOUR OR OTHERS\n1015: PERSONAL USE ONLY, AND (2) ARE NOT DISTRIBUTED OR USED\n1016: SHAKESPEARE IS COPYRIGHT 1990-1993 BY WORLD LIBRARY, INC., AND IS\n1017: DISTRIBUTED SO LONG AS SUCH COPIES (1) ARE FOR YOUR OR OTHERS\n1018: PERSONAL USE ONLY, AND (2) ARE NOT DISTRIBUTED OR USED\n1019: 1612\n1020: SHAKESPEARE IS COPYRIGHT 1990-1993 BY WORLD LIBRARY, INC., AND IS\n1021: DISTRIBUTED SO LONG AS SUCH COPIES (1) ARE FOR YOUR OR OTHERS\n1022: PERSONAL USE ONLY, AND (2) ARE NOT DISTRIBUTED OR USED\n1023: ACT I. SCENE 1\n1024: SCENE 2\n1025: SHAKESPEARE IS COPYRIGHT 1990-1993 BY WORLD LIBRARY, INC., AND IS\n1026: DISTRIBUTED SO LONG AS SUCH COPIES (1) ARE FOR YOUR OR OTHERS\n1027: PERSONAL USE ONLY, AND (2) ARE NOT DISTRIBUTED OR USED\n1028: ACT II. SCENE 1\n1029: SCENE 2\n1030: SHAKESPEARE IS COPYRIGHT 1990-1993 BY WORLD LIBRARY, INC., AND IS\n1031: DISTRIBUTED SO LONG AS SUCH COPIES (1) ARE FOR YOUR OR OTHERS\n1032: PERSONAL USE ONLY, AND (2) ARE NOT DISTRIBUTED OR USED\n1033: ACT III. SCENE 1\n1034: SCENE 2\n1035: SCENE 3\n1036: SHAKESPEARE IS COPYRIGHT 1990-1993 BY WORLD LIBRARY, INC., AND IS\n1037: DISTRIBUTED SO LONG AS SUCH COPIES (1) ARE FOR YOUR OR OTHERS\n1038: PERSONAL USE ONLY, AND (2) ARE NOT DISTRIBUTED OR USED\n1039: ACT IV. SCENE 1\n1040: SHAKESPEARE IS COPYRIGHT 1990-1993 BY WORLD LIBRARY, INC., AND IS\n1041: DISTRIBUTED SO LONG AS SUCH COPIES (1) ARE FOR YOUR OR OTHERS\n1042: PERSONAL USE ONLY, AND (2) ARE NOT DISTRIBUTED OR USED\n1043: ACT V. SCENE 1\n1044: SHAKESPEARE IS COPYRIGHT 1990-1993 BY WORLD LIBRARY, INC., AND IS\n1045: DISTRIBUTED SO LONG AS SUCH COPIES (1) ARE FOR YOUR OR OTHERS\n1046: PERSONAL USE ONLY, AND (2) ARE NOT DISTRIBUTED OR USED\n1047: 1608\n1048: SHAKESPEARE IS COPYRIGHT 1990-1993 BY WORLD LIBRARY, INC., AND IS\n1049: DISTRIBUTED SO LONG AS SUCH COPIES (1) ARE FOR YOUR OR OTHERS\n1050: PERSONAL USE ONLY, AND (2) ARE NOT DISTRIBUTED OR USED\n1051: SHAKESPEARE IS COPYRIGHT 1990-1993 BY WORLD LIBRARY, INC., AND IS\n1052: DISTRIBUTED SO LONG AS SUCH COPIES (1) ARE FOR YOUR OR OTHERS\n1053: PERSONAL USE ONLY, AND (2) ARE NOT DISTRIBUTED OR USED\n1054: SHAKESPEARE IS COPYRIGHT 1990-1993 BY WORLD LIBRARY, INC., AND IS\n1055: DISTRIBUTED SO LONG AS SUCH COPIES (1) ARE FOR YOUR OR OTHERS\n1056: PERSONAL USE ONLY, AND (2) ARE NOT DISTRIBUTED OR USED\n1057: SHAKESPEARE IS COPYRIGHT 1990-1993 BY WORLD LIBRARY, INC., AND IS\n1058: DISTRIBUTED SO LONG AS SUCH COPIES (1) ARE FOR YOUR OR OTHERS\n1059: PERSONAL USE ONLY, AND (2) ARE NOT DISTRIBUTED OR USED\n1060: SHAKESPEARE IS COPYRIGHT 1990-1993 BY WORLD LIBRARY, INC., AND IS\n1061: DISTRIBUTED SO LONG AS SUCH COPIES (1) ARE FOR YOUR OR OTHERS\n1062: PERSONAL USE ONLY, AND (2) ARE NOT DISTRIBUTED OR USED\n1063: SHAKESPEARE IS COPYRIGHT 1990-1993 BY WORLD LIBRARY, INC., AND IS\n1064: DISTRIBUTED SO LONG AS SUCH COPIES (1) ARE FOR YOUR OR OTHERS\n1065: PERSONAL USE ONLY, AND (2) ARE NOT DISTRIBUTED OR USED\n1066: 1594\n1067: SHAKESPEARE IS COPYRIGHT 1990-1993 BY WORLD LIBRARY, INC., AND IS\n1068: DISTRIBUTED SO LONG AS SUCH COPIES (1) ARE FOR YOUR OR OTHERS\n1069: PERSONAL USE ONLY, AND (2) ARE NOT DISTRIBUTED OR USED\n1070: ACT 1. SCENE I.\n1071: SHAKESPEARE IS COPYRIGHT 1990-1993 BY WORLD LIBRARY, INC., AND IS\n1072: DISTRIBUTED SO LONG AS SUCH COPIES (1) ARE FOR YOUR OR OTHERS\n1073: PERSONAL USE ONLY, AND (2) ARE NOT DISTRIBUTED OR USED\n1074: SHAKESPEARE IS COPYRIGHT 1990-1993 BY WORLD LIBRARY, INC., AND IS\n1075: DISTRIBUTED SO LONG AS SUCH COPIES (1) ARE FOR YOUR OR OTHERS\n1076: PERSONAL USE ONLY, AND (2) ARE NOT DISTRIBUTED OR USED\n1077: SHAKESPEARE IS COPYRIGHT 1990-1993 BY WORLD LIBRARY, INC., AND IS\n1078: DISTRIBUTED SO LONG AS SUCH COPIES (1) ARE FOR YOUR OR OTHERS\n1079: PERSONAL USE ONLY, AND (2) ARE NOT DISTRIBUTED OR USED\n1080: SHAKESPEARE IS COPYRIGHT 1990-1993 BY WORLD LIBRARY, INC., AND IS\n1081: DISTRIBUTED SO LONG AS SUCH COPIES (1) ARE FOR YOUR OR OTHERS\n1082: PERSONAL USE ONLY, AND (2) ARE NOT DISTRIBUTED OR USED\n1083: SHAKESPEARE IS COPYRIGHT 1990-1993 BY WORLD LIBRARY, INC., AND IS\n1084: DISTRIBUTED SO LONG AS SUCH COPIES (1) ARE FOR YOUR OR OTHERS\n1085: PERSONAL USE ONLY, AND (2) ARE NOT DISTRIBUTED OR USED\n1086: 1602\n1087: SHAKESPEARE IS COPYRIGHT 1990-1993 BY WORLD LIBRARY, INC., AND IS\n1088: DISTRIBUTED SO LONG AS SUCH COPIES (1) ARE FOR YOUR OR OTHERS\n1089: PERSONAL USE ONLY, AND (2) ARE NOT DISTRIBUTED OR USED\n1090: ACT I. SCENE 1.\n1091: ACT I. SCENE 2.\n1092: ACT I. SCENE 3.\n1093: SHAKESPEARE IS COPYRIGHT 1990-1993 BY WORLD LIBRARY, INC., AND IS\n1094: DISTRIBUTED SO LONG AS SUCH COPIES (1) ARE FOR YOUR OR OTHERS\n1095: PERSONAL USE ONLY, AND (2) ARE NOT DISTRIBUTED OR USED\n1096: ACT II. SCENE 1.\n1097: ACT II. SCENE 2.\n1098: ACT II. SCENE 3.\n1099: SHAKESPEARE IS COPYRIGHT 1990-1993 BY WORLD LIBRARY, INC., AND IS\n1100: DISTRIBUTED SO LONG AS SUCH COPIES (1) ARE FOR YOUR OR OTHERS\n1101: PERSONAL USE ONLY, AND (2) ARE NOT DISTRIBUTED OR USED\n1102: ACT III. SCENE 1.\n1103: ACT III. SCENE 2.\n1104: ACT III. SCENE 3.\n1105: SHAKESPEARE IS COPYRIGHT 1990-1993 BY WORLD LIBRARY, INC., AND IS\n1106: DISTRIBUTED SO LONG AS SUCH COPIES (1) ARE FOR YOUR OR OTHERS\n1107: PERSONAL USE ONLY, AND (2) ARE NOT DISTRIBUTED OR USED\n1108: ACT IV. SCENE 1.\n1109: ACT IV. SCENE 2.\n1110: ACT IV. SCENE 3.\n1111: ACT IV. SCENE 4.\n1112: ACT IV. SCENE 5.\n1113: SHAKESPEARE IS COPYRIGHT 1990-1993 BY WORLD LIBRARY, INC., AND IS\n1114: DISTRIBUTED SO LONG AS SUCH COPIES (1) ARE FOR YOUR OR OTHERS\n1115: PERSONAL USE ONLY, AND (2) ARE NOT DISTRIBUTED OR USED\n1116: ACT V. SCENE 1.\n1117: ACT V. SCENE 2.\n1118: ACT V. SCENE 3.\n1119: ACT V. SCENE 4.\n1120: ACT V. SCENE 5.\n1121: ACT V. SCENE 6.\n1122: ACT V. SCENE 7.\n1123: ACT V. SCENE 8.\n1124: ACT V. SCENE 9.\n1125: ACT V. SCENE 10.\n1126: SHAKESPEARE IS COPYRIGHT 1990-1993 BY WORLD LIBRARY, INC., AND IS\n1127: DISTRIBUTED SO LONG AS SUCH COPIES (1) ARE FOR YOUR OR OTHERS\n1128: PERSONAL USE ONLY, AND (2) ARE NOT DISTRIBUTED OR USED\n1129: 1602\n1130: SHAKESPEARE IS COPYRIGHT 1990-1993 BY WORLD LIBRARY, INC., AND IS\n1131: DISTRIBUTED SO LONG AS SUCH COPIES (1) ARE FOR YOUR OR OTHERS\n1132: PERSONAL USE ONLY, AND (2) ARE NOT DISTRIBUTED OR USED\n1133: SHAKESPEARE IS COPYRIGHT 1990-1993 BY WORLD LIBRARY, INC., AND IS\n1134: DISTRIBUTED SO LONG AS SUCH COPIES (1) ARE FOR YOUR OR OTHERS\n1135: PERSONAL USE ONLY, AND (2) ARE NOT DISTRIBUTED OR USED\n1136: SHAKESPEARE IS COPYRIGHT 1990-1993 BY WORLD LIBRARY, INC., AND IS\n1137: DISTRIBUTED SO LONG AS SUCH COPIES (1) ARE FOR YOUR OR OTHERS\n1138: PERSONAL USE ONLY, AND (2) ARE NOT DISTRIBUTED OR USED\n1139: SHAKESPEARE IS COPYRIGHT 1990-1993 BY WORLD LIBRARY, INC., AND IS\n1140: DISTRIBUTED SO LONG AS SUCH COPIES (1) ARE FOR YOUR OR OTHERS\n1141: PERSONAL USE ONLY, AND (2) ARE NOT DISTRIBUTED OR USED\n1142: SHAKESPEARE IS COPYRIGHT 1990-1993 BY WORLD LIBRARY, INC., AND IS\n1143: DISTRIBUTED SO LONG AS SUCH COPIES (1) ARE FOR YOUR OR OTHERS\n1144: PERSONAL USE ONLY, AND (2) ARE NOT DISTRIBUTED OR USED\n1145: SHAKESPEARE IS COPYRIGHT 1990-1993 BY WORLD LIBRARY, INC., AND IS\n1146: DISTRIBUTED SO LONG AS SUCH COPIES (1) ARE FOR YOUR OR OTHERS\n1147: PERSONAL USE ONLY, AND (2) ARE NOT DISTRIBUTED OR USED\n1148: 1595\n1149: SHAKESPEARE IS COPYRIGHT 1990-1993 BY WORLD LIBRARY, INC., AND IS\n1150: DISTRIBUTED SO LONG AS SUCH COPIES (1) ARE FOR YOUR OR OTHERS\n1151: PERSONAL USE ONLY, AND (2) ARE NOT DISTRIBUTED OR USED\n1152: SHAKESPEARE IS COPYRIGHT 1990-1993 BY WORLD LIBRARY, INC., AND IS\n1153: DISTRIBUTED SO LONG AS SUCH COPIES (1) ARE FOR YOUR OR OTHERS\n1154: PERSONAL USE ONLY, AND (2) ARE NOT DISTRIBUTED OR USED\n1155: SHAKESPEARE IS COPYRIGHT 1990-1993 BY WORLD LIBRARY, INC., AND IS\n1156: DISTRIBUTED SO LONG AS SUCH COPIES (1) ARE FOR YOUR OR OTHERS\n1157: PERSONAL USE ONLY, AND (2) ARE NOT DISTRIBUTED OR USED\n1158: ACT_4|SC_1\n1159: SHAKESPEARE IS COPYRIGHT 1990-1993 BY WORLD LIBRARY, INC., AND IS\n1160: DISTRIBUTED SO LONG AS SUCH COPIES (1) ARE FOR YOUR OR OTHERS\n1161: PERSONAL USE ONLY, AND (2) ARE NOT DISTRIBUTED OR USED\n1162: SHAKESPEARE IS COPYRIGHT 1990-1993 BY WORLD LIBRARY, INC., AND IS\n1163: DISTRIBUTED SO LONG AS SUCH COPIES (1) ARE FOR YOUR OR OTHERS\n1164: PERSONAL USE ONLY, AND (2) ARE NOT DISTRIBUTED OR USED\n1165: SHAKESPEARE IS COPYRIGHT 1990-1993 BY WORLD LIBRARY, INC., AND IS\n1166: DISTRIBUTED SO LONG AS SUCH COPIES (1) ARE FOR YOUR OR OTHERS\n1167: PERSONAL USE ONLY, AND (2) ARE NOT DISTRIBUTED OR USED\n1168: 1611\n1169: SHAKESPEARE IS COPYRIGHT 1990-1993 BY WORLD LIBRARY, INC., AND IS\n1170: DISTRIBUTED SO LONG AS SUCH COPIES (1) ARE FOR YOUR OR OTHERS\n1171: PERSONAL USE ONLY, AND (2) ARE NOT DISTRIBUTED OR USED\n1172: SHAKESPEARE IS COPYRIGHT 1990-1993 BY WORLD LIBRARY, INC., AND IS\n1173: DISTRIBUTED SO LONG AS SUCH COPIES (1) ARE FOR YOUR OR OTHERS\n1174: PERSONAL USE ONLY, AND (2) ARE NOT DISTRIBUTED OR USED\n1175: SHAKESPEARE IS COPYRIGHT 1990-1993 BY WORLD LIBRARY, INC., AND IS\n1176: DISTRIBUTED SO LONG AS SUCH COPIES (1) ARE FOR YOUR OR OTHERS\n1177: PERSONAL USE ONLY, AND (2) ARE NOT DISTRIBUTED OR USED\n1178: SHAKESPEARE IS COPYRIGHT 1990-1993 BY WORLD LIBRARY, INC., AND IS\n1179: DISTRIBUTED SO LONG AS SUCH COPIES (1) ARE FOR YOUR OR OTHERS\n1180: PERSONAL USE ONLY, AND (2) ARE NOT DISTRIBUTED OR USED\n1181: SHAKESPEARE IS COPYRIGHT 1990-1993 BY WORLD LIBRARY, INC., AND IS\n1182: DISTRIBUTED SO LONG AS SUCH COPIES (1) ARE FOR YOUR OR OTHERS\n1183: PERSONAL USE ONLY, AND (2) ARE NOT DISTRIBUTED OR USED\n1184: SHAKESPEARE IS COPYRIGHT 1990-1993 BY WORLD LIBRARY, INC., AND IS\n1185: DISTRIBUTED SO LONG AS SUCH COPIES (1) ARE FOR YOUR OR OTHERS\n1186: PERSONAL USE ONLY, AND (2) ARE NOT DISTRIBUTED OR USED\n1187: 1609\n1188: SHAKESPEARE IS COPYRIGHT 1990-1993 BY WORLD LIBRARY, INC., AND IS\n1189: DISTRIBUTED SO LONG AS SUCH COPIES (1) ARE FOR YOUR OR OTHERS\n1190: PERSONAL USE ONLY, AND (2) ARE NOT DISTRIBUTED OR USED\n"
     ]
    }
   ],
   "source": [
    "for i, sample in enumerate(samples.collect()):\n",
    "    print(f'{i}: {sample}')"
   ]
  },
  {
   "source": [
    "d) Tự làm một pattern cho regular expression."
   ],
   "cell_type": "markdown",
   "metadata": {}
  },
  {
   "cell_type": "code",
   "execution_count": 16,
   "metadata": {},
   "outputs": [],
   "source": [
    "my_pattern = '[\\W_]+' # tìm các kí tự ko thuộc bảng chữ cái alphabet"
   ]
  },
  {
   "cell_type": "code",
   "execution_count": 17,
   "metadata": {},
   "outputs": [],
   "source": [
    "no_nonalphabet = rdd.filter(lambda s: re.match(my_pattern, s)).count()"
   ]
  },
  {
   "cell_type": "code",
   "execution_count": 18,
   "metadata": {},
   "outputs": [
    {
     "output_type": "execute_result",
     "data": {
      "text/plain": [
       "110122"
      ]
     },
     "metadata": {},
     "execution_count": 18
    }
   ],
   "source": [
    "no_nonalphabet"
   ]
  },
  {
   "cell_type": "code",
   "execution_count": 19,
   "metadata": {},
   "outputs": [],
   "source": [
    "samples2 = rdd.filter(lambda s: re.match(my_pattern, s))"
   ]
  },
  {
   "cell_type": "code",
   "execution_count": 20,
   "metadata": {
    "tags": [
     "outputPrepend"
    ]
   },
   "outputs": [
    {
     "output_type": "stream",
     "name": "stdout",
     "text": [
      "    Like an old tale; but it appears she lives\n",
      "109750:     Though yet she speak not. Mark a little while.\n",
      "109751:     Please you to interpose, fair madam. Kneel,\n",
      "109752:     And pray your mother's blessing. Turn, good lady;\n",
      "109753:     Our Perdita is found.\n",
      "109754:   HERMIONE. You gods, look down,\n",
      "109755:     And from your sacred vials pour your graces\n",
      "109756:     Upon my daughter's head! Tell me, mine own,\n",
      "109757:     Where hast thou been preserv'd? Where liv'd? How found\n",
      "109758:     Thy father's court? For thou shalt hear that I,\n",
      "109759:     Knowing by Paulina that the oracle  \n",
      "109760:     Gave hope thou wast in being, have preserv'd\n",
      "109761:     Myself to see the issue.\n",
      "109762:   PAULINA. There's time enough for that,\n",
      "109763:     Lest they desire upon this push to trouble\n",
      "109764:     Your joys with like relation. Go together,\n",
      "109765:     You precious winners all; your exultation\n",
      "109766:     Partake to every one. I, an old turtle,\n",
      "109767:     Will wing me to some wither'd bough, and there\n",
      "109768:     My mate, that's never to be found again,\n",
      "109769:     Lament till I am lost.\n",
      "109770:   LEONTES. O peace, Paulina!\n",
      "109771:     Thou shouldst a husband take by my consent,\n",
      "109772:     As I by thine a wife. This is a match,\n",
      "109773:     And made between's by vows. Thou hast found mine;\n",
      "109774:     But how, is to be question'd; for I saw her,\n",
      "109775:     As I thought, dead; and have, in vain, said many\n",
      "109776:     A prayer upon her grave. I'll not seek far-\n",
      "109777:     For him, I partly know his mind- to find thee\n",
      "109778:     An honourable husband. Come, Camillo,\n",
      "109779:     And take her by the hand whose worth and honesty  \n",
      "109780:     Is richly noted, and here justified\n",
      "109781:     By us, a pair of kings. Let's from this place.\n",
      "109782:     What! look upon my brother. Both your pardons,\n",
      "109783:     That e'er I put between your holy looks\n",
      "109784:     My ill suspicion. This your son-in-law,\n",
      "109785:     And son unto the King, whom heavens directing,\n",
      "109786:     Is troth-plight to your daughter. Good Paulina,\n",
      "109787:     Lead us from hence where we may leisurely\n",
      "109788:     Each one demand and answer to his part\n",
      "109789:     Perform'd in this wide gap of time since first\n",
      "109790:     We were dissever'd. Hastily lead away.                Exeunt\n",
      "109791: <<THIS ELECTRONIC VERSION OF THE COMPLETE WORKS OF WILLIAM\n",
      "109792:   From off a hill whose concave womb reworded\n",
      "109793:   A plaintful story from a sist'ring vale,\n",
      "109794:   My spirits t'attend this double voice accorded,\n",
      "109795:   And down I laid to list the sad-tuned tale,\n",
      "109796:   Ere long espied a fickle maid full pale,\n",
      "109797:   Tearing of papers, breaking rings atwain,\n",
      "109798:   Storming her world with sorrow's wind and rain.\n",
      "109799:   Upon her head a platted hive of straw,\n",
      "109800:   Which fortified her visage from the sun,\n",
      "109801:   Whereon the thought might think sometime it saw\n",
      "109802:   The carcase of a beauty spent and done.\n",
      "109803:   Time had not scythed all that youth begun,\n",
      "109804:   Nor youth all quit, but spite of heaven's fell rage\n",
      "109805:   Some beauty peeped through lattice of seared age.\n",
      "109806:   Oft did she heave her napkin to her eyne,\n",
      "109807:   Which on it had conceited characters,\n",
      "109808:   Laund'ring the silken figures in the brine\n",
      "109809:   That seasoned woe had pelleted in tears,\n",
      "109810:   And often reading what contents it bears;  \n",
      "109811:   As often shrieking undistinguished woe,\n",
      "109812:   In clamours of all size, both high and low.\n",
      "109813:   Sometimes her levelled eyes their carriage ride,\n",
      "109814:   As they did batt'ry to the spheres intend;\n",
      "109815:   Sometime diverted their poor balls are tied\n",
      "109816:   To th' orbed earth; sometimes they do extend\n",
      "109817:   Their view right on; anon their gazes lend\n",
      "109818:   To every place at once, and nowhere fixed,\n",
      "109819:   The mind and sight distractedly commixed.\n",
      "109820:   Her hair, nor loose nor tied in formal plat,\n",
      "109821:   Proclaimed in her a careless hand of pride;\n",
      "109822:   For some, untucked, descended her sheaved hat,\n",
      "109823:   Hanging her pale and pined cheek beside;\n",
      "109824:   Some in her threaden fillet still did bide,\n",
      "109825:   And, true to bondage, would not break from thence,\n",
      "109826:   Though slackly braided in loose negligence.\n",
      "109827:   A thousand favours from a maund she drew  \n",
      "109828:   Of amber, crystal, and of beaded jet,\n",
      "109829:   Which one by one she in a river threw,\n",
      "109830:   Upon whose weeping margent she was set;\n",
      "109831:   Like usury applying wet to wet,\n",
      "109832:   Or monarchs' hands that lets not bounty fall\n",
      "109833:   Where want cries some, but where excess begs all.\n",
      "109834:   Of folded schedules had she many a one,\n",
      "109835:   Which she perused, sighed, tore, and gave the flood;\n",
      "109836:   Cracked many a ring of posied gold and bone,\n",
      "109837:   Bidding them find their sepulchres in mud;\n",
      "109838:   Found yet moe letters sadly penned in blood,\n",
      "109839:   With sleided silk feat and affectedly\n",
      "109840:   Enswathed and sealed to curious secrecy.\n",
      "109841:   These often bathed she in her fluxive eyes,\n",
      "109842:   And often kissed, and often 'gan to tear;\n",
      "109843:   Cried, 'O false blood, thou register of lies,\n",
      "109844:   What unapproved witness dost thou bear!\n",
      "109845:   Ink would have seemed more black and damned here!  \n",
      "109846:   This said, in top of rage the lines she rents,\n",
      "109847:   Big discontents so breaking their contents.\n",
      "109848:   A reverend man that grazed his cattle nigh,\n",
      "109849:   Sometime a blusterer that the ruffle knew\n",
      "109850:   Of court, of city, and had let go by\n",
      "109851:   The swiftest hours observed as they flew,\n",
      "109852:   Towards this afflicted fancy fastly drew;\n",
      "109853:   And, privileged by age, desires to know\n",
      "109854:   In brief the grounds and motives of her woe.\n",
      "109855:   So slides he down upon his grained bat,\n",
      "109856:   And comely distant sits he by her side;\n",
      "109857:   When he again desires her, being sat,\n",
      "109858:   Her grievance with his hearing to divide.\n",
      "109859:   If that from him there may be aught applied\n",
      "109860:   Which may her suffering ecstasy assuage,\n",
      "109861:   'Tis promised in the charity of age.\n",
      "109862:   'Father,' she says, 'though in me you behold  \n",
      "109863:   The injury of many a blasting hour,\n",
      "109864:   Let it not tell your judgement I am old:\n",
      "109865:   Not age, but sorrow, over me hath power.\n",
      "109866:   I might as yet have been a spreading flower,\n",
      "109867:   Fresh to myself, if I had self-applied\n",
      "109868:   Love to myself, and to no love beside.\n",
      "109869:   'But woe is me! too early I attended\n",
      "109870:   A youthful suit- it was to gain my grace-\n",
      "109871:   O, one by nature's outwards so commended\n",
      "109872:   That maidens' eyes stuck over all his face.\n",
      "109873:   Love lacked a dwelling and made him her place;\n",
      "109874:   And when in his fair parts she did abide,\n",
      "109875:   She was new lodged and newly deified.\n",
      "109876:   'His browny locks did hang in crooked curls;\n",
      "109877:   And every light occasion of the wind\n",
      "109878:   Upon his lips their silken parcels hurls.\n",
      "109879:   What's sweet to do, to do will aptly find:\n",
      "109880:   Each eye that saw him did enchant the mind;  \n",
      "109881:   For on his visage was in little drawn\n",
      "109882:   What largeness thinks in Paradise was sawn.\n",
      "109883:   'Small show of man was yet upon his chin;\n",
      "109884:   His phoenix down began but to appear,\n",
      "109885:   Like unshorn velvet, on that termless skin,\n",
      "109886:   Whose bare out-bragged the web it seemed to wear:\n",
      "109887:   Yet showed his visage by that cost more dear;\n",
      "109888:   And nice affections wavering stood in doubt\n",
      "109889:   If best were as it was, or best without.\n",
      "109890:   'His qualities were beauteous as his form,\n",
      "109891:   For maiden-tongued he was, and thereof free;\n",
      "109892:   Yet if men moved him, was he such a storm\n",
      "109893:   As oft 'twixt May and April is to see,\n",
      "109894:   When winds breathe sweet, unruly though they be.\n",
      "109895:   His rudeness so with his authorized youth\n",
      "109896:   Did livery falseness in a pride of truth.\n",
      "109897:   'Well could he ride, and often men would say,  \n",
      "109898:   \"That horse his mettle from his rider takes:\n",
      "109899:   Proud of subjection, noble by the sway,\n",
      "109900:   What rounds, what bounds, what course, what stop he makes!\"\n",
      "109901:   And controversy hence a question takes\n",
      "109902:   Whether the horse by him became his deed,\n",
      "109903:   Or he his manage by th' well-doing steed.\n",
      "109904:   'But quickly on this side the verdict went:\n",
      "109905:   His real habitude gave life and grace\n",
      "109906:   To appertainings and to ornament,\n",
      "109907:   Accomplished in himself, not in his case,\n",
      "109908:   All aids, themselves made fairer by their place,\n",
      "109909:   Came for additions; yet their purposed trim\n",
      "109910:   Pierced not his grace, but were all graced by him.\n",
      "109911:   'So on the tip of his subduing tongue\n",
      "109912:   All kind of arguments and question deep,\n",
      "109913:   All replication prompt, and reason strong,\n",
      "109914:   For his advantage still did wake and sleep.\n",
      "109915:   To make the weeper laugh, the laugher weep,  \n",
      "109916:   He had the dialect and different skill,\n",
      "109917:   Catching all passions in his craft of will,\n",
      "109918:   'That he did in the general bosom reign\n",
      "109919:   Of young, of old, and sexes both enchanted,\n",
      "109920:   To dwell with him in thoughts, or to remain\n",
      "109921:   In personal duty, following where he haunted.\n",
      "109922:   Consents bewitched, ere he desire, have granted,\n",
      "109923:   And dialogued for him what he would say,\n",
      "109924:   Asked their own wills, and made their wills obey.\n",
      "109925:   'Many there were that did his picture get,\n",
      "109926:   To serve their eyes, and in it put their mind;\n",
      "109927:   Like fools that in th' imagination set\n",
      "109928:   The goodly objects which abroad they find\n",
      "109929:   Of lands and mansions, theirs in thought assigned;\n",
      "109930:   And labouring in moe pleasures to bestow them\n",
      "109931:   Than the true gouty landlord which doth owe them.\n",
      "109932:   'So many have, that never touched his hand,  \n",
      "109933:   Sweetly supposed them mistress of his heart.\n",
      "109934:   My woeful self, that did in freedom stand,\n",
      "109935:   And was my own fee-simple, not in part,\n",
      "109936:   What with his art in youth, and youth in art,\n",
      "109937:   Threw my affections in his charmed power\n",
      "109938:   Reserved the stalk and gave him all my flower.\n",
      "109939:   'Yet did I not, as some my equals did,\n",
      "109940:   Demand of him, nor being desired yielded;\n",
      "109941:   Finding myself in honour so forbid,\n",
      "109942:   With safest distance I mine honour shielded.\n",
      "109943:   Experience for me many bulwarks builded\n",
      "109944:   Of proofs new-bleeding, which remained the foil\n",
      "109945:   Of this false jewel, and his amorous spoil.\n",
      "109946:   'But ah, who ever shunned by precedent\n",
      "109947:   The destined ill she must herself assay?\n",
      "109948:   Or forced examples, 'gainst her own content,\n",
      "109949:   To put the by-past perils in her way?\n",
      "109950:   Counsel may stop awhile what will not stay;  \n",
      "109951:   For when we rage, advice is often seen\n",
      "109952:   By blunting us to make our wills more keen.\n",
      "109953:   'Nor gives it satisfaction to our blood\n",
      "109954:   That we must curb it upon others' proof,\n",
      "109955:   To be forbod the sweets that seems so good\n",
      "109956:   For fear of harms that preach in our behoof.\n",
      "109957:   O appetite, from judgement stand aloof!\n",
      "109958:   The one a palate hath that needs will taste,\n",
      "109959:   Though Reason weep, and cry it is thy last.\n",
      "109960:   'For further I could say this man's untrue,\n",
      "109961:   And knew the patterns of his foul beguiling;\n",
      "109962:   Heard where his plants in others' orchards grew;\n",
      "109963:   Saw how deceits were gilded in his smiling;\n",
      "109964:   Knew vows were ever brokers to defiling;\n",
      "109965:   Thought characters and words merely but art,\n",
      "109966:   And bastards of his foul adulterate heart.\n",
      "109967:   'And long upon these terms I held my city,  \n",
      "109968:   Till thus he 'gan besiege me: \"Gentle maid,\n",
      "109969:   Have of my suffering youth some feeling pity,\n",
      "109970:   And be not of my holy vows afraid.\n",
      "109971:   That's to ye sworn to none was ever said;\n",
      "109972:   For feasts of love I have been called unto,\n",
      "109973:   Till now did ne'er invite nor never woo.\n",
      "109974:   '\"All my offences that abroad you see\n",
      "109975:   Are errors of the blood, none of the mind;\n",
      "109976:   Love made them not; with acture they may be,\n",
      "109977:   Where neither party is nor true nor kind.\n",
      "109978:   They sought their shame that so their shame did find;\n",
      "109979:   And so much less of shame in me remains\n",
      "109980:   By how much of me their reproach contains.\n",
      "109981:   '\"Among the many that mine eyes have seen,\n",
      "109982:   Not one whose flame my heart so much as warmed,\n",
      "109983:   Or my affection put to th' smallest teen,\n",
      "109984:   Or any of my leisures ever charmed.\n",
      "109985:   Harm have I done to them, but ne'er was harmed;  \n",
      "109986:   Kept hearts in liveries, but mine own was free,\n",
      "109987:   And reigned commanding in his monarchy.\n",
      "109988:   '\"Look here what tributes wounded fancies sent me,\n",
      "109989:   Of paled pearls and rubies red as blood;\n",
      "109990:   Figuring that they their passions likewise lent me\n",
      "109991:   Of grief and blushes, aptly understood\n",
      "109992:   In bloodless white and the encrimsoned mood-\n",
      "109993:   Effects of terror and dear modesty,\n",
      "109994:   Encamped in hearts, but fighting outwardly.\n",
      "109995:   '\"And, lo, behold these talents of their hair,\n",
      "109996:   With twisted metal amorously empleached,\n",
      "109997:   I have receiv'd from many a several fair,\n",
      "109998:   Their kind acceptance weepingly beseeched,\n",
      "109999:   With the annexions of fair gems enriched,\n",
      "110000:   And deep-brained sonnets that did amplify\n",
      "110001:   Each stone's dear nature, worth, and quality.\n",
      "110002:   '\"The diamond? why, 'twas beautiful and hard,  \n",
      "110003:   Whereto his invised properties did tend;\n",
      "110004:   The deep-green em'rald, in whose fresh regard\n",
      "110005:   Weak sights their sickly radiance do amend;\n",
      "110006:   The heaven-hued sapphire and the opal blend\n",
      "110007:   With objects manifold; each several stone,\n",
      "110008:   With wit well blazoned, smiled, or made some moan.\n",
      "110009:   '\"Lo, all these trophies of affections hot,\n",
      "110010:   Of pensived and subdued desires the tender,\n",
      "110011:   Nature hath charged me that I hoard them not,\n",
      "110012:   But yield them up where I myself must render-\n",
      "110013:   That is, to you, my origin and ender;\n",
      "110014:   For these, of force, must your oblations be,\n",
      "110015:   Since I their altar, you enpatron me.\n",
      "110016:   '\"O then advance of yours that phraseless hand\n",
      "110017:   Whose white weighs down the airy scale of praise;\n",
      "110018:   Take all these similes to your own command,\n",
      "110019:   Hallowed with sighs that burning lungs did raise;\n",
      "110020:   What me your minister for you obeys  \n",
      "110021:   Works under you; and to your audit comes\n",
      "110022:   Their distract parcels in combined sums.\n",
      "110023:   '\"Lo, this device was sent me from a nun,\n",
      "110024:   Or sister sanctified, of holiest note,\n",
      "110025:   Which late her noble suit in court did shun,\n",
      "110026:   Whose rarest havings made the blossoms dote;\n",
      "110027:   For she was sought by spirits of richest coat,\n",
      "110028:   But kept cold distance, and did thence remove\n",
      "110029:   To spend her living in eternal love.\n",
      "110030:   '\"But, O my sweet, what labour is't to leave\n",
      "110031:   The thing we have not, mast'ring what not strives,\n",
      "110032:   Playing the place which did no form receive,\n",
      "110033:   Playing patient sports in unconstrained gyves!\n",
      "110034:   She that her fame so to herself contrives,\n",
      "110035:   The scars of battle scapeth by the flight,\n",
      "110036:   And makes her absence valiant, not her might.\n",
      "110037:   '\"O pardon me in that my boast is true!  \n",
      "110038:   The accident which brought me to her eye\n",
      "110039:   Upon the moment did her force subdue,\n",
      "110040:   And now she would the caged cloister fly.\n",
      "110041:   Religious love put out religion's eye.\n",
      "110042:   Not to be tempted, would she be immured,\n",
      "110043:   And now to tempt all liberty procured.\n",
      "110044:   '\"How mighty then you are, O hear me tell!\n",
      "110045:   The broken bosoms that to me belong\n",
      "110046:   Have emptied all their fountains in my well,\n",
      "110047:   And mine I pour your ocean all among.\n",
      "110048:   I strong o'er them, and you o'er me being strong,\n",
      "110049:   Must for your victory us all congest,\n",
      "110050:   As compound love to physic your cold breast.\n",
      "110051:   '\"My parts had pow'r to charm a sacred nun,\n",
      "110052:   Who, disciplined, ay, dieted in grace,\n",
      "110053:   Believed her eyes when they t'assail begun,\n",
      "110054:   All vows and consecrations giving place,\n",
      "110055:   O most potential love, vow, bond, nor space,  \n",
      "110056:   In thee hath neither sting, knot, nor confine,\n",
      "110057:   For thou art all, and all things else are thine.\n",
      "110058:   '\"When thou impressest, what are precepts worth\n",
      "110059:   Of stale example? When thou wilt inflame,\n",
      "110060:   How coldly those impediments stand forth,\n",
      "110061:   Of wealth, of filial fear, law, kindred, fame!\n",
      "110062:   Love's arms are peace, 'gainst rule, 'gainst sense, 'gainst shame.\n",
      "110063:   And sweetens, in the suff'ring pangs it bears,\n",
      "110064:   The aloes of all forces, shocks and fears.\n",
      "110065:   '\"Now all these hearts that do on mine depend,\n",
      "110066:   Feeling it break, with bleeding groans they pine,\n",
      "110067:   And supplicant their sighs to your extend,\n",
      "110068:   To leave the batt'ry that you make 'gainst mine,\n",
      "110069:   Lending soft audience to my sweet design,\n",
      "110070:   And credent soul to that strong-bonded oath,\n",
      "110071:   That shall prefer and undertake my troth.\"\n",
      "110072:   'This said, his wat'ry eyes he did dismount,  \n",
      "110073:   Whose sights till then were levelled on my face;\n",
      "110074:   Each cheek a river running from a fount\n",
      "110075:   With brinish current downward flowed apace.\n",
      "110076:   O, how the channel to the stream gave grace!\n",
      "110077:   Who glazed with crystal gate the glowing roses\n",
      "110078:   That flame through water which their hue encloses.\n",
      "110079:   'O father, what a hell of witchcraft lies\n",
      "110080:   In the small orb of one particular tear!\n",
      "110081:   But with the inundation of the eyes\n",
      "110082:   What rocky heart to water will not wear?\n",
      "110083:   What breast so cold that is not warmed here?\n",
      "110084:   O cleft effect! cold modesty, hot wrath,\n",
      "110085:   Both fire from hence and chill extincture hath.\n",
      "110086:   'For lo, his passion, but an art of craft,\n",
      "110087:   Even there resolved my reason into tears;\n",
      "110088:   There my white stole of chastity I daffed,\n",
      "110089:   Shook off my sober guards and civil fears;\n",
      "110090:   Appear to him as he to me appears,  \n",
      "110091:   All melting; though our drops this diff'rence bore:\n",
      "110092:   His poisoned me, and mine did him restore.\n",
      "110093:   'In him a plenitude of subtle matter,\n",
      "110094:   Applied to cautels, all strange forms receives,\n",
      "110095:   Of burning blushes or of weeping water,\n",
      "110096:   Or swooning paleness; and he takes and leaves,\n",
      "110097:   In either's aptness, as it best deceives,\n",
      "110098:   To blush at speeches rank, to weep at woes,\n",
      "110099:   Or to turn white and swoon at tragic shows;\n",
      "110100:   'That not a heart which in his level came\n",
      "110101:   Could scape the hail of his all-hurting aim,\n",
      "110102:   Showing fair nature is both kind and tame;\n",
      "110103:   And, veiled in them, did win whom he would maim.\n",
      "110104:   Against the thing he sought he would exclaim;\n",
      "110105:   When he most burned in heart-wished luxury,\n",
      "110106:   He preached pure maid and praised cold chastity.\n",
      "110107:   'Thus merely with the garment of a Grace  \n",
      "110108:   The naked and concealed fiend he covered,\n",
      "110109:   That th' unexperient gave the tempter place,\n",
      "110110:   Which, like a cherubin, above them hovered.\n",
      "110111:   Who, young and simple, would not be so lovered?\n",
      "110112:   Ay me, I fell, and yet do question make\n",
      "110113:   What I should do again for such a sake.\n",
      "110114:   'O, that infected moisture of his eye,\n",
      "110115:   O, that false fire which in his cheek so glowed,\n",
      "110116:   O, that forced thunder from his heart did fly,\n",
      "110117:   O, that sad breath his spongy lungs bestowed,\n",
      "110118:   O, all that borrowed motion, seeming owed,\n",
      "110119:   Would yet again betray the fore-betrayed,\n",
      "110120:   And new pervert a reconciled maid.'\n",
      "110121: <<THIS ELECTRONIC VERSION OF THE COMPLETE WORKS OF WILLIAM\n"
     ]
    }
   ],
   "source": [
    "for i, sample in enumerate(samples2.collect()):\n",
    "    print(f'{i}: {sample}')"
   ]
  },
  {
   "cell_type": "code",
   "execution_count": null,
   "metadata": {},
   "outputs": [],
   "source": []
  }
 ]
}