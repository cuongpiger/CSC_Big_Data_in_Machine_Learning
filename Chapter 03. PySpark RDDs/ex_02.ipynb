{
 "metadata": {
  "language_info": {
   "codemirror_mode": {
    "name": "ipython",
    "version": 3
   },
   "file_extension": ".py",
   "mimetype": "text/x-python",
   "name": "python",
   "nbconvert_exporter": "python",
   "pygments_lexer": "ipython3",
   "version": "3.8.5-final"
  },
  "orig_nbformat": 2,
  "kernelspec": {
   "name": "python38564bit207240a302f84cf383d7b6dbf8fca3f2",
   "display_name": "Python 3.8.5 64-bit"
  },
  "metadata": {
   "interpreter": {
    "hash": "31f2aee4e71d21fbe5cf8b01ff0e069b9275f58929596ceb00d14d90e3e16cd6"
   }
  }
 },
 "nbformat": 4,
 "nbformat_minor": 2,
 "cells": [
  {
   "source": [
    "![](./images/01.jpg)"
   ],
   "cell_type": "markdown",
   "metadata": {}
  },
  {
   "cell_type": "code",
   "execution_count": 1,
   "metadata": {},
   "outputs": [],
   "source": [
    "%load_ext autoreload\n",
    "%autoreload 2"
   ]
  },
  {
   "cell_type": "code",
   "execution_count": 2,
   "metadata": {},
   "outputs": [],
   "source": [
    "import math\n",
    "from modules.pyspark import *"
   ]
  },
  {
   "cell_type": "code",
   "execution_count": 3,
   "metadata": {},
   "outputs": [],
   "source": [
    "spark = CPySpark()"
   ]
  },
  {
   "cell_type": "code",
   "execution_count": 4,
   "metadata": {},
   "outputs": [
    {
     "output_type": "execute_result",
     "data": {
      "text/plain": [
       "<SparkContext master=local appName=pyspark-shell>"
      ],
      "text/html": "\n        <div>\n            <p><b>SparkContext</b></p>\n\n            <p><a href=\"http://192.168.1.10:4043\">Spark UI</a></p>\n\n            <dl>\n              <dt>Version</dt>\n                <dd><code>v3.1.1</code></dd>\n              <dt>Master</dt>\n                <dd><code>local</code></dd>\n              <dt>AppName</dt>\n                <dd><code>pyspark-shell</code></dd>\n            </dl>\n        </div>\n        "
     },
     "metadata": {},
     "execution_count": 4
    }
   ],
   "source": [
    "spark.sc"
   ]
  },
  {
   "source": [
    "# Task 1"
   ],
   "cell_type": "markdown",
   "metadata": {}
  },
  {
   "cell_type": "code",
   "execution_count": 5,
   "metadata": {},
   "outputs": [],
   "source": [
    "points = spark.rdd(file=r'./data/5000_points.txt', min_partitions=3)"
   ]
  },
  {
   "source": [
    "<hr>"
   ],
   "cell_type": "markdown",
   "metadata": {}
  },
  {
   "cell_type": "code",
   "execution_count": 6,
   "metadata": {},
   "outputs": [],
   "source": [
    "points_size = len(points)"
   ]
  },
  {
   "source": [
    "print(f'Có {points_size} element trong data points')"
   ],
   "cell_type": "code",
   "metadata": {},
   "execution_count": 7,
   "outputs": [
    {
     "output_type": "stream",
     "name": "stdout",
     "text": [
      "Có 5000 element trong data points\n"
     ]
    }
   ]
  },
  {
   "source": [
    "<hr>"
   ],
   "cell_type": "markdown",
   "metadata": {}
  },
  {
   "cell_type": "code",
   "execution_count": 8,
   "metadata": {},
   "outputs": [
    {
     "output_type": "execute_result",
     "data": {
      "text/plain": [
       "['664159\\t550946',\n",
       " '665845\\t557965',\n",
       " '597173\\t575538',\n",
       " '618600\\t551446',\n",
       " '635690\\t608046']"
      ]
     },
     "metadata": {},
     "execution_count": 8
    }
   ],
   "source": [
    "points.getHead()"
   ]
  },
  {
   "source": [
    "# Task 2"
   ],
   "cell_type": "markdown",
   "metadata": {}
  },
  {
   "cell_type": "code",
   "execution_count": 9,
   "metadata": {},
   "outputs": [],
   "source": [
    "pair_data = points.map(lambda row: (int(row.split('\\t')[0]), int(row.split('\\t')[1])))"
   ]
  },
  {
   "cell_type": "code",
   "execution_count": 10,
   "metadata": {},
   "outputs": [
    {
     "output_type": "execute_result",
     "data": {
      "text/plain": [
       "[(664159, 550946),\n",
       " (665845, 557965),\n",
       " (597173, 575538),\n",
       " (618600, 551446),\n",
       " (635690, 608046)]"
      ]
     },
     "metadata": {},
     "execution_count": 10
    }
   ],
   "source": [
    "pair_data.getHead()"
   ]
  },
  {
   "source": [
    "# Task 3"
   ],
   "cell_type": "markdown",
   "metadata": {}
  },
  {
   "cell_type": "code",
   "execution_count": 11,
   "metadata": {},
   "outputs": [],
   "source": [
    "pair_data_sort = pair_data.sort('key', ascending=False)"
   ]
  },
  {
   "cell_type": "code",
   "execution_count": 12,
   "metadata": {},
   "outputs": [
    {
     "output_type": "execute_result",
     "data": {
      "text/plain": [
       "[(961951, 577029),\n",
       " (937823, 540173),\n",
       " (932662, 537069),\n",
       " (927170, 250593),\n",
       " (925732, 210388)]"
      ]
     },
     "metadata": {},
     "execution_count": 12
    }
   ],
   "source": [
    "pair_data_sort.getHead()"
   ]
  },
  {
   "source": [
    "# Task 4"
   ],
   "cell_type": "markdown",
   "metadata": {}
  },
  {
   "cell_type": "code",
   "execution_count": 13,
   "metadata": {},
   "outputs": [
    {
     "output_type": "stream",
     "name": "stdout",
     "text": [
      "Key 871544: 2\nKey 865489: 2\nKey 838036: 2\nKey 826192: 2\nKey 805089: 2\nKey 804251: 2\nKey 620330: 2\nKey 618869: 2\nKey 393758: 2\nKey 341966: 2\nKey 338474: 2\nKey 186380: 2\nKey 166973: 2\n"
     ]
    }
   ],
   "source": [
    "for key, val in pair_data_sort.count().items():\n",
    "    if val > 1:\n",
    "        print(f\"Key {key}: {val}\")"
   ]
  },
  {
   "source": [
    "# Task 5"
   ],
   "cell_type": "markdown",
   "metadata": {}
  },
  {
   "cell_type": "code",
   "execution_count": 14,
   "metadata": {},
   "outputs": [],
   "source": [
    "pair_data_groupby = pair_data_sort.group()"
   ]
  },
  {
   "cell_type": "code",
   "execution_count": 15,
   "metadata": {},
   "outputs": [
    {
     "output_type": "stream",
     "name": "stdout",
     "text": [
      "Key 805089: [762512, 96540]\nKey 865489: [161762, 548920]\nKey 838036: [749612, 542999]\nKey 826192: [172906, 577784]\nKey 871544: [144135, 592403]\nKey 804251: [329956, 331304]\nKey 620330: [398630, 396776]\nKey 618869: [577243, 398187]\nKey 393758: [750953, 439738]\nKey 341966: [561987, 586266]\nKey 338474: [563350, 564151]\nKey 186380: [363938, 487625]\nKey 166973: [341636, 334724]\n"
     ]
    }
   ],
   "source": [
    "for key, itemset in pair_data_groupby.toNdarray():\n",
    "    if len(list(itemset)) > 1:\n",
    "        print(f\"Key {key}: {list(itemset)}\")"
   ]
  },
  {
   "source": [
    "# Task 6"
   ],
   "cell_type": "markdown",
   "metadata": {}
  },
  {
   "cell_type": "code",
   "execution_count": 16,
   "metadata": {},
   "outputs": [],
   "source": [
    "lda = lambda x, y: max(x, y)"
   ]
  },
  {
   "cell_type": "code",
   "execution_count": 17,
   "metadata": {},
   "outputs": [],
   "source": [
    "pair_data_reduce = pair_data_sort.reduce(lda, 'key')"
   ]
  },
  {
   "cell_type": "code",
   "execution_count": 18,
   "metadata": {},
   "outputs": [
    {
     "output_type": "execute_result",
     "data": {
      "text/plain": [
       "[(925485, 596955),\n",
       " (916704, 609548),\n",
       " (915666, 506439),\n",
       " (915504, 527751),\n",
       " (913686, 576892)]"
      ]
     },
     "metadata": {},
     "execution_count": 18
    }
   ],
   "source": [
    "pair_data_reduce.getHead()"
   ]
  },
  {
   "cell_type": "code",
   "execution_count": 19,
   "metadata": {},
   "outputs": [
    {
     "output_type": "stream",
     "name": "stdout",
     "text": [
      "Số lượng phần tử của pair_data_reduce là 4987\n"
     ]
    }
   ],
   "source": [
    "print(f\"Số lượng phần tử của pair_data_reduce là {len(pair_data_reduce)}\")"
   ]
  },
  {
   "cell_type": "code",
   "execution_count": null,
   "metadata": {},
   "outputs": [],
   "source": []
  }
 ]
}