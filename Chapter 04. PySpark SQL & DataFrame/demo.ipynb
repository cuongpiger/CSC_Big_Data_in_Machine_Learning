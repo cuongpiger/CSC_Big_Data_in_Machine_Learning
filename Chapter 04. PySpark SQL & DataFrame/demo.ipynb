{
 "metadata": {
  "language_info": {
   "codemirror_mode": {
    "name": "ipython",
    "version": 3
   },
   "file_extension": ".py",
   "mimetype": "text/x-python",
   "name": "python",
   "nbconvert_exporter": "python",
   "pygments_lexer": "ipython3",
   "version": "3.8.5-final"
  },
  "orig_nbformat": 2,
  "kernelspec": {
   "name": "python38564bit207240a302f84cf383d7b6dbf8fca3f2",
   "display_name": "Python 3.8.5 64-bit"
  },
  "metadata": {
   "interpreter": {
    "hash": "31f2aee4e71d21fbe5cf8b01ff0e069b9275f58929596ceb00d14d90e3e16cd6"
   }
  }
 },
 "nbformat": 4,
 "nbformat_minor": 2,
 "cells": [
  {
   "cell_type": "code",
   "execution_count": 1,
   "metadata": {},
   "outputs": [],
   "source": [
    "%load_ext autoreload\n",
    "%autoreload 2"
   ]
  },
  {
   "cell_type": "code",
   "execution_count": 2,
   "metadata": {},
   "outputs": [],
   "source": [
    "from modules.pyspark import CPySpark\n",
    "from pyspark.sql import Row, SQLContext"
   ]
  },
  {
   "cell_type": "code",
   "execution_count": 3,
   "metadata": {},
   "outputs": [],
   "source": [
    "spark = CPySpark(session=True, sql=True)"
   ]
  },
  {
   "cell_type": "code",
   "execution_count": 4,
   "metadata": {},
   "outputs": [
    {
     "output_type": "execute_result",
     "data": {
      "text/plain": [
       "<SparkContext master=local appName=pyspark-shell>"
      ],
      "text/html": "\n        <div>\n            <p><b>SparkContext</b></p>\n\n            <p><a href=\"http://192.168.43.86:4043\">Spark UI</a></p>\n\n            <dl>\n              <dt>Version</dt>\n                <dd><code>v3.1.1</code></dd>\n              <dt>Master</dt>\n                <dd><code>local</code></dd>\n              <dt>AppName</dt>\n                <dd><code>pyspark-shell</code></dd>\n            </dl>\n        </div>\n        "
     },
     "metadata": {},
     "execution_count": 4
    }
   ],
   "source": [
    "spark.context"
   ]
  },
  {
   "cell_type": "code",
   "execution_count": 6,
   "metadata": {},
   "outputs": [],
   "source": [
    "lst = [\n",
    "    ('John', 10),\n",
    "    ('Lyna', 9),\n",
    "    ('Samathan', 8),\n",
    "    ('Tony', 10)\n",
    "]\n",
    "rdd = spark.rdd(data=lst)"
   ]
  },
  {
   "cell_type": "code",
   "execution_count": 7,
   "metadata": {},
   "outputs": [],
   "source": [
    "people = rdd.map(lambda x: Row(name=x[0], marks=int(x[1])))"
   ]
  },
  {
   "cell_type": "code",
   "execution_count": 8,
   "metadata": {},
   "outputs": [],
   "source": [
    "schema_people = spark.dataframe(people)"
   ]
  },
  {
   "cell_type": "code",
   "execution_count": 9,
   "metadata": {},
   "outputs": [
    {
     "output_type": "execute_result",
     "data": {
      "text/plain": [
       "DataFrame[name: string, marks: bigint]"
      ]
     },
     "metadata": {},
     "execution_count": 9
    }
   ],
   "source": [
    "schema_people.schema()"
   ]
  },
  {
   "cell_type": "code",
   "execution_count": 10,
   "metadata": {},
   "outputs": [
    {
     "output_type": "stream",
     "name": "stdout",
     "text": [
      "+--------+-----+\n|    name|marks|\n+--------+-----+\n|    John|   10|\n|    Lyna|    9|\n|Samathan|    8|\n+--------+-----+\nonly showing top 3 rows\n\n"
     ]
    }
   ],
   "source": [
    "schema_people.getHead(3)"
   ]
  },
  {
   "cell_type": "code",
   "execution_count": 11,
   "metadata": {},
   "outputs": [],
   "source": [
    "file_name = \"hdfs://bigdata.laptrinhpython.net:19000/people.csv\""
   ]
  },
  {
   "cell_type": "code",
   "execution_count": 12,
   "metadata": {},
   "outputs": [],
   "source": [
    "people = spark.read(file_name)"
   ]
  },
  {
   "cell_type": "code",
   "execution_count": 13,
   "metadata": {},
   "outputs": [
    {
     "output_type": "stream",
     "name": "stdout",
     "text": [
      "+---+---------+--------------+------+-------------+\n|_c0|person_id|          name|   sex|date of birth|\n+---+---------+--------------+------+-------------+\n|  0|      100|Penelope Lewis|female|   1990-08-31|\n|  1|      101| David Anthony|  male|   1971-10-14|\n|  2|      102|     Ida Shipp|female|   1962-05-24|\n|  3|      103|  Joanna Moore|female|   2017-03-10|\n|  4|      104|Lisandra Ortiz|female|   2020-08-05|\n+---+---------+--------------+------+-------------+\nonly showing top 5 rows\n\n"
     ]
    }
   ],
   "source": [
    "people.getHead()"
   ]
  },
  {
   "cell_type": "code",
   "execution_count": 18,
   "metadata": {},
   "outputs": [
    {
     "output_type": "execute_result",
     "data": {
      "text/plain": [
       "pyspark.sql.dataframe.DataFrame"
      ]
     },
     "metadata": {},
     "execution_count": 18
    }
   ],
   "source": [
    "type(people.dataframe)"
   ]
  },
  {
   "cell_type": "code",
   "execution_count": 19,
   "metadata": {},
   "outputs": [],
   "source": [
    "file_name = \"hdfs://bigdata.laptrinhpython.net:19000/data.json\""
   ]
  },
  {
   "cell_type": "code",
   "execution_count": 20,
   "metadata": {},
   "outputs": [],
   "source": [
    "data = spark.read(file_name, 'json')"
   ]
  },
  {
   "cell_type": "code",
   "execution_count": null,
   "metadata": {},
   "outputs": [],
   "source": [
    "data.getHead()"
   ]
  },
  {
   "cell_type": "code",
   "execution_count": 5,
   "metadata": {},
   "outputs": [],
   "source": [
    "df = spark.read(r'./data/Obesity_data.csv')"
   ]
  },
  {
   "cell_type": "code",
   "execution_count": 7,
   "metadata": {},
   "outputs": [
    {
     "output_type": "stream",
     "name": "stdout",
     "text": [
      "root\n |-- id: integer (nullable = true)\n |-- gender: string (nullable = true)\n |-- height: integer (nullable = true)\n |-- weight: integer (nullable = true)\n |-- bmi: double (nullable = true)\n |-- age: integer (nullable = true)\n |-- bmc: integer (nullable = true)\n |-- bmd: double (nullable = true)\n |-- fat: integer (nullable = true)\n |-- lean: integer (nullable = true)\n |-- pcfat: double (nullable = true)\n\n"
     ]
    }
   ],
   "source": [
    "df.schema()"
   ]
  },
  {
   "cell_type": "code",
   "execution_count": 8,
   "metadata": {},
   "outputs": [
    {
     "output_type": "execute_result",
     "data": {
      "text/plain": [
       "DataFrame[id: int, gender: string, height: int, weight: int, bmi: double, age: int, bmc: int, bmd: double, fat: int, lean: int, pcfat: double]"
      ]
     },
     "metadata": {},
     "execution_count": 8
    }
   ],
   "source": [
    "df.dataframe"
   ]
  },
  {
   "cell_type": "code",
   "execution_count": 9,
   "metadata": {},
   "outputs": [
    {
     "output_type": "stream",
     "name": "stdout",
     "text": [
      "+---+------+------+------+----+---+----+----+-----+-----+-----+\n| id|gender|height|weight| bmi|age| bmc| bmd|  fat| lean|pcfat|\n+---+------+------+------+----+---+----+----+-----+-----+-----+\n|  1|     F|   150|    49|21.8| 53|1312|0.88|17802|28600| 37.3|\n|  2|     M|   165|    52|19.1| 65|1309|0.84| 8381|40229| 16.8|\n|  3|     F|   157|    57|23.1| 64|1230|0.84|19221|36057| 34.0|\n|  4|     F|   156|    53|21.8| 56|1171| 0.8|17472|33094| 33.8|\n|  5|     M|   160|    51|19.9| 54|1681|0.98| 7336|40621| 14.8|\n+---+------+------+------+----+---+----+----+-----+-----+-----+\nonly showing top 5 rows\n\n"
     ]
    }
   ],
   "source": [
    "df.getHead()"
   ]
  },
  {
   "cell_type": "code",
   "execution_count": 10,
   "metadata": {},
   "outputs": [
    {
     "output_type": "execute_result",
     "data": {
      "text/plain": [
       "1217"
      ]
     },
     "metadata": {},
     "execution_count": 10
    }
   ],
   "source": [
    "len(df)"
   ]
  },
  {
   "cell_type": "code",
   "execution_count": 11,
   "metadata": {},
   "outputs": [
    {
     "output_type": "stream",
     "name": "stdout",
     "text": [
      "+-------+-----------------+------+------------------+-----------------+------------------+-----------------+------------------+------------------+------------------+-----------------+------------------+\n|summary|               id|gender|            height|           weight|               bmi|              age|               bmc|               bmd|               fat|             lean|             pcfat|\n+-------+-----------------+------+------------------+-----------------+------------------+-----------------+------------------+------------------+------------------+-----------------+------------------+\n|  count|             1217|  1217|              1217|             1217|              1217|             1217|              1217|              1217|              1217|             1217|              1217|\n|   mean| 614.518488085456|  null| 156.7239112571898|55.14379622021364| 22.39539852095314|47.15201314708299|1724.9145439605588|1.0087428101889888|17288.436318816763| 35463.1133935908|31.604785903401805|\n| stddev|354.4705719473191|  null|7.9777256820417035|9.404988688010084|3.0564419447471356|17.27550739904804| 363.3490251436472|0.1131224610778956| 5214.398664940806|7027.546493084218| 7.182861527055848|\n|    min|                1|     F|               136|               34|              14.5|               13|               695|              0.65|              4277|            19136|               9.2|\n|    max|             1227|     M|               185|               95|              37.1|               88|              3040|              1.35|             40825|            63059|              48.4|\n+-------+-----------------+------+------------------+-----------------+------------------+-----------------+------------------+------------------+------------------+-----------------+------------------+\n\n"
     ]
    }
   ],
   "source": [
    "df.dataframe.describe().show()"
   ]
  },
  {
   "cell_type": "code",
   "execution_count": 12,
   "metadata": {},
   "outputs": [
    {
     "output_type": "stream",
     "name": "stdout",
     "text": [
      "+-------+------------------+-----------------+\n|summary|            height|           weight|\n+-------+------------------+-----------------+\n|  count|              1217|             1217|\n|   mean| 156.7239112571898|55.14379622021364|\n| stddev|7.9777256820417035|9.404988688010084|\n|    min|               136|               34|\n|    max|               185|               95|\n+-------+------------------+-----------------+\n\n"
     ]
    }
   ],
   "source": [
    "df.dataframe.describe('height', 'weight').show()"
   ]
  },
  {
   "cell_type": "code",
   "execution_count": 13,
   "metadata": {},
   "outputs": [
    {
     "output_type": "execute_result",
     "data": {
      "text/plain": [
       "        id gender  height  weight   bmi  age   bmc   bmd    fat   lean  pcfat\n",
       "0        1      F     150      49  21.8   53  1312  0.88  17802  28600   37.3\n",
       "1        2      M     165      52  19.1   65  1309  0.84   8381  40229   16.8\n",
       "2        3      F     157      57  23.1   64  1230  0.84  19221  36057   34.0\n",
       "3        4      F     156      53  21.8   56  1171  0.80  17472  33094   33.8\n",
       "4        5      M     160      51  19.9   54  1681  0.98   7336  40621   14.8\n",
       "...    ...    ...     ...     ...   ...  ...   ...   ...    ...    ...    ...\n",
       "1212  1223      F     150      44  19.6   44  1474  0.95  12906  28534   30.1\n",
       "1213  1224      F     148      51  23.3   58  1522  0.97  14938  33931   29.6\n",
       "1214  1225      F     149      50  22.5   57  1409  0.93  16777  30598   34.4\n",
       "1215  1226      F     144      49  23.6   67  1266  0.90  20094  27272   41.3\n",
       "1216  1227      F     141      45  22.6   58  1228  0.91  14567  28111   33.2\n",
       "\n",
       "[1217 rows x 11 columns]"
      ],
      "text/html": "<div>\n<style scoped>\n    .dataframe tbody tr th:only-of-type {\n        vertical-align: middle;\n    }\n\n    .dataframe tbody tr th {\n        vertical-align: top;\n    }\n\n    .dataframe thead th {\n        text-align: right;\n    }\n</style>\n<table border=\"1\" class=\"dataframe\">\n  <thead>\n    <tr style=\"text-align: right;\">\n      <th></th>\n      <th>id</th>\n      <th>gender</th>\n      <th>height</th>\n      <th>weight</th>\n      <th>bmi</th>\n      <th>age</th>\n      <th>bmc</th>\n      <th>bmd</th>\n      <th>fat</th>\n      <th>lean</th>\n      <th>pcfat</th>\n    </tr>\n  </thead>\n  <tbody>\n    <tr>\n      <th>0</th>\n      <td>1</td>\n      <td>F</td>\n      <td>150</td>\n      <td>49</td>\n      <td>21.8</td>\n      <td>53</td>\n      <td>1312</td>\n      <td>0.88</td>\n      <td>17802</td>\n      <td>28600</td>\n      <td>37.3</td>\n    </tr>\n    <tr>\n      <th>1</th>\n      <td>2</td>\n      <td>M</td>\n      <td>165</td>\n      <td>52</td>\n      <td>19.1</td>\n      <td>65</td>\n      <td>1309</td>\n      <td>0.84</td>\n      <td>8381</td>\n      <td>40229</td>\n      <td>16.8</td>\n    </tr>\n    <tr>\n      <th>2</th>\n      <td>3</td>\n      <td>F</td>\n      <td>157</td>\n      <td>57</td>\n      <td>23.1</td>\n      <td>64</td>\n      <td>1230</td>\n      <td>0.84</td>\n      <td>19221</td>\n      <td>36057</td>\n      <td>34.0</td>\n    </tr>\n    <tr>\n      <th>3</th>\n      <td>4</td>\n      <td>F</td>\n      <td>156</td>\n      <td>53</td>\n      <td>21.8</td>\n      <td>56</td>\n      <td>1171</td>\n      <td>0.80</td>\n      <td>17472</td>\n      <td>33094</td>\n      <td>33.8</td>\n    </tr>\n    <tr>\n      <th>4</th>\n      <td>5</td>\n      <td>M</td>\n      <td>160</td>\n      <td>51</td>\n      <td>19.9</td>\n      <td>54</td>\n      <td>1681</td>\n      <td>0.98</td>\n      <td>7336</td>\n      <td>40621</td>\n      <td>14.8</td>\n    </tr>\n    <tr>\n      <th>...</th>\n      <td>...</td>\n      <td>...</td>\n      <td>...</td>\n      <td>...</td>\n      <td>...</td>\n      <td>...</td>\n      <td>...</td>\n      <td>...</td>\n      <td>...</td>\n      <td>...</td>\n      <td>...</td>\n    </tr>\n    <tr>\n      <th>1212</th>\n      <td>1223</td>\n      <td>F</td>\n      <td>150</td>\n      <td>44</td>\n      <td>19.6</td>\n      <td>44</td>\n      <td>1474</td>\n      <td>0.95</td>\n      <td>12906</td>\n      <td>28534</td>\n      <td>30.1</td>\n    </tr>\n    <tr>\n      <th>1213</th>\n      <td>1224</td>\n      <td>F</td>\n      <td>148</td>\n      <td>51</td>\n      <td>23.3</td>\n      <td>58</td>\n      <td>1522</td>\n      <td>0.97</td>\n      <td>14938</td>\n      <td>33931</td>\n      <td>29.6</td>\n    </tr>\n    <tr>\n      <th>1214</th>\n      <td>1225</td>\n      <td>F</td>\n      <td>149</td>\n      <td>50</td>\n      <td>22.5</td>\n      <td>57</td>\n      <td>1409</td>\n      <td>0.93</td>\n      <td>16777</td>\n      <td>30598</td>\n      <td>34.4</td>\n    </tr>\n    <tr>\n      <th>1215</th>\n      <td>1226</td>\n      <td>F</td>\n      <td>144</td>\n      <td>49</td>\n      <td>23.6</td>\n      <td>67</td>\n      <td>1266</td>\n      <td>0.90</td>\n      <td>20094</td>\n      <td>27272</td>\n      <td>41.3</td>\n    </tr>\n    <tr>\n      <th>1216</th>\n      <td>1227</td>\n      <td>F</td>\n      <td>141</td>\n      <td>45</td>\n      <td>22.6</td>\n      <td>58</td>\n      <td>1228</td>\n      <td>0.91</td>\n      <td>14567</td>\n      <td>28111</td>\n      <td>33.2</td>\n    </tr>\n  </tbody>\n</table>\n<p>1217 rows × 11 columns</p>\n</div>"
     },
     "metadata": {},
     "execution_count": 13
    }
   ],
   "source": [
    "df.dataframe.toPandas()"
   ]
  },
  {
   "cell_type": "code",
   "execution_count": 14,
   "metadata": {},
   "outputs": [
    {
     "output_type": "execute_result",
     "data": {
      "text/plain": [
       "pandas.core.frame.DataFrame"
      ]
     },
     "metadata": {},
     "execution_count": 14
    }
   ],
   "source": [
    "type(df.dataframe.toPandas())"
   ]
  },
  {
   "cell_type": "code",
   "execution_count": 15,
   "metadata": {},
   "outputs": [],
   "source": [
    "df_sub = df.dataframe.select('id', 'gender', 'height', 'weight')"
   ]
  },
  {
   "cell_type": "code",
   "execution_count": 16,
   "metadata": {},
   "outputs": [
    {
     "output_type": "stream",
     "name": "stdout",
     "text": [
      "+---+------+------+------+\n| id|gender|height|weight|\n+---+------+------+------+\n|  1|     F|   150|    49|\n|  2|     M|   165|    52|\n|  3|     F|   157|    57|\n+---+------+------+------+\nonly showing top 3 rows\n\n"
     ]
    }
   ],
   "source": [
    "df_sub.show(3)"
   ]
  },
  {
   "cell_type": "code",
   "execution_count": 17,
   "metadata": {},
   "outputs": [
    {
     "output_type": "stream",
     "name": "stdout",
     "text": [
      "+-------------+---+---+\n|height_gender|  F|  M|\n+-------------+---+---+\n|          138|  2|  0|\n|          170|  1| 24|\n|          142| 11|  0|\n|          153| 73|  1|\n|          174|  0|  2|\n|          185|  0|  1|\n|          157| 31|  5|\n|          152| 54|  2|\n|          164| 11| 17|\n|          179|  0|  1|\n+-------------+---+---+\nonly showing top 10 rows\n\n"
     ]
    }
   ],
   "source": [
    "df_sub.crosstab('height', 'gender').show(10)"
   ]
  },
  {
   "cell_type": "code",
   "execution_count": 18,
   "metadata": {},
   "outputs": [
    {
     "output_type": "stream",
     "name": "stdout",
     "text": [
      "+-------------+---+---+---+---+---+---+---+---+---+---+---+---+---+---+---+---+---+---+---+---+---+---+---+---+---+---+---+---+---+---+---+---+---+---+---+---+---+---+---+---+---+---+---+---+---+---+---+---+\n|gender_height|136|137|138|139|140|141|142|143|144|145|146|147|148|149|150|151|152|153|154|155|156|157|158|159|160|161|162|163|164|165|166|167|168|169|170|171|172|173|174|175|176|177|178|179|180|182|183|185|\n+-------------+---+---+---+---+---+---+---+---+---+---+---+---+---+---+---+---+---+---+---+---+---+---+---+---+---+---+---+---+---+---+---+---+---+---+---+---+---+---+---+---+---+---+---+---+---+---+---+---+\n|            M|  0|  0|  0|  0|  0|  0|  0|  0|  0|  0|  1|  0|  3|  0|  6|  1|  2|  1|  3| 11|  6|  5| 14|  8| 33|  9| 23| 17| 17| 37| 13| 17| 30| 11| 24|  7| 12|  8|  2| 11|  4|  2|  8|  1|  4|  2|  1|  1|\n|            F|  1|  1|  2|  2|  7|  6| 11| 11| 13| 24| 20| 18| 35| 33| 95| 34| 54| 73| 45|104| 45| 31| 53| 29| 45|  8| 19| 13| 11| 10|  0|  3|  4|  1|  1|  0|  0|  0|  0|  0|  0|  0|  0|  0|  0|  0|  0|  0|\n+-------------+---+---+---+---+---+---+---+---+---+---+---+---+---+---+---+---+---+---+---+---+---+---+---+---+---+---+---+---+---+---+---+---+---+---+---+---+---+---+---+---+---+---+---+---+---+---+---+---+\n\n"
     ]
    }
   ],
   "source": [
    "df_sub.crosstab('gender', 'height').show(10)"
   ]
  },
  {
   "cell_type": "code",
   "execution_count": 19,
   "metadata": {},
   "outputs": [
    {
     "output_type": "stream",
     "name": "stdout",
     "text": [
      "+------+-----------------+\n|gender|      avg(weight)|\n+------+-----------------+\n|     F|52.31090487238979|\n|     M|62.02253521126761|\n+------+-----------------+\n\n"
     ]
    }
   ],
   "source": [
    "df_sub.groupby('gender').agg({'weight': 'mean'}).show()"
   ]
  },
  {
   "cell_type": "code",
   "execution_count": 22,
   "metadata": {},
   "outputs": [
    {
     "output_type": "execute_result",
     "data": {
      "text/plain": [
       "  gender  min(weight)  min(height)\n",
       "0      F           34          136\n",
       "1      M           38          146"
      ],
      "text/html": "<div>\n<style scoped>\n    .dataframe tbody tr th:only-of-type {\n        vertical-align: middle;\n    }\n\n    .dataframe tbody tr th {\n        vertical-align: top;\n    }\n\n    .dataframe thead th {\n        text-align: right;\n    }\n</style>\n<table border=\"1\" class=\"dataframe\">\n  <thead>\n    <tr style=\"text-align: right;\">\n      <th></th>\n      <th>gender</th>\n      <th>min(weight)</th>\n      <th>min(height)</th>\n    </tr>\n  </thead>\n  <tbody>\n    <tr>\n      <th>0</th>\n      <td>F</td>\n      <td>34</td>\n      <td>136</td>\n    </tr>\n    <tr>\n      <th>1</th>\n      <td>M</td>\n      <td>38</td>\n      <td>146</td>\n    </tr>\n  </tbody>\n</table>\n</div>"
     },
     "metadata": {},
     "execution_count": 22
    }
   ],
   "source": [
    "df_sub.groupby('gender').agg({'weight': 'min', 'height': 'min'}).toPandas()"
   ]
  },
  {
   "cell_type": "code",
   "execution_count": 24,
   "metadata": {},
   "outputs": [
    {
     "output_type": "execute_result",
     "data": {
      "text/plain": [
       "  gender\n",
       "0      F\n",
       "1      M"
      ],
      "text/html": "<div>\n<style scoped>\n    .dataframe tbody tr th:only-of-type {\n        vertical-align: middle;\n    }\n\n    .dataframe tbody tr th {\n        vertical-align: top;\n    }\n\n    .dataframe thead th {\n        text-align: right;\n    }\n</style>\n<table border=\"1\" class=\"dataframe\">\n  <thead>\n    <tr style=\"text-align: right;\">\n      <th></th>\n      <th>gender</th>\n    </tr>\n  </thead>\n  <tbody>\n    <tr>\n      <th>0</th>\n      <td>F</td>\n    </tr>\n    <tr>\n      <th>1</th>\n      <td>M</td>\n    </tr>\n  </tbody>\n</table>\n</div>"
     },
     "metadata": {},
     "execution_count": 24
    }
   ],
   "source": [
    "df_sub.select('gender').distinct().toPandas()"
   ]
  },
  {
   "cell_type": "code",
   "execution_count": 26,
   "metadata": {},
   "outputs": [
    {
     "output_type": "stream",
     "name": "stdout",
     "text": [
      "+---+------+------+------+----+---+----+----+-----+-----+-----+\n| id|gender|height|weight| bmi|age| bmc| bmd|  fat| lean|pcfat|\n+---+------+------+------+----+---+----+----+-----+-----+-----+\n|963|     M|   158|    61|24.4| 88|1670|1.02|18038|39526| 30.5|\n|712|     M|   161|    47|18.1| 87|1678|1.01|12328|32725| 26.4|\n|588|     F|   142|    46|22.8| 85| 875|0.68|13946|31026| 30.4|\n+---+------+------+------+----+---+----+----+-----+-----+-----+\nonly showing top 3 rows\n\n"
     ]
    }
   ],
   "source": [
    "df().orderBy(df().age.desc()).show(3)"
   ]
  },
  {
   "cell_type": "code",
   "execution_count": 28,
   "metadata": {},
   "outputs": [
    {
     "output_type": "stream",
     "name": "stdout",
     "text": [
      "+----+------+------+------+----+---+----+----+-----+-----+-----+\n|  id|gender|height|weight| bmi|age| bmc| bmd|  fat| lean|pcfat|\n+----+------+------+------+----+---+----+----+-----+-----+-----+\n| 514|     M|   167|    67|24.0| 13|1440|0.78|29264|44366| 39.0|\n| 270|     F|   155|    42|17.5| 14|1615|1.04|11493|28607| 27.6|\n|1156|     F|   160|    56|21.9| 14|1810|1.05|20941|34178| 36.8|\n+----+------+------+------+----+---+----+----+-----+-----+-----+\nonly showing top 3 rows\n\n"
     ]
    }
   ],
   "source": [
    "df().orderBy(df().age.asc()).show(3)"
   ]
  },
  {
   "cell_type": "code",
   "execution_count": 29,
   "metadata": {},
   "outputs": [
    {
     "output_type": "stream",
     "name": "stdout",
     "text": [
      "+---+------+------+------+------------------+\n| id|gender|height|weight|               bmi|\n+---+------+------+------+------------------+\n|  1|     F|   150|    49| 21.77777777777778|\n|  2|     M|   165|    52|19.100091827364558|\n|  3|     F|   157|    57|23.124670372023203|\n|  4|     F|   156|    53|  21.7784352399737|\n|  5|     M|   160|    51|19.921874999999996|\n+---+------+------+------+------------------+\nonly showing top 5 rows\n\n"
     ]
    }
   ],
   "source": [
    "df_sub.withColumn('bmi', (df_sub.weight/(df_sub.height/100)**2)).show(5)"
   ]
  },
  {
   "cell_type": "code",
   "execution_count": 30,
   "metadata": {},
   "outputs": [
    {
     "output_type": "stream",
     "name": "stdout",
     "text": [
      "+---+---+------+------+\n| id|sex|height|weight|\n+---+---+------+------+\n|  1|  F|   150|    49|\n|  2|  M|   165|    52|\n|  3|  F|   157|    57|\n+---+---+------+------+\nonly showing top 3 rows\n\n"
     ]
    }
   ],
   "source": [
    "df_sub.withColumnRenamed('gender', 'sex').show(3)"
   ]
  },
  {
   "cell_type": "code",
   "execution_count": 31,
   "metadata": {},
   "outputs": [
    {
     "output_type": "execute_result",
     "data": {
      "text/plain": [
       "['id',\n",
       " 'gender',\n",
       " 'height',\n",
       " 'weight',\n",
       " 'bmi',\n",
       " 'age',\n",
       " 'bmc',\n",
       " 'bmd',\n",
       " 'fat',\n",
       " 'lean',\n",
       " 'pcfat']"
      ]
     },
     "metadata": {},
     "execution_count": 31
    }
   ],
   "source": [
    "df().columns"
   ]
  },
  {
   "cell_type": "code",
   "execution_count": 32,
   "metadata": {},
   "outputs": [
    {
     "output_type": "execute_result",
     "data": {
      "text/plain": [
       "['id', 'gender', 'height', 'weight', 'age', 'bmc', 'bmd', 'fat', 'pcfat']"
      ]
     },
     "metadata": {},
     "execution_count": 32
    }
   ],
   "source": [
    "df().drop('bmi', 'lean').columns"
   ]
  },
  {
   "cell_type": "code",
   "execution_count": null,
   "metadata": {},
   "outputs": [],
   "source": []
  },
  {
   "cell_type": "code",
   "execution_count": 34,
   "metadata": {},
   "outputs": [
    {
     "output_type": "execute_result",
     "data": {
      "text/plain": [
       "1217"
      ]
     },
     "metadata": {},
     "execution_count": 34
    }
   ],
   "source": [
    "df().count()"
   ]
  },
  {
   "cell_type": "code",
   "execution_count": 35,
   "metadata": {},
   "outputs": [
    {
     "output_type": "execute_result",
     "data": {
      "text/plain": [
       "1217"
      ]
     },
     "metadata": {},
     "execution_count": 35
    }
   ],
   "source": [
    "df().dropDuplicates().count()"
   ]
  },
  {
   "cell_type": "code",
   "execution_count": 36,
   "metadata": {},
   "outputs": [
    {
     "output_type": "execute_result",
     "data": {
      "text/plain": [
       "1217"
      ]
     },
     "metadata": {},
     "execution_count": 36
    }
   ],
   "source": [
    "df().dropna().count() # xóa missing value"
   ]
  },
  {
   "cell_type": "code",
   "execution_count": 37,
   "metadata": {},
   "outputs": [],
   "source": [
    "people = spark.read(r'./data/people.csv')()"
   ]
  },
  {
   "cell_type": "code",
   "execution_count": 38,
   "metadata": {},
   "outputs": [
    {
     "output_type": "execute_result",
     "data": {
      "text/plain": [
       "7"
      ]
     },
     "metadata": {},
     "execution_count": 38
    }
   ],
   "source": [
    "people_sub = people.filter(people.name.like('I%p'))\n",
    "\n",
    "people_sub.count()"
   ]
  },
  {
   "cell_type": "code",
   "execution_count": 39,
   "metadata": {},
   "outputs": [
    {
     "output_type": "stream",
     "name": "stdout",
     "text": [
      "+-----+---------+-------------+------+-------------+\n|  _c0|person_id|         name|   sex|date of birth|\n+-----+---------+-------------+------+-------------+\n|    2|      102|    Ida Shipp|female|   1962-05-24|\n| 5791|     5891| Isaias Stepp|  male|   1974-04-13|\n| 9965|    10065| Isabel Sharp|female|   1967-11-28|\n|58576|    58676|Isadora Tripp|female|   1971-06-05|\n|68125|    68225|   Irene Kulp|female|   1986-07-06|\n|71572|    71672|    Ivan Ropp|  male|   1975-07-08|\n|92061|    92161|   Inez Estep|female|   1925-09-03|\n+-----+---------+-------------+------+-------------+\n\n"
     ]
    }
   ],
   "source": [
    "people_sub.show()"
   ]
  },
  {
   "cell_type": "code",
   "execution_count": 40,
   "metadata": {},
   "outputs": [
    {
     "output_type": "execute_result",
     "data": {
      "text/plain": [
       "6075"
      ]
     },
     "metadata": {},
     "execution_count": 40
    }
   ],
   "source": [
    "people_na = people.filter(people.name.like('%na%'))\n",
    "\n",
    "people_na.count()"
   ]
  },
  {
   "cell_type": "code",
   "execution_count": 41,
   "metadata": {},
   "outputs": [
    {
     "output_type": "stream",
     "name": "stdout",
     "text": [
      "+---+---------+-----------------+------+-------------+\n|_c0|person_id|             name|   sex|date of birth|\n+---+---------+-----------------+------+-------------+\n|  3|      103|     Joanna Moore|female|   2017-03-10|\n|  8|      108| Leonard Cavender|  male|   1958-08-08|\n| 11|      111|Annabelle Rosseau|female|   1989-07-13|\n| 14|      114|Alejandro Brennan|  male|   1980-12-22|\n| 18|      118|     Tina Gaskins|female|   1966-12-05|\n| 24|      124|  Charles Leonard|  male|   1972-03-09|\n| 27|      127|       Devona Kay|female|   2009-12-30|\n| 69|      169| Leonarda Johnson|female|   2006-06-01|\n| 73|      173|      Regina Lamb|female|   1977-07-22|\n|110|      210|   Deborah Gerena|female|   2001-11-18|\n|126|      226|    Gracie Hannah|female|   1948-08-07|\n|130|      230|  Sabrina Metzger|female|   2019-12-21|\n|156|      256|Jennifer Mcanally|female|   1981-08-13|\n|170|      270|     John Barnard|  male|   2015-07-31|\n|197|      297|   Ronald Elliott|  male|   1992-01-14|\n|210|      310|   Regina Bartley|female|   1990-12-29|\n|217|      317|  Mason Fernandez|  male|   1969-03-14|\n|221|      321| Kenneth Buchanan|  male|   1974-02-15|\n|242|      342|  Brenda Camarena|female|   2005-04-30|\n|265|      365|    Ronald Wilson|  male|   1965-04-09|\n+---+---------+-----------------+------+-------------+\nonly showing top 20 rows\n\n"
     ]
    }
   ],
   "source": [
    "people_na.show()"
   ]
  },
  {
   "cell_type": "code",
   "execution_count": 42,
   "metadata": {},
   "outputs": [
    {
     "output_type": "execute_result",
     "data": {
      "text/plain": [
       "352"
      ]
     },
     "metadata": {},
     "execution_count": 42
    }
   ],
   "source": [
    "people_Moore = people.where(people.name.contains('Moore'))\n",
    "\n",
    "people_Moore.count()"
   ]
  },
  {
   "cell_type": "code",
   "execution_count": 43,
   "metadata": {},
   "outputs": [
    {
     "output_type": "execute_result",
     "data": {
      "text/plain": [
       "99648"
      ]
     },
     "metadata": {},
     "execution_count": 43
    }
   ],
   "source": [
    "people_not_Moore = people.where(~people.name.contains('Moore'))\n",
    "\n",
    "people_not_Moore.count()"
   ]
  },
  {
   "cell_type": "code",
   "execution_count": 44,
   "metadata": {},
   "outputs": [
    {
     "output_type": "stream",
     "name": "stdout",
     "text": [
      "+---+---------+-----------------+------+-------------+\n|_c0|person_id|             name|   sex|date of birth|\n+---+---------+-----------------+------+-------------+\n|  0|      100|   Penelope Lewis|female|   1990-08-31|\n|  1|      101|    David Anthony|  male|   1971-10-14|\n|  2|      102|        Ida Shipp|female|   1962-05-24|\n|  4|      104|   Lisandra Ortiz|female|   2020-08-05|\n|  5|      105|    David Simmons|  male|   1999-12-30|\n|  6|      106|    Edward Hudson|  male|   1983-05-09|\n|  7|      107|     Albert Jones|  male|   1990-09-13|\n|  8|      108| Leonard Cavender|  male|   1958-08-08|\n|  9|      109|   Everett Vadala|  male|   2005-05-24|\n| 10|      110| Freddie Claridge|  male|   2002-05-07|\n| 11|      111|Annabelle Rosseau|female|   1989-07-13|\n| 12|      112|    Eulah Emanuel|female|   1976-01-19|\n| 13|      113|       Shaun Love|  male|   1970-05-26|\n| 14|      114|Alejandro Brennan|  male|   1980-12-22|\n| 15|      115|Robert Mcreynolds|  male|   1973-12-27|\n| 16|      116|   Carla Spickard|female|   1985-06-13|\n| 17|      117|Florence Eberhart|female|   2024-06-01|\n| 18|      118|     Tina Gaskins|female|   1966-12-05|\n| 19|      119| Florence Mulhern|female|   1959-05-31|\n| 20|      120|       Joel Smith|  male|   1996-08-13|\n+---+---------+-----------------+------+-------------+\nonly showing top 20 rows\n\n"
     ]
    }
   ],
   "source": [
    "people_not_Moore.show()"
   ]
  },
  {
   "cell_type": "code",
   "execution_count": 45,
   "metadata": {},
   "outputs": [],
   "source": [
    "people_1999 = people.filter((people['date of birth'] >= '1999-01-01') & (people['date of birth'] <= '1999-12-31'))"
   ]
  },
  {
   "cell_type": "code",
   "execution_count": 46,
   "metadata": {},
   "outputs": [
    {
     "output_type": "execute_result",
     "data": {
      "text/plain": [
       "1366"
      ]
     },
     "metadata": {},
     "execution_count": 46
    }
   ],
   "source": [
    "people_1999.count()"
   ]
  },
  {
   "cell_type": "code",
   "execution_count": 47,
   "metadata": {},
   "outputs": [],
   "source": [
    "people_1999 = people.where((people['date of birth'] >= '1999-01-01') & (people['date of birth'] <= '1999-12-31'))"
   ]
  },
  {
   "cell_type": "code",
   "execution_count": 48,
   "metadata": {},
   "outputs": [
    {
     "output_type": "execute_result",
     "data": {
      "text/plain": [
       "1366"
      ]
     },
     "metadata": {},
     "execution_count": 48
    }
   ],
   "source": [
    "people_1999.count()"
   ]
  },
  {
   "cell_type": "code",
   "execution_count": null,
   "metadata": {},
   "outputs": [],
   "source": []
  },
  {
   "cell_type": "code",
   "execution_count": null,
   "metadata": {},
   "outputs": [],
   "source": []
  },
  {
   "cell_type": "code",
   "execution_count": 56,
   "metadata": {},
   "outputs": [],
   "source": [
    "from pyspark.sql.functions import *\n",
    "from pyspark.sql.types import *"
   ]
  },
  {
   "source": [
    "String transformation"
   ],
   "cell_type": "markdown",
   "metadata": {}
  },
  {
   "cell_type": "code",
   "execution_count": 50,
   "metadata": {},
   "outputs": [
    {
     "output_type": "stream",
     "name": "stdout",
     "text": [
      "+---+---------+--------------+------+-------------+--------------+\n|_c0|person_id|          name|   sex|date of birth|    upper_name|\n+---+---------+--------------+------+-------------+--------------+\n|  0|      100|Penelope Lewis|female|   1990-08-31|PENELOPE LEWIS|\n|  1|      101| David Anthony|  male|   1971-10-14| DAVID ANTHONY|\n|  2|      102|     Ida Shipp|female|   1962-05-24|     IDA SHIPP|\n+---+---------+--------------+------+-------------+--------------+\nonly showing top 3 rows\n\n"
     ]
    }
   ],
   "source": [
    "people.withColumn('upper_name', upper(col('name'))).show(3)"
   ]
  },
  {
   "source": [
    "Casting"
   ],
   "cell_type": "markdown",
   "metadata": {}
  },
  {
   "cell_type": "code",
   "execution_count": 70,
   "metadata": {},
   "outputs": [],
   "source": [
    "people = people.withColumn('year', substring('date of birth', pos=0, len=4).cast(IntegerType()))"
   ]
  },
  {
   "cell_type": "code",
   "execution_count": 71,
   "metadata": {},
   "outputs": [
    {
     "output_type": "stream",
     "name": "stdout",
     "text": [
      "+---+---------+--------------+------+-------------+----+\n|_c0|person_id|          name|   sex|date of birth|year|\n+---+---------+--------------+------+-------------+----+\n|  0|      100|Penelope Lewis|female|   1990-08-31|1990|\n|  1|      101| David Anthony|  male|   1971-10-14|1971|\n|  2|      102|     Ida Shipp|female|   1962-05-24|1962|\n+---+---------+--------------+------+-------------+----+\nonly showing top 3 rows\n\n"
     ]
    }
   ],
   "source": [
    "people.show(3)"
   ]
  },
  {
   "cell_type": "code",
   "execution_count": 73,
   "metadata": {},
   "outputs": [],
   "source": [
    "people_1989 = people.where(people['year'] >= 1989)"
   ]
  },
  {
   "cell_type": "code",
   "execution_count": 74,
   "metadata": {},
   "outputs": [
    {
     "output_type": "execute_result",
     "data": {
      "text/plain": [
       "39593"
      ]
     },
     "metadata": {},
     "execution_count": 74
    }
   ],
   "source": [
    "people_1989.count()"
   ]
  },
  {
   "cell_type": "code",
   "execution_count": 75,
   "metadata": {},
   "outputs": [
    {
     "output_type": "stream",
     "name": "stdout",
     "text": [
      "+---+---------+--------------+------+-------------+----+\n|_c0|person_id|          name|   sex|date of birth|year|\n+---+---------+--------------+------+-------------+----+\n|  0|      100|Penelope Lewis|female|   1990-08-31|1990|\n|  3|      103|  Joanna Moore|female|   2017-03-10|2017|\n|  4|      104|Lisandra Ortiz|female|   2020-08-05|2020|\n|  5|      105| David Simmons|  male|   1999-12-30|1999|\n|  7|      107|  Albert Jones|  male|   1990-09-13|1990|\n+---+---------+--------------+------+-------------+----+\nonly showing top 5 rows\n\n"
     ]
    }
   ],
   "source": [
    "people_1989.show(5)"
   ]
  },
  {
   "cell_type": "code",
   "execution_count": 78,
   "metadata": {},
   "outputs": [],
   "source": [
    "df = df()"
   ]
  },
  {
   "cell_type": "code",
   "execution_count": 79,
   "metadata": {},
   "outputs": [
    {
     "output_type": "stream",
     "name": "stdout",
     "text": [
      "+---+------+------+------+----+---+----+----+-----+-----+-----+\n| id|gender|height|weight| bmi|age| bmc| bmd|  fat| lean|pcfat|\n+---+------+------+------+----+---+----+----+-----+-----+-----+\n|  1|     F|   150|    49|21.8| 53|1312|0.88|17802|28600| 37.3|\n|  2|     M|   165|    52|19.1| 65|1309|0.84| 8381|40229| 16.8|\n|  3|     F|   157|    57|23.1| 64|1230|0.84|19221|36057| 34.0|\n|  4|     F|   156|    53|21.8| 56|1171| 0.8|17472|33094| 33.8|\n|  5|     M|   160|    51|19.9| 54|1681|0.98| 7336|40621| 14.8|\n|  6|     F|   153|    47|20.1| 52|1358|0.91|14904|30068| 32.2|\n|  7|     F|   155|    58|24.1| 66|1546|0.96|20233|35599| 35.3|\n|  8|     M|   167|    65|23.3| 50|2276|1.11|17749|43301| 28.0|\n|  9|     M|   165|    54|19.8| 61|1778|0.96|10795|38613| 21.1|\n| 10|     F|   158|    60|24.0| 58|1404|0.86|21365|35534| 36.6|\n| 11|     F|   155|    48|20.0| 36|1889|1.06|13458|32261| 28.3|\n| 12|     M|   165|    65|23.9| 50|1878|0.97|18100|43391| 28.6|\n| 13|     F|   155|    40|16.6| 78|1001|0.78|11865|26264| 30.3|\n| 14|     M|   158|    57|22.8| 84|1772|1.02|13398|40313| 24.1|\n| 15|     F|   154|    59|24.9| 43|1717|1.03|19154|37239| 33.0|\n| 16|     M|   150|    70|31.1| 49|2084| 1.0|16540|49512| 24.3|\n| 17|     F|   150|    50|22.2| 49|1636|1.01|20255|27891| 40.7|\n| 18|     M|   158|    65|26.0| 49|2557|1.29|11716|45567| 19.6|\n| 19|     M|   162|    72|27.4| 66|1535|0.86|25416|44577| 35.5|\n| 20|     M|   161|    55|21.2| 58|1807|1.02|10020|40184| 19.3|\n+---+------+------+------+----+---+----+----+-----+-----+-----+\nonly showing top 20 rows\n\n"
     ]
    }
   ],
   "source": [
    "df.show()"
   ]
  },
  {
   "cell_type": "code",
   "execution_count": null,
   "metadata": {},
   "outputs": [],
   "source": []
  }
 ]
}