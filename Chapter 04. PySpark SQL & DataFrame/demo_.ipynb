{
 "metadata": {
  "language_info": {
   "codemirror_mode": {
    "name": "ipython",
    "version": 3
   },
   "file_extension": ".py",
   "mimetype": "text/x-python",
   "name": "python",
   "nbconvert_exporter": "python",
   "pygments_lexer": "ipython3",
   "version": "3.8.5-final"
  },
  "orig_nbformat": 2,
  "kernelspec": {
   "name": "python38564bit739b5682ab17410ead4710a41bd80672",
   "display_name": "Python 3.8.5 64-bit"
  },
  "metadata": {
   "interpreter": {
    "hash": "31f2aee4e71d21fbe5cf8b01ff0e069b9275f58929596ceb00d14d90e3e16cd6"
   }
  }
 },
 "nbformat": 4,
 "nbformat_minor": 2,
 "cells": [
  {
   "cell_type": "code",
   "execution_count": 1,
   "metadata": {},
   "outputs": [],
   "source": [
    "%load_ext autoreload\n",
    "%autoreload 2"
   ]
  },
  {
   "cell_type": "code",
   "execution_count": 2,
   "metadata": {},
   "outputs": [],
   "source": [
    "from modules.pyspark import CPySpark, CRDD, CSparkFrame\n",
    "from pyspark.sql import Row"
   ]
  },
  {
   "cell_type": "code",
   "execution_count": 3,
   "metadata": {},
   "outputs": [
    {
     "output_type": "execute_result",
     "data": {
      "text/plain": [
       "<SparkContext master=local appName=pyspark-shell>"
      ],
      "text/html": "\n        <div>\n            <p><b>SparkContext</b></p>\n\n            <p><a href=\"http://192.168.1.10:4040\">Spark UI</a></p>\n\n            <dl>\n              <dt>Version</dt>\n                <dd><code>v3.1.1</code></dd>\n              <dt>Master</dt>\n                <dd><code>local</code></dd>\n              <dt>AppName</dt>\n                <dd><code>pyspark-shell</code></dd>\n            </dl>\n        </div>\n        "
     },
     "metadata": {},
     "execution_count": 3
    }
   ],
   "source": [
    "spark = CPySpark(session=True, sql=True)\n",
    "spark.context"
   ]
  },
  {
   "source": [
    "Tạo ra dataframe từ rdd"
   ],
   "cell_type": "markdown",
   "metadata": {}
  },
  {
   "cell_type": "code",
   "execution_count": 4,
   "metadata": {},
   "outputs": [],
   "source": [
    "lst = [\n",
    "    ('John', 10),\n",
    "    ('Lyna', 9),\n",
    "    ('Samathan', 8),\n",
    "    ('Tony', 10)\n",
    "]\n",
    "\n",
    "rdd = spark.rdd(data=lst)\n",
    "people: CRDD = rdd.map(lambda x: Row(name=x[0], mark=int(x[1])))\n",
    "people_df: CSparkFrame = spark.dataframe(people)"
   ]
  },
  {
   "cell_type": "code",
   "execution_count": 5,
   "metadata": {},
   "outputs": [
    {
     "output_type": "stream",
     "name": "stdout",
     "text": [
      "+--------+----+\n|    name|mark|\n+--------+----+\n|    John|  10|\n|    Lyna|   9|\n|Samathan|   8|\n|    Tony|  10|\n+--------+----+\n\n"
     ]
    }
   ],
   "source": [
    "people_df.getHead(5)"
   ]
  },
  {
   "source": [
    "Xem schema _(các featute của dataframe và kiểu dữ liệu của chúng)_ của `people_df`"
   ],
   "cell_type": "markdown",
   "metadata": {}
  },
  {
   "cell_type": "code",
   "execution_count": 6,
   "metadata": {},
   "outputs": [
    {
     "output_type": "stream",
     "name": "stdout",
     "text": [
      "root\n |-- name: string (nullable = true)\n |-- mark: long (nullable = true)\n\n"
     ]
    }
   ],
   "source": [
    "# cách 1\n",
    "people_df.schema()"
   ]
  },
  {
   "source": [
    "# cách 2\n",
    "people_df.dataframe"
   ],
   "cell_type": "code",
   "metadata": {},
   "execution_count": 7,
   "outputs": [
    {
     "output_type": "execute_result",
     "data": {
      "text/plain": [
       "DataFrame[name: string, mark: bigint]"
      ]
     },
     "metadata": {},
     "execution_count": 7
    }
   ]
  },
  {
   "source": [
    "Đọc dữ liệu từ file **CSV**"
   ],
   "cell_type": "markdown",
   "metadata": {}
  },
  {
   "cell_type": "code",
   "execution_count": 8,
   "metadata": {},
   "outputs": [],
   "source": [
    "file_name = \"hdfs://bigdata.laptrinhpython.net:19000/people.csv\" # URL\n",
    "people1 = spark.read(file_name)"
   ]
  },
  {
   "cell_type": "code",
   "execution_count": 9,
   "metadata": {
    "tags": []
   },
   "outputs": [
    {
     "output_type": "stream",
     "name": "stdout",
     "text": [
      "+---+---------+--------------+------+-------------+\n|_c0|person_id|          name|   sex|date of birth|\n+---+---------+--------------+------+-------------+\n|  0|      100|Penelope Lewis|female|   1990-08-31|\n|  1|      101| David Anthony|  male|   1971-10-14|\n|  2|      102|     Ida Shipp|female|   1962-05-24|\n|  3|      103|  Joanna Moore|female|   2017-03-10|\n|  4|      104|Lisandra Ortiz|female|   2020-08-05|\n+---+---------+--------------+------+-------------+\nonly showing top 5 rows\n\n"
     ]
    }
   ],
   "source": [
    "people1.getHead(5)"
   ]
  },
  {
   "source": [
    "Đọc dữ liệu từ file **JSON**"
   ],
   "cell_type": "markdown",
   "metadata": {}
  },
  {
   "cell_type": "code",
   "execution_count": 10,
   "metadata": {},
   "outputs": [],
   "source": [
    "file_name1 = \"hdfs://bigdata.laptrinhpython.net:19000/data.json\"\n",
    "data = spark.read(file_name1, 'json')"
   ]
  },
  {
   "cell_type": "code",
   "execution_count": 11,
   "metadata": {},
   "outputs": [
    {
     "output_type": "stream",
     "name": "stdout",
     "text": [
      "+----------+--------------------+-------------+--------------------+--------------------+-------------------+\n|        id|            location|sampling_rate|              sensor|    sensordatavalues|          timestamp|\n+----------+--------------------+-------------+--------------------+--------------------+-------------------+\n|5810744647|{112.6, FR, 0, 11...|         null|{22349, 1, {14, N...|[{12340422762, 1....|2019-12-20 03:22:01|\n|5810744646|{35.2, DE, 0, 107...|         null|{21149, 7, {9, va...|[{12340422760, 9....|2019-12-20 03:22:01|\n|5810744645|{51.0, DE, 0, 293...|         null|{5811, 1, {14, No...|[{12340422757, 6....|2019-12-20 03:22:01|\n|5810744644|{34.4, BE, 0, 441...|         null|{8765, 1, {14, No...|[{12340422756, 3....|2019-12-20 03:22:01|\n|5810744643|{5.0, FR, 0, 1100...|         null|{21693, 1, {14, N...|[{12340422754, 7....|2019-12-20 03:22:01|\n+----------+--------------------+-------------+--------------------+--------------------+-------------------+\nonly showing top 5 rows\n\n"
     ]
    }
   ],
   "source": [
    "data.getHead(5)"
   ]
  },
  {
   "source": [
    "Đọc dữ liệu `./data/Obesity_data.csv`"
   ],
   "cell_type": "markdown",
   "metadata": {}
  },
  {
   "cell_type": "code",
   "execution_count": 13,
   "metadata": {},
   "outputs": [],
   "source": [
    "file_name2 = './data/Obesity_data.csv'\n",
    "df = spark.read(file_name2)"
   ]
  },
  {
   "cell_type": "code",
   "execution_count": 14,
   "metadata": {},
   "outputs": [
    {
     "output_type": "stream",
     "name": "stdout",
     "text": [
      "+---+------+------+------+----+---+----+----+-----+-----+-----+\n| id|gender|height|weight| bmi|age| bmc| bmd|  fat| lean|pcfat|\n+---+------+------+------+----+---+----+----+-----+-----+-----+\n|  1|     F|   150|    49|21.8| 53|1312|0.88|17802|28600| 37.3|\n|  2|     M|   165|    52|19.1| 65|1309|0.84| 8381|40229| 16.8|\n|  3|     F|   157|    57|23.1| 64|1230|0.84|19221|36057| 34.0|\n|  4|     F|   156|    53|21.8| 56|1171| 0.8|17472|33094| 33.8|\n|  5|     M|   160|    51|19.9| 54|1681|0.98| 7336|40621| 14.8|\n+---+------+------+------+----+---+----+----+-----+-----+-----+\nonly showing top 5 rows\n\n"
     ]
    }
   ],
   "source": [
    "df.getHead(5)"
   ]
  },
  {
   "source": [
    "Kiểm tra `df` có bao nhiêu dòng"
   ],
   "cell_type": "markdown",
   "metadata": {}
  },
  {
   "cell_type": "code",
   "execution_count": 15,
   "metadata": {},
   "outputs": [
    {
     "output_type": "execute_result",
     "data": {
      "text/plain": [
       "1217"
      ]
     },
     "metadata": {},
     "execution_count": 15
    }
   ],
   "source": [
    "len(df)"
   ]
  },
  {
   "source": [
    "Describe cho `df`"
   ],
   "cell_type": "markdown",
   "metadata": {}
  },
  {
   "cell_type": "code",
   "execution_count": 17,
   "metadata": {},
   "outputs": [
    {
     "output_type": "execute_result",
     "data": {
      "text/plain": [
       "  summary                 id gender              height             weight  \\\n",
       "0   count               1217   1217                1217               1217   \n",
       "1    mean   614.518488085456   None   156.7239112571898  55.14379622021364   \n",
       "2  stddev  354.4705719473191   None  7.9777256820417035  9.404988688010084   \n",
       "3     min                  1      F                 136                 34   \n",
       "4     max               1227      M                 185                 95   \n",
       "\n",
       "                  bmi                age                 bmc  \\\n",
       "0                1217               1217                1217   \n",
       "1   22.39539852095314  47.15201314708299  1724.9145439605588   \n",
       "2  3.0564419447471356  17.27550739904804   363.3490251436472   \n",
       "3                14.5                 13                 695   \n",
       "4                37.1                 88                3040   \n",
       "\n",
       "                  bmd                 fat               lean  \\\n",
       "0                1217                1217               1217   \n",
       "1  1.0087428101889888  17288.436318816763   35463.1133935908   \n",
       "2  0.1131224610778956   5214.398664940806  7027.546493084218   \n",
       "3                0.65                4277              19136   \n",
       "4                1.35               40825              63059   \n",
       "\n",
       "                pcfat  \n",
       "0                1217  \n",
       "1  31.604785903401805  \n",
       "2   7.182861527055848  \n",
       "3                 9.2  \n",
       "4                48.4  "
      ],
      "text/html": "<div>\n<style scoped>\n    .dataframe tbody tr th:only-of-type {\n        vertical-align: middle;\n    }\n\n    .dataframe tbody tr th {\n        vertical-align: top;\n    }\n\n    .dataframe thead th {\n        text-align: right;\n    }\n</style>\n<table border=\"1\" class=\"dataframe\">\n  <thead>\n    <tr style=\"text-align: right;\">\n      <th></th>\n      <th>summary</th>\n      <th>id</th>\n      <th>gender</th>\n      <th>height</th>\n      <th>weight</th>\n      <th>bmi</th>\n      <th>age</th>\n      <th>bmc</th>\n      <th>bmd</th>\n      <th>fat</th>\n      <th>lean</th>\n      <th>pcfat</th>\n    </tr>\n  </thead>\n  <tbody>\n    <tr>\n      <th>0</th>\n      <td>count</td>\n      <td>1217</td>\n      <td>1217</td>\n      <td>1217</td>\n      <td>1217</td>\n      <td>1217</td>\n      <td>1217</td>\n      <td>1217</td>\n      <td>1217</td>\n      <td>1217</td>\n      <td>1217</td>\n      <td>1217</td>\n    </tr>\n    <tr>\n      <th>1</th>\n      <td>mean</td>\n      <td>614.518488085456</td>\n      <td>None</td>\n      <td>156.7239112571898</td>\n      <td>55.14379622021364</td>\n      <td>22.39539852095314</td>\n      <td>47.15201314708299</td>\n      <td>1724.9145439605588</td>\n      <td>1.0087428101889888</td>\n      <td>17288.436318816763</td>\n      <td>35463.1133935908</td>\n      <td>31.604785903401805</td>\n    </tr>\n    <tr>\n      <th>2</th>\n      <td>stddev</td>\n      <td>354.4705719473191</td>\n      <td>None</td>\n      <td>7.9777256820417035</td>\n      <td>9.404988688010084</td>\n      <td>3.0564419447471356</td>\n      <td>17.27550739904804</td>\n      <td>363.3490251436472</td>\n      <td>0.1131224610778956</td>\n      <td>5214.398664940806</td>\n      <td>7027.546493084218</td>\n      <td>7.182861527055848</td>\n    </tr>\n    <tr>\n      <th>3</th>\n      <td>min</td>\n      <td>1</td>\n      <td>F</td>\n      <td>136</td>\n      <td>34</td>\n      <td>14.5</td>\n      <td>13</td>\n      <td>695</td>\n      <td>0.65</td>\n      <td>4277</td>\n      <td>19136</td>\n      <td>9.2</td>\n    </tr>\n    <tr>\n      <th>4</th>\n      <td>max</td>\n      <td>1227</td>\n      <td>M</td>\n      <td>185</td>\n      <td>95</td>\n      <td>37.1</td>\n      <td>88</td>\n      <td>3040</td>\n      <td>1.35</td>\n      <td>40825</td>\n      <td>63059</td>\n      <td>48.4</td>\n    </tr>\n  </tbody>\n</table>\n</div>"
     },
     "metadata": {},
     "execution_count": 17
    }
   ],
   "source": [
    "df.describe()"
   ]
  },
  {
   "cell_type": "code",
   "execution_count": null,
   "metadata": {},
   "outputs": [],
   "source": []
  }
 ]
}