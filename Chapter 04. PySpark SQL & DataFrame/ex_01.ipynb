{
 "metadata": {
  "language_info": {
   "codemirror_mode": {
    "name": "ipython",
    "version": 3
   },
   "file_extension": ".py",
   "mimetype": "text/x-python",
   "name": "python",
   "nbconvert_exporter": "python",
   "pygments_lexer": "ipython3",
   "version": "3.8.5"
  },
  "orig_nbformat": 2,
  "kernelspec": {
   "name": "python38564bit207240a302f84cf383d7b6dbf8fca3f2",
   "display_name": "Python 3.8.5 64-bit"
  },
  "metadata": {
   "interpreter": {
    "hash": "916dbcbb3f70747c44a77c7bcd40155683ae19c65e1c03b4aa3499c5328201f1"
   }
  }
 },
 "nbformat": 4,
 "nbformat_minor": 2,
 "cells": [
  {
   "cell_type": "code",
   "execution_count": 1,
   "metadata": {},
   "outputs": [],
   "source": [
    "%load_ext autoreload\n",
    "%autoreload 2"
   ]
  },
  {
   "cell_type": "code",
   "execution_count": 35,
   "metadata": {},
   "outputs": [],
   "source": [
    "from modules.my_pyspark import *\n",
    "from modules.my_drawer import MyDrawer\n",
    "from pyspark.sql import functions as F"
   ]
  },
  {
   "cell_type": "code",
   "execution_count": 18,
   "metadata": {},
   "outputs": [],
   "source": [
    "drawer = MyDrawer()"
   ]
  },
  {
   "cell_type": "code",
   "execution_count": 3,
   "metadata": {},
   "outputs": [],
   "source": [
    "spark = MyPySpark(session=True, sql=True)"
   ]
  },
  {
   "cell_type": "code",
   "execution_count": 4,
   "metadata": {},
   "outputs": [
    {
     "output_type": "execute_result",
     "data": {
      "text/plain": [
       "<SparkContext master=local appName=pyspark-shell>"
      ],
      "text/html": "\n        <div>\n            <p><b>SparkContext</b></p>\n\n            <p><a href=\"http://192.168.5.77:4042\">Spark UI</a></p>\n\n            <dl>\n              <dt>Version</dt>\n                <dd><code>v3.1.1</code></dd>\n              <dt>Master</dt>\n                <dd><code>local</code></dd>\n              <dt>AppName</dt>\n                <dd><code>pyspark-shell</code></dd>\n            </dl>\n        </div>\n        "
     },
     "metadata": {},
     "execution_count": 4
    }
   ],
   "source": [
    "spark.context"
   ]
  },
  {
   "source": [
    "#### Task 1"
   ],
   "cell_type": "markdown",
   "metadata": {}
  },
  {
   "cell_type": "code",
   "execution_count": 5,
   "metadata": {},
   "outputs": [],
   "source": [
    "fifa_file_path = r'data/Fifa2018_dataset.csv'"
   ]
  },
  {
   "cell_type": "code",
   "execution_count": 6,
   "metadata": {},
   "outputs": [],
   "source": [
    "fifa_df = spark.readFile(fifa_file_path, 'csv')"
   ]
  },
  {
   "source": [
    "#### Task 2"
   ],
   "cell_type": "markdown",
   "metadata": {}
  },
  {
   "source": [
    "_In Schema_"
   ],
   "cell_type": "markdown",
   "metadata": {}
  },
  {
   "cell_type": "code",
   "execution_count": 7,
   "metadata": {},
   "outputs": [
    {
     "output_type": "stream",
     "name": "stdout",
     "text": [
      "root\n |-- _c0: integer (nullable = true)\n |-- Name: string (nullable = true)\n |-- Age: integer (nullable = true)\n |-- Photo: string (nullable = true)\n |-- Nationality: string (nullable = true)\n |-- Flag: string (nullable = true)\n |-- Overall: integer (nullable = true)\n |-- Potential: integer (nullable = true)\n |-- Club: string (nullable = true)\n |-- Club Logo: string (nullable = true)\n |-- Value: string (nullable = true)\n |-- Wage: string (nullable = true)\n |-- Special: integer (nullable = true)\n |-- Acceleration: string (nullable = true)\n |-- Aggression: string (nullable = true)\n |-- Agility: string (nullable = true)\n |-- Balance: string (nullable = true)\n |-- Ball control: string (nullable = true)\n |-- Composure: string (nullable = true)\n |-- Crossing: string (nullable = true)\n |-- Curve: string (nullable = true)\n |-- Dribbling: string (nullable = true)\n |-- Finishing: string (nullable = true)\n |-- Free kick accuracy: string (nullable = true)\n |-- GK diving: string (nullable = true)\n |-- GK handling: string (nullable = true)\n |-- GK kicking: string (nullable = true)\n |-- GK positioning: string (nullable = true)\n |-- GK reflexes: string (nullable = true)\n |-- Heading accuracy: string (nullable = true)\n |-- Interceptions: string (nullable = true)\n |-- Jumping: string (nullable = true)\n |-- Long passing: string (nullable = true)\n |-- Long shots: string (nullable = true)\n |-- Marking: string (nullable = true)\n |-- Penalties: string (nullable = true)\n |-- Positioning: string (nullable = true)\n |-- Reactions: string (nullable = true)\n |-- Short passing: string (nullable = true)\n |-- Shot power: string (nullable = true)\n |-- Sliding tackle: string (nullable = true)\n |-- Sprint speed: string (nullable = true)\n |-- Stamina: string (nullable = true)\n |-- Standing tackle: string (nullable = true)\n |-- Strength: string (nullable = true)\n |-- Vision: string (nullable = true)\n |-- Volleys: string (nullable = true)\n |-- CAM: double (nullable = true)\n |-- CB: double (nullable = true)\n |-- CDM: double (nullable = true)\n |-- CF: double (nullable = true)\n |-- CM: double (nullable = true)\n |-- ID: integer (nullable = true)\n |-- LAM: double (nullable = true)\n |-- LB: double (nullable = true)\n |-- LCB: double (nullable = true)\n |-- LCM: double (nullable = true)\n |-- LDM: double (nullable = true)\n |-- LF: double (nullable = true)\n |-- LM: double (nullable = true)\n |-- LS: double (nullable = true)\n |-- LW: double (nullable = true)\n |-- LWB: double (nullable = true)\n |-- Preferred Positions: string (nullable = true)\n |-- RAM: double (nullable = true)\n |-- RB: double (nullable = true)\n |-- RCB: double (nullable = true)\n |-- RCM: double (nullable = true)\n |-- RDM: double (nullable = true)\n |-- RF: double (nullable = true)\n |-- RM: double (nullable = true)\n |-- RS: double (nullable = true)\n |-- RW: double (nullable = true)\n |-- RWB: double (nullable = true)\n |-- ST: double (nullable = true)\n\n"
     ]
    }
   ],
   "source": [
    "fifa_df.printSchema()"
   ]
  },
  {
   "source": [
    "_Hiển thị hai dòng đầu của dư liệu_"
   ],
   "cell_type": "markdown",
   "metadata": {}
  },
  {
   "cell_type": "code",
   "execution_count": 8,
   "metadata": {},
   "outputs": [
    {
     "output_type": "execute_result",
     "data": {
      "text/plain": [
       "   _c0               Name  Age  \\\n",
       "0    0  Cristiano Ronaldo   32   \n",
       "1    1           L. Messi   30   \n",
       "\n",
       "                                             Photo Nationality  \\\n",
       "0   https://cdn.sofifa.org/48/18/players/20801.png    Portugal   \n",
       "1  https://cdn.sofifa.org/48/18/players/158023.png   Argentina   \n",
       "\n",
       "                                  Flag  Overall  Potential            Club  \\\n",
       "0  https://cdn.sofifa.org/flags/38.png       94         94  Real Madrid CF   \n",
       "1  https://cdn.sofifa.org/flags/52.png       93         93    FC Barcelona   \n",
       "\n",
       "                                    Club Logo  ...    RB   RCB   RCM   RDM  \\\n",
       "0  https://cdn.sofifa.org/24/18/teams/243.png  ...  61.0  53.0  82.0  62.0   \n",
       "1  https://cdn.sofifa.org/24/18/teams/241.png  ...  57.0  45.0  84.0  59.0   \n",
       "\n",
       "     RF    RM    RS    RW   RWB    ST  \n",
       "0  91.0  89.0  92.0  91.0  66.0  92.0  \n",
       "1  92.0  90.0  88.0  91.0  62.0  88.0  \n",
       "\n",
       "[2 rows x 75 columns]"
      ],
      "text/html": "<div>\n<style scoped>\n    .dataframe tbody tr th:only-of-type {\n        vertical-align: middle;\n    }\n\n    .dataframe tbody tr th {\n        vertical-align: top;\n    }\n\n    .dataframe thead th {\n        text-align: right;\n    }\n</style>\n<table border=\"1\" class=\"dataframe\">\n  <thead>\n    <tr style=\"text-align: right;\">\n      <th></th>\n      <th>_c0</th>\n      <th>Name</th>\n      <th>Age</th>\n      <th>Photo</th>\n      <th>Nationality</th>\n      <th>Flag</th>\n      <th>Overall</th>\n      <th>Potential</th>\n      <th>Club</th>\n      <th>Club Logo</th>\n      <th>...</th>\n      <th>RB</th>\n      <th>RCB</th>\n      <th>RCM</th>\n      <th>RDM</th>\n      <th>RF</th>\n      <th>RM</th>\n      <th>RS</th>\n      <th>RW</th>\n      <th>RWB</th>\n      <th>ST</th>\n    </tr>\n  </thead>\n  <tbody>\n    <tr>\n      <th>0</th>\n      <td>0</td>\n      <td>Cristiano Ronaldo</td>\n      <td>32</td>\n      <td>https://cdn.sofifa.org/48/18/players/20801.png</td>\n      <td>Portugal</td>\n      <td>https://cdn.sofifa.org/flags/38.png</td>\n      <td>94</td>\n      <td>94</td>\n      <td>Real Madrid CF</td>\n      <td>https://cdn.sofifa.org/24/18/teams/243.png</td>\n      <td>...</td>\n      <td>61.0</td>\n      <td>53.0</td>\n      <td>82.0</td>\n      <td>62.0</td>\n      <td>91.0</td>\n      <td>89.0</td>\n      <td>92.0</td>\n      <td>91.0</td>\n      <td>66.0</td>\n      <td>92.0</td>\n    </tr>\n    <tr>\n      <th>1</th>\n      <td>1</td>\n      <td>L. Messi</td>\n      <td>30</td>\n      <td>https://cdn.sofifa.org/48/18/players/158023.png</td>\n      <td>Argentina</td>\n      <td>https://cdn.sofifa.org/flags/52.png</td>\n      <td>93</td>\n      <td>93</td>\n      <td>FC Barcelona</td>\n      <td>https://cdn.sofifa.org/24/18/teams/241.png</td>\n      <td>...</td>\n      <td>57.0</td>\n      <td>45.0</td>\n      <td>84.0</td>\n      <td>59.0</td>\n      <td>92.0</td>\n      <td>90.0</td>\n      <td>88.0</td>\n      <td>91.0</td>\n      <td>62.0</td>\n      <td>88.0</td>\n    </tr>\n  </tbody>\n</table>\n<p>2 rows × 75 columns</p>\n</div>"
     },
     "metadata": {},
     "execution_count": 8
    }
   ],
   "source": [
    "fifa_df.toPandas().iloc[:2, :]"
   ]
  },
  {
   "source": [
    "_Cho biết dữ liệu có bao nhiêu dòng_"
   ],
   "cell_type": "markdown",
   "metadata": {}
  },
  {
   "cell_type": "code",
   "execution_count": 9,
   "metadata": {},
   "outputs": [
    {
     "output_type": "execute_result",
     "data": {
      "text/plain": [
       "17981"
      ]
     },
     "metadata": {},
     "execution_count": 9
    }
   ],
   "source": [
    "fifa_df.count()"
   ]
  },
  {
   "source": [
    "#### Task 3"
   ],
   "cell_type": "markdown",
   "metadata": {}
  },
  {
   "cell_type": "code",
   "execution_count": 10,
   "metadata": {},
   "outputs": [],
   "source": [
    "fifa_df.createOrReplaceTempView('fifa_table')"
   ]
  },
  {
   "source": [
    "#### Task 4"
   ],
   "cell_type": "markdown",
   "metadata": {}
  },
  {
   "cell_type": "code",
   "execution_count": 11,
   "metadata": {},
   "outputs": [],
   "source": [
    "query_0 = '''\n",
    "    select fft.Age\n",
    "    from fifa_table as fft\n",
    "    where fft.Nationality == \"Germany\"\n",
    "'''"
   ]
  },
  {
   "cell_type": "code",
   "execution_count": 12,
   "metadata": {},
   "outputs": [],
   "source": [
    "fifa_germany_age = spark.sqlQuery(query_0)"
   ]
  },
  {
   "source": [
    "_Lấy 3 dòng đầu của dữ liệu_"
   ],
   "cell_type": "markdown",
   "metadata": {}
  },
  {
   "cell_type": "code",
   "execution_count": 13,
   "metadata": {},
   "outputs": [
    {
     "output_type": "stream",
     "name": "stdout",
     "text": [
      "+---+\n|Age|\n+---+\n| 31|\n| 27|\n| 28|\n+---+\nonly showing top 3 rows\n\n"
     ]
    }
   ],
   "source": [
    "fifa_germany_age.show(3)"
   ]
  },
  {
   "source": [
    "_In thống kê dữ liệu_"
   ],
   "cell_type": "markdown",
   "metadata": {}
  },
  {
   "cell_type": "code",
   "execution_count": 15,
   "metadata": {},
   "outputs": [
    {
     "output_type": "stream",
     "name": "stdout",
     "text": [
      "+-------+-----------------+\n|summary|              Age|\n+-------+-----------------+\n|  count|             1140|\n|   mean|24.20263157894737|\n| stddev|4.197096712293756|\n|    min|               16|\n|    max|               36|\n+-------+-----------------+\n\n"
     ]
    }
   ],
   "source": [
    "fifa_germany_age.describe().show()"
   ]
  },
  {
   "source": [
    "#### Task 5"
   ],
   "cell_type": "markdown",
   "metadata": {}
  },
  {
   "source": [
    "_Trực quan hóa_"
   ],
   "cell_type": "markdown",
   "metadata": {}
  },
  {
   "cell_type": "code",
   "execution_count": 21,
   "metadata": {},
   "outputs": [],
   "source": [
    "fifa_germany_age_ser = fifa_germany_age.toPandas()['Age']"
   ]
  },
  {
   "cell_type": "code",
   "execution_count": 22,
   "metadata": {},
   "outputs": [
    {
     "output_type": "execute_result",
     "data": {
      "text/plain": [
       "0    31\n",
       "1    27\n",
       "2    28\n",
       "3    28\n",
       "4    28\n",
       "Name: Age, dtype: int32"
      ]
     },
     "metadata": {},
     "execution_count": 22
    }
   ],
   "source": [
    "fifa_germany_age_ser.head()"
   ]
  },
  {
   "cell_type": "code",
   "execution_count": 29,
   "metadata": {},
   "outputs": [
    {
     "output_type": "display_data",
     "data": {
      "text/plain": "<Figure size 720x432 with 1 Axes>",
      "image/svg+xml": "<?xml version=\"1.0\" encoding=\"utf-8\" standalone=\"no\"?>\n<!DOCTYPE svg PUBLIC \"-//W3C//DTD SVG 1.1//EN\"\n  \"http://www.w3.org/Graphics/SVG/1.1/DTD/svg11.dtd\">\n<svg height=\"370.91625pt\" version=\"1.1\" viewBox=\"0 0 615.421875 370.91625\" width=\"615.421875pt\" xmlns=\"http://www.w3.org/2000/svg\" xmlns:xlink=\"http://www.w3.org/1999/xlink\">\n <metadata>\n  <rdf:RDF xmlns:cc=\"http://creativecommons.org/ns#\" xmlns:dc=\"http://purl.org/dc/elements/1.1/\" xmlns:rdf=\"http://www.w3.org/1999/02/22-rdf-syntax-ns#\">\n   <cc:Work>\n    <dc:type rdf:resource=\"http://purl.org/dc/dcmitype/StillImage\"/>\n    <dc:date>2021-04-21T20:29:19.765866</dc:date>\n    <dc:format>image/svg+xml</dc:format>\n    <dc:creator>\n     <cc:Agent>\n      <dc:title>Matplotlib v3.4.1, https://matplotlib.org/</dc:title>\n     </cc:Agent>\n    </dc:creator>\n   </cc:Work>\n  </rdf:RDF>\n </metadata>\n <defs>\n  <style type=\"text/css\">*{stroke-linecap:butt;stroke-linejoin:round;}</style>\n </defs>\n <g id=\"figure_1\">\n  <g id=\"patch_1\">\n   <path d=\"M 0 370.91625 \nL 615.421875 370.91625 \nL 615.421875 0 \nL 0 0 \nz\n\" style=\"fill:none;\"/>\n  </g>\n  <g id=\"axes_1\">\n   <g id=\"patch_2\">\n    <path d=\"M 50.221875 333.36 \nL 608.221875 333.36 \nL 608.221875 7.2 \nL 50.221875 7.2 \nz\n\" style=\"fill:#ffffff;\"/>\n   </g>\n   <g id=\"matplotlib.axis_1\">\n    <g id=\"xtick_1\">\n     <g id=\"line2d_1\">\n      <defs>\n       <path d=\"M 0 0 \nL 0 3.5 \n\" id=\"m9e10f814f1\" style=\"stroke:#000000;stroke-width:0.8;\"/>\n      </defs>\n      <g>\n       <use style=\"stroke:#000000;stroke-width:0.8;\" x=\"62.903693\" xlink:href=\"#m9e10f814f1\" y=\"333.36\"/>\n      </g>\n     </g>\n     <g id=\"text_1\">\n      <!-- 5 -->\n      <g transform=\"translate(59.722443 347.958438)scale(0.1 -0.1)\">\n       <defs>\n        <path d=\"M 691 4666 \nL 3169 4666 \nL 3169 4134 \nL 1269 4134 \nL 1269 2991 \nQ 1406 3038 1543 3061 \nQ 1681 3084 1819 3084 \nQ 2600 3084 3056 2656 \nQ 3513 2228 3513 1497 \nQ 3513 744 3044 326 \nQ 2575 -91 1722 -91 \nQ 1428 -91 1123 -41 \nQ 819 9 494 109 \nL 494 744 \nQ 775 591 1075 516 \nQ 1375 441 1709 441 \nQ 2250 441 2565 725 \nQ 2881 1009 2881 1497 \nQ 2881 1984 2565 2268 \nQ 2250 2553 1709 2553 \nQ 1456 2553 1204 2497 \nQ 953 2441 691 2322 \nL 691 4666 \nz\n\" id=\"DejaVuSans-35\" transform=\"scale(0.015625)\"/>\n       </defs>\n       <use xlink:href=\"#DejaVuSans-35\"/>\n      </g>\n     </g>\n    </g>\n    <g id=\"xtick_2\">\n     <g id=\"line2d_2\">\n      <g>\n       <use style=\"stroke:#000000;stroke-width:0.8;\" x=\"126.312784\" xlink:href=\"#m9e10f814f1\" y=\"333.36\"/>\n      </g>\n     </g>\n     <g id=\"text_2\">\n      <!-- 10 -->\n      <g transform=\"translate(119.950284 347.958438)scale(0.1 -0.1)\">\n       <defs>\n        <path d=\"M 794 531 \nL 1825 531 \nL 1825 4091 \nL 703 3866 \nL 703 4441 \nL 1819 4666 \nL 2450 4666 \nL 2450 531 \nL 3481 531 \nL 3481 0 \nL 794 0 \nL 794 531 \nz\n\" id=\"DejaVuSans-31\" transform=\"scale(0.015625)\"/>\n        <path d=\"M 2034 4250 \nQ 1547 4250 1301 3770 \nQ 1056 3291 1056 2328 \nQ 1056 1369 1301 889 \nQ 1547 409 2034 409 \nQ 2525 409 2770 889 \nQ 3016 1369 3016 2328 \nQ 3016 3291 2770 3770 \nQ 2525 4250 2034 4250 \nz\nM 2034 4750 \nQ 2819 4750 3233 4129 \nQ 3647 3509 3647 2328 \nQ 3647 1150 3233 529 \nQ 2819 -91 2034 -91 \nQ 1250 -91 836 529 \nQ 422 1150 422 2328 \nQ 422 3509 836 4129 \nQ 1250 4750 2034 4750 \nz\n\" id=\"DejaVuSans-30\" transform=\"scale(0.015625)\"/>\n       </defs>\n       <use xlink:href=\"#DejaVuSans-31\"/>\n       <use x=\"63.623047\" xlink:href=\"#DejaVuSans-30\"/>\n      </g>\n     </g>\n    </g>\n    <g id=\"xtick_3\">\n     <g id=\"line2d_3\">\n      <g>\n       <use style=\"stroke:#000000;stroke-width:0.8;\" x=\"189.721875\" xlink:href=\"#m9e10f814f1\" y=\"333.36\"/>\n      </g>\n     </g>\n     <g id=\"text_3\">\n      <!-- 15 -->\n      <g transform=\"translate(183.359375 347.958438)scale(0.1 -0.1)\">\n       <use xlink:href=\"#DejaVuSans-31\"/>\n       <use x=\"63.623047\" xlink:href=\"#DejaVuSans-35\"/>\n      </g>\n     </g>\n    </g>\n    <g id=\"xtick_4\">\n     <g id=\"line2d_4\">\n      <g>\n       <use style=\"stroke:#000000;stroke-width:0.8;\" x=\"253.130966\" xlink:href=\"#m9e10f814f1\" y=\"333.36\"/>\n      </g>\n     </g>\n     <g id=\"text_4\">\n      <!-- 20 -->\n      <g transform=\"translate(246.768466 347.958438)scale(0.1 -0.1)\">\n       <defs>\n        <path d=\"M 1228 531 \nL 3431 531 \nL 3431 0 \nL 469 0 \nL 469 531 \nQ 828 903 1448 1529 \nQ 2069 2156 2228 2338 \nQ 2531 2678 2651 2914 \nQ 2772 3150 2772 3378 \nQ 2772 3750 2511 3984 \nQ 2250 4219 1831 4219 \nQ 1534 4219 1204 4116 \nQ 875 4013 500 3803 \nL 500 4441 \nQ 881 4594 1212 4672 \nQ 1544 4750 1819 4750 \nQ 2544 4750 2975 4387 \nQ 3406 4025 3406 3419 \nQ 3406 3131 3298 2873 \nQ 3191 2616 2906 2266 \nQ 2828 2175 2409 1742 \nQ 1991 1309 1228 531 \nz\n\" id=\"DejaVuSans-32\" transform=\"scale(0.015625)\"/>\n       </defs>\n       <use xlink:href=\"#DejaVuSans-32\"/>\n       <use x=\"63.623047\" xlink:href=\"#DejaVuSans-30\"/>\n      </g>\n     </g>\n    </g>\n    <g id=\"xtick_5\">\n     <g id=\"line2d_5\">\n      <g>\n       <use style=\"stroke:#000000;stroke-width:0.8;\" x=\"316.540057\" xlink:href=\"#m9e10f814f1\" y=\"333.36\"/>\n      </g>\n     </g>\n     <g id=\"text_5\">\n      <!-- 25 -->\n      <g transform=\"translate(310.177557 347.958438)scale(0.1 -0.1)\">\n       <use xlink:href=\"#DejaVuSans-32\"/>\n       <use x=\"63.623047\" xlink:href=\"#DejaVuSans-35\"/>\n      </g>\n     </g>\n    </g>\n    <g id=\"xtick_6\">\n     <g id=\"line2d_6\">\n      <g>\n       <use style=\"stroke:#000000;stroke-width:0.8;\" x=\"379.949148\" xlink:href=\"#m9e10f814f1\" y=\"333.36\"/>\n      </g>\n     </g>\n     <g id=\"text_6\">\n      <!-- 30 -->\n      <g transform=\"translate(373.586648 347.958438)scale(0.1 -0.1)\">\n       <defs>\n        <path d=\"M 2597 2516 \nQ 3050 2419 3304 2112 \nQ 3559 1806 3559 1356 \nQ 3559 666 3084 287 \nQ 2609 -91 1734 -91 \nQ 1441 -91 1130 -33 \nQ 819 25 488 141 \nL 488 750 \nQ 750 597 1062 519 \nQ 1375 441 1716 441 \nQ 2309 441 2620 675 \nQ 2931 909 2931 1356 \nQ 2931 1769 2642 2001 \nQ 2353 2234 1838 2234 \nL 1294 2234 \nL 1294 2753 \nL 1863 2753 \nQ 2328 2753 2575 2939 \nQ 2822 3125 2822 3475 \nQ 2822 3834 2567 4026 \nQ 2313 4219 1838 4219 \nQ 1578 4219 1281 4162 \nQ 984 4106 628 3988 \nL 628 4550 \nQ 988 4650 1302 4700 \nQ 1616 4750 1894 4750 \nQ 2613 4750 3031 4423 \nQ 3450 4097 3450 3541 \nQ 3450 3153 3228 2886 \nQ 3006 2619 2597 2516 \nz\n\" id=\"DejaVuSans-33\" transform=\"scale(0.015625)\"/>\n       </defs>\n       <use xlink:href=\"#DejaVuSans-33\"/>\n       <use x=\"63.623047\" xlink:href=\"#DejaVuSans-30\"/>\n      </g>\n     </g>\n    </g>\n    <g id=\"xtick_7\">\n     <g id=\"line2d_7\">\n      <g>\n       <use style=\"stroke:#000000;stroke-width:0.8;\" x=\"443.358239\" xlink:href=\"#m9e10f814f1\" y=\"333.36\"/>\n      </g>\n     </g>\n     <g id=\"text_7\">\n      <!-- 35 -->\n      <g transform=\"translate(436.995739 347.958438)scale(0.1 -0.1)\">\n       <use xlink:href=\"#DejaVuSans-33\"/>\n       <use x=\"63.623047\" xlink:href=\"#DejaVuSans-35\"/>\n      </g>\n     </g>\n    </g>\n    <g id=\"xtick_8\">\n     <g id=\"line2d_8\">\n      <g>\n       <use style=\"stroke:#000000;stroke-width:0.8;\" x=\"506.76733\" xlink:href=\"#m9e10f814f1\" y=\"333.36\"/>\n      </g>\n     </g>\n     <g id=\"text_8\">\n      <!-- 40 -->\n      <g transform=\"translate(500.40483 347.958438)scale(0.1 -0.1)\">\n       <defs>\n        <path d=\"M 2419 4116 \nL 825 1625 \nL 2419 1625 \nL 2419 4116 \nz\nM 2253 4666 \nL 3047 4666 \nL 3047 1625 \nL 3713 1625 \nL 3713 1100 \nL 3047 1100 \nL 3047 0 \nL 2419 0 \nL 2419 1100 \nL 313 1100 \nL 313 1709 \nL 2253 4666 \nz\n\" id=\"DejaVuSans-34\" transform=\"scale(0.015625)\"/>\n       </defs>\n       <use xlink:href=\"#DejaVuSans-34\"/>\n       <use x=\"63.623047\" xlink:href=\"#DejaVuSans-30\"/>\n      </g>\n     </g>\n    </g>\n    <g id=\"xtick_9\">\n     <g id=\"line2d_9\">\n      <g>\n       <use style=\"stroke:#000000;stroke-width:0.8;\" x=\"570.17642\" xlink:href=\"#m9e10f814f1\" y=\"333.36\"/>\n      </g>\n     </g>\n     <g id=\"text_9\">\n      <!-- 45 -->\n      <g transform=\"translate(563.81392 347.958438)scale(0.1 -0.1)\">\n       <use xlink:href=\"#DejaVuSans-34\"/>\n       <use x=\"63.623047\" xlink:href=\"#DejaVuSans-35\"/>\n      </g>\n     </g>\n    </g>\n    <g id=\"text_10\">\n     <!-- Age -->\n     <g style=\"fill:#0000ff;\" transform=\"translate(318.382031 361.558437)scale(0.1 -0.1)\">\n      <defs>\n       <path d=\"M 3419 850 \nL 1538 850 \nL 1241 0 \nL 31 0 \nL 1759 4666 \nL 3194 4666 \nL 4922 0 \nL 3713 0 \nL 3419 850 \nz\nM 1838 1716 \nL 3116 1716 \nL 2478 3572 \nL 1838 1716 \nz\n\" id=\"DejaVuSans-Bold-41\" transform=\"scale(0.015625)\"/>\n       <path d=\"M 2919 594 \nQ 2688 288 2409 144 \nQ 2131 0 1766 0 \nQ 1125 0 706 504 \nQ 288 1009 288 1791 \nQ 288 2575 706 3076 \nQ 1125 3578 1766 3578 \nQ 2131 3578 2409 3434 \nQ 2688 3291 2919 2981 \nL 2919 3500 \nL 4044 3500 \nL 4044 353 \nQ 4044 -491 3511 -936 \nQ 2978 -1381 1966 -1381 \nQ 1638 -1381 1331 -1331 \nQ 1025 -1281 716 -1178 \nL 716 -306 \nQ 1009 -475 1290 -558 \nQ 1572 -641 1856 -641 \nQ 2406 -641 2662 -400 \nQ 2919 -159 2919 353 \nL 2919 594 \nz\nM 2181 2772 \nQ 1834 2772 1640 2515 \nQ 1447 2259 1447 1791 \nQ 1447 1309 1634 1061 \nQ 1822 813 2181 813 \nQ 2531 813 2725 1069 \nQ 2919 1325 2919 1791 \nQ 2919 2259 2725 2515 \nQ 2531 2772 2181 2772 \nz\n\" id=\"DejaVuSans-Bold-67\" transform=\"scale(0.015625)\"/>\n       <path d=\"M 4031 1759 \nL 4031 1441 \nL 1416 1441 \nQ 1456 1047 1700 850 \nQ 1944 653 2381 653 \nQ 2734 653 3104 758 \nQ 3475 863 3866 1075 \nL 3866 213 \nQ 3469 63 3072 -14 \nQ 2675 -91 2278 -91 \nQ 1328 -91 801 392 \nQ 275 875 275 1747 \nQ 275 2603 792 3093 \nQ 1309 3584 2216 3584 \nQ 3041 3584 3536 3087 \nQ 4031 2591 4031 1759 \nz\nM 2881 2131 \nQ 2881 2450 2695 2645 \nQ 2509 2841 2209 2841 \nQ 1884 2841 1681 2658 \nQ 1478 2475 1428 2131 \nL 2881 2131 \nz\n\" id=\"DejaVuSans-Bold-65\" transform=\"scale(0.015625)\"/>\n      </defs>\n      <use xlink:href=\"#DejaVuSans-Bold-41\"/>\n      <use x=\"77.392578\" xlink:href=\"#DejaVuSans-Bold-67\"/>\n      <use x=\"148.974609\" xlink:href=\"#DejaVuSans-Bold-65\"/>\n     </g>\n    </g>\n   </g>\n   <g id=\"matplotlib.axis_2\">\n    <g id=\"ytick_1\">\n     <g id=\"line2d_10\">\n      <defs>\n       <path d=\"M 0 0 \nL -3.5 0 \n\" id=\"m406647217b\" style=\"stroke:#000000;stroke-width:0.8;\"/>\n      </defs>\n      <g>\n       <use style=\"stroke:#000000;stroke-width:0.8;\" x=\"50.221875\" xlink:href=\"#m406647217b\" y=\"318.534545\"/>\n      </g>\n     </g>\n     <g id=\"text_11\">\n      <!-- 0.00 -->\n      <g transform=\"translate(20.95625 322.333764)scale(0.1 -0.1)\">\n       <defs>\n        <path d=\"M 684 794 \nL 1344 794 \nL 1344 0 \nL 684 0 \nL 684 794 \nz\n\" id=\"DejaVuSans-2e\" transform=\"scale(0.015625)\"/>\n       </defs>\n       <use xlink:href=\"#DejaVuSans-30\"/>\n       <use x=\"63.623047\" xlink:href=\"#DejaVuSans-2e\"/>\n       <use x=\"95.410156\" xlink:href=\"#DejaVuSans-30\"/>\n       <use x=\"159.033203\" xlink:href=\"#DejaVuSans-30\"/>\n      </g>\n     </g>\n    </g>\n    <g id=\"ytick_2\">\n     <g id=\"line2d_11\">\n      <g>\n       <use style=\"stroke:#000000;stroke-width:0.8;\" x=\"50.221875\" xlink:href=\"#m406647217b\" y=\"249.836312\"/>\n      </g>\n     </g>\n     <g id=\"text_12\">\n      <!-- 0.02 -->\n      <g transform=\"translate(20.95625 253.635531)scale(0.1 -0.1)\">\n       <use xlink:href=\"#DejaVuSans-30\"/>\n       <use x=\"63.623047\" xlink:href=\"#DejaVuSans-2e\"/>\n       <use x=\"95.410156\" xlink:href=\"#DejaVuSans-30\"/>\n       <use x=\"159.033203\" xlink:href=\"#DejaVuSans-32\"/>\n      </g>\n     </g>\n    </g>\n    <g id=\"ytick_3\">\n     <g id=\"line2d_12\">\n      <g>\n       <use style=\"stroke:#000000;stroke-width:0.8;\" x=\"50.221875\" xlink:href=\"#m406647217b\" y=\"181.138079\"/>\n      </g>\n     </g>\n     <g id=\"text_13\">\n      <!-- 0.04 -->\n      <g transform=\"translate(20.95625 184.937298)scale(0.1 -0.1)\">\n       <use xlink:href=\"#DejaVuSans-30\"/>\n       <use x=\"63.623047\" xlink:href=\"#DejaVuSans-2e\"/>\n       <use x=\"95.410156\" xlink:href=\"#DejaVuSans-30\"/>\n       <use x=\"159.033203\" xlink:href=\"#DejaVuSans-34\"/>\n      </g>\n     </g>\n    </g>\n    <g id=\"ytick_4\">\n     <g id=\"line2d_13\">\n      <g>\n       <use style=\"stroke:#000000;stroke-width:0.8;\" x=\"50.221875\" xlink:href=\"#m406647217b\" y=\"112.439846\"/>\n      </g>\n     </g>\n     <g id=\"text_14\">\n      <!-- 0.06 -->\n      <g transform=\"translate(20.95625 116.239065)scale(0.1 -0.1)\">\n       <defs>\n        <path d=\"M 2113 2584 \nQ 1688 2584 1439 2293 \nQ 1191 2003 1191 1497 \nQ 1191 994 1439 701 \nQ 1688 409 2113 409 \nQ 2538 409 2786 701 \nQ 3034 994 3034 1497 \nQ 3034 2003 2786 2293 \nQ 2538 2584 2113 2584 \nz\nM 3366 4563 \nL 3366 3988 \nQ 3128 4100 2886 4159 \nQ 2644 4219 2406 4219 \nQ 1781 4219 1451 3797 \nQ 1122 3375 1075 2522 \nQ 1259 2794 1537 2939 \nQ 1816 3084 2150 3084 \nQ 2853 3084 3261 2657 \nQ 3669 2231 3669 1497 \nQ 3669 778 3244 343 \nQ 2819 -91 2113 -91 \nQ 1303 -91 875 529 \nQ 447 1150 447 2328 \nQ 447 3434 972 4092 \nQ 1497 4750 2381 4750 \nQ 2619 4750 2861 4703 \nQ 3103 4656 3366 4563 \nz\n\" id=\"DejaVuSans-36\" transform=\"scale(0.015625)\"/>\n       </defs>\n       <use xlink:href=\"#DejaVuSans-30\"/>\n       <use x=\"63.623047\" xlink:href=\"#DejaVuSans-2e\"/>\n       <use x=\"95.410156\" xlink:href=\"#DejaVuSans-30\"/>\n       <use x=\"159.033203\" xlink:href=\"#DejaVuSans-36\"/>\n      </g>\n     </g>\n    </g>\n    <g id=\"ytick_5\">\n     <g id=\"line2d_14\">\n      <g>\n       <use style=\"stroke:#000000;stroke-width:0.8;\" x=\"50.221875\" xlink:href=\"#m406647217b\" y=\"43.741614\"/>\n      </g>\n     </g>\n     <g id=\"text_15\">\n      <!-- 0.08 -->\n      <g transform=\"translate(20.95625 47.540832)scale(0.1 -0.1)\">\n       <defs>\n        <path d=\"M 2034 2216 \nQ 1584 2216 1326 1975 \nQ 1069 1734 1069 1313 \nQ 1069 891 1326 650 \nQ 1584 409 2034 409 \nQ 2484 409 2743 651 \nQ 3003 894 3003 1313 \nQ 3003 1734 2745 1975 \nQ 2488 2216 2034 2216 \nz\nM 1403 2484 \nQ 997 2584 770 2862 \nQ 544 3141 544 3541 \nQ 544 4100 942 4425 \nQ 1341 4750 2034 4750 \nQ 2731 4750 3128 4425 \nQ 3525 4100 3525 3541 \nQ 3525 3141 3298 2862 \nQ 3072 2584 2669 2484 \nQ 3125 2378 3379 2068 \nQ 3634 1759 3634 1313 \nQ 3634 634 3220 271 \nQ 2806 -91 2034 -91 \nQ 1263 -91 848 271 \nQ 434 634 434 1313 \nQ 434 1759 690 2068 \nQ 947 2378 1403 2484 \nz\nM 1172 3481 \nQ 1172 3119 1398 2916 \nQ 1625 2713 2034 2713 \nQ 2441 2713 2670 2916 \nQ 2900 3119 2900 3481 \nQ 2900 3844 2670 4047 \nQ 2441 4250 2034 4250 \nQ 1625 4250 1398 4047 \nQ 1172 3844 1172 3481 \nz\n\" id=\"DejaVuSans-38\" transform=\"scale(0.015625)\"/>\n       </defs>\n       <use xlink:href=\"#DejaVuSans-30\"/>\n       <use x=\"63.623047\" xlink:href=\"#DejaVuSans-2e\"/>\n       <use x=\"95.410156\" xlink:href=\"#DejaVuSans-30\"/>\n       <use x=\"159.033203\" xlink:href=\"#DejaVuSans-38\"/>\n      </g>\n     </g>\n    </g>\n    <g id=\"text_16\">\n     <!-- Density -->\n     <g style=\"fill:#0000ff;\" transform=\"translate(14.798437 191.720625)rotate(-90)scale(0.1 -0.1)\">\n      <defs>\n       <path d=\"M 1791 3756 \nL 1791 909 \nL 2222 909 \nQ 2959 909 3348 1275 \nQ 3738 1641 3738 2338 \nQ 3738 3031 3350 3393 \nQ 2963 3756 2222 3756 \nL 1791 3756 \nz\nM 588 4666 \nL 1856 4666 \nQ 2919 4666 3439 4514 \nQ 3959 4363 4331 4000 \nQ 4659 3684 4818 3271 \nQ 4978 2859 4978 2338 \nQ 4978 1809 4818 1395 \nQ 4659 981 4331 666 \nQ 3956 303 3431 151 \nQ 2906 0 1856 0 \nL 588 0 \nL 588 4666 \nz\n\" id=\"DejaVuSans-Bold-44\" transform=\"scale(0.015625)\"/>\n       <path d=\"M 4056 2131 \nL 4056 0 \nL 2931 0 \nL 2931 347 \nL 2931 1631 \nQ 2931 2084 2911 2256 \nQ 2891 2428 2841 2509 \nQ 2775 2619 2662 2680 \nQ 2550 2741 2406 2741 \nQ 2056 2741 1856 2470 \nQ 1656 2200 1656 1722 \nL 1656 0 \nL 538 0 \nL 538 3500 \nL 1656 3500 \nL 1656 2988 \nQ 1909 3294 2193 3439 \nQ 2478 3584 2822 3584 \nQ 3428 3584 3742 3212 \nQ 4056 2841 4056 2131 \nz\n\" id=\"DejaVuSans-Bold-6e\" transform=\"scale(0.015625)\"/>\n       <path d=\"M 3272 3391 \nL 3272 2541 \nQ 2913 2691 2578 2766 \nQ 2244 2841 1947 2841 \nQ 1628 2841 1473 2761 \nQ 1319 2681 1319 2516 \nQ 1319 2381 1436 2309 \nQ 1553 2238 1856 2203 \nL 2053 2175 \nQ 2913 2066 3209 1816 \nQ 3506 1566 3506 1031 \nQ 3506 472 3093 190 \nQ 2681 -91 1863 -91 \nQ 1516 -91 1145 -36 \nQ 775 19 384 128 \nL 384 978 \nQ 719 816 1070 734 \nQ 1422 653 1784 653 \nQ 2113 653 2278 743 \nQ 2444 834 2444 1013 \nQ 2444 1163 2330 1236 \nQ 2216 1309 1875 1350 \nL 1678 1375 \nQ 931 1469 631 1722 \nQ 331 1975 331 2491 \nQ 331 3047 712 3315 \nQ 1094 3584 1881 3584 \nQ 2191 3584 2531 3537 \nQ 2872 3491 3272 3391 \nz\n\" id=\"DejaVuSans-Bold-73\" transform=\"scale(0.015625)\"/>\n       <path d=\"M 538 3500 \nL 1656 3500 \nL 1656 0 \nL 538 0 \nL 538 3500 \nz\nM 538 4863 \nL 1656 4863 \nL 1656 3950 \nL 538 3950 \nL 538 4863 \nz\n\" id=\"DejaVuSans-Bold-69\" transform=\"scale(0.015625)\"/>\n       <path d=\"M 1759 4494 \nL 1759 3500 \nL 2913 3500 \nL 2913 2700 \nL 1759 2700 \nL 1759 1216 \nQ 1759 972 1856 886 \nQ 1953 800 2241 800 \nL 2816 800 \nL 2816 0 \nL 1856 0 \nQ 1194 0 917 276 \nQ 641 553 641 1216 \nL 641 2700 \nL 84 2700 \nL 84 3500 \nL 641 3500 \nL 641 4494 \nL 1759 4494 \nz\n\" id=\"DejaVuSans-Bold-74\" transform=\"scale(0.015625)\"/>\n       <path d=\"M 78 3500 \nL 1197 3500 \nL 2138 1125 \nL 2938 3500 \nL 4056 3500 \nL 2584 -331 \nQ 2363 -916 2067 -1148 \nQ 1772 -1381 1288 -1381 \nL 641 -1381 \nL 641 -647 \nL 991 -647 \nQ 1275 -647 1404 -556 \nQ 1534 -466 1606 -231 \nL 1638 -134 \nL 78 3500 \nz\n\" id=\"DejaVuSans-Bold-79\" transform=\"scale(0.015625)\"/>\n      </defs>\n      <use xlink:href=\"#DejaVuSans-Bold-44\"/>\n      <use x=\"83.007812\" xlink:href=\"#DejaVuSans-Bold-65\"/>\n      <use x=\"150.830078\" xlink:href=\"#DejaVuSans-Bold-6e\"/>\n      <use x=\"222.021484\" xlink:href=\"#DejaVuSans-Bold-73\"/>\n      <use x=\"281.542969\" xlink:href=\"#DejaVuSans-Bold-69\"/>\n      <use x=\"315.820312\" xlink:href=\"#DejaVuSans-Bold-74\"/>\n      <use x=\"363.623047\" xlink:href=\"#DejaVuSans-Bold-79\"/>\n     </g>\n    </g>\n   </g>\n   <g id=\"line2d_15\">\n    <path clip-path=\"url(#pc967dd9fd8)\" d=\"M 75.585511 318.534545 \nL 170.540466 318.427179 \nL 176.126052 318.179232 \nL 179.680515 317.818251 \nL 182.727199 317.273832 \nL 185.266101 316.563682 \nL 187.297223 315.76045 \nL 189.328345 314.682768 \nL 190.851687 313.651198 \nL 192.375028 312.389853 \nL 193.89837 310.860472 \nL 195.421711 309.021752 \nL 196.945053 306.829967 \nL 198.468394 304.239847 \nL 199.991736 301.205728 \nL 201.515077 297.682969 \nL 203.038419 293.629629 \nL 204.56176 289.00834 \nL 206.085102 283.78832 \nL 208.116224 275.860122 \nL 210.147346 266.806839 \nL 212.178468 256.64617 \nL 214.20959 245.440528 \nL 216.748493 230.133213 \nL 219.795176 210.272235 \nL 225.380761 171.862665 \nL 229.443005 144.516616 \nL 232.489688 125.401798 \nL 235.028591 110.760125 \nL 237.567493 97.458284 \nL 239.598615 87.830614 \nL 241.629737 79.108514 \nL 243.660859 71.271303 \nL 245.691981 64.281084 \nL 247.723104 58.087868 \nL 249.754226 52.633734 \nL 251.785348 47.855979 \nL 253.81647 43.689445 \nL 255.847592 40.068299 \nL 257.878714 36.927589 \nL 259.909836 34.204853 \nL 261.940958 31.84196 \nL 263.97208 29.787238 \nL 266.003202 27.997843 \nL 268.542104 26.087356 \nL 271.081007 24.511495 \nL 273.112129 23.494407 \nL 275.143251 22.715393 \nL 277.174373 22.209972 \nL 278.697714 22.038586 \nL 280.221056 22.070467 \nL 281.744398 22.329482 \nL 283.267739 22.838868 \nL 284.791081 23.61952 \nL 286.314422 24.688262 \nL 287.837764 26.05622 \nL 289.361105 27.727417 \nL 290.884447 29.697706 \nL 292.915569 32.766324 \nL 294.946691 36.287281 \nL 297.485593 41.198358 \nL 301.040057 48.649222 \nL 306.117862 59.278941 \nL 308.656764 64.102169 \nL 310.687886 67.571133 \nL 312.719008 70.638155 \nL 314.750131 73.281116 \nL 316.781253 75.505103 \nL 318.812375 77.340242 \nL 320.843497 78.838104 \nL 322.874619 80.06707 \nL 325.413521 81.347648 \nL 332.014668 84.501584 \nL 334.04579 85.734956 \nL 336.076912 87.208944 \nL 338.108034 88.972277 \nL 340.139156 91.061104 \nL 342.170278 93.499383 \nL 344.2014 96.299827 \nL 346.232522 99.465216 \nL 348.263644 102.989869 \nL 350.802547 107.881029 \nL 353.341449 113.276365 \nL 356.388132 120.348383 \nL 359.434815 127.978062 \nL 363.497059 138.81762 \nL 369.590425 155.862258 \nL 376.699352 175.604431 \nL 381.269377 187.582045 \nL 385.331621 197.59097 \nL 389.393865 207.02506 \nL 393.96389 217.072311 \nL 399.041695 227.689463 \nL 404.1195 237.805495 \nL 408.689524 246.463474 \nL 413.259549 254.670102 \nL 417.829574 262.434472 \nL 422.907379 270.595586 \nL 427.985184 278.31096 \nL 432.555208 284.846709 \nL 436.617452 290.254515 \nL 440.171916 294.60484 \nL 443.218599 298.010491 \nL 446.265282 301.100044 \nL 449.311965 303.87371 \nL 452.358648 306.345604 \nL 455.405331 308.53745 \nL 458.452014 310.471238 \nL 461.498697 312.163781 \nL 464.54538 313.625066 \nL 467.592063 314.860519 \nL 470.638746 315.875625 \nL 473.685429 316.680608 \nL 477.239893 317.378251 \nL 480.794357 317.854955 \nL 485.364381 318.221782 \nL 490.949967 318.430164 \nL 500.597796 318.524073 \nL 546.805823 318.534545 \nL 582.858239 318.534545 \nL 582.858239 318.534545 \n\" style=\"fill:none;stroke:#1f77b4;stroke-linecap:square;stroke-width:1.5;\"/>\n   </g>\n   <g id=\"patch_3\">\n    <path d=\"M 50.221875 333.36 \nL 50.221875 7.2 \n\" style=\"fill:none;stroke:#000000;stroke-linecap:square;stroke-linejoin:miter;stroke-width:0.8;\"/>\n   </g>\n   <g id=\"patch_4\">\n    <path d=\"M 608.221875 333.36 \nL 608.221875 7.2 \n\" style=\"fill:none;stroke:#000000;stroke-linecap:square;stroke-linejoin:miter;stroke-width:0.8;\"/>\n   </g>\n   <g id=\"patch_5\">\n    <path d=\"M 50.221875 333.36 \nL 608.221875 333.36 \n\" style=\"fill:none;stroke:#000000;stroke-linecap:square;stroke-linejoin:miter;stroke-width:0.8;\"/>\n   </g>\n   <g id=\"patch_6\">\n    <path d=\"M 50.221875 7.2 \nL 608.221875 7.2 \n\" style=\"fill:none;stroke:#000000;stroke-linecap:square;stroke-linejoin:miter;stroke-width:0.8;\"/>\n   </g>\n  </g>\n </g>\n <defs>\n  <clipPath id=\"pc967dd9fd8\">\n   <rect height=\"326.16\" width=\"558\" x=\"50.221875\" y=\"7.2\"/>\n  </clipPath>\n </defs>\n</svg>\n",
      "image/png": "[encoded data removed]"
     },
     "metadata": {
      "needs_background": "light"
     }
    }
   ],
   "source": [
    "drawer.line(fifa_germany_age_ser, kind='density', figsize=(10, 6))"
   ]
  },
  {
   "source": [
    "> **Nhận xét**\n",
    "> * Biểu đồ có phân phối hơi lệch trái, có thể dùng log-normal để chuẩn lại cho thành phân phối chuẩn."
   ],
   "cell_type": "markdown",
   "metadata": {}
  },
  {
   "source": [
    "#### Task 6"
   ],
   "cell_type": "markdown",
   "metadata": {}
  },
  {
   "source": [
    "_Mỗi độ tuổi có bao nhiêu cầu thủ_"
   ],
   "cell_type": "markdown",
   "metadata": {}
  },
  {
   "cell_type": "code",
   "execution_count": 30,
   "metadata": {},
   "outputs": [
    {
     "output_type": "stream",
     "name": "stdout",
     "text": [
      "+---+-----+\n|Age|count|\n+---+-----+\n| 31|  671|\n| 34|  272|\n| 28| 1051|\n| 26| 1202|\n| 27| 1152|\n| 44|    2|\n| 22| 1324|\n| 47|    1|\n| 16|   13|\n| 20| 1245|\n| 40|    8|\n| 19| 1069|\n| 41|    3|\n| 43|    2|\n| 37|   69|\n| 17|  258|\n| 35|  191|\n| 39|   20|\n| 23| 1394|\n| 38|   36|\n+---+-----+\nonly showing top 20 rows\n\n"
     ]
    }
   ],
   "source": [
    "fifa_df.groupBy('Age').count().show()"
   ]
  },
  {
   "source": [
    "_Độ tuổi trung bình của cầu thủ tại mỗi quốc gia_"
   ],
   "cell_type": "markdown",
   "metadata": {}
  },
  {
   "cell_type": "code",
   "execution_count": 31,
   "metadata": {},
   "outputs": [
    {
     "output_type": "stream",
     "name": "stdout",
     "text": [
      "+--------------+------------------+\n|   Nationality|          avg(Age)|\n+--------------+------------------+\n|          Chad|              25.0|\n|        Russia| 25.23202614379085|\n|      Paraguay| 26.10144927536232|\n|       Senegal|25.046511627906977|\n|        Sweden|25.119565217391305|\n|        Guyana|              28.0|\n|       Eritrea|              32.0|\n|   Philippines|25.666666666666668|\n|          Fiji|              29.0|\n|        Turkey|25.127147766323024|\n|          Iraq|              26.0|\n|       Germany| 24.20263157894737|\n|St Kitts Nevis|26.666666666666668|\n|       Comoros| 27.11111111111111|\n|   Afghanistan|              22.0|\n|   Ivory Coast| 24.10891089108911|\n|         Sudan|              22.5|\n|        France|24.634969325153374|\n|        Greece|24.418367346938776|\n|        Kosovo|           23.9375|\n+--------------+------------------+\nonly showing top 20 rows\n\n"
     ]
    }
   ],
   "source": [
    "fifa_df.groupBy('Nationality').avg('Age').show()"
   ]
  },
  {
   "source": [
    "#### Task 7"
   ],
   "cell_type": "markdown",
   "metadata": {}
  },
  {
   "cell_type": "code",
   "execution_count": 36,
   "metadata": {},
   "outputs": [
    {
     "output_type": "stream",
     "name": "stdout",
     "text": [
      "+--------------+--------+--------+-------------+-------------+\n|   Nationality|min(Age)|max(Age)|min(Strength)|max(Strength)|\n+--------------+--------+--------+-------------+-------------+\n|          Chad|      24|      26|           73|           79|\n|      Paraguay|      18|      37|           33|           91|\n|        Russia|      17|      37|           26|           93|\n|       Senegal|      18|      34|           37|           94|\n|        Sweden|      17|      37|           21|           91|\n|        Guyana|      25|      34|           47|           75|\n|       Eritrea|      32|      32|           85|           85|\n|   Philippines|      22|      28|           42|           76|\n|          Fiji|      29|      29|           57|           57|\n|        Turkey|      17|      39|           30|           90|\n|          Iraq|      21|      30|           55|           86|\n|       Germany|      16|      36|           28|           94|\n|St Kitts Nevis|      23|      32|           32|           84|\n|       Comoros|      23|      32|           28|           82|\n|   Afghanistan|      19|      27|           40|           58|\n|   Ivory Coast|      17|      34|           38|           92|\n|         Sudan|      22|      23|           41|           62|\n|        France|      16|      40|           26|           93|\n|        Greece|      18|      38|           32|           91|\n|        Kosovo|      18|      33|           30|           90|\n+--------------+--------+--------+-------------+-------------+\nonly showing top 20 rows\n\n"
     ]
    }
   ],
   "source": [
    "fifa_df.groupBy('Nationality').agg(F.min('Age'), F.max('Age'), F.min('Strength'), F.max('Strength')).show()"
   ]
  },
  {
   "source": [
    "#### Task 8"
   ],
   "cell_type": "markdown",
   "metadata": {}
  },
  {
   "source": [
    "_Theo dataframe_"
   ],
   "cell_type": "markdown",
   "metadata": {}
  },
  {
   "cell_type": "code",
   "execution_count": 37,
   "metadata": {},
   "outputs": [
    {
     "output_type": "stream",
     "name": "stdout",
     "text": [
      "+--------------------+\n|                Club|\n+--------------------+\n|             Palermo|\n|         Yeovil Town|\n|  1. FC Union Berlin|\n|  Santiago Wanderers|\n|               Carpi|\n|Evkur Yeni Malaty...|\n|          Sagan Tosu|\n|            FC Basel|\n|  Argentinos Juniors|\n|       Karlsruher SC|\n|  Lorca Deportiva CF|\n|     SC Paderborn 07|\n|     Cheltenham Town|\n|San Lorenzo de Al...|\n|         SC Freiburg|\n|  SpVgg Unterhaching|\n|Atletico Nacional...|\n|Universidad Católica|\n|         GFC Ajaccio|\n|           FC Luzern|\n+--------------------+\nonly showing top 20 rows\n\n"
     ]
    }
   ],
   "source": [
    "fifa_df.select('Club').distinct().show()"
   ]
  },
  {
   "source": [
    "_Theo SQL query_"
   ],
   "cell_type": "markdown",
   "metadata": {}
  },
  {
   "cell_type": "code",
   "execution_count": 38,
   "metadata": {},
   "outputs": [],
   "source": [
    "query_1 = '''\n",
    "    select distinct fft.Club\n",
    "    from fifa_table as fft\n",
    "'''"
   ]
  },
  {
   "cell_type": "code",
   "execution_count": 39,
   "metadata": {},
   "outputs": [
    {
     "output_type": "stream",
     "name": "stdout",
     "text": [
      "+--------------------+\n|                Club|\n+--------------------+\n|             Palermo|\n|         Yeovil Town|\n|  1. FC Union Berlin|\n|  Santiago Wanderers|\n|               Carpi|\n|Evkur Yeni Malaty...|\n|          Sagan Tosu|\n|            FC Basel|\n|  Argentinos Juniors|\n|       Karlsruher SC|\n|  Lorca Deportiva CF|\n|     SC Paderborn 07|\n|     Cheltenham Town|\n|San Lorenzo de Al...|\n|         SC Freiburg|\n|  SpVgg Unterhaching|\n|Atletico Nacional...|\n|Universidad Católica|\n|         GFC Ajaccio|\n|           FC Luzern|\n+--------------------+\nonly showing top 20 rows\n\n"
     ]
    }
   ],
   "source": [
    "spark.sqlQuery(query_1).show()"
   ]
  },
  {
   "source": [
    "#### Task 9"
   ],
   "cell_type": "markdown",
   "metadata": {}
  },
  {
   "cell_type": "code",
   "execution_count": 42,
   "metadata": {},
   "outputs": [],
   "source": [
    "fifa_df_desc = fifa_df.orderBy(fifa_df['Age'].desc())"
   ]
  },
  {
   "cell_type": "code",
   "execution_count": 43,
   "metadata": {},
   "outputs": [
    {
     "output_type": "execute_result",
     "data": {
      "text/plain": [
       "         _c0           Name  Age  \\\n",
       "0      17977  B. Richardson   47   \n",
       "1       4839       O. Pérez   44   \n",
       "2       5314   E. El Hadary   44   \n",
       "3      16696       D. Coyne   43   \n",
       "4      16834      J. Walker   43   \n",
       "...      ...            ...  ...   \n",
       "17976  16116      M. Sprang   16   \n",
       "17977  17014    R. Strechie   16   \n",
       "17978  17025      L. Pintor   16   \n",
       "17979  17055     V. Barbero   16   \n",
       "17980  17667        J. Hove   16   \n",
       "\n",
       "                                                 Photo Nationality  \\\n",
       "0       https://cdn.sofifa.org/48/18/players/11728.png     England   \n",
       "1      https://cdn.sofifa.org/48/18/players/140029.png      Mexico   \n",
       "2      https://cdn.sofifa.org/48/18/players/188033.png       Egypt   \n",
       "3       https://cdn.sofifa.org/48/18/players/53506.png       Wales   \n",
       "4       https://cdn.sofifa.org/48/18/players/53643.png     England   \n",
       "...                                                ...         ...   \n",
       "17976  https://cdn.sofifa.org/48/18/players/239689.png     Germany   \n",
       "17977  https://cdn.sofifa.org/48/18/players/240419.png     Romania   \n",
       "17978  https://cdn.sofifa.org/48/18/players/240941.png      France   \n",
       "17979  https://cdn.sofifa.org/48/18/players/237125.png   Argentina   \n",
       "17980  https://cdn.sofifa.org/48/18/players/234066.png      Norway   \n",
       "\n",
       "                                       Flag  Overall  Potential  \\\n",
       "0       https://cdn.sofifa.org/flags/14.png       46         46   \n",
       "1       https://cdn.sofifa.org/flags/83.png       71         71   \n",
       "2      https://cdn.sofifa.org/flags/111.png       70         70   \n",
       "3       https://cdn.sofifa.org/flags/50.png       55         55   \n",
       "4       https://cdn.sofifa.org/flags/14.png       55         55   \n",
       "...                                     ...      ...        ...   \n",
       "17976   https://cdn.sofifa.org/flags/21.png       57         70   \n",
       "17977   https://cdn.sofifa.org/flags/39.png       54         66   \n",
       "17978   https://cdn.sofifa.org/flags/18.png       54         78   \n",
       "17979   https://cdn.sofifa.org/flags/52.png       54         72   \n",
       "17980   https://cdn.sofifa.org/flags/36.png       51         69   \n",
       "\n",
       "                        Club                                      Club Logo  \\\n",
       "0          Wycombe Wanderers    https://cdn.sofifa.org/24/18/teams/1933.png   \n",
       "1                    Pachuca  https://cdn.sofifa.org/24/18/teams/110147.png   \n",
       "2                 Al Taawoun  https://cdn.sofifa.org/24/18/teams/112393.png   \n",
       "3                 Shrewsbury     https://cdn.sofifa.org/24/18/teams/127.png   \n",
       "4               Lincoln City     https://cdn.sofifa.org/24/18/teams/149.png   \n",
       "...                      ...                                            ...   \n",
       "17976            FSV Zwickau  https://cdn.sofifa.org/24/18/teams/110592.png   \n",
       "17977  F.B.C. Unione Venezia     https://cdn.sofifa.org/24/18/teams/205.png   \n",
       "17978      Stade Brestois 29     https://cdn.sofifa.org/24/18/teams/378.png   \n",
       "17979    Belgrano de Córdoba  https://cdn.sofifa.org/24/18/teams/111022.png   \n",
       "17980                Sogndal    https://cdn.sofifa.org/24/18/teams/1465.png   \n",
       "\n",
       "       ...    RB   RCB   RCM   RDM    RF    RM    RS    RW   RWB    ST  \n",
       "0      ...   NaN   NaN   NaN   NaN   NaN   NaN   NaN   NaN   NaN   NaN  \n",
       "1      ...   NaN   NaN   NaN   NaN   NaN   NaN   NaN   NaN   NaN   NaN  \n",
       "2      ...   NaN   NaN   NaN   NaN   NaN   NaN   NaN   NaN   NaN   NaN  \n",
       "3      ...   NaN   NaN   NaN   NaN   NaN   NaN   NaN   NaN   NaN   NaN  \n",
       "4      ...   NaN   NaN   NaN   NaN   NaN   NaN   NaN   NaN   NaN   NaN  \n",
       "...    ...   ...   ...   ...   ...   ...   ...   ...   ...   ...   ...  \n",
       "17976  ...   NaN   NaN   NaN   NaN   NaN   NaN   NaN   NaN   NaN   NaN  \n",
       "17977  ...  53.0  52.0  53.0  54.0  50.0  52.0  48.0  50.0  53.0  48.0  \n",
       "17978  ...  30.0  25.0  38.0  26.0  52.0  47.0  53.0  52.0  31.0  53.0  \n",
       "17979  ...  41.0  32.0  47.0  38.0  50.0  53.0  48.0  53.0  43.0  48.0  \n",
       "17980  ...  51.0  51.0  50.0  51.0  48.0  50.0  46.0  49.0  51.0  46.0  \n",
       "\n",
       "[17981 rows x 75 columns]"
      ],
      "text/html": "<div>\n<style scoped>\n    .dataframe tbody tr th:only-of-type {\n        vertical-align: middle;\n    }\n\n    .dataframe tbody tr th {\n        vertical-align: top;\n    }\n\n    .dataframe thead th {\n        text-align: right;\n    }\n</style>\n<table border=\"1\" class=\"dataframe\">\n  <thead>\n    <tr style=\"text-align: right;\">\n      <th></th>\n      <th>_c0</th>\n      <th>Name</th>\n      <th>Age</th>\n      <th>Photo</th>\n      <th>Nationality</th>\n      <th>Flag</th>\n      <th>Overall</th>\n      <th>Potential</th>\n      <th>Club</th>\n      <th>Club Logo</th>\n      <th>...</th>\n      <th>RB</th>\n      <th>RCB</th>\n      <th>RCM</th>\n      <th>RDM</th>\n      <th>RF</th>\n      <th>RM</th>\n      <th>RS</th>\n      <th>RW</th>\n      <th>RWB</th>\n      <th>ST</th>\n    </tr>\n  </thead>\n  <tbody>\n    <tr>\n      <th>0</th>\n      <td>17977</td>\n      <td>B. Richardson</td>\n      <td>47</td>\n      <td>https://cdn.sofifa.org/48/18/players/11728.png</td>\n      <td>England</td>\n      <td>https://cdn.sofifa.org/flags/14.png</td>\n      <td>46</td>\n      <td>46</td>\n      <td>Wycombe Wanderers</td>\n      <td>https://cdn.sofifa.org/24/18/teams/1933.png</td>\n      <td>...</td>\n      <td>NaN</td>\n      <td>NaN</td>\n      <td>NaN</td>\n      <td>NaN</td>\n      <td>NaN</td>\n      <td>NaN</td>\n      <td>NaN</td>\n      <td>NaN</td>\n      <td>NaN</td>\n      <td>NaN</td>\n    </tr>\n    <tr>\n      <th>1</th>\n      <td>4839</td>\n      <td>O. Pérez</td>\n      <td>44</td>\n      <td>https://cdn.sofifa.org/48/18/players/140029.png</td>\n      <td>Mexico</td>\n      <td>https://cdn.sofifa.org/flags/83.png</td>\n      <td>71</td>\n      <td>71</td>\n      <td>Pachuca</td>\n      <td>https://cdn.sofifa.org/24/18/teams/110147.png</td>\n      <td>...</td>\n      <td>NaN</td>\n      <td>NaN</td>\n      <td>NaN</td>\n      <td>NaN</td>\n      <td>NaN</td>\n      <td>NaN</td>\n      <td>NaN</td>\n      <td>NaN</td>\n      <td>NaN</td>\n      <td>NaN</td>\n    </tr>\n    <tr>\n      <th>2</th>\n      <td>5314</td>\n      <td>E. El Hadary</td>\n      <td>44</td>\n      <td>https://cdn.sofifa.org/48/18/players/188033.png</td>\n      <td>Egypt</td>\n      <td>https://cdn.sofifa.org/flags/111.png</td>\n      <td>70</td>\n      <td>70</td>\n      <td>Al Taawoun</td>\n      <td>https://cdn.sofifa.org/24/18/teams/112393.png</td>\n      <td>...</td>\n      <td>NaN</td>\n      <td>NaN</td>\n      <td>NaN</td>\n      <td>NaN</td>\n      <td>NaN</td>\n      <td>NaN</td>\n      <td>NaN</td>\n      <td>NaN</td>\n      <td>NaN</td>\n      <td>NaN</td>\n    </tr>\n    <tr>\n      <th>3</th>\n      <td>16696</td>\n      <td>D. Coyne</td>\n      <td>43</td>\n      <td>https://cdn.sofifa.org/48/18/players/53506.png</td>\n      <td>Wales</td>\n      <td>https://cdn.sofifa.org/flags/50.png</td>\n      <td>55</td>\n      <td>55</td>\n      <td>Shrewsbury</td>\n      <td>https://cdn.sofifa.org/24/18/teams/127.png</td>\n      <td>...</td>\n      <td>NaN</td>\n      <td>NaN</td>\n      <td>NaN</td>\n      <td>NaN</td>\n      <td>NaN</td>\n      <td>NaN</td>\n      <td>NaN</td>\n      <td>NaN</td>\n      <td>NaN</td>\n      <td>NaN</td>\n    </tr>\n    <tr>\n      <th>4</th>\n      <td>16834</td>\n      <td>J. Walker</td>\n      <td>43</td>\n      <td>https://cdn.sofifa.org/48/18/players/53643.png</td>\n      <td>England</td>\n      <td>https://cdn.sofifa.org/flags/14.png</td>\n      <td>55</td>\n      <td>55</td>\n      <td>Lincoln City</td>\n      <td>https://cdn.sofifa.org/24/18/teams/149.png</td>\n      <td>...</td>\n      <td>NaN</td>\n      <td>NaN</td>\n      <td>NaN</td>\n      <td>NaN</td>\n      <td>NaN</td>\n      <td>NaN</td>\n      <td>NaN</td>\n      <td>NaN</td>\n      <td>NaN</td>\n      <td>NaN</td>\n    </tr>\n    <tr>\n      <th>...</th>\n      <td>...</td>\n      <td>...</td>\n      <td>...</td>\n      <td>...</td>\n      <td>...</td>\n      <td>...</td>\n      <td>...</td>\n      <td>...</td>\n      <td>...</td>\n      <td>...</td>\n      <td>...</td>\n      <td>...</td>\n      <td>...</td>\n      <td>...</td>\n      <td>...</td>\n      <td>...</td>\n      <td>...</td>\n      <td>...</td>\n      <td>...</td>\n      <td>...</td>\n      <td>...</td>\n    </tr>\n    <tr>\n      <th>17976</th>\n      <td>16116</td>\n      <td>M. Sprang</td>\n      <td>16</td>\n      <td>https://cdn.sofifa.org/48/18/players/239689.png</td>\n      <td>Germany</td>\n      <td>https://cdn.sofifa.org/flags/21.png</td>\n      <td>57</td>\n      <td>70</td>\n      <td>FSV Zwickau</td>\n      <td>https://cdn.sofifa.org/24/18/teams/110592.png</td>\n      <td>...</td>\n      <td>NaN</td>\n      <td>NaN</td>\n      <td>NaN</td>\n      <td>NaN</td>\n      <td>NaN</td>\n      <td>NaN</td>\n      <td>NaN</td>\n      <td>NaN</td>\n      <td>NaN</td>\n      <td>NaN</td>\n    </tr>\n    <tr>\n      <th>17977</th>\n      <td>17014</td>\n      <td>R. Strechie</td>\n      <td>16</td>\n      <td>https://cdn.sofifa.org/48/18/players/240419.png</td>\n      <td>Romania</td>\n      <td>https://cdn.sofifa.org/flags/39.png</td>\n      <td>54</td>\n      <td>66</td>\n      <td>F.B.C. Unione Venezia</td>\n      <td>https://cdn.sofifa.org/24/18/teams/205.png</td>\n      <td>...</td>\n      <td>53.0</td>\n      <td>52.0</td>\n      <td>53.0</td>\n      <td>54.0</td>\n      <td>50.0</td>\n      <td>52.0</td>\n      <td>48.0</td>\n      <td>50.0</td>\n      <td>53.0</td>\n      <td>48.0</td>\n    </tr>\n    <tr>\n      <th>17978</th>\n      <td>17025</td>\n      <td>L. Pintor</td>\n      <td>16</td>\n      <td>https://cdn.sofifa.org/48/18/players/240941.png</td>\n      <td>France</td>\n      <td>https://cdn.sofifa.org/flags/18.png</td>\n      <td>54</td>\n      <td>78</td>\n      <td>Stade Brestois 29</td>\n      <td>https://cdn.sofifa.org/24/18/teams/378.png</td>\n      <td>...</td>\n      <td>30.0</td>\n      <td>25.0</td>\n      <td>38.0</td>\n      <td>26.0</td>\n      <td>52.0</td>\n      <td>47.0</td>\n      <td>53.0</td>\n      <td>52.0</td>\n      <td>31.0</td>\n      <td>53.0</td>\n    </tr>\n    <tr>\n      <th>17979</th>\n      <td>17055</td>\n      <td>V. Barbero</td>\n      <td>16</td>\n      <td>https://cdn.sofifa.org/48/18/players/237125.png</td>\n      <td>Argentina</td>\n      <td>https://cdn.sofifa.org/flags/52.png</td>\n      <td>54</td>\n      <td>72</td>\n      <td>Belgrano de Córdoba</td>\n      <td>https://cdn.sofifa.org/24/18/teams/111022.png</td>\n      <td>...</td>\n      <td>41.0</td>\n      <td>32.0</td>\n      <td>47.0</td>\n      <td>38.0</td>\n      <td>50.0</td>\n      <td>53.0</td>\n      <td>48.0</td>\n      <td>53.0</td>\n      <td>43.0</td>\n      <td>48.0</td>\n    </tr>\n    <tr>\n      <th>17980</th>\n      <td>17667</td>\n      <td>J. Hove</td>\n      <td>16</td>\n      <td>https://cdn.sofifa.org/48/18/players/234066.png</td>\n      <td>Norway</td>\n      <td>https://cdn.sofifa.org/flags/36.png</td>\n      <td>51</td>\n      <td>69</td>\n      <td>Sogndal</td>\n      <td>https://cdn.sofifa.org/24/18/teams/1465.png</td>\n      <td>...</td>\n      <td>51.0</td>\n      <td>51.0</td>\n      <td>50.0</td>\n      <td>51.0</td>\n      <td>48.0</td>\n      <td>50.0</td>\n      <td>46.0</td>\n      <td>49.0</td>\n      <td>51.0</td>\n      <td>46.0</td>\n    </tr>\n  </tbody>\n</table>\n<p>17981 rows × 75 columns</p>\n</div>"
     },
     "metadata": {},
     "execution_count": 43
    }
   ],
   "source": [
    "fifa_df_desc.toPandas()"
   ]
  },
  {
   "source": [
    "#### Task 10"
   ],
   "cell_type": "markdown",
   "metadata": {}
  },
  {
   "source": [
    "_Theo Dataframe_"
   ],
   "cell_type": "markdown",
   "metadata": {}
  },
  {
   "cell_type": "code",
   "execution_count": 44,
   "metadata": {},
   "outputs": [],
   "source": [
    "people_with_cristiano = fifa_df.where(fifa_df['Name'].contains('Cristiano'))"
   ]
  },
  {
   "cell_type": "code",
   "execution_count": 46,
   "metadata": {},
   "outputs": [
    {
     "output_type": "execute_result",
     "data": {
      "text/plain": [
       "3"
      ]
     },
     "metadata": {},
     "execution_count": 46
    }
   ],
   "source": [
    "people_with_cristiano.count()"
   ]
  },
  {
   "cell_type": "code",
   "execution_count": 50,
   "metadata": {},
   "outputs": [
    {
     "output_type": "execute_result",
     "data": {
      "text/plain": [
       "    _c0               Name  Age  \\\n",
       "0     0  Cristiano Ronaldo   32   \n",
       "1  2295          Cristiano   30   \n",
       "2  6713          Cristiano   26   \n",
       "\n",
       "                                             Photo Nationality  \\\n",
       "0   https://cdn.sofifa.org/48/18/players/20801.png    Portugal   \n",
       "1  https://cdn.sofifa.org/48/18/players/207722.png      Brazil   \n",
       "2  https://cdn.sofifa.org/48/18/players/205068.png    Portugal   \n",
       "\n",
       "                                  Flag  Overall  Potential             Club  \\\n",
       "0  https://cdn.sofifa.org/flags/38.png       94         94   Real Madrid CF   \n",
       "1  https://cdn.sofifa.org/flags/54.png       74         74   Kashiwa Reysol   \n",
       "2  https://cdn.sofifa.org/flags/38.png       68         70  Vitória Setúbal   \n",
       "\n",
       "                                       Club Logo  ...    RB   RCB   RCM   RDM  \\\n",
       "0     https://cdn.sofifa.org/24/18/teams/243.png  ...  61.0  53.0  82.0  62.0   \n",
       "1  https://cdn.sofifa.org/24/18/teams/101145.png  ...  56.0  51.0  66.0  56.0   \n",
       "2     https://cdn.sofifa.org/24/18/teams/665.png  ...   NaN   NaN   NaN   NaN   \n",
       "\n",
       "     RF    RM    RS    RW   RWB    ST  \n",
       "0  91.0  89.0  92.0  91.0  66.0  92.0  \n",
       "1  73.0  73.0  73.0  73.0  59.0  73.0  \n",
       "2   NaN   NaN   NaN   NaN   NaN   NaN  \n",
       "\n",
       "[3 rows x 75 columns]"
      ],
      "text/html": "<div>\n<style scoped>\n    .dataframe tbody tr th:only-of-type {\n        vertical-align: middle;\n    }\n\n    .dataframe tbody tr th {\n        vertical-align: top;\n    }\n\n    .dataframe thead th {\n        text-align: right;\n    }\n</style>\n<table border=\"1\" class=\"dataframe\">\n  <thead>\n    <tr style=\"text-align: right;\">\n      <th></th>\n      <th>_c0</th>\n      <th>Name</th>\n      <th>Age</th>\n      <th>Photo</th>\n      <th>Nationality</th>\n      <th>Flag</th>\n      <th>Overall</th>\n      <th>Potential</th>\n      <th>Club</th>\n      <th>Club Logo</th>\n      <th>...</th>\n      <th>RB</th>\n      <th>RCB</th>\n      <th>RCM</th>\n      <th>RDM</th>\n      <th>RF</th>\n      <th>RM</th>\n      <th>RS</th>\n      <th>RW</th>\n      <th>RWB</th>\n      <th>ST</th>\n    </tr>\n  </thead>\n  <tbody>\n    <tr>\n      <th>0</th>\n      <td>0</td>\n      <td>Cristiano Ronaldo</td>\n      <td>32</td>\n      <td>https://cdn.sofifa.org/48/18/players/20801.png</td>\n      <td>Portugal</td>\n      <td>https://cdn.sofifa.org/flags/38.png</td>\n      <td>94</td>\n      <td>94</td>\n      <td>Real Madrid CF</td>\n      <td>https://cdn.sofifa.org/24/18/teams/243.png</td>\n      <td>...</td>\n      <td>61.0</td>\n      <td>53.0</td>\n      <td>82.0</td>\n      <td>62.0</td>\n      <td>91.0</td>\n      <td>89.0</td>\n      <td>92.0</td>\n      <td>91.0</td>\n      <td>66.0</td>\n      <td>92.0</td>\n    </tr>\n    <tr>\n      <th>1</th>\n      <td>2295</td>\n      <td>Cristiano</td>\n      <td>30</td>\n      <td>https://cdn.sofifa.org/48/18/players/207722.png</td>\n      <td>Brazil</td>\n      <td>https://cdn.sofifa.org/flags/54.png</td>\n      <td>74</td>\n      <td>74</td>\n      <td>Kashiwa Reysol</td>\n      <td>https://cdn.sofifa.org/24/18/teams/101145.png</td>\n      <td>...</td>\n      <td>56.0</td>\n      <td>51.0</td>\n      <td>66.0</td>\n      <td>56.0</td>\n      <td>73.0</td>\n      <td>73.0</td>\n      <td>73.0</td>\n      <td>73.0</td>\n      <td>59.0</td>\n      <td>73.0</td>\n    </tr>\n    <tr>\n      <th>2</th>\n      <td>6713</td>\n      <td>Cristiano</td>\n      <td>26</td>\n      <td>https://cdn.sofifa.org/48/18/players/205068.png</td>\n      <td>Portugal</td>\n      <td>https://cdn.sofifa.org/flags/38.png</td>\n      <td>68</td>\n      <td>70</td>\n      <td>Vitória Setúbal</td>\n      <td>https://cdn.sofifa.org/24/18/teams/665.png</td>\n      <td>...</td>\n      <td>NaN</td>\n      <td>NaN</td>\n      <td>NaN</td>\n      <td>NaN</td>\n      <td>NaN</td>\n      <td>NaN</td>\n      <td>NaN</td>\n      <td>NaN</td>\n      <td>NaN</td>\n      <td>NaN</td>\n    </tr>\n  </tbody>\n</table>\n<p>3 rows × 75 columns</p>\n</div>"
     },
     "metadata": {},
     "execution_count": 50
    }
   ],
   "source": [
    "people_with_cristiano.toPandas()"
   ]
  },
  {
   "source": [
    "_Theo SQL query_"
   ],
   "cell_type": "markdown",
   "metadata": {}
  },
  {
   "cell_type": "code",
   "execution_count": 51,
   "metadata": {},
   "outputs": [],
   "source": [
    "query_2 = '''\n",
    "    select fft.*\n",
    "    from fifa_table as fft\n",
    "    where fft.Name like \"%Cristiano%\"\n",
    "'''"
   ]
  },
  {
   "cell_type": "code",
   "execution_count": 52,
   "metadata": {},
   "outputs": [],
   "source": [
    "people_with_cristiano1 = spark.sqlQuery(query_2)"
   ]
  },
  {
   "cell_type": "code",
   "execution_count": 53,
   "metadata": {},
   "outputs": [
    {
     "output_type": "execute_result",
     "data": {
      "text/plain": [
       "3"
      ]
     },
     "metadata": {},
     "execution_count": 53
    }
   ],
   "source": [
    "people_with_cristiano1.count()"
   ]
  },
  {
   "cell_type": "code",
   "execution_count": 54,
   "metadata": {},
   "outputs": [
    {
     "output_type": "execute_result",
     "data": {
      "text/plain": [
       "    _c0               Name  Age  \\\n",
       "0     0  Cristiano Ronaldo   32   \n",
       "1  2295          Cristiano   30   \n",
       "2  6713          Cristiano   26   \n",
       "\n",
       "                                             Photo Nationality  \\\n",
       "0   https://cdn.sofifa.org/48/18/players/20801.png    Portugal   \n",
       "1  https://cdn.sofifa.org/48/18/players/207722.png      Brazil   \n",
       "2  https://cdn.sofifa.org/48/18/players/205068.png    Portugal   \n",
       "\n",
       "                                  Flag  Overall  Potential             Club  \\\n",
       "0  https://cdn.sofifa.org/flags/38.png       94         94   Real Madrid CF   \n",
       "1  https://cdn.sofifa.org/flags/54.png       74         74   Kashiwa Reysol   \n",
       "2  https://cdn.sofifa.org/flags/38.png       68         70  Vitória Setúbal   \n",
       "\n",
       "                                       Club Logo  ...    RB   RCB   RCM   RDM  \\\n",
       "0     https://cdn.sofifa.org/24/18/teams/243.png  ...  61.0  53.0  82.0  62.0   \n",
       "1  https://cdn.sofifa.org/24/18/teams/101145.png  ...  56.0  51.0  66.0  56.0   \n",
       "2     https://cdn.sofifa.org/24/18/teams/665.png  ...   NaN   NaN   NaN   NaN   \n",
       "\n",
       "     RF    RM    RS    RW   RWB    ST  \n",
       "0  91.0  89.0  92.0  91.0  66.0  92.0  \n",
       "1  73.0  73.0  73.0  73.0  59.0  73.0  \n",
       "2   NaN   NaN   NaN   NaN   NaN   NaN  \n",
       "\n",
       "[3 rows x 75 columns]"
      ],
      "text/html": "<div>\n<style scoped>\n    .dataframe tbody tr th:only-of-type {\n        vertical-align: middle;\n    }\n\n    .dataframe tbody tr th {\n        vertical-align: top;\n    }\n\n    .dataframe thead th {\n        text-align: right;\n    }\n</style>\n<table border=\"1\" class=\"dataframe\">\n  <thead>\n    <tr style=\"text-align: right;\">\n      <th></th>\n      <th>_c0</th>\n      <th>Name</th>\n      <th>Age</th>\n      <th>Photo</th>\n      <th>Nationality</th>\n      <th>Flag</th>\n      <th>Overall</th>\n      <th>Potential</th>\n      <th>Club</th>\n      <th>Club Logo</th>\n      <th>...</th>\n      <th>RB</th>\n      <th>RCB</th>\n      <th>RCM</th>\n      <th>RDM</th>\n      <th>RF</th>\n      <th>RM</th>\n      <th>RS</th>\n      <th>RW</th>\n      <th>RWB</th>\n      <th>ST</th>\n    </tr>\n  </thead>\n  <tbody>\n    <tr>\n      <th>0</th>\n      <td>0</td>\n      <td>Cristiano Ronaldo</td>\n      <td>32</td>\n      <td>https://cdn.sofifa.org/48/18/players/20801.png</td>\n      <td>Portugal</td>\n      <td>https://cdn.sofifa.org/flags/38.png</td>\n      <td>94</td>\n      <td>94</td>\n      <td>Real Madrid CF</td>\n      <td>https://cdn.sofifa.org/24/18/teams/243.png</td>\n      <td>...</td>\n      <td>61.0</td>\n      <td>53.0</td>\n      <td>82.0</td>\n      <td>62.0</td>\n      <td>91.0</td>\n      <td>89.0</td>\n      <td>92.0</td>\n      <td>91.0</td>\n      <td>66.0</td>\n      <td>92.0</td>\n    </tr>\n    <tr>\n      <th>1</th>\n      <td>2295</td>\n      <td>Cristiano</td>\n      <td>30</td>\n      <td>https://cdn.sofifa.org/48/18/players/207722.png</td>\n      <td>Brazil</td>\n      <td>https://cdn.sofifa.org/flags/54.png</td>\n      <td>74</td>\n      <td>74</td>\n      <td>Kashiwa Reysol</td>\n      <td>https://cdn.sofifa.org/24/18/teams/101145.png</td>\n      <td>...</td>\n      <td>56.0</td>\n      <td>51.0</td>\n      <td>66.0</td>\n      <td>56.0</td>\n      <td>73.0</td>\n      <td>73.0</td>\n      <td>73.0</td>\n      <td>73.0</td>\n      <td>59.0</td>\n      <td>73.0</td>\n    </tr>\n    <tr>\n      <th>2</th>\n      <td>6713</td>\n      <td>Cristiano</td>\n      <td>26</td>\n      <td>https://cdn.sofifa.org/48/18/players/205068.png</td>\n      <td>Portugal</td>\n      <td>https://cdn.sofifa.org/flags/38.png</td>\n      <td>68</td>\n      <td>70</td>\n      <td>Vitória Setúbal</td>\n      <td>https://cdn.sofifa.org/24/18/teams/665.png</td>\n      <td>...</td>\n      <td>NaN</td>\n      <td>NaN</td>\n      <td>NaN</td>\n      <td>NaN</td>\n      <td>NaN</td>\n      <td>NaN</td>\n      <td>NaN</td>\n      <td>NaN</td>\n      <td>NaN</td>\n      <td>NaN</td>\n    </tr>\n  </tbody>\n</table>\n<p>3 rows × 75 columns</p>\n</div>"
     },
     "metadata": {},
     "execution_count": 54
    }
   ],
   "source": [
    "people_with_cristiano1.toPandas()"
   ]
  },
  {
   "cell_type": "code",
   "execution_count": null,
   "metadata": {},
   "outputs": [],
   "source": []
  }
 ]
}