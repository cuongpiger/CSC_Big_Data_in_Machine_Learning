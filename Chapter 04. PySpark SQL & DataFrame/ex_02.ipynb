{
 "metadata": {
  "language_info": {
   "codemirror_mode": {
    "name": "ipython",
    "version": 3
   },
   "file_extension": ".py",
   "mimetype": "text/x-python",
   "name": "python",
   "nbconvert_exporter": "python",
   "pygments_lexer": "ipython3",
   "version": "3.8.5"
  },
  "orig_nbformat": 2,
  "kernelspec": {
   "name": "python38564bit207240a302f84cf383d7b6dbf8fca3f2",
   "display_name": "Python 3.8.5 64-bit"
  },
  "metadata": {
   "interpreter": {
    "hash": "916dbcbb3f70747c44a77c7bcd40155683ae19c65e1c03b4aa3499c5328201f1"
   }
  }
 },
 "nbformat": 4,
 "nbformat_minor": 2,
 "cells": [
  {
   "cell_type": "code",
   "execution_count": 1,
   "metadata": {},
   "outputs": [],
   "source": [
    "%load_ext autoreload\n",
    "%autoreload 2"
   ]
  },
  {
   "cell_type": "code",
   "execution_count": 2,
   "metadata": {},
   "outputs": [],
   "source": [
    "from modules.my_pyspark import *\n",
    "from modules.my_drawer import MyDrawer"
   ]
  },
  {
   "cell_type": "code",
   "execution_count": 3,
   "metadata": {},
   "outputs": [],
   "source": [
    "drawer = MyDrawer()\n",
    "spark = MyPySpark(session=True, sql=True)"
   ]
  },
  {
   "cell_type": "code",
   "execution_count": 4,
   "metadata": {},
   "outputs": [
    {
     "output_type": "execute_result",
     "data": {
      "text/plain": [
       "<SparkContext master=local appName=pyspark-shell>"
      ],
      "text/html": "\n        <div>\n            <p><b>SparkContext</b></p>\n\n            <p><a href=\"http://192.168.5.77:4040\">Spark UI</a></p>\n\n            <dl>\n              <dt>Version</dt>\n                <dd><code>v3.1.1</code></dd>\n              <dt>Master</dt>\n                <dd><code>local</code></dd>\n              <dt>AppName</dt>\n                <dd><code>pyspark-shell</code></dd>\n            </dl>\n        </div>\n        "
     },
     "metadata": {},
     "execution_count": 4
    }
   ],
   "source": [
    "spark.context"
   ]
  },
  {
   "source": [
    "#### Task 1"
   ],
   "cell_type": "markdown",
   "metadata": {}
  },
  {
   "cell_type": "code",
   "execution_count": 6,
   "metadata": {},
   "outputs": [],
   "source": [
    "file_path = r'data/flights_small.csv'"
   ]
  },
  {
   "cell_type": "code",
   "execution_count": 7,
   "metadata": {},
   "outputs": [],
   "source": [
    "data = spark.readFile(file_path, 'csv')"
   ]
  },
  {
   "source": [
    "#### Task 2"
   ],
   "cell_type": "markdown",
   "metadata": {}
  },
  {
   "source": [
    "_In schema_"
   ],
   "cell_type": "markdown",
   "metadata": {}
  },
  {
   "cell_type": "code",
   "execution_count": 8,
   "metadata": {},
   "outputs": [
    {
     "output_type": "stream",
     "name": "stdout",
     "text": [
      "root\n |-- year: integer (nullable = true)\n |-- month: integer (nullable = true)\n |-- day: integer (nullable = true)\n |-- dep_time: string (nullable = true)\n |-- dep_delay: string (nullable = true)\n |-- arr_time: string (nullable = true)\n |-- arr_delay: string (nullable = true)\n |-- carrier: string (nullable = true)\n |-- tailnum: string (nullable = true)\n |-- flight: integer (nullable = true)\n |-- origin: string (nullable = true)\n |-- dest: string (nullable = true)\n |-- air_time: string (nullable = true)\n |-- distance: integer (nullable = true)\n |-- hour: string (nullable = true)\n |-- minute: string (nullable = true)\n\n"
     ]
    }
   ],
   "source": [
    "data.printSchema()"
   ]
  },
  {
   "source": [
    "_Hiển thị 3 dòng đầu tiên_"
   ],
   "cell_type": "markdown",
   "metadata": {}
  },
  {
   "cell_type": "code",
   "execution_count": 12,
   "metadata": {},
   "outputs": [
    {
     "output_type": "execute_result",
     "data": {
      "text/plain": [
       "   year  month  day dep_time dep_delay  ... dest air_time distance hour  minute\n",
       "0  2014     12    8      658        -7  ...  LAX      132      954    6      58\n",
       "1  2014      1   22     1040         5  ...  HNL      360     2677   10      40\n",
       "2  2014      3    9     1443        -2  ...  SFO      111      679   14      43\n",
       "\n",
       "[3 rows x 16 columns]"
      ],
      "text/html": "<div>\n<style scoped>\n    .dataframe tbody tr th:only-of-type {\n        vertical-align: middle;\n    }\n\n    .dataframe tbody tr th {\n        vertical-align: top;\n    }\n\n    .dataframe thead th {\n        text-align: right;\n    }\n</style>\n<table border=\"1\" class=\"dataframe\">\n  <thead>\n    <tr style=\"text-align: right;\">\n      <th></th>\n      <th>year</th>\n      <th>month</th>\n      <th>day</th>\n      <th>dep_time</th>\n      <th>dep_delay</th>\n      <th>arr_time</th>\n      <th>arr_delay</th>\n      <th>carrier</th>\n      <th>tailnum</th>\n      <th>flight</th>\n      <th>origin</th>\n      <th>dest</th>\n      <th>air_time</th>\n      <th>distance</th>\n      <th>hour</th>\n      <th>minute</th>\n    </tr>\n  </thead>\n  <tbody>\n    <tr>\n      <th>0</th>\n      <td>2014</td>\n      <td>12</td>\n      <td>8</td>\n      <td>658</td>\n      <td>-7</td>\n      <td>935</td>\n      <td>-5</td>\n      <td>VX</td>\n      <td>N846VA</td>\n      <td>1780</td>\n      <td>SEA</td>\n      <td>LAX</td>\n      <td>132</td>\n      <td>954</td>\n      <td>6</td>\n      <td>58</td>\n    </tr>\n    <tr>\n      <th>1</th>\n      <td>2014</td>\n      <td>1</td>\n      <td>22</td>\n      <td>1040</td>\n      <td>5</td>\n      <td>1505</td>\n      <td>5</td>\n      <td>AS</td>\n      <td>N559AS</td>\n      <td>851</td>\n      <td>SEA</td>\n      <td>HNL</td>\n      <td>360</td>\n      <td>2677</td>\n      <td>10</td>\n      <td>40</td>\n    </tr>\n    <tr>\n      <th>2</th>\n      <td>2014</td>\n      <td>3</td>\n      <td>9</td>\n      <td>1443</td>\n      <td>-2</td>\n      <td>1652</td>\n      <td>2</td>\n      <td>VX</td>\n      <td>N847VA</td>\n      <td>755</td>\n      <td>SEA</td>\n      <td>SFO</td>\n      <td>111</td>\n      <td>679</td>\n      <td>14</td>\n      <td>43</td>\n    </tr>\n  </tbody>\n</table>\n</div>"
     },
     "metadata": {},
     "execution_count": 12
    }
   ],
   "source": [
    "data.toPandas().iloc[:3, :]"
   ]
  },
  {
   "source": [
    "_Cho biết dữ liệu có bao nhiêu dòng_"
   ],
   "cell_type": "markdown",
   "metadata": {}
  },
  {
   "cell_type": "code",
   "execution_count": 13,
   "metadata": {},
   "outputs": [
    {
     "output_type": "execute_result",
     "data": {
      "text/plain": [
       "10000"
      ]
     },
     "metadata": {},
     "execution_count": 13
    }
   ],
   "source": [
    "data.count()"
   ]
  },
  {
   "source": [
    "#### Task 3"
   ],
   "cell_type": "markdown",
   "metadata": {}
  },
  {
   "cell_type": "code",
   "execution_count": 15,
   "metadata": {},
   "outputs": [],
   "source": [
    "db_name = 'flights_small'"
   ]
  },
  {
   "cell_type": "code",
   "execution_count": 14,
   "metadata": {},
   "outputs": [],
   "source": [
    "data.createOrReplaceTempView(db_name)"
   ]
  },
  {
   "source": [
    "#### Task 4"
   ],
   "cell_type": "markdown",
   "metadata": {}
  },
  {
   "source": [
    "_Tạo dataframe_"
   ],
   "cell_type": "markdown",
   "metadata": {}
  },
  {
   "cell_type": "code",
   "execution_count": 16,
   "metadata": {},
   "outputs": [],
   "source": [
    "flights = spark.dataframe(db_name)"
   ]
  },
  {
   "source": [
    "_Hiển thị 3 dòng đầu_"
   ],
   "cell_type": "markdown",
   "metadata": {}
  },
  {
   "cell_type": "code",
   "execution_count": 19,
   "metadata": {},
   "outputs": [
    {
     "output_type": "execute_result",
     "data": {
      "text/plain": [
       "   year  month  day dep_time dep_delay  ... dest air_time distance hour  minute\n",
       "0  2014     12    8      658        -7  ...  LAX      132      954    6      58\n",
       "1  2014      1   22     1040         5  ...  HNL      360     2677   10      40\n",
       "2  2014      3    9     1443        -2  ...  SFO      111      679   14      43\n",
       "\n",
       "[3 rows x 16 columns]"
      ],
      "text/html": "<div>\n<style scoped>\n    .dataframe tbody tr th:only-of-type {\n        vertical-align: middle;\n    }\n\n    .dataframe tbody tr th {\n        vertical-align: top;\n    }\n\n    .dataframe thead th {\n        text-align: right;\n    }\n</style>\n<table border=\"1\" class=\"dataframe\">\n  <thead>\n    <tr style=\"text-align: right;\">\n      <th></th>\n      <th>year</th>\n      <th>month</th>\n      <th>day</th>\n      <th>dep_time</th>\n      <th>dep_delay</th>\n      <th>arr_time</th>\n      <th>arr_delay</th>\n      <th>carrier</th>\n      <th>tailnum</th>\n      <th>flight</th>\n      <th>origin</th>\n      <th>dest</th>\n      <th>air_time</th>\n      <th>distance</th>\n      <th>hour</th>\n      <th>minute</th>\n    </tr>\n  </thead>\n  <tbody>\n    <tr>\n      <th>0</th>\n      <td>2014</td>\n      <td>12</td>\n      <td>8</td>\n      <td>658</td>\n      <td>-7</td>\n      <td>935</td>\n      <td>-5</td>\n      <td>VX</td>\n      <td>N846VA</td>\n      <td>1780</td>\n      <td>SEA</td>\n      <td>LAX</td>\n      <td>132</td>\n      <td>954</td>\n      <td>6</td>\n      <td>58</td>\n    </tr>\n    <tr>\n      <th>1</th>\n      <td>2014</td>\n      <td>1</td>\n      <td>22</td>\n      <td>1040</td>\n      <td>5</td>\n      <td>1505</td>\n      <td>5</td>\n      <td>AS</td>\n      <td>N559AS</td>\n      <td>851</td>\n      <td>SEA</td>\n      <td>HNL</td>\n      <td>360</td>\n      <td>2677</td>\n      <td>10</td>\n      <td>40</td>\n    </tr>\n    <tr>\n      <th>2</th>\n      <td>2014</td>\n      <td>3</td>\n      <td>9</td>\n      <td>1443</td>\n      <td>-2</td>\n      <td>1652</td>\n      <td>2</td>\n      <td>VX</td>\n      <td>N847VA</td>\n      <td>755</td>\n      <td>SEA</td>\n      <td>SFO</td>\n      <td>111</td>\n      <td>679</td>\n      <td>14</td>\n      <td>43</td>\n    </tr>\n  </tbody>\n</table>\n</div>"
     },
     "metadata": {},
     "execution_count": 19
    }
   ],
   "source": [
    "flights.toPandas().iloc[:3, :]"
   ]
  },
  {
   "source": [
    "#### Task 5"
   ],
   "cell_type": "markdown",
   "metadata": {}
  },
  {
   "cell_type": "code",
   "execution_count": 20,
   "metadata": {},
   "outputs": [],
   "source": [
    "flights = flights.withColumn('duration_hrs', flights['air_time']/60.0)"
   ]
  },
  {
   "cell_type": "code",
   "execution_count": 23,
   "metadata": {},
   "outputs": [
    {
     "output_type": "execute_result",
     "data": {
      "text/plain": [
       "   year  month  day dep_time  ... distance hour minute duration_hrs\n",
       "0  2014     12    8      658  ...      954    6     58         2.20\n",
       "1  2014      1   22     1040  ...     2677   10     40         6.00\n",
       "2  2014      3    9     1443  ...      679   14     43         1.85\n",
       "\n",
       "[3 rows x 17 columns]"
      ],
      "text/html": "<div>\n<style scoped>\n    .dataframe tbody tr th:only-of-type {\n        vertical-align: middle;\n    }\n\n    .dataframe tbody tr th {\n        vertical-align: top;\n    }\n\n    .dataframe thead th {\n        text-align: right;\n    }\n</style>\n<table border=\"1\" class=\"dataframe\">\n  <thead>\n    <tr style=\"text-align: right;\">\n      <th></th>\n      <th>year</th>\n      <th>month</th>\n      <th>day</th>\n      <th>dep_time</th>\n      <th>dep_delay</th>\n      <th>arr_time</th>\n      <th>arr_delay</th>\n      <th>carrier</th>\n      <th>tailnum</th>\n      <th>flight</th>\n      <th>origin</th>\n      <th>dest</th>\n      <th>air_time</th>\n      <th>distance</th>\n      <th>hour</th>\n      <th>minute</th>\n      <th>duration_hrs</th>\n    </tr>\n  </thead>\n  <tbody>\n    <tr>\n      <th>0</th>\n      <td>2014</td>\n      <td>12</td>\n      <td>8</td>\n      <td>658</td>\n      <td>-7</td>\n      <td>935</td>\n      <td>-5</td>\n      <td>VX</td>\n      <td>N846VA</td>\n      <td>1780</td>\n      <td>SEA</td>\n      <td>LAX</td>\n      <td>132</td>\n      <td>954</td>\n      <td>6</td>\n      <td>58</td>\n      <td>2.20</td>\n    </tr>\n    <tr>\n      <th>1</th>\n      <td>2014</td>\n      <td>1</td>\n      <td>22</td>\n      <td>1040</td>\n      <td>5</td>\n      <td>1505</td>\n      <td>5</td>\n      <td>AS</td>\n      <td>N559AS</td>\n      <td>851</td>\n      <td>SEA</td>\n      <td>HNL</td>\n      <td>360</td>\n      <td>2677</td>\n      <td>10</td>\n      <td>40</td>\n      <td>6.00</td>\n    </tr>\n    <tr>\n      <th>2</th>\n      <td>2014</td>\n      <td>3</td>\n      <td>9</td>\n      <td>1443</td>\n      <td>-2</td>\n      <td>1652</td>\n      <td>2</td>\n      <td>VX</td>\n      <td>N847VA</td>\n      <td>755</td>\n      <td>SEA</td>\n      <td>SFO</td>\n      <td>111</td>\n      <td>679</td>\n      <td>14</td>\n      <td>43</td>\n      <td>1.85</td>\n    </tr>\n  </tbody>\n</table>\n</div>"
     },
     "metadata": {},
     "execution_count": 23
    }
   ],
   "source": [
    "flights.toPandas().iloc[:3, :]"
   ]
  },
  {
   "source": [
    "#### Task 6"
   ],
   "cell_type": "markdown",
   "metadata": {}
  },
  {
   "source": [
    "_Với dataframe_"
   ],
   "cell_type": "markdown",
   "metadata": {}
  },
  {
   "cell_type": "code",
   "execution_count": 27,
   "metadata": {},
   "outputs": [],
   "source": [
    "long_flights1 = flights.filter(flights['distance'] > 2_000)"
   ]
  },
  {
   "source": [
    "> Cách khác:\n",
    "> ```python\n",
    "> long_flights1 = flights.filter('distance > 2000')\n",
    "> ```"
   ],
   "cell_type": "markdown",
   "metadata": {}
  },
  {
   "source": [
    "_Số dòng thỏa điều kiện này_"
   ],
   "cell_type": "markdown",
   "metadata": {}
  },
  {
   "cell_type": "code",
   "execution_count": 28,
   "metadata": {},
   "outputs": [
    {
     "output_type": "execute_result",
     "data": {
      "text/plain": [
       "1481"
      ]
     },
     "metadata": {},
     "execution_count": 28
    }
   ],
   "source": [
    "long_flights1.count()"
   ]
  },
  {
   "source": [
    "<hr>"
   ],
   "cell_type": "markdown",
   "metadata": {}
  },
  {
   "source": [
    "_Với SQL query_"
   ],
   "cell_type": "markdown",
   "metadata": {}
  },
  {
   "cell_type": "code",
   "execution_count": 29,
   "metadata": {},
   "outputs": [],
   "source": [
    "query_0 = '''\n",
    "    select fs.*\n",
    "    from flights_small as fs\n",
    "    where fs.distance > 2000\n",
    "'''"
   ]
  },
  {
   "cell_type": "code",
   "execution_count": 30,
   "metadata": {},
   "outputs": [],
   "source": [
    "long_flights1_ = spark.sqlQuery(query_0)"
   ]
  },
  {
   "cell_type": "code",
   "execution_count": 31,
   "metadata": {},
   "outputs": [
    {
     "output_type": "execute_result",
     "data": {
      "text/plain": [
       "1481"
      ]
     },
     "metadata": {},
     "execution_count": 31
    }
   ],
   "source": [
    "long_flights1_.count()"
   ]
  },
  {
   "source": [
    "#### Task 7"
   ],
   "cell_type": "markdown",
   "metadata": {}
  },
  {
   "source": [
    "_Với dataframe_"
   ],
   "cell_type": "markdown",
   "metadata": {}
  },
  {
   "cell_type": "code",
   "execution_count": 32,
   "metadata": {},
   "outputs": [],
   "source": [
    "time_flights = flights.filter((flights['air_time'] >= 300) & (flights['air_time'] <= 600))"
   ]
  },
  {
   "cell_type": "code",
   "execution_count": 34,
   "metadata": {},
   "outputs": [],
   "source": []
  },
  {
   "source": [
    "> Cách khác:\n",
    "> ```python\n",
    "> time_flights = flights.filter('air_time >= 300 and air_time <= 600')\n",
    "> ```"
   ],
   "cell_type": "markdown",
   "metadata": {}
  },
  {
   "cell_type": "code",
   "execution_count": null,
   "metadata": {},
   "outputs": [],
   "source": []
  }
 ]
}