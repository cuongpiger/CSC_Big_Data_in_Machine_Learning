{
 "metadata": {
  "language_info": {
   "codemirror_mode": {
    "name": "ipython",
    "version": 3
   },
   "file_extension": ".py",
   "mimetype": "text/x-python",
   "name": "python",
   "nbconvert_exporter": "python",
   "pygments_lexer": "ipython3",
   "version": "3.8.5"
  },
  "orig_nbformat": 2,
  "kernelspec": {
   "name": "python38564bit207240a302f84cf383d7b6dbf8fca3f2",
   "display_name": "Python 3.8.5 64-bit"
  },
  "metadata": {
   "interpreter": {
    "hash": "916dbcbb3f70747c44a77c7bcd40155683ae19c65e1c03b4aa3499c5328201f1"
   }
  }
 },
 "nbformat": 4,
 "nbformat_minor": 2,
 "cells": [
  {
   "cell_type": "code",
   "execution_count": 1,
   "metadata": {},
   "outputs": [],
   "source": [
    "%load_ext autoreload\n",
    "%autoreload 2"
   ]
  },
  {
   "cell_type": "code",
   "execution_count": 2,
   "metadata": {},
   "outputs": [],
   "source": [
    "from modules.my_pyspark import *\n",
    "from modules.my_drawer import MyDrawer\n",
    "from pyspark.sql.types import IntegerType\n",
    "from pyspark.sql.functions import avg\n",
    "import pyspark.sql.functions as F"
   ]
  },
  {
   "cell_type": "code",
   "execution_count": 3,
   "metadata": {},
   "outputs": [],
   "source": [
    "drawer = MyDrawer()\n",
    "spark = MyPySpark(session=True, sql=True)"
   ]
  },
  {
   "cell_type": "code",
   "execution_count": 4,
   "metadata": {},
   "outputs": [
    {
     "output_type": "execute_result",
     "data": {
      "text/plain": [
       "<SparkContext master=local appName=pyspark-shell>"
      ],
      "text/html": "\n        <div>\n            <p><b>SparkContext</b></p>\n\n            <p><a href=\"http://192.168.5.77:4040\">Spark UI</a></p>\n\n            <dl>\n              <dt>Version</dt>\n                <dd><code>v3.1.1</code></dd>\n              <dt>Master</dt>\n                <dd><code>local</code></dd>\n              <dt>AppName</dt>\n                <dd><code>pyspark-shell</code></dd>\n            </dl>\n        </div>\n        "
     },
     "metadata": {},
     "execution_count": 4
    }
   ],
   "source": [
    "spark.context"
   ]
  },
  {
   "source": [
    "#### Task 1"
   ],
   "cell_type": "markdown",
   "metadata": {}
  },
  {
   "cell_type": "code",
   "execution_count": 5,
   "metadata": {},
   "outputs": [],
   "source": [
    "file_path = r'data/flights_small.csv'"
   ]
  },
  {
   "cell_type": "code",
   "execution_count": 6,
   "metadata": {},
   "outputs": [],
   "source": [
    "data = spark.readFile(file_path, 'csv')"
   ]
  },
  {
   "source": [
    "#### Task 2"
   ],
   "cell_type": "markdown",
   "metadata": {}
  },
  {
   "source": [
    "_In schema_"
   ],
   "cell_type": "markdown",
   "metadata": {}
  },
  {
   "cell_type": "code",
   "execution_count": 7,
   "metadata": {},
   "outputs": [
    {
     "output_type": "stream",
     "name": "stdout",
     "text": [
      "root\n |-- year: integer (nullable = true)\n |-- month: integer (nullable = true)\n |-- day: integer (nullable = true)\n |-- dep_time: string (nullable = true)\n |-- dep_delay: string (nullable = true)\n |-- arr_time: string (nullable = true)\n |-- arr_delay: string (nullable = true)\n |-- carrier: string (nullable = true)\n |-- tailnum: string (nullable = true)\n |-- flight: integer (nullable = true)\n |-- origin: string (nullable = true)\n |-- dest: string (nullable = true)\n |-- air_time: string (nullable = true)\n |-- distance: integer (nullable = true)\n |-- hour: string (nullable = true)\n |-- minute: string (nullable = true)\n\n"
     ]
    }
   ],
   "source": [
    "data.printSchema()"
   ]
  },
  {
   "source": [
    "_Hiển thị 3 dòng đầu tiên_"
   ],
   "cell_type": "markdown",
   "metadata": {}
  },
  {
   "cell_type": "code",
   "execution_count": 8,
   "metadata": {},
   "outputs": [
    {
     "output_type": "execute_result",
     "data": {
      "text/plain": [
       "   year  month  day dep_time dep_delay arr_time arr_delay carrier tailnum  \\\n",
       "0  2014     12    8      658        -7      935        -5      VX  N846VA   \n",
       "1  2014      1   22     1040         5     1505         5      AS  N559AS   \n",
       "2  2014      3    9     1443        -2     1652         2      VX  N847VA   \n",
       "\n",
       "   flight origin dest air_time  distance hour minute  \n",
       "0    1780    SEA  LAX      132       954    6     58  \n",
       "1     851    SEA  HNL      360      2677   10     40  \n",
       "2     755    SEA  SFO      111       679   14     43  "
      ],
      "text/html": "<div>\n<style scoped>\n    .dataframe tbody tr th:only-of-type {\n        vertical-align: middle;\n    }\n\n    .dataframe tbody tr th {\n        vertical-align: top;\n    }\n\n    .dataframe thead th {\n        text-align: right;\n    }\n</style>\n<table border=\"1\" class=\"dataframe\">\n  <thead>\n    <tr style=\"text-align: right;\">\n      <th></th>\n      <th>year</th>\n      <th>month</th>\n      <th>day</th>\n      <th>dep_time</th>\n      <th>dep_delay</th>\n      <th>arr_time</th>\n      <th>arr_delay</th>\n      <th>carrier</th>\n      <th>tailnum</th>\n      <th>flight</th>\n      <th>origin</th>\n      <th>dest</th>\n      <th>air_time</th>\n      <th>distance</th>\n      <th>hour</th>\n      <th>minute</th>\n    </tr>\n  </thead>\n  <tbody>\n    <tr>\n      <th>0</th>\n      <td>2014</td>\n      <td>12</td>\n      <td>8</td>\n      <td>658</td>\n      <td>-7</td>\n      <td>935</td>\n      <td>-5</td>\n      <td>VX</td>\n      <td>N846VA</td>\n      <td>1780</td>\n      <td>SEA</td>\n      <td>LAX</td>\n      <td>132</td>\n      <td>954</td>\n      <td>6</td>\n      <td>58</td>\n    </tr>\n    <tr>\n      <th>1</th>\n      <td>2014</td>\n      <td>1</td>\n      <td>22</td>\n      <td>1040</td>\n      <td>5</td>\n      <td>1505</td>\n      <td>5</td>\n      <td>AS</td>\n      <td>N559AS</td>\n      <td>851</td>\n      <td>SEA</td>\n      <td>HNL</td>\n      <td>360</td>\n      <td>2677</td>\n      <td>10</td>\n      <td>40</td>\n    </tr>\n    <tr>\n      <th>2</th>\n      <td>2014</td>\n      <td>3</td>\n      <td>9</td>\n      <td>1443</td>\n      <td>-2</td>\n      <td>1652</td>\n      <td>2</td>\n      <td>VX</td>\n      <td>N847VA</td>\n      <td>755</td>\n      <td>SEA</td>\n      <td>SFO</td>\n      <td>111</td>\n      <td>679</td>\n      <td>14</td>\n      <td>43</td>\n    </tr>\n  </tbody>\n</table>\n</div>"
     },
     "metadata": {},
     "execution_count": 8
    }
   ],
   "source": [
    "data.toPandas().iloc[:3, :]"
   ]
  },
  {
   "source": [
    "_Cho biết dữ liệu có bao nhiêu dòng_"
   ],
   "cell_type": "markdown",
   "metadata": {}
  },
  {
   "cell_type": "code",
   "execution_count": 9,
   "metadata": {},
   "outputs": [
    {
     "output_type": "execute_result",
     "data": {
      "text/plain": [
       "10000"
      ]
     },
     "metadata": {},
     "execution_count": 9
    }
   ],
   "source": [
    "data.count()"
   ]
  },
  {
   "source": [
    "#### Task 3"
   ],
   "cell_type": "markdown",
   "metadata": {}
  },
  {
   "cell_type": "code",
   "execution_count": 10,
   "metadata": {},
   "outputs": [],
   "source": [
    "db_name = 'flights_small'"
   ]
  },
  {
   "cell_type": "code",
   "execution_count": 11,
   "metadata": {},
   "outputs": [],
   "source": [
    "data.createOrReplaceTempView(db_name)"
   ]
  },
  {
   "source": [
    "#### Task 4"
   ],
   "cell_type": "markdown",
   "metadata": {}
  },
  {
   "source": [
    "_Tạo dataframe_"
   ],
   "cell_type": "markdown",
   "metadata": {}
  },
  {
   "cell_type": "code",
   "execution_count": 12,
   "metadata": {},
   "outputs": [],
   "source": [
    "flights = spark.dataframe(db_name)"
   ]
  },
  {
   "source": [
    "_Hiển thị 3 dòng đầu_"
   ],
   "cell_type": "markdown",
   "metadata": {}
  },
  {
   "cell_type": "code",
   "execution_count": 13,
   "metadata": {},
   "outputs": [
    {
     "output_type": "execute_result",
     "data": {
      "text/plain": [
       "   year  month  day dep_time dep_delay arr_time arr_delay carrier tailnum  \\\n",
       "0  2014     12    8      658        -7      935        -5      VX  N846VA   \n",
       "1  2014      1   22     1040         5     1505         5      AS  N559AS   \n",
       "2  2014      3    9     1443        -2     1652         2      VX  N847VA   \n",
       "\n",
       "   flight origin dest air_time  distance hour minute  \n",
       "0    1780    SEA  LAX      132       954    6     58  \n",
       "1     851    SEA  HNL      360      2677   10     40  \n",
       "2     755    SEA  SFO      111       679   14     43  "
      ],
      "text/html": "<div>\n<style scoped>\n    .dataframe tbody tr th:only-of-type {\n        vertical-align: middle;\n    }\n\n    .dataframe tbody tr th {\n        vertical-align: top;\n    }\n\n    .dataframe thead th {\n        text-align: right;\n    }\n</style>\n<table border=\"1\" class=\"dataframe\">\n  <thead>\n    <tr style=\"text-align: right;\">\n      <th></th>\n      <th>year</th>\n      <th>month</th>\n      <th>day</th>\n      <th>dep_time</th>\n      <th>dep_delay</th>\n      <th>arr_time</th>\n      <th>arr_delay</th>\n      <th>carrier</th>\n      <th>tailnum</th>\n      <th>flight</th>\n      <th>origin</th>\n      <th>dest</th>\n      <th>air_time</th>\n      <th>distance</th>\n      <th>hour</th>\n      <th>minute</th>\n    </tr>\n  </thead>\n  <tbody>\n    <tr>\n      <th>0</th>\n      <td>2014</td>\n      <td>12</td>\n      <td>8</td>\n      <td>658</td>\n      <td>-7</td>\n      <td>935</td>\n      <td>-5</td>\n      <td>VX</td>\n      <td>N846VA</td>\n      <td>1780</td>\n      <td>SEA</td>\n      <td>LAX</td>\n      <td>132</td>\n      <td>954</td>\n      <td>6</td>\n      <td>58</td>\n    </tr>\n    <tr>\n      <th>1</th>\n      <td>2014</td>\n      <td>1</td>\n      <td>22</td>\n      <td>1040</td>\n      <td>5</td>\n      <td>1505</td>\n      <td>5</td>\n      <td>AS</td>\n      <td>N559AS</td>\n      <td>851</td>\n      <td>SEA</td>\n      <td>HNL</td>\n      <td>360</td>\n      <td>2677</td>\n      <td>10</td>\n      <td>40</td>\n    </tr>\n    <tr>\n      <th>2</th>\n      <td>2014</td>\n      <td>3</td>\n      <td>9</td>\n      <td>1443</td>\n      <td>-2</td>\n      <td>1652</td>\n      <td>2</td>\n      <td>VX</td>\n      <td>N847VA</td>\n      <td>755</td>\n      <td>SEA</td>\n      <td>SFO</td>\n      <td>111</td>\n      <td>679</td>\n      <td>14</td>\n      <td>43</td>\n    </tr>\n  </tbody>\n</table>\n</div>"
     },
     "metadata": {},
     "execution_count": 13
    }
   ],
   "source": [
    "flights.toPandas().iloc[:3, :]"
   ]
  },
  {
   "source": [
    "#### Task 5"
   ],
   "cell_type": "markdown",
   "metadata": {}
  },
  {
   "cell_type": "code",
   "execution_count": 14,
   "metadata": {},
   "outputs": [],
   "source": [
    "flights = flights.withColumn('duration_hrs', flights['air_time']/60.0)"
   ]
  },
  {
   "cell_type": "code",
   "execution_count": 15,
   "metadata": {},
   "outputs": [
    {
     "output_type": "execute_result",
     "data": {
      "text/plain": [
       "   year  month  day dep_time dep_delay arr_time arr_delay carrier tailnum  \\\n",
       "0  2014     12    8      658        -7      935        -5      VX  N846VA   \n",
       "1  2014      1   22     1040         5     1505         5      AS  N559AS   \n",
       "2  2014      3    9     1443        -2     1652         2      VX  N847VA   \n",
       "\n",
       "   flight origin dest air_time  distance hour minute  duration_hrs  \n",
       "0    1780    SEA  LAX      132       954    6     58          2.20  \n",
       "1     851    SEA  HNL      360      2677   10     40          6.00  \n",
       "2     755    SEA  SFO      111       679   14     43          1.85  "
      ],
      "text/html": "<div>\n<style scoped>\n    .dataframe tbody tr th:only-of-type {\n        vertical-align: middle;\n    }\n\n    .dataframe tbody tr th {\n        vertical-align: top;\n    }\n\n    .dataframe thead th {\n        text-align: right;\n    }\n</style>\n<table border=\"1\" class=\"dataframe\">\n  <thead>\n    <tr style=\"text-align: right;\">\n      <th></th>\n      <th>year</th>\n      <th>month</th>\n      <th>day</th>\n      <th>dep_time</th>\n      <th>dep_delay</th>\n      <th>arr_time</th>\n      <th>arr_delay</th>\n      <th>carrier</th>\n      <th>tailnum</th>\n      <th>flight</th>\n      <th>origin</th>\n      <th>dest</th>\n      <th>air_time</th>\n      <th>distance</th>\n      <th>hour</th>\n      <th>minute</th>\n      <th>duration_hrs</th>\n    </tr>\n  </thead>\n  <tbody>\n    <tr>\n      <th>0</th>\n      <td>2014</td>\n      <td>12</td>\n      <td>8</td>\n      <td>658</td>\n      <td>-7</td>\n      <td>935</td>\n      <td>-5</td>\n      <td>VX</td>\n      <td>N846VA</td>\n      <td>1780</td>\n      <td>SEA</td>\n      <td>LAX</td>\n      <td>132</td>\n      <td>954</td>\n      <td>6</td>\n      <td>58</td>\n      <td>2.20</td>\n    </tr>\n    <tr>\n      <th>1</th>\n      <td>2014</td>\n      <td>1</td>\n      <td>22</td>\n      <td>1040</td>\n      <td>5</td>\n      <td>1505</td>\n      <td>5</td>\n      <td>AS</td>\n      <td>N559AS</td>\n      <td>851</td>\n      <td>SEA</td>\n      <td>HNL</td>\n      <td>360</td>\n      <td>2677</td>\n      <td>10</td>\n      <td>40</td>\n      <td>6.00</td>\n    </tr>\n    <tr>\n      <th>2</th>\n      <td>2014</td>\n      <td>3</td>\n      <td>9</td>\n      <td>1443</td>\n      <td>-2</td>\n      <td>1652</td>\n      <td>2</td>\n      <td>VX</td>\n      <td>N847VA</td>\n      <td>755</td>\n      <td>SEA</td>\n      <td>SFO</td>\n      <td>111</td>\n      <td>679</td>\n      <td>14</td>\n      <td>43</td>\n      <td>1.85</td>\n    </tr>\n  </tbody>\n</table>\n</div>"
     },
     "metadata": {},
     "execution_count": 15
    }
   ],
   "source": [
    "flights.toPandas().iloc[:3, :]"
   ]
  },
  {
   "source": [
    "#### Task 6"
   ],
   "cell_type": "markdown",
   "metadata": {}
  },
  {
   "source": [
    "_Với dataframe_"
   ],
   "cell_type": "markdown",
   "metadata": {}
  },
  {
   "cell_type": "code",
   "execution_count": 16,
   "metadata": {},
   "outputs": [],
   "source": [
    "long_flights1 = flights.filter(flights['distance'] > 2_000)"
   ]
  },
  {
   "source": [
    "> Cách khác:\n",
    "> ```python\n",
    "> long_flights1 = flights.filter('distance > 2000')\n",
    "> ```"
   ],
   "cell_type": "markdown",
   "metadata": {}
  },
  {
   "source": [
    "_Số dòng thỏa điều kiện này_"
   ],
   "cell_type": "markdown",
   "metadata": {}
  },
  {
   "cell_type": "code",
   "execution_count": 17,
   "metadata": {},
   "outputs": [
    {
     "output_type": "execute_result",
     "data": {
      "text/plain": [
       "1481"
      ]
     },
     "metadata": {},
     "execution_count": 17
    }
   ],
   "source": [
    "long_flights1.count()"
   ]
  },
  {
   "source": [
    "<hr>"
   ],
   "cell_type": "markdown",
   "metadata": {}
  },
  {
   "source": [
    "_Với SQL query_"
   ],
   "cell_type": "markdown",
   "metadata": {}
  },
  {
   "cell_type": "code",
   "execution_count": 18,
   "metadata": {},
   "outputs": [],
   "source": [
    "query_0 = '''\n",
    "    select fs.*\n",
    "    from flights_small as fs\n",
    "    where fs.distance > 2000\n",
    "'''"
   ]
  },
  {
   "cell_type": "code",
   "execution_count": 19,
   "metadata": {},
   "outputs": [],
   "source": [
    "long_flights1_ = spark.sqlQuery(query_0)"
   ]
  },
  {
   "cell_type": "code",
   "execution_count": 20,
   "metadata": {},
   "outputs": [
    {
     "output_type": "execute_result",
     "data": {
      "text/plain": [
       "1481"
      ]
     },
     "metadata": {},
     "execution_count": 20
    }
   ],
   "source": [
    "long_flights1_.count()"
   ]
  },
  {
   "source": [
    "#### Task 7"
   ],
   "cell_type": "markdown",
   "metadata": {}
  },
  {
   "source": [
    "_Với dataframe_"
   ],
   "cell_type": "markdown",
   "metadata": {}
  },
  {
   "cell_type": "code",
   "execution_count": 21,
   "metadata": {},
   "outputs": [],
   "source": [
    "time_flights = flights.filter((flights['air_time'] >= 300) & (flights['air_time'] <= 600))"
   ]
  },
  {
   "cell_type": "code",
   "execution_count": 34,
   "metadata": {},
   "outputs": [],
   "source": []
  },
  {
   "source": [
    "> Cách khác:\n",
    "> ```python\n",
    "> time_flights = flights.filter('air_time >= 300 and air_time <= 600')\n",
    "> ```"
   ],
   "cell_type": "markdown",
   "metadata": {}
  },
  {
   "source": [
    "_Cho biết dữ liệu có bao nhiêu dòng_"
   ],
   "cell_type": "markdown",
   "metadata": {}
  },
  {
   "cell_type": "code",
   "execution_count": 22,
   "metadata": {},
   "outputs": [
    {
     "output_type": "execute_result",
     "data": {
      "text/plain": [
       "440"
      ]
     },
     "metadata": {},
     "execution_count": 22
    }
   ],
   "source": [
    "time_flights.count()"
   ]
  },
  {
   "source": [
    "<hr>"
   ],
   "cell_type": "markdown",
   "metadata": {}
  },
  {
   "source": [
    "_Dùng SQL query_"
   ],
   "cell_type": "markdown",
   "metadata": {}
  },
  {
   "cell_type": "code",
   "execution_count": 23,
   "metadata": {},
   "outputs": [],
   "source": [
    "query_1 = '''\n",
    "    select fs.*\n",
    "    from flights_small fs\n",
    "    where fs.air_time between 300 and 600\n",
    "'''"
   ]
  },
  {
   "cell_type": "code",
   "execution_count": 24,
   "metadata": {},
   "outputs": [],
   "source": [
    "time_flights_ = spark.sqlQuery(query_1)"
   ]
  },
  {
   "source": [
    "_Đếm có bao nhiêu dòng thoả điều kiện này_"
   ],
   "cell_type": "markdown",
   "metadata": {}
  },
  {
   "cell_type": "code",
   "execution_count": 25,
   "metadata": {},
   "outputs": [
    {
     "output_type": "execute_result",
     "data": {
      "text/plain": [
       "440"
      ]
     },
     "metadata": {},
     "execution_count": 25
    }
   ],
   "source": [
    "time_flights_.count()"
   ]
  },
  {
   "source": [
    "#### Task 8"
   ],
   "cell_type": "markdown",
   "metadata": {}
  },
  {
   "cell_type": "code",
   "execution_count": 26,
   "metadata": {},
   "outputs": [],
   "source": [
    "selected1 = flights.select('origin', 'dest', 'carrier')"
   ]
  },
  {
   "cell_type": "code",
   "execution_count": 27,
   "metadata": {},
   "outputs": [],
   "source": [
    "filterA = flights['origin'] == \"SEA\""
   ]
  },
  {
   "cell_type": "code",
   "execution_count": 28,
   "metadata": {},
   "outputs": [],
   "source": [
    "filterB = flights['dest'] == \"PDX\""
   ]
  },
  {
   "cell_type": "code",
   "execution_count": 29,
   "metadata": {},
   "outputs": [],
   "source": [
    "selected2 = selected1.filter(filterA & filterB)"
   ]
  },
  {
   "cell_type": "code",
   "execution_count": 30,
   "metadata": {},
   "outputs": [
    {
     "output_type": "stream",
     "name": "stdout",
     "text": [
      "+------+----+-------+\n|origin|dest|carrier|\n+------+----+-------+\n|   SEA| PDX|     OO|\n|   SEA| PDX|     OO|\n|   SEA| PDX|     OO|\n|   SEA| PDX|     OO|\n|   SEA| PDX|     OO|\n+------+----+-------+\nonly showing top 5 rows\n\n"
     ]
    }
   ],
   "source": [
    "selected2.show(5)"
   ]
  },
  {
   "source": [
    "_Số dòng thoả điều kiện trên là_"
   ],
   "cell_type": "markdown",
   "metadata": {}
  },
  {
   "cell_type": "code",
   "execution_count": 31,
   "metadata": {},
   "outputs": [
    {
     "output_type": "execute_result",
     "data": {
      "text/plain": [
       "157"
      ]
     },
     "metadata": {},
     "execution_count": 31
    }
   ],
   "source": [
    "selected2.count()"
   ]
  },
  {
   "source": [
    "#### Task 9"
   ],
   "cell_type": "markdown",
   "metadata": {}
  },
  {
   "cell_type": "code",
   "execution_count": 32,
   "metadata": {},
   "outputs": [],
   "source": [
    "avg_speed = (flights['distance'] / (flights['air_time'] / 60.0)).alias('avg_speed')"
   ]
  },
  {
   "cell_type": "code",
   "execution_count": 33,
   "metadata": {},
   "outputs": [],
   "source": [
    "speed1 = flights.select('origin', 'dest', 'tailnum', avg_speed)"
   ]
  },
  {
   "cell_type": "code",
   "execution_count": 34,
   "metadata": {},
   "outputs": [
    {
     "output_type": "stream",
     "name": "stdout",
     "text": [
      "+------+----+-------+------------------+\n|origin|dest|tailnum|         avg_speed|\n+------+----+-------+------------------+\n|   SEA| LAX| N846VA| 433.6363636363636|\n|   SEA| HNL| N559AS| 446.1666666666667|\n|   SEA| SFO| N847VA|367.02702702702703|\n+------+----+-------+------------------+\nonly showing top 3 rows\n\n"
     ]
    }
   ],
   "source": [
    "speed1.show(3)"
   ]
  },
  {
   "source": [
    "#### Task 10"
   ],
   "cell_type": "markdown",
   "metadata": {}
  },
  {
   "cell_type": "code",
   "execution_count": 35,
   "metadata": {},
   "outputs": [],
   "source": [
    "speed2 = flights.selectExpr('origin', 'dest', 'tailnum', 'distance / (air_time)/60.0 as avg_speed')"
   ]
  },
  {
   "cell_type": "code",
   "execution_count": 36,
   "metadata": {},
   "outputs": [
    {
     "output_type": "stream",
     "name": "stdout",
     "text": [
      "+------+----+-------+-------------------+\n|origin|dest|tailnum|          avg_speed|\n+------+----+-------+-------------------+\n|   SEA| LAX| N846VA|0.12045454545454545|\n|   SEA| HNL| N559AS|0.12393518518518518|\n|   SEA| SFO| N847VA|0.10195195195195196|\n|   PDX| SJC| N360SW| 0.1142570281124498|\n|   SEA| BUR| N612AS|0.12296587926509187|\n+------+----+-------+-------------------+\nonly showing top 5 rows\n\n"
     ]
    }
   ],
   "source": [
    "speed2.show(5)"
   ]
  },
  {
   "source": [
    "#### Task 11"
   ],
   "cell_type": "markdown",
   "metadata": {}
  },
  {
   "cell_type": "code",
   "execution_count": 37,
   "metadata": {},
   "outputs": [],
   "source": [
    "flights = flights.withColumn('air_time', flights['air_time'].cast(IntegerType()))"
   ]
  },
  {
   "cell_type": "code",
   "execution_count": 38,
   "metadata": {},
   "outputs": [
    {
     "output_type": "stream",
     "name": "stdout",
     "text": [
      "+-------------+\n|min(air_time)|\n+-------------+\n|           24|\n+-------------+\n\n"
     ]
    }
   ],
   "source": [
    "flights.filter(flights['origin'] == 'PDX').groupBy().min('air_time').show()"
   ]
  },
  {
   "cell_type": "code",
   "execution_count": 39,
   "metadata": {},
   "outputs": [
    {
     "output_type": "stream",
     "name": "stdout",
     "text": [
      "+-------------+\n|max(distance)|\n+-------------+\n|         2724|\n+-------------+\n\n"
     ]
    }
   ],
   "source": [
    "flights.filter(flights['origin'] == 'SEA').groupBy().max('distance').show()"
   ]
  },
  {
   "cell_type": "code",
   "execution_count": 40,
   "metadata": {},
   "outputs": [
    {
     "output_type": "stream",
     "name": "stdout",
     "text": [
      "+------------------+\n| sum(duration_hrs)|\n+------------------+\n|25289.600000000126|\n+------------------+\n\n"
     ]
    }
   ],
   "source": [
    "flights.withColumn('duration_hrs', flights['air_time'] / 60.0).groupBy().sum('duration_hrs').show()"
   ]
  },
  {
   "source": [
    "#### Task 12"
   ],
   "cell_type": "markdown",
   "metadata": {}
  },
  {
   "source": [
    "_Nhóm theo `tailnum` và đếm_"
   ],
   "cell_type": "markdown",
   "metadata": {}
  },
  {
   "cell_type": "code",
   "execution_count": 41,
   "metadata": {},
   "outputs": [],
   "source": [
    "by_plane = flights.groupBy('tailnum')"
   ]
  },
  {
   "cell_type": "code",
   "execution_count": 42,
   "metadata": {},
   "outputs": [
    {
     "output_type": "stream",
     "name": "stdout",
     "text": [
      "+-------+-----+\n|tailnum|count|\n+-------+-----+\n| N442AS|   38|\n| N102UW|    2|\n| N36472|    4|\n| N38451|    4|\n| N73283|    4|\n| N513UA|    2|\n| N954WN|    5|\n| N388DA|    3|\n| N567AA|    1|\n| N516UA|    2|\n| N927DN|    1|\n| N8322X|    1|\n| N466SW|    1|\n|  N6700|    1|\n| N607AS|   45|\n| N622SW|    4|\n| N584AS|   31|\n| N914WN|    4|\n| N654AW|    2|\n| N336NW|    1|\n+-------+-----+\nonly showing top 20 rows\n\n"
     ]
    }
   ],
   "source": [
    "by_plane.count().show()"
   ]
  },
  {
   "source": [
    "_Nhóm theo `origin` và đếm_"
   ],
   "cell_type": "markdown",
   "metadata": {}
  },
  {
   "cell_type": "code",
   "execution_count": 43,
   "metadata": {},
   "outputs": [],
   "source": [
    "by_origin = flights.groupBy('origin')"
   ]
  },
  {
   "cell_type": "code",
   "execution_count": 44,
   "metadata": {},
   "outputs": [
    {
     "output_type": "stream",
     "name": "stdout",
     "text": [
      "+------+-----+\n|origin|count|\n+------+-----+\n|   SEA| 6754|\n|   PDX| 3246|\n+------+-----+\n\n"
     ]
    }
   ],
   "source": [
    "by_origin.count().show()"
   ]
  },
  {
   "source": [
    "_Nhóm theo `origin` và tính trug bình trên `air_time`_"
   ],
   "cell_type": "markdown",
   "metadata": {}
  },
  {
   "cell_type": "code",
   "execution_count": 45,
   "metadata": {},
   "outputs": [
    {
     "output_type": "stream",
     "name": "stdout",
     "text": [
      "+------+------------------+\n|origin|     avg(air_time)|\n+------+------------------+\n|   SEA| 160.4361496051259|\n|   PDX|137.11543248288737|\n+------+------------------+\n\n"
     ]
    }
   ],
   "source": [
    "flights.groupBy('origin').avg('air_time').show()"
   ]
  },
  {
   "source": [
    "#### Task 13"
   ],
   "cell_type": "markdown",
   "metadata": {}
  },
  {
   "cell_type": "code",
   "execution_count": 46,
   "metadata": {},
   "outputs": [],
   "source": [
    "flights = flights.withColumn('dep_delay', flights['dep_delay'].cast(IntegerType()))"
   ]
  },
  {
   "cell_type": "code",
   "execution_count": 47,
   "metadata": {},
   "outputs": [],
   "source": [
    "by_month_dest = flights.groupBy('month', 'dest')"
   ]
  },
  {
   "source": [
    "_Tính trung bình_"
   ],
   "cell_type": "markdown",
   "metadata": {}
  },
  {
   "cell_type": "code",
   "execution_count": 48,
   "metadata": {},
   "outputs": [
    {
     "output_type": "stream",
     "name": "stdout",
     "text": [
      "+-----+----+-------------------+\n|month|dest|     avg(dep_delay)|\n+-----+----+-------------------+\n|    4| PHX| 1.6833333333333333|\n|    1| RDM|             -1.625|\n|    5| ONT| 3.5555555555555554|\n|    7| OMA|               -6.5|\n|    8| MDW|               7.45|\n|    6| DEN|  5.418181818181818|\n|    5| IAD|               -4.0|\n|   12| COS|               -1.0|\n|   11| ANC|  7.529411764705882|\n|    5| AUS|              -0.75|\n|    5| COS| 11.666666666666666|\n|    2| PSP|                0.6|\n|    4| ORD|0.14285714285714285|\n|   10| DFW| 18.176470588235293|\n|   10| DCA|               -1.5|\n|    8| JNU|             18.125|\n|   11| KOA|               -1.0|\n|   10| OMA|-0.6666666666666666|\n|    6| ONT|              9.625|\n|    3| MSP|                3.2|\n+-----+----+-------------------+\nonly showing top 20 rows\n\n"
     ]
    }
   ],
   "source": [
    "by_month_dest.avg('dep_delay').show()"
   ]
  },
  {
   "source": [
    "_Tính std_"
   ],
   "cell_type": "markdown",
   "metadata": {}
  },
  {
   "cell_type": "code",
   "execution_count": 49,
   "metadata": {},
   "outputs": [
    {
     "output_type": "stream",
     "name": "stdout",
     "text": [
      "+-----+----+----------------------+\n|month|dest|stddev_samp(dep_delay)|\n+-----+----+----------------------+\n|    4| PHX|    15.003380033491737|\n|    1| RDM|     8.830749846821778|\n|    5| ONT|    18.895178691342874|\n|    7| OMA|    2.1213203435596424|\n|    8| MDW|    14.467659032985843|\n|    6| DEN|    13.536905534420026|\n|    5| IAD|    3.8078865529319543|\n|   12| COS|    1.4142135623730951|\n|   11| ANC|    18.604716401245316|\n|    5| AUS|     4.031128874149275|\n|    5| COS|     33.38163167571851|\n|    2| PSP|     4.878524367060187|\n|    4| ORD|    11.593882803741764|\n|   10| DFW|     45.53019017606675|\n|   10| DCA|    0.7071067811865476|\n|    8| JNU|     40.79368823727514|\n|   11| KOA|    1.8708286933869707|\n|   10| OMA|    5.8594652770823155|\n|    6| ONT|     25.98316762829351|\n|    3| MSP|    21.556779370817555|\n+-----+----+----------------------+\nonly showing top 20 rows\n\n"
     ]
    }
   ],
   "source": [
    "by_month_dest.agg(F.stddev('dep_delay')).show()"
   ]
  },
  {
   "source": [
    "#### Task 14"
   ],
   "cell_type": "markdown",
   "metadata": {}
  },
  {
   "cell_type": "code",
   "execution_count": 50,
   "metadata": {},
   "outputs": [],
   "source": [
    "file_path1 = 'data/airports.csv'"
   ]
  },
  {
   "source": [
    "_Đọc dữ liệu_"
   ],
   "cell_type": "markdown",
   "metadata": {}
  },
  {
   "cell_type": "code",
   "execution_count": 51,
   "metadata": {},
   "outputs": [],
   "source": [
    "airports = spark.readFile(file_path1)"
   ]
  },
  {
   "source": [
    "_In Schema_"
   ],
   "cell_type": "markdown",
   "metadata": {}
  },
  {
   "cell_type": "code",
   "execution_count": 52,
   "metadata": {},
   "outputs": [
    {
     "output_type": "stream",
     "name": "stdout",
     "text": [
      "root\n |-- faa: string (nullable = true)\n |-- name: string (nullable = true)\n |-- lat: double (nullable = true)\n |-- lon: double (nullable = true)\n |-- alt: integer (nullable = true)\n |-- tz: integer (nullable = true)\n |-- dst: string (nullable = true)\n\n"
     ]
    }
   ],
   "source": [
    "airports.printSchema()"
   ]
  },
  {
   "source": [
    "_Hiển thị 3 dòng đầu tiên_"
   ],
   "cell_type": "markdown",
   "metadata": {}
  },
  {
   "source": [
    "airports.toPandas().iloc[:3, :]"
   ],
   "cell_type": "code",
   "metadata": {},
   "execution_count": 53,
   "outputs": [
    {
     "output_type": "execute_result",
     "data": {
      "text/plain": [
       "   faa                           name        lat        lon   alt  tz dst\n",
       "0  04G              Lansdowne Airport  41.130472 -80.619583  1044  -5   A\n",
       "1  06A  Moton Field Municipal Airport  32.460572 -85.680028   264  -5   A\n",
       "2  06C            Schaumburg Regional  41.989341 -88.101243   801  -6   A"
      ],
      "text/html": "<div>\n<style scoped>\n    .dataframe tbody tr th:only-of-type {\n        vertical-align: middle;\n    }\n\n    .dataframe tbody tr th {\n        vertical-align: top;\n    }\n\n    .dataframe thead th {\n        text-align: right;\n    }\n</style>\n<table border=\"1\" class=\"dataframe\">\n  <thead>\n    <tr style=\"text-align: right;\">\n      <th></th>\n      <th>faa</th>\n      <th>name</th>\n      <th>lat</th>\n      <th>lon</th>\n      <th>alt</th>\n      <th>tz</th>\n      <th>dst</th>\n    </tr>\n  </thead>\n  <tbody>\n    <tr>\n      <th>0</th>\n      <td>04G</td>\n      <td>Lansdowne Airport</td>\n      <td>41.130472</td>\n      <td>-80.619583</td>\n      <td>1044</td>\n      <td>-5</td>\n      <td>A</td>\n    </tr>\n    <tr>\n      <th>1</th>\n      <td>06A</td>\n      <td>Moton Field Municipal Airport</td>\n      <td>32.460572</td>\n      <td>-85.680028</td>\n      <td>264</td>\n      <td>-5</td>\n      <td>A</td>\n    </tr>\n    <tr>\n      <th>2</th>\n      <td>06C</td>\n      <td>Schaumburg Regional</td>\n      <td>41.989341</td>\n      <td>-88.101243</td>\n      <td>801</td>\n      <td>-6</td>\n      <td>A</td>\n    </tr>\n  </tbody>\n</table>\n</div>"
     },
     "metadata": {},
     "execution_count": 53
    }
   ]
  },
  {
   "source": [
    "_Cho biết dữ liệu có bao nhiêu dòng_"
   ],
   "cell_type": "markdown",
   "metadata": {}
  },
  {
   "cell_type": "code",
   "execution_count": 54,
   "metadata": {},
   "outputs": [
    {
     "output_type": "execute_result",
     "data": {
      "text/plain": [
       "1397"
      ]
     },
     "metadata": {},
     "execution_count": 54
    }
   ],
   "source": [
    "airports.count()"
   ]
  },
  {
   "source": [
    "#### Task 15"
   ],
   "cell_type": "markdown",
   "metadata": {}
  },
  {
   "cell_type": "code",
   "execution_count": 55,
   "metadata": {},
   "outputs": [],
   "source": [
    "airports = airports.withColumnRenamed('faa', 'dest')"
   ]
  },
  {
   "cell_type": "code",
   "execution_count": 56,
   "metadata": {},
   "outputs": [
    {
     "output_type": "stream",
     "name": "stdout",
     "text": [
      "+----+--------------------+----------+-----------+----+---+---+\n|dest|                name|       lat|        lon| alt| tz|dst|\n+----+--------------------+----------+-----------+----+---+---+\n| 04G|   Lansdowne Airport|41.1304722|-80.6195833|1044| -5|  A|\n| 06A|Moton Field Munic...|32.4605722|-85.6800278| 264| -5|  A|\n| 06C| Schaumburg Regional|41.9893408|-88.1012428| 801| -6|  A|\n+----+--------------------+----------+-----------+----+---+---+\nonly showing top 3 rows\n\n"
     ]
    }
   ],
   "source": [
    "airports.show(3)"
   ]
  },
  {
   "source": [
    "#### Task 16"
   ],
   "cell_type": "markdown",
   "metadata": {}
  },
  {
   "cell_type": "code",
   "execution_count": 57,
   "metadata": {},
   "outputs": [],
   "source": [
    "flights_with_airports = flights.join(airports, on='dest', how='leftouter')"
   ]
  },
  {
   "cell_type": "code",
   "execution_count": 58,
   "metadata": {},
   "outputs": [
    {
     "output_type": "execute_result",
     "data": {
      "text/plain": [
       "  dest  year  month  day dep_time  dep_delay arr_time arr_delay carrier  \\\n",
       "0  LAX  2014     12    8      658       -7.0      935        -5      VX   \n",
       "1  HNL  2014      1   22     1040        5.0     1505         5      AS   \n",
       "2  SFO  2014      3    9     1443       -2.0     1652         2      VX   \n",
       "3  SJC  2014      4    9     1705       45.0     1839        34      WN   \n",
       "4  BUR  2014      3    9      754       -1.0     1015         1      AS   \n",
       "\n",
       "  tailnum  ...  distance hour  minute  duration_hrs  \\\n",
       "0  N846VA  ...       954    6      58      2.200000   \n",
       "1  N559AS  ...      2677   10      40      6.000000   \n",
       "2  N847VA  ...       679   14      43      1.850000   \n",
       "3  N360SW  ...       569   17       5      1.383333   \n",
       "4  N612AS  ...       937    7      54      2.116667   \n",
       "\n",
       "                            name        lat         lon  alt  tz  dst  \n",
       "0               Los Angeles Intl  33.942536 -118.408075  126  -8    A  \n",
       "1                  Honolulu Intl  21.318681 -157.922428   13 -10    N  \n",
       "2             San Francisco Intl  37.618972 -122.374889   13  -8    A  \n",
       "3  Norman Y Mineta San Jose Intl  37.362600 -121.929022   62  -8    A  \n",
       "4                       Bob Hope  34.200667 -118.358667  778  -8    A  \n",
       "\n",
       "[5 rows x 23 columns]"
      ],
      "text/html": "<div>\n<style scoped>\n    .dataframe tbody tr th:only-of-type {\n        vertical-align: middle;\n    }\n\n    .dataframe tbody tr th {\n        vertical-align: top;\n    }\n\n    .dataframe thead th {\n        text-align: right;\n    }\n</style>\n<table border=\"1\" class=\"dataframe\">\n  <thead>\n    <tr style=\"text-align: right;\">\n      <th></th>\n      <th>dest</th>\n      <th>year</th>\n      <th>month</th>\n      <th>day</th>\n      <th>dep_time</th>\n      <th>dep_delay</th>\n      <th>arr_time</th>\n      <th>arr_delay</th>\n      <th>carrier</th>\n      <th>tailnum</th>\n      <th>...</th>\n      <th>distance</th>\n      <th>hour</th>\n      <th>minute</th>\n      <th>duration_hrs</th>\n      <th>name</th>\n      <th>lat</th>\n      <th>lon</th>\n      <th>alt</th>\n      <th>tz</th>\n      <th>dst</th>\n    </tr>\n  </thead>\n  <tbody>\n    <tr>\n      <th>0</th>\n      <td>LAX</td>\n      <td>2014</td>\n      <td>12</td>\n      <td>8</td>\n      <td>658</td>\n      <td>-7.0</td>\n      <td>935</td>\n      <td>-5</td>\n      <td>VX</td>\n      <td>N846VA</td>\n      <td>...</td>\n      <td>954</td>\n      <td>6</td>\n      <td>58</td>\n      <td>2.200000</td>\n      <td>Los Angeles Intl</td>\n      <td>33.942536</td>\n      <td>-118.408075</td>\n      <td>126</td>\n      <td>-8</td>\n      <td>A</td>\n    </tr>\n    <tr>\n      <th>1</th>\n      <td>HNL</td>\n      <td>2014</td>\n      <td>1</td>\n      <td>22</td>\n      <td>1040</td>\n      <td>5.0</td>\n      <td>1505</td>\n      <td>5</td>\n      <td>AS</td>\n      <td>N559AS</td>\n      <td>...</td>\n      <td>2677</td>\n      <td>10</td>\n      <td>40</td>\n      <td>6.000000</td>\n      <td>Honolulu Intl</td>\n      <td>21.318681</td>\n      <td>-157.922428</td>\n      <td>13</td>\n      <td>-10</td>\n      <td>N</td>\n    </tr>\n    <tr>\n      <th>2</th>\n      <td>SFO</td>\n      <td>2014</td>\n      <td>3</td>\n      <td>9</td>\n      <td>1443</td>\n      <td>-2.0</td>\n      <td>1652</td>\n      <td>2</td>\n      <td>VX</td>\n      <td>N847VA</td>\n      <td>...</td>\n      <td>679</td>\n      <td>14</td>\n      <td>43</td>\n      <td>1.850000</td>\n      <td>San Francisco Intl</td>\n      <td>37.618972</td>\n      <td>-122.374889</td>\n      <td>13</td>\n      <td>-8</td>\n      <td>A</td>\n    </tr>\n    <tr>\n      <th>3</th>\n      <td>SJC</td>\n      <td>2014</td>\n      <td>4</td>\n      <td>9</td>\n      <td>1705</td>\n      <td>45.0</td>\n      <td>1839</td>\n      <td>34</td>\n      <td>WN</td>\n      <td>N360SW</td>\n      <td>...</td>\n      <td>569</td>\n      <td>17</td>\n      <td>5</td>\n      <td>1.383333</td>\n      <td>Norman Y Mineta San Jose Intl</td>\n      <td>37.362600</td>\n      <td>-121.929022</td>\n      <td>62</td>\n      <td>-8</td>\n      <td>A</td>\n    </tr>\n    <tr>\n      <th>4</th>\n      <td>BUR</td>\n      <td>2014</td>\n      <td>3</td>\n      <td>9</td>\n      <td>754</td>\n      <td>-1.0</td>\n      <td>1015</td>\n      <td>1</td>\n      <td>AS</td>\n      <td>N612AS</td>\n      <td>...</td>\n      <td>937</td>\n      <td>7</td>\n      <td>54</td>\n      <td>2.116667</td>\n      <td>Bob Hope</td>\n      <td>34.200667</td>\n      <td>-118.358667</td>\n      <td>778</td>\n      <td>-8</td>\n      <td>A</td>\n    </tr>\n  </tbody>\n</table>\n<p>5 rows × 23 columns</p>\n</div>"
     },
     "metadata": {},
     "execution_count": 58
    }
   ],
   "source": [
    "flights_with_airports.toPandas().head()"
   ]
  },
  {
   "cell_type": "code",
   "execution_count": null,
   "metadata": {},
   "outputs": [],
   "source": []
  }
 ]
}