{
 "metadata": {
  "language_info": {
   "codemirror_mode": {
    "name": "ipython",
    "version": 3
   },
   "file_extension": ".py",
   "mimetype": "text/x-python",
   "name": "python",
   "nbconvert_exporter": "python",
   "pygments_lexer": "ipython3",
   "version": "3.8.5-final"
  },
  "orig_nbformat": 2,
  "kernelspec": {
   "name": "python38564bit207240a302f84cf383d7b6dbf8fca3f2",
   "display_name": "Python 3.8.5 64-bit"
  },
  "metadata": {
   "interpreter": {
    "hash": "31f2aee4e71d21fbe5cf8b01ff0e069b9275f58929596ceb00d14d90e3e16cd6"
   }
  }
 },
 "nbformat": 4,
 "nbformat_minor": 2,
 "cells": [
  {
   "cell_type": "code",
   "execution_count": 1,
   "metadata": {},
   "outputs": [],
   "source": [
    "%load_ext autoreload\n",
    "%autoreload 2"
   ]
  },
  {
   "cell_type": "code",
   "execution_count": 10,
   "metadata": {},
   "outputs": [],
   "source": [
    "from pyspark import SparkContext\n",
    "from pyspark.conf import SparkConf\n",
    "from pyspark.sql import SparkSession\n",
    "import matplotlib.pyplot as plt\n",
    "import seaborn as sns\n",
    "from pyspark.sql.functions import mean, stddev, col, log\n",
    "from pyspark.sql.functions import to_date, dayofweek, to_timestamp, datediff\n",
    "from pyspark.sql import types \n",
    "from pyspark.sql.functions import col, udf\n",
    "from datetime import datetime\n",
    "from pyspark.sql.types import DateType\n",
    "from pyspark.sql.functions import year, month\n",
    "from pyspark.sql.functions import dayofmonth, weekofyear\n",
    "from pyspark.sql.functions import split, explode\n",
    "from pyspark.sql.functions import coalesce, first, lit\n",
    "from pyspark.ml.feature import Binarizer\n",
    "from pyspark.ml.feature import Bucketizer\n",
    "from pyspark.ml.feature import OneHotEncoder, StringIndexer\n",
    "from pyspark.sql.functions import regexp_extract, col"
   ]
  },
  {
   "cell_type": "code",
   "execution_count": 3,
   "metadata": {},
   "outputs": [],
   "source": [
    "from modules.pyspark import CPySpark\n",
    "from pyspark.sql import Row, SQLContext"
   ]
  },
  {
   "cell_type": "code",
   "execution_count": 4,
   "metadata": {},
   "outputs": [],
   "source": [
    "spark = CPySpark(session=True, sql=True)"
   ]
  },
  {
   "cell_type": "code",
   "execution_count": 5,
   "metadata": {},
   "outputs": [],
   "source": [
    "spark = spark.session"
   ]
  },
  {
   "cell_type": "code",
   "execution_count": 6,
   "metadata": {},
   "outputs": [],
   "source": [
    "df = spark.read.csv(\"./data/2017_StPaul_MN_Real_Estate.csv\", header=True, inferSchema=True)"
   ]
  },
  {
   "cell_type": "code",
   "execution_count": 8,
   "metadata": {
    "tags": []
   },
   "outputs": [
    {
     "output_type": "execute_result",
     "data": {
      "text/plain": [
       "        No MLSID  StreetNumberNumeric            streetaddress   STREETNAME  \\\n",
       "0        1  RMLS                11511  11511 Stillwater Blvd N   Stillwater   \n",
       "1        2  RMLS                11200          11200 31st St N         31st   \n",
       "2        3  RMLS                 8583   8583 Stillwater Blvd N   Stillwater   \n",
       "3        4  RMLS                 9350           9350 31st St N         31st   \n",
       "4        5  RMLS                 2915        2915 Inwood Ave N       Inwood   \n",
       "...    ...   ...                  ...                      ...          ...   \n",
       "4995  4996  RMLS                 4933        4933 Sunflower Dr    Sunflower   \n",
       "4996  4997  RMLS                10746      10746 Watersedge Ln   Watersedge   \n",
       "4997  4998  RMLS                10721      10721 Watersedge Ln   Watersedge   \n",
       "4998  4999  RMLS                 4981        4981 Sunflower Pl    Sunflower   \n",
       "4999  5000  RMLS                 7608         7608 Glen Alcove  Glen Alcove   \n",
       "\n",
       "      PostalCode StateOrProvince              City  SalesClosePrice  \\\n",
       "0          55042              MN  LELM - Lake Elmo           143000   \n",
       "1          55042              MN  LELM - Lake Elmo           190000   \n",
       "2          55042              MN  LELM - Lake Elmo           225000   \n",
       "3          55042              MN  LELM - Lake Elmo           265000   \n",
       "4          55042              MN  LELM - Lake Elmo           249900   \n",
       "...          ...             ...               ...              ...   \n",
       "4995       55129              MN     WB - Woodbury           799000   \n",
       "4996       55129              MN     WB - Woodbury           805000   \n",
       "4997       55129              MN     WB - Woodbury           865000   \n",
       "4998       55129              MN     WB - Woodbury          1050216   \n",
       "4999       55129              MN     WB - Woodbury          1077200   \n",
       "\n",
       "            LISTDATE  ...  RoomArea7 RoomFloor7  RoomArea8  RoomFloor8  \\\n",
       "0     7/15/2017 0:00  ...       None       None       None        None   \n",
       "1     10/9/2017 0:00  ...      10x11       Main      11x11       Lower   \n",
       "2     6/26/2017 0:00  ...       None       None       None        None   \n",
       "3     8/25/2017 0:00  ...       None       None       None        None   \n",
       "4     9/12/2017 0:00  ...      14x13      Lower       None        None   \n",
       "...              ...  ...        ...        ...        ...         ...   \n",
       "4995   8/1/2017 0:00  ...      12x14      Lower       None        None   \n",
       "4996   8/1/2017 0:00  ...      14x14      Lower      13x11       Lower   \n",
       "4997  3/27/2017 0:00  ...      13x12      Upper      15x13       Upper   \n",
       "4998  5/24/2017 0:00  ...    13.6x11      Upper      12x11       Upper   \n",
       "4999  4/11/2017 0:00  ...      12x11      Upper      14x12       Upper   \n",
       "\n",
       "      Bedrooms SQFTBELOWGROUND AssumableMortgage AssociationFee  \\\n",
       "0            3               0              None              0   \n",
       "1            4             960              None              0   \n",
       "2            2               0     Not Assumable              0   \n",
       "3            2             348              None              0   \n",
       "4            3            1026              None              0   \n",
       "...        ...             ...               ...            ...   \n",
       "4995         3            1686              None            102   \n",
       "4996         5            2220              None             80   \n",
       "4997         4            1861              None             86   \n",
       "4998         4               0              None            105   \n",
       "4999         4               0              None            900   \n",
       "\n",
       "     ASSESSMENTPENDING  AssessedValuation  \n",
       "0              Unknown                0.0  \n",
       "1              Unknown                0.0  \n",
       "2                   No                0.0  \n",
       "3              Unknown                0.0  \n",
       "4                   No                0.0  \n",
       "...                ...                ...  \n",
       "4995                No               86.0  \n",
       "4996                No                0.0  \n",
       "4997                No                0.0  \n",
       "4998           Unknown                0.0  \n",
       "4999               Yes             2578.0  \n",
       "\n",
       "[5000 rows x 74 columns]"
      ],
      "text/html": "<div>\n<style scoped>\n    .dataframe tbody tr th:only-of-type {\n        vertical-align: middle;\n    }\n\n    .dataframe tbody tr th {\n        vertical-align: top;\n    }\n\n    .dataframe thead th {\n        text-align: right;\n    }\n</style>\n<table border=\"1\" class=\"dataframe\">\n  <thead>\n    <tr style=\"text-align: right;\">\n      <th></th>\n      <th>No</th>\n      <th>MLSID</th>\n      <th>StreetNumberNumeric</th>\n      <th>streetaddress</th>\n      <th>STREETNAME</th>\n      <th>PostalCode</th>\n      <th>StateOrProvince</th>\n      <th>City</th>\n      <th>SalesClosePrice</th>\n      <th>LISTDATE</th>\n      <th>...</th>\n      <th>RoomArea7</th>\n      <th>RoomFloor7</th>\n      <th>RoomArea8</th>\n      <th>RoomFloor8</th>\n      <th>Bedrooms</th>\n      <th>SQFTBELOWGROUND</th>\n      <th>AssumableMortgage</th>\n      <th>AssociationFee</th>\n      <th>ASSESSMENTPENDING</th>\n      <th>AssessedValuation</th>\n    </tr>\n  </thead>\n  <tbody>\n    <tr>\n      <th>0</th>\n      <td>1</td>\n      <td>RMLS</td>\n      <td>11511</td>\n      <td>11511 Stillwater Blvd N</td>\n      <td>Stillwater</td>\n      <td>55042</td>\n      <td>MN</td>\n      <td>LELM - Lake Elmo</td>\n      <td>143000</td>\n      <td>7/15/2017 0:00</td>\n      <td>...</td>\n      <td>None</td>\n      <td>None</td>\n      <td>None</td>\n      <td>None</td>\n      <td>3</td>\n      <td>0</td>\n      <td>None</td>\n      <td>0</td>\n      <td>Unknown</td>\n      <td>0.0</td>\n    </tr>\n    <tr>\n      <th>1</th>\n      <td>2</td>\n      <td>RMLS</td>\n      <td>11200</td>\n      <td>11200 31st St N</td>\n      <td>31st</td>\n      <td>55042</td>\n      <td>MN</td>\n      <td>LELM - Lake Elmo</td>\n      <td>190000</td>\n      <td>10/9/2017 0:00</td>\n      <td>...</td>\n      <td>10x11</td>\n      <td>Main</td>\n      <td>11x11</td>\n      <td>Lower</td>\n      <td>4</td>\n      <td>960</td>\n      <td>None</td>\n      <td>0</td>\n      <td>Unknown</td>\n      <td>0.0</td>\n    </tr>\n    <tr>\n      <th>2</th>\n      <td>3</td>\n      <td>RMLS</td>\n      <td>8583</td>\n      <td>8583 Stillwater Blvd N</td>\n      <td>Stillwater</td>\n      <td>55042</td>\n      <td>MN</td>\n      <td>LELM - Lake Elmo</td>\n      <td>225000</td>\n      <td>6/26/2017 0:00</td>\n      <td>...</td>\n      <td>None</td>\n      <td>None</td>\n      <td>None</td>\n      <td>None</td>\n      <td>2</td>\n      <td>0</td>\n      <td>Not Assumable</td>\n      <td>0</td>\n      <td>No</td>\n      <td>0.0</td>\n    </tr>\n    <tr>\n      <th>3</th>\n      <td>4</td>\n      <td>RMLS</td>\n      <td>9350</td>\n      <td>9350 31st St N</td>\n      <td>31st</td>\n      <td>55042</td>\n      <td>MN</td>\n      <td>LELM - Lake Elmo</td>\n      <td>265000</td>\n      <td>8/25/2017 0:00</td>\n      <td>...</td>\n      <td>None</td>\n      <td>None</td>\n      <td>None</td>\n      <td>None</td>\n      <td>2</td>\n      <td>348</td>\n      <td>None</td>\n      <td>0</td>\n      <td>Unknown</td>\n      <td>0.0</td>\n    </tr>\n    <tr>\n      <th>4</th>\n      <td>5</td>\n      <td>RMLS</td>\n      <td>2915</td>\n      <td>2915 Inwood Ave N</td>\n      <td>Inwood</td>\n      <td>55042</td>\n      <td>MN</td>\n      <td>LELM - Lake Elmo</td>\n      <td>249900</td>\n      <td>9/12/2017 0:00</td>\n      <td>...</td>\n      <td>14x13</td>\n      <td>Lower</td>\n      <td>None</td>\n      <td>None</td>\n      <td>3</td>\n      <td>1026</td>\n      <td>None</td>\n      <td>0</td>\n      <td>No</td>\n      <td>0.0</td>\n    </tr>\n    <tr>\n      <th>...</th>\n      <td>...</td>\n      <td>...</td>\n      <td>...</td>\n      <td>...</td>\n      <td>...</td>\n      <td>...</td>\n      <td>...</td>\n      <td>...</td>\n      <td>...</td>\n      <td>...</td>\n      <td>...</td>\n      <td>...</td>\n      <td>...</td>\n      <td>...</td>\n      <td>...</td>\n      <td>...</td>\n      <td>...</td>\n      <td>...</td>\n      <td>...</td>\n      <td>...</td>\n      <td>...</td>\n    </tr>\n    <tr>\n      <th>4995</th>\n      <td>4996</td>\n      <td>RMLS</td>\n      <td>4933</td>\n      <td>4933 Sunflower Dr</td>\n      <td>Sunflower</td>\n      <td>55129</td>\n      <td>MN</td>\n      <td>WB - Woodbury</td>\n      <td>799000</td>\n      <td>8/1/2017 0:00</td>\n      <td>...</td>\n      <td>12x14</td>\n      <td>Lower</td>\n      <td>None</td>\n      <td>None</td>\n      <td>3</td>\n      <td>1686</td>\n      <td>None</td>\n      <td>102</td>\n      <td>No</td>\n      <td>86.0</td>\n    </tr>\n    <tr>\n      <th>4996</th>\n      <td>4997</td>\n      <td>RMLS</td>\n      <td>10746</td>\n      <td>10746 Watersedge Ln</td>\n      <td>Watersedge</td>\n      <td>55129</td>\n      <td>MN</td>\n      <td>WB - Woodbury</td>\n      <td>805000</td>\n      <td>8/1/2017 0:00</td>\n      <td>...</td>\n      <td>14x14</td>\n      <td>Lower</td>\n      <td>13x11</td>\n      <td>Lower</td>\n      <td>5</td>\n      <td>2220</td>\n      <td>None</td>\n      <td>80</td>\n      <td>No</td>\n      <td>0.0</td>\n    </tr>\n    <tr>\n      <th>4997</th>\n      <td>4998</td>\n      <td>RMLS</td>\n      <td>10721</td>\n      <td>10721 Watersedge Ln</td>\n      <td>Watersedge</td>\n      <td>55129</td>\n      <td>MN</td>\n      <td>WB - Woodbury</td>\n      <td>865000</td>\n      <td>3/27/2017 0:00</td>\n      <td>...</td>\n      <td>13x12</td>\n      <td>Upper</td>\n      <td>15x13</td>\n      <td>Upper</td>\n      <td>4</td>\n      <td>1861</td>\n      <td>None</td>\n      <td>86</td>\n      <td>No</td>\n      <td>0.0</td>\n    </tr>\n    <tr>\n      <th>4998</th>\n      <td>4999</td>\n      <td>RMLS</td>\n      <td>4981</td>\n      <td>4981 Sunflower Pl</td>\n      <td>Sunflower</td>\n      <td>55129</td>\n      <td>MN</td>\n      <td>WB - Woodbury</td>\n      <td>1050216</td>\n      <td>5/24/2017 0:00</td>\n      <td>...</td>\n      <td>13.6x11</td>\n      <td>Upper</td>\n      <td>12x11</td>\n      <td>Upper</td>\n      <td>4</td>\n      <td>0</td>\n      <td>None</td>\n      <td>105</td>\n      <td>Unknown</td>\n      <td>0.0</td>\n    </tr>\n    <tr>\n      <th>4999</th>\n      <td>5000</td>\n      <td>RMLS</td>\n      <td>7608</td>\n      <td>7608 Glen Alcove</td>\n      <td>Glen Alcove</td>\n      <td>55129</td>\n      <td>MN</td>\n      <td>WB - Woodbury</td>\n      <td>1077200</td>\n      <td>4/11/2017 0:00</td>\n      <td>...</td>\n      <td>12x11</td>\n      <td>Upper</td>\n      <td>14x12</td>\n      <td>Upper</td>\n      <td>4</td>\n      <td>0</td>\n      <td>None</td>\n      <td>900</td>\n      <td>Yes</td>\n      <td>2578.0</td>\n    </tr>\n  </tbody>\n</table>\n<p>5000 rows × 74 columns</p>\n</div>"
     },
     "metadata": {},
     "execution_count": 8
    }
   ],
   "source": [
    "df.toPandas()"
   ]
  },
  {
   "cell_type": "code",
   "execution_count": 14,
   "metadata": {},
   "outputs": [
    {
     "output_type": "execute_result",
     "data": {
      "text/plain": [
       "        No MLSID  StreetNumberNumeric            streetaddress   STREETNAME  \\\n",
       "0        1  RMLS                11511  11511 Stillwater Blvd N   Stillwater   \n",
       "1        2  RMLS                11200          11200 31st St N         31st   \n",
       "2        3  RMLS                 8583   8583 Stillwater Blvd N   Stillwater   \n",
       "3        4  RMLS                 9350           9350 31st St N         31st   \n",
       "4        5  RMLS                 2915        2915 Inwood Ave N       Inwood   \n",
       "...    ...   ...                  ...                      ...          ...   \n",
       "4995  4996  RMLS                 4933        4933 Sunflower Dr    Sunflower   \n",
       "4996  4997  RMLS                10746      10746 Watersedge Ln   Watersedge   \n",
       "4997  4998  RMLS                10721      10721 Watersedge Ln   Watersedge   \n",
       "4998  4999  RMLS                 4981        4981 Sunflower Pl    Sunflower   \n",
       "4999  5000  RMLS                 7608         7608 Glen Alcove  Glen Alcove   \n",
       "\n",
       "      PostalCode StateOrProvince              City  SalesClosePrice  \\\n",
       "0          55042              MN  LELM - Lake Elmo           143000   \n",
       "1          55042              MN  LELM - Lake Elmo           190000   \n",
       "2          55042              MN  LELM - Lake Elmo           225000   \n",
       "3          55042              MN  LELM - Lake Elmo           265000   \n",
       "4          55042              MN  LELM - Lake Elmo           249900   \n",
       "...          ...             ...               ...              ...   \n",
       "4995       55129              MN     WB - Woodbury           799000   \n",
       "4996       55129              MN     WB - Woodbury           805000   \n",
       "4997       55129              MN     WB - Woodbury           865000   \n",
       "4998       55129              MN     WB - Woodbury          1050216   \n",
       "4999       55129              MN     WB - Woodbury          1077200   \n",
       "\n",
       "            LISTDATE  ...  RoomArea8 RoomFloor8  Bedrooms  SQFTBELOWGROUND  \\\n",
       "0     7/15/2017 0:00  ...       None       None         3                0   \n",
       "1     10/9/2017 0:00  ...      11x11      Lower         4              960   \n",
       "2     6/26/2017 0:00  ...       None       None         2                0   \n",
       "3     8/25/2017 0:00  ...       None       None         2              348   \n",
       "4     9/12/2017 0:00  ...       None       None         3             1026   \n",
       "...              ...  ...        ...        ...       ...              ...   \n",
       "4995   8/1/2017 0:00  ...       None       None         3             1686   \n",
       "4996   8/1/2017 0:00  ...      13x11      Lower         5             2220   \n",
       "4997  3/27/2017 0:00  ...      15x13      Upper         4             1861   \n",
       "4998  5/24/2017 0:00  ...      12x11      Upper         4                0   \n",
       "4999  4/11/2017 0:00  ...      14x12      Upper         4                0   \n",
       "\n",
       "      AssumableMortgage AssociationFee ASSESSMENTPENDING AssessedValuation  \\\n",
       "0                  None              0           Unknown               0.0   \n",
       "1                  None              0           Unknown               0.0   \n",
       "2         Not Assumable              0                No               0.0   \n",
       "3                  None              0           Unknown               0.0   \n",
       "4                  None              0                No               0.0   \n",
       "...                 ...            ...               ...               ...   \n",
       "4995               None            102                No              86.0   \n",
       "4996               None             80                No               0.0   \n",
       "4997               None             86                No               0.0   \n",
       "4998               None            105           Unknown               0.0   \n",
       "4999               None            900               Yes            2578.0   \n",
       "\n",
       "     TSQFT  PRICEPERTSQFT  \n",
       "0      980     142.755102  \n",
       "1     2228      94.254937  \n",
       "2     1102     204.174229  \n",
       "3     1632     140.931373  \n",
       "4     2052     116.910331  \n",
       "...    ...            ...  \n",
       "4995  3638     222.045080  \n",
       "4996  5923     143.508357  \n",
       "4997  5946     151.362092  \n",
       "4998  4321     243.049294  \n",
       "4999  3374     319.264967  \n",
       "\n",
       "[5000 rows x 76 columns]"
      ],
      "text/html": "<div>\n<style scoped>\n    .dataframe tbody tr th:only-of-type {\n        vertical-align: middle;\n    }\n\n    .dataframe tbody tr th {\n        vertical-align: top;\n    }\n\n    .dataframe thead th {\n        text-align: right;\n    }\n</style>\n<table border=\"1\" class=\"dataframe\">\n  <thead>\n    <tr style=\"text-align: right;\">\n      <th></th>\n      <th>No</th>\n      <th>MLSID</th>\n      <th>StreetNumberNumeric</th>\n      <th>streetaddress</th>\n      <th>STREETNAME</th>\n      <th>PostalCode</th>\n      <th>StateOrProvince</th>\n      <th>City</th>\n      <th>SalesClosePrice</th>\n      <th>LISTDATE</th>\n      <th>...</th>\n      <th>RoomArea8</th>\n      <th>RoomFloor8</th>\n      <th>Bedrooms</th>\n      <th>SQFTBELOWGROUND</th>\n      <th>AssumableMortgage</th>\n      <th>AssociationFee</th>\n      <th>ASSESSMENTPENDING</th>\n      <th>AssessedValuation</th>\n      <th>TSQFT</th>\n      <th>PRICEPERTSQFT</th>\n    </tr>\n  </thead>\n  <tbody>\n    <tr>\n      <th>0</th>\n      <td>1</td>\n      <td>RMLS</td>\n      <td>11511</td>\n      <td>11511 Stillwater Blvd N</td>\n      <td>Stillwater</td>\n      <td>55042</td>\n      <td>MN</td>\n      <td>LELM - Lake Elmo</td>\n      <td>143000</td>\n      <td>7/15/2017 0:00</td>\n      <td>...</td>\n      <td>None</td>\n      <td>None</td>\n      <td>3</td>\n      <td>0</td>\n      <td>None</td>\n      <td>0</td>\n      <td>Unknown</td>\n      <td>0.0</td>\n      <td>980</td>\n      <td>142.755102</td>\n    </tr>\n    <tr>\n      <th>1</th>\n      <td>2</td>\n      <td>RMLS</td>\n      <td>11200</td>\n      <td>11200 31st St N</td>\n      <td>31st</td>\n      <td>55042</td>\n      <td>MN</td>\n      <td>LELM - Lake Elmo</td>\n      <td>190000</td>\n      <td>10/9/2017 0:00</td>\n      <td>...</td>\n      <td>11x11</td>\n      <td>Lower</td>\n      <td>4</td>\n      <td>960</td>\n      <td>None</td>\n      <td>0</td>\n      <td>Unknown</td>\n      <td>0.0</td>\n      <td>2228</td>\n      <td>94.254937</td>\n    </tr>\n    <tr>\n      <th>2</th>\n      <td>3</td>\n      <td>RMLS</td>\n      <td>8583</td>\n      <td>8583 Stillwater Blvd N</td>\n      <td>Stillwater</td>\n      <td>55042</td>\n      <td>MN</td>\n      <td>LELM - Lake Elmo</td>\n      <td>225000</td>\n      <td>6/26/2017 0:00</td>\n      <td>...</td>\n      <td>None</td>\n      <td>None</td>\n      <td>2</td>\n      <td>0</td>\n      <td>Not Assumable</td>\n      <td>0</td>\n      <td>No</td>\n      <td>0.0</td>\n      <td>1102</td>\n      <td>204.174229</td>\n    </tr>\n    <tr>\n      <th>3</th>\n      <td>4</td>\n      <td>RMLS</td>\n      <td>9350</td>\n      <td>9350 31st St N</td>\n      <td>31st</td>\n      <td>55042</td>\n      <td>MN</td>\n      <td>LELM - Lake Elmo</td>\n      <td>265000</td>\n      <td>8/25/2017 0:00</td>\n      <td>...</td>\n      <td>None</td>\n      <td>None</td>\n      <td>2</td>\n      <td>348</td>\n      <td>None</td>\n      <td>0</td>\n      <td>Unknown</td>\n      <td>0.0</td>\n      <td>1632</td>\n      <td>140.931373</td>\n    </tr>\n    <tr>\n      <th>4</th>\n      <td>5</td>\n      <td>RMLS</td>\n      <td>2915</td>\n      <td>2915 Inwood Ave N</td>\n      <td>Inwood</td>\n      <td>55042</td>\n      <td>MN</td>\n      <td>LELM - Lake Elmo</td>\n      <td>249900</td>\n      <td>9/12/2017 0:00</td>\n      <td>...</td>\n      <td>None</td>\n      <td>None</td>\n      <td>3</td>\n      <td>1026</td>\n      <td>None</td>\n      <td>0</td>\n      <td>No</td>\n      <td>0.0</td>\n      <td>2052</td>\n      <td>116.910331</td>\n    </tr>\n    <tr>\n      <th>...</th>\n      <td>...</td>\n      <td>...</td>\n      <td>...</td>\n      <td>...</td>\n      <td>...</td>\n      <td>...</td>\n      <td>...</td>\n      <td>...</td>\n      <td>...</td>\n      <td>...</td>\n      <td>...</td>\n      <td>...</td>\n      <td>...</td>\n      <td>...</td>\n      <td>...</td>\n      <td>...</td>\n      <td>...</td>\n      <td>...</td>\n      <td>...</td>\n      <td>...</td>\n      <td>...</td>\n    </tr>\n    <tr>\n      <th>4995</th>\n      <td>4996</td>\n      <td>RMLS</td>\n      <td>4933</td>\n      <td>4933 Sunflower Dr</td>\n      <td>Sunflower</td>\n      <td>55129</td>\n      <td>MN</td>\n      <td>WB - Woodbury</td>\n      <td>799000</td>\n      <td>8/1/2017 0:00</td>\n      <td>...</td>\n      <td>None</td>\n      <td>None</td>\n      <td>3</td>\n      <td>1686</td>\n      <td>None</td>\n      <td>102</td>\n      <td>No</td>\n      <td>86.0</td>\n      <td>3638</td>\n      <td>222.045080</td>\n    </tr>\n    <tr>\n      <th>4996</th>\n      <td>4997</td>\n      <td>RMLS</td>\n      <td>10746</td>\n      <td>10746 Watersedge Ln</td>\n      <td>Watersedge</td>\n      <td>55129</td>\n      <td>MN</td>\n      <td>WB - Woodbury</td>\n      <td>805000</td>\n      <td>8/1/2017 0:00</td>\n      <td>...</td>\n      <td>13x11</td>\n      <td>Lower</td>\n      <td>5</td>\n      <td>2220</td>\n      <td>None</td>\n      <td>80</td>\n      <td>No</td>\n      <td>0.0</td>\n      <td>5923</td>\n      <td>143.508357</td>\n    </tr>\n    <tr>\n      <th>4997</th>\n      <td>4998</td>\n      <td>RMLS</td>\n      <td>10721</td>\n      <td>10721 Watersedge Ln</td>\n      <td>Watersedge</td>\n      <td>55129</td>\n      <td>MN</td>\n      <td>WB - Woodbury</td>\n      <td>865000</td>\n      <td>3/27/2017 0:00</td>\n      <td>...</td>\n      <td>15x13</td>\n      <td>Upper</td>\n      <td>4</td>\n      <td>1861</td>\n      <td>None</td>\n      <td>86</td>\n      <td>No</td>\n      <td>0.0</td>\n      <td>5946</td>\n      <td>151.362092</td>\n    </tr>\n    <tr>\n      <th>4998</th>\n      <td>4999</td>\n      <td>RMLS</td>\n      <td>4981</td>\n      <td>4981 Sunflower Pl</td>\n      <td>Sunflower</td>\n      <td>55129</td>\n      <td>MN</td>\n      <td>WB - Woodbury</td>\n      <td>1050216</td>\n      <td>5/24/2017 0:00</td>\n      <td>...</td>\n      <td>12x11</td>\n      <td>Upper</td>\n      <td>4</td>\n      <td>0</td>\n      <td>None</td>\n      <td>105</td>\n      <td>Unknown</td>\n      <td>0.0</td>\n      <td>4321</td>\n      <td>243.049294</td>\n    </tr>\n    <tr>\n      <th>4999</th>\n      <td>5000</td>\n      <td>RMLS</td>\n      <td>7608</td>\n      <td>7608 Glen Alcove</td>\n      <td>Glen Alcove</td>\n      <td>55129</td>\n      <td>MN</td>\n      <td>WB - Woodbury</td>\n      <td>1077200</td>\n      <td>4/11/2017 0:00</td>\n      <td>...</td>\n      <td>14x12</td>\n      <td>Upper</td>\n      <td>4</td>\n      <td>0</td>\n      <td>None</td>\n      <td>900</td>\n      <td>Yes</td>\n      <td>2578.0</td>\n      <td>3374</td>\n      <td>319.264967</td>\n    </tr>\n  </tbody>\n</table>\n<p>5000 rows × 76 columns</p>\n</div>"
     },
     "metadata": {},
     "execution_count": 14
    }
   ],
   "source": [
    "df = df.withColumn('TSQFT', (df['SQFTBELOWGROUND'] + df['SQFTABOVEGROUND']))\n",
    "df = df.withColumn('PRICEPERTSQFT', (df['LISTPRICE']/df['TSQFT']))\n",
    "df = df.withColumn('DAYSONMARKET', datediff('OFFMARKETDATE', 'LISTDATE'))\n",
    "\n",
    "df.toPandas()"
   ]
  },
  {
   "source": [
    "acres_to_sqfeet = 43560\n",
    "df = df.withColumn('LOT_SIZE_SQFT', df['ACRES'] * acres_to_sqfeet)\n",
    "\n",
    "df = df.withColumn('YARD_SIZE', df['LOT_SIZE_SQFT'] - df['FOUNDATIONSIZE'])\n"
   ],
   "cell_type": "code",
   "metadata": {},
   "execution_count": 15,
   "outputs": []
  },
  {
   "cell_type": "code",
   "execution_count": 18,
   "metadata": {},
   "outputs": [
    {
     "output_type": "execute_result",
     "data": {
      "text/plain": [
       "0.22060612588935327"
      ]
     },
     "metadata": {},
     "execution_count": 18
    }
   ],
   "source": [
    "df.corr('ACRES', 'SalesClosePrice')"
   ]
  },
  {
   "cell_type": "code",
   "execution_count": 17,
   "metadata": {},
   "outputs": [
    {
     "output_type": "execute_result",
     "data": {
      "text/plain": [
       "0.6152231695664401"
      ]
     },
     "metadata": {},
     "execution_count": 17
    }
   ],
   "source": [
    "df.corr('FOUNDATIONSIZE', 'SalesClosePrice')"
   ]
  },
  {
   "cell_type": "code",
   "execution_count": 19,
   "metadata": {},
   "outputs": [
    {
     "output_type": "execute_result",
     "data": {
      "text/plain": [
       "0.20714585430854263"
      ]
     },
     "metadata": {},
     "execution_count": 19
    }
   ],
   "source": [
    "df.corr('YARD_SIZE', 'SalesClosePrice')"
   ]
  },
  {
   "cell_type": "code",
   "execution_count": null,
   "metadata": {},
   "outputs": [],
   "source": []
  },
  {
   "source": [
    "convert to date type"
   ],
   "cell_type": "markdown",
   "metadata": {}
  },
  {
   "cell_type": "code",
   "execution_count": 20,
   "metadata": {},
   "outputs": [],
   "source": [
    "func = udf(lambda x: datetime.strptime(x, '%m/%d/%Y %H:%M'), DateType())\n",
    "df = df.withColumn('LISTDATE_new', func(col('LISTDATE')))\n",
    "\n",
    "df = df.withColumn('List_Day_of_Week', dayofweek('LISTDATE_new'))\n",
    "sample_df = df.sample(False, 0.5, 42).toPandas()"
   ]
  },
  {
   "cell_type": "code",
   "execution_count": 21,
   "metadata": {},
   "outputs": [
    {
     "output_type": "execute_result",
     "data": {
      "text/plain": [
       "        No MLSID  StreetNumberNumeric         streetaddress   STREETNAME  \\\n",
       "0        4  RMLS                 9350        9350 31st St N         31st   \n",
       "1        8  RMLS                 9934  9934 5th Street Ln N   5th Street   \n",
       "2       11  RMLS                 9902  9902 5th Street Ln N   5th Street   \n",
       "3       13  RMLS                 9894  9894 5th Street Ln N   5th Street   \n",
       "4       17  RMLS                 9898      9898 5th St Ln N       5th St   \n",
       "...    ...   ...                  ...                   ...          ...   \n",
       "2547  4992  RMLS                 3507     3507 Crestmoor Pt    Crestmoor   \n",
       "2548  4994  RMLS                10869    10869 Bentwater Ln    Bentwater   \n",
       "2549  4998  RMLS                10721   10721 Watersedge Ln   Watersedge   \n",
       "2550  4999  RMLS                 4981     4981 Sunflower Pl    Sunflower   \n",
       "2551  5000  RMLS                 7608      7608 Glen Alcove  Glen Alcove   \n",
       "\n",
       "      PostalCode StateOrProvince              City  SalesClosePrice  \\\n",
       "0          55042              MN  LELM - Lake Elmo           265000   \n",
       "1          55042              MN  LELM - Lake Elmo           245000   \n",
       "2          55042              MN  LELM - Lake Elmo           254500   \n",
       "3          55042              MN  LELM - Lake Elmo           257500   \n",
       "4          55042              MN  LELM - Lake Elmo           274990   \n",
       "...          ...             ...               ...              ...   \n",
       "2547       55125              MN     WB - Woodbury           770000   \n",
       "2548       55129              MN     WB - Woodbury           795000   \n",
       "2549       55129              MN     WB - Woodbury           865000   \n",
       "2550       55129              MN     WB - Woodbury          1050216   \n",
       "2551       55129              MN     WB - Woodbury          1077200   \n",
       "\n",
       "            LISTDATE  ...  AssumableMortgage AssociationFee  \\\n",
       "0     8/25/2017 0:00  ...               None              0   \n",
       "1     11/5/2017 0:00  ...               None            200   \n",
       "2     5/19/2017 0:00  ...               None            200   \n",
       "3     3/12/2017 0:00  ...               None            190   \n",
       "4     9/10/2017 0:00  ...               None            200   \n",
       "...              ...  ...                ...            ...   \n",
       "2547   5/3/2017 0:00  ...               None            440   \n",
       "2548  7/21/2017 0:00  ...               None             80   \n",
       "2549  3/27/2017 0:00  ...               None             86   \n",
       "2550  5/24/2017 0:00  ...               None            105   \n",
       "2551  4/11/2017 0:00  ...               None            900   \n",
       "\n",
       "      ASSESSMENTPENDING  AssessedValuation  TSQFT PRICEPERTSQFT LOT_SIZE_SQFT  \\\n",
       "0               Unknown                0.0   1632    140.931373      40946.40   \n",
       "1                    No                0.0   1733    147.137911       2178.00   \n",
       "2                    No                0.0   1733    150.023081       2178.00   \n",
       "3                    No                0.0   1733    150.023081       2178.00   \n",
       "4                    No                0.0   1763    155.978446       2178.00   \n",
       "...                 ...                ...    ...           ...           ...   \n",
       "2547                 No                0.0   3489    222.126684      35719.20   \n",
       "2548                 No                0.0   6037    132.350505      15681.60   \n",
       "2549                 No                0.0   5946    151.362092       9147.60   \n",
       "2550            Unknown                0.0   4321    243.049294          0.00   \n",
       "2551                Yes             2578.0   3374    319.264967      95091.48   \n",
       "\n",
       "     YARD_SIZE LISTDATE_new  List_Day_of_Week  \n",
       "0     39987.40   2017-08-25                 6  \n",
       "1      1090.00   2017-11-05                 1  \n",
       "2      1090.00   2017-05-19                 6  \n",
       "3      1090.00   2017-03-12                 1  \n",
       "4      1090.00   2017-09-10                 1  \n",
       "...        ...          ...               ...  \n",
       "2547  33170.20   2017-05-03                 4  \n",
       "2548  13770.60   2017-07-21                 6  \n",
       "2549   7051.60   2017-03-27                 2  \n",
       "2550  -1919.00   2017-05-24                 4  \n",
       "2551  93418.48   2017-04-11                 3  \n",
       "\n",
       "[2552 rows x 80 columns]"
      ],
      "text/html": "<div>\n<style scoped>\n    .dataframe tbody tr th:only-of-type {\n        vertical-align: middle;\n    }\n\n    .dataframe tbody tr th {\n        vertical-align: top;\n    }\n\n    .dataframe thead th {\n        text-align: right;\n    }\n</style>\n<table border=\"1\" class=\"dataframe\">\n  <thead>\n    <tr style=\"text-align: right;\">\n      <th></th>\n      <th>No</th>\n      <th>MLSID</th>\n      <th>StreetNumberNumeric</th>\n      <th>streetaddress</th>\n      <th>STREETNAME</th>\n      <th>PostalCode</th>\n      <th>StateOrProvince</th>\n      <th>City</th>\n      <th>SalesClosePrice</th>\n      <th>LISTDATE</th>\n      <th>...</th>\n      <th>AssumableMortgage</th>\n      <th>AssociationFee</th>\n      <th>ASSESSMENTPENDING</th>\n      <th>AssessedValuation</th>\n      <th>TSQFT</th>\n      <th>PRICEPERTSQFT</th>\n      <th>LOT_SIZE_SQFT</th>\n      <th>YARD_SIZE</th>\n      <th>LISTDATE_new</th>\n      <th>List_Day_of_Week</th>\n    </tr>\n  </thead>\n  <tbody>\n    <tr>\n      <th>0</th>\n      <td>4</td>\n      <td>RMLS</td>\n      <td>9350</td>\n      <td>9350 31st St N</td>\n      <td>31st</td>\n      <td>55042</td>\n      <td>MN</td>\n      <td>LELM - Lake Elmo</td>\n      <td>265000</td>\n      <td>8/25/2017 0:00</td>\n      <td>...</td>\n      <td>None</td>\n      <td>0</td>\n      <td>Unknown</td>\n      <td>0.0</td>\n      <td>1632</td>\n      <td>140.931373</td>\n      <td>40946.40</td>\n      <td>39987.40</td>\n      <td>2017-08-25</td>\n      <td>6</td>\n    </tr>\n    <tr>\n      <th>1</th>\n      <td>8</td>\n      <td>RMLS</td>\n      <td>9934</td>\n      <td>9934 5th Street Ln N</td>\n      <td>5th Street</td>\n      <td>55042</td>\n      <td>MN</td>\n      <td>LELM - Lake Elmo</td>\n      <td>245000</td>\n      <td>11/5/2017 0:00</td>\n      <td>...</td>\n      <td>None</td>\n      <td>200</td>\n      <td>No</td>\n      <td>0.0</td>\n      <td>1733</td>\n      <td>147.137911</td>\n      <td>2178.00</td>\n      <td>1090.00</td>\n      <td>2017-11-05</td>\n      <td>1</td>\n    </tr>\n    <tr>\n      <th>2</th>\n      <td>11</td>\n      <td>RMLS</td>\n      <td>9902</td>\n      <td>9902 5th Street Ln N</td>\n      <td>5th Street</td>\n      <td>55042</td>\n      <td>MN</td>\n      <td>LELM - Lake Elmo</td>\n      <td>254500</td>\n      <td>5/19/2017 0:00</td>\n      <td>...</td>\n      <td>None</td>\n      <td>200</td>\n      <td>No</td>\n      <td>0.0</td>\n      <td>1733</td>\n      <td>150.023081</td>\n      <td>2178.00</td>\n      <td>1090.00</td>\n      <td>2017-05-19</td>\n      <td>6</td>\n    </tr>\n    <tr>\n      <th>3</th>\n      <td>13</td>\n      <td>RMLS</td>\n      <td>9894</td>\n      <td>9894 5th Street Ln N</td>\n      <td>5th Street</td>\n      <td>55042</td>\n      <td>MN</td>\n      <td>LELM - Lake Elmo</td>\n      <td>257500</td>\n      <td>3/12/2017 0:00</td>\n      <td>...</td>\n      <td>None</td>\n      <td>190</td>\n      <td>No</td>\n      <td>0.0</td>\n      <td>1733</td>\n      <td>150.023081</td>\n      <td>2178.00</td>\n      <td>1090.00</td>\n      <td>2017-03-12</td>\n      <td>1</td>\n    </tr>\n    <tr>\n      <th>4</th>\n      <td>17</td>\n      <td>RMLS</td>\n      <td>9898</td>\n      <td>9898 5th St Ln N</td>\n      <td>5th St</td>\n      <td>55042</td>\n      <td>MN</td>\n      <td>LELM - Lake Elmo</td>\n      <td>274990</td>\n      <td>9/10/2017 0:00</td>\n      <td>...</td>\n      <td>None</td>\n      <td>200</td>\n      <td>No</td>\n      <td>0.0</td>\n      <td>1763</td>\n      <td>155.978446</td>\n      <td>2178.00</td>\n      <td>1090.00</td>\n      <td>2017-09-10</td>\n      <td>1</td>\n    </tr>\n    <tr>\n      <th>...</th>\n      <td>...</td>\n      <td>...</td>\n      <td>...</td>\n      <td>...</td>\n      <td>...</td>\n      <td>...</td>\n      <td>...</td>\n      <td>...</td>\n      <td>...</td>\n      <td>...</td>\n      <td>...</td>\n      <td>...</td>\n      <td>...</td>\n      <td>...</td>\n      <td>...</td>\n      <td>...</td>\n      <td>...</td>\n      <td>...</td>\n      <td>...</td>\n      <td>...</td>\n      <td>...</td>\n    </tr>\n    <tr>\n      <th>2547</th>\n      <td>4992</td>\n      <td>RMLS</td>\n      <td>3507</td>\n      <td>3507 Crestmoor Pt</td>\n      <td>Crestmoor</td>\n      <td>55125</td>\n      <td>MN</td>\n      <td>WB - Woodbury</td>\n      <td>770000</td>\n      <td>5/3/2017 0:00</td>\n      <td>...</td>\n      <td>None</td>\n      <td>440</td>\n      <td>No</td>\n      <td>0.0</td>\n      <td>3489</td>\n      <td>222.126684</td>\n      <td>35719.20</td>\n      <td>33170.20</td>\n      <td>2017-05-03</td>\n      <td>4</td>\n    </tr>\n    <tr>\n      <th>2548</th>\n      <td>4994</td>\n      <td>RMLS</td>\n      <td>10869</td>\n      <td>10869 Bentwater Ln</td>\n      <td>Bentwater</td>\n      <td>55129</td>\n      <td>MN</td>\n      <td>WB - Woodbury</td>\n      <td>795000</td>\n      <td>7/21/2017 0:00</td>\n      <td>...</td>\n      <td>None</td>\n      <td>80</td>\n      <td>No</td>\n      <td>0.0</td>\n      <td>6037</td>\n      <td>132.350505</td>\n      <td>15681.60</td>\n      <td>13770.60</td>\n      <td>2017-07-21</td>\n      <td>6</td>\n    </tr>\n    <tr>\n      <th>2549</th>\n      <td>4998</td>\n      <td>RMLS</td>\n      <td>10721</td>\n      <td>10721 Watersedge Ln</td>\n      <td>Watersedge</td>\n      <td>55129</td>\n      <td>MN</td>\n      <td>WB - Woodbury</td>\n      <td>865000</td>\n      <td>3/27/2017 0:00</td>\n      <td>...</td>\n      <td>None</td>\n      <td>86</td>\n      <td>No</td>\n      <td>0.0</td>\n      <td>5946</td>\n      <td>151.362092</td>\n      <td>9147.60</td>\n      <td>7051.60</td>\n      <td>2017-03-27</td>\n      <td>2</td>\n    </tr>\n    <tr>\n      <th>2550</th>\n      <td>4999</td>\n      <td>RMLS</td>\n      <td>4981</td>\n      <td>4981 Sunflower Pl</td>\n      <td>Sunflower</td>\n      <td>55129</td>\n      <td>MN</td>\n      <td>WB - Woodbury</td>\n      <td>1050216</td>\n      <td>5/24/2017 0:00</td>\n      <td>...</td>\n      <td>None</td>\n      <td>105</td>\n      <td>Unknown</td>\n      <td>0.0</td>\n      <td>4321</td>\n      <td>243.049294</td>\n      <td>0.00</td>\n      <td>-1919.00</td>\n      <td>2017-05-24</td>\n      <td>4</td>\n    </tr>\n    <tr>\n      <th>2551</th>\n      <td>5000</td>\n      <td>RMLS</td>\n      <td>7608</td>\n      <td>7608 Glen Alcove</td>\n      <td>Glen Alcove</td>\n      <td>55129</td>\n      <td>MN</td>\n      <td>WB - Woodbury</td>\n      <td>1077200</td>\n      <td>4/11/2017 0:00</td>\n      <td>...</td>\n      <td>None</td>\n      <td>900</td>\n      <td>Yes</td>\n      <td>2578.0</td>\n      <td>3374</td>\n      <td>319.264967</td>\n      <td>95091.48</td>\n      <td>93418.48</td>\n      <td>2017-04-11</td>\n      <td>3</td>\n    </tr>\n  </tbody>\n</table>\n<p>2552 rows × 80 columns</p>\n</div>"
     },
     "metadata": {},
     "execution_count": 21
    }
   ],
   "source": [
    "sample_df"
   ]
  },
  {
   "cell_type": "code",
   "execution_count": 22,
   "metadata": {},
   "outputs": [
    {
     "output_type": "execute_result",
     "data": {
      "text/plain": [
       "         LISTDATE LISTDATE_new  List_Day_of_Week\n",
       "0  8/25/2017 0:00   2017-08-25                 6\n",
       "1  11/5/2017 0:00   2017-11-05                 1\n",
       "2  5/19/2017 0:00   2017-05-19                 6\n",
       "3  3/12/2017 0:00   2017-03-12                 1\n",
       "4  9/10/2017 0:00   2017-09-10                 1"
      ],
      "text/html": "<div>\n<style scoped>\n    .dataframe tbody tr th:only-of-type {\n        vertical-align: middle;\n    }\n\n    .dataframe tbody tr th {\n        vertical-align: top;\n    }\n\n    .dataframe thead th {\n        text-align: right;\n    }\n</style>\n<table border=\"1\" class=\"dataframe\">\n  <thead>\n    <tr style=\"text-align: right;\">\n      <th></th>\n      <th>LISTDATE</th>\n      <th>LISTDATE_new</th>\n      <th>List_Day_of_Week</th>\n    </tr>\n  </thead>\n  <tbody>\n    <tr>\n      <th>0</th>\n      <td>8/25/2017 0:00</td>\n      <td>2017-08-25</td>\n      <td>6</td>\n    </tr>\n    <tr>\n      <th>1</th>\n      <td>11/5/2017 0:00</td>\n      <td>2017-11-05</td>\n      <td>1</td>\n    </tr>\n    <tr>\n      <th>2</th>\n      <td>5/19/2017 0:00</td>\n      <td>2017-05-19</td>\n      <td>6</td>\n    </tr>\n    <tr>\n      <th>3</th>\n      <td>3/12/2017 0:00</td>\n      <td>2017-03-12</td>\n      <td>1</td>\n    </tr>\n    <tr>\n      <th>4</th>\n      <td>9/10/2017 0:00</td>\n      <td>2017-09-10</td>\n      <td>1</td>\n    </tr>\n  </tbody>\n</table>\n</div>"
     },
     "metadata": {},
     "execution_count": 22
    }
   ],
   "source": [
    "sample_df[['LISTDATE', 'LISTDATE_new', 'List_Day_of_Week']].head()"
   ]
  },
  {
   "cell_type": "code",
   "execution_count": 23,
   "metadata": {},
   "outputs": [
    {
     "output_type": "display_data",
     "data": {
      "text/plain": "<Figure size 432x288 with 1 Axes>",
      "image/svg+xml": "<?xml version=\"1.0\" encoding=\"utf-8\" standalone=\"no\"?>\n<!DOCTYPE svg PUBLIC \"-//W3C//DTD SVG 1.1//EN\"\n  \"http://www.w3.org/Graphics/SVG/1.1/DTD/svg11.dtd\">\n<svg height=\"262.638903pt\" version=\"1.1\" viewBox=\"0 0 388.965625 262.638903\" width=\"388.965625pt\" xmlns=\"http://www.w3.org/2000/svg\" xmlns:xlink=\"http://www.w3.org/1999/xlink\">\n <metadata>\n  <rdf:RDF xmlns:cc=\"http://creativecommons.org/ns#\" xmlns:dc=\"http://purl.org/dc/elements/1.1/\" xmlns:rdf=\"http://www.w3.org/1999/02/22-rdf-syntax-ns#\">\n   <cc:Work>\n    <dc:type rdf:resource=\"http://purl.org/dc/dcmitype/StillImage\"/>\n    <dc:date>2021-04-18T09:11:01.668579</dc:date>\n    <dc:format>image/svg+xml</dc:format>\n    <dc:creator>\n     <cc:Agent>\n      <dc:title>Matplotlib v3.4.1, https://matplotlib.org/</dc:title>\n     </cc:Agent>\n    </dc:creator>\n   </cc:Work>\n  </rdf:RDF>\n </metadata>\n <defs>\n  <style type=\"text/css\">*{stroke-linecap:butt;stroke-linejoin:round;}</style>\n </defs>\n <g id=\"figure_1\">\n  <g id=\"patch_1\">\n   <path d=\"M -0 262.638903 \nL 388.965625 262.638903 \nL 388.965625 0 \nL -0 0 \nz\n\" style=\"fill:none;\"/>\n  </g>\n  <g id=\"axes_1\">\n   <g id=\"patch_2\">\n    <path d=\"M 46.965625 224.804528 \nL 381.765625 224.804528 \nL 381.765625 7.364528 \nL 46.965625 7.364528 \nz\n\" style=\"fill:#ffffff;\"/>\n   </g>\n   <g id=\"patch_3\">\n    <path clip-path=\"url(#p79c59ff206)\" d=\"M 51.748482 224.804528 \nL 90.011339 224.804528 \nL 90.011339 204.03487 \nL 51.748482 204.03487 \nz\n\" style=\"fill:#3274a1;\"/>\n   </g>\n   <g id=\"patch_4\">\n    <path clip-path=\"url(#p79c59ff206)\" d=\"M 99.577054 224.804528 \nL 137.839911 224.804528 \nL 137.839911 125.232341 \nL 99.577054 125.232341 \nz\n\" style=\"fill:#e1812c;\"/>\n   </g>\n   <g id=\"patch_5\">\n    <path clip-path=\"url(#p79c59ff206)\" d=\"M 147.405625 224.804528 \nL 185.668482 224.804528 \nL 185.668482 136.533479 \nL 147.405625 136.533479 \nz\n\" style=\"fill:#3a923a;\"/>\n   </g>\n   <g id=\"patch_6\">\n    <path clip-path=\"url(#p79c59ff206)\" d=\"M 195.234196 224.804528 \nL 233.497054 224.804528 \nL 233.497054 100.797449 \nL 195.234196 100.797449 \nz\n\" style=\"fill:#c03d3e;\"/>\n   </g>\n   <g id=\"patch_7\">\n    <path clip-path=\"url(#p79c59ff206)\" d=\"M 243.062768 224.804528 \nL 281.325625 224.804528 \nL 281.325625 33.906931 \nL 243.062768 33.906931 \nz\n\" style=\"fill:#9372b2;\"/>\n   </g>\n   <g id=\"patch_8\">\n    <path clip-path=\"url(#p79c59ff206)\" d=\"M 290.891339 224.804528 \nL 329.154196 224.804528 \nL 329.154196 17.718814 \nL 290.891339 17.718814 \nz\n\" style=\"fill:#845b53;\"/>\n   </g>\n   <g id=\"patch_9\">\n    <path clip-path=\"url(#p79c59ff206)\" d=\"M 338.719911 224.804528 \nL 376.982768 224.804528 \nL 376.982768 175.934743 \nL 338.719911 175.934743 \nz\n\" style=\"fill:#d684bd;\"/>\n   </g>\n   <g id=\"matplotlib.axis_1\">\n    <g id=\"xtick_1\">\n     <g id=\"line2d_1\">\n      <defs>\n       <path d=\"M 0 0 \nL 0 3.5 \n\" id=\"m2e4160e680\" style=\"stroke:#000000;stroke-width:0.8;\"/>\n      </defs>\n      <g>\n       <use style=\"stroke:#000000;stroke-width:0.8;\" x=\"70.879911\" xlink:href=\"#m2e4160e680\" y=\"224.804528\"/>\n      </g>\n     </g>\n     <g id=\"text_1\">\n      <!-- 1 -->\n      <g transform=\"translate(67.698661 239.402966)scale(0.1 -0.1)\">\n       <defs>\n        <path d=\"M 794 531 \nL 1825 531 \nL 1825 4091 \nL 703 3866 \nL 703 4441 \nL 1819 4666 \nL 2450 4666 \nL 2450 531 \nL 3481 531 \nL 3481 0 \nL 794 0 \nL 794 531 \nz\n\" id=\"DejaVuSans-31\" transform=\"scale(0.015625)\"/>\n       </defs>\n       <use xlink:href=\"#DejaVuSans-31\"/>\n      </g>\n     </g>\n    </g>\n    <g id=\"xtick_2\">\n     <g id=\"line2d_2\">\n      <g>\n       <use style=\"stroke:#000000;stroke-width:0.8;\" x=\"118.708482\" xlink:href=\"#m2e4160e680\" y=\"224.804528\"/>\n      </g>\n     </g>\n     <g id=\"text_2\">\n      <!-- 2 -->\n      <g transform=\"translate(115.527232 239.402966)scale(0.1 -0.1)\">\n       <defs>\n        <path d=\"M 1228 531 \nL 3431 531 \nL 3431 0 \nL 469 0 \nL 469 531 \nQ 828 903 1448 1529 \nQ 2069 2156 2228 2338 \nQ 2531 2678 2651 2914 \nQ 2772 3150 2772 3378 \nQ 2772 3750 2511 3984 \nQ 2250 4219 1831 4219 \nQ 1534 4219 1204 4116 \nQ 875 4013 500 3803 \nL 500 4441 \nQ 881 4594 1212 4672 \nQ 1544 4750 1819 4750 \nQ 2544 4750 2975 4387 \nQ 3406 4025 3406 3419 \nQ 3406 3131 3298 2873 \nQ 3191 2616 2906 2266 \nQ 2828 2175 2409 1742 \nQ 1991 1309 1228 531 \nz\n\" id=\"DejaVuSans-32\" transform=\"scale(0.015625)\"/>\n       </defs>\n       <use xlink:href=\"#DejaVuSans-32\"/>\n      </g>\n     </g>\n    </g>\n    <g id=\"xtick_3\">\n     <g id=\"line2d_3\">\n      <g>\n       <use style=\"stroke:#000000;stroke-width:0.8;\" x=\"166.537054\" xlink:href=\"#m2e4160e680\" y=\"224.804528\"/>\n      </g>\n     </g>\n     <g id=\"text_3\">\n      <!-- 3 -->\n      <g transform=\"translate(163.355804 239.402966)scale(0.1 -0.1)\">\n       <defs>\n        <path d=\"M 2597 2516 \nQ 3050 2419 3304 2112 \nQ 3559 1806 3559 1356 \nQ 3559 666 3084 287 \nQ 2609 -91 1734 -91 \nQ 1441 -91 1130 -33 \nQ 819 25 488 141 \nL 488 750 \nQ 750 597 1062 519 \nQ 1375 441 1716 441 \nQ 2309 441 2620 675 \nQ 2931 909 2931 1356 \nQ 2931 1769 2642 2001 \nQ 2353 2234 1838 2234 \nL 1294 2234 \nL 1294 2753 \nL 1863 2753 \nQ 2328 2753 2575 2939 \nQ 2822 3125 2822 3475 \nQ 2822 3834 2567 4026 \nQ 2313 4219 1838 4219 \nQ 1578 4219 1281 4162 \nQ 984 4106 628 3988 \nL 628 4550 \nQ 988 4650 1302 4700 \nQ 1616 4750 1894 4750 \nQ 2613 4750 3031 4423 \nQ 3450 4097 3450 3541 \nQ 3450 3153 3228 2886 \nQ 3006 2619 2597 2516 \nz\n\" id=\"DejaVuSans-33\" transform=\"scale(0.015625)\"/>\n       </defs>\n       <use xlink:href=\"#DejaVuSans-33\"/>\n      </g>\n     </g>\n    </g>\n    <g id=\"xtick_4\">\n     <g id=\"line2d_4\">\n      <g>\n       <use style=\"stroke:#000000;stroke-width:0.8;\" x=\"214.365625\" xlink:href=\"#m2e4160e680\" y=\"224.804528\"/>\n      </g>\n     </g>\n     <g id=\"text_4\">\n      <!-- 4 -->\n      <g transform=\"translate(211.184375 239.402966)scale(0.1 -0.1)\">\n       <defs>\n        <path d=\"M 2419 4116 \nL 825 1625 \nL 2419 1625 \nL 2419 4116 \nz\nM 2253 4666 \nL 3047 4666 \nL 3047 1625 \nL 3713 1625 \nL 3713 1100 \nL 3047 1100 \nL 3047 0 \nL 2419 0 \nL 2419 1100 \nL 313 1100 \nL 313 1709 \nL 2253 4666 \nz\n\" id=\"DejaVuSans-34\" transform=\"scale(0.015625)\"/>\n       </defs>\n       <use xlink:href=\"#DejaVuSans-34\"/>\n      </g>\n     </g>\n    </g>\n    <g id=\"xtick_5\">\n     <g id=\"line2d_5\">\n      <g>\n       <use style=\"stroke:#000000;stroke-width:0.8;\" x=\"262.194196\" xlink:href=\"#m2e4160e680\" y=\"224.804528\"/>\n      </g>\n     </g>\n     <g id=\"text_5\">\n      <!-- 5 -->\n      <g transform=\"translate(259.012946 239.402966)scale(0.1 -0.1)\">\n       <defs>\n        <path d=\"M 691 4666 \nL 3169 4666 \nL 3169 4134 \nL 1269 4134 \nL 1269 2991 \nQ 1406 3038 1543 3061 \nQ 1681 3084 1819 3084 \nQ 2600 3084 3056 2656 \nQ 3513 2228 3513 1497 \nQ 3513 744 3044 326 \nQ 2575 -91 1722 -91 \nQ 1428 -91 1123 -41 \nQ 819 9 494 109 \nL 494 744 \nQ 775 591 1075 516 \nQ 1375 441 1709 441 \nQ 2250 441 2565 725 \nQ 2881 1009 2881 1497 \nQ 2881 1984 2565 2268 \nQ 2250 2553 1709 2553 \nQ 1456 2553 1204 2497 \nQ 953 2441 691 2322 \nL 691 4666 \nz\n\" id=\"DejaVuSans-35\" transform=\"scale(0.015625)\"/>\n       </defs>\n       <use xlink:href=\"#DejaVuSans-35\"/>\n      </g>\n     </g>\n    </g>\n    <g id=\"xtick_6\">\n     <g id=\"line2d_6\">\n      <g>\n       <use style=\"stroke:#000000;stroke-width:0.8;\" x=\"310.022768\" xlink:href=\"#m2e4160e680\" y=\"224.804528\"/>\n      </g>\n     </g>\n     <g id=\"text_6\">\n      <!-- 6 -->\n      <g transform=\"translate(306.841518 239.402966)scale(0.1 -0.1)\">\n       <defs>\n        <path d=\"M 2113 2584 \nQ 1688 2584 1439 2293 \nQ 1191 2003 1191 1497 \nQ 1191 994 1439 701 \nQ 1688 409 2113 409 \nQ 2538 409 2786 701 \nQ 3034 994 3034 1497 \nQ 3034 2003 2786 2293 \nQ 2538 2584 2113 2584 \nz\nM 3366 4563 \nL 3366 3988 \nQ 3128 4100 2886 4159 \nQ 2644 4219 2406 4219 \nQ 1781 4219 1451 3797 \nQ 1122 3375 1075 2522 \nQ 1259 2794 1537 2939 \nQ 1816 3084 2150 3084 \nQ 2853 3084 3261 2657 \nQ 3669 2231 3669 1497 \nQ 3669 778 3244 343 \nQ 2819 -91 2113 -91 \nQ 1303 -91 875 529 \nQ 447 1150 447 2328 \nQ 447 3434 972 4092 \nQ 1497 4750 2381 4750 \nQ 2619 4750 2861 4703 \nQ 3103 4656 3366 4563 \nz\n\" id=\"DejaVuSans-36\" transform=\"scale(0.015625)\"/>\n       </defs>\n       <use xlink:href=\"#DejaVuSans-36\"/>\n      </g>\n     </g>\n    </g>\n    <g id=\"xtick_7\">\n     <g id=\"line2d_7\">\n      <g>\n       <use style=\"stroke:#000000;stroke-width:0.8;\" x=\"357.851339\" xlink:href=\"#m2e4160e680\" y=\"224.804528\"/>\n      </g>\n     </g>\n     <g id=\"text_7\">\n      <!-- 7 -->\n      <g transform=\"translate(354.670089 239.402966)scale(0.1 -0.1)\">\n       <defs>\n        <path d=\"M 525 4666 \nL 3525 4666 \nL 3525 4397 \nL 1831 0 \nL 1172 0 \nL 2766 4134 \nL 525 4134 \nL 525 4666 \nz\n\" id=\"DejaVuSans-37\" transform=\"scale(0.015625)\"/>\n       </defs>\n       <use xlink:href=\"#DejaVuSans-37\"/>\n      </g>\n     </g>\n    </g>\n    <g id=\"text_8\">\n     <!-- List_Day_of_Week -->\n     <g transform=\"translate(169.734375 253.081091)scale(0.1 -0.1)\">\n      <defs>\n       <path d=\"M 628 4666 \nL 1259 4666 \nL 1259 531 \nL 3531 531 \nL 3531 0 \nL 628 0 \nL 628 4666 \nz\n\" id=\"DejaVuSans-4c\" transform=\"scale(0.015625)\"/>\n       <path d=\"M 603 3500 \nL 1178 3500 \nL 1178 0 \nL 603 0 \nL 603 3500 \nz\nM 603 4863 \nL 1178 4863 \nL 1178 4134 \nL 603 4134 \nL 603 4863 \nz\n\" id=\"DejaVuSans-69\" transform=\"scale(0.015625)\"/>\n       <path d=\"M 2834 3397 \nL 2834 2853 \nQ 2591 2978 2328 3040 \nQ 2066 3103 1784 3103 \nQ 1356 3103 1142 2972 \nQ 928 2841 928 2578 \nQ 928 2378 1081 2264 \nQ 1234 2150 1697 2047 \nL 1894 2003 \nQ 2506 1872 2764 1633 \nQ 3022 1394 3022 966 \nQ 3022 478 2636 193 \nQ 2250 -91 1575 -91 \nQ 1294 -91 989 -36 \nQ 684 19 347 128 \nL 347 722 \nQ 666 556 975 473 \nQ 1284 391 1588 391 \nQ 1994 391 2212 530 \nQ 2431 669 2431 922 \nQ 2431 1156 2273 1281 \nQ 2116 1406 1581 1522 \nL 1381 1569 \nQ 847 1681 609 1914 \nQ 372 2147 372 2553 \nQ 372 3047 722 3315 \nQ 1072 3584 1716 3584 \nQ 2034 3584 2315 3537 \nQ 2597 3491 2834 3397 \nz\n\" id=\"DejaVuSans-73\" transform=\"scale(0.015625)\"/>\n       <path d=\"M 1172 4494 \nL 1172 3500 \nL 2356 3500 \nL 2356 3053 \nL 1172 3053 \nL 1172 1153 \nQ 1172 725 1289 603 \nQ 1406 481 1766 481 \nL 2356 481 \nL 2356 0 \nL 1766 0 \nQ 1100 0 847 248 \nQ 594 497 594 1153 \nL 594 3053 \nL 172 3053 \nL 172 3500 \nL 594 3500 \nL 594 4494 \nL 1172 4494 \nz\n\" id=\"DejaVuSans-74\" transform=\"scale(0.015625)\"/>\n       <path d=\"M 3263 -1063 \nL 3263 -1509 \nL -63 -1509 \nL -63 -1063 \nL 3263 -1063 \nz\n\" id=\"DejaVuSans-5f\" transform=\"scale(0.015625)\"/>\n       <path d=\"M 1259 4147 \nL 1259 519 \nL 2022 519 \nQ 2988 519 3436 956 \nQ 3884 1394 3884 2338 \nQ 3884 3275 3436 3711 \nQ 2988 4147 2022 4147 \nL 1259 4147 \nz\nM 628 4666 \nL 1925 4666 \nQ 3281 4666 3915 4102 \nQ 4550 3538 4550 2338 \nQ 4550 1131 3912 565 \nQ 3275 0 1925 0 \nL 628 0 \nL 628 4666 \nz\n\" id=\"DejaVuSans-44\" transform=\"scale(0.015625)\"/>\n       <path d=\"M 2194 1759 \nQ 1497 1759 1228 1600 \nQ 959 1441 959 1056 \nQ 959 750 1161 570 \nQ 1363 391 1709 391 \nQ 2188 391 2477 730 \nQ 2766 1069 2766 1631 \nL 2766 1759 \nL 2194 1759 \nz\nM 3341 1997 \nL 3341 0 \nL 2766 0 \nL 2766 531 \nQ 2569 213 2275 61 \nQ 1981 -91 1556 -91 \nQ 1019 -91 701 211 \nQ 384 513 384 1019 \nQ 384 1609 779 1909 \nQ 1175 2209 1959 2209 \nL 2766 2209 \nL 2766 2266 \nQ 2766 2663 2505 2880 \nQ 2244 3097 1772 3097 \nQ 1472 3097 1187 3025 \nQ 903 2953 641 2809 \nL 641 3341 \nQ 956 3463 1253 3523 \nQ 1550 3584 1831 3584 \nQ 2591 3584 2966 3190 \nQ 3341 2797 3341 1997 \nz\n\" id=\"DejaVuSans-61\" transform=\"scale(0.015625)\"/>\n       <path d=\"M 2059 -325 \nQ 1816 -950 1584 -1140 \nQ 1353 -1331 966 -1331 \nL 506 -1331 \nL 506 -850 \nL 844 -850 \nQ 1081 -850 1212 -737 \nQ 1344 -625 1503 -206 \nL 1606 56 \nL 191 3500 \nL 800 3500 \nL 1894 763 \nL 2988 3500 \nL 3597 3500 \nL 2059 -325 \nz\n\" id=\"DejaVuSans-79\" transform=\"scale(0.015625)\"/>\n       <path d=\"M 1959 3097 \nQ 1497 3097 1228 2736 \nQ 959 2375 959 1747 \nQ 959 1119 1226 758 \nQ 1494 397 1959 397 \nQ 2419 397 2687 759 \nQ 2956 1122 2956 1747 \nQ 2956 2369 2687 2733 \nQ 2419 3097 1959 3097 \nz\nM 1959 3584 \nQ 2709 3584 3137 3096 \nQ 3566 2609 3566 1747 \nQ 3566 888 3137 398 \nQ 2709 -91 1959 -91 \nQ 1206 -91 779 398 \nQ 353 888 353 1747 \nQ 353 2609 779 3096 \nQ 1206 3584 1959 3584 \nz\n\" id=\"DejaVuSans-6f\" transform=\"scale(0.015625)\"/>\n       <path d=\"M 2375 4863 \nL 2375 4384 \nL 1825 4384 \nQ 1516 4384 1395 4259 \nQ 1275 4134 1275 3809 \nL 1275 3500 \nL 2222 3500 \nL 2222 3053 \nL 1275 3053 \nL 1275 0 \nL 697 0 \nL 697 3053 \nL 147 3053 \nL 147 3500 \nL 697 3500 \nL 697 3744 \nQ 697 4328 969 4595 \nQ 1241 4863 1831 4863 \nL 2375 4863 \nz\n\" id=\"DejaVuSans-66\" transform=\"scale(0.015625)\"/>\n       <path d=\"M 213 4666 \nL 850 4666 \nL 1831 722 \nL 2809 4666 \nL 3519 4666 \nL 4500 722 \nL 5478 4666 \nL 6119 4666 \nL 4947 0 \nL 4153 0 \nL 3169 4050 \nL 2175 0 \nL 1381 0 \nL 213 4666 \nz\n\" id=\"DejaVuSans-57\" transform=\"scale(0.015625)\"/>\n       <path d=\"M 3597 1894 \nL 3597 1613 \nL 953 1613 \nQ 991 1019 1311 708 \nQ 1631 397 2203 397 \nQ 2534 397 2845 478 \nQ 3156 559 3463 722 \nL 3463 178 \nQ 3153 47 2828 -22 \nQ 2503 -91 2169 -91 \nQ 1331 -91 842 396 \nQ 353 884 353 1716 \nQ 353 2575 817 3079 \nQ 1281 3584 2069 3584 \nQ 2775 3584 3186 3129 \nQ 3597 2675 3597 1894 \nz\nM 3022 2063 \nQ 3016 2534 2758 2815 \nQ 2500 3097 2075 3097 \nQ 1594 3097 1305 2825 \nQ 1016 2553 972 2059 \nL 3022 2063 \nz\n\" id=\"DejaVuSans-65\" transform=\"scale(0.015625)\"/>\n       <path d=\"M 581 4863 \nL 1159 4863 \nL 1159 1991 \nL 2875 3500 \nL 3609 3500 \nL 1753 1863 \nL 3688 0 \nL 2938 0 \nL 1159 1709 \nL 1159 0 \nL 581 0 \nL 581 4863 \nz\n\" id=\"DejaVuSans-6b\" transform=\"scale(0.015625)\"/>\n      </defs>\n      <use xlink:href=\"#DejaVuSans-4c\"/>\n      <use x=\"55.712891\" xlink:href=\"#DejaVuSans-69\"/>\n      <use x=\"83.496094\" xlink:href=\"#DejaVuSans-73\"/>\n      <use x=\"135.595703\" xlink:href=\"#DejaVuSans-74\"/>\n      <use x=\"174.804688\" xlink:href=\"#DejaVuSans-5f\"/>\n      <use x=\"224.804688\" xlink:href=\"#DejaVuSans-44\"/>\n      <use x=\"301.806641\" xlink:href=\"#DejaVuSans-61\"/>\n      <use x=\"363.085938\" xlink:href=\"#DejaVuSans-79\"/>\n      <use x=\"422.265625\" xlink:href=\"#DejaVuSans-5f\"/>\n      <use x=\"472.265625\" xlink:href=\"#DejaVuSans-6f\"/>\n      <use x=\"533.447266\" xlink:href=\"#DejaVuSans-66\"/>\n      <use x=\"568.652344\" xlink:href=\"#DejaVuSans-5f\"/>\n      <use x=\"618.652344\" xlink:href=\"#DejaVuSans-57\"/>\n      <use x=\"711.654297\" xlink:href=\"#DejaVuSans-65\"/>\n      <use x=\"773.177734\" xlink:href=\"#DejaVuSans-65\"/>\n      <use x=\"834.701172\" xlink:href=\"#DejaVuSans-6b\"/>\n     </g>\n    </g>\n   </g>\n   <g id=\"matplotlib.axis_2\">\n    <g id=\"ytick_1\">\n     <g id=\"line2d_8\">\n      <defs>\n       <path d=\"M 0 0 \nL -3.5 0 \n\" id=\"m7dacd60076\" style=\"stroke:#000000;stroke-width:0.8;\"/>\n      </defs>\n      <g>\n       <use style=\"stroke:#000000;stroke-width:0.8;\" x=\"46.965625\" xlink:href=\"#m7dacd60076\" y=\"224.804528\"/>\n      </g>\n     </g>\n     <g id=\"text_9\">\n      <!-- 0 -->\n      <g transform=\"translate(33.603125 228.603747)scale(0.1 -0.1)\">\n       <defs>\n        <path d=\"M 2034 4250 \nQ 1547 4250 1301 3770 \nQ 1056 3291 1056 2328 \nQ 1056 1369 1301 889 \nQ 1547 409 2034 409 \nQ 2525 409 2770 889 \nQ 3016 1369 3016 2328 \nQ 3016 3291 2770 3770 \nQ 2525 4250 2034 4250 \nz\nM 2034 4750 \nQ 2819 4750 3233 4129 \nQ 3647 3509 3647 2328 \nQ 3647 1150 3233 529 \nQ 2819 -91 2034 -91 \nQ 1250 -91 836 529 \nQ 422 1150 422 2328 \nQ 422 3509 836 4129 \nQ 1250 4750 2034 4750 \nz\n\" id=\"DejaVuSans-30\" transform=\"scale(0.015625)\"/>\n       </defs>\n       <use xlink:href=\"#DejaVuSans-30\"/>\n      </g>\n     </g>\n    </g>\n    <g id=\"ytick_2\">\n     <g id=\"line2d_9\">\n      <g>\n       <use style=\"stroke:#000000;stroke-width:0.8;\" x=\"46.965625\" xlink:href=\"#m7dacd60076\" y=\"194.260913\"/>\n      </g>\n     </g>\n     <g id=\"text_10\">\n      <!-- 100 -->\n      <g transform=\"translate(20.878125 198.060132)scale(0.1 -0.1)\">\n       <use xlink:href=\"#DejaVuSans-31\"/>\n       <use x=\"63.623047\" xlink:href=\"#DejaVuSans-30\"/>\n       <use x=\"127.246094\" xlink:href=\"#DejaVuSans-30\"/>\n      </g>\n     </g>\n    </g>\n    <g id=\"ytick_3\">\n     <g id=\"line2d_10\">\n      <g>\n       <use style=\"stroke:#000000;stroke-width:0.8;\" x=\"46.965625\" xlink:href=\"#m7dacd60076\" y=\"163.717297\"/>\n      </g>\n     </g>\n     <g id=\"text_11\">\n      <!-- 200 -->\n      <g transform=\"translate(20.878125 167.516516)scale(0.1 -0.1)\">\n       <use xlink:href=\"#DejaVuSans-32\"/>\n       <use x=\"63.623047\" xlink:href=\"#DejaVuSans-30\"/>\n       <use x=\"127.246094\" xlink:href=\"#DejaVuSans-30\"/>\n      </g>\n     </g>\n    </g>\n    <g id=\"ytick_4\">\n     <g id=\"line2d_11\">\n      <g>\n       <use style=\"stroke:#000000;stroke-width:0.8;\" x=\"46.965625\" xlink:href=\"#m7dacd60076\" y=\"133.173681\"/>\n      </g>\n     </g>\n     <g id=\"text_12\">\n      <!-- 300 -->\n      <g transform=\"translate(20.878125 136.9729)scale(0.1 -0.1)\">\n       <use xlink:href=\"#DejaVuSans-33\"/>\n       <use x=\"63.623047\" xlink:href=\"#DejaVuSans-30\"/>\n       <use x=\"127.246094\" xlink:href=\"#DejaVuSans-30\"/>\n      </g>\n     </g>\n    </g>\n    <g id=\"ytick_5\">\n     <g id=\"line2d_12\">\n      <g>\n       <use style=\"stroke:#000000;stroke-width:0.8;\" x=\"46.965625\" xlink:href=\"#m7dacd60076\" y=\"102.630066\"/>\n      </g>\n     </g>\n     <g id=\"text_13\">\n      <!-- 400 -->\n      <g transform=\"translate(20.878125 106.429285)scale(0.1 -0.1)\">\n       <use xlink:href=\"#DejaVuSans-34\"/>\n       <use x=\"63.623047\" xlink:href=\"#DejaVuSans-30\"/>\n       <use x=\"127.246094\" xlink:href=\"#DejaVuSans-30\"/>\n      </g>\n     </g>\n    </g>\n    <g id=\"ytick_6\">\n     <g id=\"line2d_13\">\n      <g>\n       <use style=\"stroke:#000000;stroke-width:0.8;\" x=\"46.965625\" xlink:href=\"#m7dacd60076\" y=\"72.08645\"/>\n      </g>\n     </g>\n     <g id=\"text_14\">\n      <!-- 500 -->\n      <g transform=\"translate(20.878125 75.885669)scale(0.1 -0.1)\">\n       <use xlink:href=\"#DejaVuSans-35\"/>\n       <use x=\"63.623047\" xlink:href=\"#DejaVuSans-30\"/>\n       <use x=\"127.246094\" xlink:href=\"#DejaVuSans-30\"/>\n      </g>\n     </g>\n    </g>\n    <g id=\"ytick_7\">\n     <g id=\"line2d_14\">\n      <g>\n       <use style=\"stroke:#000000;stroke-width:0.8;\" x=\"46.965625\" xlink:href=\"#m7dacd60076\" y=\"41.542834\"/>\n      </g>\n     </g>\n     <g id=\"text_15\">\n      <!-- 600 -->\n      <g transform=\"translate(20.878125 45.342053)scale(0.1 -0.1)\">\n       <use xlink:href=\"#DejaVuSans-36\"/>\n       <use x=\"63.623047\" xlink:href=\"#DejaVuSans-30\"/>\n       <use x=\"127.246094\" xlink:href=\"#DejaVuSans-30\"/>\n      </g>\n     </g>\n    </g>\n    <g id=\"ytick_8\">\n     <g id=\"line2d_15\">\n      <g>\n       <use style=\"stroke:#000000;stroke-width:0.8;\" x=\"46.965625\" xlink:href=\"#m7dacd60076\" y=\"10.999219\"/>\n      </g>\n     </g>\n     <g id=\"text_16\">\n      <!-- 700 -->\n      <g transform=\"translate(20.878125 14.798438)scale(0.1 -0.1)\">\n       <use xlink:href=\"#DejaVuSans-37\"/>\n       <use x=\"63.623047\" xlink:href=\"#DejaVuSans-30\"/>\n       <use x=\"127.246094\" xlink:href=\"#DejaVuSans-30\"/>\n      </g>\n     </g>\n    </g>\n    <g id=\"text_17\">\n     <!-- count -->\n     <g transform=\"translate(14.798438 130.190778)rotate(-90)scale(0.1 -0.1)\">\n      <defs>\n       <path d=\"M 3122 3366 \nL 3122 2828 \nQ 2878 2963 2633 3030 \nQ 2388 3097 2138 3097 \nQ 1578 3097 1268 2742 \nQ 959 2388 959 1747 \nQ 959 1106 1268 751 \nQ 1578 397 2138 397 \nQ 2388 397 2633 464 \nQ 2878 531 3122 666 \nL 3122 134 \nQ 2881 22 2623 -34 \nQ 2366 -91 2075 -91 \nQ 1284 -91 818 406 \nQ 353 903 353 1747 \nQ 353 2603 823 3093 \nQ 1294 3584 2113 3584 \nQ 2378 3584 2631 3529 \nQ 2884 3475 3122 3366 \nz\n\" id=\"DejaVuSans-63\" transform=\"scale(0.015625)\"/>\n       <path d=\"M 544 1381 \nL 544 3500 \nL 1119 3500 \nL 1119 1403 \nQ 1119 906 1312 657 \nQ 1506 409 1894 409 \nQ 2359 409 2629 706 \nQ 2900 1003 2900 1516 \nL 2900 3500 \nL 3475 3500 \nL 3475 0 \nL 2900 0 \nL 2900 538 \nQ 2691 219 2414 64 \nQ 2138 -91 1772 -91 \nQ 1169 -91 856 284 \nQ 544 659 544 1381 \nz\nM 1991 3584 \nL 1991 3584 \nz\n\" id=\"DejaVuSans-75\" transform=\"scale(0.015625)\"/>\n       <path d=\"M 3513 2113 \nL 3513 0 \nL 2938 0 \nL 2938 2094 \nQ 2938 2591 2744 2837 \nQ 2550 3084 2163 3084 \nQ 1697 3084 1428 2787 \nQ 1159 2491 1159 1978 \nL 1159 0 \nL 581 0 \nL 581 3500 \nL 1159 3500 \nL 1159 2956 \nQ 1366 3272 1645 3428 \nQ 1925 3584 2291 3584 \nQ 2894 3584 3203 3211 \nQ 3513 2838 3513 2113 \nz\n\" id=\"DejaVuSans-6e\" transform=\"scale(0.015625)\"/>\n      </defs>\n      <use xlink:href=\"#DejaVuSans-63\"/>\n      <use x=\"54.980469\" xlink:href=\"#DejaVuSans-6f\"/>\n      <use x=\"116.162109\" xlink:href=\"#DejaVuSans-75\"/>\n      <use x=\"179.541016\" xlink:href=\"#DejaVuSans-6e\"/>\n      <use x=\"242.919922\" xlink:href=\"#DejaVuSans-74\"/>\n     </g>\n    </g>\n   </g>\n   <g id=\"patch_10\">\n    <path d=\"M 46.965625 224.804528 \nL 46.965625 7.364528 \n\" style=\"fill:none;stroke:#000000;stroke-linecap:square;stroke-linejoin:miter;stroke-width:0.8;\"/>\n   </g>\n   <g id=\"patch_11\">\n    <path d=\"M 381.765625 224.804528 \nL 381.765625 7.364528 \n\" style=\"fill:none;stroke:#000000;stroke-linecap:square;stroke-linejoin:miter;stroke-width:0.8;\"/>\n   </g>\n   <g id=\"patch_12\">\n    <path d=\"M 46.965625 224.804528 \nL 381.765625 224.804528 \n\" style=\"fill:none;stroke:#000000;stroke-linecap:square;stroke-linejoin:miter;stroke-width:0.8;\"/>\n   </g>\n   <g id=\"patch_13\">\n    <path d=\"M 46.965625 7.364528 \nL 381.765625 7.364528 \n\" style=\"fill:none;stroke:#000000;stroke-linecap:square;stroke-linejoin:miter;stroke-width:0.8;\"/>\n   </g>\n  </g>\n </g>\n <defs>\n  <clipPath id=\"p79c59ff206\">\n   <rect height=\"217.44\" width=\"334.8\" x=\"46.965625\" y=\"7.364528\"/>\n  </clipPath>\n </defs>\n</svg>\n",
      "image/png": "[encoded data removed]"
     },
     "metadata": {
      "needs_background": "light"
     }
    }
   ],
   "source": [
    "ax = sns.countplot(x='List_Day_of_Week', data=sample_df)\n",
    "plt.show()"
   ]
  },
  {
   "cell_type": "code",
   "execution_count": null,
   "metadata": {},
   "outputs": [],
   "source": []
  },
  {
   "cell_type": "code",
   "execution_count": 25,
   "metadata": {},
   "outputs": [
    {
     "output_type": "stream",
     "name": "stdout",
     "text": [
      "+------------+---------+----------+---------------+---------------+\n|LISTDATE_new|LIST_YEAR|LIST_MONTH|LIST_DAYOFMONTH|LIST_WEEKOFYEAR|\n+------------+---------+----------+---------------+---------------+\n|  2017-07-15|     2017|         7|             15|             28|\n|  2017-10-09|     2017|        10|              9|             41|\n|  2017-06-26|     2017|         6|             26|             26|\n|  2017-08-25|     2017|         8|             25|             34|\n|  2017-09-12|     2017|         9|             12|             37|\n+------------+---------+----------+---------------+---------------+\nonly showing top 5 rows\n\n"
     ]
    }
   ],
   "source": [
    "df = df.withColumn('LIST_YEAR', year('LISTDATE_new'))\n",
    "df = df.withColumn('LIST_MONTH', month('LISTDATE_new'))\n",
    "df = df.withColumn('LIST_DAYOFMONTH', dayofmonth('LISTDATE_new'))\n",
    "df = df.withColumn('LIST_WEEKOFYEAR', weekofyear('LISTDATE_new'))\n",
    "\n",
    "df[['LISTDATE_new', 'LIST_YEAR', 'LIST_MONTH', 'LIST_DAYOFMONTH', 'LIST_WEEKOFYEAR']].show(5)"
   ]
  },
  {
   "cell_type": "code",
   "execution_count": null,
   "metadata": {},
   "outputs": [],
   "source": []
  },
  {
   "cell_type": "code",
   "execution_count": 26,
   "metadata": {},
   "outputs": [],
   "source": [
    "from pyspark.sql.functions import when"
   ]
  },
  {
   "cell_type": "code",
   "execution_count": 27,
   "metadata": {},
   "outputs": [],
   "source": [
    "has_attached_garage = df['GARAGEDESCRIPTION'].like('%Attached Garage%')\n",
    "has_detached_garage = df['GARAGEDESCRIPTION'].like('%Detached Garage%')\n"
   ]
  },
  {
   "cell_type": "code",
   "execution_count": 30,
   "metadata": {},
   "outputs": [],
   "source": [
    "df = df.withColumn('has_attached_garage', (when(has_attached_garage, 1)\n",
    "                                            .when(has_detached_garage, 0)\n",
    "                                            .otherwise(None)))"
   ]
  },
  {
   "cell_type": "code",
   "execution_count": 31,
   "metadata": {},
   "outputs": [
    {
     "output_type": "stream",
     "name": "stdout",
     "text": [
      "+--------------------------------------------------+-------------------+\n|                                 GARAGEDESCRIPTION|has_attached_garage|\n+--------------------------------------------------+-------------------+\n|                                   Attached Garage|                  1|\n|Attached Garage, Driveway - Asphalt, Garage Doo...|                  1|\n|                                   Attached Garage|                  1|\n+--------------------------------------------------+-------------------+\nonly showing top 3 rows\n\n"
     ]
    }
   ],
   "source": [
    "df[['GARAGEDESCRIPTION', 'has_attached_garage']].show(truncate=50, n=3)"
   ]
  },
  {
   "cell_type": "code",
   "execution_count": null,
   "metadata": {},
   "outputs": [],
   "source": []
  },
  {
   "cell_type": "code",
   "execution_count": 32,
   "metadata": {},
   "outputs": [
    {
     "output_type": "stream",
     "name": "stdout",
     "text": [
      "+----------------------------------------------+----------------+\n|                                          ROOF|   Roof_Material|\n+----------------------------------------------+----------------+\n|                                          null|            null|\n|Asphalt Shingles, Pitched, Age 8 Years or Less|Asphalt Shingles|\n|                                          null|            null|\n|Asphalt Shingles, Pitched, Age 8 Years or Less|Asphalt Shingles|\n|            Asphalt Shingles, Age Over 8 Years|Asphalt Shingles|\n+----------------------------------------------+----------------+\nonly showing top 5 rows\n\n"
     ]
    }
   ],
   "source": [
    "split_col = split(df['ROOF'], ',')\n",
    "df = df.withColumn('Roof_Material', split_col.getItem(0))\n",
    "df[['ROOF', 'Roof_Material']].show(5, truncate=100)"
   ]
  },
  {
   "cell_type": "code",
   "execution_count": null,
   "metadata": {},
   "outputs": [],
   "source": []
  },
  {
   "cell_type": "code",
   "execution_count": 33,
   "metadata": {},
   "outputs": [
    {
     "output_type": "stream",
     "name": "stdout",
     "text": [
      "+---+--------------------------------------------------+\n| No|                                         roof_list|\n+---+--------------------------------------------------+\n|  1|                                              null|\n|  2|[Asphalt Shingles,  Pitched,  Age 8 Years or Less]|\n|  3|                                              null|\n|  4|[Asphalt Shingles,  Pitched,  Age 8 Years or Less]|\n+---+--------------------------------------------------+\nonly showing top 4 rows\n\n"
     ]
    }
   ],
   "source": [
    "df = df.withColumn('roof_list', split(df['ROOF'], ','))\n",
    "df[['No', 'roof_list']].show(4, truncate=50)"
   ]
  },
  {
   "cell_type": "code",
   "execution_count": 34,
   "metadata": {},
   "outputs": [
    {
     "output_type": "stream",
     "name": "stdout",
     "text": [
      "+---+--------------------+\n| No|        ex_roof_list|\n+---+--------------------+\n|  2|    Asphalt Shingles|\n|  2|             Pitched|\n|  2| Age 8 Years or Less|\n|  4|    Asphalt Shingles|\n|  4|             Pitched|\n+---+--------------------+\nonly showing top 5 rows\n\n"
     ]
    }
   ],
   "source": [
    "roof_df = df.withColumn('ex_roof_list', explode(df['roof_list']))\n",
    "roof_df[['No', 'ex_roof_list']].show(5, truncate=50)"
   ]
  },
  {
   "cell_type": "code",
   "execution_count": null,
   "metadata": {},
   "outputs": [],
   "source": []
  },
  {
   "cell_type": "code",
   "execution_count": 35,
   "metadata": {},
   "outputs": [],
   "source": [
    "roof_df = roof_df.withColumn('constant_val', lit(1))\n",
    "roof_piv_df = roof_df.groupBy('NO').pivot('ex_roof_list').agg(coalesce(first('constant_val')))"
   ]
  },
  {
   "cell_type": "code",
   "execution_count": 37,
   "metadata": {},
   "outputs": [
    {
     "output_type": "execute_result",
     "data": {
      "text/plain": [
       "        NO   Age 8 Years or Less   Age Over 8 Years   Flat   Metal   Other  \\\n",
       "0     4519                   NaN                NaN    NaN     NaN     NaN   \n",
       "1     1591                   NaN                NaN    NaN     NaN     NaN   \n",
       "2      471                   NaN                NaN    NaN     NaN     NaN   \n",
       "3     2659                   NaN                1.0    NaN     NaN     NaN   \n",
       "4     4935                   NaN                NaN    NaN     NaN     NaN   \n",
       "...    ...                   ...                ...    ...     ...     ...   \n",
       "4230  4585                   1.0                NaN    NaN     NaN     NaN   \n",
       "4231  1476                   NaN                NaN    NaN     NaN     NaN   \n",
       "4232  3825                   NaN                NaN    NaN     NaN     NaN   \n",
       "4233  3668                   NaN                NaN    NaN     NaN     NaN   \n",
       "4234  4173                   NaN                NaN    NaN     NaN     NaN   \n",
       "\n",
       "       Pitched   Rubber   Shakes   Slate  ...  Metal  Other  Pitched  Rubber  \\\n",
       "0          NaN      NaN      NaN     NaN  ...    NaN    NaN      NaN     NaN   \n",
       "1          NaN      NaN      NaN     NaN  ...    NaN    NaN      NaN     NaN   \n",
       "2          NaN      NaN      NaN     NaN  ...    NaN    NaN      NaN     NaN   \n",
       "3          NaN      NaN      NaN     NaN  ...    NaN    NaN      NaN     NaN   \n",
       "4          NaN      NaN      NaN     NaN  ...    NaN    NaN      NaN     NaN   \n",
       "...        ...      ...      ...     ...  ...    ...    ...      ...     ...   \n",
       "4230       NaN      NaN      NaN     NaN  ...    NaN    NaN      NaN     NaN   \n",
       "4231       NaN      NaN      NaN     NaN  ...    NaN    NaN      NaN     NaN   \n",
       "4232       NaN      NaN      NaN     NaN  ...    NaN    NaN      NaN     NaN   \n",
       "4233       NaN      NaN      NaN     NaN  ...    NaN    NaN      NaN     NaN   \n",
       "4234       NaN      NaN      NaN     NaN  ...    NaN    NaN      NaN     NaN   \n",
       "\n",
       "      Shakes  Slate  Tar/Gravel  Tile  Unspecified Shingle  Wood Shingles  \n",
       "0        NaN    NaN         NaN   NaN                  NaN            NaN  \n",
       "1        NaN    NaN         NaN   NaN                  NaN            NaN  \n",
       "2        NaN    NaN         NaN   NaN                  NaN            NaN  \n",
       "3        NaN    NaN         NaN   NaN                  NaN            NaN  \n",
       "4        NaN    NaN         NaN   NaN                  NaN            NaN  \n",
       "...      ...    ...         ...   ...                  ...            ...  \n",
       "4230     NaN    NaN         NaN   NaN                  NaN            NaN  \n",
       "4231     NaN    NaN         NaN   NaN                  NaN            NaN  \n",
       "4232     NaN    NaN         NaN   NaN                  NaN            NaN  \n",
       "4233     NaN    NaN         NaN   NaN                  NaN            NaN  \n",
       "4234     NaN    NaN         NaN   NaN                  NaN            NaN  \n",
       "\n",
       "[4235 rows x 28 columns]"
      ],
      "text/html": "<div>\n<style scoped>\n    .dataframe tbody tr th:only-of-type {\n        vertical-align: middle;\n    }\n\n    .dataframe tbody tr th {\n        vertical-align: top;\n    }\n\n    .dataframe thead th {\n        text-align: right;\n    }\n</style>\n<table border=\"1\" class=\"dataframe\">\n  <thead>\n    <tr style=\"text-align: right;\">\n      <th></th>\n      <th>NO</th>\n      <th>Age 8 Years or Less</th>\n      <th>Age Over 8 Years</th>\n      <th>Flat</th>\n      <th>Metal</th>\n      <th>Other</th>\n      <th>Pitched</th>\n      <th>Rubber</th>\n      <th>Shakes</th>\n      <th>Slate</th>\n      <th>...</th>\n      <th>Metal</th>\n      <th>Other</th>\n      <th>Pitched</th>\n      <th>Rubber</th>\n      <th>Shakes</th>\n      <th>Slate</th>\n      <th>Tar/Gravel</th>\n      <th>Tile</th>\n      <th>Unspecified Shingle</th>\n      <th>Wood Shingles</th>\n    </tr>\n  </thead>\n  <tbody>\n    <tr>\n      <th>0</th>\n      <td>4519</td>\n      <td>NaN</td>\n      <td>NaN</td>\n      <td>NaN</td>\n      <td>NaN</td>\n      <td>NaN</td>\n      <td>NaN</td>\n      <td>NaN</td>\n      <td>NaN</td>\n      <td>NaN</td>\n      <td>...</td>\n      <td>NaN</td>\n      <td>NaN</td>\n      <td>NaN</td>\n      <td>NaN</td>\n      <td>NaN</td>\n      <td>NaN</td>\n      <td>NaN</td>\n      <td>NaN</td>\n      <td>NaN</td>\n      <td>NaN</td>\n    </tr>\n    <tr>\n      <th>1</th>\n      <td>1591</td>\n      <td>NaN</td>\n      <td>NaN</td>\n      <td>NaN</td>\n      <td>NaN</td>\n      <td>NaN</td>\n      <td>NaN</td>\n      <td>NaN</td>\n      <td>NaN</td>\n      <td>NaN</td>\n      <td>...</td>\n      <td>NaN</td>\n      <td>NaN</td>\n      <td>NaN</td>\n      <td>NaN</td>\n      <td>NaN</td>\n      <td>NaN</td>\n      <td>NaN</td>\n      <td>NaN</td>\n      <td>NaN</td>\n      <td>NaN</td>\n    </tr>\n    <tr>\n      <th>2</th>\n      <td>471</td>\n      <td>NaN</td>\n      <td>NaN</td>\n      <td>NaN</td>\n      <td>NaN</td>\n      <td>NaN</td>\n      <td>NaN</td>\n      <td>NaN</td>\n      <td>NaN</td>\n      <td>NaN</td>\n      <td>...</td>\n      <td>NaN</td>\n      <td>NaN</td>\n      <td>NaN</td>\n      <td>NaN</td>\n      <td>NaN</td>\n      <td>NaN</td>\n      <td>NaN</td>\n      <td>NaN</td>\n      <td>NaN</td>\n      <td>NaN</td>\n    </tr>\n    <tr>\n      <th>3</th>\n      <td>2659</td>\n      <td>NaN</td>\n      <td>1.0</td>\n      <td>NaN</td>\n      <td>NaN</td>\n      <td>NaN</td>\n      <td>NaN</td>\n      <td>NaN</td>\n      <td>NaN</td>\n      <td>NaN</td>\n      <td>...</td>\n      <td>NaN</td>\n      <td>NaN</td>\n      <td>NaN</td>\n      <td>NaN</td>\n      <td>NaN</td>\n      <td>NaN</td>\n      <td>NaN</td>\n      <td>NaN</td>\n      <td>NaN</td>\n      <td>NaN</td>\n    </tr>\n    <tr>\n      <th>4</th>\n      <td>4935</td>\n      <td>NaN</td>\n      <td>NaN</td>\n      <td>NaN</td>\n      <td>NaN</td>\n      <td>NaN</td>\n      <td>NaN</td>\n      <td>NaN</td>\n      <td>NaN</td>\n      <td>NaN</td>\n      <td>...</td>\n      <td>NaN</td>\n      <td>NaN</td>\n      <td>NaN</td>\n      <td>NaN</td>\n      <td>NaN</td>\n      <td>NaN</td>\n      <td>NaN</td>\n      <td>NaN</td>\n      <td>NaN</td>\n      <td>NaN</td>\n    </tr>\n    <tr>\n      <th>...</th>\n      <td>...</td>\n      <td>...</td>\n      <td>...</td>\n      <td>...</td>\n      <td>...</td>\n      <td>...</td>\n      <td>...</td>\n      <td>...</td>\n      <td>...</td>\n      <td>...</td>\n      <td>...</td>\n      <td>...</td>\n      <td>...</td>\n      <td>...</td>\n      <td>...</td>\n      <td>...</td>\n      <td>...</td>\n      <td>...</td>\n      <td>...</td>\n      <td>...</td>\n      <td>...</td>\n    </tr>\n    <tr>\n      <th>4230</th>\n      <td>4585</td>\n      <td>1.0</td>\n      <td>NaN</td>\n      <td>NaN</td>\n      <td>NaN</td>\n      <td>NaN</td>\n      <td>NaN</td>\n      <td>NaN</td>\n      <td>NaN</td>\n      <td>NaN</td>\n      <td>...</td>\n      <td>NaN</td>\n      <td>NaN</td>\n      <td>NaN</td>\n      <td>NaN</td>\n      <td>NaN</td>\n      <td>NaN</td>\n      <td>NaN</td>\n      <td>NaN</td>\n      <td>NaN</td>\n      <td>NaN</td>\n    </tr>\n    <tr>\n      <th>4231</th>\n      <td>1476</td>\n      <td>NaN</td>\n      <td>NaN</td>\n      <td>NaN</td>\n      <td>NaN</td>\n      <td>NaN</td>\n      <td>NaN</td>\n      <td>NaN</td>\n      <td>NaN</td>\n      <td>NaN</td>\n      <td>...</td>\n      <td>NaN</td>\n      <td>NaN</td>\n      <td>NaN</td>\n      <td>NaN</td>\n      <td>NaN</td>\n      <td>NaN</td>\n      <td>NaN</td>\n      <td>NaN</td>\n      <td>NaN</td>\n      <td>NaN</td>\n    </tr>\n    <tr>\n      <th>4232</th>\n      <td>3825</td>\n      <td>NaN</td>\n      <td>NaN</td>\n      <td>NaN</td>\n      <td>NaN</td>\n      <td>NaN</td>\n      <td>NaN</td>\n      <td>NaN</td>\n      <td>NaN</td>\n      <td>NaN</td>\n      <td>...</td>\n      <td>NaN</td>\n      <td>NaN</td>\n      <td>NaN</td>\n      <td>NaN</td>\n      <td>NaN</td>\n      <td>NaN</td>\n      <td>NaN</td>\n      <td>NaN</td>\n      <td>NaN</td>\n      <td>NaN</td>\n    </tr>\n    <tr>\n      <th>4233</th>\n      <td>3668</td>\n      <td>NaN</td>\n      <td>NaN</td>\n      <td>NaN</td>\n      <td>NaN</td>\n      <td>NaN</td>\n      <td>NaN</td>\n      <td>NaN</td>\n      <td>NaN</td>\n      <td>NaN</td>\n      <td>...</td>\n      <td>NaN</td>\n      <td>NaN</td>\n      <td>NaN</td>\n      <td>NaN</td>\n      <td>NaN</td>\n      <td>NaN</td>\n      <td>NaN</td>\n      <td>NaN</td>\n      <td>NaN</td>\n      <td>NaN</td>\n    </tr>\n    <tr>\n      <th>4234</th>\n      <td>4173</td>\n      <td>NaN</td>\n      <td>NaN</td>\n      <td>NaN</td>\n      <td>NaN</td>\n      <td>NaN</td>\n      <td>NaN</td>\n      <td>NaN</td>\n      <td>NaN</td>\n      <td>NaN</td>\n      <td>...</td>\n      <td>NaN</td>\n      <td>NaN</td>\n      <td>NaN</td>\n      <td>NaN</td>\n      <td>NaN</td>\n      <td>NaN</td>\n      <td>NaN</td>\n      <td>NaN</td>\n      <td>NaN</td>\n      <td>NaN</td>\n    </tr>\n  </tbody>\n</table>\n<p>4235 rows × 28 columns</p>\n</div>"
     },
     "metadata": {},
     "execution_count": 37
    }
   ],
   "source": [
    "roof_piv_df.toPandas()"
   ]
  },
  {
   "cell_type": "code",
   "execution_count": 39,
   "metadata": {},
   "outputs": [
    {
     "output_type": "execute_result",
     "data": {
      "text/plain": [
       "(4235, 28)"
      ]
     },
     "metadata": {},
     "execution_count": 39
    }
   ],
   "source": [
    "roof_piv_df.toPandas().shape"
   ]
  },
  {
   "cell_type": "code",
   "execution_count": 41,
   "metadata": {},
   "outputs": [
    {
     "output_type": "execute_result",
     "data": {
      "text/plain": [
       "        NO   Age 8 Years or Less   Age Over 8 Years   Flat   Metal   Other  \\\n",
       "0        2                   1.0                NaN    NaN     NaN     NaN   \n",
       "1        4                   1.0                NaN    NaN     NaN     NaN   \n",
       "2        5                   NaN                1.0    NaN     NaN     NaN   \n",
       "3        6                   1.0                NaN    NaN     NaN     NaN   \n",
       "4        7                   1.0                NaN    NaN     NaN     NaN   \n",
       "...    ...                   ...                ...    ...     ...     ...   \n",
       "4230  4994                   NaN                NaN    NaN     NaN     NaN   \n",
       "4231  4995                   1.0                NaN    NaN     NaN     NaN   \n",
       "4232  4997                   NaN                NaN    NaN     NaN     NaN   \n",
       "4233  4998                   1.0                NaN    NaN     NaN     NaN   \n",
       "4234  4999                   1.0                NaN    NaN     NaN     NaN   \n",
       "\n",
       "       Pitched   Rubber   Shakes   Slate  ...  Metal  Other  Pitched  Rubber  \\\n",
       "0          1.0      NaN      NaN     NaN  ...    NaN    NaN      NaN     NaN   \n",
       "1          1.0      NaN      NaN     NaN  ...    NaN    NaN      NaN     NaN   \n",
       "2          NaN      NaN      NaN     NaN  ...    NaN    NaN      NaN     NaN   \n",
       "3          NaN      NaN      NaN     NaN  ...    NaN    NaN      NaN     NaN   \n",
       "4          NaN      NaN      NaN     NaN  ...    NaN    NaN      NaN     NaN   \n",
       "...        ...      ...      ...     ...  ...    ...    ...      ...     ...   \n",
       "4230       NaN      NaN      NaN     NaN  ...    NaN    NaN      NaN     NaN   \n",
       "4231       NaN      NaN      NaN     NaN  ...    NaN    NaN      NaN     NaN   \n",
       "4232       NaN      NaN      NaN     NaN  ...    NaN    NaN      NaN     NaN   \n",
       "4233       1.0      NaN      NaN     NaN  ...    NaN    NaN      NaN     NaN   \n",
       "4234       NaN      NaN      NaN     NaN  ...    NaN    NaN      NaN     NaN   \n",
       "\n",
       "      Shakes  Slate  Tar/Gravel  Tile  Unspecified Shingle  Wood Shingles  \n",
       "0        NaN    NaN         NaN   NaN                  NaN            NaN  \n",
       "1        NaN    NaN         NaN   NaN                  NaN            NaN  \n",
       "2        NaN    NaN         NaN   NaN                  NaN            NaN  \n",
       "3        NaN    NaN         NaN   NaN                  NaN            NaN  \n",
       "4        NaN    NaN         NaN   NaN                  NaN            NaN  \n",
       "...      ...    ...         ...   ...                  ...            ...  \n",
       "4230     NaN    NaN         NaN   NaN                  NaN            NaN  \n",
       "4231     NaN    NaN         NaN   NaN                  NaN            NaN  \n",
       "4232     NaN    NaN         NaN   NaN                  NaN            NaN  \n",
       "4233     NaN    NaN         NaN   NaN                  NaN            NaN  \n",
       "4234     NaN    NaN         NaN   NaN                  NaN            NaN  \n",
       "\n",
       "[4235 rows x 28 columns]"
      ],
      "text/html": "<div>\n<style scoped>\n    .dataframe tbody tr th:only-of-type {\n        vertical-align: middle;\n    }\n\n    .dataframe tbody tr th {\n        vertical-align: top;\n    }\n\n    .dataframe thead th {\n        text-align: right;\n    }\n</style>\n<table border=\"1\" class=\"dataframe\">\n  <thead>\n    <tr style=\"text-align: right;\">\n      <th></th>\n      <th>NO</th>\n      <th>Age 8 Years or Less</th>\n      <th>Age Over 8 Years</th>\n      <th>Flat</th>\n      <th>Metal</th>\n      <th>Other</th>\n      <th>Pitched</th>\n      <th>Rubber</th>\n      <th>Shakes</th>\n      <th>Slate</th>\n      <th>...</th>\n      <th>Metal</th>\n      <th>Other</th>\n      <th>Pitched</th>\n      <th>Rubber</th>\n      <th>Shakes</th>\n      <th>Slate</th>\n      <th>Tar/Gravel</th>\n      <th>Tile</th>\n      <th>Unspecified Shingle</th>\n      <th>Wood Shingles</th>\n    </tr>\n  </thead>\n  <tbody>\n    <tr>\n      <th>0</th>\n      <td>2</td>\n      <td>1.0</td>\n      <td>NaN</td>\n      <td>NaN</td>\n      <td>NaN</td>\n      <td>NaN</td>\n      <td>1.0</td>\n      <td>NaN</td>\n      <td>NaN</td>\n      <td>NaN</td>\n      <td>...</td>\n      <td>NaN</td>\n      <td>NaN</td>\n      <td>NaN</td>\n      <td>NaN</td>\n      <td>NaN</td>\n      <td>NaN</td>\n      <td>NaN</td>\n      <td>NaN</td>\n      <td>NaN</td>\n      <td>NaN</td>\n    </tr>\n    <tr>\n      <th>1</th>\n      <td>4</td>\n      <td>1.0</td>\n      <td>NaN</td>\n      <td>NaN</td>\n      <td>NaN</td>\n      <td>NaN</td>\n      <td>1.0</td>\n      <td>NaN</td>\n      <td>NaN</td>\n      <td>NaN</td>\n      <td>...</td>\n      <td>NaN</td>\n      <td>NaN</td>\n      <td>NaN</td>\n      <td>NaN</td>\n      <td>NaN</td>\n      <td>NaN</td>\n      <td>NaN</td>\n      <td>NaN</td>\n      <td>NaN</td>\n      <td>NaN</td>\n    </tr>\n    <tr>\n      <th>2</th>\n      <td>5</td>\n      <td>NaN</td>\n      <td>1.0</td>\n      <td>NaN</td>\n      <td>NaN</td>\n      <td>NaN</td>\n      <td>NaN</td>\n      <td>NaN</td>\n      <td>NaN</td>\n      <td>NaN</td>\n      <td>...</td>\n      <td>NaN</td>\n      <td>NaN</td>\n      <td>NaN</td>\n      <td>NaN</td>\n      <td>NaN</td>\n      <td>NaN</td>\n      <td>NaN</td>\n      <td>NaN</td>\n      <td>NaN</td>\n      <td>NaN</td>\n    </tr>\n    <tr>\n      <th>3</th>\n      <td>6</td>\n      <td>1.0</td>\n      <td>NaN</td>\n      <td>NaN</td>\n      <td>NaN</td>\n      <td>NaN</td>\n      <td>NaN</td>\n      <td>NaN</td>\n      <td>NaN</td>\n      <td>NaN</td>\n      <td>...</td>\n      <td>NaN</td>\n      <td>NaN</td>\n      <td>NaN</td>\n      <td>NaN</td>\n      <td>NaN</td>\n      <td>NaN</td>\n      <td>NaN</td>\n      <td>NaN</td>\n      <td>NaN</td>\n      <td>NaN</td>\n    </tr>\n    <tr>\n      <th>4</th>\n      <td>7</td>\n      <td>1.0</td>\n      <td>NaN</td>\n      <td>NaN</td>\n      <td>NaN</td>\n      <td>NaN</td>\n      <td>NaN</td>\n      <td>NaN</td>\n      <td>NaN</td>\n      <td>NaN</td>\n      <td>...</td>\n      <td>NaN</td>\n      <td>NaN</td>\n      <td>NaN</td>\n      <td>NaN</td>\n      <td>NaN</td>\n      <td>NaN</td>\n      <td>NaN</td>\n      <td>NaN</td>\n      <td>NaN</td>\n      <td>NaN</td>\n    </tr>\n    <tr>\n      <th>...</th>\n      <td>...</td>\n      <td>...</td>\n      <td>...</td>\n      <td>...</td>\n      <td>...</td>\n      <td>...</td>\n      <td>...</td>\n      <td>...</td>\n      <td>...</td>\n      <td>...</td>\n      <td>...</td>\n      <td>...</td>\n      <td>...</td>\n      <td>...</td>\n      <td>...</td>\n      <td>...</td>\n      <td>...</td>\n      <td>...</td>\n      <td>...</td>\n      <td>...</td>\n      <td>...</td>\n    </tr>\n    <tr>\n      <th>4230</th>\n      <td>4994</td>\n      <td>NaN</td>\n      <td>NaN</td>\n      <td>NaN</td>\n      <td>NaN</td>\n      <td>NaN</td>\n      <td>NaN</td>\n      <td>NaN</td>\n      <td>NaN</td>\n      <td>NaN</td>\n      <td>...</td>\n      <td>NaN</td>\n      <td>NaN</td>\n      <td>NaN</td>\n      <td>NaN</td>\n      <td>NaN</td>\n      <td>NaN</td>\n      <td>NaN</td>\n      <td>NaN</td>\n      <td>NaN</td>\n      <td>NaN</td>\n    </tr>\n    <tr>\n      <th>4231</th>\n      <td>4995</td>\n      <td>1.0</td>\n      <td>NaN</td>\n      <td>NaN</td>\n      <td>NaN</td>\n      <td>NaN</td>\n      <td>NaN</td>\n      <td>NaN</td>\n      <td>NaN</td>\n      <td>NaN</td>\n      <td>...</td>\n      <td>NaN</td>\n      <td>NaN</td>\n      <td>NaN</td>\n      <td>NaN</td>\n      <td>NaN</td>\n      <td>NaN</td>\n      <td>NaN</td>\n      <td>NaN</td>\n      <td>NaN</td>\n      <td>NaN</td>\n    </tr>\n    <tr>\n      <th>4232</th>\n      <td>4997</td>\n      <td>NaN</td>\n      <td>NaN</td>\n      <td>NaN</td>\n      <td>NaN</td>\n      <td>NaN</td>\n      <td>NaN</td>\n      <td>NaN</td>\n      <td>NaN</td>\n      <td>NaN</td>\n      <td>...</td>\n      <td>NaN</td>\n      <td>NaN</td>\n      <td>NaN</td>\n      <td>NaN</td>\n      <td>NaN</td>\n      <td>NaN</td>\n      <td>NaN</td>\n      <td>NaN</td>\n      <td>NaN</td>\n      <td>NaN</td>\n    </tr>\n    <tr>\n      <th>4233</th>\n      <td>4998</td>\n      <td>1.0</td>\n      <td>NaN</td>\n      <td>NaN</td>\n      <td>NaN</td>\n      <td>NaN</td>\n      <td>1.0</td>\n      <td>NaN</td>\n      <td>NaN</td>\n      <td>NaN</td>\n      <td>...</td>\n      <td>NaN</td>\n      <td>NaN</td>\n      <td>NaN</td>\n      <td>NaN</td>\n      <td>NaN</td>\n      <td>NaN</td>\n      <td>NaN</td>\n      <td>NaN</td>\n      <td>NaN</td>\n      <td>NaN</td>\n    </tr>\n    <tr>\n      <th>4234</th>\n      <td>4999</td>\n      <td>1.0</td>\n      <td>NaN</td>\n      <td>NaN</td>\n      <td>NaN</td>\n      <td>NaN</td>\n      <td>NaN</td>\n      <td>NaN</td>\n      <td>NaN</td>\n      <td>NaN</td>\n      <td>...</td>\n      <td>NaN</td>\n      <td>NaN</td>\n      <td>NaN</td>\n      <td>NaN</td>\n      <td>NaN</td>\n      <td>NaN</td>\n      <td>NaN</td>\n      <td>NaN</td>\n      <td>NaN</td>\n      <td>NaN</td>\n    </tr>\n  </tbody>\n</table>\n<p>4235 rows × 28 columns</p>\n</div>"
     },
     "metadata": {},
     "execution_count": 41
    }
   ],
   "source": [
    "roof_piv_df.orderBy('No').toPandas()"
   ]
  },
  {
   "cell_type": "code",
   "execution_count": 42,
   "metadata": {},
   "outputs": [
    {
     "output_type": "stream",
     "name": "stdout",
     "text": [
      "+----+--------------------+-----------------+-----+------+------+--------+-------+-------+------+-----------+-----+--------------------+--------------+-------------------+----------------+----------------+----+-----+-----+-------+------+------+-----+----------+----+-------------------+-------------+\n|  NO| Age 8 Years or Less| Age Over 8 Years| Flat| Metal| Other| Pitched| Rubber| Shakes| Slate| Tar/Gravel| Tile| Unspecified Shingle| Wood Shingles|Age 8 Years or Less|Age Over 8 Years|Asphalt Shingles|Flat|Metal|Other|Pitched|Rubber|Shakes|Slate|Tar/Gravel|Tile|Unspecified Shingle|Wood Shingles|\n+----+--------------------+-----------------+-----+------+------+--------+-------+-------+------+-----------+-----+--------------------+--------------+-------------------+----------------+----------------+----+-----+-----+-------+------+------+-----+----------+----+-------------------+-------------+\n|4519|                null|             null| null|  null|  null|    null|   null|   null|  null|       null| null|                null|          null|               null|            null|               1|null| null| null|   null|  null|  null| null|      null|null|               null|         null|\n|1591|                null|             null| null|  null|  null|    null|   null|   null|  null|       null| null|                null|          null|               null|            null|               1|null| null| null|   null|  null|  null| null|      null|null|               null|         null|\n| 471|                null|             null| null|  null|  null|    null|   null|   null|  null|       null| null|                null|          null|               null|            null|               1|null| null| null|   null|  null|  null| null|      null|null|               null|         null|\n|2659|                null|                1| null|  null|  null|    null|   null|   null|  null|       null| null|                null|          null|               null|            null|               1|null| null| null|   null|  null|  null| null|      null|null|               null|         null|\n|4935|                null|             null| null|  null|  null|    null|   null|   null|  null|       null| null|                null|          null|               null|            null|               1|null| null| null|   null|  null|  null| null|      null|null|               null|         null|\n|3918|                   1|             null| null|  null|  null|    null|   null|   null|  null|       null| null|                null|          null|               null|            null|               1|null| null| null|   null|  null|  null| null|      null|null|               null|         null|\n| 148|                   1|             null| null|  null|  null|    null|   null|   null|  null|       null| null|                null|          null|               null|            null|               1|null| null| null|   null|  null|  null| null|      null|null|               null|         null|\n|2366|                null|             null| null|  null|  null|    null|   null|   null|  null|       null| null|                null|          null|               null|            null|               1|null| null| null|   null|  null|  null| null|      null|null|               null|         null|\n|4101|                null|                1| null|  null|  null|    null|   null|   null|  null|       null| null|                null|          null|               null|            null|               1|null| null| null|   null|  null|  null| null|      null|null|               null|         null|\n|2866|                null|             null| null|  null|  null|    null|   null|   null|  null|       null| null|                null|          null|               null|            null|               1|null| null| null|   null|  null|  null| null|      null|null|               null|         null|\n| 463|                null|                1| null|  null|  null|    null|   null|   null|  null|       null| null|                null|          null|               null|            null|               1|null| null| null|   null|  null|  null| null|      null|null|               null|         null|\n|2122|                null|             null| null|  null|  null|    null|   null|   null|  null|       null| null|                null|          null|               null|            null|               1|null| null| null|   null|  null|  null| null|      null|null|               null|         null|\n|2142|                null|             null| null|  null|  null|       1|   null|   null|  null|       null| null|                null|          null|               null|            null|               1|null| null| null|   null|  null|  null| null|      null|null|               null|         null|\n|1959|                null|             null| null|  null|  null|    null|   null|   null|  null|       null| null|                null|          null|               null|            null|               1|null| null| null|   null|  null|  null| null|      null|null|               null|         null|\n|3175|                   1|             null| null|  null|  null|    null|   null|   null|  null|       null| null|                null|          null|               null|            null|               1|null| null| null|   null|  null|  null| null|      null|null|               null|         null|\n|3749|                null|             null| null|  null|  null|       1|   null|   null|  null|       null| null|                null|          null|               null|            null|               1|null| null| null|   null|  null|  null| null|      null|null|               null|         null|\n|3997|                null|             null| null|  null|  null|    null|   null|   null|  null|       null| null|                null|          null|               null|            null|               1|null| null| null|   null|  null|  null| null|      null|null|               null|         null|\n| 496|                null|             null| null|  null|  null|    null|   null|   null|  null|       null| null|                null|          null|               null|            null|               1|null| null| null|   null|  null|  null| null|      null|null|               null|         null|\n|1238|                null|                1| null|  null|  null|    null|   null|   null|  null|       null| null|                null|          null|               null|            null|               1|null| null| null|   null|  null|  null| null|      null|null|               null|         null|\n|4900|                null|             null| null|  null|  null|    null|   null|   null|  null|       null| null|                null|          null|               null|               1|            null|null| null| null|   null|  null|  null| null|      null|null|               null|         null|\n+----+--------------------+-----------------+-----+------+------+--------+-------+-------+------+-----------+-----+--------------------+--------------+-------------------+----------------+----------------+----+-----+-----+-------+------+------+-----+----------+----+-------------------+-------------+\nonly showing top 20 rows\n\n"
     ]
    }
   ],
   "source": [
    "roof_piv_df.show()"
   ]
  },
  {
   "cell_type": "code",
   "execution_count": null,
   "metadata": {},
   "outputs": [],
   "source": []
  },
  {
   "cell_type": "code",
   "execution_count": 44,
   "metadata": {},
   "outputs": [],
   "source": [
    "joined_data = df.join(roof_piv_df, on='No', how='left')\n",
    "zfill_cols = roof_piv_df.columns\n",
    "zfill_df = joined_data.fillna(0, subset=zfill_cols)"
   ]
  },
  {
   "cell_type": "code",
   "execution_count": 46,
   "metadata": {},
   "outputs": [
    {
     "output_type": "stream",
     "name": "stdout",
     "text": [
      "+---+-----+-------------------+--------------------+----------+----------+---------------+----------------+---------------+--------------+---------+---------------+-----------------+------------+--------------+-----+---------+-----------------+--------------------+------------+---------------+----------+---------+--------------------+--------------------+----------+------------------+---------------+----+--------------------+---------------+-----+----------+---------+------------------+-------+----------+----------+---------+------------------+--------------------+-----+------------------+--------------------+----------------+--------------+---------+------------+----------+----------+---------+---------------------+--------------------+---------+---------+-----------+-----------------+-----+----------+--------------------+---------+----------+---------+----------+---------+----------+---------+----------+--------+---------------+-----------------+--------------+-----------------+-----------------+-----+------------------+-------------+---------+------------+----------------+---------+----------+---------------+---------------+-------------------+----------------+--------------------+--------------------+-----------------+-----+------+------+--------+-------+-------+------+-----------+-----+--------------------+--------------+-------------------+----------------+----------------+----+-----+-----+-------+------+------+-----+----------+----+-------------------+-------------+\n| No|MLSID|StreetNumberNumeric|       streetaddress|STREETNAME|PostalCode|StateOrProvince|            City|SalesClosePrice|      LISTDATE|LISTPRICE|       LISTTYPE|OriginalListPrice|PricePerTSFT|FOUNDATIONSIZE|FENCE|MapLetter|LotSizeDimensions|SchoolDistrictNumber|DAYSONMARKET|  offmarketdate|Fireplaces|RoomArea4|            roomtype|                ROOF|RoomFloor4|PotentialShortSale|PoolDescription|PDOM|   GarageDescription|SQFTABOVEGROUND|Taxes|RoomFloor1|RoomArea1|TAXWITHASSESSMENTS|TAXYEAR|LivingArea|UNITNUMBER|YEARBUILT|            ZONING|               STYLE|ACRES|CoolingDescription|          APPLIANCES|backonmarketdate|ROOMFAMILYCHAR|RoomArea3|    EXTERIOR|RoomFloor3|RoomFloor2|RoomArea2|DiningRoomDescription|            BASEMENT|BathsFull|BathsHalf|BATHQUARTER|BATHSTHREEQUARTER|Class|BATHSTOTAL|            BATHDESC|RoomArea5|RoomFloor5|RoomArea6|RoomFloor6|RoomArea7|RoomFloor7|RoomArea8|RoomFloor8|Bedrooms|SQFTBELOWGROUND|AssumableMortgage|AssociationFee|ASSESSMENTPENDING|AssessedValuation|TSQFT|     PRICEPERTSQFT|LOT_SIZE_SQFT|YARD_SIZE|LISTDATE_new|List_Day_of_Week|LIST_YEAR|LIST_MONTH|LIST_DAYOFMONTH|LIST_WEEKOFYEAR|has_attached_garage|   Roof_Material|           roof_list| Age 8 Years or Less| Age Over 8 Years| Flat| Metal| Other| Pitched| Rubber| Shakes| Slate| Tar/Gravel| Tile| Unspecified Shingle| Wood Shingles|Age 8 Years or Less|Age Over 8 Years|Asphalt Shingles|Flat|Metal|Other|Pitched|Rubber|Shakes|Slate|Tar/Gravel|Tile|Unspecified Shingle|Wood Shingles|\n+---+-----+-------------------+--------------------+----------+----------+---------------+----------------+---------------+--------------+---------+---------------+-----------------+------------+--------------+-----+---------+-----------------+--------------------+------------+---------------+----------+---------+--------------------+--------------------+----------+------------------+---------------+----+--------------------+---------------+-----+----------+---------+------------------+-------+----------+----------+---------+------------------+--------------------+-----+------------------+--------------------+----------------+--------------+---------+------------+----------+----------+---------+---------------------+--------------------+---------+---------+-----------+-----------------+-----+----------+--------------------+---------+----------+---------+----------+---------+----------+---------+----------+--------+---------------+-----------------+--------------+-----------------+-----------------+-----+------------------+-------------+---------+------------+----------------+---------+----------+---------------+---------------+-------------------+----------------+--------------------+--------------------+-----------------+-----+------+------+--------+-------+-------+------+-----------+-----+--------------------+--------------+-------------------+----------------+----------------+----+-----+-----+-------+------+------+-----+----------+----+-------------------+-------------+\n|  1| RMLS|              11511|11511 Stillwater ...|Stillwater|     55042|             MN|LELM - Lake Elmo|         143000|7/15/2017 0:00|   139900|Exclusive Right|           139900|    145.9184|           980|Other|       C4|          279X200|    834 - Stillwater|        null| 7/30/2017 0:00|         0|  12 x  9|Living Room, Dini...|                null|      Main|                No|           null|  10|     Attached Garage|            980| 1858|      Main|  16 x 13|            1858.0|   2017|       980|      null|     1950|Residential-Single|      (SF) One Story| 1.28|           Central|Range, Dishwasher...|            null|          null|     null|       Vinyl|      null|      Main|   9 x  7|       Eat In Kitchen|                Full|        1|        1|          0|                0|   SF|         2|Main Floor 3/4 Ba...|  13 x 11|      Main|  10 x 10|      Main|     null|      null|     null|      null|       3|              0|             null|             0|          Unknown|              0.0|  980|142.75510204081633|      55756.8|  54776.8|  2017-07-15|               7|     2017|         7|             15|             28|                  1|            null|                null|                   0|                0|    0|     0|     0|       0|      0|      0|     0|          0|    0|                   0|             0|                  0|               0|               0|   0|    0|    0|      0|     0|     0|    0|         0|   0|                  0|            0|\n|  2| RMLS|              11200|     11200 31st St N|      31st|     55042|             MN|LELM - Lake Elmo|         190000|10/9/2017 0:00|   210000|Exclusive Right|           210000|     85.2783|          1144| null|       C1|          100x140|    834 - Stillwater|        null|10/13/2017 0:00|         0|    11x11|Living Room, Dini...|Asphalt Shingles,...|      Main|                No|           null|   4|Attached Garage, ...|           1268| 1640|      Main|    22x14|            1640.0|   2017|      2228|      null|     1971|Residential-Single|(SF) Split Entry ...| 0.32|           Central|Range, Microwave,...|            null|   Lower Level|    22x14|       Vinyl|     Lower|      Main|    11x12| Informal Dining R...|Full, Partial Fin...|        1|        0|          0|                2|   SF|         3|Main Floor Full B...|    15x11|      Main|    14x11|      Main|    10x11|      Main|    11x11|     Lower|       4|            960|             null|             0|          Unknown|              0.0| 2228| 94.25493716337522|      13939.2|  12795.2|  2017-10-09|               2|     2017|        10|              9|             41|                  1|Asphalt Shingles|[Asphalt Shingles...|                   1|                0|    0|     0|     0|       1|      0|      0|     0|          0|    0|                   0|             0|                  0|               0|               1|   0|    0|    0|      0|     0|     0|    0|         0|   0|                  0|            0|\n|  3| RMLS|               8583|8583 Stillwater B...|Stillwater|     55042|             MN|LELM - Lake Elmo|         225000|6/26/2017 0:00|   225000|Exclusive Right|           225000|    204.1742|          1102| None|       E1|          120x296|622 - North St Pa...|        null| 7/24/2017 0:00|         0|    14x12|Living Room, Dini...|                null|      Main|                No|           None|  28|     Attached Garage|           1102| 2390|      Main|    20x13|            2390.0|   2016|      1102|      null|     1949|Residential-Single|      (SF) One Story|0.822|            Window|Range, Microwave,...|            null|          null|     null|Cement Board|      null|      Main|    18x11| Informal Dining Room|Full, Crawl Space...|        1|        0|          0|                0|   SF|         1|Main Floor Full Bath|    12x12|      Main|    12x12|      Main|     null|      null|     null|      null|       2|              0|    Not Assumable|             0|               No|              0.0| 1102| 204.1742286751361|     35806.32| 34704.32|  2017-06-26|               2|     2017|         6|             26|             26|                  1|            null|                null|                   0|                0|    0|     0|     0|       0|      0|      0|     0|          0|    0|                   0|             0|                  0|               0|               0|   0|    0|    0|      0|     0|     0|    0|         0|   0|                  0|            0|\n+---+-----+-------------------+--------------------+----------+----------+---------------+----------------+---------------+--------------+---------+---------------+-----------------+------------+--------------+-----+---------+-----------------+--------------------+------------+---------------+----------+---------+--------------------+--------------------+----------+------------------+---------------+----+--------------------+---------------+-----+----------+---------+------------------+-------+----------+----------+---------+------------------+--------------------+-----+------------------+--------------------+----------------+--------------+---------+------------+----------+----------+---------+---------------------+--------------------+---------+---------+-----------+-----------------+-----+----------+--------------------+---------+----------+---------+----------+---------+----------+---------+----------+--------+---------------+-----------------+--------------+-----------------+-----------------+-----+------------------+-------------+---------+------------+----------------+---------+----------+---------------+---------------+-------------------+----------------+--------------------+--------------------+-----------------+-----+------+------+--------+-------+-------+------+-----------+-----+--------------------+--------------+-------------------+----------------+----------------+----+-----+-----+-------+------+------+-----+----------+----+-------------------+-------------+\nonly showing top 3 rows\n\n"
     ]
    }
   ],
   "source": [
    "zfill_df.show(3)"
   ]
  },
  {
   "cell_type": "code",
   "execution_count": null,
   "metadata": {},
   "outputs": [],
   "source": [
    "\n",
    "\n"
   ]
  }
 ]
}