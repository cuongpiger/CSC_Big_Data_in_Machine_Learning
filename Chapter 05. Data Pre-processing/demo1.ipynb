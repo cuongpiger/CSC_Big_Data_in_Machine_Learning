{
 "metadata": {
  "language_info": {
   "codemirror_mode": {
    "name": "ipython",
    "version": 3
   },
   "file_extension": ".py",
   "mimetype": "text/x-python",
   "name": "python",
   "nbconvert_exporter": "python",
   "pygments_lexer": "ipython3",
   "version": "3.8.5-final"
  },
  "orig_nbformat": 2,
  "kernelspec": {
   "name": "python38564bit207240a302f84cf383d7b6dbf8fca3f2",
   "display_name": "Python 3.8.5 64-bit"
  },
  "metadata": {
   "interpreter": {
    "hash": "31f2aee4e71d21fbe5cf8b01ff0e069b9275f58929596ceb00d14d90e3e16cd6"
   }
  }
 },
 "nbformat": 4,
 "nbformat_minor": 2,
 "cells": [
  {
   "cell_type": "code",
   "execution_count": 1,
   "metadata": {},
   "outputs": [],
   "source": [
    "%load_ext autoreload\n",
    "%autoreload 2"
   ]
  },
  {
   "cell_type": "code",
   "execution_count": 2,
   "metadata": {},
   "outputs": [],
   "source": [
    "from pyspark import SparkContext\n",
    "from pyspark.conf import SparkConf\n",
    "from pyspark.sql import SparkSession\n",
    "import matplotlib.pyplot as plt\n",
    "import seaborn as sns\n",
    "from pyspark.sql.functions import mean, stddev, col, log\n",
    "from pyspark.sql.functions import to_date, dayofweek, to_timestamp\n",
    "from pyspark.sql import types \n",
    "from pyspark.sql.functions import col, udf\n",
    "from datetime import datetime\n",
    "from pyspark.sql.types import DateType\n",
    "from pyspark.sql.functions import year, month\n",
    "from pyspark.sql.functions import dayofmonth, weekofyear\n",
    "from pyspark.sql.functions import split, explode\n",
    "from pyspark.sql.functions import coalesce, first, lit\n",
    "from pyspark.ml.feature import Binarizer\n",
    "from pyspark.ml.feature import Bucketizer\n",
    "from pyspark.ml.feature import OneHotEncoder, StringIndexer\n",
    "from pyspark.sql.functions import regexp_extract, col"
   ]
  },
  {
   "cell_type": "code",
   "execution_count": 3,
   "metadata": {},
   "outputs": [],
   "source": [
    "from modules.pyspark import CPySpark\n",
    "from pyspark.sql import Row, SQLContext"
   ]
  },
  {
   "cell_type": "code",
   "execution_count": 4,
   "metadata": {},
   "outputs": [],
   "source": [
    "spark = CPySpark(session=True, sql=True)"
   ]
  },
  {
   "cell_type": "code",
   "execution_count": 5,
   "metadata": {},
   "outputs": [],
   "source": [
    "spark = spark.session"
   ]
  },
  {
   "cell_type": "code",
   "execution_count": 6,
   "metadata": {},
   "outputs": [],
   "source": [
    "df = spark.read.csv(\"./data/2017_StPaul_MN_Real_Estate.csv\", header=True, inferSchema=True)"
   ]
  },
  {
   "cell_type": "code",
   "execution_count": 8,
   "metadata": {
    "tags": []
   },
   "outputs": [
    {
     "output_type": "execute_result",
     "data": {
      "text/plain": [
       "        No MLSID  StreetNumberNumeric            streetaddress   STREETNAME  \\\n",
       "0        1  RMLS                11511  11511 Stillwater Blvd N   Stillwater   \n",
       "1        2  RMLS                11200          11200 31st St N         31st   \n",
       "2        3  RMLS                 8583   8583 Stillwater Blvd N   Stillwater   \n",
       "3        4  RMLS                 9350           9350 31st St N         31st   \n",
       "4        5  RMLS                 2915        2915 Inwood Ave N       Inwood   \n",
       "...    ...   ...                  ...                      ...          ...   \n",
       "4995  4996  RMLS                 4933        4933 Sunflower Dr    Sunflower   \n",
       "4996  4997  RMLS                10746      10746 Watersedge Ln   Watersedge   \n",
       "4997  4998  RMLS                10721      10721 Watersedge Ln   Watersedge   \n",
       "4998  4999  RMLS                 4981        4981 Sunflower Pl    Sunflower   \n",
       "4999  5000  RMLS                 7608         7608 Glen Alcove  Glen Alcove   \n",
       "\n",
       "      PostalCode StateOrProvince              City  SalesClosePrice  \\\n",
       "0          55042              MN  LELM - Lake Elmo           143000   \n",
       "1          55042              MN  LELM - Lake Elmo           190000   \n",
       "2          55042              MN  LELM - Lake Elmo           225000   \n",
       "3          55042              MN  LELM - Lake Elmo           265000   \n",
       "4          55042              MN  LELM - Lake Elmo           249900   \n",
       "...          ...             ...               ...              ...   \n",
       "4995       55129              MN     WB - Woodbury           799000   \n",
       "4996       55129              MN     WB - Woodbury           805000   \n",
       "4997       55129              MN     WB - Woodbury           865000   \n",
       "4998       55129              MN     WB - Woodbury          1050216   \n",
       "4999       55129              MN     WB - Woodbury          1077200   \n",
       "\n",
       "            LISTDATE  ...  RoomArea7 RoomFloor7  RoomArea8  RoomFloor8  \\\n",
       "0     7/15/2017 0:00  ...       None       None       None        None   \n",
       "1     10/9/2017 0:00  ...      10x11       Main      11x11       Lower   \n",
       "2     6/26/2017 0:00  ...       None       None       None        None   \n",
       "3     8/25/2017 0:00  ...       None       None       None        None   \n",
       "4     9/12/2017 0:00  ...      14x13      Lower       None        None   \n",
       "...              ...  ...        ...        ...        ...         ...   \n",
       "4995   8/1/2017 0:00  ...      12x14      Lower       None        None   \n",
       "4996   8/1/2017 0:00  ...      14x14      Lower      13x11       Lower   \n",
       "4997  3/27/2017 0:00  ...      13x12      Upper      15x13       Upper   \n",
       "4998  5/24/2017 0:00  ...    13.6x11      Upper      12x11       Upper   \n",
       "4999  4/11/2017 0:00  ...      12x11      Upper      14x12       Upper   \n",
       "\n",
       "      Bedrooms SQFTBELOWGROUND AssumableMortgage AssociationFee  \\\n",
       "0            3               0              None              0   \n",
       "1            4             960              None              0   \n",
       "2            2               0     Not Assumable              0   \n",
       "3            2             348              None              0   \n",
       "4            3            1026              None              0   \n",
       "...        ...             ...               ...            ...   \n",
       "4995         3            1686              None            102   \n",
       "4996         5            2220              None             80   \n",
       "4997         4            1861              None             86   \n",
       "4998         4               0              None            105   \n",
       "4999         4               0              None            900   \n",
       "\n",
       "     ASSESSMENTPENDING  AssessedValuation  \n",
       "0              Unknown                0.0  \n",
       "1              Unknown                0.0  \n",
       "2                   No                0.0  \n",
       "3              Unknown                0.0  \n",
       "4                   No                0.0  \n",
       "...                ...                ...  \n",
       "4995                No               86.0  \n",
       "4996                No                0.0  \n",
       "4997                No                0.0  \n",
       "4998           Unknown                0.0  \n",
       "4999               Yes             2578.0  \n",
       "\n",
       "[5000 rows x 74 columns]"
      ],
      "text/html": "<div>\n<style scoped>\n    .dataframe tbody tr th:only-of-type {\n        vertical-align: middle;\n    }\n\n    .dataframe tbody tr th {\n        vertical-align: top;\n    }\n\n    .dataframe thead th {\n        text-align: right;\n    }\n</style>\n<table border=\"1\" class=\"dataframe\">\n  <thead>\n    <tr style=\"text-align: right;\">\n      <th></th>\n      <th>No</th>\n      <th>MLSID</th>\n      <th>StreetNumberNumeric</th>\n      <th>streetaddress</th>\n      <th>STREETNAME</th>\n      <th>PostalCode</th>\n      <th>StateOrProvince</th>\n      <th>City</th>\n      <th>SalesClosePrice</th>\n      <th>LISTDATE</th>\n      <th>...</th>\n      <th>RoomArea7</th>\n      <th>RoomFloor7</th>\n      <th>RoomArea8</th>\n      <th>RoomFloor8</th>\n      <th>Bedrooms</th>\n      <th>SQFTBELOWGROUND</th>\n      <th>AssumableMortgage</th>\n      <th>AssociationFee</th>\n      <th>ASSESSMENTPENDING</th>\n      <th>AssessedValuation</th>\n    </tr>\n  </thead>\n  <tbody>\n    <tr>\n      <th>0</th>\n      <td>1</td>\n      <td>RMLS</td>\n      <td>11511</td>\n      <td>11511 Stillwater Blvd N</td>\n      <td>Stillwater</td>\n      <td>55042</td>\n      <td>MN</td>\n      <td>LELM - Lake Elmo</td>\n      <td>143000</td>\n      <td>7/15/2017 0:00</td>\n      <td>...</td>\n      <td>None</td>\n      <td>None</td>\n      <td>None</td>\n      <td>None</td>\n      <td>3</td>\n      <td>0</td>\n      <td>None</td>\n      <td>0</td>\n      <td>Unknown</td>\n      <td>0.0</td>\n    </tr>\n    <tr>\n      <th>1</th>\n      <td>2</td>\n      <td>RMLS</td>\n      <td>11200</td>\n      <td>11200 31st St N</td>\n      <td>31st</td>\n      <td>55042</td>\n      <td>MN</td>\n      <td>LELM - Lake Elmo</td>\n      <td>190000</td>\n      <td>10/9/2017 0:00</td>\n      <td>...</td>\n      <td>10x11</td>\n      <td>Main</td>\n      <td>11x11</td>\n      <td>Lower</td>\n      <td>4</td>\n      <td>960</td>\n      <td>None</td>\n      <td>0</td>\n      <td>Unknown</td>\n      <td>0.0</td>\n    </tr>\n    <tr>\n      <th>2</th>\n      <td>3</td>\n      <td>RMLS</td>\n      <td>8583</td>\n      <td>8583 Stillwater Blvd N</td>\n      <td>Stillwater</td>\n      <td>55042</td>\n      <td>MN</td>\n      <td>LELM - Lake Elmo</td>\n      <td>225000</td>\n      <td>6/26/2017 0:00</td>\n      <td>...</td>\n      <td>None</td>\n      <td>None</td>\n      <td>None</td>\n      <td>None</td>\n      <td>2</td>\n      <td>0</td>\n      <td>Not Assumable</td>\n      <td>0</td>\n      <td>No</td>\n      <td>0.0</td>\n    </tr>\n    <tr>\n      <th>3</th>\n      <td>4</td>\n      <td>RMLS</td>\n      <td>9350</td>\n      <td>9350 31st St N</td>\n      <td>31st</td>\n      <td>55042</td>\n      <td>MN</td>\n      <td>LELM - Lake Elmo</td>\n      <td>265000</td>\n      <td>8/25/2017 0:00</td>\n      <td>...</td>\n      <td>None</td>\n      <td>None</td>\n      <td>None</td>\n      <td>None</td>\n      <td>2</td>\n      <td>348</td>\n      <td>None</td>\n      <td>0</td>\n      <td>Unknown</td>\n      <td>0.0</td>\n    </tr>\n    <tr>\n      <th>4</th>\n      <td>5</td>\n      <td>RMLS</td>\n      <td>2915</td>\n      <td>2915 Inwood Ave N</td>\n      <td>Inwood</td>\n      <td>55042</td>\n      <td>MN</td>\n      <td>LELM - Lake Elmo</td>\n      <td>249900</td>\n      <td>9/12/2017 0:00</td>\n      <td>...</td>\n      <td>14x13</td>\n      <td>Lower</td>\n      <td>None</td>\n      <td>None</td>\n      <td>3</td>\n      <td>1026</td>\n      <td>None</td>\n      <td>0</td>\n      <td>No</td>\n      <td>0.0</td>\n    </tr>\n    <tr>\n      <th>...</th>\n      <td>...</td>\n      <td>...</td>\n      <td>...</td>\n      <td>...</td>\n      <td>...</td>\n      <td>...</td>\n      <td>...</td>\n      <td>...</td>\n      <td>...</td>\n      <td>...</td>\n      <td>...</td>\n      <td>...</td>\n      <td>...</td>\n      <td>...</td>\n      <td>...</td>\n      <td>...</td>\n      <td>...</td>\n      <td>...</td>\n      <td>...</td>\n      <td>...</td>\n      <td>...</td>\n    </tr>\n    <tr>\n      <th>4995</th>\n      <td>4996</td>\n      <td>RMLS</td>\n      <td>4933</td>\n      <td>4933 Sunflower Dr</td>\n      <td>Sunflower</td>\n      <td>55129</td>\n      <td>MN</td>\n      <td>WB - Woodbury</td>\n      <td>799000</td>\n      <td>8/1/2017 0:00</td>\n      <td>...</td>\n      <td>12x14</td>\n      <td>Lower</td>\n      <td>None</td>\n      <td>None</td>\n      <td>3</td>\n      <td>1686</td>\n      <td>None</td>\n      <td>102</td>\n      <td>No</td>\n      <td>86.0</td>\n    </tr>\n    <tr>\n      <th>4996</th>\n      <td>4997</td>\n      <td>RMLS</td>\n      <td>10746</td>\n      <td>10746 Watersedge Ln</td>\n      <td>Watersedge</td>\n      <td>55129</td>\n      <td>MN</td>\n      <td>WB - Woodbury</td>\n      <td>805000</td>\n      <td>8/1/2017 0:00</td>\n      <td>...</td>\n      <td>14x14</td>\n      <td>Lower</td>\n      <td>13x11</td>\n      <td>Lower</td>\n      <td>5</td>\n      <td>2220</td>\n      <td>None</td>\n      <td>80</td>\n      <td>No</td>\n      <td>0.0</td>\n    </tr>\n    <tr>\n      <th>4997</th>\n      <td>4998</td>\n      <td>RMLS</td>\n      <td>10721</td>\n      <td>10721 Watersedge Ln</td>\n      <td>Watersedge</td>\n      <td>55129</td>\n      <td>MN</td>\n      <td>WB - Woodbury</td>\n      <td>865000</td>\n      <td>3/27/2017 0:00</td>\n      <td>...</td>\n      <td>13x12</td>\n      <td>Upper</td>\n      <td>15x13</td>\n      <td>Upper</td>\n      <td>4</td>\n      <td>1861</td>\n      <td>None</td>\n      <td>86</td>\n      <td>No</td>\n      <td>0.0</td>\n    </tr>\n    <tr>\n      <th>4998</th>\n      <td>4999</td>\n      <td>RMLS</td>\n      <td>4981</td>\n      <td>4981 Sunflower Pl</td>\n      <td>Sunflower</td>\n      <td>55129</td>\n      <td>MN</td>\n      <td>WB - Woodbury</td>\n      <td>1050216</td>\n      <td>5/24/2017 0:00</td>\n      <td>...</td>\n      <td>13.6x11</td>\n      <td>Upper</td>\n      <td>12x11</td>\n      <td>Upper</td>\n      <td>4</td>\n      <td>0</td>\n      <td>None</td>\n      <td>105</td>\n      <td>Unknown</td>\n      <td>0.0</td>\n    </tr>\n    <tr>\n      <th>4999</th>\n      <td>5000</td>\n      <td>RMLS</td>\n      <td>7608</td>\n      <td>7608 Glen Alcove</td>\n      <td>Glen Alcove</td>\n      <td>55129</td>\n      <td>MN</td>\n      <td>WB - Woodbury</td>\n      <td>1077200</td>\n      <td>4/11/2017 0:00</td>\n      <td>...</td>\n      <td>12x11</td>\n      <td>Upper</td>\n      <td>14x12</td>\n      <td>Upper</td>\n      <td>4</td>\n      <td>0</td>\n      <td>None</td>\n      <td>900</td>\n      <td>Yes</td>\n      <td>2578.0</td>\n    </tr>\n  </tbody>\n</table>\n<p>5000 rows × 74 columns</p>\n</div>"
     },
     "metadata": {},
     "execution_count": 8
    }
   ],
   "source": [
    "df.toPandas()"
   ]
  },
  {
   "cell_type": "code",
   "execution_count": null,
   "metadata": {},
   "outputs": [],
   "source": []
  },
  {
   "cell_type": "code",
   "execution_count": null,
   "metadata": {},
   "outputs": [],
   "source": []
  }
 ]
}