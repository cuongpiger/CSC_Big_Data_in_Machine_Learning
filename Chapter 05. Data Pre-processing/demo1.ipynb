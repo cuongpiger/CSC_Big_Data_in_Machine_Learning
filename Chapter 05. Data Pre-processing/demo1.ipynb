{
 "metadata": {
  "language_info": {
   "codemirror_mode": {
    "name": "ipython",
    "version": 3
   },
   "file_extension": ".py",
   "mimetype": "text/x-python",
   "name": "python",
   "nbconvert_exporter": "python",
   "pygments_lexer": "ipython3",
   "version": "3.8.5-final"
  },
  "orig_nbformat": 2,
  "kernelspec": {
   "name": "python38564bit207240a302f84cf383d7b6dbf8fca3f2",
   "display_name": "Python 3.8.5 64-bit"
  },
  "metadata": {
   "interpreter": {
    "hash": "31f2aee4e71d21fbe5cf8b01ff0e069b9275f58929596ceb00d14d90e3e16cd6"
   }
  }
 },
 "nbformat": 4,
 "nbformat_minor": 2,
 "cells": [
  {
   "cell_type": "code",
   "execution_count": 1,
   "metadata": {},
   "outputs": [],
   "source": [
    "%load_ext autoreload\n",
    "%autoreload 2"
   ]
  },
  {
   "cell_type": "code",
   "execution_count": 2,
   "metadata": {},
   "outputs": [],
   "source": [
    "from pyspark import SparkContext\n",
    "from pyspark.conf import SparkConf\n",
    "from pyspark.sql import SparkSession\n",
    "import matplotlib.pyplot as plt\n",
    "import seaborn as sns\n",
    "from pyspark.sql.functions import mean, stddev, col, log\n",
    "from pyspark.sql.functions import to_date, dayofweek, to_timestamp, datediff\n",
    "from pyspark.sql import types \n",
    "from pyspark.sql.functions import col, udf\n",
    "from datetime import datetime\n",
    "from pyspark.sql.types import DateType\n",
    "from pyspark.sql.functions import year, month\n",
    "from pyspark.sql.functions import dayofmonth, weekofyear\n",
    "from pyspark.sql.functions import split, explode\n",
    "from pyspark.sql.functions import coalesce, first, lit\n",
    "from pyspark.ml.feature import Binarizer\n",
    "from pyspark.ml.feature import Bucketizer\n",
    "from pyspark.ml.feature import OneHotEncoder, StringIndexer\n",
    "from pyspark.sql.functions import regexp_extract, col"
   ]
  },
  {
   "cell_type": "code",
   "execution_count": 3,
   "metadata": {},
   "outputs": [],
   "source": [
    "from modules.pyspark import CPySpark\n",
    "from pyspark.sql import Row, SQLContext"
   ]
  },
  {
   "cell_type": "code",
   "execution_count": 4,
   "metadata": {},
   "outputs": [],
   "source": [
    "spark = CPySpark(session=True, sql=True)"
   ]
  },
  {
   "cell_type": "code",
   "execution_count": 5,
   "metadata": {},
   "outputs": [],
   "source": [
    "spark = spark.session"
   ]
  },
  {
   "cell_type": "code",
   "execution_count": 6,
   "metadata": {},
   "outputs": [],
   "source": [
    "df = spark.read.csv(\"./data/2017_StPaul_MN_Real_Estate.csv\", header=True, inferSchema=True)"
   ]
  },
  {
   "cell_type": "code",
   "execution_count": 7,
   "metadata": {
    "tags": []
   },
   "outputs": [
    {
     "output_type": "execute_result",
     "data": {
      "text/plain": [
       "        No MLSID  StreetNumberNumeric            streetaddress   STREETNAME  \\\n",
       "0        1  RMLS                11511  11511 Stillwater Blvd N   Stillwater   \n",
       "1        2  RMLS                11200          11200 31st St N         31st   \n",
       "2        3  RMLS                 8583   8583 Stillwater Blvd N   Stillwater   \n",
       "3        4  RMLS                 9350           9350 31st St N         31st   \n",
       "4        5  RMLS                 2915        2915 Inwood Ave N       Inwood   \n",
       "...    ...   ...                  ...                      ...          ...   \n",
       "4995  4996  RMLS                 4933        4933 Sunflower Dr    Sunflower   \n",
       "4996  4997  RMLS                10746      10746 Watersedge Ln   Watersedge   \n",
       "4997  4998  RMLS                10721      10721 Watersedge Ln   Watersedge   \n",
       "4998  4999  RMLS                 4981        4981 Sunflower Pl    Sunflower   \n",
       "4999  5000  RMLS                 7608         7608 Glen Alcove  Glen Alcove   \n",
       "\n",
       "      PostalCode StateOrProvince              City  SalesClosePrice  \\\n",
       "0          55042              MN  LELM - Lake Elmo           143000   \n",
       "1          55042              MN  LELM - Lake Elmo           190000   \n",
       "2          55042              MN  LELM - Lake Elmo           225000   \n",
       "3          55042              MN  LELM - Lake Elmo           265000   \n",
       "4          55042              MN  LELM - Lake Elmo           249900   \n",
       "...          ...             ...               ...              ...   \n",
       "4995       55129              MN     WB - Woodbury           799000   \n",
       "4996       55129              MN     WB - Woodbury           805000   \n",
       "4997       55129              MN     WB - Woodbury           865000   \n",
       "4998       55129              MN     WB - Woodbury          1050216   \n",
       "4999       55129              MN     WB - Woodbury          1077200   \n",
       "\n",
       "            LISTDATE  ...  RoomArea7 RoomFloor7  RoomArea8  RoomFloor8  \\\n",
       "0     7/15/2017 0:00  ...       None       None       None        None   \n",
       "1     10/9/2017 0:00  ...      10x11       Main      11x11       Lower   \n",
       "2     6/26/2017 0:00  ...       None       None       None        None   \n",
       "3     8/25/2017 0:00  ...       None       None       None        None   \n",
       "4     9/12/2017 0:00  ...      14x13      Lower       None        None   \n",
       "...              ...  ...        ...        ...        ...         ...   \n",
       "4995   8/1/2017 0:00  ...      12x14      Lower       None        None   \n",
       "4996   8/1/2017 0:00  ...      14x14      Lower      13x11       Lower   \n",
       "4997  3/27/2017 0:00  ...      13x12      Upper      15x13       Upper   \n",
       "4998  5/24/2017 0:00  ...    13.6x11      Upper      12x11       Upper   \n",
       "4999  4/11/2017 0:00  ...      12x11      Upper      14x12       Upper   \n",
       "\n",
       "      Bedrooms SQFTBELOWGROUND AssumableMortgage AssociationFee  \\\n",
       "0            3               0              None              0   \n",
       "1            4             960              None              0   \n",
       "2            2               0     Not Assumable              0   \n",
       "3            2             348              None              0   \n",
       "4            3            1026              None              0   \n",
       "...        ...             ...               ...            ...   \n",
       "4995         3            1686              None            102   \n",
       "4996         5            2220              None             80   \n",
       "4997         4            1861              None             86   \n",
       "4998         4               0              None            105   \n",
       "4999         4               0              None            900   \n",
       "\n",
       "     ASSESSMENTPENDING  AssessedValuation  \n",
       "0              Unknown                0.0  \n",
       "1              Unknown                0.0  \n",
       "2                   No                0.0  \n",
       "3              Unknown                0.0  \n",
       "4                   No                0.0  \n",
       "...                ...                ...  \n",
       "4995                No               86.0  \n",
       "4996                No                0.0  \n",
       "4997                No                0.0  \n",
       "4998           Unknown                0.0  \n",
       "4999               Yes             2578.0  \n",
       "\n",
       "[5000 rows x 74 columns]"
      ],
      "text/html": "<div>\n<style scoped>\n    .dataframe tbody tr th:only-of-type {\n        vertical-align: middle;\n    }\n\n    .dataframe tbody tr th {\n        vertical-align: top;\n    }\n\n    .dataframe thead th {\n        text-align: right;\n    }\n</style>\n<table border=\"1\" class=\"dataframe\">\n  <thead>\n    <tr style=\"text-align: right;\">\n      <th></th>\n      <th>No</th>\n      <th>MLSID</th>\n      <th>StreetNumberNumeric</th>\n      <th>streetaddress</th>\n      <th>STREETNAME</th>\n      <th>PostalCode</th>\n      <th>StateOrProvince</th>\n      <th>City</th>\n      <th>SalesClosePrice</th>\n      <th>LISTDATE</th>\n      <th>...</th>\n      <th>RoomArea7</th>\n      <th>RoomFloor7</th>\n      <th>RoomArea8</th>\n      <th>RoomFloor8</th>\n      <th>Bedrooms</th>\n      <th>SQFTBELOWGROUND</th>\n      <th>AssumableMortgage</th>\n      <th>AssociationFee</th>\n      <th>ASSESSMENTPENDING</th>\n      <th>AssessedValuation</th>\n    </tr>\n  </thead>\n  <tbody>\n    <tr>\n      <th>0</th>\n      <td>1</td>\n      <td>RMLS</td>\n      <td>11511</td>\n      <td>11511 Stillwater Blvd N</td>\n      <td>Stillwater</td>\n      <td>55042</td>\n      <td>MN</td>\n      <td>LELM - Lake Elmo</td>\n      <td>143000</td>\n      <td>7/15/2017 0:00</td>\n      <td>...</td>\n      <td>None</td>\n      <td>None</td>\n      <td>None</td>\n      <td>None</td>\n      <td>3</td>\n      <td>0</td>\n      <td>None</td>\n      <td>0</td>\n      <td>Unknown</td>\n      <td>0.0</td>\n    </tr>\n    <tr>\n      <th>1</th>\n      <td>2</td>\n      <td>RMLS</td>\n      <td>11200</td>\n      <td>11200 31st St N</td>\n      <td>31st</td>\n      <td>55042</td>\n      <td>MN</td>\n      <td>LELM - Lake Elmo</td>\n      <td>190000</td>\n      <td>10/9/2017 0:00</td>\n      <td>...</td>\n      <td>10x11</td>\n      <td>Main</td>\n      <td>11x11</td>\n      <td>Lower</td>\n      <td>4</td>\n      <td>960</td>\n      <td>None</td>\n      <td>0</td>\n      <td>Unknown</td>\n      <td>0.0</td>\n    </tr>\n    <tr>\n      <th>2</th>\n      <td>3</td>\n      <td>RMLS</td>\n      <td>8583</td>\n      <td>8583 Stillwater Blvd N</td>\n      <td>Stillwater</td>\n      <td>55042</td>\n      <td>MN</td>\n      <td>LELM - Lake Elmo</td>\n      <td>225000</td>\n      <td>6/26/2017 0:00</td>\n      <td>...</td>\n      <td>None</td>\n      <td>None</td>\n      <td>None</td>\n      <td>None</td>\n      <td>2</td>\n      <td>0</td>\n      <td>Not Assumable</td>\n      <td>0</td>\n      <td>No</td>\n      <td>0.0</td>\n    </tr>\n    <tr>\n      <th>3</th>\n      <td>4</td>\n      <td>RMLS</td>\n      <td>9350</td>\n      <td>9350 31st St N</td>\n      <td>31st</td>\n      <td>55042</td>\n      <td>MN</td>\n      <td>LELM - Lake Elmo</td>\n      <td>265000</td>\n      <td>8/25/2017 0:00</td>\n      <td>...</td>\n      <td>None</td>\n      <td>None</td>\n      <td>None</td>\n      <td>None</td>\n      <td>2</td>\n      <td>348</td>\n      <td>None</td>\n      <td>0</td>\n      <td>Unknown</td>\n      <td>0.0</td>\n    </tr>\n    <tr>\n      <th>4</th>\n      <td>5</td>\n      <td>RMLS</td>\n      <td>2915</td>\n      <td>2915 Inwood Ave N</td>\n      <td>Inwood</td>\n      <td>55042</td>\n      <td>MN</td>\n      <td>LELM - Lake Elmo</td>\n      <td>249900</td>\n      <td>9/12/2017 0:00</td>\n      <td>...</td>\n      <td>14x13</td>\n      <td>Lower</td>\n      <td>None</td>\n      <td>None</td>\n      <td>3</td>\n      <td>1026</td>\n      <td>None</td>\n      <td>0</td>\n      <td>No</td>\n      <td>0.0</td>\n    </tr>\n    <tr>\n      <th>...</th>\n      <td>...</td>\n      <td>...</td>\n      <td>...</td>\n      <td>...</td>\n      <td>...</td>\n      <td>...</td>\n      <td>...</td>\n      <td>...</td>\n      <td>...</td>\n      <td>...</td>\n      <td>...</td>\n      <td>...</td>\n      <td>...</td>\n      <td>...</td>\n      <td>...</td>\n      <td>...</td>\n      <td>...</td>\n      <td>...</td>\n      <td>...</td>\n      <td>...</td>\n      <td>...</td>\n    </tr>\n    <tr>\n      <th>4995</th>\n      <td>4996</td>\n      <td>RMLS</td>\n      <td>4933</td>\n      <td>4933 Sunflower Dr</td>\n      <td>Sunflower</td>\n      <td>55129</td>\n      <td>MN</td>\n      <td>WB - Woodbury</td>\n      <td>799000</td>\n      <td>8/1/2017 0:00</td>\n      <td>...</td>\n      <td>12x14</td>\n      <td>Lower</td>\n      <td>None</td>\n      <td>None</td>\n      <td>3</td>\n      <td>1686</td>\n      <td>None</td>\n      <td>102</td>\n      <td>No</td>\n      <td>86.0</td>\n    </tr>\n    <tr>\n      <th>4996</th>\n      <td>4997</td>\n      <td>RMLS</td>\n      <td>10746</td>\n      <td>10746 Watersedge Ln</td>\n      <td>Watersedge</td>\n      <td>55129</td>\n      <td>MN</td>\n      <td>WB - Woodbury</td>\n      <td>805000</td>\n      <td>8/1/2017 0:00</td>\n      <td>...</td>\n      <td>14x14</td>\n      <td>Lower</td>\n      <td>13x11</td>\n      <td>Lower</td>\n      <td>5</td>\n      <td>2220</td>\n      <td>None</td>\n      <td>80</td>\n      <td>No</td>\n      <td>0.0</td>\n    </tr>\n    <tr>\n      <th>4997</th>\n      <td>4998</td>\n      <td>RMLS</td>\n      <td>10721</td>\n      <td>10721 Watersedge Ln</td>\n      <td>Watersedge</td>\n      <td>55129</td>\n      <td>MN</td>\n      <td>WB - Woodbury</td>\n      <td>865000</td>\n      <td>3/27/2017 0:00</td>\n      <td>...</td>\n      <td>13x12</td>\n      <td>Upper</td>\n      <td>15x13</td>\n      <td>Upper</td>\n      <td>4</td>\n      <td>1861</td>\n      <td>None</td>\n      <td>86</td>\n      <td>No</td>\n      <td>0.0</td>\n    </tr>\n    <tr>\n      <th>4998</th>\n      <td>4999</td>\n      <td>RMLS</td>\n      <td>4981</td>\n      <td>4981 Sunflower Pl</td>\n      <td>Sunflower</td>\n      <td>55129</td>\n      <td>MN</td>\n      <td>WB - Woodbury</td>\n      <td>1050216</td>\n      <td>5/24/2017 0:00</td>\n      <td>...</td>\n      <td>13.6x11</td>\n      <td>Upper</td>\n      <td>12x11</td>\n      <td>Upper</td>\n      <td>4</td>\n      <td>0</td>\n      <td>None</td>\n      <td>105</td>\n      <td>Unknown</td>\n      <td>0.0</td>\n    </tr>\n    <tr>\n      <th>4999</th>\n      <td>5000</td>\n      <td>RMLS</td>\n      <td>7608</td>\n      <td>7608 Glen Alcove</td>\n      <td>Glen Alcove</td>\n      <td>55129</td>\n      <td>MN</td>\n      <td>WB - Woodbury</td>\n      <td>1077200</td>\n      <td>4/11/2017 0:00</td>\n      <td>...</td>\n      <td>12x11</td>\n      <td>Upper</td>\n      <td>14x12</td>\n      <td>Upper</td>\n      <td>4</td>\n      <td>0</td>\n      <td>None</td>\n      <td>900</td>\n      <td>Yes</td>\n      <td>2578.0</td>\n    </tr>\n  </tbody>\n</table>\n<p>5000 rows × 74 columns</p>\n</div>"
     },
     "metadata": {},
     "execution_count": 7
    }
   ],
   "source": [
    "df.toPandas()"
   ]
  },
  {
   "cell_type": "code",
   "execution_count": 8,
   "metadata": {},
   "outputs": [
    {
     "output_type": "execute_result",
     "data": {
      "text/plain": [
       "        No MLSID  StreetNumberNumeric            streetaddress   STREETNAME  \\\n",
       "0        1  RMLS                11511  11511 Stillwater Blvd N   Stillwater   \n",
       "1        2  RMLS                11200          11200 31st St N         31st   \n",
       "2        3  RMLS                 8583   8583 Stillwater Blvd N   Stillwater   \n",
       "3        4  RMLS                 9350           9350 31st St N         31st   \n",
       "4        5  RMLS                 2915        2915 Inwood Ave N       Inwood   \n",
       "...    ...   ...                  ...                      ...          ...   \n",
       "4995  4996  RMLS                 4933        4933 Sunflower Dr    Sunflower   \n",
       "4996  4997  RMLS                10746      10746 Watersedge Ln   Watersedge   \n",
       "4997  4998  RMLS                10721      10721 Watersedge Ln   Watersedge   \n",
       "4998  4999  RMLS                 4981        4981 Sunflower Pl    Sunflower   \n",
       "4999  5000  RMLS                 7608         7608 Glen Alcove  Glen Alcove   \n",
       "\n",
       "      PostalCode StateOrProvince              City  SalesClosePrice  \\\n",
       "0          55042              MN  LELM - Lake Elmo           143000   \n",
       "1          55042              MN  LELM - Lake Elmo           190000   \n",
       "2          55042              MN  LELM - Lake Elmo           225000   \n",
       "3          55042              MN  LELM - Lake Elmo           265000   \n",
       "4          55042              MN  LELM - Lake Elmo           249900   \n",
       "...          ...             ...               ...              ...   \n",
       "4995       55129              MN     WB - Woodbury           799000   \n",
       "4996       55129              MN     WB - Woodbury           805000   \n",
       "4997       55129              MN     WB - Woodbury           865000   \n",
       "4998       55129              MN     WB - Woodbury          1050216   \n",
       "4999       55129              MN     WB - Woodbury          1077200   \n",
       "\n",
       "            LISTDATE  ...  RoomArea8 RoomFloor8  Bedrooms  SQFTBELOWGROUND  \\\n",
       "0     7/15/2017 0:00  ...       None       None         3                0   \n",
       "1     10/9/2017 0:00  ...      11x11      Lower         4              960   \n",
       "2     6/26/2017 0:00  ...       None       None         2                0   \n",
       "3     8/25/2017 0:00  ...       None       None         2              348   \n",
       "4     9/12/2017 0:00  ...       None       None         3             1026   \n",
       "...              ...  ...        ...        ...       ...              ...   \n",
       "4995   8/1/2017 0:00  ...       None       None         3             1686   \n",
       "4996   8/1/2017 0:00  ...      13x11      Lower         5             2220   \n",
       "4997  3/27/2017 0:00  ...      15x13      Upper         4             1861   \n",
       "4998  5/24/2017 0:00  ...      12x11      Upper         4                0   \n",
       "4999  4/11/2017 0:00  ...      14x12      Upper         4                0   \n",
       "\n",
       "      AssumableMortgage AssociationFee ASSESSMENTPENDING AssessedValuation  \\\n",
       "0                  None              0           Unknown               0.0   \n",
       "1                  None              0           Unknown               0.0   \n",
       "2         Not Assumable              0                No               0.0   \n",
       "3                  None              0           Unknown               0.0   \n",
       "4                  None              0                No               0.0   \n",
       "...                 ...            ...               ...               ...   \n",
       "4995               None            102                No              86.0   \n",
       "4996               None             80                No               0.0   \n",
       "4997               None             86                No               0.0   \n",
       "4998               None            105           Unknown               0.0   \n",
       "4999               None            900               Yes            2578.0   \n",
       "\n",
       "     TSQFT  PRICEPERTSQFT  \n",
       "0      980     142.755102  \n",
       "1     2228      94.254937  \n",
       "2     1102     204.174229  \n",
       "3     1632     140.931373  \n",
       "4     2052     116.910331  \n",
       "...    ...            ...  \n",
       "4995  3638     222.045080  \n",
       "4996  5923     143.508357  \n",
       "4997  5946     151.362092  \n",
       "4998  4321     243.049294  \n",
       "4999  3374     319.264967  \n",
       "\n",
       "[5000 rows x 76 columns]"
      ],
      "text/html": "<div>\n<style scoped>\n    .dataframe tbody tr th:only-of-type {\n        vertical-align: middle;\n    }\n\n    .dataframe tbody tr th {\n        vertical-align: top;\n    }\n\n    .dataframe thead th {\n        text-align: right;\n    }\n</style>\n<table border=\"1\" class=\"dataframe\">\n  <thead>\n    <tr style=\"text-align: right;\">\n      <th></th>\n      <th>No</th>\n      <th>MLSID</th>\n      <th>StreetNumberNumeric</th>\n      <th>streetaddress</th>\n      <th>STREETNAME</th>\n      <th>PostalCode</th>\n      <th>StateOrProvince</th>\n      <th>City</th>\n      <th>SalesClosePrice</th>\n      <th>LISTDATE</th>\n      <th>...</th>\n      <th>RoomArea8</th>\n      <th>RoomFloor8</th>\n      <th>Bedrooms</th>\n      <th>SQFTBELOWGROUND</th>\n      <th>AssumableMortgage</th>\n      <th>AssociationFee</th>\n      <th>ASSESSMENTPENDING</th>\n      <th>AssessedValuation</th>\n      <th>TSQFT</th>\n      <th>PRICEPERTSQFT</th>\n    </tr>\n  </thead>\n  <tbody>\n    <tr>\n      <th>0</th>\n      <td>1</td>\n      <td>RMLS</td>\n      <td>11511</td>\n      <td>11511 Stillwater Blvd N</td>\n      <td>Stillwater</td>\n      <td>55042</td>\n      <td>MN</td>\n      <td>LELM - Lake Elmo</td>\n      <td>143000</td>\n      <td>7/15/2017 0:00</td>\n      <td>...</td>\n      <td>None</td>\n      <td>None</td>\n      <td>3</td>\n      <td>0</td>\n      <td>None</td>\n      <td>0</td>\n      <td>Unknown</td>\n      <td>0.0</td>\n      <td>980</td>\n      <td>142.755102</td>\n    </tr>\n    <tr>\n      <th>1</th>\n      <td>2</td>\n      <td>RMLS</td>\n      <td>11200</td>\n      <td>11200 31st St N</td>\n      <td>31st</td>\n      <td>55042</td>\n      <td>MN</td>\n      <td>LELM - Lake Elmo</td>\n      <td>190000</td>\n      <td>10/9/2017 0:00</td>\n      <td>...</td>\n      <td>11x11</td>\n      <td>Lower</td>\n      <td>4</td>\n      <td>960</td>\n      <td>None</td>\n      <td>0</td>\n      <td>Unknown</td>\n      <td>0.0</td>\n      <td>2228</td>\n      <td>94.254937</td>\n    </tr>\n    <tr>\n      <th>2</th>\n      <td>3</td>\n      <td>RMLS</td>\n      <td>8583</td>\n      <td>8583 Stillwater Blvd N</td>\n      <td>Stillwater</td>\n      <td>55042</td>\n      <td>MN</td>\n      <td>LELM - Lake Elmo</td>\n      <td>225000</td>\n      <td>6/26/2017 0:00</td>\n      <td>...</td>\n      <td>None</td>\n      <td>None</td>\n      <td>2</td>\n      <td>0</td>\n      <td>Not Assumable</td>\n      <td>0</td>\n      <td>No</td>\n      <td>0.0</td>\n      <td>1102</td>\n      <td>204.174229</td>\n    </tr>\n    <tr>\n      <th>3</th>\n      <td>4</td>\n      <td>RMLS</td>\n      <td>9350</td>\n      <td>9350 31st St N</td>\n      <td>31st</td>\n      <td>55042</td>\n      <td>MN</td>\n      <td>LELM - Lake Elmo</td>\n      <td>265000</td>\n      <td>8/25/2017 0:00</td>\n      <td>...</td>\n      <td>None</td>\n      <td>None</td>\n      <td>2</td>\n      <td>348</td>\n      <td>None</td>\n      <td>0</td>\n      <td>Unknown</td>\n      <td>0.0</td>\n      <td>1632</td>\n      <td>140.931373</td>\n    </tr>\n    <tr>\n      <th>4</th>\n      <td>5</td>\n      <td>RMLS</td>\n      <td>2915</td>\n      <td>2915 Inwood Ave N</td>\n      <td>Inwood</td>\n      <td>55042</td>\n      <td>MN</td>\n      <td>LELM - Lake Elmo</td>\n      <td>249900</td>\n      <td>9/12/2017 0:00</td>\n      <td>...</td>\n      <td>None</td>\n      <td>None</td>\n      <td>3</td>\n      <td>1026</td>\n      <td>None</td>\n      <td>0</td>\n      <td>No</td>\n      <td>0.0</td>\n      <td>2052</td>\n      <td>116.910331</td>\n    </tr>\n    <tr>\n      <th>...</th>\n      <td>...</td>\n      <td>...</td>\n      <td>...</td>\n      <td>...</td>\n      <td>...</td>\n      <td>...</td>\n      <td>...</td>\n      <td>...</td>\n      <td>...</td>\n      <td>...</td>\n      <td>...</td>\n      <td>...</td>\n      <td>...</td>\n      <td>...</td>\n      <td>...</td>\n      <td>...</td>\n      <td>...</td>\n      <td>...</td>\n      <td>...</td>\n      <td>...</td>\n      <td>...</td>\n    </tr>\n    <tr>\n      <th>4995</th>\n      <td>4996</td>\n      <td>RMLS</td>\n      <td>4933</td>\n      <td>4933 Sunflower Dr</td>\n      <td>Sunflower</td>\n      <td>55129</td>\n      <td>MN</td>\n      <td>WB - Woodbury</td>\n      <td>799000</td>\n      <td>8/1/2017 0:00</td>\n      <td>...</td>\n      <td>None</td>\n      <td>None</td>\n      <td>3</td>\n      <td>1686</td>\n      <td>None</td>\n      <td>102</td>\n      <td>No</td>\n      <td>86.0</td>\n      <td>3638</td>\n      <td>222.045080</td>\n    </tr>\n    <tr>\n      <th>4996</th>\n      <td>4997</td>\n      <td>RMLS</td>\n      <td>10746</td>\n      <td>10746 Watersedge Ln</td>\n      <td>Watersedge</td>\n      <td>55129</td>\n      <td>MN</td>\n      <td>WB - Woodbury</td>\n      <td>805000</td>\n      <td>8/1/2017 0:00</td>\n      <td>...</td>\n      <td>13x11</td>\n      <td>Lower</td>\n      <td>5</td>\n      <td>2220</td>\n      <td>None</td>\n      <td>80</td>\n      <td>No</td>\n      <td>0.0</td>\n      <td>5923</td>\n      <td>143.508357</td>\n    </tr>\n    <tr>\n      <th>4997</th>\n      <td>4998</td>\n      <td>RMLS</td>\n      <td>10721</td>\n      <td>10721 Watersedge Ln</td>\n      <td>Watersedge</td>\n      <td>55129</td>\n      <td>MN</td>\n      <td>WB - Woodbury</td>\n      <td>865000</td>\n      <td>3/27/2017 0:00</td>\n      <td>...</td>\n      <td>15x13</td>\n      <td>Upper</td>\n      <td>4</td>\n      <td>1861</td>\n      <td>None</td>\n      <td>86</td>\n      <td>No</td>\n      <td>0.0</td>\n      <td>5946</td>\n      <td>151.362092</td>\n    </tr>\n    <tr>\n      <th>4998</th>\n      <td>4999</td>\n      <td>RMLS</td>\n      <td>4981</td>\n      <td>4981 Sunflower Pl</td>\n      <td>Sunflower</td>\n      <td>55129</td>\n      <td>MN</td>\n      <td>WB - Woodbury</td>\n      <td>1050216</td>\n      <td>5/24/2017 0:00</td>\n      <td>...</td>\n      <td>12x11</td>\n      <td>Upper</td>\n      <td>4</td>\n      <td>0</td>\n      <td>None</td>\n      <td>105</td>\n      <td>Unknown</td>\n      <td>0.0</td>\n      <td>4321</td>\n      <td>243.049294</td>\n    </tr>\n    <tr>\n      <th>4999</th>\n      <td>5000</td>\n      <td>RMLS</td>\n      <td>7608</td>\n      <td>7608 Glen Alcove</td>\n      <td>Glen Alcove</td>\n      <td>55129</td>\n      <td>MN</td>\n      <td>WB - Woodbury</td>\n      <td>1077200</td>\n      <td>4/11/2017 0:00</td>\n      <td>...</td>\n      <td>14x12</td>\n      <td>Upper</td>\n      <td>4</td>\n      <td>0</td>\n      <td>None</td>\n      <td>900</td>\n      <td>Yes</td>\n      <td>2578.0</td>\n      <td>3374</td>\n      <td>319.264967</td>\n    </tr>\n  </tbody>\n</table>\n<p>5000 rows × 76 columns</p>\n</div>"
     },
     "metadata": {},
     "execution_count": 8
    }
   ],
   "source": [
    "df = df.withColumn('TSQFT', (df['SQFTBELOWGROUND'] + df['SQFTABOVEGROUND']))\n",
    "df = df.withColumn('PRICEPERTSQFT', (df['LISTPRICE']/df['TSQFT']))\n",
    "df = df.withColumn('DAYSONMARKET', datediff('OFFMARKETDATE', 'LISTDATE'))\n",
    "\n",
    "df.toPandas()"
   ]
  },
  {
   "source": [
    "acres_to_sqfeet = 43560\n",
    "df = df.withColumn('LOT_SIZE_SQFT', df['ACRES'] * acres_to_sqfeet)\n",
    "\n",
    "df = df.withColumn('YARD_SIZE', df['LOT_SIZE_SQFT'] - df['FOUNDATIONSIZE'])\n"
   ],
   "cell_type": "code",
   "metadata": {},
   "execution_count": 9,
   "outputs": []
  },
  {
   "cell_type": "code",
   "execution_count": 10,
   "metadata": {},
   "outputs": [
    {
     "output_type": "execute_result",
     "data": {
      "text/plain": [
       "0.22060612588935327"
      ]
     },
     "metadata": {},
     "execution_count": 10
    }
   ],
   "source": [
    "df.corr('ACRES', 'SalesClosePrice')"
   ]
  },
  {
   "cell_type": "code",
   "execution_count": 11,
   "metadata": {},
   "outputs": [
    {
     "output_type": "execute_result",
     "data": {
      "text/plain": [
       "0.6152231695664401"
      ]
     },
     "metadata": {},
     "execution_count": 11
    }
   ],
   "source": [
    "df.corr('FOUNDATIONSIZE', 'SalesClosePrice')"
   ]
  },
  {
   "cell_type": "code",
   "execution_count": 12,
   "metadata": {},
   "outputs": [
    {
     "output_type": "execute_result",
     "data": {
      "text/plain": [
       "0.20714585430854263"
      ]
     },
     "metadata": {},
     "execution_count": 12
    }
   ],
   "source": [
    "df.corr('YARD_SIZE', 'SalesClosePrice')"
   ]
  },
  {
   "cell_type": "code",
   "execution_count": null,
   "metadata": {},
   "outputs": [],
   "source": []
  },
  {
   "source": [
    "convert to date type"
   ],
   "cell_type": "markdown",
   "metadata": {}
  },
  {
   "cell_type": "code",
   "execution_count": 13,
   "metadata": {},
   "outputs": [],
   "source": [
    "func = udf(lambda x: datetime.strptime(x, '%m/%d/%Y %H:%M'), DateType())\n",
    "df = df.withColumn('LISTDATE_new', func(col('LISTDATE')))\n",
    "\n",
    "df = df.withColumn('List_Day_of_Week', dayofweek('LISTDATE_new'))\n",
    "sample_df = df.sample(False, 0.5, 42).toPandas()"
   ]
  },
  {
   "cell_type": "code",
   "execution_count": 14,
   "metadata": {},
   "outputs": [
    {
     "output_type": "execute_result",
     "data": {
      "text/plain": [
       "        No MLSID  StreetNumberNumeric         streetaddress   STREETNAME  \\\n",
       "0        4  RMLS                 9350        9350 31st St N         31st   \n",
       "1        8  RMLS                 9934  9934 5th Street Ln N   5th Street   \n",
       "2       11  RMLS                 9902  9902 5th Street Ln N   5th Street   \n",
       "3       13  RMLS                 9894  9894 5th Street Ln N   5th Street   \n",
       "4       17  RMLS                 9898      9898 5th St Ln N       5th St   \n",
       "...    ...   ...                  ...                   ...          ...   \n",
       "2547  4992  RMLS                 3507     3507 Crestmoor Pt    Crestmoor   \n",
       "2548  4994  RMLS                10869    10869 Bentwater Ln    Bentwater   \n",
       "2549  4998  RMLS                10721   10721 Watersedge Ln   Watersedge   \n",
       "2550  4999  RMLS                 4981     4981 Sunflower Pl    Sunflower   \n",
       "2551  5000  RMLS                 7608      7608 Glen Alcove  Glen Alcove   \n",
       "\n",
       "      PostalCode StateOrProvince              City  SalesClosePrice  \\\n",
       "0          55042              MN  LELM - Lake Elmo           265000   \n",
       "1          55042              MN  LELM - Lake Elmo           245000   \n",
       "2          55042              MN  LELM - Lake Elmo           254500   \n",
       "3          55042              MN  LELM - Lake Elmo           257500   \n",
       "4          55042              MN  LELM - Lake Elmo           274990   \n",
       "...          ...             ...               ...              ...   \n",
       "2547       55125              MN     WB - Woodbury           770000   \n",
       "2548       55129              MN     WB - Woodbury           795000   \n",
       "2549       55129              MN     WB - Woodbury           865000   \n",
       "2550       55129              MN     WB - Woodbury          1050216   \n",
       "2551       55129              MN     WB - Woodbury          1077200   \n",
       "\n",
       "            LISTDATE  ...  AssumableMortgage AssociationFee  \\\n",
       "0     8/25/2017 0:00  ...               None              0   \n",
       "1     11/5/2017 0:00  ...               None            200   \n",
       "2     5/19/2017 0:00  ...               None            200   \n",
       "3     3/12/2017 0:00  ...               None            190   \n",
       "4     9/10/2017 0:00  ...               None            200   \n",
       "...              ...  ...                ...            ...   \n",
       "2547   5/3/2017 0:00  ...               None            440   \n",
       "2548  7/21/2017 0:00  ...               None             80   \n",
       "2549  3/27/2017 0:00  ...               None             86   \n",
       "2550  5/24/2017 0:00  ...               None            105   \n",
       "2551  4/11/2017 0:00  ...               None            900   \n",
       "\n",
       "      ASSESSMENTPENDING  AssessedValuation  TSQFT PRICEPERTSQFT LOT_SIZE_SQFT  \\\n",
       "0               Unknown                0.0   1632    140.931373      40946.40   \n",
       "1                    No                0.0   1733    147.137911       2178.00   \n",
       "2                    No                0.0   1733    150.023081       2178.00   \n",
       "3                    No                0.0   1733    150.023081       2178.00   \n",
       "4                    No                0.0   1763    155.978446       2178.00   \n",
       "...                 ...                ...    ...           ...           ...   \n",
       "2547                 No                0.0   3489    222.126684      35719.20   \n",
       "2548                 No                0.0   6037    132.350505      15681.60   \n",
       "2549                 No                0.0   5946    151.362092       9147.60   \n",
       "2550            Unknown                0.0   4321    243.049294          0.00   \n",
       "2551                Yes             2578.0   3374    319.264967      95091.48   \n",
       "\n",
       "     YARD_SIZE LISTDATE_new  List_Day_of_Week  \n",
       "0     39987.40   2017-08-25                 6  \n",
       "1      1090.00   2017-11-05                 1  \n",
       "2      1090.00   2017-05-19                 6  \n",
       "3      1090.00   2017-03-12                 1  \n",
       "4      1090.00   2017-09-10                 1  \n",
       "...        ...          ...               ...  \n",
       "2547  33170.20   2017-05-03                 4  \n",
       "2548  13770.60   2017-07-21                 6  \n",
       "2549   7051.60   2017-03-27                 2  \n",
       "2550  -1919.00   2017-05-24                 4  \n",
       "2551  93418.48   2017-04-11                 3  \n",
       "\n",
       "[2552 rows x 80 columns]"
      ],
      "text/html": "<div>\n<style scoped>\n    .dataframe tbody tr th:only-of-type {\n        vertical-align: middle;\n    }\n\n    .dataframe tbody tr th {\n        vertical-align: top;\n    }\n\n    .dataframe thead th {\n        text-align: right;\n    }\n</style>\n<table border=\"1\" class=\"dataframe\">\n  <thead>\n    <tr style=\"text-align: right;\">\n      <th></th>\n      <th>No</th>\n      <th>MLSID</th>\n      <th>StreetNumberNumeric</th>\n      <th>streetaddress</th>\n      <th>STREETNAME</th>\n      <th>PostalCode</th>\n      <th>StateOrProvince</th>\n      <th>City</th>\n      <th>SalesClosePrice</th>\n      <th>LISTDATE</th>\n      <th>...</th>\n      <th>AssumableMortgage</th>\n      <th>AssociationFee</th>\n      <th>ASSESSMENTPENDING</th>\n      <th>AssessedValuation</th>\n      <th>TSQFT</th>\n      <th>PRICEPERTSQFT</th>\n      <th>LOT_SIZE_SQFT</th>\n      <th>YARD_SIZE</th>\n      <th>LISTDATE_new</th>\n      <th>List_Day_of_Week</th>\n    </tr>\n  </thead>\n  <tbody>\n    <tr>\n      <th>0</th>\n      <td>4</td>\n      <td>RMLS</td>\n      <td>9350</td>\n      <td>9350 31st St N</td>\n      <td>31st</td>\n      <td>55042</td>\n      <td>MN</td>\n      <td>LELM - Lake Elmo</td>\n      <td>265000</td>\n      <td>8/25/2017 0:00</td>\n      <td>...</td>\n      <td>None</td>\n      <td>0</td>\n      <td>Unknown</td>\n      <td>0.0</td>\n      <td>1632</td>\n      <td>140.931373</td>\n      <td>40946.40</td>\n      <td>39987.40</td>\n      <td>2017-08-25</td>\n      <td>6</td>\n    </tr>\n    <tr>\n      <th>1</th>\n      <td>8</td>\n      <td>RMLS</td>\n      <td>9934</td>\n      <td>9934 5th Street Ln N</td>\n      <td>5th Street</td>\n      <td>55042</td>\n      <td>MN</td>\n      <td>LELM - Lake Elmo</td>\n      <td>245000</td>\n      <td>11/5/2017 0:00</td>\n      <td>...</td>\n      <td>None</td>\n      <td>200</td>\n      <td>No</td>\n      <td>0.0</td>\n      <td>1733</td>\n      <td>147.137911</td>\n      <td>2178.00</td>\n      <td>1090.00</td>\n      <td>2017-11-05</td>\n      <td>1</td>\n    </tr>\n    <tr>\n      <th>2</th>\n      <td>11</td>\n      <td>RMLS</td>\n      <td>9902</td>\n      <td>9902 5th Street Ln N</td>\n      <td>5th Street</td>\n      <td>55042</td>\n      <td>MN</td>\n      <td>LELM - Lake Elmo</td>\n      <td>254500</td>\n      <td>5/19/2017 0:00</td>\n      <td>...</td>\n      <td>None</td>\n      <td>200</td>\n      <td>No</td>\n      <td>0.0</td>\n      <td>1733</td>\n      <td>150.023081</td>\n      <td>2178.00</td>\n      <td>1090.00</td>\n      <td>2017-05-19</td>\n      <td>6</td>\n    </tr>\n    <tr>\n      <th>3</th>\n      <td>13</td>\n      <td>RMLS</td>\n      <td>9894</td>\n      <td>9894 5th Street Ln N</td>\n      <td>5th Street</td>\n      <td>55042</td>\n      <td>MN</td>\n      <td>LELM - Lake Elmo</td>\n      <td>257500</td>\n      <td>3/12/2017 0:00</td>\n      <td>...</td>\n      <td>None</td>\n      <td>190</td>\n      <td>No</td>\n      <td>0.0</td>\n      <td>1733</td>\n      <td>150.023081</td>\n      <td>2178.00</td>\n      <td>1090.00</td>\n      <td>2017-03-12</td>\n      <td>1</td>\n    </tr>\n    <tr>\n      <th>4</th>\n      <td>17</td>\n      <td>RMLS</td>\n      <td>9898</td>\n      <td>9898 5th St Ln N</td>\n      <td>5th St</td>\n      <td>55042</td>\n      <td>MN</td>\n      <td>LELM - Lake Elmo</td>\n      <td>274990</td>\n      <td>9/10/2017 0:00</td>\n      <td>...</td>\n      <td>None</td>\n      <td>200</td>\n      <td>No</td>\n      <td>0.0</td>\n      <td>1763</td>\n      <td>155.978446</td>\n      <td>2178.00</td>\n      <td>1090.00</td>\n      <td>2017-09-10</td>\n      <td>1</td>\n    </tr>\n    <tr>\n      <th>...</th>\n      <td>...</td>\n      <td>...</td>\n      <td>...</td>\n      <td>...</td>\n      <td>...</td>\n      <td>...</td>\n      <td>...</td>\n      <td>...</td>\n      <td>...</td>\n      <td>...</td>\n      <td>...</td>\n      <td>...</td>\n      <td>...</td>\n      <td>...</td>\n      <td>...</td>\n      <td>...</td>\n      <td>...</td>\n      <td>...</td>\n      <td>...</td>\n      <td>...</td>\n      <td>...</td>\n    </tr>\n    <tr>\n      <th>2547</th>\n      <td>4992</td>\n      <td>RMLS</td>\n      <td>3507</td>\n      <td>3507 Crestmoor Pt</td>\n      <td>Crestmoor</td>\n      <td>55125</td>\n      <td>MN</td>\n      <td>WB - Woodbury</td>\n      <td>770000</td>\n      <td>5/3/2017 0:00</td>\n      <td>...</td>\n      <td>None</td>\n      <td>440</td>\n      <td>No</td>\n      <td>0.0</td>\n      <td>3489</td>\n      <td>222.126684</td>\n      <td>35719.20</td>\n      <td>33170.20</td>\n      <td>2017-05-03</td>\n      <td>4</td>\n    </tr>\n    <tr>\n      <th>2548</th>\n      <td>4994</td>\n      <td>RMLS</td>\n      <td>10869</td>\n      <td>10869 Bentwater Ln</td>\n      <td>Bentwater</td>\n      <td>55129</td>\n      <td>MN</td>\n      <td>WB - Woodbury</td>\n      <td>795000</td>\n      <td>7/21/2017 0:00</td>\n      <td>...</td>\n      <td>None</td>\n      <td>80</td>\n      <td>No</td>\n      <td>0.0</td>\n      <td>6037</td>\n      <td>132.350505</td>\n      <td>15681.60</td>\n      <td>13770.60</td>\n      <td>2017-07-21</td>\n      <td>6</td>\n    </tr>\n    <tr>\n      <th>2549</th>\n      <td>4998</td>\n      <td>RMLS</td>\n      <td>10721</td>\n      <td>10721 Watersedge Ln</td>\n      <td>Watersedge</td>\n      <td>55129</td>\n      <td>MN</td>\n      <td>WB - Woodbury</td>\n      <td>865000</td>\n      <td>3/27/2017 0:00</td>\n      <td>...</td>\n      <td>None</td>\n      <td>86</td>\n      <td>No</td>\n      <td>0.0</td>\n      <td>5946</td>\n      <td>151.362092</td>\n      <td>9147.60</td>\n      <td>7051.60</td>\n      <td>2017-03-27</td>\n      <td>2</td>\n    </tr>\n    <tr>\n      <th>2550</th>\n      <td>4999</td>\n      <td>RMLS</td>\n      <td>4981</td>\n      <td>4981 Sunflower Pl</td>\n      <td>Sunflower</td>\n      <td>55129</td>\n      <td>MN</td>\n      <td>WB - Woodbury</td>\n      <td>1050216</td>\n      <td>5/24/2017 0:00</td>\n      <td>...</td>\n      <td>None</td>\n      <td>105</td>\n      <td>Unknown</td>\n      <td>0.0</td>\n      <td>4321</td>\n      <td>243.049294</td>\n      <td>0.00</td>\n      <td>-1919.00</td>\n      <td>2017-05-24</td>\n      <td>4</td>\n    </tr>\n    <tr>\n      <th>2551</th>\n      <td>5000</td>\n      <td>RMLS</td>\n      <td>7608</td>\n      <td>7608 Glen Alcove</td>\n      <td>Glen Alcove</td>\n      <td>55129</td>\n      <td>MN</td>\n      <td>WB - Woodbury</td>\n      <td>1077200</td>\n      <td>4/11/2017 0:00</td>\n      <td>...</td>\n      <td>None</td>\n      <td>900</td>\n      <td>Yes</td>\n      <td>2578.0</td>\n      <td>3374</td>\n      <td>319.264967</td>\n      <td>95091.48</td>\n      <td>93418.48</td>\n      <td>2017-04-11</td>\n      <td>3</td>\n    </tr>\n  </tbody>\n</table>\n<p>2552 rows × 80 columns</p>\n</div>"
     },
     "metadata": {},
     "execution_count": 14
    }
   ],
   "source": [
    "sample_df"
   ]
  },
  {
   "cell_type": "code",
   "execution_count": 15,
   "metadata": {},
   "outputs": [
    {
     "output_type": "execute_result",
     "data": {
      "text/plain": [
       "         LISTDATE LISTDATE_new  List_Day_of_Week\n",
       "0  8/25/2017 0:00   2017-08-25                 6\n",
       "1  11/5/2017 0:00   2017-11-05                 1\n",
       "2  5/19/2017 0:00   2017-05-19                 6\n",
       "3  3/12/2017 0:00   2017-03-12                 1\n",
       "4  9/10/2017 0:00   2017-09-10                 1"
      ],
      "text/html": "<div>\n<style scoped>\n    .dataframe tbody tr th:only-of-type {\n        vertical-align: middle;\n    }\n\n    .dataframe tbody tr th {\n        vertical-align: top;\n    }\n\n    .dataframe thead th {\n        text-align: right;\n    }\n</style>\n<table border=\"1\" class=\"dataframe\">\n  <thead>\n    <tr style=\"text-align: right;\">\n      <th></th>\n      <th>LISTDATE</th>\n      <th>LISTDATE_new</th>\n      <th>List_Day_of_Week</th>\n    </tr>\n  </thead>\n  <tbody>\n    <tr>\n      <th>0</th>\n      <td>8/25/2017 0:00</td>\n      <td>2017-08-25</td>\n      <td>6</td>\n    </tr>\n    <tr>\n      <th>1</th>\n      <td>11/5/2017 0:00</td>\n      <td>2017-11-05</td>\n      <td>1</td>\n    </tr>\n    <tr>\n      <th>2</th>\n      <td>5/19/2017 0:00</td>\n      <td>2017-05-19</td>\n      <td>6</td>\n    </tr>\n    <tr>\n      <th>3</th>\n      <td>3/12/2017 0:00</td>\n      <td>2017-03-12</td>\n      <td>1</td>\n    </tr>\n    <tr>\n      <th>4</th>\n      <td>9/10/2017 0:00</td>\n      <td>2017-09-10</td>\n      <td>1</td>\n    </tr>\n  </tbody>\n</table>\n</div>"
     },
     "metadata": {},
     "execution_count": 15
    }
   ],
   "source": [
    "sample_df[['LISTDATE', 'LISTDATE_new', 'List_Day_of_Week']].head()"
   ]
  },
  {
   "cell_type": "code",
   "execution_count": 16,
   "metadata": {},
   "outputs": [
    {
     "output_type": "display_data",
     "data": {
      "text/plain": "<Figure size 432x288 with 1 Axes>",
      "image/svg+xml": "<?xml version=\"1.0\" encoding=\"utf-8\" standalone=\"no\"?>\n<!DOCTYPE svg PUBLIC \"-//W3C//DTD SVG 1.1//EN\"\n  \"http://www.w3.org/Graphics/SVG/1.1/DTD/svg11.dtd\">\n<svg height=\"262.638903pt\" version=\"1.1\" viewBox=\"0 0 388.965625 262.638903\" width=\"388.965625pt\" xmlns=\"http://www.w3.org/2000/svg\" xmlns:xlink=\"http://www.w3.org/1999/xlink\">\n <metadata>\n  <rdf:RDF xmlns:cc=\"http://creativecommons.org/ns#\" xmlns:dc=\"http://purl.org/dc/elements/1.1/\" xmlns:rdf=\"http://www.w3.org/1999/02/22-rdf-syntax-ns#\">\n   <cc:Work>\n    <dc:type rdf:resource=\"http://purl.org/dc/dcmitype/StillImage\"/>\n    <dc:date>2021-04-18T10:55:44.010692</dc:date>\n    <dc:format>image/svg+xml</dc:format>\n    <dc:creator>\n     <cc:Agent>\n      <dc:title>Matplotlib v3.4.1, https://matplotlib.org/</dc:title>\n     </cc:Agent>\n    </dc:creator>\n   </cc:Work>\n  </rdf:RDF>\n </metadata>\n <defs>\n  <style type=\"text/css\">*{stroke-linecap:butt;stroke-linejoin:round;}</style>\n </defs>\n <g id=\"figure_1\">\n  <g id=\"patch_1\">\n   <path d=\"M -0 262.638903 \nL 388.965625 262.638903 \nL 388.965625 0 \nL -0 0 \nz\n\" style=\"fill:none;\"/>\n  </g>\n  <g id=\"axes_1\">\n   <g id=\"patch_2\">\n    <path d=\"M 46.965625 224.804528 \nL 381.765625 224.804528 \nL 381.765625 7.364528 \nL 46.965625 7.364528 \nz\n\" style=\"fill:#ffffff;\"/>\n   </g>\n   <g id=\"patch_3\">\n    <path clip-path=\"url(#pba3b8f132d)\" d=\"M 51.748482 224.804528 \nL 90.011339 224.804528 \nL 90.011339 204.03487 \nL 51.748482 204.03487 \nz\n\" style=\"fill:#3274a1;\"/>\n   </g>\n   <g id=\"patch_4\">\n    <path clip-path=\"url(#pba3b8f132d)\" d=\"M 99.577054 224.804528 \nL 137.839911 224.804528 \nL 137.839911 125.232341 \nL 99.577054 125.232341 \nz\n\" style=\"fill:#e1812c;\"/>\n   </g>\n   <g id=\"patch_5\">\n    <path clip-path=\"url(#pba3b8f132d)\" d=\"M 147.405625 224.804528 \nL 185.668482 224.804528 \nL 185.668482 136.533479 \nL 147.405625 136.533479 \nz\n\" style=\"fill:#3a923a;\"/>\n   </g>\n   <g id=\"patch_6\">\n    <path clip-path=\"url(#pba3b8f132d)\" d=\"M 195.234196 224.804528 \nL 233.497054 224.804528 \nL 233.497054 100.797449 \nL 195.234196 100.797449 \nz\n\" style=\"fill:#c03d3e;\"/>\n   </g>\n   <g id=\"patch_7\">\n    <path clip-path=\"url(#pba3b8f132d)\" d=\"M 243.062768 224.804528 \nL 281.325625 224.804528 \nL 281.325625 33.906931 \nL 243.062768 33.906931 \nz\n\" style=\"fill:#9372b2;\"/>\n   </g>\n   <g id=\"patch_8\">\n    <path clip-path=\"url(#pba3b8f132d)\" d=\"M 290.891339 224.804528 \nL 329.154196 224.804528 \nL 329.154196 17.718814 \nL 290.891339 17.718814 \nz\n\" style=\"fill:#845b53;\"/>\n   </g>\n   <g id=\"patch_9\">\n    <path clip-path=\"url(#pba3b8f132d)\" d=\"M 338.719911 224.804528 \nL 376.982768 224.804528 \nL 376.982768 175.934743 \nL 338.719911 175.934743 \nz\n\" style=\"fill:#d684bd;\"/>\n   </g>\n   <g id=\"matplotlib.axis_1\">\n    <g id=\"xtick_1\">\n     <g id=\"line2d_1\">\n      <defs>\n       <path d=\"M 0 0 \nL 0 3.5 \n\" id=\"mf9c13d1ef7\" style=\"stroke:#000000;stroke-width:0.8;\"/>\n      </defs>\n      <g>\n       <use style=\"stroke:#000000;stroke-width:0.8;\" x=\"70.879911\" xlink:href=\"#mf9c13d1ef7\" y=\"224.804528\"/>\n      </g>\n     </g>\n     <g id=\"text_1\">\n      <!-- 1 -->\n      <g transform=\"translate(67.698661 239.402966)scale(0.1 -0.1)\">\n       <defs>\n        <path d=\"M 794 531 \nL 1825 531 \nL 1825 4091 \nL 703 3866 \nL 703 4441 \nL 1819 4666 \nL 2450 4666 \nL 2450 531 \nL 3481 531 \nL 3481 0 \nL 794 0 \nL 794 531 \nz\n\" id=\"DejaVuSans-31\" transform=\"scale(0.015625)\"/>\n       </defs>\n       <use xlink:href=\"#DejaVuSans-31\"/>\n      </g>\n     </g>\n    </g>\n    <g id=\"xtick_2\">\n     <g id=\"line2d_2\">\n      <g>\n       <use style=\"stroke:#000000;stroke-width:0.8;\" x=\"118.708482\" xlink:href=\"#mf9c13d1ef7\" y=\"224.804528\"/>\n      </g>\n     </g>\n     <g id=\"text_2\">\n      <!-- 2 -->\n      <g transform=\"translate(115.527232 239.402966)scale(0.1 -0.1)\">\n       <defs>\n        <path d=\"M 1228 531 \nL 3431 531 \nL 3431 0 \nL 469 0 \nL 469 531 \nQ 828 903 1448 1529 \nQ 2069 2156 2228 2338 \nQ 2531 2678 2651 2914 \nQ 2772 3150 2772 3378 \nQ 2772 3750 2511 3984 \nQ 2250 4219 1831 4219 \nQ 1534 4219 1204 4116 \nQ 875 4013 500 3803 \nL 500 4441 \nQ 881 4594 1212 4672 \nQ 1544 4750 1819 4750 \nQ 2544 4750 2975 4387 \nQ 3406 4025 3406 3419 \nQ 3406 3131 3298 2873 \nQ 3191 2616 2906 2266 \nQ 2828 2175 2409 1742 \nQ 1991 1309 1228 531 \nz\n\" id=\"DejaVuSans-32\" transform=\"scale(0.015625)\"/>\n       </defs>\n       <use xlink:href=\"#DejaVuSans-32\"/>\n      </g>\n     </g>\n    </g>\n    <g id=\"xtick_3\">\n     <g id=\"line2d_3\">\n      <g>\n       <use style=\"stroke:#000000;stroke-width:0.8;\" x=\"166.537054\" xlink:href=\"#mf9c13d1ef7\" y=\"224.804528\"/>\n      </g>\n     </g>\n     <g id=\"text_3\">\n      <!-- 3 -->\n      <g transform=\"translate(163.355804 239.402966)scale(0.1 -0.1)\">\n       <defs>\n        <path d=\"M 2597 2516 \nQ 3050 2419 3304 2112 \nQ 3559 1806 3559 1356 \nQ 3559 666 3084 287 \nQ 2609 -91 1734 -91 \nQ 1441 -91 1130 -33 \nQ 819 25 488 141 \nL 488 750 \nQ 750 597 1062 519 \nQ 1375 441 1716 441 \nQ 2309 441 2620 675 \nQ 2931 909 2931 1356 \nQ 2931 1769 2642 2001 \nQ 2353 2234 1838 2234 \nL 1294 2234 \nL 1294 2753 \nL 1863 2753 \nQ 2328 2753 2575 2939 \nQ 2822 3125 2822 3475 \nQ 2822 3834 2567 4026 \nQ 2313 4219 1838 4219 \nQ 1578 4219 1281 4162 \nQ 984 4106 628 3988 \nL 628 4550 \nQ 988 4650 1302 4700 \nQ 1616 4750 1894 4750 \nQ 2613 4750 3031 4423 \nQ 3450 4097 3450 3541 \nQ 3450 3153 3228 2886 \nQ 3006 2619 2597 2516 \nz\n\" id=\"DejaVuSans-33\" transform=\"scale(0.015625)\"/>\n       </defs>\n       <use xlink:href=\"#DejaVuSans-33\"/>\n      </g>\n     </g>\n    </g>\n    <g id=\"xtick_4\">\n     <g id=\"line2d_4\">\n      <g>\n       <use style=\"stroke:#000000;stroke-width:0.8;\" x=\"214.365625\" xlink:href=\"#mf9c13d1ef7\" y=\"224.804528\"/>\n      </g>\n     </g>\n     <g id=\"text_4\">\n      <!-- 4 -->\n      <g transform=\"translate(211.184375 239.402966)scale(0.1 -0.1)\">\n       <defs>\n        <path d=\"M 2419 4116 \nL 825 1625 \nL 2419 1625 \nL 2419 4116 \nz\nM 2253 4666 \nL 3047 4666 \nL 3047 1625 \nL 3713 1625 \nL 3713 1100 \nL 3047 1100 \nL 3047 0 \nL 2419 0 \nL 2419 1100 \nL 313 1100 \nL 313 1709 \nL 2253 4666 \nz\n\" id=\"DejaVuSans-34\" transform=\"scale(0.015625)\"/>\n       </defs>\n       <use xlink:href=\"#DejaVuSans-34\"/>\n      </g>\n     </g>\n    </g>\n    <g id=\"xtick_5\">\n     <g id=\"line2d_5\">\n      <g>\n       <use style=\"stroke:#000000;stroke-width:0.8;\" x=\"262.194196\" xlink:href=\"#mf9c13d1ef7\" y=\"224.804528\"/>\n      </g>\n     </g>\n     <g id=\"text_5\">\n      <!-- 5 -->\n      <g transform=\"translate(259.012946 239.402966)scale(0.1 -0.1)\">\n       <defs>\n        <path d=\"M 691 4666 \nL 3169 4666 \nL 3169 4134 \nL 1269 4134 \nL 1269 2991 \nQ 1406 3038 1543 3061 \nQ 1681 3084 1819 3084 \nQ 2600 3084 3056 2656 \nQ 3513 2228 3513 1497 \nQ 3513 744 3044 326 \nQ 2575 -91 1722 -91 \nQ 1428 -91 1123 -41 \nQ 819 9 494 109 \nL 494 744 \nQ 775 591 1075 516 \nQ 1375 441 1709 441 \nQ 2250 441 2565 725 \nQ 2881 1009 2881 1497 \nQ 2881 1984 2565 2268 \nQ 2250 2553 1709 2553 \nQ 1456 2553 1204 2497 \nQ 953 2441 691 2322 \nL 691 4666 \nz\n\" id=\"DejaVuSans-35\" transform=\"scale(0.015625)\"/>\n       </defs>\n       <use xlink:href=\"#DejaVuSans-35\"/>\n      </g>\n     </g>\n    </g>\n    <g id=\"xtick_6\">\n     <g id=\"line2d_6\">\n      <g>\n       <use style=\"stroke:#000000;stroke-width:0.8;\" x=\"310.022768\" xlink:href=\"#mf9c13d1ef7\" y=\"224.804528\"/>\n      </g>\n     </g>\n     <g id=\"text_6\">\n      <!-- 6 -->\n      <g transform=\"translate(306.841518 239.402966)scale(0.1 -0.1)\">\n       <defs>\n        <path d=\"M 2113 2584 \nQ 1688 2584 1439 2293 \nQ 1191 2003 1191 1497 \nQ 1191 994 1439 701 \nQ 1688 409 2113 409 \nQ 2538 409 2786 701 \nQ 3034 994 3034 1497 \nQ 3034 2003 2786 2293 \nQ 2538 2584 2113 2584 \nz\nM 3366 4563 \nL 3366 3988 \nQ 3128 4100 2886 4159 \nQ 2644 4219 2406 4219 \nQ 1781 4219 1451 3797 \nQ 1122 3375 1075 2522 \nQ 1259 2794 1537 2939 \nQ 1816 3084 2150 3084 \nQ 2853 3084 3261 2657 \nQ 3669 2231 3669 1497 \nQ 3669 778 3244 343 \nQ 2819 -91 2113 -91 \nQ 1303 -91 875 529 \nQ 447 1150 447 2328 \nQ 447 3434 972 4092 \nQ 1497 4750 2381 4750 \nQ 2619 4750 2861 4703 \nQ 3103 4656 3366 4563 \nz\n\" id=\"DejaVuSans-36\" transform=\"scale(0.015625)\"/>\n       </defs>\n       <use xlink:href=\"#DejaVuSans-36\"/>\n      </g>\n     </g>\n    </g>\n    <g id=\"xtick_7\">\n     <g id=\"line2d_7\">\n      <g>\n       <use style=\"stroke:#000000;stroke-width:0.8;\" x=\"357.851339\" xlink:href=\"#mf9c13d1ef7\" y=\"224.804528\"/>\n      </g>\n     </g>\n     <g id=\"text_7\">\n      <!-- 7 -->\n      <g transform=\"translate(354.670089 239.402966)scale(0.1 -0.1)\">\n       <defs>\n        <path d=\"M 525 4666 \nL 3525 4666 \nL 3525 4397 \nL 1831 0 \nL 1172 0 \nL 2766 4134 \nL 525 4134 \nL 525 4666 \nz\n\" id=\"DejaVuSans-37\" transform=\"scale(0.015625)\"/>\n       </defs>\n       <use xlink:href=\"#DejaVuSans-37\"/>\n      </g>\n     </g>\n    </g>\n    <g id=\"text_8\">\n     <!-- List_Day_of_Week -->\n     <g transform=\"translate(169.734375 253.081091)scale(0.1 -0.1)\">\n      <defs>\n       <path d=\"M 628 4666 \nL 1259 4666 \nL 1259 531 \nL 3531 531 \nL 3531 0 \nL 628 0 \nL 628 4666 \nz\n\" id=\"DejaVuSans-4c\" transform=\"scale(0.015625)\"/>\n       <path d=\"M 603 3500 \nL 1178 3500 \nL 1178 0 \nL 603 0 \nL 603 3500 \nz\nM 603 4863 \nL 1178 4863 \nL 1178 4134 \nL 603 4134 \nL 603 4863 \nz\n\" id=\"DejaVuSans-69\" transform=\"scale(0.015625)\"/>\n       <path d=\"M 2834 3397 \nL 2834 2853 \nQ 2591 2978 2328 3040 \nQ 2066 3103 1784 3103 \nQ 1356 3103 1142 2972 \nQ 928 2841 928 2578 \nQ 928 2378 1081 2264 \nQ 1234 2150 1697 2047 \nL 1894 2003 \nQ 2506 1872 2764 1633 \nQ 3022 1394 3022 966 \nQ 3022 478 2636 193 \nQ 2250 -91 1575 -91 \nQ 1294 -91 989 -36 \nQ 684 19 347 128 \nL 347 722 \nQ 666 556 975 473 \nQ 1284 391 1588 391 \nQ 1994 391 2212 530 \nQ 2431 669 2431 922 \nQ 2431 1156 2273 1281 \nQ 2116 1406 1581 1522 \nL 1381 1569 \nQ 847 1681 609 1914 \nQ 372 2147 372 2553 \nQ 372 3047 722 3315 \nQ 1072 3584 1716 3584 \nQ 2034 3584 2315 3537 \nQ 2597 3491 2834 3397 \nz\n\" id=\"DejaVuSans-73\" transform=\"scale(0.015625)\"/>\n       <path d=\"M 1172 4494 \nL 1172 3500 \nL 2356 3500 \nL 2356 3053 \nL 1172 3053 \nL 1172 1153 \nQ 1172 725 1289 603 \nQ 1406 481 1766 481 \nL 2356 481 \nL 2356 0 \nL 1766 0 \nQ 1100 0 847 248 \nQ 594 497 594 1153 \nL 594 3053 \nL 172 3053 \nL 172 3500 \nL 594 3500 \nL 594 4494 \nL 1172 4494 \nz\n\" id=\"DejaVuSans-74\" transform=\"scale(0.015625)\"/>\n       <path d=\"M 3263 -1063 \nL 3263 -1509 \nL -63 -1509 \nL -63 -1063 \nL 3263 -1063 \nz\n\" id=\"DejaVuSans-5f\" transform=\"scale(0.015625)\"/>\n       <path d=\"M 1259 4147 \nL 1259 519 \nL 2022 519 \nQ 2988 519 3436 956 \nQ 3884 1394 3884 2338 \nQ 3884 3275 3436 3711 \nQ 2988 4147 2022 4147 \nL 1259 4147 \nz\nM 628 4666 \nL 1925 4666 \nQ 3281 4666 3915 4102 \nQ 4550 3538 4550 2338 \nQ 4550 1131 3912 565 \nQ 3275 0 1925 0 \nL 628 0 \nL 628 4666 \nz\n\" id=\"DejaVuSans-44\" transform=\"scale(0.015625)\"/>\n       <path d=\"M 2194 1759 \nQ 1497 1759 1228 1600 \nQ 959 1441 959 1056 \nQ 959 750 1161 570 \nQ 1363 391 1709 391 \nQ 2188 391 2477 730 \nQ 2766 1069 2766 1631 \nL 2766 1759 \nL 2194 1759 \nz\nM 3341 1997 \nL 3341 0 \nL 2766 0 \nL 2766 531 \nQ 2569 213 2275 61 \nQ 1981 -91 1556 -91 \nQ 1019 -91 701 211 \nQ 384 513 384 1019 \nQ 384 1609 779 1909 \nQ 1175 2209 1959 2209 \nL 2766 2209 \nL 2766 2266 \nQ 2766 2663 2505 2880 \nQ 2244 3097 1772 3097 \nQ 1472 3097 1187 3025 \nQ 903 2953 641 2809 \nL 641 3341 \nQ 956 3463 1253 3523 \nQ 1550 3584 1831 3584 \nQ 2591 3584 2966 3190 \nQ 3341 2797 3341 1997 \nz\n\" id=\"DejaVuSans-61\" transform=\"scale(0.015625)\"/>\n       <path d=\"M 2059 -325 \nQ 1816 -950 1584 -1140 \nQ 1353 -1331 966 -1331 \nL 506 -1331 \nL 506 -850 \nL 844 -850 \nQ 1081 -850 1212 -737 \nQ 1344 -625 1503 -206 \nL 1606 56 \nL 191 3500 \nL 800 3500 \nL 1894 763 \nL 2988 3500 \nL 3597 3500 \nL 2059 -325 \nz\n\" id=\"DejaVuSans-79\" transform=\"scale(0.015625)\"/>\n       <path d=\"M 1959 3097 \nQ 1497 3097 1228 2736 \nQ 959 2375 959 1747 \nQ 959 1119 1226 758 \nQ 1494 397 1959 397 \nQ 2419 397 2687 759 \nQ 2956 1122 2956 1747 \nQ 2956 2369 2687 2733 \nQ 2419 3097 1959 3097 \nz\nM 1959 3584 \nQ 2709 3584 3137 3096 \nQ 3566 2609 3566 1747 \nQ 3566 888 3137 398 \nQ 2709 -91 1959 -91 \nQ 1206 -91 779 398 \nQ 353 888 353 1747 \nQ 353 2609 779 3096 \nQ 1206 3584 1959 3584 \nz\n\" id=\"DejaVuSans-6f\" transform=\"scale(0.015625)\"/>\n       <path d=\"M 2375 4863 \nL 2375 4384 \nL 1825 4384 \nQ 1516 4384 1395 4259 \nQ 1275 4134 1275 3809 \nL 1275 3500 \nL 2222 3500 \nL 2222 3053 \nL 1275 3053 \nL 1275 0 \nL 697 0 \nL 697 3053 \nL 147 3053 \nL 147 3500 \nL 697 3500 \nL 697 3744 \nQ 697 4328 969 4595 \nQ 1241 4863 1831 4863 \nL 2375 4863 \nz\n\" id=\"DejaVuSans-66\" transform=\"scale(0.015625)\"/>\n       <path d=\"M 213 4666 \nL 850 4666 \nL 1831 722 \nL 2809 4666 \nL 3519 4666 \nL 4500 722 \nL 5478 4666 \nL 6119 4666 \nL 4947 0 \nL 4153 0 \nL 3169 4050 \nL 2175 0 \nL 1381 0 \nL 213 4666 \nz\n\" id=\"DejaVuSans-57\" transform=\"scale(0.015625)\"/>\n       <path d=\"M 3597 1894 \nL 3597 1613 \nL 953 1613 \nQ 991 1019 1311 708 \nQ 1631 397 2203 397 \nQ 2534 397 2845 478 \nQ 3156 559 3463 722 \nL 3463 178 \nQ 3153 47 2828 -22 \nQ 2503 -91 2169 -91 \nQ 1331 -91 842 396 \nQ 353 884 353 1716 \nQ 353 2575 817 3079 \nQ 1281 3584 2069 3584 \nQ 2775 3584 3186 3129 \nQ 3597 2675 3597 1894 \nz\nM 3022 2063 \nQ 3016 2534 2758 2815 \nQ 2500 3097 2075 3097 \nQ 1594 3097 1305 2825 \nQ 1016 2553 972 2059 \nL 3022 2063 \nz\n\" id=\"DejaVuSans-65\" transform=\"scale(0.015625)\"/>\n       <path d=\"M 581 4863 \nL 1159 4863 \nL 1159 1991 \nL 2875 3500 \nL 3609 3500 \nL 1753 1863 \nL 3688 0 \nL 2938 0 \nL 1159 1709 \nL 1159 0 \nL 581 0 \nL 581 4863 \nz\n\" id=\"DejaVuSans-6b\" transform=\"scale(0.015625)\"/>\n      </defs>\n      <use xlink:href=\"#DejaVuSans-4c\"/>\n      <use x=\"55.712891\" xlink:href=\"#DejaVuSans-69\"/>\n      <use x=\"83.496094\" xlink:href=\"#DejaVuSans-73\"/>\n      <use x=\"135.595703\" xlink:href=\"#DejaVuSans-74\"/>\n      <use x=\"174.804688\" xlink:href=\"#DejaVuSans-5f\"/>\n      <use x=\"224.804688\" xlink:href=\"#DejaVuSans-44\"/>\n      <use x=\"301.806641\" xlink:href=\"#DejaVuSans-61\"/>\n      <use x=\"363.085938\" xlink:href=\"#DejaVuSans-79\"/>\n      <use x=\"422.265625\" xlink:href=\"#DejaVuSans-5f\"/>\n      <use x=\"472.265625\" xlink:href=\"#DejaVuSans-6f\"/>\n      <use x=\"533.447266\" xlink:href=\"#DejaVuSans-66\"/>\n      <use x=\"568.652344\" xlink:href=\"#DejaVuSans-5f\"/>\n      <use x=\"618.652344\" xlink:href=\"#DejaVuSans-57\"/>\n      <use x=\"711.654297\" xlink:href=\"#DejaVuSans-65\"/>\n      <use x=\"773.177734\" xlink:href=\"#DejaVuSans-65\"/>\n      <use x=\"834.701172\" xlink:href=\"#DejaVuSans-6b\"/>\n     </g>\n    </g>\n   </g>\n   <g id=\"matplotlib.axis_2\">\n    <g id=\"ytick_1\">\n     <g id=\"line2d_8\">\n      <defs>\n       <path d=\"M 0 0 \nL -3.5 0 \n\" id=\"md41a802afe\" style=\"stroke:#000000;stroke-width:0.8;\"/>\n      </defs>\n      <g>\n       <use style=\"stroke:#000000;stroke-width:0.8;\" x=\"46.965625\" xlink:href=\"#md41a802afe\" y=\"224.804528\"/>\n      </g>\n     </g>\n     <g id=\"text_9\">\n      <!-- 0 -->\n      <g transform=\"translate(33.603125 228.603747)scale(0.1 -0.1)\">\n       <defs>\n        <path d=\"M 2034 4250 \nQ 1547 4250 1301 3770 \nQ 1056 3291 1056 2328 \nQ 1056 1369 1301 889 \nQ 1547 409 2034 409 \nQ 2525 409 2770 889 \nQ 3016 1369 3016 2328 \nQ 3016 3291 2770 3770 \nQ 2525 4250 2034 4250 \nz\nM 2034 4750 \nQ 2819 4750 3233 4129 \nQ 3647 3509 3647 2328 \nQ 3647 1150 3233 529 \nQ 2819 -91 2034 -91 \nQ 1250 -91 836 529 \nQ 422 1150 422 2328 \nQ 422 3509 836 4129 \nQ 1250 4750 2034 4750 \nz\n\" id=\"DejaVuSans-30\" transform=\"scale(0.015625)\"/>\n       </defs>\n       <use xlink:href=\"#DejaVuSans-30\"/>\n      </g>\n     </g>\n    </g>\n    <g id=\"ytick_2\">\n     <g id=\"line2d_9\">\n      <g>\n       <use style=\"stroke:#000000;stroke-width:0.8;\" x=\"46.965625\" xlink:href=\"#md41a802afe\" y=\"194.260913\"/>\n      </g>\n     </g>\n     <g id=\"text_10\">\n      <!-- 100 -->\n      <g transform=\"translate(20.878125 198.060132)scale(0.1 -0.1)\">\n       <use xlink:href=\"#DejaVuSans-31\"/>\n       <use x=\"63.623047\" xlink:href=\"#DejaVuSans-30\"/>\n       <use x=\"127.246094\" xlink:href=\"#DejaVuSans-30\"/>\n      </g>\n     </g>\n    </g>\n    <g id=\"ytick_3\">\n     <g id=\"line2d_10\">\n      <g>\n       <use style=\"stroke:#000000;stroke-width:0.8;\" x=\"46.965625\" xlink:href=\"#md41a802afe\" y=\"163.717297\"/>\n      </g>\n     </g>\n     <g id=\"text_11\">\n      <!-- 200 -->\n      <g transform=\"translate(20.878125 167.516516)scale(0.1 -0.1)\">\n       <use xlink:href=\"#DejaVuSans-32\"/>\n       <use x=\"63.623047\" xlink:href=\"#DejaVuSans-30\"/>\n       <use x=\"127.246094\" xlink:href=\"#DejaVuSans-30\"/>\n      </g>\n     </g>\n    </g>\n    <g id=\"ytick_4\">\n     <g id=\"line2d_11\">\n      <g>\n       <use style=\"stroke:#000000;stroke-width:0.8;\" x=\"46.965625\" xlink:href=\"#md41a802afe\" y=\"133.173681\"/>\n      </g>\n     </g>\n     <g id=\"text_12\">\n      <!-- 300 -->\n      <g transform=\"translate(20.878125 136.9729)scale(0.1 -0.1)\">\n       <use xlink:href=\"#DejaVuSans-33\"/>\n       <use x=\"63.623047\" xlink:href=\"#DejaVuSans-30\"/>\n       <use x=\"127.246094\" xlink:href=\"#DejaVuSans-30\"/>\n      </g>\n     </g>\n    </g>\n    <g id=\"ytick_5\">\n     <g id=\"line2d_12\">\n      <g>\n       <use style=\"stroke:#000000;stroke-width:0.8;\" x=\"46.965625\" xlink:href=\"#md41a802afe\" y=\"102.630066\"/>\n      </g>\n     </g>\n     <g id=\"text_13\">\n      <!-- 400 -->\n      <g transform=\"translate(20.878125 106.429285)scale(0.1 -0.1)\">\n       <use xlink:href=\"#DejaVuSans-34\"/>\n       <use x=\"63.623047\" xlink:href=\"#DejaVuSans-30\"/>\n       <use x=\"127.246094\" xlink:href=\"#DejaVuSans-30\"/>\n      </g>\n     </g>\n    </g>\n    <g id=\"ytick_6\">\n     <g id=\"line2d_13\">\n      <g>\n       <use style=\"stroke:#000000;stroke-width:0.8;\" x=\"46.965625\" xlink:href=\"#md41a802afe\" y=\"72.08645\"/>\n      </g>\n     </g>\n     <g id=\"text_14\">\n      <!-- 500 -->\n      <g transform=\"translate(20.878125 75.885669)scale(0.1 -0.1)\">\n       <use xlink:href=\"#DejaVuSans-35\"/>\n       <use x=\"63.623047\" xlink:href=\"#DejaVuSans-30\"/>\n       <use x=\"127.246094\" xlink:href=\"#DejaVuSans-30\"/>\n      </g>\n     </g>\n    </g>\n    <g id=\"ytick_7\">\n     <g id=\"line2d_14\">\n      <g>\n       <use style=\"stroke:#000000;stroke-width:0.8;\" x=\"46.965625\" xlink:href=\"#md41a802afe\" y=\"41.542834\"/>\n      </g>\n     </g>\n     <g id=\"text_15\">\n      <!-- 600 -->\n      <g transform=\"translate(20.878125 45.342053)scale(0.1 -0.1)\">\n       <use xlink:href=\"#DejaVuSans-36\"/>\n       <use x=\"63.623047\" xlink:href=\"#DejaVuSans-30\"/>\n       <use x=\"127.246094\" xlink:href=\"#DejaVuSans-30\"/>\n      </g>\n     </g>\n    </g>\n    <g id=\"ytick_8\">\n     <g id=\"line2d_15\">\n      <g>\n       <use style=\"stroke:#000000;stroke-width:0.8;\" x=\"46.965625\" xlink:href=\"#md41a802afe\" y=\"10.999219\"/>\n      </g>\n     </g>\n     <g id=\"text_16\">\n      <!-- 700 -->\n      <g transform=\"translate(20.878125 14.798438)scale(0.1 -0.1)\">\n       <use xlink:href=\"#DejaVuSans-37\"/>\n       <use x=\"63.623047\" xlink:href=\"#DejaVuSans-30\"/>\n       <use x=\"127.246094\" xlink:href=\"#DejaVuSans-30\"/>\n      </g>\n     </g>\n    </g>\n    <g id=\"text_17\">\n     <!-- count -->\n     <g transform=\"translate(14.798438 130.190778)rotate(-90)scale(0.1 -0.1)\">\n      <defs>\n       <path d=\"M 3122 3366 \nL 3122 2828 \nQ 2878 2963 2633 3030 \nQ 2388 3097 2138 3097 \nQ 1578 3097 1268 2742 \nQ 959 2388 959 1747 \nQ 959 1106 1268 751 \nQ 1578 397 2138 397 \nQ 2388 397 2633 464 \nQ 2878 531 3122 666 \nL 3122 134 \nQ 2881 22 2623 -34 \nQ 2366 -91 2075 -91 \nQ 1284 -91 818 406 \nQ 353 903 353 1747 \nQ 353 2603 823 3093 \nQ 1294 3584 2113 3584 \nQ 2378 3584 2631 3529 \nQ 2884 3475 3122 3366 \nz\n\" id=\"DejaVuSans-63\" transform=\"scale(0.015625)\"/>\n       <path d=\"M 544 1381 \nL 544 3500 \nL 1119 3500 \nL 1119 1403 \nQ 1119 906 1312 657 \nQ 1506 409 1894 409 \nQ 2359 409 2629 706 \nQ 2900 1003 2900 1516 \nL 2900 3500 \nL 3475 3500 \nL 3475 0 \nL 2900 0 \nL 2900 538 \nQ 2691 219 2414 64 \nQ 2138 -91 1772 -91 \nQ 1169 -91 856 284 \nQ 544 659 544 1381 \nz\nM 1991 3584 \nL 1991 3584 \nz\n\" id=\"DejaVuSans-75\" transform=\"scale(0.015625)\"/>\n       <path d=\"M 3513 2113 \nL 3513 0 \nL 2938 0 \nL 2938 2094 \nQ 2938 2591 2744 2837 \nQ 2550 3084 2163 3084 \nQ 1697 3084 1428 2787 \nQ 1159 2491 1159 1978 \nL 1159 0 \nL 581 0 \nL 581 3500 \nL 1159 3500 \nL 1159 2956 \nQ 1366 3272 1645 3428 \nQ 1925 3584 2291 3584 \nQ 2894 3584 3203 3211 \nQ 3513 2838 3513 2113 \nz\n\" id=\"DejaVuSans-6e\" transform=\"scale(0.015625)\"/>\n      </defs>\n      <use xlink:href=\"#DejaVuSans-63\"/>\n      <use x=\"54.980469\" xlink:href=\"#DejaVuSans-6f\"/>\n      <use x=\"116.162109\" xlink:href=\"#DejaVuSans-75\"/>\n      <use x=\"179.541016\" xlink:href=\"#DejaVuSans-6e\"/>\n      <use x=\"242.919922\" xlink:href=\"#DejaVuSans-74\"/>\n     </g>\n    </g>\n   </g>\n   <g id=\"patch_10\">\n    <path d=\"M 46.965625 224.804528 \nL 46.965625 7.364528 \n\" style=\"fill:none;stroke:#000000;stroke-linecap:square;stroke-linejoin:miter;stroke-width:0.8;\"/>\n   </g>\n   <g id=\"patch_11\">\n    <path d=\"M 381.765625 224.804528 \nL 381.765625 7.364528 \n\" style=\"fill:none;stroke:#000000;stroke-linecap:square;stroke-linejoin:miter;stroke-width:0.8;\"/>\n   </g>\n   <g id=\"patch_12\">\n    <path d=\"M 46.965625 224.804528 \nL 381.765625 224.804528 \n\" style=\"fill:none;stroke:#000000;stroke-linecap:square;stroke-linejoin:miter;stroke-width:0.8;\"/>\n   </g>\n   <g id=\"patch_13\">\n    <path d=\"M 46.965625 7.364528 \nL 381.765625 7.364528 \n\" style=\"fill:none;stroke:#000000;stroke-linecap:square;stroke-linejoin:miter;stroke-width:0.8;\"/>\n   </g>\n  </g>\n </g>\n <defs>\n  <clipPath id=\"pba3b8f132d\">\n   <rect height=\"217.44\" width=\"334.8\" x=\"46.965625\" y=\"7.364528\"/>\n  </clipPath>\n </defs>\n</svg>\n",
      "image/png": "[encoded data removed]"
     },
     "metadata": {
      "needs_background": "light"
     }
    }
   ],
   "source": [
    "ax = sns.countplot(x='List_Day_of_Week', data=sample_df)\n",
    "plt.show()"
   ]
  },
  {
   "cell_type": "code",
   "execution_count": null,
   "metadata": {},
   "outputs": [],
   "source": []
  },
  {
   "cell_type": "code",
   "execution_count": 17,
   "metadata": {},
   "outputs": [
    {
     "output_type": "stream",
     "name": "stdout",
     "text": [
      "+------------+---------+----------+---------------+---------------+\n|LISTDATE_new|LIST_YEAR|LIST_MONTH|LIST_DAYOFMONTH|LIST_WEEKOFYEAR|\n+------------+---------+----------+---------------+---------------+\n|  2017-07-15|     2017|         7|             15|             28|\n|  2017-10-09|     2017|        10|              9|             41|\n|  2017-06-26|     2017|         6|             26|             26|\n|  2017-08-25|     2017|         8|             25|             34|\n|  2017-09-12|     2017|         9|             12|             37|\n+------------+---------+----------+---------------+---------------+\nonly showing top 5 rows\n\n"
     ]
    }
   ],
   "source": [
    "df = df.withColumn('LIST_YEAR', year('LISTDATE_new'))\n",
    "df = df.withColumn('LIST_MONTH', month('LISTDATE_new'))\n",
    "df = df.withColumn('LIST_DAYOFMONTH', dayofmonth('LISTDATE_new'))\n",
    "df = df.withColumn('LIST_WEEKOFYEAR', weekofyear('LISTDATE_new'))\n",
    "\n",
    "df[['LISTDATE_new', 'LIST_YEAR', 'LIST_MONTH', 'LIST_DAYOFMONTH', 'LIST_WEEKOFYEAR']].show(5)"
   ]
  },
  {
   "cell_type": "code",
   "execution_count": null,
   "metadata": {},
   "outputs": [],
   "source": []
  },
  {
   "cell_type": "code",
   "execution_count": 18,
   "metadata": {},
   "outputs": [],
   "source": [
    "from pyspark.sql.functions import when"
   ]
  },
  {
   "cell_type": "code",
   "execution_count": 19,
   "metadata": {},
   "outputs": [],
   "source": [
    "has_attached_garage = df['GARAGEDESCRIPTION'].like('%Attached Garage%')\n",
    "has_detached_garage = df['GARAGEDESCRIPTION'].like('%Detached Garage%')\n"
   ]
  },
  {
   "cell_type": "code",
   "execution_count": 20,
   "metadata": {},
   "outputs": [],
   "source": [
    "df = df.withColumn('has_attached_garage', (when(has_attached_garage, 1)\n",
    "                                            .when(has_detached_garage, 0)\n",
    "                                            .otherwise(None)))"
   ]
  },
  {
   "cell_type": "code",
   "execution_count": 21,
   "metadata": {},
   "outputs": [
    {
     "output_type": "stream",
     "name": "stdout",
     "text": [
      "+--------------------------------------------------+-------------------+\n|                                 GARAGEDESCRIPTION|has_attached_garage|\n+--------------------------------------------------+-------------------+\n|                                   Attached Garage|                  1|\n|Attached Garage, Driveway - Asphalt, Garage Doo...|                  1|\n|                                   Attached Garage|                  1|\n+--------------------------------------------------+-------------------+\nonly showing top 3 rows\n\n"
     ]
    }
   ],
   "source": [
    "df[['GARAGEDESCRIPTION', 'has_attached_garage']].show(truncate=50, n=3)"
   ]
  },
  {
   "cell_type": "code",
   "execution_count": null,
   "metadata": {},
   "outputs": [],
   "source": []
  },
  {
   "cell_type": "code",
   "execution_count": 22,
   "metadata": {},
   "outputs": [
    {
     "output_type": "stream",
     "name": "stdout",
     "text": [
      "+----------------------------------------------+----------------+\n|                                          ROOF|   Roof_Material|\n+----------------------------------------------+----------------+\n|                                          null|            null|\n|Asphalt Shingles, Pitched, Age 8 Years or Less|Asphalt Shingles|\n|                                          null|            null|\n|Asphalt Shingles, Pitched, Age 8 Years or Less|Asphalt Shingles|\n|            Asphalt Shingles, Age Over 8 Years|Asphalt Shingles|\n+----------------------------------------------+----------------+\nonly showing top 5 rows\n\n"
     ]
    }
   ],
   "source": [
    "split_col = split(df['ROOF'], ',')\n",
    "df = df.withColumn('Roof_Material', split_col.getItem(0))\n",
    "df[['ROOF', 'Roof_Material']].show(5, truncate=100)"
   ]
  },
  {
   "cell_type": "code",
   "execution_count": null,
   "metadata": {},
   "outputs": [],
   "source": []
  },
  {
   "cell_type": "code",
   "execution_count": 23,
   "metadata": {},
   "outputs": [
    {
     "output_type": "stream",
     "name": "stdout",
     "text": [
      "+---+--------------------------------------------------+\n| No|                                         roof_list|\n+---+--------------------------------------------------+\n|  1|                                              null|\n|  2|[Asphalt Shingles,  Pitched,  Age 8 Years or Less]|\n|  3|                                              null|\n|  4|[Asphalt Shingles,  Pitched,  Age 8 Years or Less]|\n+---+--------------------------------------------------+\nonly showing top 4 rows\n\n"
     ]
    }
   ],
   "source": [
    "df = df.withColumn('roof_list', split(df['ROOF'], ','))\n",
    "df[['No', 'roof_list']].show(4, truncate=50)"
   ]
  },
  {
   "cell_type": "code",
   "execution_count": 24,
   "metadata": {},
   "outputs": [
    {
     "output_type": "stream",
     "name": "stdout",
     "text": [
      "+---+--------------------+\n| No|        ex_roof_list|\n+---+--------------------+\n|  2|    Asphalt Shingles|\n|  2|             Pitched|\n|  2| Age 8 Years or Less|\n|  4|    Asphalt Shingles|\n|  4|             Pitched|\n+---+--------------------+\nonly showing top 5 rows\n\n"
     ]
    }
   ],
   "source": [
    "roof_df = df.withColumn('ex_roof_list', explode(df['roof_list']))\n",
    "roof_df[['No', 'ex_roof_list']].show(5, truncate=50)"
   ]
  },
  {
   "cell_type": "code",
   "execution_count": null,
   "metadata": {},
   "outputs": [],
   "source": []
  },
  {
   "cell_type": "code",
   "execution_count": 25,
   "metadata": {},
   "outputs": [],
   "source": [
    "roof_df = roof_df.withColumn('constant_val', lit(1))\n",
    "roof_piv_df = roof_df.groupBy('NO').pivot('ex_roof_list').agg(coalesce(first('constant_val')))"
   ]
  },
  {
   "cell_type": "code",
   "execution_count": 26,
   "metadata": {},
   "outputs": [
    {
     "output_type": "execute_result",
     "data": {
      "text/plain": [
       "        NO   Age 8 Years or Less   Age Over 8 Years   Flat   Metal   Other  \\\n",
       "0     4519                   NaN                NaN    NaN     NaN     NaN   \n",
       "1     1591                   NaN                NaN    NaN     NaN     NaN   \n",
       "2      471                   NaN                NaN    NaN     NaN     NaN   \n",
       "3     2659                   NaN                1.0    NaN     NaN     NaN   \n",
       "4     4935                   NaN                NaN    NaN     NaN     NaN   \n",
       "...    ...                   ...                ...    ...     ...     ...   \n",
       "4230  4585                   1.0                NaN    NaN     NaN     NaN   \n",
       "4231  1476                   NaN                NaN    NaN     NaN     NaN   \n",
       "4232  3825                   NaN                NaN    NaN     NaN     NaN   \n",
       "4233  3668                   NaN                NaN    NaN     NaN     NaN   \n",
       "4234  4173                   NaN                NaN    NaN     NaN     NaN   \n",
       "\n",
       "       Pitched   Rubber   Shakes   Slate  ...  Metal  Other  Pitched  Rubber  \\\n",
       "0          NaN      NaN      NaN     NaN  ...    NaN    NaN      NaN     NaN   \n",
       "1          NaN      NaN      NaN     NaN  ...    NaN    NaN      NaN     NaN   \n",
       "2          NaN      NaN      NaN     NaN  ...    NaN    NaN      NaN     NaN   \n",
       "3          NaN      NaN      NaN     NaN  ...    NaN    NaN      NaN     NaN   \n",
       "4          NaN      NaN      NaN     NaN  ...    NaN    NaN      NaN     NaN   \n",
       "...        ...      ...      ...     ...  ...    ...    ...      ...     ...   \n",
       "4230       NaN      NaN      NaN     NaN  ...    NaN    NaN      NaN     NaN   \n",
       "4231       NaN      NaN      NaN     NaN  ...    NaN    NaN      NaN     NaN   \n",
       "4232       NaN      NaN      NaN     NaN  ...    NaN    NaN      NaN     NaN   \n",
       "4233       NaN      NaN      NaN     NaN  ...    NaN    NaN      NaN     NaN   \n",
       "4234       NaN      NaN      NaN     NaN  ...    NaN    NaN      NaN     NaN   \n",
       "\n",
       "      Shakes  Slate  Tar/Gravel  Tile  Unspecified Shingle  Wood Shingles  \n",
       "0        NaN    NaN         NaN   NaN                  NaN            NaN  \n",
       "1        NaN    NaN         NaN   NaN                  NaN            NaN  \n",
       "2        NaN    NaN         NaN   NaN                  NaN            NaN  \n",
       "3        NaN    NaN         NaN   NaN                  NaN            NaN  \n",
       "4        NaN    NaN         NaN   NaN                  NaN            NaN  \n",
       "...      ...    ...         ...   ...                  ...            ...  \n",
       "4230     NaN    NaN         NaN   NaN                  NaN            NaN  \n",
       "4231     NaN    NaN         NaN   NaN                  NaN            NaN  \n",
       "4232     NaN    NaN         NaN   NaN                  NaN            NaN  \n",
       "4233     NaN    NaN         NaN   NaN                  NaN            NaN  \n",
       "4234     NaN    NaN         NaN   NaN                  NaN            NaN  \n",
       "\n",
       "[4235 rows x 28 columns]"
      ],
      "text/html": "<div>\n<style scoped>\n    .dataframe tbody tr th:only-of-type {\n        vertical-align: middle;\n    }\n\n    .dataframe tbody tr th {\n        vertical-align: top;\n    }\n\n    .dataframe thead th {\n        text-align: right;\n    }\n</style>\n<table border=\"1\" class=\"dataframe\">\n  <thead>\n    <tr style=\"text-align: right;\">\n      <th></th>\n      <th>NO</th>\n      <th>Age 8 Years or Less</th>\n      <th>Age Over 8 Years</th>\n      <th>Flat</th>\n      <th>Metal</th>\n      <th>Other</th>\n      <th>Pitched</th>\n      <th>Rubber</th>\n      <th>Shakes</th>\n      <th>Slate</th>\n      <th>...</th>\n      <th>Metal</th>\n      <th>Other</th>\n      <th>Pitched</th>\n      <th>Rubber</th>\n      <th>Shakes</th>\n      <th>Slate</th>\n      <th>Tar/Gravel</th>\n      <th>Tile</th>\n      <th>Unspecified Shingle</th>\n      <th>Wood Shingles</th>\n    </tr>\n  </thead>\n  <tbody>\n    <tr>\n      <th>0</th>\n      <td>4519</td>\n      <td>NaN</td>\n      <td>NaN</td>\n      <td>NaN</td>\n      <td>NaN</td>\n      <td>NaN</td>\n      <td>NaN</td>\n      <td>NaN</td>\n      <td>NaN</td>\n      <td>NaN</td>\n      <td>...</td>\n      <td>NaN</td>\n      <td>NaN</td>\n      <td>NaN</td>\n      <td>NaN</td>\n      <td>NaN</td>\n      <td>NaN</td>\n      <td>NaN</td>\n      <td>NaN</td>\n      <td>NaN</td>\n      <td>NaN</td>\n    </tr>\n    <tr>\n      <th>1</th>\n      <td>1591</td>\n      <td>NaN</td>\n      <td>NaN</td>\n      <td>NaN</td>\n      <td>NaN</td>\n      <td>NaN</td>\n      <td>NaN</td>\n      <td>NaN</td>\n      <td>NaN</td>\n      <td>NaN</td>\n      <td>...</td>\n      <td>NaN</td>\n      <td>NaN</td>\n      <td>NaN</td>\n      <td>NaN</td>\n      <td>NaN</td>\n      <td>NaN</td>\n      <td>NaN</td>\n      <td>NaN</td>\n      <td>NaN</td>\n      <td>NaN</td>\n    </tr>\n    <tr>\n      <th>2</th>\n      <td>471</td>\n      <td>NaN</td>\n      <td>NaN</td>\n      <td>NaN</td>\n      <td>NaN</td>\n      <td>NaN</td>\n      <td>NaN</td>\n      <td>NaN</td>\n      <td>NaN</td>\n      <td>NaN</td>\n      <td>...</td>\n      <td>NaN</td>\n      <td>NaN</td>\n      <td>NaN</td>\n      <td>NaN</td>\n      <td>NaN</td>\n      <td>NaN</td>\n      <td>NaN</td>\n      <td>NaN</td>\n      <td>NaN</td>\n      <td>NaN</td>\n    </tr>\n    <tr>\n      <th>3</th>\n      <td>2659</td>\n      <td>NaN</td>\n      <td>1.0</td>\n      <td>NaN</td>\n      <td>NaN</td>\n      <td>NaN</td>\n      <td>NaN</td>\n      <td>NaN</td>\n      <td>NaN</td>\n      <td>NaN</td>\n      <td>...</td>\n      <td>NaN</td>\n      <td>NaN</td>\n      <td>NaN</td>\n      <td>NaN</td>\n      <td>NaN</td>\n      <td>NaN</td>\n      <td>NaN</td>\n      <td>NaN</td>\n      <td>NaN</td>\n      <td>NaN</td>\n    </tr>\n    <tr>\n      <th>4</th>\n      <td>4935</td>\n      <td>NaN</td>\n      <td>NaN</td>\n      <td>NaN</td>\n      <td>NaN</td>\n      <td>NaN</td>\n      <td>NaN</td>\n      <td>NaN</td>\n      <td>NaN</td>\n      <td>NaN</td>\n      <td>...</td>\n      <td>NaN</td>\n      <td>NaN</td>\n      <td>NaN</td>\n      <td>NaN</td>\n      <td>NaN</td>\n      <td>NaN</td>\n      <td>NaN</td>\n      <td>NaN</td>\n      <td>NaN</td>\n      <td>NaN</td>\n    </tr>\n    <tr>\n      <th>...</th>\n      <td>...</td>\n      <td>...</td>\n      <td>...</td>\n      <td>...</td>\n      <td>...</td>\n      <td>...</td>\n      <td>...</td>\n      <td>...</td>\n      <td>...</td>\n      <td>...</td>\n      <td>...</td>\n      <td>...</td>\n      <td>...</td>\n      <td>...</td>\n      <td>...</td>\n      <td>...</td>\n      <td>...</td>\n      <td>...</td>\n      <td>...</td>\n      <td>...</td>\n      <td>...</td>\n    </tr>\n    <tr>\n      <th>4230</th>\n      <td>4585</td>\n      <td>1.0</td>\n      <td>NaN</td>\n      <td>NaN</td>\n      <td>NaN</td>\n      <td>NaN</td>\n      <td>NaN</td>\n      <td>NaN</td>\n      <td>NaN</td>\n      <td>NaN</td>\n      <td>...</td>\n      <td>NaN</td>\n      <td>NaN</td>\n      <td>NaN</td>\n      <td>NaN</td>\n      <td>NaN</td>\n      <td>NaN</td>\n      <td>NaN</td>\n      <td>NaN</td>\n      <td>NaN</td>\n      <td>NaN</td>\n    </tr>\n    <tr>\n      <th>4231</th>\n      <td>1476</td>\n      <td>NaN</td>\n      <td>NaN</td>\n      <td>NaN</td>\n      <td>NaN</td>\n      <td>NaN</td>\n      <td>NaN</td>\n      <td>NaN</td>\n      <td>NaN</td>\n      <td>NaN</td>\n      <td>...</td>\n      <td>NaN</td>\n      <td>NaN</td>\n      <td>NaN</td>\n      <td>NaN</td>\n      <td>NaN</td>\n      <td>NaN</td>\n      <td>NaN</td>\n      <td>NaN</td>\n      <td>NaN</td>\n      <td>NaN</td>\n    </tr>\n    <tr>\n      <th>4232</th>\n      <td>3825</td>\n      <td>NaN</td>\n      <td>NaN</td>\n      <td>NaN</td>\n      <td>NaN</td>\n      <td>NaN</td>\n      <td>NaN</td>\n      <td>NaN</td>\n      <td>NaN</td>\n      <td>NaN</td>\n      <td>...</td>\n      <td>NaN</td>\n      <td>NaN</td>\n      <td>NaN</td>\n      <td>NaN</td>\n      <td>NaN</td>\n      <td>NaN</td>\n      <td>NaN</td>\n      <td>NaN</td>\n      <td>NaN</td>\n      <td>NaN</td>\n    </tr>\n    <tr>\n      <th>4233</th>\n      <td>3668</td>\n      <td>NaN</td>\n      <td>NaN</td>\n      <td>NaN</td>\n      <td>NaN</td>\n      <td>NaN</td>\n      <td>NaN</td>\n      <td>NaN</td>\n      <td>NaN</td>\n      <td>NaN</td>\n      <td>...</td>\n      <td>NaN</td>\n      <td>NaN</td>\n      <td>NaN</td>\n      <td>NaN</td>\n      <td>NaN</td>\n      <td>NaN</td>\n      <td>NaN</td>\n      <td>NaN</td>\n      <td>NaN</td>\n      <td>NaN</td>\n    </tr>\n    <tr>\n      <th>4234</th>\n      <td>4173</td>\n      <td>NaN</td>\n      <td>NaN</td>\n      <td>NaN</td>\n      <td>NaN</td>\n      <td>NaN</td>\n      <td>NaN</td>\n      <td>NaN</td>\n      <td>NaN</td>\n      <td>NaN</td>\n      <td>...</td>\n      <td>NaN</td>\n      <td>NaN</td>\n      <td>NaN</td>\n      <td>NaN</td>\n      <td>NaN</td>\n      <td>NaN</td>\n      <td>NaN</td>\n      <td>NaN</td>\n      <td>NaN</td>\n      <td>NaN</td>\n    </tr>\n  </tbody>\n</table>\n<p>4235 rows × 28 columns</p>\n</div>"
     },
     "metadata": {},
     "execution_count": 26
    }
   ],
   "source": [
    "roof_piv_df.toPandas()"
   ]
  },
  {
   "cell_type": "code",
   "execution_count": 27,
   "metadata": {},
   "outputs": [
    {
     "output_type": "execute_result",
     "data": {
      "text/plain": [
       "(4235, 28)"
      ]
     },
     "metadata": {},
     "execution_count": 27
    }
   ],
   "source": [
    "roof_piv_df.toPandas().shape"
   ]
  },
  {
   "cell_type": "code",
   "execution_count": 28,
   "metadata": {},
   "outputs": [
    {
     "output_type": "execute_result",
     "data": {
      "text/plain": [
       "        NO   Age 8 Years or Less   Age Over 8 Years   Flat   Metal   Other  \\\n",
       "0        2                   1.0                NaN    NaN     NaN     NaN   \n",
       "1        4                   1.0                NaN    NaN     NaN     NaN   \n",
       "2        5                   NaN                1.0    NaN     NaN     NaN   \n",
       "3        6                   1.0                NaN    NaN     NaN     NaN   \n",
       "4        7                   1.0                NaN    NaN     NaN     NaN   \n",
       "...    ...                   ...                ...    ...     ...     ...   \n",
       "4230  4994                   NaN                NaN    NaN     NaN     NaN   \n",
       "4231  4995                   1.0                NaN    NaN     NaN     NaN   \n",
       "4232  4997                   NaN                NaN    NaN     NaN     NaN   \n",
       "4233  4998                   1.0                NaN    NaN     NaN     NaN   \n",
       "4234  4999                   1.0                NaN    NaN     NaN     NaN   \n",
       "\n",
       "       Pitched   Rubber   Shakes   Slate  ...  Metal  Other  Pitched  Rubber  \\\n",
       "0          1.0      NaN      NaN     NaN  ...    NaN    NaN      NaN     NaN   \n",
       "1          1.0      NaN      NaN     NaN  ...    NaN    NaN      NaN     NaN   \n",
       "2          NaN      NaN      NaN     NaN  ...    NaN    NaN      NaN     NaN   \n",
       "3          NaN      NaN      NaN     NaN  ...    NaN    NaN      NaN     NaN   \n",
       "4          NaN      NaN      NaN     NaN  ...    NaN    NaN      NaN     NaN   \n",
       "...        ...      ...      ...     ...  ...    ...    ...      ...     ...   \n",
       "4230       NaN      NaN      NaN     NaN  ...    NaN    NaN      NaN     NaN   \n",
       "4231       NaN      NaN      NaN     NaN  ...    NaN    NaN      NaN     NaN   \n",
       "4232       NaN      NaN      NaN     NaN  ...    NaN    NaN      NaN     NaN   \n",
       "4233       1.0      NaN      NaN     NaN  ...    NaN    NaN      NaN     NaN   \n",
       "4234       NaN      NaN      NaN     NaN  ...    NaN    NaN      NaN     NaN   \n",
       "\n",
       "      Shakes  Slate  Tar/Gravel  Tile  Unspecified Shingle  Wood Shingles  \n",
       "0        NaN    NaN         NaN   NaN                  NaN            NaN  \n",
       "1        NaN    NaN         NaN   NaN                  NaN            NaN  \n",
       "2        NaN    NaN         NaN   NaN                  NaN            NaN  \n",
       "3        NaN    NaN         NaN   NaN                  NaN            NaN  \n",
       "4        NaN    NaN         NaN   NaN                  NaN            NaN  \n",
       "...      ...    ...         ...   ...                  ...            ...  \n",
       "4230     NaN    NaN         NaN   NaN                  NaN            NaN  \n",
       "4231     NaN    NaN         NaN   NaN                  NaN            NaN  \n",
       "4232     NaN    NaN         NaN   NaN                  NaN            NaN  \n",
       "4233     NaN    NaN         NaN   NaN                  NaN            NaN  \n",
       "4234     NaN    NaN         NaN   NaN                  NaN            NaN  \n",
       "\n",
       "[4235 rows x 28 columns]"
      ],
      "text/html": "<div>\n<style scoped>\n    .dataframe tbody tr th:only-of-type {\n        vertical-align: middle;\n    }\n\n    .dataframe tbody tr th {\n        vertical-align: top;\n    }\n\n    .dataframe thead th {\n        text-align: right;\n    }\n</style>\n<table border=\"1\" class=\"dataframe\">\n  <thead>\n    <tr style=\"text-align: right;\">\n      <th></th>\n      <th>NO</th>\n      <th>Age 8 Years or Less</th>\n      <th>Age Over 8 Years</th>\n      <th>Flat</th>\n      <th>Metal</th>\n      <th>Other</th>\n      <th>Pitched</th>\n      <th>Rubber</th>\n      <th>Shakes</th>\n      <th>Slate</th>\n      <th>...</th>\n      <th>Metal</th>\n      <th>Other</th>\n      <th>Pitched</th>\n      <th>Rubber</th>\n      <th>Shakes</th>\n      <th>Slate</th>\n      <th>Tar/Gravel</th>\n      <th>Tile</th>\n      <th>Unspecified Shingle</th>\n      <th>Wood Shingles</th>\n    </tr>\n  </thead>\n  <tbody>\n    <tr>\n      <th>0</th>\n      <td>2</td>\n      <td>1.0</td>\n      <td>NaN</td>\n      <td>NaN</td>\n      <td>NaN</td>\n      <td>NaN</td>\n      <td>1.0</td>\n      <td>NaN</td>\n      <td>NaN</td>\n      <td>NaN</td>\n      <td>...</td>\n      <td>NaN</td>\n      <td>NaN</td>\n      <td>NaN</td>\n      <td>NaN</td>\n      <td>NaN</td>\n      <td>NaN</td>\n      <td>NaN</td>\n      <td>NaN</td>\n      <td>NaN</td>\n      <td>NaN</td>\n    </tr>\n    <tr>\n      <th>1</th>\n      <td>4</td>\n      <td>1.0</td>\n      <td>NaN</td>\n      <td>NaN</td>\n      <td>NaN</td>\n      <td>NaN</td>\n      <td>1.0</td>\n      <td>NaN</td>\n      <td>NaN</td>\n      <td>NaN</td>\n      <td>...</td>\n      <td>NaN</td>\n      <td>NaN</td>\n      <td>NaN</td>\n      <td>NaN</td>\n      <td>NaN</td>\n      <td>NaN</td>\n      <td>NaN</td>\n      <td>NaN</td>\n      <td>NaN</td>\n      <td>NaN</td>\n    </tr>\n    <tr>\n      <th>2</th>\n      <td>5</td>\n      <td>NaN</td>\n      <td>1.0</td>\n      <td>NaN</td>\n      <td>NaN</td>\n      <td>NaN</td>\n      <td>NaN</td>\n      <td>NaN</td>\n      <td>NaN</td>\n      <td>NaN</td>\n      <td>...</td>\n      <td>NaN</td>\n      <td>NaN</td>\n      <td>NaN</td>\n      <td>NaN</td>\n      <td>NaN</td>\n      <td>NaN</td>\n      <td>NaN</td>\n      <td>NaN</td>\n      <td>NaN</td>\n      <td>NaN</td>\n    </tr>\n    <tr>\n      <th>3</th>\n      <td>6</td>\n      <td>1.0</td>\n      <td>NaN</td>\n      <td>NaN</td>\n      <td>NaN</td>\n      <td>NaN</td>\n      <td>NaN</td>\n      <td>NaN</td>\n      <td>NaN</td>\n      <td>NaN</td>\n      <td>...</td>\n      <td>NaN</td>\n      <td>NaN</td>\n      <td>NaN</td>\n      <td>NaN</td>\n      <td>NaN</td>\n      <td>NaN</td>\n      <td>NaN</td>\n      <td>NaN</td>\n      <td>NaN</td>\n      <td>NaN</td>\n    </tr>\n    <tr>\n      <th>4</th>\n      <td>7</td>\n      <td>1.0</td>\n      <td>NaN</td>\n      <td>NaN</td>\n      <td>NaN</td>\n      <td>NaN</td>\n      <td>NaN</td>\n      <td>NaN</td>\n      <td>NaN</td>\n      <td>NaN</td>\n      <td>...</td>\n      <td>NaN</td>\n      <td>NaN</td>\n      <td>NaN</td>\n      <td>NaN</td>\n      <td>NaN</td>\n      <td>NaN</td>\n      <td>NaN</td>\n      <td>NaN</td>\n      <td>NaN</td>\n      <td>NaN</td>\n    </tr>\n    <tr>\n      <th>...</th>\n      <td>...</td>\n      <td>...</td>\n      <td>...</td>\n      <td>...</td>\n      <td>...</td>\n      <td>...</td>\n      <td>...</td>\n      <td>...</td>\n      <td>...</td>\n      <td>...</td>\n      <td>...</td>\n      <td>...</td>\n      <td>...</td>\n      <td>...</td>\n      <td>...</td>\n      <td>...</td>\n      <td>...</td>\n      <td>...</td>\n      <td>...</td>\n      <td>...</td>\n      <td>...</td>\n    </tr>\n    <tr>\n      <th>4230</th>\n      <td>4994</td>\n      <td>NaN</td>\n      <td>NaN</td>\n      <td>NaN</td>\n      <td>NaN</td>\n      <td>NaN</td>\n      <td>NaN</td>\n      <td>NaN</td>\n      <td>NaN</td>\n      <td>NaN</td>\n      <td>...</td>\n      <td>NaN</td>\n      <td>NaN</td>\n      <td>NaN</td>\n      <td>NaN</td>\n      <td>NaN</td>\n      <td>NaN</td>\n      <td>NaN</td>\n      <td>NaN</td>\n      <td>NaN</td>\n      <td>NaN</td>\n    </tr>\n    <tr>\n      <th>4231</th>\n      <td>4995</td>\n      <td>1.0</td>\n      <td>NaN</td>\n      <td>NaN</td>\n      <td>NaN</td>\n      <td>NaN</td>\n      <td>NaN</td>\n      <td>NaN</td>\n      <td>NaN</td>\n      <td>NaN</td>\n      <td>...</td>\n      <td>NaN</td>\n      <td>NaN</td>\n      <td>NaN</td>\n      <td>NaN</td>\n      <td>NaN</td>\n      <td>NaN</td>\n      <td>NaN</td>\n      <td>NaN</td>\n      <td>NaN</td>\n      <td>NaN</td>\n    </tr>\n    <tr>\n      <th>4232</th>\n      <td>4997</td>\n      <td>NaN</td>\n      <td>NaN</td>\n      <td>NaN</td>\n      <td>NaN</td>\n      <td>NaN</td>\n      <td>NaN</td>\n      <td>NaN</td>\n      <td>NaN</td>\n      <td>NaN</td>\n      <td>...</td>\n      <td>NaN</td>\n      <td>NaN</td>\n      <td>NaN</td>\n      <td>NaN</td>\n      <td>NaN</td>\n      <td>NaN</td>\n      <td>NaN</td>\n      <td>NaN</td>\n      <td>NaN</td>\n      <td>NaN</td>\n    </tr>\n    <tr>\n      <th>4233</th>\n      <td>4998</td>\n      <td>1.0</td>\n      <td>NaN</td>\n      <td>NaN</td>\n      <td>NaN</td>\n      <td>NaN</td>\n      <td>1.0</td>\n      <td>NaN</td>\n      <td>NaN</td>\n      <td>NaN</td>\n      <td>...</td>\n      <td>NaN</td>\n      <td>NaN</td>\n      <td>NaN</td>\n      <td>NaN</td>\n      <td>NaN</td>\n      <td>NaN</td>\n      <td>NaN</td>\n      <td>NaN</td>\n      <td>NaN</td>\n      <td>NaN</td>\n    </tr>\n    <tr>\n      <th>4234</th>\n      <td>4999</td>\n      <td>1.0</td>\n      <td>NaN</td>\n      <td>NaN</td>\n      <td>NaN</td>\n      <td>NaN</td>\n      <td>NaN</td>\n      <td>NaN</td>\n      <td>NaN</td>\n      <td>NaN</td>\n      <td>...</td>\n      <td>NaN</td>\n      <td>NaN</td>\n      <td>NaN</td>\n      <td>NaN</td>\n      <td>NaN</td>\n      <td>NaN</td>\n      <td>NaN</td>\n      <td>NaN</td>\n      <td>NaN</td>\n      <td>NaN</td>\n    </tr>\n  </tbody>\n</table>\n<p>4235 rows × 28 columns</p>\n</div>"
     },
     "metadata": {},
     "execution_count": 28
    }
   ],
   "source": [
    "roof_piv_df.orderBy('No').toPandas()"
   ]
  },
  {
   "cell_type": "code",
   "execution_count": 29,
   "metadata": {},
   "outputs": [
    {
     "output_type": "stream",
     "name": "stdout",
     "text": [
      "+----+--------------------+-----------------+-----+------+------+--------+-------+-------+------+-----------+-----+--------------------+--------------+-------------------+----------------+----------------+----+-----+-----+-------+------+------+-----+----------+----+-------------------+-------------+\n|  NO| Age 8 Years or Less| Age Over 8 Years| Flat| Metal| Other| Pitched| Rubber| Shakes| Slate| Tar/Gravel| Tile| Unspecified Shingle| Wood Shingles|Age 8 Years or Less|Age Over 8 Years|Asphalt Shingles|Flat|Metal|Other|Pitched|Rubber|Shakes|Slate|Tar/Gravel|Tile|Unspecified Shingle|Wood Shingles|\n+----+--------------------+-----------------+-----+------+------+--------+-------+-------+------+-----------+-----+--------------------+--------------+-------------------+----------------+----------------+----+-----+-----+-------+------+------+-----+----------+----+-------------------+-------------+\n|4519|                null|             null| null|  null|  null|    null|   null|   null|  null|       null| null|                null|          null|               null|            null|               1|null| null| null|   null|  null|  null| null|      null|null|               null|         null|\n|1591|                null|             null| null|  null|  null|    null|   null|   null|  null|       null| null|                null|          null|               null|            null|               1|null| null| null|   null|  null|  null| null|      null|null|               null|         null|\n| 471|                null|             null| null|  null|  null|    null|   null|   null|  null|       null| null|                null|          null|               null|            null|               1|null| null| null|   null|  null|  null| null|      null|null|               null|         null|\n|2659|                null|                1| null|  null|  null|    null|   null|   null|  null|       null| null|                null|          null|               null|            null|               1|null| null| null|   null|  null|  null| null|      null|null|               null|         null|\n|4935|                null|             null| null|  null|  null|    null|   null|   null|  null|       null| null|                null|          null|               null|            null|               1|null| null| null|   null|  null|  null| null|      null|null|               null|         null|\n|3918|                   1|             null| null|  null|  null|    null|   null|   null|  null|       null| null|                null|          null|               null|            null|               1|null| null| null|   null|  null|  null| null|      null|null|               null|         null|\n| 148|                   1|             null| null|  null|  null|    null|   null|   null|  null|       null| null|                null|          null|               null|            null|               1|null| null| null|   null|  null|  null| null|      null|null|               null|         null|\n|2366|                null|             null| null|  null|  null|    null|   null|   null|  null|       null| null|                null|          null|               null|            null|               1|null| null| null|   null|  null|  null| null|      null|null|               null|         null|\n|4101|                null|                1| null|  null|  null|    null|   null|   null|  null|       null| null|                null|          null|               null|            null|               1|null| null| null|   null|  null|  null| null|      null|null|               null|         null|\n|2866|                null|             null| null|  null|  null|    null|   null|   null|  null|       null| null|                null|          null|               null|            null|               1|null| null| null|   null|  null|  null| null|      null|null|               null|         null|\n| 463|                null|                1| null|  null|  null|    null|   null|   null|  null|       null| null|                null|          null|               null|            null|               1|null| null| null|   null|  null|  null| null|      null|null|               null|         null|\n|2122|                null|             null| null|  null|  null|    null|   null|   null|  null|       null| null|                null|          null|               null|            null|               1|null| null| null|   null|  null|  null| null|      null|null|               null|         null|\n|2142|                null|             null| null|  null|  null|       1|   null|   null|  null|       null| null|                null|          null|               null|            null|               1|null| null| null|   null|  null|  null| null|      null|null|               null|         null|\n|1959|                null|             null| null|  null|  null|    null|   null|   null|  null|       null| null|                null|          null|               null|            null|               1|null| null| null|   null|  null|  null| null|      null|null|               null|         null|\n|3175|                   1|             null| null|  null|  null|    null|   null|   null|  null|       null| null|                null|          null|               null|            null|               1|null| null| null|   null|  null|  null| null|      null|null|               null|         null|\n|3749|                null|             null| null|  null|  null|       1|   null|   null|  null|       null| null|                null|          null|               null|            null|               1|null| null| null|   null|  null|  null| null|      null|null|               null|         null|\n|3997|                null|             null| null|  null|  null|    null|   null|   null|  null|       null| null|                null|          null|               null|            null|               1|null| null| null|   null|  null|  null| null|      null|null|               null|         null|\n| 496|                null|             null| null|  null|  null|    null|   null|   null|  null|       null| null|                null|          null|               null|            null|               1|null| null| null|   null|  null|  null| null|      null|null|               null|         null|\n|1238|                null|                1| null|  null|  null|    null|   null|   null|  null|       null| null|                null|          null|               null|            null|               1|null| null| null|   null|  null|  null| null|      null|null|               null|         null|\n|4900|                null|             null| null|  null|  null|    null|   null|   null|  null|       null| null|                null|          null|               null|               1|            null|null| null| null|   null|  null|  null| null|      null|null|               null|         null|\n+----+--------------------+-----------------+-----+------+------+--------+-------+-------+------+-----------+-----+--------------------+--------------+-------------------+----------------+----------------+----+-----+-----+-------+------+------+-----+----------+----+-------------------+-------------+\nonly showing top 20 rows\n\n"
     ]
    }
   ],
   "source": [
    "roof_piv_df.show()"
   ]
  },
  {
   "cell_type": "code",
   "execution_count": null,
   "metadata": {},
   "outputs": [],
   "source": []
  },
  {
   "cell_type": "code",
   "execution_count": 30,
   "metadata": {},
   "outputs": [],
   "source": [
    "joined_data = df.join(roof_piv_df, on='No', how='left')\n",
    "zfill_cols = roof_piv_df.columns\n",
    "zfill_df = joined_data.fillna(0, subset=zfill_cols)"
   ]
  },
  {
   "cell_type": "code",
   "execution_count": 31,
   "metadata": {},
   "outputs": [
    {
     "output_type": "stream",
     "name": "stdout",
     "text": [
      "+---+-----+-------------------+--------------------+----------+----------+---------------+----------------+---------------+--------------+---------+---------------+-----------------+------------+--------------+-----+---------+-----------------+--------------------+------------+---------------+----------+---------+--------------------+--------------------+----------+------------------+---------------+----+--------------------+---------------+-----+----------+---------+------------------+-------+----------+----------+---------+------------------+--------------------+-----+------------------+--------------------+----------------+--------------+---------+------------+----------+----------+---------+---------------------+--------------------+---------+---------+-----------+-----------------+-----+----------+--------------------+---------+----------+---------+----------+---------+----------+---------+----------+--------+---------------+-----------------+--------------+-----------------+-----------------+-----+------------------+-------------+---------+------------+----------------+---------+----------+---------------+---------------+-------------------+----------------+--------------------+--------------------+-----------------+-----+------+------+--------+-------+-------+------+-----------+-----+--------------------+--------------+-------------------+----------------+----------------+----+-----+-----+-------+------+------+-----+----------+----+-------------------+-------------+\n| No|MLSID|StreetNumberNumeric|       streetaddress|STREETNAME|PostalCode|StateOrProvince|            City|SalesClosePrice|      LISTDATE|LISTPRICE|       LISTTYPE|OriginalListPrice|PricePerTSFT|FOUNDATIONSIZE|FENCE|MapLetter|LotSizeDimensions|SchoolDistrictNumber|DAYSONMARKET|  offmarketdate|Fireplaces|RoomArea4|            roomtype|                ROOF|RoomFloor4|PotentialShortSale|PoolDescription|PDOM|   GarageDescription|SQFTABOVEGROUND|Taxes|RoomFloor1|RoomArea1|TAXWITHASSESSMENTS|TAXYEAR|LivingArea|UNITNUMBER|YEARBUILT|            ZONING|               STYLE|ACRES|CoolingDescription|          APPLIANCES|backonmarketdate|ROOMFAMILYCHAR|RoomArea3|    EXTERIOR|RoomFloor3|RoomFloor2|RoomArea2|DiningRoomDescription|            BASEMENT|BathsFull|BathsHalf|BATHQUARTER|BATHSTHREEQUARTER|Class|BATHSTOTAL|            BATHDESC|RoomArea5|RoomFloor5|RoomArea6|RoomFloor6|RoomArea7|RoomFloor7|RoomArea8|RoomFloor8|Bedrooms|SQFTBELOWGROUND|AssumableMortgage|AssociationFee|ASSESSMENTPENDING|AssessedValuation|TSQFT|     PRICEPERTSQFT|LOT_SIZE_SQFT|YARD_SIZE|LISTDATE_new|List_Day_of_Week|LIST_YEAR|LIST_MONTH|LIST_DAYOFMONTH|LIST_WEEKOFYEAR|has_attached_garage|   Roof_Material|           roof_list| Age 8 Years or Less| Age Over 8 Years| Flat| Metal| Other| Pitched| Rubber| Shakes| Slate| Tar/Gravel| Tile| Unspecified Shingle| Wood Shingles|Age 8 Years or Less|Age Over 8 Years|Asphalt Shingles|Flat|Metal|Other|Pitched|Rubber|Shakes|Slate|Tar/Gravel|Tile|Unspecified Shingle|Wood Shingles|\n+---+-----+-------------------+--------------------+----------+----------+---------------+----------------+---------------+--------------+---------+---------------+-----------------+------------+--------------+-----+---------+-----------------+--------------------+------------+---------------+----------+---------+--------------------+--------------------+----------+------------------+---------------+----+--------------------+---------------+-----+----------+---------+------------------+-------+----------+----------+---------+------------------+--------------------+-----+------------------+--------------------+----------------+--------------+---------+------------+----------+----------+---------+---------------------+--------------------+---------+---------+-----------+-----------------+-----+----------+--------------------+---------+----------+---------+----------+---------+----------+---------+----------+--------+---------------+-----------------+--------------+-----------------+-----------------+-----+------------------+-------------+---------+------------+----------------+---------+----------+---------------+---------------+-------------------+----------------+--------------------+--------------------+-----------------+-----+------+------+--------+-------+-------+------+-----------+-----+--------------------+--------------+-------------------+----------------+----------------+----+-----+-----+-------+------+------+-----+----------+----+-------------------+-------------+\n|  1| RMLS|              11511|11511 Stillwater ...|Stillwater|     55042|             MN|LELM - Lake Elmo|         143000|7/15/2017 0:00|   139900|Exclusive Right|           139900|    145.9184|           980|Other|       C4|          279X200|    834 - Stillwater|        null| 7/30/2017 0:00|         0|  12 x  9|Living Room, Dini...|                null|      Main|                No|           null|  10|     Attached Garage|            980| 1858|      Main|  16 x 13|            1858.0|   2017|       980|      null|     1950|Residential-Single|      (SF) One Story| 1.28|           Central|Range, Dishwasher...|            null|          null|     null|       Vinyl|      null|      Main|   9 x  7|       Eat In Kitchen|                Full|        1|        1|          0|                0|   SF|         2|Main Floor 3/4 Ba...|  13 x 11|      Main|  10 x 10|      Main|     null|      null|     null|      null|       3|              0|             null|             0|          Unknown|              0.0|  980|142.75510204081633|      55756.8|  54776.8|  2017-07-15|               7|     2017|         7|             15|             28|                  1|            null|                null|                   0|                0|    0|     0|     0|       0|      0|      0|     0|          0|    0|                   0|             0|                  0|               0|               0|   0|    0|    0|      0|     0|     0|    0|         0|   0|                  0|            0|\n|  2| RMLS|              11200|     11200 31st St N|      31st|     55042|             MN|LELM - Lake Elmo|         190000|10/9/2017 0:00|   210000|Exclusive Right|           210000|     85.2783|          1144| null|       C1|          100x140|    834 - Stillwater|        null|10/13/2017 0:00|         0|    11x11|Living Room, Dini...|Asphalt Shingles,...|      Main|                No|           null|   4|Attached Garage, ...|           1268| 1640|      Main|    22x14|            1640.0|   2017|      2228|      null|     1971|Residential-Single|(SF) Split Entry ...| 0.32|           Central|Range, Microwave,...|            null|   Lower Level|    22x14|       Vinyl|     Lower|      Main|    11x12| Informal Dining R...|Full, Partial Fin...|        1|        0|          0|                2|   SF|         3|Main Floor Full B...|    15x11|      Main|    14x11|      Main|    10x11|      Main|    11x11|     Lower|       4|            960|             null|             0|          Unknown|              0.0| 2228| 94.25493716337522|      13939.2|  12795.2|  2017-10-09|               2|     2017|        10|              9|             41|                  1|Asphalt Shingles|[Asphalt Shingles...|                   1|                0|    0|     0|     0|       1|      0|      0|     0|          0|    0|                   0|             0|                  0|               0|               1|   0|    0|    0|      0|     0|     0|    0|         0|   0|                  0|            0|\n|  3| RMLS|               8583|8583 Stillwater B...|Stillwater|     55042|             MN|LELM - Lake Elmo|         225000|6/26/2017 0:00|   225000|Exclusive Right|           225000|    204.1742|          1102| None|       E1|          120x296|622 - North St Pa...|        null| 7/24/2017 0:00|         0|    14x12|Living Room, Dini...|                null|      Main|                No|           None|  28|     Attached Garage|           1102| 2390|      Main|    20x13|            2390.0|   2016|      1102|      null|     1949|Residential-Single|      (SF) One Story|0.822|            Window|Range, Microwave,...|            null|          null|     null|Cement Board|      null|      Main|    18x11| Informal Dining Room|Full, Crawl Space...|        1|        0|          0|                0|   SF|         1|Main Floor Full Bath|    12x12|      Main|    12x12|      Main|     null|      null|     null|      null|       2|              0|    Not Assumable|             0|               No|              0.0| 1102| 204.1742286751361|     35806.32| 34704.32|  2017-06-26|               2|     2017|         6|             26|             26|                  1|            null|                null|                   0|                0|    0|     0|     0|       0|      0|      0|     0|          0|    0|                   0|             0|                  0|               0|               0|   0|    0|    0|      0|     0|     0|    0|         0|   0|                  0|            0|\n+---+-----+-------------------+--------------------+----------+----------+---------------+----------------+---------------+--------------+---------+---------------+-----------------+------------+--------------+-----+---------+-----------------+--------------------+------------+---------------+----------+---------+--------------------+--------------------+----------+------------------+---------------+----+--------------------+---------------+-----+----------+---------+------------------+-------+----------+----------+---------+------------------+--------------------+-----+------------------+--------------------+----------------+--------------+---------+------------+----------+----------+---------+---------------------+--------------------+---------+---------+-----------+-----------------+-----+----------+--------------------+---------+----------+---------+----------+---------+----------+---------+----------+--------+---------------+-----------------+--------------+-----------------+-----------------+-----+------------------+-------------+---------+------------+----------------+---------+----------+---------------+---------------+-------------------+----------------+--------------------+--------------------+-----------------+-----+------+------+--------+-------+-------+------+-----------+-----+--------------------+--------------+-------------------+----------------+----------------+----+-----+-----+-------+------+------+-----+----------+----+-------------------+-------------+\nonly showing top 3 rows\n\n"
     ]
    }
   ],
   "source": [
    "zfill_df.show(3)"
   ]
  },
  {
   "cell_type": "code",
   "execution_count": null,
   "metadata": {},
   "outputs": [],
   "source": []
  },
  {
   "cell_type": "code",
   "execution_count": 32,
   "metadata": {},
   "outputs": [],
   "source": [
    "df = df.withColumn('FIREPLACES', df['FIREPLACES'].cast('double'))\n",
    "bin = Binarizer(threshold=500, inputCol='FIREPLACES', outputCol='FireplaceB')\n",
    "df = bin.transform(df)"
   ]
  },
  {
   "cell_type": "code",
   "execution_count": 33,
   "metadata": {},
   "outputs": [
    {
     "output_type": "stream",
     "name": "stdout",
     "text": [
      "+----------+----------+\n|FIREPLACES|FireplaceB|\n+----------+----------+\n|       0.0|       0.0|\n|       0.0|       0.0|\n|       0.0|       0.0|\n|       1.0|       0.0|\n|       1.0|       0.0|\n|       1.0|       0.0|\n+----------+----------+\nonly showing top 6 rows\n\n"
     ]
    }
   ],
   "source": [
    "df[['FIREPLACES', 'FireplaceB']].show(6)"
   ]
  },
  {
   "cell_type": "code",
   "execution_count": 34,
   "metadata": {},
   "outputs": [],
   "source": [
    "splits = [0, 1, 2, 3, 4, float('Inf')]\n",
    "buck = Bucketizer(splits=splits, inputCol='BATHSTOTAL', outputCol='baths')\n",
    "df = buck.transform(df)"
   ]
  },
  {
   "cell_type": "code",
   "execution_count": 35,
   "metadata": {},
   "outputs": [
    {
     "output_type": "stream",
     "name": "stdout",
     "text": [
      "+----------+-----+\n|BATHSTOTAL|baths|\n+----------+-----+\n|         2|  2.0|\n|         3|  3.0|\n|         1|  1.0|\n|         2|  2.0|\n|         2|  2.0|\n+----------+-----+\nonly showing top 5 rows\n\n"
     ]
    }
   ],
   "source": [
    "df[['BATHSTOTAL', 'baths']].show(5)"
   ]
  },
  {
   "cell_type": "code",
   "execution_count": 36,
   "metadata": {},
   "outputs": [],
   "source": [
    "sample_df = df[['BATHSTOTAL', 'baths']].toPandas()"
   ]
  },
  {
   "cell_type": "code",
   "execution_count": 37,
   "metadata": {},
   "outputs": [
    {
     "output_type": "stream",
     "name": "stderr",
     "text": [
      "/home/manhcuong/.local/lib/python3.8/site-packages/seaborn/distributions.py:2557: FutureWarning: `distplot` is a deprecated function and will be removed in a future version. Please adapt your code to use either `displot` (a figure-level function with similar flexibility) or `histplot` (an axes-level function for histograms).\n  warnings.warn(msg, FutureWarning)\n"
     ]
    },
    {
     "output_type": "display_data",
     "data": {
      "text/plain": "<Figure size 432x288 with 1 Axes>",
      "image/svg+xml": "<?xml version=\"1.0\" encoding=\"utf-8\" standalone=\"no\"?>\n<!DOCTYPE svg PUBLIC \"-//W3C//DTD SVG 1.1//EN\"\n  \"http://www.w3.org/Graphics/SVG/1.1/DTD/svg11.dtd\">\n<svg height=\"262.19625pt\" version=\"1.1\" viewBox=\"0 0 385.78125 262.19625\" width=\"385.78125pt\" xmlns=\"http://www.w3.org/2000/svg\" xmlns:xlink=\"http://www.w3.org/1999/xlink\">\n <metadata>\n  <rdf:RDF xmlns:cc=\"http://creativecommons.org/ns#\" xmlns:dc=\"http://purl.org/dc/elements/1.1/\" xmlns:rdf=\"http://www.w3.org/1999/02/22-rdf-syntax-ns#\">\n   <cc:Work>\n    <dc:type rdf:resource=\"http://purl.org/dc/dcmitype/StillImage\"/>\n    <dc:date>2021-04-18T10:56:16.068177</dc:date>\n    <dc:format>image/svg+xml</dc:format>\n    <dc:creator>\n     <cc:Agent>\n      <dc:title>Matplotlib v3.4.1, https://matplotlib.org/</dc:title>\n     </cc:Agent>\n    </dc:creator>\n   </cc:Work>\n  </rdf:RDF>\n </metadata>\n <defs>\n  <style type=\"text/css\">*{stroke-linecap:butt;stroke-linejoin:round;}</style>\n </defs>\n <g id=\"figure_1\">\n  <g id=\"patch_1\">\n   <path d=\"M 0 262.19625 \nL 385.78125 262.19625 \nL 385.78125 0 \nL 0 0 \nz\n\" style=\"fill:none;\"/>\n  </g>\n  <g id=\"axes_1\">\n   <g id=\"patch_2\">\n    <path d=\"M 43.78125 224.64 \nL 378.58125 224.64 \nL 378.58125 7.2 \nL 43.78125 7.2 \nz\n\" style=\"fill:#ffffff;\"/>\n   </g>\n   <g id=\"patch_3\">\n    <path clip-path=\"url(#p38c3a49bae)\" d=\"M 81.588197 224.64 \nL 86.771919 224.64 \nL 86.771919 125.652328 \nL 81.588197 125.652328 \nz\n\" style=\"fill:#1f77b4;opacity:0.4;\"/>\n   </g>\n   <g id=\"patch_4\">\n    <path clip-path=\"url(#p38c3a49bae)\" d=\"M 86.771919 224.64 \nL 91.955642 224.64 \nL 91.955642 224.64 \nL 86.771919 224.64 \nz\n\" style=\"fill:#1f77b4;opacity:0.4;\"/>\n   </g>\n   <g id=\"patch_5\">\n    <path clip-path=\"url(#p38c3a49bae)\" d=\"M 91.955642 224.64 \nL 97.139364 224.64 \nL 97.139364 224.64 \nL 91.955642 224.64 \nz\n\" style=\"fill:#1f77b4;opacity:0.4;\"/>\n   </g>\n   <g id=\"patch_6\">\n    <path clip-path=\"url(#p38c3a49bae)\" d=\"M 97.139364 224.64 \nL 102.323086 224.64 \nL 102.323086 224.64 \nL 97.139364 224.64 \nz\n\" style=\"fill:#1f77b4;opacity:0.4;\"/>\n   </g>\n   <g id=\"patch_7\">\n    <path clip-path=\"url(#p38c3a49bae)\" d=\"M 102.323086 224.64 \nL 107.506808 224.64 \nL 107.506808 224.64 \nL 102.323086 224.64 \nz\n\" style=\"fill:#1f77b4;opacity:0.4;\"/>\n   </g>\n   <g id=\"patch_8\">\n    <path clip-path=\"url(#p38c3a49bae)\" d=\"M 107.506808 224.64 \nL 112.69053 224.64 \nL 112.69053 224.64 \nL 107.506808 224.64 \nz\n\" style=\"fill:#1f77b4;opacity:0.4;\"/>\n   </g>\n   <g id=\"patch_9\">\n    <path clip-path=\"url(#p38c3a49bae)\" d=\"M 112.69053 224.64 \nL 117.874252 224.64 \nL 117.874252 224.64 \nL 112.69053 224.64 \nz\n\" style=\"fill:#1f77b4;opacity:0.4;\"/>\n   </g>\n   <g id=\"patch_10\">\n    <path clip-path=\"url(#p38c3a49bae)\" d=\"M 117.874252 224.64 \nL 123.057974 224.64 \nL 123.057974 224.64 \nL 117.874252 224.64 \nz\n\" style=\"fill:#1f77b4;opacity:0.4;\"/>\n   </g>\n   <g id=\"patch_11\">\n    <path clip-path=\"url(#p38c3a49bae)\" d=\"M 123.057974 224.64 \nL 128.241696 224.64 \nL 128.241696 17.554286 \nL 123.057974 17.554286 \nz\n\" style=\"fill:#1f77b4;opacity:0.4;\"/>\n   </g>\n   <g id=\"patch_12\">\n    <path clip-path=\"url(#p38c3a49bae)\" d=\"M 128.241696 224.64 \nL 133.425418 224.64 \nL 133.425418 224.64 \nL 128.241696 224.64 \nz\n\" style=\"fill:#1f77b4;opacity:0.4;\"/>\n   </g>\n   <g id=\"patch_13\">\n    <path clip-path=\"url(#p38c3a49bae)\" d=\"M 133.425418 224.64 \nL 138.609141 224.64 \nL 138.609141 224.64 \nL 133.425418 224.64 \nz\n\" style=\"fill:#1f77b4;opacity:0.4;\"/>\n   </g>\n   <g id=\"patch_14\">\n    <path clip-path=\"url(#p38c3a49bae)\" d=\"M 138.609141 224.64 \nL 143.792863 224.64 \nL 143.792863 224.64 \nL 138.609141 224.64 \nz\n\" style=\"fill:#1f77b4;opacity:0.4;\"/>\n   </g>\n   <g id=\"patch_15\">\n    <path clip-path=\"url(#p38c3a49bae)\" d=\"M 143.792863 224.64 \nL 148.976585 224.64 \nL 148.976585 224.64 \nL 143.792863 224.64 \nz\n\" style=\"fill:#1f77b4;opacity:0.4;\"/>\n   </g>\n   <g id=\"patch_16\">\n    <path clip-path=\"url(#p38c3a49bae)\" d=\"M 148.976585 224.64 \nL 154.160307 224.64 \nL 154.160307 224.64 \nL 148.976585 224.64 \nz\n\" style=\"fill:#1f77b4;opacity:0.4;\"/>\n   </g>\n   <g id=\"patch_17\">\n    <path clip-path=\"url(#p38c3a49bae)\" d=\"M 154.160307 224.64 \nL 159.344029 224.64 \nL 159.344029 224.64 \nL 154.160307 224.64 \nz\n\" style=\"fill:#1f77b4;opacity:0.4;\"/>\n   </g>\n   <g id=\"patch_18\">\n    <path clip-path=\"url(#p38c3a49bae)\" d=\"M 159.344029 224.64 \nL 164.527751 224.64 \nL 164.527751 224.64 \nL 159.344029 224.64 \nz\n\" style=\"fill:#1f77b4;opacity:0.4;\"/>\n   </g>\n   <g id=\"patch_19\">\n    <path clip-path=\"url(#p38c3a49bae)\" d=\"M 164.527751 224.64 \nL 169.711473 224.64 \nL 169.711473 138.441885 \nL 164.527751 138.441885 \nz\n\" style=\"fill:#1f77b4;opacity:0.4;\"/>\n   </g>\n   <g id=\"patch_20\">\n    <path clip-path=\"url(#p38c3a49bae)\" d=\"M 169.711473 224.64 \nL 174.895195 224.64 \nL 174.895195 224.64 \nL 169.711473 224.64 \nz\n\" style=\"fill:#1f77b4;opacity:0.4;\"/>\n   </g>\n   <g id=\"patch_21\">\n    <path clip-path=\"url(#p38c3a49bae)\" d=\"M 174.895195 224.64 \nL 180.078917 224.64 \nL 180.078917 224.64 \nL 174.895195 224.64 \nz\n\" style=\"fill:#1f77b4;opacity:0.4;\"/>\n   </g>\n   <g id=\"patch_22\">\n    <path clip-path=\"url(#p38c3a49bae)\" d=\"M 180.078917 224.64 \nL 185.262639 224.64 \nL 185.262639 224.64 \nL 180.078917 224.64 \nz\n\" style=\"fill:#1f77b4;opacity:0.4;\"/>\n   </g>\n   <g id=\"patch_23\">\n    <path clip-path=\"url(#p38c3a49bae)\" d=\"M 185.262639 224.64 \nL 190.446362 224.64 \nL 190.446362 224.64 \nL 185.262639 224.64 \nz\n\" style=\"fill:#1f77b4;opacity:0.4;\"/>\n   </g>\n   <g id=\"patch_24\">\n    <path clip-path=\"url(#p38c3a49bae)\" d=\"M 190.446362 224.64 \nL 195.630084 224.64 \nL 195.630084 224.64 \nL 190.446362 224.64 \nz\n\" style=\"fill:#1f77b4;opacity:0.4;\"/>\n   </g>\n   <g id=\"patch_25\">\n    <path clip-path=\"url(#p38c3a49bae)\" d=\"M 195.630084 224.64 \nL 200.813806 224.64 \nL 200.813806 224.64 \nL 195.630084 224.64 \nz\n\" style=\"fill:#1f77b4;opacity:0.4;\"/>\n   </g>\n   <g id=\"patch_26\">\n    <path clip-path=\"url(#p38c3a49bae)\" d=\"M 200.813806 224.64 \nL 205.997528 224.64 \nL 205.997528 224.64 \nL 200.813806 224.64 \nz\n\" style=\"fill:#1f77b4;opacity:0.4;\"/>\n   </g>\n   <g id=\"patch_27\">\n    <path clip-path=\"url(#p38c3a49bae)\" d=\"M 205.997528 224.64 \nL 211.18125 224.64 \nL 211.18125 224.64 \nL 205.997528 224.64 \nz\n\" style=\"fill:#1f77b4;opacity:0.4;\"/>\n   </g>\n   <g id=\"patch_28\">\n    <path clip-path=\"url(#p38c3a49bae)\" d=\"M 211.18125 224.64 \nL 216.364972 224.64 \nL 216.364972 186.271327 \nL 211.18125 186.271327 \nz\n\" style=\"fill:#1f77b4;opacity:0.4;\"/>\n   </g>\n   <g id=\"patch_29\">\n    <path clip-path=\"url(#p38c3a49bae)\" d=\"M 216.364972 224.64 \nL 221.548694 224.64 \nL 221.548694 224.64 \nL 216.364972 224.64 \nz\n\" style=\"fill:#1f77b4;opacity:0.4;\"/>\n   </g>\n   <g id=\"patch_30\">\n    <path clip-path=\"url(#p38c3a49bae)\" d=\"M 221.548694 224.64 \nL 226.732416 224.64 \nL 226.732416 224.64 \nL 221.548694 224.64 \nz\n\" style=\"fill:#1f77b4;opacity:0.4;\"/>\n   </g>\n   <g id=\"patch_31\">\n    <path clip-path=\"url(#p38c3a49bae)\" d=\"M 226.732416 224.64 \nL 231.916138 224.64 \nL 231.916138 224.64 \nL 226.732416 224.64 \nz\n\" style=\"fill:#1f77b4;opacity:0.4;\"/>\n   </g>\n   <g id=\"patch_32\">\n    <path clip-path=\"url(#p38c3a49bae)\" d=\"M 231.916138 224.64 \nL 237.099861 224.64 \nL 237.099861 224.64 \nL 231.916138 224.64 \nz\n\" style=\"fill:#1f77b4;opacity:0.4;\"/>\n   </g>\n   <g id=\"patch_33\">\n    <path clip-path=\"url(#p38c3a49bae)\" d=\"M 237.099861 224.64 \nL 242.283583 224.64 \nL 242.283583 224.64 \nL 237.099861 224.64 \nz\n\" style=\"fill:#1f77b4;opacity:0.4;\"/>\n   </g>\n   <g id=\"patch_34\">\n    <path clip-path=\"url(#p38c3a49bae)\" d=\"M 242.283583 224.64 \nL 247.467305 224.64 \nL 247.467305 224.64 \nL 242.283583 224.64 \nz\n\" style=\"fill:#1f77b4;opacity:0.4;\"/>\n   </g>\n   <g id=\"patch_35\">\n    <path clip-path=\"url(#p38c3a49bae)\" d=\"M 247.467305 224.64 \nL 252.651027 224.64 \nL 252.651027 224.64 \nL 247.467305 224.64 \nz\n\" style=\"fill:#1f77b4;opacity:0.4;\"/>\n   </g>\n   <g id=\"patch_36\">\n    <path clip-path=\"url(#p38c3a49bae)\" d=\"M 252.651027 224.64 \nL 257.834749 224.64 \nL 257.834749 218.858419 \nL 252.651027 218.858419 \nz\n\" style=\"fill:#1f77b4;opacity:0.4;\"/>\n   </g>\n   <g id=\"patch_37\">\n    <path clip-path=\"url(#p38c3a49bae)\" d=\"M 257.834749 224.64 \nL 263.018471 224.64 \nL 263.018471 224.64 \nL 257.834749 224.64 \nz\n\" style=\"fill:#1f77b4;opacity:0.4;\"/>\n   </g>\n   <g id=\"patch_38\">\n    <path clip-path=\"url(#p38c3a49bae)\" d=\"M 263.018471 224.64 \nL 268.202193 224.64 \nL 268.202193 224.64 \nL 263.018471 224.64 \nz\n\" style=\"fill:#1f77b4;opacity:0.4;\"/>\n   </g>\n   <g id=\"patch_39\">\n    <path clip-path=\"url(#p38c3a49bae)\" d=\"M 268.202193 224.64 \nL 273.385915 224.64 \nL 273.385915 224.64 \nL 268.202193 224.64 \nz\n\" style=\"fill:#1f77b4;opacity:0.4;\"/>\n   </g>\n   <g id=\"patch_40\">\n    <path clip-path=\"url(#p38c3a49bae)\" d=\"M 273.385915 224.64 \nL 278.569637 224.64 \nL 278.569637 224.64 \nL 273.385915 224.64 \nz\n\" style=\"fill:#1f77b4;opacity:0.4;\"/>\n   </g>\n   <g id=\"patch_41\">\n    <path clip-path=\"url(#p38c3a49bae)\" d=\"M 278.569637 224.64 \nL 283.753359 224.64 \nL 283.753359 224.64 \nL 278.569637 224.64 \nz\n\" style=\"fill:#1f77b4;opacity:0.4;\"/>\n   </g>\n   <g id=\"patch_42\">\n    <path clip-path=\"url(#p38c3a49bae)\" d=\"M 283.753359 224.64 \nL 288.937082 224.64 \nL 288.937082 224.64 \nL 283.753359 224.64 \nz\n\" style=\"fill:#1f77b4;opacity:0.4;\"/>\n   </g>\n   <g id=\"patch_43\">\n    <path clip-path=\"url(#p38c3a49bae)\" d=\"M 288.937082 224.64 \nL 294.120804 224.64 \nL 294.120804 224.64 \nL 288.937082 224.64 \nz\n\" style=\"fill:#1f77b4;opacity:0.4;\"/>\n   </g>\n   <g id=\"patch_44\">\n    <path clip-path=\"url(#p38c3a49bae)\" d=\"M 294.120804 224.64 \nL 299.304526 224.64 \nL 299.304526 223.413604 \nL 294.120804 223.413604 \nz\n\" style=\"fill:#1f77b4;opacity:0.4;\"/>\n   </g>\n   <g id=\"patch_45\">\n    <path clip-path=\"url(#p38c3a49bae)\" d=\"M 299.304526 224.64 \nL 304.488248 224.64 \nL 304.488248 224.64 \nL 299.304526 224.64 \nz\n\" style=\"fill:#1f77b4;opacity:0.4;\"/>\n   </g>\n   <g id=\"patch_46\">\n    <path clip-path=\"url(#p38c3a49bae)\" d=\"M 304.488248 224.64 \nL 309.67197 224.64 \nL 309.67197 224.64 \nL 304.488248 224.64 \nz\n\" style=\"fill:#1f77b4;opacity:0.4;\"/>\n   </g>\n   <g id=\"patch_47\">\n    <path clip-path=\"url(#p38c3a49bae)\" d=\"M 309.67197 224.64 \nL 314.855692 224.64 \nL 314.855692 224.64 \nL 309.67197 224.64 \nz\n\" style=\"fill:#1f77b4;opacity:0.4;\"/>\n   </g>\n   <g id=\"patch_48\">\n    <path clip-path=\"url(#p38c3a49bae)\" d=\"M 314.855692 224.64 \nL 320.039414 224.64 \nL 320.039414 224.64 \nL 314.855692 224.64 \nz\n\" style=\"fill:#1f77b4;opacity:0.4;\"/>\n   </g>\n   <g id=\"patch_49\">\n    <path clip-path=\"url(#p38c3a49bae)\" d=\"M 320.039414 224.64 \nL 325.223136 224.64 \nL 325.223136 224.64 \nL 320.039414 224.64 \nz\n\" style=\"fill:#1f77b4;opacity:0.4;\"/>\n   </g>\n   <g id=\"patch_50\">\n    <path clip-path=\"url(#p38c3a49bae)\" d=\"M 325.223136 224.64 \nL 330.406858 224.64 \nL 330.406858 224.64 \nL 325.223136 224.64 \nz\n\" style=\"fill:#1f77b4;opacity:0.4;\"/>\n   </g>\n   <g id=\"patch_51\">\n    <path clip-path=\"url(#p38c3a49bae)\" d=\"M 330.406858 224.64 \nL 335.590581 224.64 \nL 335.590581 224.64 \nL 330.406858 224.64 \nz\n\" style=\"fill:#1f77b4;opacity:0.4;\"/>\n   </g>\n   <g id=\"patch_52\">\n    <path clip-path=\"url(#p38c3a49bae)\" d=\"M 335.590581 224.64 \nL 340.774303 224.64 \nL 340.774303 224.289601 \nL 335.590581 224.289601 \nz\n\" style=\"fill:#1f77b4;opacity:0.4;\"/>\n   </g>\n   <g id=\"matplotlib.axis_1\">\n    <g id=\"xtick_1\">\n     <g id=\"line2d_1\">\n      <defs>\n       <path d=\"M 0 0 \nL 0 3.5 \n\" id=\"m0c2d8c7f2d\" style=\"stroke:#000000;stroke-width:0.8;\"/>\n      </defs>\n      <g>\n       <use style=\"stroke:#000000;stroke-width:0.8;\" x=\"81.588197\" xlink:href=\"#m0c2d8c7f2d\" y=\"224.64\"/>\n      </g>\n     </g>\n     <g id=\"text_1\">\n      <!-- 1 -->\n      <g transform=\"translate(78.406947 239.238437)scale(0.1 -0.1)\">\n       <defs>\n        <path d=\"M 794 531 \nL 1825 531 \nL 1825 4091 \nL 703 3866 \nL 703 4441 \nL 1819 4666 \nL 2450 4666 \nL 2450 531 \nL 3481 531 \nL 3481 0 \nL 794 0 \nL 794 531 \nz\n\" id=\"DejaVuSans-31\" transform=\"scale(0.015625)\"/>\n       </defs>\n       <use xlink:href=\"#DejaVuSans-31\"/>\n      </g>\n     </g>\n    </g>\n    <g id=\"xtick_2\">\n     <g id=\"line2d_2\">\n      <g>\n       <use style=\"stroke:#000000;stroke-width:0.8;\" x=\"124.785882\" xlink:href=\"#m0c2d8c7f2d\" y=\"224.64\"/>\n      </g>\n     </g>\n     <g id=\"text_2\">\n      <!-- 2 -->\n      <g transform=\"translate(121.604632 239.238437)scale(0.1 -0.1)\">\n       <defs>\n        <path d=\"M 1228 531 \nL 3431 531 \nL 3431 0 \nL 469 0 \nL 469 531 \nQ 828 903 1448 1529 \nQ 2069 2156 2228 2338 \nQ 2531 2678 2651 2914 \nQ 2772 3150 2772 3378 \nQ 2772 3750 2511 3984 \nQ 2250 4219 1831 4219 \nQ 1534 4219 1204 4116 \nQ 875 4013 500 3803 \nL 500 4441 \nQ 881 4594 1212 4672 \nQ 1544 4750 1819 4750 \nQ 2544 4750 2975 4387 \nQ 3406 4025 3406 3419 \nQ 3406 3131 3298 2873 \nQ 3191 2616 2906 2266 \nQ 2828 2175 2409 1742 \nQ 1991 1309 1228 531 \nz\n\" id=\"DejaVuSans-32\" transform=\"scale(0.015625)\"/>\n       </defs>\n       <use xlink:href=\"#DejaVuSans-32\"/>\n      </g>\n     </g>\n    </g>\n    <g id=\"xtick_3\">\n     <g id=\"line2d_3\">\n      <g>\n       <use style=\"stroke:#000000;stroke-width:0.8;\" x=\"167.983566\" xlink:href=\"#m0c2d8c7f2d\" y=\"224.64\"/>\n      </g>\n     </g>\n     <g id=\"text_3\">\n      <!-- 3 -->\n      <g transform=\"translate(164.802316 239.238437)scale(0.1 -0.1)\">\n       <defs>\n        <path d=\"M 2597 2516 \nQ 3050 2419 3304 2112 \nQ 3559 1806 3559 1356 \nQ 3559 666 3084 287 \nQ 2609 -91 1734 -91 \nQ 1441 -91 1130 -33 \nQ 819 25 488 141 \nL 488 750 \nQ 750 597 1062 519 \nQ 1375 441 1716 441 \nQ 2309 441 2620 675 \nQ 2931 909 2931 1356 \nQ 2931 1769 2642 2001 \nQ 2353 2234 1838 2234 \nL 1294 2234 \nL 1294 2753 \nL 1863 2753 \nQ 2328 2753 2575 2939 \nQ 2822 3125 2822 3475 \nQ 2822 3834 2567 4026 \nQ 2313 4219 1838 4219 \nQ 1578 4219 1281 4162 \nQ 984 4106 628 3988 \nL 628 4550 \nQ 988 4650 1302 4700 \nQ 1616 4750 1894 4750 \nQ 2613 4750 3031 4423 \nQ 3450 4097 3450 3541 \nQ 3450 3153 3228 2886 \nQ 3006 2619 2597 2516 \nz\n\" id=\"DejaVuSans-33\" transform=\"scale(0.015625)\"/>\n       </defs>\n       <use xlink:href=\"#DejaVuSans-33\"/>\n      </g>\n     </g>\n    </g>\n    <g id=\"xtick_4\">\n     <g id=\"line2d_4\">\n      <g>\n       <use style=\"stroke:#000000;stroke-width:0.8;\" x=\"211.18125\" xlink:href=\"#m0c2d8c7f2d\" y=\"224.64\"/>\n      </g>\n     </g>\n     <g id=\"text_4\">\n      <!-- 4 -->\n      <g transform=\"translate(208 239.238437)scale(0.1 -0.1)\">\n       <defs>\n        <path d=\"M 2419 4116 \nL 825 1625 \nL 2419 1625 \nL 2419 4116 \nz\nM 2253 4666 \nL 3047 4666 \nL 3047 1625 \nL 3713 1625 \nL 3713 1100 \nL 3047 1100 \nL 3047 0 \nL 2419 0 \nL 2419 1100 \nL 313 1100 \nL 313 1709 \nL 2253 4666 \nz\n\" id=\"DejaVuSans-34\" transform=\"scale(0.015625)\"/>\n       </defs>\n       <use xlink:href=\"#DejaVuSans-34\"/>\n      </g>\n     </g>\n    </g>\n    <g id=\"xtick_5\">\n     <g id=\"line2d_5\">\n      <g>\n       <use style=\"stroke:#000000;stroke-width:0.8;\" x=\"254.378934\" xlink:href=\"#m0c2d8c7f2d\" y=\"224.64\"/>\n      </g>\n     </g>\n     <g id=\"text_5\">\n      <!-- 5 -->\n      <g transform=\"translate(251.197684 239.238437)scale(0.1 -0.1)\">\n       <defs>\n        <path d=\"M 691 4666 \nL 3169 4666 \nL 3169 4134 \nL 1269 4134 \nL 1269 2991 \nQ 1406 3038 1543 3061 \nQ 1681 3084 1819 3084 \nQ 2600 3084 3056 2656 \nQ 3513 2228 3513 1497 \nQ 3513 744 3044 326 \nQ 2575 -91 1722 -91 \nQ 1428 -91 1123 -41 \nQ 819 9 494 109 \nL 494 744 \nQ 775 591 1075 516 \nQ 1375 441 1709 441 \nQ 2250 441 2565 725 \nQ 2881 1009 2881 1497 \nQ 2881 1984 2565 2268 \nQ 2250 2553 1709 2553 \nQ 1456 2553 1204 2497 \nQ 953 2441 691 2322 \nL 691 4666 \nz\n\" id=\"DejaVuSans-35\" transform=\"scale(0.015625)\"/>\n       </defs>\n       <use xlink:href=\"#DejaVuSans-35\"/>\n      </g>\n     </g>\n    </g>\n    <g id=\"xtick_6\">\n     <g id=\"line2d_6\">\n      <g>\n       <use style=\"stroke:#000000;stroke-width:0.8;\" x=\"297.576618\" xlink:href=\"#m0c2d8c7f2d\" y=\"224.64\"/>\n      </g>\n     </g>\n     <g id=\"text_6\">\n      <!-- 6 -->\n      <g transform=\"translate(294.395368 239.238437)scale(0.1 -0.1)\">\n       <defs>\n        <path d=\"M 2113 2584 \nQ 1688 2584 1439 2293 \nQ 1191 2003 1191 1497 \nQ 1191 994 1439 701 \nQ 1688 409 2113 409 \nQ 2538 409 2786 701 \nQ 3034 994 3034 1497 \nQ 3034 2003 2786 2293 \nQ 2538 2584 2113 2584 \nz\nM 3366 4563 \nL 3366 3988 \nQ 3128 4100 2886 4159 \nQ 2644 4219 2406 4219 \nQ 1781 4219 1451 3797 \nQ 1122 3375 1075 2522 \nQ 1259 2794 1537 2939 \nQ 1816 3084 2150 3084 \nQ 2853 3084 3261 2657 \nQ 3669 2231 3669 1497 \nQ 3669 778 3244 343 \nQ 2819 -91 2113 -91 \nQ 1303 -91 875 529 \nQ 447 1150 447 2328 \nQ 447 3434 972 4092 \nQ 1497 4750 2381 4750 \nQ 2619 4750 2861 4703 \nQ 3103 4656 3366 4563 \nz\n\" id=\"DejaVuSans-36\" transform=\"scale(0.015625)\"/>\n       </defs>\n       <use xlink:href=\"#DejaVuSans-36\"/>\n      </g>\n     </g>\n    </g>\n    <g id=\"xtick_7\">\n     <g id=\"line2d_7\">\n      <g>\n       <use style=\"stroke:#000000;stroke-width:0.8;\" x=\"340.774303\" xlink:href=\"#m0c2d8c7f2d\" y=\"224.64\"/>\n      </g>\n     </g>\n     <g id=\"text_7\">\n      <!-- 7 -->\n      <g transform=\"translate(337.593053 239.238437)scale(0.1 -0.1)\">\n       <defs>\n        <path d=\"M 525 4666 \nL 3525 4666 \nL 3525 4397 \nL 1831 0 \nL 1172 0 \nL 2766 4134 \nL 525 4134 \nL 525 4666 \nz\n\" id=\"DejaVuSans-37\" transform=\"scale(0.015625)\"/>\n       </defs>\n       <use xlink:href=\"#DejaVuSans-37\"/>\n      </g>\n     </g>\n    </g>\n    <g id=\"text_8\">\n     <!-- BATHSTOTAL -->\n     <g transform=\"translate(178.867188 252.916562)scale(0.1 -0.1)\">\n      <defs>\n       <path d=\"M 1259 2228 \nL 1259 519 \nL 2272 519 \nQ 2781 519 3026 730 \nQ 3272 941 3272 1375 \nQ 3272 1813 3026 2020 \nQ 2781 2228 2272 2228 \nL 1259 2228 \nz\nM 1259 4147 \nL 1259 2741 \nL 2194 2741 \nQ 2656 2741 2882 2914 \nQ 3109 3088 3109 3444 \nQ 3109 3797 2882 3972 \nQ 2656 4147 2194 4147 \nL 1259 4147 \nz\nM 628 4666 \nL 2241 4666 \nQ 2963 4666 3353 4366 \nQ 3744 4066 3744 3513 \nQ 3744 3084 3544 2831 \nQ 3344 2578 2956 2516 \nQ 3422 2416 3680 2098 \nQ 3938 1781 3938 1306 \nQ 3938 681 3513 340 \nQ 3088 0 2303 0 \nL 628 0 \nL 628 4666 \nz\n\" id=\"DejaVuSans-42\" transform=\"scale(0.015625)\"/>\n       <path d=\"M 2188 4044 \nL 1331 1722 \nL 3047 1722 \nL 2188 4044 \nz\nM 1831 4666 \nL 2547 4666 \nL 4325 0 \nL 3669 0 \nL 3244 1197 \nL 1141 1197 \nL 716 0 \nL 50 0 \nL 1831 4666 \nz\n\" id=\"DejaVuSans-41\" transform=\"scale(0.015625)\"/>\n       <path d=\"M -19 4666 \nL 3928 4666 \nL 3928 4134 \nL 2272 4134 \nL 2272 0 \nL 1638 0 \nL 1638 4134 \nL -19 4134 \nL -19 4666 \nz\n\" id=\"DejaVuSans-54\" transform=\"scale(0.015625)\"/>\n       <path d=\"M 628 4666 \nL 1259 4666 \nL 1259 2753 \nL 3553 2753 \nL 3553 4666 \nL 4184 4666 \nL 4184 0 \nL 3553 0 \nL 3553 2222 \nL 1259 2222 \nL 1259 0 \nL 628 0 \nL 628 4666 \nz\n\" id=\"DejaVuSans-48\" transform=\"scale(0.015625)\"/>\n       <path d=\"M 3425 4513 \nL 3425 3897 \nQ 3066 4069 2747 4153 \nQ 2428 4238 2131 4238 \nQ 1616 4238 1336 4038 \nQ 1056 3838 1056 3469 \nQ 1056 3159 1242 3001 \nQ 1428 2844 1947 2747 \nL 2328 2669 \nQ 3034 2534 3370 2195 \nQ 3706 1856 3706 1288 \nQ 3706 609 3251 259 \nQ 2797 -91 1919 -91 \nQ 1588 -91 1214 -16 \nQ 841 59 441 206 \nL 441 856 \nQ 825 641 1194 531 \nQ 1563 422 1919 422 \nQ 2459 422 2753 634 \nQ 3047 847 3047 1241 \nQ 3047 1584 2836 1778 \nQ 2625 1972 2144 2069 \nL 1759 2144 \nQ 1053 2284 737 2584 \nQ 422 2884 422 3419 \nQ 422 4038 858 4394 \nQ 1294 4750 2059 4750 \nQ 2388 4750 2728 4690 \nQ 3069 4631 3425 4513 \nz\n\" id=\"DejaVuSans-53\" transform=\"scale(0.015625)\"/>\n       <path d=\"M 2522 4238 \nQ 1834 4238 1429 3725 \nQ 1025 3213 1025 2328 \nQ 1025 1447 1429 934 \nQ 1834 422 2522 422 \nQ 3209 422 3611 934 \nQ 4013 1447 4013 2328 \nQ 4013 3213 3611 3725 \nQ 3209 4238 2522 4238 \nz\nM 2522 4750 \nQ 3503 4750 4090 4092 \nQ 4678 3434 4678 2328 \nQ 4678 1225 4090 567 \nQ 3503 -91 2522 -91 \nQ 1538 -91 948 565 \nQ 359 1222 359 2328 \nQ 359 3434 948 4092 \nQ 1538 4750 2522 4750 \nz\n\" id=\"DejaVuSans-4f\" transform=\"scale(0.015625)\"/>\n       <path d=\"M 628 4666 \nL 1259 4666 \nL 1259 531 \nL 3531 531 \nL 3531 0 \nL 628 0 \nL 628 4666 \nz\n\" id=\"DejaVuSans-4c\" transform=\"scale(0.015625)\"/>\n      </defs>\n      <use xlink:href=\"#DejaVuSans-42\"/>\n      <use x=\"68.603516\" xlink:href=\"#DejaVuSans-41\"/>\n      <use x=\"129.261719\" xlink:href=\"#DejaVuSans-54\"/>\n      <use x=\"190.345703\" xlink:href=\"#DejaVuSans-48\"/>\n      <use x=\"265.541016\" xlink:href=\"#DejaVuSans-53\"/>\n      <use x=\"329.017578\" xlink:href=\"#DejaVuSans-54\"/>\n      <use x=\"390.101562\" xlink:href=\"#DejaVuSans-4f\"/>\n      <use x=\"468.8125\" xlink:href=\"#DejaVuSans-54\"/>\n      <use x=\"522.146484\" xlink:href=\"#DejaVuSans-41\"/>\n      <use x=\"590.554688\" xlink:href=\"#DejaVuSans-4c\"/>\n     </g>\n    </g>\n   </g>\n   <g id=\"matplotlib.axis_2\">\n    <g id=\"ytick_1\">\n     <g id=\"line2d_8\">\n      <defs>\n       <path d=\"M 0 0 \nL -3.5 0 \n\" id=\"m4b50d739b6\" style=\"stroke:#000000;stroke-width:0.8;\"/>\n      </defs>\n      <g>\n       <use style=\"stroke:#000000;stroke-width:0.8;\" x=\"43.78125\" xlink:href=\"#m4b50d739b6\" y=\"224.64\"/>\n      </g>\n     </g>\n     <g id=\"text_9\">\n      <!-- 0.0 -->\n      <g transform=\"translate(20.878125 228.439219)scale(0.1 -0.1)\">\n       <defs>\n        <path d=\"M 2034 4250 \nQ 1547 4250 1301 3770 \nQ 1056 3291 1056 2328 \nQ 1056 1369 1301 889 \nQ 1547 409 2034 409 \nQ 2525 409 2770 889 \nQ 3016 1369 3016 2328 \nQ 3016 3291 2770 3770 \nQ 2525 4250 2034 4250 \nz\nM 2034 4750 \nQ 2819 4750 3233 4129 \nQ 3647 3509 3647 2328 \nQ 3647 1150 3233 529 \nQ 2819 -91 2034 -91 \nQ 1250 -91 836 529 \nQ 422 1150 422 2328 \nQ 422 3509 836 4129 \nQ 1250 4750 2034 4750 \nz\n\" id=\"DejaVuSans-30\" transform=\"scale(0.015625)\"/>\n        <path d=\"M 684 794 \nL 1344 794 \nL 1344 0 \nL 684 0 \nL 684 794 \nz\n\" id=\"DejaVuSans-2e\" transform=\"scale(0.015625)\"/>\n       </defs>\n       <use xlink:href=\"#DejaVuSans-30\"/>\n       <use x=\"63.623047\" xlink:href=\"#DejaVuSans-2e\"/>\n       <use x=\"95.410156\" xlink:href=\"#DejaVuSans-30\"/>\n      </g>\n     </g>\n    </g>\n    <g id=\"ytick_2\">\n     <g id=\"line2d_9\">\n      <g>\n       <use style=\"stroke:#000000;stroke-width:0.8;\" x=\"43.78125\" xlink:href=\"#m4b50d739b6\" y=\"198.360087\"/>\n      </g>\n     </g>\n     <g id=\"text_10\">\n      <!-- 0.5 -->\n      <g transform=\"translate(20.878125 202.159306)scale(0.1 -0.1)\">\n       <use xlink:href=\"#DejaVuSans-30\"/>\n       <use x=\"63.623047\" xlink:href=\"#DejaVuSans-2e\"/>\n       <use x=\"95.410156\" xlink:href=\"#DejaVuSans-35\"/>\n      </g>\n     </g>\n    </g>\n    <g id=\"ytick_3\">\n     <g id=\"line2d_10\">\n      <g>\n       <use style=\"stroke:#000000;stroke-width:0.8;\" x=\"43.78125\" xlink:href=\"#m4b50d739b6\" y=\"172.080174\"/>\n      </g>\n     </g>\n     <g id=\"text_11\">\n      <!-- 1.0 -->\n      <g transform=\"translate(20.878125 175.879393)scale(0.1 -0.1)\">\n       <use xlink:href=\"#DejaVuSans-31\"/>\n       <use x=\"63.623047\" xlink:href=\"#DejaVuSans-2e\"/>\n       <use x=\"95.410156\" xlink:href=\"#DejaVuSans-30\"/>\n      </g>\n     </g>\n    </g>\n    <g id=\"ytick_4\">\n     <g id=\"line2d_11\">\n      <g>\n       <use style=\"stroke:#000000;stroke-width:0.8;\" x=\"43.78125\" xlink:href=\"#m4b50d739b6\" y=\"145.800261\"/>\n      </g>\n     </g>\n     <g id=\"text_12\">\n      <!-- 1.5 -->\n      <g transform=\"translate(20.878125 149.59948)scale(0.1 -0.1)\">\n       <use xlink:href=\"#DejaVuSans-31\"/>\n       <use x=\"63.623047\" xlink:href=\"#DejaVuSans-2e\"/>\n       <use x=\"95.410156\" xlink:href=\"#DejaVuSans-35\"/>\n      </g>\n     </g>\n    </g>\n    <g id=\"ytick_5\">\n     <g id=\"line2d_12\">\n      <g>\n       <use style=\"stroke:#000000;stroke-width:0.8;\" x=\"43.78125\" xlink:href=\"#m4b50d739b6\" y=\"119.520348\"/>\n      </g>\n     </g>\n     <g id=\"text_13\">\n      <!-- 2.0 -->\n      <g transform=\"translate(20.878125 123.319567)scale(0.1 -0.1)\">\n       <use xlink:href=\"#DejaVuSans-32\"/>\n       <use x=\"63.623047\" xlink:href=\"#DejaVuSans-2e\"/>\n       <use x=\"95.410156\" xlink:href=\"#DejaVuSans-30\"/>\n      </g>\n     </g>\n    </g>\n    <g id=\"ytick_6\">\n     <g id=\"line2d_13\">\n      <g>\n       <use style=\"stroke:#000000;stroke-width:0.8;\" x=\"43.78125\" xlink:href=\"#m4b50d739b6\" y=\"93.240435\"/>\n      </g>\n     </g>\n     <g id=\"text_14\">\n      <!-- 2.5 -->\n      <g transform=\"translate(20.878125 97.039654)scale(0.1 -0.1)\">\n       <use xlink:href=\"#DejaVuSans-32\"/>\n       <use x=\"63.623047\" xlink:href=\"#DejaVuSans-2e\"/>\n       <use x=\"95.410156\" xlink:href=\"#DejaVuSans-35\"/>\n      </g>\n     </g>\n    </g>\n    <g id=\"ytick_7\">\n     <g id=\"line2d_14\">\n      <g>\n       <use style=\"stroke:#000000;stroke-width:0.8;\" x=\"43.78125\" xlink:href=\"#m4b50d739b6\" y=\"66.960522\"/>\n      </g>\n     </g>\n     <g id=\"text_15\">\n      <!-- 3.0 -->\n      <g transform=\"translate(20.878125 70.759741)scale(0.1 -0.1)\">\n       <use xlink:href=\"#DejaVuSans-33\"/>\n       <use x=\"63.623047\" xlink:href=\"#DejaVuSans-2e\"/>\n       <use x=\"95.410156\" xlink:href=\"#DejaVuSans-30\"/>\n      </g>\n     </g>\n    </g>\n    <g id=\"ytick_8\">\n     <g id=\"line2d_15\">\n      <g>\n       <use style=\"stroke:#000000;stroke-width:0.8;\" x=\"43.78125\" xlink:href=\"#m4b50d739b6\" y=\"40.680609\"/>\n      </g>\n     </g>\n     <g id=\"text_16\">\n      <!-- 3.5 -->\n      <g transform=\"translate(20.878125 44.479828)scale(0.1 -0.1)\">\n       <use xlink:href=\"#DejaVuSans-33\"/>\n       <use x=\"63.623047\" xlink:href=\"#DejaVuSans-2e\"/>\n       <use x=\"95.410156\" xlink:href=\"#DejaVuSans-35\"/>\n      </g>\n     </g>\n    </g>\n    <g id=\"ytick_9\">\n     <g id=\"line2d_16\">\n      <g>\n       <use style=\"stroke:#000000;stroke-width:0.8;\" x=\"43.78125\" xlink:href=\"#m4b50d739b6\" y=\"14.400696\"/>\n      </g>\n     </g>\n     <g id=\"text_17\">\n      <!-- 4.0 -->\n      <g transform=\"translate(20.878125 18.199915)scale(0.1 -0.1)\">\n       <use xlink:href=\"#DejaVuSans-34\"/>\n       <use x=\"63.623047\" xlink:href=\"#DejaVuSans-2e\"/>\n       <use x=\"95.410156\" xlink:href=\"#DejaVuSans-30\"/>\n      </g>\n     </g>\n    </g>\n    <g id=\"text_18\">\n     <!-- Density -->\n     <g transform=\"translate(14.798438 134.928594)rotate(-90)scale(0.1 -0.1)\">\n      <defs>\n       <path d=\"M 1259 4147 \nL 1259 519 \nL 2022 519 \nQ 2988 519 3436 956 \nQ 3884 1394 3884 2338 \nQ 3884 3275 3436 3711 \nQ 2988 4147 2022 4147 \nL 1259 4147 \nz\nM 628 4666 \nL 1925 4666 \nQ 3281 4666 3915 4102 \nQ 4550 3538 4550 2338 \nQ 4550 1131 3912 565 \nQ 3275 0 1925 0 \nL 628 0 \nL 628 4666 \nz\n\" id=\"DejaVuSans-44\" transform=\"scale(0.015625)\"/>\n       <path d=\"M 3597 1894 \nL 3597 1613 \nL 953 1613 \nQ 991 1019 1311 708 \nQ 1631 397 2203 397 \nQ 2534 397 2845 478 \nQ 3156 559 3463 722 \nL 3463 178 \nQ 3153 47 2828 -22 \nQ 2503 -91 2169 -91 \nQ 1331 -91 842 396 \nQ 353 884 353 1716 \nQ 353 2575 817 3079 \nQ 1281 3584 2069 3584 \nQ 2775 3584 3186 3129 \nQ 3597 2675 3597 1894 \nz\nM 3022 2063 \nQ 3016 2534 2758 2815 \nQ 2500 3097 2075 3097 \nQ 1594 3097 1305 2825 \nQ 1016 2553 972 2059 \nL 3022 2063 \nz\n\" id=\"DejaVuSans-65\" transform=\"scale(0.015625)\"/>\n       <path d=\"M 3513 2113 \nL 3513 0 \nL 2938 0 \nL 2938 2094 \nQ 2938 2591 2744 2837 \nQ 2550 3084 2163 3084 \nQ 1697 3084 1428 2787 \nQ 1159 2491 1159 1978 \nL 1159 0 \nL 581 0 \nL 581 3500 \nL 1159 3500 \nL 1159 2956 \nQ 1366 3272 1645 3428 \nQ 1925 3584 2291 3584 \nQ 2894 3584 3203 3211 \nQ 3513 2838 3513 2113 \nz\n\" id=\"DejaVuSans-6e\" transform=\"scale(0.015625)\"/>\n       <path d=\"M 2834 3397 \nL 2834 2853 \nQ 2591 2978 2328 3040 \nQ 2066 3103 1784 3103 \nQ 1356 3103 1142 2972 \nQ 928 2841 928 2578 \nQ 928 2378 1081 2264 \nQ 1234 2150 1697 2047 \nL 1894 2003 \nQ 2506 1872 2764 1633 \nQ 3022 1394 3022 966 \nQ 3022 478 2636 193 \nQ 2250 -91 1575 -91 \nQ 1294 -91 989 -36 \nQ 684 19 347 128 \nL 347 722 \nQ 666 556 975 473 \nQ 1284 391 1588 391 \nQ 1994 391 2212 530 \nQ 2431 669 2431 922 \nQ 2431 1156 2273 1281 \nQ 2116 1406 1581 1522 \nL 1381 1569 \nQ 847 1681 609 1914 \nQ 372 2147 372 2553 \nQ 372 3047 722 3315 \nQ 1072 3584 1716 3584 \nQ 2034 3584 2315 3537 \nQ 2597 3491 2834 3397 \nz\n\" id=\"DejaVuSans-73\" transform=\"scale(0.015625)\"/>\n       <path d=\"M 603 3500 \nL 1178 3500 \nL 1178 0 \nL 603 0 \nL 603 3500 \nz\nM 603 4863 \nL 1178 4863 \nL 1178 4134 \nL 603 4134 \nL 603 4863 \nz\n\" id=\"DejaVuSans-69\" transform=\"scale(0.015625)\"/>\n       <path d=\"M 1172 4494 \nL 1172 3500 \nL 2356 3500 \nL 2356 3053 \nL 1172 3053 \nL 1172 1153 \nQ 1172 725 1289 603 \nQ 1406 481 1766 481 \nL 2356 481 \nL 2356 0 \nL 1766 0 \nQ 1100 0 847 248 \nQ 594 497 594 1153 \nL 594 3053 \nL 172 3053 \nL 172 3500 \nL 594 3500 \nL 594 4494 \nL 1172 4494 \nz\n\" id=\"DejaVuSans-74\" transform=\"scale(0.015625)\"/>\n       <path d=\"M 2059 -325 \nQ 1816 -950 1584 -1140 \nQ 1353 -1331 966 -1331 \nL 506 -1331 \nL 506 -850 \nL 844 -850 \nQ 1081 -850 1212 -737 \nQ 1344 -625 1503 -206 \nL 1606 56 \nL 191 3500 \nL 800 3500 \nL 1894 763 \nL 2988 3500 \nL 3597 3500 \nL 2059 -325 \nz\n\" id=\"DejaVuSans-79\" transform=\"scale(0.015625)\"/>\n      </defs>\n      <use xlink:href=\"#DejaVuSans-44\"/>\n      <use x=\"77.001953\" xlink:href=\"#DejaVuSans-65\"/>\n      <use x=\"138.525391\" xlink:href=\"#DejaVuSans-6e\"/>\n      <use x=\"201.904297\" xlink:href=\"#DejaVuSans-73\"/>\n      <use x=\"254.003906\" xlink:href=\"#DejaVuSans-69\"/>\n      <use x=\"281.787109\" xlink:href=\"#DejaVuSans-74\"/>\n      <use x=\"320.996094\" xlink:href=\"#DejaVuSans-79\"/>\n     </g>\n    </g>\n   </g>\n   <g id=\"line2d_17\">\n    <path clip-path=\"url(#p38c3a49bae)\" d=\"M 58.999432 224.337979 \nL 60.528897 224.095838 \nL 62.058363 223.699193 \nL 63.587828 223.079178 \nL 65.117294 222.155224 \nL 66.646759 220.844215 \nL 68.176225 219.075877 \nL 69.70569 216.813412 \nL 71.235156 214.075986 \nL 74.294087 207.634711 \nL 75.823552 204.359316 \nL 77.353018 201.43071 \nL 78.882483 199.152819 \nL 80.411949 197.782692 \nL 81.941414 197.48287 \nL 83.47088 198.289668 \nL 85.000345 200.10594 \nL 86.529811 202.720292 \nL 89.588742 209.179282 \nL 91.118208 212.433291 \nL 92.647673 215.389011 \nL 94.177139 217.905479 \nL 95.706604 219.920047 \nL 97.23607 221.432396 \nL 98.765535 222.480025 \nL 100.295001 223.111427 \nL 101.824466 223.361656 \nL 103.353932 223.233236 \nL 104.883397 222.6841 \nL 106.412863 221.624033 \nL 107.942328 219.921394 \nL 109.471794 217.422085 \nL 111.001259 213.98173 \nL 112.530725 209.509336 \nL 114.06019 204.016381 \nL 115.589656 197.660619 \nL 120.178052 177.476089 \nL 121.707518 172.323893 \nL 123.236983 168.954522 \nL 124.766449 167.763972 \nL 126.295914 168.896107 \nL 127.82538 172.214075 \nL 129.354845 177.327511 \nL 130.884311 183.668032 \nL 133.943242 197.490516 \nL 135.472707 203.864847 \nL 137.002173 209.3828 \nL 138.531638 213.88274 \nL 140.061104 217.350477 \nL 141.590569 219.875957 \nL 143.120035 221.604412 \nL 144.6495 222.692825 \nL 146.178966 223.277819 \nL 147.708431 223.456732 \nL 149.237897 223.280805 \nL 150.767362 222.758305 \nL 152.296828 221.865568 \nL 153.826293 220.564347 \nL 155.355759 218.823756 \nL 156.885224 216.644227 \nL 158.41469 214.079389 \nL 163.003086 205.617178 \nL 164.532552 203.326018 \nL 166.062017 201.724122 \nL 167.591483 200.997706 \nL 169.120948 201.234195 \nL 170.650414 202.404939 \nL 172.17988 204.370924 \nL 173.709345 206.909916 \nL 178.297742 215.374736 \nL 179.827207 217.767174 \nL 181.356673 219.745964 \nL 182.886138 221.291616 \nL 184.415604 222.432721 \nL 185.945069 223.225658 \nL 187.474535 223.735553 \nL 189.004 224.021544 \nL 190.533466 224.127509 \nL 192.062931 224.078021 \nL 193.592397 223.878744 \nL 195.121862 223.52042 \nL 196.651328 222.985776 \nL 198.180793 222.258703 \nL 199.710259 221.334699 \nL 202.76919 218.993621 \nL 205.828121 216.455245 \nL 207.357586 215.376806 \nL 208.887052 214.579988 \nL 210.416517 214.156229 \nL 211.945983 214.156231 \nL 213.475448 214.579996 \nL 215.004914 215.376831 \nL 216.534379 216.455318 \nL 222.652241 221.33778 \nL 224.181707 222.265808 \nL 225.711172 223.001493 \nL 227.240638 223.553785 \nL 228.770103 223.94671 \nL 231.829034 224.376693 \nL 234.887965 224.510145 \nL 239.476362 224.406977 \nL 244.064758 224.01784 \nL 251.712086 223.148619 \nL 254.771017 223.054236 \nL 257.829948 223.210407 \nL 263.94781 223.931828 \nL 268.536207 224.368681 \nL 273.124603 224.566671 \nL 280.771931 224.608677 \nL 289.948724 224.438347 \nL 297.596051 224.303171 \nL 305.243379 224.439422 \nL 315.949637 224.622421 \nL 332.773758 224.585269 \nL 346.538948 224.56821 \nL 363.363068 224.638931 \nL 363.363068 224.638931 \n\" style=\"fill:none;stroke:#1f77b4;stroke-linecap:square;stroke-width:1.5;\"/>\n   </g>\n   <g id=\"patch_53\">\n    <path d=\"M 43.78125 224.64 \nL 43.78125 7.2 \n\" style=\"fill:none;stroke:#000000;stroke-linecap:square;stroke-linejoin:miter;stroke-width:0.8;\"/>\n   </g>\n   <g id=\"patch_54\">\n    <path d=\"M 378.58125 224.64 \nL 378.58125 7.2 \n\" style=\"fill:none;stroke:#000000;stroke-linecap:square;stroke-linejoin:miter;stroke-width:0.8;\"/>\n   </g>\n   <g id=\"patch_55\">\n    <path d=\"M 43.78125 224.64 \nL 378.58125 224.64 \n\" style=\"fill:none;stroke:#000000;stroke-linecap:square;stroke-linejoin:miter;stroke-width:0.8;\"/>\n   </g>\n   <g id=\"patch_56\">\n    <path d=\"M 43.78125 7.2 \nL 378.58125 7.2 \n\" style=\"fill:none;stroke:#000000;stroke-linecap:square;stroke-linejoin:miter;stroke-width:0.8;\"/>\n   </g>\n  </g>\n </g>\n <defs>\n  <clipPath id=\"p38c3a49bae\">\n   <rect height=\"217.44\" width=\"334.8\" x=\"43.78125\" y=\"7.2\"/>\n  </clipPath>\n </defs>\n</svg>\n",
      "image/png": "[encoded data removed]"
     },
     "metadata": {
      "needs_background": "light"
     }
    }
   ],
   "source": [
    "sns.distplot(sample_df['BATHSTOTAL'])\n",
    "plt.show()"
   ]
  },
  {
   "cell_type": "code",
   "execution_count": 38,
   "metadata": {},
   "outputs": [
    {
     "output_type": "stream",
     "name": "stderr",
     "text": [
      "/home/manhcuong/.local/lib/python3.8/site-packages/seaborn/distributions.py:2557: FutureWarning: `distplot` is a deprecated function and will be removed in a future version. Please adapt your code to use either `displot` (a figure-level function with similar flexibility) or `histplot` (an axes-level function for histograms).\n  warnings.warn(msg, FutureWarning)\n"
     ]
    },
    {
     "output_type": "display_data",
     "data": {
      "text/plain": "<Figure size 432x288 with 1 Axes>",
      "image/svg+xml": "<?xml version=\"1.0\" encoding=\"utf-8\" standalone=\"no\"?>\n<!DOCTYPE svg PUBLIC \"-//W3C//DTD SVG 1.1//EN\"\n  \"http://www.w3.org/Graphics/SVG/1.1/DTD/svg11.dtd\">\n<svg height=\"262.19625pt\" version=\"1.1\" viewBox=\"0 0 385.78125 262.19625\" width=\"385.78125pt\" xmlns=\"http://www.w3.org/2000/svg\" xmlns:xlink=\"http://www.w3.org/1999/xlink\">\n <metadata>\n  <rdf:RDF xmlns:cc=\"http://creativecommons.org/ns#\" xmlns:dc=\"http://purl.org/dc/elements/1.1/\" xmlns:rdf=\"http://www.w3.org/1999/02/22-rdf-syntax-ns#\">\n   <cc:Work>\n    <dc:type rdf:resource=\"http://purl.org/dc/dcmitype/StillImage\"/>\n    <dc:date>2021-04-18T10:56:16.311769</dc:date>\n    <dc:format>image/svg+xml</dc:format>\n    <dc:creator>\n     <cc:Agent>\n      <dc:title>Matplotlib v3.4.1, https://matplotlib.org/</dc:title>\n     </cc:Agent>\n    </dc:creator>\n   </cc:Work>\n  </rdf:RDF>\n </metadata>\n <defs>\n  <style type=\"text/css\">*{stroke-linecap:butt;stroke-linejoin:round;}</style>\n </defs>\n <g id=\"figure_1\">\n  <g id=\"patch_1\">\n   <path d=\"M 0 262.19625 \nL 385.78125 262.19625 \nL 385.78125 0 \nL 0 0 \nz\n\" style=\"fill:none;\"/>\n  </g>\n  <g id=\"axes_1\">\n   <g id=\"patch_2\">\n    <path d=\"M 43.78125 224.64 \nL 378.58125 224.64 \nL 378.58125 7.2 \nL 43.78125 7.2 \nz\n\" style=\"fill:#ffffff;\"/>\n   </g>\n   <g id=\"patch_3\">\n    <path clip-path=\"url(#pa3725b0575)\" d=\"M 96.531134 224.64 \nL 105.350374 224.64 \nL 105.350374 125.652328 \nL 96.531134 125.652328 \nz\n\" style=\"fill:#1f77b4;opacity:0.4;\"/>\n   </g>\n   <g id=\"patch_4\">\n    <path clip-path=\"url(#pa3725b0575)\" d=\"M 105.350374 224.64 \nL 114.169613 224.64 \nL 114.169613 224.64 \nL 105.350374 224.64 \nz\n\" style=\"fill:#1f77b4;opacity:0.4;\"/>\n   </g>\n   <g id=\"patch_5\">\n    <path clip-path=\"url(#pa3725b0575)\" d=\"M 114.169613 224.64 \nL 122.988853 224.64 \nL 122.988853 224.64 \nL 114.169613 224.64 \nz\n\" style=\"fill:#1f77b4;opacity:0.4;\"/>\n   </g>\n   <g id=\"patch_6\">\n    <path clip-path=\"url(#pa3725b0575)\" d=\"M 122.988853 224.64 \nL 131.808093 224.64 \nL 131.808093 224.64 \nL 122.988853 224.64 \nz\n\" style=\"fill:#1f77b4;opacity:0.4;\"/>\n   </g>\n   <g id=\"patch_7\">\n    <path clip-path=\"url(#pa3725b0575)\" d=\"M 131.808093 224.64 \nL 140.627332 224.64 \nL 140.627332 224.64 \nL 131.808093 224.64 \nz\n\" style=\"fill:#1f77b4;opacity:0.4;\"/>\n   </g>\n   <g id=\"patch_8\">\n    <path clip-path=\"url(#pa3725b0575)\" d=\"M 140.627332 224.64 \nL 149.446572 224.64 \nL 149.446572 224.64 \nL 140.627332 224.64 \nz\n\" style=\"fill:#1f77b4;opacity:0.4;\"/>\n   </g>\n   <g id=\"patch_9\">\n    <path clip-path=\"url(#pa3725b0575)\" d=\"M 149.446572 224.64 \nL 158.265812 224.64 \nL 158.265812 224.64 \nL 149.446572 224.64 \nz\n\" style=\"fill:#1f77b4;opacity:0.4;\"/>\n   </g>\n   <g id=\"patch_10\">\n    <path clip-path=\"url(#pa3725b0575)\" d=\"M 158.265812 224.64 \nL 167.085052 224.64 \nL 167.085052 224.64 \nL 158.265812 224.64 \nz\n\" style=\"fill:#1f77b4;opacity:0.4;\"/>\n   </g>\n   <g id=\"patch_11\">\n    <path clip-path=\"url(#pa3725b0575)\" d=\"M 167.085052 224.64 \nL 175.904291 224.64 \nL 175.904291 17.554286 \nL 167.085052 17.554286 \nz\n\" style=\"fill:#1f77b4;opacity:0.4;\"/>\n   </g>\n   <g id=\"patch_12\">\n    <path clip-path=\"url(#pa3725b0575)\" d=\"M 175.904291 224.64 \nL 184.723531 224.64 \nL 184.723531 224.64 \nL 175.904291 224.64 \nz\n\" style=\"fill:#1f77b4;opacity:0.4;\"/>\n   </g>\n   <g id=\"patch_13\">\n    <path clip-path=\"url(#pa3725b0575)\" d=\"M 184.723531 224.64 \nL 193.542771 224.64 \nL 193.542771 224.64 \nL 184.723531 224.64 \nz\n\" style=\"fill:#1f77b4;opacity:0.4;\"/>\n   </g>\n   <g id=\"patch_14\">\n    <path clip-path=\"url(#pa3725b0575)\" d=\"M 193.542771 224.64 \nL 202.36201 224.64 \nL 202.36201 224.64 \nL 193.542771 224.64 \nz\n\" style=\"fill:#1f77b4;opacity:0.4;\"/>\n   </g>\n   <g id=\"patch_15\">\n    <path clip-path=\"url(#pa3725b0575)\" d=\"M 202.36201 224.64 \nL 211.18125 224.64 \nL 211.18125 224.64 \nL 202.36201 224.64 \nz\n\" style=\"fill:#1f77b4;opacity:0.4;\"/>\n   </g>\n   <g id=\"patch_16\">\n    <path clip-path=\"url(#pa3725b0575)\" d=\"M 211.18125 224.64 \nL 220.00049 224.64 \nL 220.00049 224.64 \nL 211.18125 224.64 \nz\n\" style=\"fill:#1f77b4;opacity:0.4;\"/>\n   </g>\n   <g id=\"patch_17\">\n    <path clip-path=\"url(#pa3725b0575)\" d=\"M 220.00049 224.64 \nL 228.819729 224.64 \nL 228.819729 224.64 \nL 220.00049 224.64 \nz\n\" style=\"fill:#1f77b4;opacity:0.4;\"/>\n   </g>\n   <g id=\"patch_18\">\n    <path clip-path=\"url(#pa3725b0575)\" d=\"M 228.819729 224.64 \nL 237.638969 224.64 \nL 237.638969 224.64 \nL 228.819729 224.64 \nz\n\" style=\"fill:#1f77b4;opacity:0.4;\"/>\n   </g>\n   <g id=\"patch_19\">\n    <path clip-path=\"url(#pa3725b0575)\" d=\"M 237.638969 224.64 \nL 246.458209 224.64 \nL 246.458209 224.64 \nL 237.638969 224.64 \nz\n\" style=\"fill:#1f77b4;opacity:0.4;\"/>\n   </g>\n   <g id=\"patch_20\">\n    <path clip-path=\"url(#pa3725b0575)\" d=\"M 246.458209 224.64 \nL 255.277448 224.64 \nL 255.277448 138.441885 \nL 246.458209 138.441885 \nz\n\" style=\"fill:#1f77b4;opacity:0.4;\"/>\n   </g>\n   <g id=\"patch_21\">\n    <path clip-path=\"url(#pa3725b0575)\" d=\"M 255.277448 224.64 \nL 264.096688 224.64 \nL 264.096688 224.64 \nL 255.277448 224.64 \nz\n\" style=\"fill:#1f77b4;opacity:0.4;\"/>\n   </g>\n   <g id=\"patch_22\">\n    <path clip-path=\"url(#pa3725b0575)\" d=\"M 264.096688 224.64 \nL 272.915928 224.64 \nL 272.915928 224.64 \nL 264.096688 224.64 \nz\n\" style=\"fill:#1f77b4;opacity:0.4;\"/>\n   </g>\n   <g id=\"patch_23\">\n    <path clip-path=\"url(#pa3725b0575)\" d=\"M 272.915928 224.64 \nL 281.735168 224.64 \nL 281.735168 224.64 \nL 272.915928 224.64 \nz\n\" style=\"fill:#1f77b4;opacity:0.4;\"/>\n   </g>\n   <g id=\"patch_24\">\n    <path clip-path=\"url(#pa3725b0575)\" d=\"M 281.735168 224.64 \nL 290.554407 224.64 \nL 290.554407 224.64 \nL 281.735168 224.64 \nz\n\" style=\"fill:#1f77b4;opacity:0.4;\"/>\n   </g>\n   <g id=\"patch_25\">\n    <path clip-path=\"url(#pa3725b0575)\" d=\"M 290.554407 224.64 \nL 299.373647 224.64 \nL 299.373647 224.64 \nL 290.554407 224.64 \nz\n\" style=\"fill:#1f77b4;opacity:0.4;\"/>\n   </g>\n   <g id=\"patch_26\">\n    <path clip-path=\"url(#pa3725b0575)\" d=\"M 299.373647 224.64 \nL 308.192887 224.64 \nL 308.192887 224.64 \nL 299.373647 224.64 \nz\n\" style=\"fill:#1f77b4;opacity:0.4;\"/>\n   </g>\n   <g id=\"patch_27\">\n    <path clip-path=\"url(#pa3725b0575)\" d=\"M 308.192887 224.64 \nL 317.012126 224.64 \nL 317.012126 224.64 \nL 308.192887 224.64 \nz\n\" style=\"fill:#1f77b4;opacity:0.4;\"/>\n   </g>\n   <g id=\"patch_28\">\n    <path clip-path=\"url(#pa3725b0575)\" d=\"M 317.012126 224.64 \nL 325.831366 224.64 \nL 325.831366 178.912951 \nL 317.012126 178.912951 \nz\n\" style=\"fill:#1f77b4;opacity:0.4;\"/>\n   </g>\n   <g id=\"matplotlib.axis_1\">\n    <g id=\"xtick_1\">\n     <g id=\"line2d_1\">\n      <defs>\n       <path d=\"M 0 0 \nL 0 3.5 \n\" id=\"m0f0cee53ff\" style=\"stroke:#000000;stroke-width:0.8;\"/>\n      </defs>\n      <g>\n       <use style=\"stroke:#000000;stroke-width:0.8;\" x=\"58.314429\" xlink:href=\"#m0f0cee53ff\" y=\"224.64\"/>\n      </g>\n     </g>\n     <g id=\"text_1\">\n      <!-- 0.5 -->\n      <g transform=\"translate(50.362866 239.238437)scale(0.1 -0.1)\">\n       <defs>\n        <path d=\"M 2034 4250 \nQ 1547 4250 1301 3770 \nQ 1056 3291 1056 2328 \nQ 1056 1369 1301 889 \nQ 1547 409 2034 409 \nQ 2525 409 2770 889 \nQ 3016 1369 3016 2328 \nQ 3016 3291 2770 3770 \nQ 2525 4250 2034 4250 \nz\nM 2034 4750 \nQ 2819 4750 3233 4129 \nQ 3647 3509 3647 2328 \nQ 3647 1150 3233 529 \nQ 2819 -91 2034 -91 \nQ 1250 -91 836 529 \nQ 422 1150 422 2328 \nQ 422 3509 836 4129 \nQ 1250 4750 2034 4750 \nz\n\" id=\"DejaVuSans-30\" transform=\"scale(0.015625)\"/>\n        <path d=\"M 684 794 \nL 1344 794 \nL 1344 0 \nL 684 0 \nL 684 794 \nz\n\" id=\"DejaVuSans-2e\" transform=\"scale(0.015625)\"/>\n        <path d=\"M 691 4666 \nL 3169 4666 \nL 3169 4134 \nL 1269 4134 \nL 1269 2991 \nQ 1406 3038 1543 3061 \nQ 1681 3084 1819 3084 \nQ 2600 3084 3056 2656 \nQ 3513 2228 3513 1497 \nQ 3513 744 3044 326 \nQ 2575 -91 1722 -91 \nQ 1428 -91 1123 -41 \nQ 819 9 494 109 \nL 494 744 \nQ 775 591 1075 516 \nQ 1375 441 1709 441 \nQ 2250 441 2565 725 \nQ 2881 1009 2881 1497 \nQ 2881 1984 2565 2268 \nQ 2250 2553 1709 2553 \nQ 1456 2553 1204 2497 \nQ 953 2441 691 2322 \nL 691 4666 \nz\n\" id=\"DejaVuSans-35\" transform=\"scale(0.015625)\"/>\n       </defs>\n       <use xlink:href=\"#DejaVuSans-30\"/>\n       <use x=\"63.623047\" xlink:href=\"#DejaVuSans-2e\"/>\n       <use x=\"95.410156\" xlink:href=\"#DejaVuSans-35\"/>\n      </g>\n     </g>\n    </g>\n    <g id=\"xtick_2\">\n     <g id=\"line2d_2\">\n      <g>\n       <use style=\"stroke:#000000;stroke-width:0.8;\" x=\"96.531134\" xlink:href=\"#m0f0cee53ff\" y=\"224.64\"/>\n      </g>\n     </g>\n     <g id=\"text_2\">\n      <!-- 1.0 -->\n      <g transform=\"translate(88.579571 239.238437)scale(0.1 -0.1)\">\n       <defs>\n        <path d=\"M 794 531 \nL 1825 531 \nL 1825 4091 \nL 703 3866 \nL 703 4441 \nL 1819 4666 \nL 2450 4666 \nL 2450 531 \nL 3481 531 \nL 3481 0 \nL 794 0 \nL 794 531 \nz\n\" id=\"DejaVuSans-31\" transform=\"scale(0.015625)\"/>\n       </defs>\n       <use xlink:href=\"#DejaVuSans-31\"/>\n       <use x=\"63.623047\" xlink:href=\"#DejaVuSans-2e\"/>\n       <use x=\"95.410156\" xlink:href=\"#DejaVuSans-30\"/>\n      </g>\n     </g>\n    </g>\n    <g id=\"xtick_3\">\n     <g id=\"line2d_3\">\n      <g>\n       <use style=\"stroke:#000000;stroke-width:0.8;\" x=\"134.747839\" xlink:href=\"#m0f0cee53ff\" y=\"224.64\"/>\n      </g>\n     </g>\n     <g id=\"text_3\">\n      <!-- 1.5 -->\n      <g transform=\"translate(126.796277 239.238437)scale(0.1 -0.1)\">\n       <use xlink:href=\"#DejaVuSans-31\"/>\n       <use x=\"63.623047\" xlink:href=\"#DejaVuSans-2e\"/>\n       <use x=\"95.410156\" xlink:href=\"#DejaVuSans-35\"/>\n      </g>\n     </g>\n    </g>\n    <g id=\"xtick_4\">\n     <g id=\"line2d_4\">\n      <g>\n       <use style=\"stroke:#000000;stroke-width:0.8;\" x=\"172.964545\" xlink:href=\"#m0f0cee53ff\" y=\"224.64\"/>\n      </g>\n     </g>\n     <g id=\"text_4\">\n      <!-- 2.0 -->\n      <g transform=\"translate(165.012982 239.238437)scale(0.1 -0.1)\">\n       <defs>\n        <path d=\"M 1228 531 \nL 3431 531 \nL 3431 0 \nL 469 0 \nL 469 531 \nQ 828 903 1448 1529 \nQ 2069 2156 2228 2338 \nQ 2531 2678 2651 2914 \nQ 2772 3150 2772 3378 \nQ 2772 3750 2511 3984 \nQ 2250 4219 1831 4219 \nQ 1534 4219 1204 4116 \nQ 875 4013 500 3803 \nL 500 4441 \nQ 881 4594 1212 4672 \nQ 1544 4750 1819 4750 \nQ 2544 4750 2975 4387 \nQ 3406 4025 3406 3419 \nQ 3406 3131 3298 2873 \nQ 3191 2616 2906 2266 \nQ 2828 2175 2409 1742 \nQ 1991 1309 1228 531 \nz\n\" id=\"DejaVuSans-32\" transform=\"scale(0.015625)\"/>\n       </defs>\n       <use xlink:href=\"#DejaVuSans-32\"/>\n       <use x=\"63.623047\" xlink:href=\"#DejaVuSans-2e\"/>\n       <use x=\"95.410156\" xlink:href=\"#DejaVuSans-30\"/>\n      </g>\n     </g>\n    </g>\n    <g id=\"xtick_5\">\n     <g id=\"line2d_5\">\n      <g>\n       <use style=\"stroke:#000000;stroke-width:0.8;\" x=\"211.18125\" xlink:href=\"#m0f0cee53ff\" y=\"224.64\"/>\n      </g>\n     </g>\n     <g id=\"text_5\">\n      <!-- 2.5 -->\n      <g transform=\"translate(203.229688 239.238437)scale(0.1 -0.1)\">\n       <use xlink:href=\"#DejaVuSans-32\"/>\n       <use x=\"63.623047\" xlink:href=\"#DejaVuSans-2e\"/>\n       <use x=\"95.410156\" xlink:href=\"#DejaVuSans-35\"/>\n      </g>\n     </g>\n    </g>\n    <g id=\"xtick_6\">\n     <g id=\"line2d_6\">\n      <g>\n       <use style=\"stroke:#000000;stroke-width:0.8;\" x=\"249.397955\" xlink:href=\"#m0f0cee53ff\" y=\"224.64\"/>\n      </g>\n     </g>\n     <g id=\"text_6\">\n      <!-- 3.0 -->\n      <g transform=\"translate(241.446393 239.238437)scale(0.1 -0.1)\">\n       <defs>\n        <path d=\"M 2597 2516 \nQ 3050 2419 3304 2112 \nQ 3559 1806 3559 1356 \nQ 3559 666 3084 287 \nQ 2609 -91 1734 -91 \nQ 1441 -91 1130 -33 \nQ 819 25 488 141 \nL 488 750 \nQ 750 597 1062 519 \nQ 1375 441 1716 441 \nQ 2309 441 2620 675 \nQ 2931 909 2931 1356 \nQ 2931 1769 2642 2001 \nQ 2353 2234 1838 2234 \nL 1294 2234 \nL 1294 2753 \nL 1863 2753 \nQ 2328 2753 2575 2939 \nQ 2822 3125 2822 3475 \nQ 2822 3834 2567 4026 \nQ 2313 4219 1838 4219 \nQ 1578 4219 1281 4162 \nQ 984 4106 628 3988 \nL 628 4550 \nQ 988 4650 1302 4700 \nQ 1616 4750 1894 4750 \nQ 2613 4750 3031 4423 \nQ 3450 4097 3450 3541 \nQ 3450 3153 3228 2886 \nQ 3006 2619 2597 2516 \nz\n\" id=\"DejaVuSans-33\" transform=\"scale(0.015625)\"/>\n       </defs>\n       <use xlink:href=\"#DejaVuSans-33\"/>\n       <use x=\"63.623047\" xlink:href=\"#DejaVuSans-2e\"/>\n       <use x=\"95.410156\" xlink:href=\"#DejaVuSans-30\"/>\n      </g>\n     </g>\n    </g>\n    <g id=\"xtick_7\">\n     <g id=\"line2d_7\">\n      <g>\n       <use style=\"stroke:#000000;stroke-width:0.8;\" x=\"287.614661\" xlink:href=\"#m0f0cee53ff\" y=\"224.64\"/>\n      </g>\n     </g>\n     <g id=\"text_7\">\n      <!-- 3.5 -->\n      <g transform=\"translate(279.663098 239.238437)scale(0.1 -0.1)\">\n       <use xlink:href=\"#DejaVuSans-33\"/>\n       <use x=\"63.623047\" xlink:href=\"#DejaVuSans-2e\"/>\n       <use x=\"95.410156\" xlink:href=\"#DejaVuSans-35\"/>\n      </g>\n     </g>\n    </g>\n    <g id=\"xtick_8\">\n     <g id=\"line2d_8\">\n      <g>\n       <use style=\"stroke:#000000;stroke-width:0.8;\" x=\"325.831366\" xlink:href=\"#m0f0cee53ff\" y=\"224.64\"/>\n      </g>\n     </g>\n     <g id=\"text_8\">\n      <!-- 4.0 -->\n      <g transform=\"translate(317.879804 239.238437)scale(0.1 -0.1)\">\n       <defs>\n        <path d=\"M 2419 4116 \nL 825 1625 \nL 2419 1625 \nL 2419 4116 \nz\nM 2253 4666 \nL 3047 4666 \nL 3047 1625 \nL 3713 1625 \nL 3713 1100 \nL 3047 1100 \nL 3047 0 \nL 2419 0 \nL 2419 1100 \nL 313 1100 \nL 313 1709 \nL 2253 4666 \nz\n\" id=\"DejaVuSans-34\" transform=\"scale(0.015625)\"/>\n       </defs>\n       <use xlink:href=\"#DejaVuSans-34\"/>\n       <use x=\"63.623047\" xlink:href=\"#DejaVuSans-2e\"/>\n       <use x=\"95.410156\" xlink:href=\"#DejaVuSans-30\"/>\n      </g>\n     </g>\n    </g>\n    <g id=\"xtick_9\">\n     <g id=\"line2d_9\">\n      <g>\n       <use style=\"stroke:#000000;stroke-width:0.8;\" x=\"364.048071\" xlink:href=\"#m0f0cee53ff\" y=\"224.64\"/>\n      </g>\n     </g>\n     <g id=\"text_9\">\n      <!-- 4.5 -->\n      <g transform=\"translate(356.096509 239.238437)scale(0.1 -0.1)\">\n       <use xlink:href=\"#DejaVuSans-34\"/>\n       <use x=\"63.623047\" xlink:href=\"#DejaVuSans-2e\"/>\n       <use x=\"95.410156\" xlink:href=\"#DejaVuSans-35\"/>\n      </g>\n     </g>\n    </g>\n    <g id=\"text_10\">\n     <!-- baths -->\n     <g transform=\"translate(197.209375 252.916562)scale(0.1 -0.1)\">\n      <defs>\n       <path d=\"M 3116 1747 \nQ 3116 2381 2855 2742 \nQ 2594 3103 2138 3103 \nQ 1681 3103 1420 2742 \nQ 1159 2381 1159 1747 \nQ 1159 1113 1420 752 \nQ 1681 391 2138 391 \nQ 2594 391 2855 752 \nQ 3116 1113 3116 1747 \nz\nM 1159 2969 \nQ 1341 3281 1617 3432 \nQ 1894 3584 2278 3584 \nQ 2916 3584 3314 3078 \nQ 3713 2572 3713 1747 \nQ 3713 922 3314 415 \nQ 2916 -91 2278 -91 \nQ 1894 -91 1617 61 \nQ 1341 213 1159 525 \nL 1159 0 \nL 581 0 \nL 581 4863 \nL 1159 4863 \nL 1159 2969 \nz\n\" id=\"DejaVuSans-62\" transform=\"scale(0.015625)\"/>\n       <path d=\"M 2194 1759 \nQ 1497 1759 1228 1600 \nQ 959 1441 959 1056 \nQ 959 750 1161 570 \nQ 1363 391 1709 391 \nQ 2188 391 2477 730 \nQ 2766 1069 2766 1631 \nL 2766 1759 \nL 2194 1759 \nz\nM 3341 1997 \nL 3341 0 \nL 2766 0 \nL 2766 531 \nQ 2569 213 2275 61 \nQ 1981 -91 1556 -91 \nQ 1019 -91 701 211 \nQ 384 513 384 1019 \nQ 384 1609 779 1909 \nQ 1175 2209 1959 2209 \nL 2766 2209 \nL 2766 2266 \nQ 2766 2663 2505 2880 \nQ 2244 3097 1772 3097 \nQ 1472 3097 1187 3025 \nQ 903 2953 641 2809 \nL 641 3341 \nQ 956 3463 1253 3523 \nQ 1550 3584 1831 3584 \nQ 2591 3584 2966 3190 \nQ 3341 2797 3341 1997 \nz\n\" id=\"DejaVuSans-61\" transform=\"scale(0.015625)\"/>\n       <path d=\"M 1172 4494 \nL 1172 3500 \nL 2356 3500 \nL 2356 3053 \nL 1172 3053 \nL 1172 1153 \nQ 1172 725 1289 603 \nQ 1406 481 1766 481 \nL 2356 481 \nL 2356 0 \nL 1766 0 \nQ 1100 0 847 248 \nQ 594 497 594 1153 \nL 594 3053 \nL 172 3053 \nL 172 3500 \nL 594 3500 \nL 594 4494 \nL 1172 4494 \nz\n\" id=\"DejaVuSans-74\" transform=\"scale(0.015625)\"/>\n       <path d=\"M 3513 2113 \nL 3513 0 \nL 2938 0 \nL 2938 2094 \nQ 2938 2591 2744 2837 \nQ 2550 3084 2163 3084 \nQ 1697 3084 1428 2787 \nQ 1159 2491 1159 1978 \nL 1159 0 \nL 581 0 \nL 581 4863 \nL 1159 4863 \nL 1159 2956 \nQ 1366 3272 1645 3428 \nQ 1925 3584 2291 3584 \nQ 2894 3584 3203 3211 \nQ 3513 2838 3513 2113 \nz\n\" id=\"DejaVuSans-68\" transform=\"scale(0.015625)\"/>\n       <path d=\"M 2834 3397 \nL 2834 2853 \nQ 2591 2978 2328 3040 \nQ 2066 3103 1784 3103 \nQ 1356 3103 1142 2972 \nQ 928 2841 928 2578 \nQ 928 2378 1081 2264 \nQ 1234 2150 1697 2047 \nL 1894 2003 \nQ 2506 1872 2764 1633 \nQ 3022 1394 3022 966 \nQ 3022 478 2636 193 \nQ 2250 -91 1575 -91 \nQ 1294 -91 989 -36 \nQ 684 19 347 128 \nL 347 722 \nQ 666 556 975 473 \nQ 1284 391 1588 391 \nQ 1994 391 2212 530 \nQ 2431 669 2431 922 \nQ 2431 1156 2273 1281 \nQ 2116 1406 1581 1522 \nL 1381 1569 \nQ 847 1681 609 1914 \nQ 372 2147 372 2553 \nQ 372 3047 722 3315 \nQ 1072 3584 1716 3584 \nQ 2034 3584 2315 3537 \nQ 2597 3491 2834 3397 \nz\n\" id=\"DejaVuSans-73\" transform=\"scale(0.015625)\"/>\n      </defs>\n      <use xlink:href=\"#DejaVuSans-62\"/>\n      <use x=\"63.476562\" xlink:href=\"#DejaVuSans-61\"/>\n      <use x=\"124.755859\" xlink:href=\"#DejaVuSans-74\"/>\n      <use x=\"163.964844\" xlink:href=\"#DejaVuSans-68\"/>\n      <use x=\"227.34375\" xlink:href=\"#DejaVuSans-73\"/>\n     </g>\n    </g>\n   </g>\n   <g id=\"matplotlib.axis_2\">\n    <g id=\"ytick_1\">\n     <g id=\"line2d_10\">\n      <defs>\n       <path d=\"M 0 0 \nL -3.5 0 \n\" id=\"m274d7781cc\" style=\"stroke:#000000;stroke-width:0.8;\"/>\n      </defs>\n      <g>\n       <use style=\"stroke:#000000;stroke-width:0.8;\" x=\"43.78125\" xlink:href=\"#m274d7781cc\" y=\"224.64\"/>\n      </g>\n     </g>\n     <g id=\"text_11\">\n      <!-- 0.0 -->\n      <g transform=\"translate(20.878125 228.439219)scale(0.1 -0.1)\">\n       <use xlink:href=\"#DejaVuSans-30\"/>\n       <use x=\"63.623047\" xlink:href=\"#DejaVuSans-2e\"/>\n       <use x=\"95.410156\" xlink:href=\"#DejaVuSans-30\"/>\n      </g>\n     </g>\n    </g>\n    <g id=\"ytick_2\">\n     <g id=\"line2d_11\">\n      <g>\n       <use style=\"stroke:#000000;stroke-width:0.8;\" x=\"43.78125\" xlink:href=\"#m274d7781cc\" y=\"199.370853\"/>\n      </g>\n     </g>\n     <g id=\"text_12\">\n      <!-- 0.5 -->\n      <g transform=\"translate(20.878125 203.170072)scale(0.1 -0.1)\">\n       <use xlink:href=\"#DejaVuSans-30\"/>\n       <use x=\"63.623047\" xlink:href=\"#DejaVuSans-2e\"/>\n       <use x=\"95.410156\" xlink:href=\"#DejaVuSans-35\"/>\n      </g>\n     </g>\n    </g>\n    <g id=\"ytick_3\">\n     <g id=\"line2d_12\">\n      <g>\n       <use style=\"stroke:#000000;stroke-width:0.8;\" x=\"43.78125\" xlink:href=\"#m274d7781cc\" y=\"174.101706\"/>\n      </g>\n     </g>\n     <g id=\"text_13\">\n      <!-- 1.0 -->\n      <g transform=\"translate(20.878125 177.900925)scale(0.1 -0.1)\">\n       <use xlink:href=\"#DejaVuSans-31\"/>\n       <use x=\"63.623047\" xlink:href=\"#DejaVuSans-2e\"/>\n       <use x=\"95.410156\" xlink:href=\"#DejaVuSans-30\"/>\n      </g>\n     </g>\n    </g>\n    <g id=\"ytick_4\">\n     <g id=\"line2d_13\">\n      <g>\n       <use style=\"stroke:#000000;stroke-width:0.8;\" x=\"43.78125\" xlink:href=\"#m274d7781cc\" y=\"148.832559\"/>\n      </g>\n     </g>\n     <g id=\"text_14\">\n      <!-- 1.5 -->\n      <g transform=\"translate(20.878125 152.631777)scale(0.1 -0.1)\">\n       <use xlink:href=\"#DejaVuSans-31\"/>\n       <use x=\"63.623047\" xlink:href=\"#DejaVuSans-2e\"/>\n       <use x=\"95.410156\" xlink:href=\"#DejaVuSans-35\"/>\n      </g>\n     </g>\n    </g>\n    <g id=\"ytick_5\">\n     <g id=\"line2d_14\">\n      <g>\n       <use style=\"stroke:#000000;stroke-width:0.8;\" x=\"43.78125\" xlink:href=\"#m274d7781cc\" y=\"123.563412\"/>\n      </g>\n     </g>\n     <g id=\"text_15\">\n      <!-- 2.0 -->\n      <g transform=\"translate(20.878125 127.36263)scale(0.1 -0.1)\">\n       <use xlink:href=\"#DejaVuSans-32\"/>\n       <use x=\"63.623047\" xlink:href=\"#DejaVuSans-2e\"/>\n       <use x=\"95.410156\" xlink:href=\"#DejaVuSans-30\"/>\n      </g>\n     </g>\n    </g>\n    <g id=\"ytick_6\">\n     <g id=\"line2d_15\">\n      <g>\n       <use style=\"stroke:#000000;stroke-width:0.8;\" x=\"43.78125\" xlink:href=\"#m274d7781cc\" y=\"98.294265\"/>\n      </g>\n     </g>\n     <g id=\"text_16\">\n      <!-- 2.5 -->\n      <g transform=\"translate(20.878125 102.093483)scale(0.1 -0.1)\">\n       <use xlink:href=\"#DejaVuSans-32\"/>\n       <use x=\"63.623047\" xlink:href=\"#DejaVuSans-2e\"/>\n       <use x=\"95.410156\" xlink:href=\"#DejaVuSans-35\"/>\n      </g>\n     </g>\n    </g>\n    <g id=\"ytick_7\">\n     <g id=\"line2d_16\">\n      <g>\n       <use style=\"stroke:#000000;stroke-width:0.8;\" x=\"43.78125\" xlink:href=\"#m274d7781cc\" y=\"73.025117\"/>\n      </g>\n     </g>\n     <g id=\"text_17\">\n      <!-- 3.0 -->\n      <g transform=\"translate(20.878125 76.824336)scale(0.1 -0.1)\">\n       <use xlink:href=\"#DejaVuSans-33\"/>\n       <use x=\"63.623047\" xlink:href=\"#DejaVuSans-2e\"/>\n       <use x=\"95.410156\" xlink:href=\"#DejaVuSans-30\"/>\n      </g>\n     </g>\n    </g>\n    <g id=\"ytick_8\">\n     <g id=\"line2d_17\">\n      <g>\n       <use style=\"stroke:#000000;stroke-width:0.8;\" x=\"43.78125\" xlink:href=\"#m274d7781cc\" y=\"47.75597\"/>\n      </g>\n     </g>\n     <g id=\"text_18\">\n      <!-- 3.5 -->\n      <g transform=\"translate(20.878125 51.555189)scale(0.1 -0.1)\">\n       <use xlink:href=\"#DejaVuSans-33\"/>\n       <use x=\"63.623047\" xlink:href=\"#DejaVuSans-2e\"/>\n       <use x=\"95.410156\" xlink:href=\"#DejaVuSans-35\"/>\n      </g>\n     </g>\n    </g>\n    <g id=\"ytick_9\">\n     <g id=\"line2d_18\">\n      <g>\n       <use style=\"stroke:#000000;stroke-width:0.8;\" x=\"43.78125\" xlink:href=\"#m274d7781cc\" y=\"22.486823\"/>\n      </g>\n     </g>\n     <g id=\"text_19\">\n      <!-- 4.0 -->\n      <g transform=\"translate(20.878125 26.286042)scale(0.1 -0.1)\">\n       <use xlink:href=\"#DejaVuSans-34\"/>\n       <use x=\"63.623047\" xlink:href=\"#DejaVuSans-2e\"/>\n       <use x=\"95.410156\" xlink:href=\"#DejaVuSans-30\"/>\n      </g>\n     </g>\n    </g>\n    <g id=\"text_20\">\n     <!-- Density -->\n     <g transform=\"translate(14.798438 134.928594)rotate(-90)scale(0.1 -0.1)\">\n      <defs>\n       <path d=\"M 1259 4147 \nL 1259 519 \nL 2022 519 \nQ 2988 519 3436 956 \nQ 3884 1394 3884 2338 \nQ 3884 3275 3436 3711 \nQ 2988 4147 2022 4147 \nL 1259 4147 \nz\nM 628 4666 \nL 1925 4666 \nQ 3281 4666 3915 4102 \nQ 4550 3538 4550 2338 \nQ 4550 1131 3912 565 \nQ 3275 0 1925 0 \nL 628 0 \nL 628 4666 \nz\n\" id=\"DejaVuSans-44\" transform=\"scale(0.015625)\"/>\n       <path d=\"M 3597 1894 \nL 3597 1613 \nL 953 1613 \nQ 991 1019 1311 708 \nQ 1631 397 2203 397 \nQ 2534 397 2845 478 \nQ 3156 559 3463 722 \nL 3463 178 \nQ 3153 47 2828 -22 \nQ 2503 -91 2169 -91 \nQ 1331 -91 842 396 \nQ 353 884 353 1716 \nQ 353 2575 817 3079 \nQ 1281 3584 2069 3584 \nQ 2775 3584 3186 3129 \nQ 3597 2675 3597 1894 \nz\nM 3022 2063 \nQ 3016 2534 2758 2815 \nQ 2500 3097 2075 3097 \nQ 1594 3097 1305 2825 \nQ 1016 2553 972 2059 \nL 3022 2063 \nz\n\" id=\"DejaVuSans-65\" transform=\"scale(0.015625)\"/>\n       <path d=\"M 3513 2113 \nL 3513 0 \nL 2938 0 \nL 2938 2094 \nQ 2938 2591 2744 2837 \nQ 2550 3084 2163 3084 \nQ 1697 3084 1428 2787 \nQ 1159 2491 1159 1978 \nL 1159 0 \nL 581 0 \nL 581 3500 \nL 1159 3500 \nL 1159 2956 \nQ 1366 3272 1645 3428 \nQ 1925 3584 2291 3584 \nQ 2894 3584 3203 3211 \nQ 3513 2838 3513 2113 \nz\n\" id=\"DejaVuSans-6e\" transform=\"scale(0.015625)\"/>\n       <path d=\"M 603 3500 \nL 1178 3500 \nL 1178 0 \nL 603 0 \nL 603 3500 \nz\nM 603 4863 \nL 1178 4863 \nL 1178 4134 \nL 603 4134 \nL 603 4863 \nz\n\" id=\"DejaVuSans-69\" transform=\"scale(0.015625)\"/>\n       <path d=\"M 2059 -325 \nQ 1816 -950 1584 -1140 \nQ 1353 -1331 966 -1331 \nL 506 -1331 \nL 506 -850 \nL 844 -850 \nQ 1081 -850 1212 -737 \nQ 1344 -625 1503 -206 \nL 1606 56 \nL 191 3500 \nL 800 3500 \nL 1894 763 \nL 2988 3500 \nL 3597 3500 \nL 2059 -325 \nz\n\" id=\"DejaVuSans-79\" transform=\"scale(0.015625)\"/>\n      </defs>\n      <use xlink:href=\"#DejaVuSans-44\"/>\n      <use x=\"77.001953\" xlink:href=\"#DejaVuSans-65\"/>\n      <use x=\"138.525391\" xlink:href=\"#DejaVuSans-6e\"/>\n      <use x=\"201.904297\" xlink:href=\"#DejaVuSans-73\"/>\n      <use x=\"254.003906\" xlink:href=\"#DejaVuSans-69\"/>\n      <use x=\"281.787109\" xlink:href=\"#DejaVuSans-74\"/>\n      <use x=\"320.996094\" xlink:href=\"#DejaVuSans-79\"/>\n     </g>\n    </g>\n   </g>\n   <g id=\"line2d_19\">\n    <path clip-path=\"url(#pa3725b0575)\" d=\"M 58.999432 224.330743 \nL 62.058363 224.014966 \nL 65.117294 223.450067 \nL 68.176225 222.50608 \nL 69.70569 221.845724 \nL 71.235156 221.035296 \nL 72.764621 220.058803 \nL 74.294087 218.904157 \nL 75.823552 217.565029 \nL 77.353018 216.042721 \nL 80.411949 212.501614 \nL 85.000345 206.435512 \nL 88.059276 202.505554 \nL 89.588742 200.774129 \nL 91.118208 199.289009 \nL 92.647673 198.110954 \nL 94.177139 197.289999 \nL 95.706604 196.861928 \nL 97.23607 196.845691 \nL 98.765535 197.24201 \nL 100.295001 198.033328 \nL 101.824466 199.185096 \nL 103.353932 200.648275 \nL 104.883397 202.3628 \nL 107.942328 206.275167 \nL 112.530725 212.351246 \nL 115.589656 215.914627 \nL 117.119121 217.449777 \nL 118.648587 218.80143 \nL 120.178052 219.967129 \nL 121.707518 220.951924 \nL 123.236983 221.766389 \nL 124.766449 222.42459 \nL 126.295914 222.942145 \nL 129.354845 223.615152 \nL 132.413776 223.880043 \nL 135.472707 223.767665 \nL 137.002173 223.556126 \nL 138.531638 223.221521 \nL 140.061104 222.741548 \nL 141.590569 222.088195 \nL 143.120035 221.228585 \nL 144.6495 220.126357 \nL 146.178966 218.743639 \nL 147.708431 217.043656 \nL 149.237897 214.993937 \nL 150.767362 212.570008 \nL 152.296828 209.759366 \nL 153.826293 206.565431 \nL 155.355759 203.011103 \nL 158.41469 195.025317 \nL 164.532552 178.234153 \nL 166.062017 174.623638 \nL 167.591483 171.531926 \nL 169.120948 169.085654 \nL 170.650414 167.388803 \nL 172.17988 166.515379 \nL 173.709345 166.504057 \nL 175.238811 167.355339 \nL 176.768276 169.031523 \nL 178.297742 171.459467 \nL 179.827207 174.535882 \nL 181.356673 178.13462 \nL 184.415604 186.331949 \nL 189.004 199.037003 \nL 190.533466 202.914054 \nL 192.062931 206.477317 \nL 193.592397 209.681099 \nL 195.121862 212.501975 \nL 196.651328 214.936088 \nL 198.180793 216.995622 \nL 199.710259 218.70486 \nL 201.239724 220.096221 \nL 202.76919 221.206561 \nL 204.298655 222.07398 \nL 205.828121 222.735212 \nL 207.357586 223.223667 \nL 208.887052 223.568062 \nL 211.945983 223.911572 \nL 215.004914 223.880436 \nL 218.063845 223.499351 \nL 221.122776 222.719512 \nL 222.652241 222.151452 \nL 224.181707 221.447031 \nL 225.711172 220.594162 \nL 227.240638 219.583685 \nL 228.770103 218.411152 \nL 230.299569 217.078575 \nL 233.3585 213.982496 \nL 237.946896 208.69445 \nL 241.005827 205.282412 \nL 242.535293 203.78447 \nL 244.064758 202.503936 \nL 245.594224 201.493322 \nL 247.123689 200.795622 \nL 248.653155 200.441282 \nL 250.18262 200.445995 \nL 251.712086 200.809552 \nL 253.241552 201.515856 \nL 254.771017 202.534101 \nL 256.300483 203.821007 \nL 257.829948 205.32386 \nL 260.888879 208.741033 \nL 265.477276 214.026391 \nL 268.536207 217.11654 \nL 270.065672 218.445969 \nL 271.595138 219.615837 \nL 273.124603 220.624709 \nL 274.654069 221.477774 \nL 276.183534 222.185193 \nL 279.242465 223.218781 \nL 282.301396 223.846792 \nL 285.360327 224.18205 \nL 288.419258 224.30591 \nL 291.478189 224.258884 \nL 294.53712 224.040871 \nL 297.596051 223.618191 \nL 300.654982 222.936908 \nL 303.713913 221.943105 \nL 306.772844 220.609413 \nL 309.831775 218.963271 \nL 319.008568 213.557098 \nL 320.538034 212.881186 \nL 322.067499 212.34913 \nL 323.596965 211.983584 \nL 325.12643 211.800505 \nL 326.655896 211.808006 \nL 328.185361 212.005752 \nL 329.714827 212.384989 \nL 331.244292 212.929188 \nL 334.303224 214.415061 \nL 338.89162 217.182573 \nL 343.480017 219.885569 \nL 346.538948 221.371739 \nL 349.597879 222.52373 \nL 352.65681 223.349193 \nL 355.715741 223.898369 \nL 358.774672 224.238625 \nL 363.363068 224.497139 \nL 363.363068 224.497139 \n\" style=\"fill:none;stroke:#1f77b4;stroke-linecap:square;stroke-width:1.5;\"/>\n   </g>\n   <g id=\"patch_29\">\n    <path d=\"M 43.78125 224.64 \nL 43.78125 7.2 \n\" style=\"fill:none;stroke:#000000;stroke-linecap:square;stroke-linejoin:miter;stroke-width:0.8;\"/>\n   </g>\n   <g id=\"patch_30\">\n    <path d=\"M 378.58125 224.64 \nL 378.58125 7.2 \n\" style=\"fill:none;stroke:#000000;stroke-linecap:square;stroke-linejoin:miter;stroke-width:0.8;\"/>\n   </g>\n   <g id=\"patch_31\">\n    <path d=\"M 43.78125 224.64 \nL 378.58125 224.64 \n\" style=\"fill:none;stroke:#000000;stroke-linecap:square;stroke-linejoin:miter;stroke-width:0.8;\"/>\n   </g>\n   <g id=\"patch_32\">\n    <path d=\"M 43.78125 7.2 \nL 378.58125 7.2 \n\" style=\"fill:none;stroke:#000000;stroke-linecap:square;stroke-linejoin:miter;stroke-width:0.8;\"/>\n   </g>\n  </g>\n </g>\n <defs>\n  <clipPath id=\"pa3725b0575\">\n   <rect height=\"217.44\" width=\"334.8\" x=\"43.78125\" y=\"7.2\"/>\n  </clipPath>\n </defs>\n</svg>\n",
      "image/png": "[encoded data removed]"
     },
     "metadata": {
      "needs_background": "light"
     }
    }
   ],
   "source": [
    "sns.distplot(sample_df['baths'])\n",
    "plt.show()"
   ]
  },
  {
   "cell_type": "code",
   "execution_count": 39,
   "metadata": {},
   "outputs": [
    {
     "output_type": "stream",
     "name": "stdout",
     "text": [
      "+-------------+--------------+--------------+\n|categoryIndex|categoryIndex2|categoryIndex1|\n+-------------+--------------+--------------+\n|            a|           2.0|           0.0|\n|            b|           2.0|           1.0|\n|            c|           1.0|           2.0|\n|            a|           1.0|           0.0|\n|            a|           0.0|           0.0|\n+-------------+--------------+--------------+\nonly showing top 5 rows\n\n"
     ]
    }
   ],
   "source": [
    "\n",
    "df1 = spark.createDataFrame([\n",
    "    (\"a\", 2.0),\n",
    "    (\"b\", 2.0),\n",
    "    (\"c\", 1.0),\n",
    "    (\"a\", 1.0),\n",
    "    (\"a\", 0.0),\n",
    "    (\"b\", 1.0),\n",
    "    (\"c\", 1.0)\n",
    "], [\"categoryIndex\", \"categoryIndex2\"])\n",
    "# theo freq, nhieu nhat index = 0, giong nhau thi theo alphabet\n",
    "stringID = StringIndexer(inputCol=\"categoryIndex\", outputCol=\"categoryIndex1\") \n",
    "indexer = stringID.fit(df1)\n",
    "df1 = indexer.transform(df1)\n",
    "\n",
    "\n",
    "df1.show(5)"
   ]
  },
  {
   "cell_type": "code",
   "execution_count": 40,
   "metadata": {},
   "outputs": [
    {
     "output_type": "error",
     "ename": "AttributeError",
     "evalue": "'OneHotEncoder' object has no attribute 'transform'",
     "traceback": [
      "\u001b[0;31m---------------------------------------------------------------------------\u001b[0m",
      "\u001b[0;31mAttributeError\u001b[0m                            Traceback (most recent call last)",
      "\u001b[0;32m<ipython-input-40-5353ba88a45b>\u001b[0m in \u001b[0;36m<module>\u001b[0;34m\u001b[0m\n\u001b[1;32m      2\u001b[0m                         \u001b[0moutputCol\u001b[0m\u001b[0;34m=\u001b[0m\u001b[0;34m\"categoryVec1\"\u001b[0m\u001b[0;34m,\u001b[0m\u001b[0;34m\u001b[0m\u001b[0;34m\u001b[0m\u001b[0m\n\u001b[1;32m      3\u001b[0m                         dropLast=False) # default\n\u001b[0;32m----> 4\u001b[0;31m \u001b[0mencoded\u001b[0m \u001b[0;34m=\u001b[0m \u001b[0mencoder\u001b[0m\u001b[0;34m.\u001b[0m\u001b[0mtransform\u001b[0m\u001b[0;34m(\u001b[0m\u001b[0mdf1\u001b[0m\u001b[0;34m)\u001b[0m\u001b[0;34m\u001b[0m\u001b[0;34m\u001b[0m\u001b[0m\n\u001b[0m\u001b[1;32m      5\u001b[0m \u001b[0mencoded\u001b[0m\u001b[0;34m[\u001b[0m\u001b[0;34m\"categoryIndex\"\u001b[0m\u001b[0;34m,\u001b[0m \u001b[0;34m\"categoryIndex1\"\u001b[0m\u001b[0;34m,\u001b[0m \u001b[0;34m\"categoryVec1\"\u001b[0m\u001b[0;34m]\u001b[0m\u001b[0;34m.\u001b[0m\u001b[0mshow\u001b[0m\u001b[0;34m(\u001b[0m\u001b[0;34m)\u001b[0m\u001b[0;34m\u001b[0m\u001b[0;34m\u001b[0m\u001b[0m\n",
      "\u001b[0;31mAttributeError\u001b[0m: 'OneHotEncoder' object has no attribute 'transform'"
     ]
    }
   ],
   "source": [
    "# encoder = OneHotEncoder(inputCol=\"categoryIndex1\",\n",
    "#                         outputCol=\"categoryVec1\", \n",
    "#                         dropLast=False) # default\n",
    "# encoded = encoder.transform(df1)\n",
    "# encoded[\"categoryIndex\", \"categoryIndex1\", \"categoryVec1\"].show()"
   ]
  },
  {
   "cell_type": "code",
   "execution_count": null,
   "metadata": {},
   "outputs": [],
   "source": [
    "\n",
    "df1 = spark.createDataFrame([\n",
    "    (0.0, 1.0),\n",
    "    (1.0, 0.0),\n",
    "    (2.0, 1.0),\n",
    "    (0.0, 2.0),\n",
    "    (0.0, 1.0),\n",
    "    (2.0, 0.0)\n",
    "], [\"categoryIndex\", \"categoryIndex2\"])\n",
    "\n",
    "stringID = StringIndexer(inputCol=\"categoryIndex\", outputCol=\"categoryIndex1\") \n",
    "indexer = stringID.fit(df1)\n",
    "df1 = indexer.transform(df1)\n",
    "encoder = OneHotEncoder(inputCol=\"categoryIndex1\",\n",
    "                        outputCol=\"categoryVec1\", \n",
    "                        dropLast=False) # default\n",
    "encoded = encoder.transform(df1)\n",
    "encoded[\"categoryIndex\", \"categoryIndex1\", \"categoryVec1\"].show()\n",
    "# co 3 phan tu khi dropLast = False"
   ]
  },
  {
   "cell_type": "code",
   "execution_count": 51,
   "metadata": {},
   "outputs": [
    {
     "output_type": "stream",
     "name": "stdout",
     "text": [
      "+----------------+----------+\n|            City|City_Index|\n+----------------+----------+\n|LELM - Lake Elmo|       4.0|\n|LELM - Lake Elmo|       4.0|\n|LELM - Lake Elmo|       4.0|\n|LELM - Lake Elmo|       4.0|\n|LELM - Lake Elmo|       4.0|\n+----------------+----------+\nonly showing top 5 rows\n\n"
     ]
    }
   ],
   "source": [
    "string_indexer = StringIndexer(inputCol='City', outputCol='City_Index')\n",
    "model = string_indexer.fit(df)\n",
    "indexed = model.transform(df)\n",
    "indexed[['City', 'City_Index']].show(5)"
   ]
  },
  {
   "cell_type": "code",
   "execution_count": 58,
   "metadata": {},
   "outputs": [
    {
     "output_type": "stream",
     "name": "stdout",
     "text": [
      "+----------+-------------+\n|City_Index|  City_encode|\n+----------+-------------+\n|       4.0|(5,[4],[1.0])|\n|       4.0|(5,[4],[1.0])|\n|       4.0|(5,[4],[1.0])|\n|       4.0|(5,[4],[1.0])|\n|       4.0|(5,[4],[1.0])|\n+----------+-------------+\nonly showing top 5 rows\n\n"
     ]
    }
   ],
   "source": [
    "one_hot = OneHotEncoder(inputCol='City_Index', outputCol='City_encode')\n",
    "one_hot.setDropLast(False)\n",
    "\n",
    "encoded = one_hot.fit(indexed).transform(indexed)\n",
    "encoded[['City_Index', 'City_encode']].show(5)"
   ]
  },
  {
   "cell_type": "code",
   "execution_count": null,
   "metadata": {},
   "outputs": [],
   "source": []
  }
 ]
}