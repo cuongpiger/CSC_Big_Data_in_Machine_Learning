{
 "metadata": {
  "language_info": {
   "codemirror_mode": {
    "name": "ipython",
    "version": 3
   },
   "file_extension": ".py",
   "mimetype": "text/x-python",
   "name": "python",
   "nbconvert_exporter": "python",
   "pygments_lexer": "ipython3",
   "version": "3.8.5"
  },
  "orig_nbformat": 2,
  "kernelspec": {
   "name": "python38564bit207240a302f84cf383d7b6dbf8fca3f2",
   "display_name": "Python 3.8.5 64-bit"
  },
  "metadata": {
   "interpreter": {
    "hash": "916dbcbb3f70747c44a77c7bcd40155683ae19c65e1c03b4aa3499c5328201f1"
   }
  }
 },
 "nbformat": 4,
 "nbformat_minor": 2,
 "cells": [
  {
   "cell_type": "code",
   "execution_count": 1,
   "metadata": {},
   "outputs": [],
   "source": [
    "%load_ext autoreload\n",
    "%autoreload 2"
   ]
  },
  {
   "source": [
    "![](../images/chap05_0.jpg)"
   ],
   "cell_type": "markdown",
   "metadata": {}
  },
  {
   "cell_type": "code",
   "execution_count": 2,
   "metadata": {},
   "outputs": [],
   "source": [
    "from modules.my_pyspark import *\n",
    "from modules.my_drawer import MyDrawer\n",
    "from pyspark.sql.functions import *\n",
    "from pyspark.sql.types import *"
   ]
  },
  {
   "cell_type": "code",
   "execution_count": 3,
   "metadata": {},
   "outputs": [],
   "source": [
    "drawer = MyDrawer()\n",
    "spark = MyPySpark(session=True, sql=True)"
   ]
  },
  {
   "source": [
    "#### Task 1"
   ],
   "cell_type": "markdown",
   "metadata": {}
  },
  {
   "cell_type": "code",
   "execution_count": 4,
   "metadata": {},
   "outputs": [],
   "source": [
    "file_path = r'data/DallasCouncilVoters.csv'"
   ]
  },
  {
   "cell_type": "code",
   "execution_count": 5,
   "metadata": {},
   "outputs": [],
   "source": [
    "df = spark.readFile(file_path)"
   ]
  },
  {
   "source": [
    "#### Task 2"
   ],
   "cell_type": "markdown",
   "metadata": {}
  },
  {
   "source": [
    "_Số dòng của dữ liệu_"
   ],
   "cell_type": "markdown",
   "metadata": {}
  },
  {
   "cell_type": "code",
   "execution_count": 6,
   "metadata": {},
   "outputs": [
    {
     "output_type": "execute_result",
     "data": {
      "text/plain": [
       "44625"
      ]
     },
     "metadata": {},
     "execution_count": 6
    }
   ],
   "source": [
    "df.count()"
   ]
  },
  {
   "source": [
    "_In schema_"
   ],
   "cell_type": "markdown",
   "metadata": {}
  },
  {
   "cell_type": "code",
   "execution_count": 7,
   "metadata": {},
   "outputs": [
    {
     "output_type": "stream",
     "name": "stdout",
     "text": [
      "root\n |-- DATE: string (nullable = true)\n |-- TITLE: string (nullable = true)\n |-- VOTER_NAME: string (nullable = true)\n\n"
     ]
    }
   ],
   "source": [
    "df.printSchema()"
   ]
  },
  {
   "source": [
    "_Hiển thị 5 dòng đầu_"
   ],
   "cell_type": "markdown",
   "metadata": {}
  },
  {
   "cell_type": "code",
   "execution_count": 8,
   "metadata": {},
   "outputs": [
    {
     "output_type": "stream",
     "name": "stdout",
     "text": [
      "+----------+-------------+-------------------+\n|      DATE|        TITLE|         VOTER_NAME|\n+----------+-------------+-------------------+\n|02/08/2017|Councilmember|  Jennifer S. Gates|\n|02/08/2017|Councilmember| Philip T. Kingston|\n|02/08/2017|        Mayor|Michael S. Rawlings|\n|02/08/2017|Councilmember|       Adam Medrano|\n|02/08/2017|Councilmember|       Casey Thomas|\n+----------+-------------+-------------------+\nonly showing top 5 rows\n\n"
     ]
    }
   ],
   "source": [
    "df.show(5)"
   ]
  },
  {
   "source": [
    "#### Task 3"
   ],
   "cell_type": "markdown",
   "metadata": {}
  },
  {
   "source": [
    "_Kiểm tra dữ liệu có NaN hay ko_"
   ],
   "cell_type": "markdown",
   "metadata": {}
  },
  {
   "cell_type": "code",
   "execution_count": 9,
   "metadata": {},
   "outputs": [],
   "source": [
    "mask = [count(when(isnan(c), c)).alias(c) for c in df.columns]"
   ]
  },
  {
   "cell_type": "code",
   "execution_count": 10,
   "metadata": {},
   "outputs": [
    {
     "output_type": "execute_result",
     "data": {
      "text/plain": [
       "[Column<'count(CASE WHEN isnan(DATE) THEN DATE END) AS `DATE`'>,\n",
       " Column<'count(CASE WHEN isnan(TITLE) THEN TITLE END) AS `TITLE`'>,\n",
       " Column<'count(CASE WHEN isnan(VOTER_NAME) THEN VOTER_NAME END) AS `VOTER_NAME`'>]"
      ]
     },
     "metadata": {},
     "execution_count": 10
    }
   ],
   "source": [
    "mask"
   ]
  },
  {
   "cell_type": "code",
   "execution_count": 11,
   "metadata": {},
   "outputs": [
    {
     "output_type": "stream",
     "name": "stdout",
     "text": [
      "+----+-----+----------+\n|DATE|TITLE|VOTER_NAME|\n+----+-----+----------+\n|   0|    0|         0|\n+----+-----+----------+\n\n"
     ]
    }
   ],
   "source": [
    "df.select(mask).show()"
   ]
  },
  {
   "source": [
    "> * Ko có dữ liệu NaN"
   ],
   "cell_type": "markdown",
   "metadata": {}
  },
  {
   "source": [
    "_Kiểm tra dữ liệu có null hay ko_"
   ],
   "cell_type": "markdown",
   "metadata": {}
  },
  {
   "cell_type": "code",
   "execution_count": 12,
   "metadata": {},
   "outputs": [],
   "source": [
    "mask1 = [count(when(col(c).isNull(), c)).alias(c) for c in df.columns]"
   ]
  },
  {
   "cell_type": "code",
   "execution_count": 13,
   "metadata": {},
   "outputs": [
    {
     "output_type": "execute_result",
     "data": {
      "text/plain": [
       "[Column<'count(CASE WHEN (DATE IS NULL) THEN DATE END) AS `DATE`'>,\n",
       " Column<'count(CASE WHEN (TITLE IS NULL) THEN TITLE END) AS `TITLE`'>,\n",
       " Column<'count(CASE WHEN (VOTER_NAME IS NULL) THEN VOTER_NAME END) AS `VOTER_NAME`'>]"
      ]
     },
     "metadata": {},
     "execution_count": 13
    }
   ],
   "source": [
    "mask1"
   ]
  },
  {
   "cell_type": "code",
   "execution_count": 14,
   "metadata": {},
   "outputs": [
    {
     "output_type": "stream",
     "name": "stdout",
     "text": [
      "+----+-----+----------+\n|DATE|TITLE|VOTER_NAME|\n+----+-----+----------+\n|   0|  195|       503|\n+----+-----+----------+\n\n"
     ]
    }
   ],
   "source": [
    "df.select(mask1).show()"
   ]
  },
  {
   "source": [
    "* Có dữ liệu null"
   ],
   "cell_type": "markdown",
   "metadata": {}
  },
  {
   "cell_type": "code",
   "execution_count": 15,
   "metadata": {},
   "outputs": [],
   "source": [
    "df = df.dropna(subset='VOTER_NAME')"
   ]
  },
  {
   "cell_type": "code",
   "execution_count": 16,
   "metadata": {},
   "outputs": [
    {
     "output_type": "stream",
     "name": "stdout",
     "text": [
      "+----+-----+----------+\n|DATE|TITLE|VOTER_NAME|\n+----+-----+----------+\n|   0|    0|         0|\n+----+-----+----------+\n\n"
     ]
    }
   ],
   "source": [
    "df.select(mask1).show()"
   ]
  },
  {
   "source": [
    "#### Task 4"
   ],
   "cell_type": "markdown",
   "metadata": {}
  },
  {
   "cell_type": "code",
   "execution_count": 17,
   "metadata": {},
   "outputs": [],
   "source": [
    "distinct_rows = df.distinct().count()"
   ]
  },
  {
   "cell_type": "code",
   "execution_count": 18,
   "metadata": {},
   "outputs": [
    {
     "output_type": "execute_result",
     "data": {
      "text/plain": [
       "1273"
      ]
     },
     "metadata": {},
     "execution_count": 18
    }
   ],
   "source": [
    "distinct_rows"
   ]
  },
  {
   "cell_type": "code",
   "execution_count": 19,
   "metadata": {},
   "outputs": [
    {
     "output_type": "execute_result",
     "data": {
      "text/plain": [
       "44122"
      ]
     },
     "metadata": {},
     "execution_count": 19
    }
   ],
   "source": [
    "df.count()"
   ]
  },
  {
   "cell_type": "code",
   "execution_count": 20,
   "metadata": {},
   "outputs": [],
   "source": [
    "df = df.drop_duplicates()"
   ]
  },
  {
   "cell_type": "code",
   "execution_count": 21,
   "metadata": {},
   "outputs": [
    {
     "output_type": "execute_result",
     "data": {
      "text/plain": [
       "1273"
      ]
     },
     "metadata": {},
     "execution_count": 21
    }
   ],
   "source": [
    "df.count()"
   ]
  },
  {
   "source": [
    "#### Task 5"
   ],
   "cell_type": "markdown",
   "metadata": {}
  },
  {
   "cell_type": "code",
   "execution_count": 22,
   "metadata": {},
   "outputs": [
    {
     "output_type": "stream",
     "name": "stdout",
     "text": [
      "+--------------------+\n|          VOTER_NAME|\n+--------------------+\n|      Tennell Atkins|\n|  the  final   20...|\n|        Scott Griggs|\n|       Scott  Griggs|\n|       Sandy Greyson|\n| Michael S. Rawlings|\n| the final 2018 A...|\n|        Kevin Felder|\n|        Adam Medrano|\n|       Casey  Thomas|\n+--------------------+\nonly showing top 10 rows\n\n"
     ]
    }
   ],
   "source": [
    "df.select('VOTER_NAME').distinct().show(10)"
   ]
  },
  {
   "source": [
    "#### Task 6"
   ],
   "cell_type": "markdown",
   "metadata": {}
  },
  {
   "cell_type": "code",
   "execution_count": 23,
   "metadata": {},
   "outputs": [],
   "source": [
    "df = df.filter('length(VOTER_NAME) < 20 and length(VOTER_NAME) < 20')"
   ]
  },
  {
   "cell_type": "code",
   "execution_count": 24,
   "metadata": {},
   "outputs": [
    {
     "output_type": "stream",
     "name": "stdout",
     "text": [
      "+----------+--------------------+------------------+\n|      DATE|               TITLE|        VOTER_NAME|\n+----------+--------------------+------------------+\n|04/11/2018|Deputy Mayor Pro Tem|      Adam Medrano|\n|02/14/2018|       Councilmember|   Lee M. Kleinman|\n|04/25/2018|       Councilmember|    Tennell Atkins|\n|08/29/2018|       Councilmember|      Kevin Felder|\n|10/18/2017|       Councilmember|Jennifer S.  Gates|\n+----------+--------------------+------------------+\nonly showing top 5 rows\n\n"
     ]
    }
   ],
   "source": [
    "df.show(5)"
   ]
  },
  {
   "source": [
    "#### Task 7"
   ],
   "cell_type": "markdown",
   "metadata": {}
  },
  {
   "cell_type": "code",
   "execution_count": 25,
   "metadata": {},
   "outputs": [],
   "source": [
    "df = df.filter(~col('VOTER_NAME').contains('_'))"
   ]
  },
  {
   "cell_type": "code",
   "execution_count": 26,
   "metadata": {},
   "outputs": [
    {
     "output_type": "stream",
     "name": "stdout",
     "text": [
      "+-------------------+\n|VOTER_NAME         |\n+-------------------+\n|Tennell Atkins     |\n|Scott Griggs       |\n|Scott  Griggs      |\n|Sandy Greyson      |\n|Michael S. Rawlings|\n|Kevin Felder       |\n|Adam Medrano       |\n|Casey  Thomas      |\n|Mark  Clayton      |\n|Casey Thomas       |\n+-------------------+\nonly showing top 10 rows\n\n"
     ]
    }
   ],
   "source": [
    "df.select('VOTER_NAME').distinct().show(10, truncate=False)"
   ]
  },
  {
   "source": [
    "#### Task 8"
   ],
   "cell_type": "markdown",
   "metadata": {}
  },
  {
   "cell_type": "code",
   "execution_count": 27,
   "metadata": {},
   "outputs": [],
   "source": [
    "df = df.withColumn('splits', split('VOTER_NAME', '\\s+'))"
   ]
  },
  {
   "cell_type": "code",
   "execution_count": 28,
   "metadata": {},
   "outputs": [
    {
     "output_type": "stream",
     "name": "stdout",
     "text": [
      "+----------+--------------------+------------------+--------------------+\n|      DATE|               TITLE|        VOTER_NAME|              splits|\n+----------+--------------------+------------------+--------------------+\n|04/11/2018|Deputy Mayor Pro Tem|      Adam Medrano|     [Adam, Medrano]|\n|02/14/2018|       Councilmember|   Lee M. Kleinman| [Lee, M., Kleinman]|\n|04/25/2018|       Councilmember|    Tennell Atkins|   [Tennell, Atkins]|\n|08/29/2018|       Councilmember|      Kevin Felder|     [Kevin, Felder]|\n|10/18/2017|       Councilmember|Jennifer S.  Gates|[Jennifer, S., Ga...|\n+----------+--------------------+------------------+--------------------+\nonly showing top 5 rows\n\n"
     ]
    }
   ],
   "source": [
    "df.show(5)"
   ]
  },
  {
   "source": [
    "#### Task 9"
   ],
   "cell_type": "markdown",
   "metadata": {}
  },
  {
   "cell_type": "code",
   "execution_count": 29,
   "metadata": {},
   "outputs": [],
   "source": [
    "df = df.withColumn('first_name', df['splits'].getItem(0))"
   ]
  },
  {
   "cell_type": "code",
   "execution_count": 30,
   "metadata": {},
   "outputs": [
    {
     "output_type": "stream",
     "name": "stdout",
     "text": [
      "+----------+--------------------+------------------+--------------------+----------+\n|      DATE|               TITLE|        VOTER_NAME|              splits|first_name|\n+----------+--------------------+------------------+--------------------+----------+\n|04/11/2018|Deputy Mayor Pro Tem|      Adam Medrano|     [Adam, Medrano]|      Adam|\n|02/14/2018|       Councilmember|   Lee M. Kleinman| [Lee, M., Kleinman]|       Lee|\n|04/25/2018|       Councilmember|    Tennell Atkins|   [Tennell, Atkins]|   Tennell|\n|08/29/2018|       Councilmember|      Kevin Felder|     [Kevin, Felder]|     Kevin|\n|10/18/2017|       Councilmember|Jennifer S.  Gates|[Jennifer, S., Ga...|  Jennifer|\n+----------+--------------------+------------------+--------------------+----------+\nonly showing top 5 rows\n\n"
     ]
    }
   ],
   "source": [
    "df.show(5)"
   ]
  },
  {
   "source": [
    "#### Task 10"
   ],
   "cell_type": "markdown",
   "metadata": {}
  },
  {
   "cell_type": "code",
   "execution_count": 31,
   "metadata": {},
   "outputs": [],
   "source": [
    "df = df.withColumn('last_name', df['splits'].getItem(size('splits') - 1))"
   ]
  },
  {
   "cell_type": "code",
   "execution_count": 32,
   "metadata": {},
   "outputs": [
    {
     "output_type": "stream",
     "name": "stdout",
     "text": [
      "+----------+--------------------+------------------+--------------------+----------+---------+\n|      DATE|               TITLE|        VOTER_NAME|              splits|first_name|last_name|\n+----------+--------------------+------------------+--------------------+----------+---------+\n|04/11/2018|Deputy Mayor Pro Tem|      Adam Medrano|     [Adam, Medrano]|      Adam|  Medrano|\n|02/14/2018|       Councilmember|   Lee M. Kleinman| [Lee, M., Kleinman]|       Lee| Kleinman|\n|04/25/2018|       Councilmember|    Tennell Atkins|   [Tennell, Atkins]|   Tennell|   Atkins|\n|08/29/2018|       Councilmember|      Kevin Felder|     [Kevin, Felder]|     Kevin|   Felder|\n|10/18/2017|       Councilmember|Jennifer S.  Gates|[Jennifer, S., Ga...|  Jennifer|    Gates|\n+----------+--------------------+------------------+--------------------+----------+---------+\nonly showing top 5 rows\n\n"
     ]
    }
   ],
   "source": [
    "df.show(5)"
   ]
  },
  {
   "source": [
    "#### Task 11"
   ],
   "cell_type": "markdown",
   "metadata": {}
  },
  {
   "cell_type": "code",
   "execution_count": 33,
   "metadata": {},
   "outputs": [],
   "source": [
    "df = df.withColumn('random_val', when(df['TITLE'] == 'Councilmember', rand())\n",
    "                                .when(df['TITLE'] == 'Mayor', 2)\n",
    "                                .otherwise(0))"
   ]
  },
  {
   "cell_type": "code",
   "execution_count": 34,
   "metadata": {},
   "outputs": [
    {
     "output_type": "stream",
     "name": "stdout",
     "text": [
      "+----------+--------------------+-------------------+--------------------+----------+---------+-------------------+\n|      DATE|               TITLE|         VOTER_NAME|              splits|first_name|last_name|         random_val|\n+----------+--------------------+-------------------+--------------------+----------+---------+-------------------+\n|04/11/2018|Deputy Mayor Pro Tem|       Adam Medrano|     [Adam, Medrano]|      Adam|  Medrano|                0.0|\n|02/14/2018|       Councilmember|    Lee M. Kleinman| [Lee, M., Kleinman]|       Lee| Kleinman| 0.7287254700624713|\n|04/25/2018|       Councilmember|     Tennell Atkins|   [Tennell, Atkins]|   Tennell|   Atkins| 0.8107666275802718|\n|08/29/2018|       Councilmember|       Kevin Felder|     [Kevin, Felder]|     Kevin|   Felder|  0.581760352824348|\n|10/18/2017|       Councilmember| Jennifer S.  Gates|[Jennifer, S., Ga...|  Jennifer|    Gates|0.24122430255090432|\n|12/13/2017|       Councilmember|     Sandy  Greyson|    [Sandy, Greyson]|     Sandy|  Greyson| 0.2948528183038137|\n|12/13/2017|       Councilmember|       Omar Narvaez|     [Omar, Narvaez]|      Omar|  Narvaez| 0.2891875895149022|\n|01/03/2018|               Mayor|Michael S. Rawlings|[Michael, S., Raw...|   Michael| Rawlings|                2.0|\n|02/28/2018|       Councilmember|     Sandy  Greyson|    [Sandy, Greyson]|     Sandy|  Greyson| 0.3578234142739245|\n|03/01/2017|       Councilmember|      Sandy Greyson|    [Sandy, Greyson]|     Sandy|  Greyson| 0.5235596611701846|\n|04/12/2017|       Mayor Pro Tem|   Monica R. Alonzo|[Monica, R., Alonzo]|    Monica|   Alonzo|                0.0|\n|11/09/2016|       Councilmember|  Tiffinni A. Young|[Tiffinni, A., Yo...|  Tiffinni|    Young|0.28499007464402315|\n|06/20/2018|       Councilmember|Rickey D.  Callahan|[Rickey, D., Call...|    Rickey| Callahan| 0.6096231463373649|\n|02/28/2018|       Councilmember|     Tennell Atkins|   [Tennell, Atkins]|   Tennell|   Atkins| 0.6579147770565961|\n|10/24/2018|       Councilmember|     Sandy  Greyson|    [Sandy, Greyson]|     Sandy|  Greyson| 0.0975825355171498|\n|06/28/2017|Deputy Mayor Pro Tem|       Adam Medrano|     [Adam, Medrano]|      Adam|  Medrano|                0.0|\n|12/06/2017|               Mayor|Michael S. Rawlings|[Michael, S., Raw...|   Michael| Rawlings|                2.0|\n|03/01/2017|       Councilmember|  Tiffinni A. Young|[Tiffinni, A., Yo...|  Tiffinni|    Young|  0.544890871283228|\n|05/09/2018|       Councilmember|       Kevin Felder|     [Kevin, Felder]|     Kevin|   Felder| 0.6558839202874218|\n|02/22/2017|       Councilmember|Carolyn King Arnold|[Carolyn, King, A...|   Carolyn|   Arnold| 0.1360391583621161|\n+----------+--------------------+-------------------+--------------------+----------+---------+-------------------+\nonly showing top 20 rows\n\n"
     ]
    }
   ],
   "source": [
    "df.show()"
   ]
  },
  {
   "source": [
    "#### Task 12"
   ],
   "cell_type": "markdown",
   "metadata": {}
  },
  {
   "cell_type": "code",
   "execution_count": 35,
   "metadata": {},
   "outputs": [
    {
     "output_type": "stream",
     "name": "stdout",
     "text": [
      "+----------+--------------------+-----------------+--------------------+----------+---------+----------+\n|      DATE|               TITLE|       VOTER_NAME|              splits|first_name|last_name|random_val|\n+----------+--------------------+-----------------+--------------------+----------+---------+----------+\n|04/11/2018|Deputy Mayor Pro Tem|     Adam Medrano|     [Adam, Medrano]|      Adam|  Medrano|       0.0|\n|04/12/2017|       Mayor Pro Tem| Monica R. Alonzo|[Monica, R., Alonzo]|    Monica|   Alonzo|       0.0|\n|06/28/2017|Deputy Mayor Pro Tem|     Adam Medrano|     [Adam, Medrano]|      Adam|  Medrano|       0.0|\n|01/03/2018|Deputy Mayor Pro Tem|     Adam Medrano|     [Adam, Medrano]|      Adam|  Medrano|       0.0|\n|01/17/2018|       Mayor Pro Tem|Dwaine R. Caraway|[Dwaine, R., Cara...|    Dwaine|  Caraway|       0.0|\n+----------+--------------------+-----------------+--------------------+----------+---------+----------+\nonly showing top 5 rows\n\n"
     ]
    }
   ],
   "source": [
    "df.filter(df['random_val'] == 0).show(5)"
   ]
  },
  {
   "source": [
    "#### Task 13"
   ],
   "cell_type": "markdown",
   "metadata": {}
  },
  {
   "cell_type": "code",
   "execution_count": 36,
   "metadata": {},
   "outputs": [],
   "source": [
    "def getFirstAndMiddle(name):\n",
    "    return ' '.join(name[:-1])"
   ]
  },
  {
   "cell_type": "code",
   "execution_count": 37,
   "metadata": {},
   "outputs": [],
   "source": [
    "udfFirstAndMiddle = udf(getFirstAndMiddle, StringType())"
   ]
  },
  {
   "source": [
    "#### Task 14"
   ],
   "cell_type": "markdown",
   "metadata": {}
  },
  {
   "cell_type": "code",
   "execution_count": 59,
   "metadata": {},
   "outputs": [],
   "source": [
    "df = df.withColumn('first_and_middle_name', udfFirstAndMiddle(df['splits']))"
   ]
  },
  {
   "cell_type": "code",
   "execution_count": 60,
   "metadata": {},
   "outputs": [
    {
     "output_type": "stream",
     "name": "stdout",
     "text": [
      "+----------+--------------------+------------------+--------------------+----------+---------+-------------------+---------------------+\n|      DATE|               TITLE|        VOTER_NAME|              splits|first_name|last_name|         random_val|first_and_middle_name|\n+----------+--------------------+------------------+--------------------+----------+---------+-------------------+---------------------+\n|04/11/2018|Deputy Mayor Pro Tem|      Adam Medrano|     [Adam, Medrano]|      Adam|  Medrano|                0.0|                 Adam|\n|02/14/2018|       Councilmember|   Lee M. Kleinman| [Lee, M., Kleinman]|       Lee| Kleinman| 0.3902904485654395|               Lee M.|\n|04/25/2018|       Councilmember|    Tennell Atkins|   [Tennell, Atkins]|   Tennell|   Atkins| 0.8023088428290783|              Tennell|\n|08/29/2018|       Councilmember|      Kevin Felder|     [Kevin, Felder]|     Kevin|   Felder| 0.5195703231373053|                Kevin|\n|10/18/2017|       Councilmember|Jennifer S.  Gates|[Jennifer, S., Ga...|  Jennifer|    Gates|0.23656514096796266|          Jennifer S.|\n+----------+--------------------+------------------+--------------------+----------+---------+-------------------+---------------------+\nonly showing top 5 rows\n\n"
     ]
    }
   ],
   "source": [
    "df.show(5)"
   ]
  },
  {
   "source": [
    "#### Task 15"
   ],
   "cell_type": "markdown",
   "metadata": {}
  },
  {
   "cell_type": "code",
   "execution_count": 61,
   "metadata": {},
   "outputs": [],
   "source": [
    "df = df.drop('first_name', 'splits')"
   ]
  },
  {
   "cell_type": "code",
   "execution_count": 62,
   "metadata": {},
   "outputs": [
    {
     "output_type": "stream",
     "name": "stdout",
     "text": [
      "+----------+--------------------+------------------+---------+-------------------+---------------------+\n|      DATE|               TITLE|        VOTER_NAME|last_name|         random_val|first_and_middle_name|\n+----------+--------------------+------------------+---------+-------------------+---------------------+\n|04/11/2018|Deputy Mayor Pro Tem|      Adam Medrano|  Medrano|                0.0|                 Adam|\n|02/14/2018|       Councilmember|   Lee M. Kleinman| Kleinman| 0.3902904485654395|               Lee M.|\n|04/25/2018|       Councilmember|    Tennell Atkins|   Atkins| 0.8023088428290783|              Tennell|\n|08/29/2018|       Councilmember|      Kevin Felder|   Felder| 0.5195703231373053|                Kevin|\n|10/18/2017|       Councilmember|Jennifer S.  Gates|    Gates|0.23656514096796266|          Jennifer S.|\n+----------+--------------------+------------------+---------+-------------------+---------------------+\nonly showing top 5 rows\n\n"
     ]
    }
   ],
   "source": [
    "df.show(5)"
   ]
  },
  {
   "source": [
    "#### Task 16"
   ],
   "cell_type": "markdown",
   "metadata": {}
  },
  {
   "cell_type": "code",
   "execution_count": 63,
   "metadata": {},
   "outputs": [],
   "source": [
    "df = df.withColumn('ROW_ID', monotonically_increasing_id())"
   ]
  },
  {
   "cell_type": "code",
   "execution_count": 64,
   "metadata": {},
   "outputs": [
    {
     "output_type": "stream",
     "name": "stdout",
     "text": [
      "+----------+--------------------+------------------+---------+-------------------+---------------------+----------+\n|      DATE|               TITLE|        VOTER_NAME|last_name|         random_val|first_and_middle_name|    ROW_ID|\n+----------+--------------------+------------------+---------+-------------------+---------------------+----------+\n|04/11/2018|Deputy Mayor Pro Tem|      Adam Medrano|  Medrano|                0.0|                 Adam|         0|\n|02/14/2018|       Councilmember|   Lee M. Kleinman| Kleinman| 0.3902904485654395|               Lee M.|         1|\n|04/25/2018|       Councilmember|    Tennell Atkins|   Atkins| 0.8023088428290783|              Tennell|8589934592|\n|08/29/2018|       Councilmember|      Kevin Felder|   Felder| 0.5195703231373053|                Kevin|8589934593|\n|10/18/2017|       Councilmember|Jennifer S.  Gates|    Gates|0.23656514096796266|          Jennifer S.|8589934594|\n+----------+--------------------+------------------+---------+-------------------+---------------------+----------+\nonly showing top 5 rows\n\n"
     ]
    }
   ],
   "source": [
    "df.show(5)"
   ]
  },
  {
   "cell_type": "code",
   "execution_count": 65,
   "metadata": {},
   "outputs": [],
   "source": [
    "df = df.orderBy(df['ROW_ID'].asc())"
   ]
  },
  {
   "cell_type": "code",
   "execution_count": 66,
   "metadata": {},
   "outputs": [
    {
     "output_type": "stream",
     "name": "stdout",
     "text": [
      "+----------+--------------------+-------------------+---------+-------------------+---------------------+-----------+\n|      DATE|               TITLE|         VOTER_NAME|last_name|         random_val|first_and_middle_name|     ROW_ID|\n+----------+--------------------+-------------------+---------+-------------------+---------------------+-----------+\n|04/11/2018|Deputy Mayor Pro Tem|       Adam Medrano|  Medrano|                0.0|                 Adam|          0|\n|02/14/2018|       Councilmember|    Lee M. Kleinman| Kleinman| 0.3902904485654395|               Lee M.|          1|\n|04/25/2018|       Councilmember|     Tennell Atkins|   Atkins| 0.8023088428290783|              Tennell| 8589934592|\n|08/29/2018|       Councilmember|       Kevin Felder|   Felder| 0.5195703231373053|                Kevin| 8589934593|\n|10/18/2017|       Councilmember| Jennifer S.  Gates|    Gates|0.23656514096796266|          Jennifer S.| 8589934594|\n|12/13/2017|       Councilmember|     Sandy  Greyson|  Greyson|0.20420384659459867|                Sandy| 8589934595|\n|12/13/2017|       Councilmember|       Omar Narvaez|  Narvaez| 0.8234600212405552|                 Omar| 8589934596|\n|01/03/2018|               Mayor|Michael S. Rawlings| Rawlings|                2.0|           Michael S.| 8589934597|\n|02/28/2018|       Councilmember|     Sandy  Greyson|  Greyson|0.06319494524209046|                Sandy|17179869184|\n|03/01/2017|       Councilmember|      Sandy Greyson|  Greyson| 0.7921033553352146|                Sandy|17179869185|\n+----------+--------------------+-------------------+---------+-------------------+---------------------+-----------+\nonly showing top 10 rows\n\n"
     ]
    }
   ],
   "source": [
    "df.show(10)"
   ]
  },
  {
   "cell_type": "code",
   "execution_count": null,
   "metadata": {},
   "outputs": [],
   "source": []
  }
 ]
}