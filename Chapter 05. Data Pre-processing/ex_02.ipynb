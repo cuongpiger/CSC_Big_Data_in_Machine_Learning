{
 "metadata": {
  "language_info": {
   "codemirror_mode": {
    "name": "ipython",
    "version": 3
   },
   "file_extension": ".py",
   "mimetype": "text/x-python",
   "name": "python",
   "nbconvert_exporter": "python",
   "pygments_lexer": "ipython3",
   "version": "3.8.5"
  },
  "orig_nbformat": 2,
  "kernelspec": {
   "name": "python38564bit207240a302f84cf383d7b6dbf8fca3f2",
   "display_name": "Python 3.8.5 64-bit"
  },
  "metadata": {
   "interpreter": {
    "hash": "916dbcbb3f70747c44a77c7bcd40155683ae19c65e1c03b4aa3499c5328201f1"
   }
  }
 },
 "nbformat": 4,
 "nbformat_minor": 2,
 "cells": [
  {
   "cell_type": "code",
   "execution_count": 1,
   "metadata": {},
   "outputs": [],
   "source": [
    "%load_ext autoreload\n",
    "%autoreload 2"
   ]
  },
  {
   "cell_type": "code",
   "execution_count": 2,
   "metadata": {},
   "outputs": [],
   "source": [
    "from modules.my_pyspark import *\n",
    "from modules.my_drawer import MyDrawer\n",
    "from pyspark.sql.functions import *"
   ]
  },
  {
   "cell_type": "code",
   "execution_count": 3,
   "metadata": {},
   "outputs": [],
   "source": [
    "spark = MyPySpark(session=True, sql=True)\n",
    "drawer = MyDrawer()"
   ]
  },
  {
   "source": [
    "#### Task 1"
   ],
   "cell_type": "markdown",
   "metadata": {}
  },
  {
   "cell_type": "code",
   "execution_count": 4,
   "metadata": {},
   "outputs": [],
   "source": [
    "file_path = './data/AA_data'"
   ]
  },
  {
   "cell_type": "code",
   "execution_count": 5,
   "metadata": {},
   "outputs": [],
   "source": [
    "df = spark.readFile(file_path)"
   ]
  },
  {
   "source": [
    "#### Task 2"
   ],
   "cell_type": "markdown",
   "metadata": {}
  },
  {
   "cell_type": "code",
   "execution_count": 6,
   "metadata": {},
   "outputs": [
    {
     "output_type": "execute_result",
     "data": {
      "text/plain": [
       "583718"
      ]
     },
     "metadata": {},
     "execution_count": 6
    }
   ],
   "source": [
    "df.count()"
   ]
  },
  {
   "cell_type": "code",
   "execution_count": 7,
   "metadata": {},
   "outputs": [
    {
     "output_type": "stream",
     "name": "stdout",
     "text": [
      "root\n |-- Date (MM/DD/YYYY): string (nullable = true)\n |-- Flight Number: integer (nullable = true)\n |-- Destination Airport: string (nullable = true)\n |-- Actual elapsed time (Minutes): integer (nullable = true)\n\n"
     ]
    }
   ],
   "source": [
    "df.printSchema()"
   ]
  },
  {
   "cell_type": "code",
   "execution_count": 8,
   "metadata": {},
   "outputs": [
    {
     "output_type": "stream",
     "name": "stdout",
     "text": [
      "+-----------------+-------------+-------------------+-----------------------------+\n|Date (MM/DD/YYYY)|Flight Number|Destination Airport|Actual elapsed time (Minutes)|\n+-----------------+-------------+-------------------+-----------------------------+\n|       01/01/2014|            5|                HNL|                          519|\n|       01/01/2014|            7|                OGG|                          505|\n|       01/01/2014|           35|                SLC|                          174|\n|       01/01/2014|           43|                DTW|                          153|\n|       01/01/2014|           52|                PIT|                          137|\n+-----------------+-------------+-------------------+-----------------------------+\nonly showing top 5 rows\n\n"
     ]
    }
   ],
   "source": [
    "df.show(5)"
   ]
  },
  {
   "source": [
    "#### Task 3"
   ],
   "cell_type": "markdown",
   "metadata": {}
  },
  {
   "source": [
    "_Kiểm tra dữ liệu NaN_"
   ],
   "cell_type": "markdown",
   "metadata": {}
  },
  {
   "cell_type": "code",
   "execution_count": 9,
   "metadata": {},
   "outputs": [],
   "source": [
    "mask = [count(when(isnan(c), c)).alias(c) for c in df.columns]"
   ]
  },
  {
   "cell_type": "code",
   "execution_count": 10,
   "metadata": {},
   "outputs": [
    {
     "output_type": "stream",
     "name": "stdout",
     "text": [
      "+-----------------+-------------+-------------------+-----------------------------+\n|Date (MM/DD/YYYY)|Flight Number|Destination Airport|Actual elapsed time (Minutes)|\n+-----------------+-------------+-------------------+-----------------------------+\n|                0|            0|                  0|                            0|\n+-----------------+-------------+-------------------+-----------------------------+\n\n"
     ]
    }
   ],
   "source": [
    "df.select(mask).show(5)"
   ]
  },
  {
   "source": [
    "> * Ko có NaN value"
   ],
   "cell_type": "markdown",
   "metadata": {}
  },
  {
   "source": [
    "_Kiểm tra dữ liệu null_"
   ],
   "cell_type": "markdown",
   "metadata": {}
  },
  {
   "cell_type": "code",
   "execution_count": 11,
   "metadata": {},
   "outputs": [],
   "source": [
    "mask1 = [count(when(col(c).isNull(), c)).alias(c) for c in df.columns]"
   ]
  },
  {
   "cell_type": "code",
   "execution_count": 12,
   "metadata": {},
   "outputs": [
    {
     "output_type": "stream",
     "name": "stdout",
     "text": [
      "+-----------------+-------------+-------------------+-----------------------------+\n|Date (MM/DD/YYYY)|Flight Number|Destination Airport|Actual elapsed time (Minutes)|\n+-----------------+-------------+-------------------+-----------------------------+\n|                0|            0|                  0|                            0|\n+-----------------+-------------+-------------------+-----------------------------+\n\n"
     ]
    }
   ],
   "source": [
    "df.select(mask1).show()"
   ]
  },
  {
   "source": [
    "* Ko có giá trị null"
   ],
   "cell_type": "markdown",
   "metadata": {}
  },
  {
   "source": [
    "#### Task 4"
   ],
   "cell_type": "markdown",
   "metadata": {}
  },
  {
   "cell_type": "code",
   "execution_count": 13,
   "metadata": {},
   "outputs": [
    {
     "output_type": "execute_result",
     "data": {
      "text/plain": [
       "583718"
      ]
     },
     "metadata": {},
     "execution_count": 13
    }
   ],
   "source": [
    "df.count()"
   ]
  },
  {
   "cell_type": "code",
   "execution_count": 14,
   "metadata": {},
   "outputs": [
    {
     "output_type": "execute_result",
     "data": {
      "text/plain": [
       "583718"
      ]
     },
     "metadata": {},
     "execution_count": 14
    }
   ],
   "source": [
    "df.distinct().count()"
   ]
  },
  {
   "source": [
    "> * Ko có duplicate"
   ],
   "cell_type": "markdown",
   "metadata": {}
  },
  {
   "source": [
    "#### Task 5"
   ],
   "cell_type": "markdown",
   "metadata": {}
  },
  {
   "cell_type": "code",
   "execution_count": 15,
   "metadata": {},
   "outputs": [],
   "source": [
    "df = df.withColumn('airport', lower('Destination Airport'))"
   ]
  },
  {
   "cell_type": "code",
   "execution_count": 16,
   "metadata": {},
   "outputs": [],
   "source": [
    "df = df.drop('Destination Airport')"
   ]
  },
  {
   "cell_type": "code",
   "execution_count": 17,
   "metadata": {},
   "outputs": [
    {
     "output_type": "stream",
     "name": "stdout",
     "text": [
      "+-----------------+-------------+-----------------------------+-------+\n|Date (MM/DD/YYYY)|Flight Number|Actual elapsed time (Minutes)|airport|\n+-----------------+-------------+-----------------------------+-------+\n|       01/01/2014|            5|                          519|    hnl|\n|       01/01/2014|            7|                          505|    ogg|\n|       01/01/2014|           35|                          174|    slc|\n|       01/01/2014|           43|                          153|    dtw|\n|       01/01/2014|           52|                          137|    pit|\n+-----------------+-------------+-----------------------------+-------+\nonly showing top 5 rows\n\n"
     ]
    }
   ],
   "source": [
    "df.show(5)"
   ]
  },
  {
   "source": [
    "#### Task 6"
   ],
   "cell_type": "markdown",
   "metadata": {}
  },
  {
   "cell_type": "code",
   "execution_count": 18,
   "metadata": {},
   "outputs": [],
   "source": [
    "df = df.withColumn('date', df['Date (MM/DD/YYYY)'])"
   ]
  },
  {
   "cell_type": "code",
   "execution_count": 19,
   "metadata": {},
   "outputs": [],
   "source": [
    "df = df.drop('Date (MM/DD/YYYY)')"
   ]
  },
  {
   "cell_type": "code",
   "execution_count": 20,
   "metadata": {},
   "outputs": [
    {
     "output_type": "stream",
     "name": "stdout",
     "text": [
      "+-------------+-----------------------------+-------+----------+\n|Flight Number|Actual elapsed time (Minutes)|airport|      date|\n+-------------+-----------------------------+-------+----------+\n|            5|                          519|    hnl|01/01/2014|\n|            7|                          505|    ogg|01/01/2014|\n|           35|                          174|    slc|01/01/2014|\n|           43|                          153|    dtw|01/01/2014|\n|           52|                          137|    pit|01/01/2014|\n+-------------+-----------------------------+-------+----------+\nonly showing top 5 rows\n\n"
     ]
    }
   ],
   "source": [
    "df.show(5)"
   ]
  },
  {
   "source": [
    "#### Task 7"
   ],
   "cell_type": "markdown",
   "metadata": {}
  },
  {
   "cell_type": "code",
   "execution_count": 21,
   "metadata": {},
   "outputs": [],
   "source": [
    "df = df.withColumnRenamed('Flight Number', 'flight_num')\n",
    "df = df.withColumnRenamed('Actual elapsed time (Minutes)', 'actual_time')"
   ]
  },
  {
   "cell_type": "code",
   "execution_count": 22,
   "metadata": {},
   "outputs": [
    {
     "output_type": "stream",
     "name": "stdout",
     "text": [
      "+----------+-----------+-------+----------+\n|flight_num|actual_time|airport|      date|\n+----------+-----------+-------+----------+\n|         5|        519|    hnl|01/01/2014|\n|         7|        505|    ogg|01/01/2014|\n|        35|        174|    slc|01/01/2014|\n|        43|        153|    dtw|01/01/2014|\n|        52|        137|    pit|01/01/2014|\n+----------+-----------+-------+----------+\nonly showing top 5 rows\n\n"
     ]
    }
   ],
   "source": [
    "df.show(5)"
   ]
  },
  {
   "source": [
    "#### Task 8"
   ],
   "cell_type": "markdown",
   "metadata": {}
  },
  {
   "cell_type": "code",
   "execution_count": 26,
   "metadata": {},
   "outputs": [],
   "source": [
    "file_path1 = './data/AA_DFW_ALL.parquet'"
   ]
  },
  {
   "cell_type": "code",
   "execution_count": 27,
   "metadata": {},
   "outputs": [],
   "source": [
    "df.write.parquet(file_path1, mode='overwrite')"
   ]
  },
  {
   "source": [
    "#### Task 9"
   ],
   "cell_type": "markdown",
   "metadata": {}
  },
  {
   "cell_type": "code",
   "execution_count": 28,
   "metadata": {},
   "outputs": [],
   "source": [
    "df_new = spark.readFile(file_path1, 'parquet')"
   ]
  },
  {
   "source": [
    "#### Task 10"
   ],
   "cell_type": "markdown",
   "metadata": {}
  },
  {
   "source": [
    "_Tạo view `flights`_"
   ],
   "cell_type": "markdown",
   "metadata": {}
  },
  {
   "cell_type": "code",
   "execution_count": 29,
   "metadata": {},
   "outputs": [],
   "source": [
    "view = 'flights'"
   ]
  },
  {
   "cell_type": "code",
   "execution_count": 30,
   "metadata": {},
   "outputs": [],
   "source": [
    "df_new.createOrReplaceTempView(view)"
   ]
  },
  {
   "cell_type": "code",
   "execution_count": 31,
   "metadata": {},
   "outputs": [],
   "source": [
    "query = '''\n",
    "    select avg(f.actual_time)\n",
    "    from flights as f\n",
    "'''"
   ]
  },
  {
   "cell_type": "code",
   "execution_count": 33,
   "metadata": {},
   "outputs": [
    {
     "output_type": "stream",
     "name": "stdout",
     "text": [
      "+------------------+\n|  avg(actual_time)|\n+------------------+\n|147.59399915712726|\n+------------------+\n\n"
     ]
    }
   ],
   "source": [
    "spark.sqlQuery(query).show()"
   ]
  },
  {
   "cell_type": "code",
   "execution_count": 40,
   "metadata": {},
   "outputs": [
    {
     "output_type": "execute_result",
     "data": {
      "text/plain": [
       "147.59399915712726"
      ]
     },
     "metadata": {},
     "execution_count": 40
    }
   ],
   "source": [
    "spark.sqlQuery(query).collect()[0][0]"
   ]
  },
  {
   "cell_type": "code",
   "execution_count": null,
   "metadata": {},
   "outputs": [],
   "source": []
  }
 ]
}