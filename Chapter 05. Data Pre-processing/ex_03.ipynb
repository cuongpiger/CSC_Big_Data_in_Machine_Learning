{
 "metadata": {
  "language_info": {
   "codemirror_mode": {
    "name": "ipython",
    "version": 3
   },
   "file_extension": ".py",
   "mimetype": "text/x-python",
   "name": "python",
   "nbconvert_exporter": "python",
   "pygments_lexer": "ipython3",
   "version": "3.8.5"
  },
  "orig_nbformat": 2,
  "kernelspec": {
   "name": "python38564bit739b5682ab17410ead4710a41bd80672",
   "display_name": "Python 3.8.5 64-bit"
  },
  "metadata": {
   "interpreter": {
    "hash": "916dbcbb3f70747c44a77c7bcd40155683ae19c65e1c03b4aa3499c5328201f1"
   }
  }
 },
 "nbformat": 4,
 "nbformat_minor": 2,
 "cells": [
  {
   "source": [
    "![](../images/chap05_2.jpg)"
   ],
   "cell_type": "markdown",
   "metadata": {}
  },
  {
   "cell_type": "code",
   "execution_count": 1,
   "metadata": {},
   "outputs": [],
   "source": [
    "%load_ext autoreload\n",
    "%autoreload 2"
   ]
  },
  {
   "cell_type": "code",
   "execution_count": 2,
   "metadata": {},
   "outputs": [],
   "source": [
    "from modules.my_pyspark import *\n",
    "from modules.my_drawer import MyDrawer\n",
    "from pyspark.sql import functions as F"
   ]
  },
  {
   "cell_type": "code",
   "execution_count": 3,
   "metadata": {},
   "outputs": [],
   "source": [
    "spark = MyPySpark(session=True, sql=True)\n",
    "drawer = MyDrawer()"
   ]
  },
  {
   "source": [
    "#### Task 1"
   ],
   "cell_type": "markdown",
   "metadata": {}
  },
  {
   "cell_type": "code",
   "execution_count": 4,
   "metadata": {},
   "outputs": [],
   "source": [
    "file_path = r'../../local_data/complaints.csv'"
   ]
  },
  {
   "cell_type": "code",
   "execution_count": 5,
   "metadata": {},
   "outputs": [],
   "source": [
    "data = spark.readFile(file_path)"
   ]
  },
  {
   "source": [
    "#### Task 2"
   ],
   "cell_type": "markdown",
   "metadata": {}
  },
  {
   "source": [
    "_Cho biết dữ liệu có bao nhiêu dòng_"
   ],
   "cell_type": "markdown",
   "metadata": {}
  },
  {
   "cell_type": "code",
   "execution_count": 6,
   "metadata": {},
   "outputs": [
    {
     "output_type": "execute_result",
     "data": {
      "text/plain": [
       "2083368"
      ]
     },
     "metadata": {},
     "execution_count": 6
    }
   ],
   "source": [
    "data.count()"
   ]
  },
  {
   "source": [
    "_In schema_"
   ],
   "cell_type": "markdown",
   "metadata": {}
  },
  {
   "cell_type": "code",
   "execution_count": 7,
   "metadata": {},
   "outputs": [
    {
     "output_type": "stream",
     "name": "stdout",
     "text": [
      "root\n |-- Date received: string (nullable = true)\n |-- Product: string (nullable = true)\n |-- Sub-product: string (nullable = true)\n |-- Issue: string (nullable = true)\n |-- Sub-issue: string (nullable = true)\n |-- Consumer complaint narrative: string (nullable = true)\n |-- Company public response: string (nullable = true)\n |-- Company: string (nullable = true)\n |-- State: string (nullable = true)\n |-- ZIP code: string (nullable = true)\n |-- Tags: string (nullable = true)\n |-- Consumer consent provided?: string (nullable = true)\n |-- Submitted via: string (nullable = true)\n |-- Date sent to company: string (nullable = true)\n |-- Company response to consumer: string (nullable = true)\n |-- Timely response?: string (nullable = true)\n |-- Consumer disputed?: string (nullable = true)\n |-- Complaint ID: string (nullable = true)\n\n"
     ]
    }
   ],
   "source": [
    "data.printSchema()"
   ]
  },
  {
   "source": [
    "_Hiển thị 3 dòng đầu tiên_"
   ],
   "cell_type": "markdown",
   "metadata": {}
  },
  {
   "cell_type": "code",
   "execution_count": 8,
   "metadata": {},
   "outputs": [
    {
     "output_type": "stream",
     "name": "stdout",
     "text": [
      "Row(Date received='2019-09-24', Product='Debt collection', Sub-product='I do not know', Issue='Attempts to collect debt not owed', Sub-issue='Debt is not yours', Consumer complaint narrative='transworld systems inc. ', Company public response=None, Company=None, State=None, ZIP code=None, Tags=None, Consumer consent provided?=None, Submitted via=None, Date sent to company=None, Company response to consumer=None, Timely response?=None, Consumer disputed?=None, Complaint ID=None)\n\nRow(Date received='is trying to collect a debt that is not mine', Product=' not owed and is inaccurate.\"', Sub-product=None, Issue='TRANSWORLD SYSTEMS INC', Sub-issue='FL', Consumer complaint narrative='335XX', Company public response=None, Company='Consent provided', State='Web', ZIP code='2019-09-24', Tags='Closed with explanation', Consumer consent provided?='Yes', Submitted via='N/A', Date sent to company='3384392', Company response to consumer=None, Timely response?=None, Consumer disputed?=None, Complaint ID=None)\n\nRow(Date received='2019-09-19', Product='Credit reporting, credit repair services, or other personal consumer reports', Sub-product='Credit reporting', Issue='Incorrect information on your report', Sub-issue='Information belongs to someone else', Consumer complaint narrative=None, Company public response='Company has responded to the consumer and the CFPB and chooses not to provide a public response', Company='Experian Information Solutions Inc.', State='PA', ZIP code='15206', Tags=None, Consumer consent provided?='Consent not provided', Submitted via='Web', Date sent to company='2019-09-20', Company response to consumer='Closed with non-monetary relief', Timely response?='Yes', Consumer disputed?='N/A', Complaint ID='3379500')\n\n"
     ]
    }
   ],
   "source": [
    "for row in data.head(3):\n",
    "    print(row)\n",
    "    print()"
   ]
  },
  {
   "source": [
    "#### Task 3"
   ],
   "cell_type": "markdown",
   "metadata": {}
  },
  {
   "source": [
    "_Kiểm tra NaN value_"
   ],
   "cell_type": "markdown",
   "metadata": {}
  },
  {
   "cell_type": "code",
   "execution_count": 9,
   "metadata": {},
   "outputs": [
    {
     "output_type": "execute_result",
     "data": {
      "text/plain": [
       "   Date received  Product  Sub-product  Issue  Sub-issue  \\\n",
       "0              0        0            0      0          0   \n",
       "\n",
       "   Consumer complaint narrative  Company public response  Company  State  \\\n",
       "0                             0                        0        0      0   \n",
       "\n",
       "   ZIP code  Tags  Consumer consent provided?  Submitted via  \\\n",
       "0         0     0                           0              0   \n",
       "\n",
       "   Date sent to company  Company response to consumer  Timely response?  \\\n",
       "0                     0                             0                 0   \n",
       "\n",
       "   Consumer disputed?  Complaint ID  \n",
       "0                   0             0  "
      ],
      "text/html": "<div>\n<style scoped>\n    .dataframe tbody tr th:only-of-type {\n        vertical-align: middle;\n    }\n\n    .dataframe tbody tr th {\n        vertical-align: top;\n    }\n\n    .dataframe thead th {\n        text-align: right;\n    }\n</style>\n<table border=\"1\" class=\"dataframe\">\n  <thead>\n    <tr style=\"text-align: right;\">\n      <th></th>\n      <th>Date received</th>\n      <th>Product</th>\n      <th>Sub-product</th>\n      <th>Issue</th>\n      <th>Sub-issue</th>\n      <th>Consumer complaint narrative</th>\n      <th>Company public response</th>\n      <th>Company</th>\n      <th>State</th>\n      <th>ZIP code</th>\n      <th>Tags</th>\n      <th>Consumer consent provided?</th>\n      <th>Submitted via</th>\n      <th>Date sent to company</th>\n      <th>Company response to consumer</th>\n      <th>Timely response?</th>\n      <th>Consumer disputed?</th>\n      <th>Complaint ID</th>\n    </tr>\n  </thead>\n  <tbody>\n    <tr>\n      <th>0</th>\n      <td>0</td>\n      <td>0</td>\n      <td>0</td>\n      <td>0</td>\n      <td>0</td>\n      <td>0</td>\n      <td>0</td>\n      <td>0</td>\n      <td>0</td>\n      <td>0</td>\n      <td>0</td>\n      <td>0</td>\n      <td>0</td>\n      <td>0</td>\n      <td>0</td>\n      <td>0</td>\n      <td>0</td>\n      <td>0</td>\n    </tr>\n  </tbody>\n</table>\n</div>"
     },
     "metadata": {},
     "execution_count": 9
    }
   ],
   "source": [
    "checkNaNValues(data)"
   ]
  },
  {
   "source": [
    "> * Ko có nan values"
   ],
   "cell_type": "markdown",
   "metadata": {}
  },
  {
   "cell_type": "code",
   "execution_count": 10,
   "metadata": {},
   "outputs": [
    {
     "output_type": "execute_result",
     "data": {
      "text/plain": [
       "   Date received  Product  Sub-product   Issue  Sub-issue  \\\n",
       "0             40   209258       511176  325183     931248   \n",
       "\n",
       "   Consumer complaint narrative  Company public response  Company   State  \\\n",
       "0                       1454171                  1412034   573431  597994   \n",
       "\n",
       "   ZIP code     Tags  Consumer consent provided?  Submitted via  \\\n",
       "0    673059  1720420                      600884         583444   \n",
       "\n",
       "   Date sent to company  Company response to consumer  Timely response?  \\\n",
       "0                659690                        694041            711651   \n",
       "\n",
       "   Consumer disputed?  Complaint ID  \n",
       "0              721662        728036  "
      ],
      "text/html": "<div>\n<style scoped>\n    .dataframe tbody tr th:only-of-type {\n        vertical-align: middle;\n    }\n\n    .dataframe tbody tr th {\n        vertical-align: top;\n    }\n\n    .dataframe thead th {\n        text-align: right;\n    }\n</style>\n<table border=\"1\" class=\"dataframe\">\n  <thead>\n    <tr style=\"text-align: right;\">\n      <th></th>\n      <th>Date received</th>\n      <th>Product</th>\n      <th>Sub-product</th>\n      <th>Issue</th>\n      <th>Sub-issue</th>\n      <th>Consumer complaint narrative</th>\n      <th>Company public response</th>\n      <th>Company</th>\n      <th>State</th>\n      <th>ZIP code</th>\n      <th>Tags</th>\n      <th>Consumer consent provided?</th>\n      <th>Submitted via</th>\n      <th>Date sent to company</th>\n      <th>Company response to consumer</th>\n      <th>Timely response?</th>\n      <th>Consumer disputed?</th>\n      <th>Complaint ID</th>\n    </tr>\n  </thead>\n  <tbody>\n    <tr>\n      <th>0</th>\n      <td>40</td>\n      <td>209258</td>\n      <td>511176</td>\n      <td>325183</td>\n      <td>931248</td>\n      <td>1454171</td>\n      <td>1412034</td>\n      <td>573431</td>\n      <td>597994</td>\n      <td>673059</td>\n      <td>1720420</td>\n      <td>600884</td>\n      <td>583444</td>\n      <td>659690</td>\n      <td>694041</td>\n      <td>711651</td>\n      <td>721662</td>\n      <td>728036</td>\n    </tr>\n  </tbody>\n</table>\n</div>"
     },
     "metadata": {},
     "execution_count": 10
    }
   ],
   "source": [
    "checkNullValues(data)"
   ]
  },
  {
   "source": [
    "* Có nh dữ liệu null"
   ],
   "cell_type": "markdown",
   "metadata": {}
  },
  {
   "source": [
    "#### Task 4"
   ],
   "cell_type": "markdown",
   "metadata": {}
  },
  {
   "source": [
    "_Kiểm tra có duplicate ko_"
   ],
   "cell_type": "markdown",
   "metadata": {}
  },
  {
   "cell_type": "code",
   "execution_count": 11,
   "metadata": {},
   "outputs": [
    {
     "output_type": "execute_result",
     "data": {
      "text/plain": [
       "2020609"
      ]
     },
     "metadata": {},
     "execution_count": 11
    }
   ],
   "source": [
    "data.distinct().count()"
   ]
  },
  {
   "source": [
    "> * Có dữ liệu duplicate"
   ],
   "cell_type": "markdown",
   "metadata": {}
  },
  {
   "cell_type": "code",
   "execution_count": 12,
   "metadata": {},
   "outputs": [],
   "source": [
    "data = data.drop_duplicates()"
   ]
  },
  {
   "cell_type": "code",
   "execution_count": 13,
   "metadata": {},
   "outputs": [
    {
     "output_type": "execute_result",
     "data": {
      "text/plain": [
       "2020609"
      ]
     },
     "metadata": {},
     "execution_count": 13
    }
   ],
   "source": [
    "data.count()"
   ]
  },
  {
   "source": [
    "#### Task 5"
   ],
   "cell_type": "markdown",
   "metadata": {}
  },
  {
   "cell_type": "code",
   "execution_count": 14,
   "metadata": {},
   "outputs": [],
   "source": [
    "null_data = checkNullValues(data)"
   ]
  },
  {
   "cell_type": "code",
   "execution_count": 15,
   "metadata": {},
   "outputs": [],
   "source": [
    "null_data = null_data.T"
   ]
  },
  {
   "cell_type": "code",
   "execution_count": 16,
   "metadata": {},
   "outputs": [
    {
     "output_type": "execute_result",
     "data": {
      "text/plain": [
       "                                    0\n",
       "Date received                      39\n",
       "Product                        178373\n",
       "Sub-product                    472168\n",
       "Issue                          281416\n",
       "Sub-issue                      884470\n",
       "Consumer complaint narrative  1405173\n",
       "Company public response       1353196\n",
       "Company                        513337\n",
       "State                          537111\n",
       "ZIP code                       611785\n",
       "Tags                          1659004\n",
       "Consumer consent provided?     539324\n",
       "Submitted via                  521790\n",
       "Date sent to company           597981\n",
       "Company response to consumer   632256\n",
       "Timely response?               649891\n",
       "Consumer disputed?             659883\n",
       "Complaint ID                   666220"
      ],
      "text/html": "<div>\n<style scoped>\n    .dataframe tbody tr th:only-of-type {\n        vertical-align: middle;\n    }\n\n    .dataframe tbody tr th {\n        vertical-align: top;\n    }\n\n    .dataframe thead th {\n        text-align: right;\n    }\n</style>\n<table border=\"1\" class=\"dataframe\">\n  <thead>\n    <tr style=\"text-align: right;\">\n      <th></th>\n      <th>0</th>\n    </tr>\n  </thead>\n  <tbody>\n    <tr>\n      <th>Date received</th>\n      <td>39</td>\n    </tr>\n    <tr>\n      <th>Product</th>\n      <td>178373</td>\n    </tr>\n    <tr>\n      <th>Sub-product</th>\n      <td>472168</td>\n    </tr>\n    <tr>\n      <th>Issue</th>\n      <td>281416</td>\n    </tr>\n    <tr>\n      <th>Sub-issue</th>\n      <td>884470</td>\n    </tr>\n    <tr>\n      <th>Consumer complaint narrative</th>\n      <td>1405173</td>\n    </tr>\n    <tr>\n      <th>Company public response</th>\n      <td>1353196</td>\n    </tr>\n    <tr>\n      <th>Company</th>\n      <td>513337</td>\n    </tr>\n    <tr>\n      <th>State</th>\n      <td>537111</td>\n    </tr>\n    <tr>\n      <th>ZIP code</th>\n      <td>611785</td>\n    </tr>\n    <tr>\n      <th>Tags</th>\n      <td>1659004</td>\n    </tr>\n    <tr>\n      <th>Consumer consent provided?</th>\n      <td>539324</td>\n    </tr>\n    <tr>\n      <th>Submitted via</th>\n      <td>521790</td>\n    </tr>\n    <tr>\n      <th>Date sent to company</th>\n      <td>597981</td>\n    </tr>\n    <tr>\n      <th>Company response to consumer</th>\n      <td>632256</td>\n    </tr>\n    <tr>\n      <th>Timely response?</th>\n      <td>649891</td>\n    </tr>\n    <tr>\n      <th>Consumer disputed?</th>\n      <td>659883</td>\n    </tr>\n    <tr>\n      <th>Complaint ID</th>\n      <td>666220</td>\n    </tr>\n  </tbody>\n</table>\n</div>"
     },
     "metadata": {},
     "execution_count": 16
    }
   ],
   "source": [
    "null_data"
   ]
  },
  {
   "source": [
    "_Tính phần trăm_"
   ],
   "cell_type": "markdown",
   "metadata": {}
  },
  {
   "cell_type": "code",
   "execution_count": 17,
   "metadata": {},
   "outputs": [],
   "source": [
    "null_data['percentage'] = null_data[0]/data.count()"
   ]
  },
  {
   "cell_type": "code",
   "execution_count": 18,
   "metadata": {},
   "outputs": [
    {
     "output_type": "execute_result",
     "data": {
      "text/plain": [
       "                                    0  percentage\n",
       "Date received                      39    0.000019\n",
       "Product                        178373    0.088277\n",
       "Sub-product                    472168    0.233676\n",
       "Issue                          281416    0.139273\n",
       "Sub-issue                      884470    0.437724\n",
       "Consumer complaint narrative  1405173    0.695421\n",
       "Company public response       1353196    0.669697\n",
       "Company                        513337    0.254051\n",
       "State                          537111    0.265816\n",
       "ZIP code                       611785    0.302773\n",
       "Tags                          1659004    0.821042\n",
       "Consumer consent provided?     539324    0.266912\n",
       "Submitted via                  521790    0.258234\n",
       "Date sent to company           597981    0.295941\n",
       "Company response to consumer   632256    0.312904\n",
       "Timely response?               649891    0.321631\n",
       "Consumer disputed?             659883    0.326576\n",
       "Complaint ID                   666220    0.329712"
      ],
      "text/html": "<div>\n<style scoped>\n    .dataframe tbody tr th:only-of-type {\n        vertical-align: middle;\n    }\n\n    .dataframe tbody tr th {\n        vertical-align: top;\n    }\n\n    .dataframe thead th {\n        text-align: right;\n    }\n</style>\n<table border=\"1\" class=\"dataframe\">\n  <thead>\n    <tr style=\"text-align: right;\">\n      <th></th>\n      <th>0</th>\n      <th>percentage</th>\n    </tr>\n  </thead>\n  <tbody>\n    <tr>\n      <th>Date received</th>\n      <td>39</td>\n      <td>0.000019</td>\n    </tr>\n    <tr>\n      <th>Product</th>\n      <td>178373</td>\n      <td>0.088277</td>\n    </tr>\n    <tr>\n      <th>Sub-product</th>\n      <td>472168</td>\n      <td>0.233676</td>\n    </tr>\n    <tr>\n      <th>Issue</th>\n      <td>281416</td>\n      <td>0.139273</td>\n    </tr>\n    <tr>\n      <th>Sub-issue</th>\n      <td>884470</td>\n      <td>0.437724</td>\n    </tr>\n    <tr>\n      <th>Consumer complaint narrative</th>\n      <td>1405173</td>\n      <td>0.695421</td>\n    </tr>\n    <tr>\n      <th>Company public response</th>\n      <td>1353196</td>\n      <td>0.669697</td>\n    </tr>\n    <tr>\n      <th>Company</th>\n      <td>513337</td>\n      <td>0.254051</td>\n    </tr>\n    <tr>\n      <th>State</th>\n      <td>537111</td>\n      <td>0.265816</td>\n    </tr>\n    <tr>\n      <th>ZIP code</th>\n      <td>611785</td>\n      <td>0.302773</td>\n    </tr>\n    <tr>\n      <th>Tags</th>\n      <td>1659004</td>\n      <td>0.821042</td>\n    </tr>\n    <tr>\n      <th>Consumer consent provided?</th>\n      <td>539324</td>\n      <td>0.266912</td>\n    </tr>\n    <tr>\n      <th>Submitted via</th>\n      <td>521790</td>\n      <td>0.258234</td>\n    </tr>\n    <tr>\n      <th>Date sent to company</th>\n      <td>597981</td>\n      <td>0.295941</td>\n    </tr>\n    <tr>\n      <th>Company response to consumer</th>\n      <td>632256</td>\n      <td>0.312904</td>\n    </tr>\n    <tr>\n      <th>Timely response?</th>\n      <td>649891</td>\n      <td>0.321631</td>\n    </tr>\n    <tr>\n      <th>Consumer disputed?</th>\n      <td>659883</td>\n      <td>0.326576</td>\n    </tr>\n    <tr>\n      <th>Complaint ID</th>\n      <td>666220</td>\n      <td>0.329712</td>\n    </tr>\n  </tbody>\n</table>\n</div>"
     },
     "metadata": {},
     "execution_count": 18
    }
   ],
   "source": [
    "null_data"
   ]
  },
  {
   "source": [
    "#### Task 6"
   ],
   "cell_type": "markdown",
   "metadata": {}
  },
  {
   "cell_type": "code",
   "execution_count": 19,
   "metadata": {},
   "outputs": [],
   "source": [
    "features = [\n",
    "    'Date received',\n",
    "    'Product',\n",
    "    'Sub-product',\n",
    "    'Issue',\n",
    "    'Company',\n",
    "    'State',\n",
    "    'Consumer consent provided?',\n",
    "    'Submitted via'\n",
    "]"
   ]
  },
  {
   "cell_type": "code",
   "execution_count": 20,
   "metadata": {},
   "outputs": [],
   "source": [
    "data_sub = data.select(features)"
   ]
  },
  {
   "source": [
    "#### Task 7"
   ],
   "cell_type": "markdown",
   "metadata": {}
  },
  {
   "cell_type": "code",
   "execution_count": 21,
   "metadata": {},
   "outputs": [],
   "source": [
    "data_sub = data_sub.dropna(how='any', subset=['Date received', 'Product'])"
   ]
  },
  {
   "cell_type": "code",
   "execution_count": 22,
   "metadata": {},
   "outputs": [
    {
     "output_type": "execute_result",
     "data": {
      "text/plain": [
       "   Date received  Product  Sub-product   Issue  Company   State  \\\n",
       "0              0        0       332225  141159   373348  397120   \n",
       "\n",
       "   Consumer consent provided?  Submitted via  \n",
       "0                      399331         381799  "
      ],
      "text/html": "<div>\n<style scoped>\n    .dataframe tbody tr th:only-of-type {\n        vertical-align: middle;\n    }\n\n    .dataframe tbody tr th {\n        vertical-align: top;\n    }\n\n    .dataframe thead th {\n        text-align: right;\n    }\n</style>\n<table border=\"1\" class=\"dataframe\">\n  <thead>\n    <tr style=\"text-align: right;\">\n      <th></th>\n      <th>Date received</th>\n      <th>Product</th>\n      <th>Sub-product</th>\n      <th>Issue</th>\n      <th>Company</th>\n      <th>State</th>\n      <th>Consumer consent provided?</th>\n      <th>Submitted via</th>\n    </tr>\n  </thead>\n  <tbody>\n    <tr>\n      <th>0</th>\n      <td>0</td>\n      <td>0</td>\n      <td>332225</td>\n      <td>141159</td>\n      <td>373348</td>\n      <td>397120</td>\n      <td>399331</td>\n      <td>381799</td>\n    </tr>\n  </tbody>\n</table>\n</div>"
     },
     "metadata": {},
     "execution_count": 22
    }
   ],
   "source": [
    "checkNullValues(data_sub)"
   ]
  },
  {
   "source": [
    "#### Task 8"
   ],
   "cell_type": "markdown",
   "metadata": {}
  },
  {
   "cell_type": "code",
   "execution_count": 23,
   "metadata": {},
   "outputs": [],
   "source": [
    "data_sub = data_sub.withColumn('date_from_text', F.regexp_extract(data_sub['Date received'], r\"(\\d{4}-\\d{1,2}-\\d{1,2})\", 0))"
   ]
  },
  {
   "cell_type": "code",
   "execution_count": 24,
   "metadata": {},
   "outputs": [],
   "source": [
    "data_sub = data_sub.filter(data_sub['date_from_text'] != '')"
   ]
  },
  {
   "cell_type": "code",
   "execution_count": 25,
   "metadata": {},
   "outputs": [
    {
     "output_type": "execute_result",
     "data": {
      "text/plain": [
       "[Row(date_from_text='2019-09-19', Date received='2019-09-19'),\n",
       " Row(date_from_text='2019-04-04', Date received='2019-04-04'),\n",
       " Row(date_from_text='2019-02-18', Date received='2019-02-18'),\n",
       " Row(date_from_text='2019-05-25', Date received='2019-05-25'),\n",
       " Row(date_from_text='2019-03-28', Date received='2019-03-28'),\n",
       " Row(date_from_text='2018-12-28', Date received='2018-12-28'),\n",
       " Row(date_from_text='2019-08-08', Date received='2019-08-08'),\n",
       " Row(date_from_text='2019-04-04', Date received='2019-04-04'),\n",
       " Row(date_from_text='2019-04-22', Date received='2019-04-22'),\n",
       " Row(date_from_text='2019-03-27', Date received='2019-03-27')]"
      ]
     },
     "metadata": {},
     "execution_count": 25
    }
   ],
   "source": [
    "data_sub.select('date_from_text', 'Date received').head(10)"
   ]
  },
  {
   "source": [
    "#### Task 9"
   ],
   "cell_type": "markdown",
   "metadata": {}
  },
  {
   "cell_type": "code",
   "execution_count": 26,
   "metadata": {},
   "outputs": [],
   "source": [
    "data_sub = data_sub.withColumn('CCP', data_sub['Consumer consent provided?'])"
   ]
  },
  {
   "cell_type": "code",
   "execution_count": 27,
   "metadata": {},
   "outputs": [],
   "source": [
    "data_sub = data_sub.fillna('Consent not provided', subset='CCP')"
   ]
  },
  {
   "source": [
    "#### Task 10"
   ],
   "cell_type": "markdown",
   "metadata": {}
  },
  {
   "cell_type": "code",
   "execution_count": 28,
   "metadata": {},
   "outputs": [],
   "source": [
    "data_sub = data_sub.withColumn('SV', data_sub['Submitted via'])"
   ]
  },
  {
   "cell_type": "code",
   "execution_count": 29,
   "metadata": {},
   "outputs": [],
   "source": [
    "data_sub = data_sub.fillna('Other', subset='SV')"
   ]
  },
  {
   "source": [
    "#### Task 11"
   ],
   "cell_type": "markdown",
   "metadata": {}
  },
  {
   "cell_type": "code",
   "execution_count": 30,
   "metadata": {},
   "outputs": [],
   "source": [
    "data_sub = data_sub.withColumn('Sub-pr', data_sub['Sub-product'])"
   ]
  },
  {
   "cell_type": "code",
   "execution_count": 31,
   "metadata": {},
   "outputs": [],
   "source": [
    "data_sub = data_sub.fillna('I do not know', subset='Sub-pr')"
   ]
  },
  {
   "source": [
    "#### Task 12"
   ],
   "cell_type": "markdown",
   "metadata": {}
  },
  {
   "cell_type": "code",
   "execution_count": 32,
   "metadata": {},
   "outputs": [],
   "source": [
    "data_sub = data_sub.withColumn('State_new', when(col('State').isNull(), 'unknown').otherwise(col('State')))"
   ]
  },
  {
   "source": [
    "#### Task 13"
   ],
   "cell_type": "markdown",
   "metadata": {}
  },
  {
   "cell_type": "code",
   "execution_count": 33,
   "metadata": {},
   "outputs": [],
   "source": [
    "from datetime import datetime\n",
    "from pyspark.sql import types"
   ]
  },
  {
   "cell_type": "code",
   "execution_count": 34,
   "metadata": {},
   "outputs": [
    {
     "output_type": "error",
     "ename": "NameError",
     "evalue": "name 'udf' is not defined",
     "traceback": [
      "\u001b[0;31m---------------------------------------------------------------------------\u001b[0m",
      "\u001b[0;31mNameError\u001b[0m                                 Traceback (most recent call last)",
      "\u001b[0;32m<ipython-input-34-72a0b5b02672>\u001b[0m in \u001b[0;36m<module>\u001b[0;34m\u001b[0m\n\u001b[0;32m----> 1\u001b[0;31m \u001b[0mfunc\u001b[0m \u001b[0;34m=\u001b[0m \u001b[0mudf\u001b[0m\u001b[0;34m(\u001b[0m\u001b[0;32mlambda\u001b[0m \u001b[0mx\u001b[0m\u001b[0;34m:\u001b[0m \u001b[0mdatetime\u001b[0m\u001b[0;34m.\u001b[0m\u001b[0mstrptime\u001b[0m\u001b[0;34m(\u001b[0m\u001b[0mx\u001b[0m\u001b[0;34m,\u001b[0m \u001b[0;34m'%Y-%m-%d'\u001b[0m\u001b[0;34m)\u001b[0m\u001b[0;34m,\u001b[0m \u001b[0mtypes\u001b[0m\u001b[0;34m.\u001b[0m\u001b[0mDateType\u001b[0m\u001b[0;34m(\u001b[0m\u001b[0;34m)\u001b[0m\u001b[0;34m)\u001b[0m\u001b[0;34m\u001b[0m\u001b[0;34m\u001b[0m\u001b[0m\n\u001b[0m",
      "\u001b[0;31mNameError\u001b[0m: name 'udf' is not defined"
     ]
    }
   ],
   "source": [
    "func = udf(lambda x: datetime.strptime(x, '%Y-%m-%d'), types.DateType())"
   ]
  },
  {
   "cell_type": "code",
   "execution_count": 43,
   "metadata": {},
   "outputs": [],
   "source": [
    "data_sub = data_sub.withColumn('Date_received', func(col('date_from_text')))"
   ]
  },
  {
   "cell_type": "code",
   "execution_count": 44,
   "metadata": {},
   "outputs": [
    {
     "output_type": "stream",
     "name": "stdout",
     "text": [
      "root\n |-- Date received: string (nullable = true)\n |-- Product: string (nullable = true)\n |-- Sub-product: string (nullable = true)\n |-- Issue: string (nullable = true)\n |-- Company: string (nullable = true)\n |-- State: string (nullable = true)\n |-- Consumer consent provided?: string (nullable = true)\n |-- Submitted via: string (nullable = true)\n |-- date_from_text: string (nullable = true)\n |-- CCP: string (nullable = false)\n |-- SV: string (nullable = false)\n |-- Sub-pr: string (nullable = false)\n |-- State_new: string (nullable = true)\n |-- Date_received: date (nullable = true)\n\n"
     ]
    }
   ],
   "source": [
    "data_sub.printSchema()"
   ]
  },
  {
   "source": [
    "#### Task 14"
   ],
   "cell_type": "markdown",
   "metadata": {}
  },
  {
   "cell_type": "code",
   "execution_count": 45,
   "metadata": {},
   "outputs": [],
   "source": [
    "data_sub = data_sub.withColumn('Day_of_week', dayofweek('Date_received'))"
   ]
  },
  {
   "source": [
    "#### Task 15"
   ],
   "cell_type": "markdown",
   "metadata": {}
  },
  {
   "cell_type": "code",
   "execution_count": 46,
   "metadata": {},
   "outputs": [],
   "source": [
    "data_sub = data_sub.withColumn('year', year('Date_received')).withColumn('month', month('Date_received'))"
   ]
  },
  {
   "cell_type": "code",
   "execution_count": 48,
   "metadata": {},
   "outputs": [
    {
     "output_type": "stream",
     "name": "stdout",
     "text": [
      "+-------------+-----------+-----+----+\n|Date_received|Day_of_week|month|year|\n+-------------+-----------+-----+----+\n|   2019-09-19|          5|    9|2019|\n|   2019-04-04|          5|    4|2019|\n|   2019-02-18|          2|    2|2019|\n|   2019-05-25|          7|    5|2019|\n|   2019-03-28|          5|    3|2019|\n|   2018-12-28|          6|   12|2018|\n|   2019-08-08|          5|    8|2019|\n|   2019-04-04|          5|    4|2019|\n|   2019-04-22|          2|    4|2019|\n|   2019-03-27|          4|    3|2019|\n|   2019-04-26|          6|    4|2019|\n|   2019-04-16|          3|    4|2019|\n|   2019-06-04|          3|    6|2019|\n|   2019-01-01|          3|    1|2019|\n|   2019-06-21|          6|    6|2019|\n|   2018-12-22|          7|   12|2018|\n|   2019-01-12|          7|    1|2019|\n|   2019-10-28|          2|   10|2019|\n|   2019-03-13|          4|    3|2019|\n|   2019-04-11|          5|    4|2019|\n+-------------+-----------+-----+----+\nonly showing top 20 rows\n\n"
     ]
    }
   ],
   "source": [
    "data_sub.select('Date_received', 'Day_of_week', 'month', 'year').show()"
   ]
  },
  {
   "source": [
    "#### Task 16"
   ],
   "cell_type": "markdown",
   "metadata": {}
  },
  {
   "cell_type": "code",
   "execution_count": 49,
   "metadata": {},
   "outputs": [
    {
     "output_type": "execute_result",
     "data": {
      "text/plain": [
       "array([[<AxesSubplot:title={'center':'Day_of_week'}>]], dtype=object)"
      ]
     },
     "metadata": {},
     "execution_count": 49
    },
    {
     "output_type": "display_data",
     "data": {
      "text/plain": "<Figure size 432x288 with 1 Axes>",
      "image/svg+xml": "<?xml version=\"1.0\" encoding=\"utf-8\" standalone=\"no\"?>\n<!DOCTYPE svg PUBLIC \"-//W3C//DTD SVG 1.1//EN\"\n  \"http://www.w3.org/Graphics/SVG/1.1/DTD/svg11.dtd\">\n<svg height=\"263.63625pt\" version=\"1.1\" viewBox=\"0 0 394.375 263.63625\" width=\"394.375pt\" xmlns=\"http://www.w3.org/2000/svg\" xmlns:xlink=\"http://www.w3.org/1999/xlink\">\n <metadata>\n  <rdf:RDF xmlns:cc=\"http://creativecommons.org/ns#\" xmlns:dc=\"http://purl.org/dc/elements/1.1/\" xmlns:rdf=\"http://www.w3.org/1999/02/22-rdf-syntax-ns#\">\n   <cc:Work>\n    <dc:type rdf:resource=\"http://purl.org/dc/dcmitype/StillImage\"/>\n    <dc:date>2021-04-24T21:35:13.029526</dc:date>\n    <dc:format>image/svg+xml</dc:format>\n    <dc:creator>\n     <cc:Agent>\n      <dc:title>Matplotlib v3.4.1, https://matplotlib.org/</dc:title>\n     </cc:Agent>\n    </dc:creator>\n   </cc:Work>\n  </rdf:RDF>\n </metadata>\n <defs>\n  <style type=\"text/css\">*{stroke-linecap:butt;stroke-linejoin:round;}</style>\n </defs>\n <g id=\"figure_1\">\n  <g id=\"patch_1\">\n   <path d=\"M 0 263.63625 \nL 394.375 263.63625 \nL 394.375 0 \nL 0 0 \nz\n\" style=\"fill:none;\"/>\n  </g>\n  <g id=\"axes_1\">\n   <g id=\"patch_2\">\n    <path d=\"M 52.375 239.758125 \nL 387.175 239.758125 \nL 387.175 22.318125 \nL 52.375 22.318125 \nz\n\" style=\"fill:#ffffff;\"/>\n   </g>\n   <g id=\"patch_3\">\n    <path clip-path=\"url(#pb067bcd329)\" d=\"M 67.593182 239.758125 \nL 98.029545 239.758125 \nL 98.029545 180.075122 \nL 67.593182 180.075122 \nz\n\" style=\"fill:#1f77b4;\"/>\n   </g>\n   <g id=\"patch_4\">\n    <path clip-path=\"url(#pb067bcd329)\" d=\"M 98.029545 239.758125 \nL 128.465909 239.758125 \nL 128.465909 65.357296 \nL 98.029545 65.357296 \nz\n\" style=\"fill:#1f77b4;\"/>\n   </g>\n   <g id=\"patch_5\">\n    <path clip-path=\"url(#pb067bcd329)\" d=\"M 128.465909 239.758125 \nL 158.902273 239.758125 \nL 158.902273 239.758125 \nL 128.465909 239.758125 \nz\n\" style=\"fill:#1f77b4;\"/>\n   </g>\n   <g id=\"patch_6\">\n    <path clip-path=\"url(#pb067bcd329)\" d=\"M 158.902273 239.758125 \nL 189.338636 239.758125 \nL 189.338636 32.672411 \nL 158.902273 32.672411 \nz\n\" style=\"fill:#1f77b4;\"/>\n   </g>\n   <g id=\"patch_7\">\n    <path clip-path=\"url(#pb067bcd329)\" d=\"M 189.338636 239.758125 \nL 219.775 239.758125 \nL 219.775 239.758125 \nL 189.338636 239.758125 \nz\n\" style=\"fill:#1f77b4;\"/>\n   </g>\n   <g id=\"patch_8\">\n    <path clip-path=\"url(#pb067bcd329)\" d=\"M 219.775 239.758125 \nL 250.211364 239.758125 \nL 250.211364 33.106447 \nL 219.775 33.106447 \nz\n\" style=\"fill:#1f77b4;\"/>\n   </g>\n   <g id=\"patch_9\">\n    <path clip-path=\"url(#pb067bcd329)\" d=\"M 250.211364 239.758125 \nL 280.647727 239.758125 \nL 280.647727 41.86395 \nL 250.211364 41.86395 \nz\n\" style=\"fill:#1f77b4;\"/>\n   </g>\n   <g id=\"patch_10\">\n    <path clip-path=\"url(#pb067bcd329)\" d=\"M 280.647727 239.758125 \nL 311.084091 239.758125 \nL 311.084091 239.758125 \nL 280.647727 239.758125 \nz\n\" style=\"fill:#1f77b4;\"/>\n   </g>\n   <g id=\"patch_11\">\n    <path clip-path=\"url(#pb067bcd329)\" d=\"M 311.084091 239.758125 \nL 341.520455 239.758125 \nL 341.520455 60.085373 \nL 311.084091 60.085373 \nz\n\" style=\"fill:#1f77b4;\"/>\n   </g>\n   <g id=\"patch_12\">\n    <path clip-path=\"url(#pb067bcd329)\" d=\"M 341.520455 239.758125 \nL 371.956818 239.758125 \nL 371.956818 164.102128 \nL 341.520455 164.102128 \nz\n\" style=\"fill:#1f77b4;\"/>\n   </g>\n   <g id=\"matplotlib.axis_1\">\n    <g id=\"xtick_1\">\n     <g id=\"line2d_1\">\n      <path clip-path=\"url(#pb067bcd329)\" d=\"M 67.593182 239.758125 \nL 67.593182 22.318125 \n\" style=\"fill:none;stroke:#b0b0b0;stroke-linecap:square;stroke-width:0.8;\"/>\n     </g>\n     <g id=\"line2d_2\">\n      <defs>\n       <path d=\"M 0 0 \nL 0 3.5 \n\" id=\"m63daca3ea2\" style=\"stroke:#000000;stroke-width:0.8;\"/>\n      </defs>\n      <g>\n       <use style=\"stroke:#000000;stroke-width:0.8;\" x=\"67.593182\" xlink:href=\"#m63daca3ea2\" y=\"239.758125\"/>\n      </g>\n     </g>\n     <g id=\"text_1\">\n      <!-- 1 -->\n      <g transform=\"translate(64.411932 254.356563)scale(0.1 -0.1)\">\n       <defs>\n        <path d=\"M 794 531 \nL 1825 531 \nL 1825 4091 \nL 703 3866 \nL 703 4441 \nL 1819 4666 \nL 2450 4666 \nL 2450 531 \nL 3481 531 \nL 3481 0 \nL 794 0 \nL 794 531 \nz\n\" id=\"DejaVuSans-31\" transform=\"scale(0.015625)\"/>\n       </defs>\n       <use xlink:href=\"#DejaVuSans-31\"/>\n      </g>\n     </g>\n    </g>\n    <g id=\"xtick_2\">\n     <g id=\"line2d_3\">\n      <path clip-path=\"url(#pb067bcd329)\" d=\"M 118.320455 239.758125 \nL 118.320455 22.318125 \n\" style=\"fill:none;stroke:#b0b0b0;stroke-linecap:square;stroke-width:0.8;\"/>\n     </g>\n     <g id=\"line2d_4\">\n      <g>\n       <use style=\"stroke:#000000;stroke-width:0.8;\" x=\"118.320455\" xlink:href=\"#m63daca3ea2\" y=\"239.758125\"/>\n      </g>\n     </g>\n     <g id=\"text_2\">\n      <!-- 2 -->\n      <g transform=\"translate(115.139205 254.356563)scale(0.1 -0.1)\">\n       <defs>\n        <path d=\"M 1228 531 \nL 3431 531 \nL 3431 0 \nL 469 0 \nL 469 531 \nQ 828 903 1448 1529 \nQ 2069 2156 2228 2338 \nQ 2531 2678 2651 2914 \nQ 2772 3150 2772 3378 \nQ 2772 3750 2511 3984 \nQ 2250 4219 1831 4219 \nQ 1534 4219 1204 4116 \nQ 875 4013 500 3803 \nL 500 4441 \nQ 881 4594 1212 4672 \nQ 1544 4750 1819 4750 \nQ 2544 4750 2975 4387 \nQ 3406 4025 3406 3419 \nQ 3406 3131 3298 2873 \nQ 3191 2616 2906 2266 \nQ 2828 2175 2409 1742 \nQ 1991 1309 1228 531 \nz\n\" id=\"DejaVuSans-32\" transform=\"scale(0.015625)\"/>\n       </defs>\n       <use xlink:href=\"#DejaVuSans-32\"/>\n      </g>\n     </g>\n    </g>\n    <g id=\"xtick_3\">\n     <g id=\"line2d_5\">\n      <path clip-path=\"url(#pb067bcd329)\" d=\"M 169.047727 239.758125 \nL 169.047727 22.318125 \n\" style=\"fill:none;stroke:#b0b0b0;stroke-linecap:square;stroke-width:0.8;\"/>\n     </g>\n     <g id=\"line2d_6\">\n      <g>\n       <use style=\"stroke:#000000;stroke-width:0.8;\" x=\"169.047727\" xlink:href=\"#m63daca3ea2\" y=\"239.758125\"/>\n      </g>\n     </g>\n     <g id=\"text_3\">\n      <!-- 3 -->\n      <g transform=\"translate(165.866477 254.356563)scale(0.1 -0.1)\">\n       <defs>\n        <path d=\"M 2597 2516 \nQ 3050 2419 3304 2112 \nQ 3559 1806 3559 1356 \nQ 3559 666 3084 287 \nQ 2609 -91 1734 -91 \nQ 1441 -91 1130 -33 \nQ 819 25 488 141 \nL 488 750 \nQ 750 597 1062 519 \nQ 1375 441 1716 441 \nQ 2309 441 2620 675 \nQ 2931 909 2931 1356 \nQ 2931 1769 2642 2001 \nQ 2353 2234 1838 2234 \nL 1294 2234 \nL 1294 2753 \nL 1863 2753 \nQ 2328 2753 2575 2939 \nQ 2822 3125 2822 3475 \nQ 2822 3834 2567 4026 \nQ 2313 4219 1838 4219 \nQ 1578 4219 1281 4162 \nQ 984 4106 628 3988 \nL 628 4550 \nQ 988 4650 1302 4700 \nQ 1616 4750 1894 4750 \nQ 2613 4750 3031 4423 \nQ 3450 4097 3450 3541 \nQ 3450 3153 3228 2886 \nQ 3006 2619 2597 2516 \nz\n\" id=\"DejaVuSans-33\" transform=\"scale(0.015625)\"/>\n       </defs>\n       <use xlink:href=\"#DejaVuSans-33\"/>\n      </g>\n     </g>\n    </g>\n    <g id=\"xtick_4\">\n     <g id=\"line2d_7\">\n      <path clip-path=\"url(#pb067bcd329)\" d=\"M 219.775 239.758125 \nL 219.775 22.318125 \n\" style=\"fill:none;stroke:#b0b0b0;stroke-linecap:square;stroke-width:0.8;\"/>\n     </g>\n     <g id=\"line2d_8\">\n      <g>\n       <use style=\"stroke:#000000;stroke-width:0.8;\" x=\"219.775\" xlink:href=\"#m63daca3ea2\" y=\"239.758125\"/>\n      </g>\n     </g>\n     <g id=\"text_4\">\n      <!-- 4 -->\n      <g transform=\"translate(216.59375 254.356563)scale(0.1 -0.1)\">\n       <defs>\n        <path d=\"M 2419 4116 \nL 825 1625 \nL 2419 1625 \nL 2419 4116 \nz\nM 2253 4666 \nL 3047 4666 \nL 3047 1625 \nL 3713 1625 \nL 3713 1100 \nL 3047 1100 \nL 3047 0 \nL 2419 0 \nL 2419 1100 \nL 313 1100 \nL 313 1709 \nL 2253 4666 \nz\n\" id=\"DejaVuSans-34\" transform=\"scale(0.015625)\"/>\n       </defs>\n       <use xlink:href=\"#DejaVuSans-34\"/>\n      </g>\n     </g>\n    </g>\n    <g id=\"xtick_5\">\n     <g id=\"line2d_9\">\n      <path clip-path=\"url(#pb067bcd329)\" d=\"M 270.502273 239.758125 \nL 270.502273 22.318125 \n\" style=\"fill:none;stroke:#b0b0b0;stroke-linecap:square;stroke-width:0.8;\"/>\n     </g>\n     <g id=\"line2d_10\">\n      <g>\n       <use style=\"stroke:#000000;stroke-width:0.8;\" x=\"270.502273\" xlink:href=\"#m63daca3ea2\" y=\"239.758125\"/>\n      </g>\n     </g>\n     <g id=\"text_5\">\n      <!-- 5 -->\n      <g transform=\"translate(267.321023 254.356563)scale(0.1 -0.1)\">\n       <defs>\n        <path d=\"M 691 4666 \nL 3169 4666 \nL 3169 4134 \nL 1269 4134 \nL 1269 2991 \nQ 1406 3038 1543 3061 \nQ 1681 3084 1819 3084 \nQ 2600 3084 3056 2656 \nQ 3513 2228 3513 1497 \nQ 3513 744 3044 326 \nQ 2575 -91 1722 -91 \nQ 1428 -91 1123 -41 \nQ 819 9 494 109 \nL 494 744 \nQ 775 591 1075 516 \nQ 1375 441 1709 441 \nQ 2250 441 2565 725 \nQ 2881 1009 2881 1497 \nQ 2881 1984 2565 2268 \nQ 2250 2553 1709 2553 \nQ 1456 2553 1204 2497 \nQ 953 2441 691 2322 \nL 691 4666 \nz\n\" id=\"DejaVuSans-35\" transform=\"scale(0.015625)\"/>\n       </defs>\n       <use xlink:href=\"#DejaVuSans-35\"/>\n      </g>\n     </g>\n    </g>\n    <g id=\"xtick_6\">\n     <g id=\"line2d_11\">\n      <path clip-path=\"url(#pb067bcd329)\" d=\"M 321.229545 239.758125 \nL 321.229545 22.318125 \n\" style=\"fill:none;stroke:#b0b0b0;stroke-linecap:square;stroke-width:0.8;\"/>\n     </g>\n     <g id=\"line2d_12\">\n      <g>\n       <use style=\"stroke:#000000;stroke-width:0.8;\" x=\"321.229545\" xlink:href=\"#m63daca3ea2\" y=\"239.758125\"/>\n      </g>\n     </g>\n     <g id=\"text_6\">\n      <!-- 6 -->\n      <g transform=\"translate(318.048295 254.356563)scale(0.1 -0.1)\">\n       <defs>\n        <path d=\"M 2113 2584 \nQ 1688 2584 1439 2293 \nQ 1191 2003 1191 1497 \nQ 1191 994 1439 701 \nQ 1688 409 2113 409 \nQ 2538 409 2786 701 \nQ 3034 994 3034 1497 \nQ 3034 2003 2786 2293 \nQ 2538 2584 2113 2584 \nz\nM 3366 4563 \nL 3366 3988 \nQ 3128 4100 2886 4159 \nQ 2644 4219 2406 4219 \nQ 1781 4219 1451 3797 \nQ 1122 3375 1075 2522 \nQ 1259 2794 1537 2939 \nQ 1816 3084 2150 3084 \nQ 2853 3084 3261 2657 \nQ 3669 2231 3669 1497 \nQ 3669 778 3244 343 \nQ 2819 -91 2113 -91 \nQ 1303 -91 875 529 \nQ 447 1150 447 2328 \nQ 447 3434 972 4092 \nQ 1497 4750 2381 4750 \nQ 2619 4750 2861 4703 \nQ 3103 4656 3366 4563 \nz\n\" id=\"DejaVuSans-36\" transform=\"scale(0.015625)\"/>\n       </defs>\n       <use xlink:href=\"#DejaVuSans-36\"/>\n      </g>\n     </g>\n    </g>\n    <g id=\"xtick_7\">\n     <g id=\"line2d_13\">\n      <path clip-path=\"url(#pb067bcd329)\" d=\"M 371.956818 239.758125 \nL 371.956818 22.318125 \n\" style=\"fill:none;stroke:#b0b0b0;stroke-linecap:square;stroke-width:0.8;\"/>\n     </g>\n     <g id=\"line2d_14\">\n      <g>\n       <use style=\"stroke:#000000;stroke-width:0.8;\" x=\"371.956818\" xlink:href=\"#m63daca3ea2\" y=\"239.758125\"/>\n      </g>\n     </g>\n     <g id=\"text_7\">\n      <!-- 7 -->\n      <g transform=\"translate(368.775568 254.356563)scale(0.1 -0.1)\">\n       <defs>\n        <path d=\"M 525 4666 \nL 3525 4666 \nL 3525 4397 \nL 1831 0 \nL 1172 0 \nL 2766 4134 \nL 525 4134 \nL 525 4666 \nz\n\" id=\"DejaVuSans-37\" transform=\"scale(0.015625)\"/>\n       </defs>\n       <use xlink:href=\"#DejaVuSans-37\"/>\n      </g>\n     </g>\n    </g>\n   </g>\n   <g id=\"matplotlib.axis_2\">\n    <g id=\"ytick_1\">\n     <g id=\"line2d_15\">\n      <path clip-path=\"url(#pb067bcd329)\" d=\"M 52.375 239.758125 \nL 387.175 239.758125 \n\" style=\"fill:none;stroke:#b0b0b0;stroke-linecap:square;stroke-width:0.8;\"/>\n     </g>\n     <g id=\"line2d_16\">\n      <defs>\n       <path d=\"M 0 0 \nL -3.5 0 \n\" id=\"mc6509878b0\" style=\"stroke:#000000;stroke-width:0.8;\"/>\n      </defs>\n      <g>\n       <use style=\"stroke:#000000;stroke-width:0.8;\" x=\"52.375\" xlink:href=\"#mc6509878b0\" y=\"239.758125\"/>\n      </g>\n     </g>\n     <g id=\"text_8\">\n      <!-- 0 -->\n      <g transform=\"translate(39.0125 243.557344)scale(0.1 -0.1)\">\n       <defs>\n        <path d=\"M 2034 4250 \nQ 1547 4250 1301 3770 \nQ 1056 3291 1056 2328 \nQ 1056 1369 1301 889 \nQ 1547 409 2034 409 \nQ 2525 409 2770 889 \nQ 3016 1369 3016 2328 \nQ 3016 3291 2770 3770 \nQ 2525 4250 2034 4250 \nz\nM 2034 4750 \nQ 2819 4750 3233 4129 \nQ 3647 3509 3647 2328 \nQ 3647 1150 3233 529 \nQ 2819 -91 2034 -91 \nQ 1250 -91 836 529 \nQ 422 1150 422 2328 \nQ 422 3509 836 4129 \nQ 1250 4750 2034 4750 \nz\n\" id=\"DejaVuSans-30\" transform=\"scale(0.015625)\"/>\n       </defs>\n       <use xlink:href=\"#DejaVuSans-30\"/>\n      </g>\n     </g>\n    </g>\n    <g id=\"ytick_2\">\n     <g id=\"line2d_17\">\n      <path clip-path=\"url(#pb067bcd329)\" d=\"M 52.375 202.85024 \nL 387.175 202.85024 \n\" style=\"fill:none;stroke:#b0b0b0;stroke-linecap:square;stroke-width:0.8;\"/>\n     </g>\n     <g id=\"line2d_18\">\n      <g>\n       <use style=\"stroke:#000000;stroke-width:0.8;\" x=\"52.375\" xlink:href=\"#mc6509878b0\" y=\"202.85024\"/>\n      </g>\n     </g>\n     <g id=\"text_9\">\n      <!-- 50000 -->\n      <g transform=\"translate(13.5625 206.649459)scale(0.1 -0.1)\">\n       <use xlink:href=\"#DejaVuSans-35\"/>\n       <use x=\"63.623047\" xlink:href=\"#DejaVuSans-30\"/>\n       <use x=\"127.246094\" xlink:href=\"#DejaVuSans-30\"/>\n       <use x=\"190.869141\" xlink:href=\"#DejaVuSans-30\"/>\n       <use x=\"254.492188\" xlink:href=\"#DejaVuSans-30\"/>\n      </g>\n     </g>\n    </g>\n    <g id=\"ytick_3\">\n     <g id=\"line2d_19\">\n      <path clip-path=\"url(#pb067bcd329)\" d=\"M 52.375 165.942355 \nL 387.175 165.942355 \n\" style=\"fill:none;stroke:#b0b0b0;stroke-linecap:square;stroke-width:0.8;\"/>\n     </g>\n     <g id=\"line2d_20\">\n      <g>\n       <use style=\"stroke:#000000;stroke-width:0.8;\" x=\"52.375\" xlink:href=\"#mc6509878b0\" y=\"165.942355\"/>\n      </g>\n     </g>\n     <g id=\"text_10\">\n      <!-- 100000 -->\n      <g transform=\"translate(7.2 169.741574)scale(0.1 -0.1)\">\n       <use xlink:href=\"#DejaVuSans-31\"/>\n       <use x=\"63.623047\" xlink:href=\"#DejaVuSans-30\"/>\n       <use x=\"127.246094\" xlink:href=\"#DejaVuSans-30\"/>\n       <use x=\"190.869141\" xlink:href=\"#DejaVuSans-30\"/>\n       <use x=\"254.492188\" xlink:href=\"#DejaVuSans-30\"/>\n       <use x=\"318.115234\" xlink:href=\"#DejaVuSans-30\"/>\n      </g>\n     </g>\n    </g>\n    <g id=\"ytick_4\">\n     <g id=\"line2d_21\">\n      <path clip-path=\"url(#pb067bcd329)\" d=\"M 52.375 129.03447 \nL 387.175 129.03447 \n\" style=\"fill:none;stroke:#b0b0b0;stroke-linecap:square;stroke-width:0.8;\"/>\n     </g>\n     <g id=\"line2d_22\">\n      <g>\n       <use style=\"stroke:#000000;stroke-width:0.8;\" x=\"52.375\" xlink:href=\"#mc6509878b0\" y=\"129.03447\"/>\n      </g>\n     </g>\n     <g id=\"text_11\">\n      <!-- 150000 -->\n      <g transform=\"translate(7.2 132.833688)scale(0.1 -0.1)\">\n       <use xlink:href=\"#DejaVuSans-31\"/>\n       <use x=\"63.623047\" xlink:href=\"#DejaVuSans-35\"/>\n       <use x=\"127.246094\" xlink:href=\"#DejaVuSans-30\"/>\n       <use x=\"190.869141\" xlink:href=\"#DejaVuSans-30\"/>\n       <use x=\"254.492188\" xlink:href=\"#DejaVuSans-30\"/>\n       <use x=\"318.115234\" xlink:href=\"#DejaVuSans-30\"/>\n      </g>\n     </g>\n    </g>\n    <g id=\"ytick_5\">\n     <g id=\"line2d_23\">\n      <path clip-path=\"url(#pb067bcd329)\" d=\"M 52.375 92.126585 \nL 387.175 92.126585 \n\" style=\"fill:none;stroke:#b0b0b0;stroke-linecap:square;stroke-width:0.8;\"/>\n     </g>\n     <g id=\"line2d_24\">\n      <g>\n       <use style=\"stroke:#000000;stroke-width:0.8;\" x=\"52.375\" xlink:href=\"#mc6509878b0\" y=\"92.126585\"/>\n      </g>\n     </g>\n     <g id=\"text_12\">\n      <!-- 200000 -->\n      <g transform=\"translate(7.2 95.925803)scale(0.1 -0.1)\">\n       <use xlink:href=\"#DejaVuSans-32\"/>\n       <use x=\"63.623047\" xlink:href=\"#DejaVuSans-30\"/>\n       <use x=\"127.246094\" xlink:href=\"#DejaVuSans-30\"/>\n       <use x=\"190.869141\" xlink:href=\"#DejaVuSans-30\"/>\n       <use x=\"254.492188\" xlink:href=\"#DejaVuSans-30\"/>\n       <use x=\"318.115234\" xlink:href=\"#DejaVuSans-30\"/>\n      </g>\n     </g>\n    </g>\n    <g id=\"ytick_6\">\n     <g id=\"line2d_25\">\n      <path clip-path=\"url(#pb067bcd329)\" d=\"M 52.375 55.2187 \nL 387.175 55.2187 \n\" style=\"fill:none;stroke:#b0b0b0;stroke-linecap:square;stroke-width:0.8;\"/>\n     </g>\n     <g id=\"line2d_26\">\n      <g>\n       <use style=\"stroke:#000000;stroke-width:0.8;\" x=\"52.375\" xlink:href=\"#mc6509878b0\" y=\"55.2187\"/>\n      </g>\n     </g>\n     <g id=\"text_13\">\n      <!-- 250000 -->\n      <g transform=\"translate(7.2 59.017918)scale(0.1 -0.1)\">\n       <use xlink:href=\"#DejaVuSans-32\"/>\n       <use x=\"63.623047\" xlink:href=\"#DejaVuSans-35\"/>\n       <use x=\"127.246094\" xlink:href=\"#DejaVuSans-30\"/>\n       <use x=\"190.869141\" xlink:href=\"#DejaVuSans-30\"/>\n       <use x=\"254.492188\" xlink:href=\"#DejaVuSans-30\"/>\n       <use x=\"318.115234\" xlink:href=\"#DejaVuSans-30\"/>\n      </g>\n     </g>\n    </g>\n   </g>\n   <g id=\"patch_13\">\n    <path d=\"M 52.375 239.758125 \nL 52.375 22.318125 \n\" style=\"fill:none;stroke:#000000;stroke-linecap:square;stroke-linejoin:miter;stroke-width:0.8;\"/>\n   </g>\n   <g id=\"patch_14\">\n    <path d=\"M 387.175 239.758125 \nL 387.175 22.318125 \n\" style=\"fill:none;stroke:#000000;stroke-linecap:square;stroke-linejoin:miter;stroke-width:0.8;\"/>\n   </g>\n   <g id=\"patch_15\">\n    <path d=\"M 52.375 239.758125 \nL 387.175 239.758125 \n\" style=\"fill:none;stroke:#000000;stroke-linecap:square;stroke-linejoin:miter;stroke-width:0.8;\"/>\n   </g>\n   <g id=\"patch_16\">\n    <path d=\"M 52.375 22.318125 \nL 387.175 22.318125 \n\" style=\"fill:none;stroke:#000000;stroke-linecap:square;stroke-linejoin:miter;stroke-width:0.8;\"/>\n   </g>\n   <g id=\"text_14\">\n    <!-- Day_of_week -->\n    <g transform=\"translate(180.378438 16.318125)scale(0.12 -0.12)\">\n     <defs>\n      <path d=\"M 1259 4147 \nL 1259 519 \nL 2022 519 \nQ 2988 519 3436 956 \nQ 3884 1394 3884 2338 \nQ 3884 3275 3436 3711 \nQ 2988 4147 2022 4147 \nL 1259 4147 \nz\nM 628 4666 \nL 1925 4666 \nQ 3281 4666 3915 4102 \nQ 4550 3538 4550 2338 \nQ 4550 1131 3912 565 \nQ 3275 0 1925 0 \nL 628 0 \nL 628 4666 \nz\n\" id=\"DejaVuSans-44\" transform=\"scale(0.015625)\"/>\n      <path d=\"M 2194 1759 \nQ 1497 1759 1228 1600 \nQ 959 1441 959 1056 \nQ 959 750 1161 570 \nQ 1363 391 1709 391 \nQ 2188 391 2477 730 \nQ 2766 1069 2766 1631 \nL 2766 1759 \nL 2194 1759 \nz\nM 3341 1997 \nL 3341 0 \nL 2766 0 \nL 2766 531 \nQ 2569 213 2275 61 \nQ 1981 -91 1556 -91 \nQ 1019 -91 701 211 \nQ 384 513 384 1019 \nQ 384 1609 779 1909 \nQ 1175 2209 1959 2209 \nL 2766 2209 \nL 2766 2266 \nQ 2766 2663 2505 2880 \nQ 2244 3097 1772 3097 \nQ 1472 3097 1187 3025 \nQ 903 2953 641 2809 \nL 641 3341 \nQ 956 3463 1253 3523 \nQ 1550 3584 1831 3584 \nQ 2591 3584 2966 3190 \nQ 3341 2797 3341 1997 \nz\n\" id=\"DejaVuSans-61\" transform=\"scale(0.015625)\"/>\n      <path d=\"M 2059 -325 \nQ 1816 -950 1584 -1140 \nQ 1353 -1331 966 -1331 \nL 506 -1331 \nL 506 -850 \nL 844 -850 \nQ 1081 -850 1212 -737 \nQ 1344 -625 1503 -206 \nL 1606 56 \nL 191 3500 \nL 800 3500 \nL 1894 763 \nL 2988 3500 \nL 3597 3500 \nL 2059 -325 \nz\n\" id=\"DejaVuSans-79\" transform=\"scale(0.015625)\"/>\n      <path d=\"M 3263 -1063 \nL 3263 -1509 \nL -63 -1509 \nL -63 -1063 \nL 3263 -1063 \nz\n\" id=\"DejaVuSans-5f\" transform=\"scale(0.015625)\"/>\n      <path d=\"M 1959 3097 \nQ 1497 3097 1228 2736 \nQ 959 2375 959 1747 \nQ 959 1119 1226 758 \nQ 1494 397 1959 397 \nQ 2419 397 2687 759 \nQ 2956 1122 2956 1747 \nQ 2956 2369 2687 2733 \nQ 2419 3097 1959 3097 \nz\nM 1959 3584 \nQ 2709 3584 3137 3096 \nQ 3566 2609 3566 1747 \nQ 3566 888 3137 398 \nQ 2709 -91 1959 -91 \nQ 1206 -91 779 398 \nQ 353 888 353 1747 \nQ 353 2609 779 3096 \nQ 1206 3584 1959 3584 \nz\n\" id=\"DejaVuSans-6f\" transform=\"scale(0.015625)\"/>\n      <path d=\"M 2375 4863 \nL 2375 4384 \nL 1825 4384 \nQ 1516 4384 1395 4259 \nQ 1275 4134 1275 3809 \nL 1275 3500 \nL 2222 3500 \nL 2222 3053 \nL 1275 3053 \nL 1275 0 \nL 697 0 \nL 697 3053 \nL 147 3053 \nL 147 3500 \nL 697 3500 \nL 697 3744 \nQ 697 4328 969 4595 \nQ 1241 4863 1831 4863 \nL 2375 4863 \nz\n\" id=\"DejaVuSans-66\" transform=\"scale(0.015625)\"/>\n      <path d=\"M 269 3500 \nL 844 3500 \nL 1563 769 \nL 2278 3500 \nL 2956 3500 \nL 3675 769 \nL 4391 3500 \nL 4966 3500 \nL 4050 0 \nL 3372 0 \nL 2619 2869 \nL 1863 0 \nL 1184 0 \nL 269 3500 \nz\n\" id=\"DejaVuSans-77\" transform=\"scale(0.015625)\"/>\n      <path d=\"M 3597 1894 \nL 3597 1613 \nL 953 1613 \nQ 991 1019 1311 708 \nQ 1631 397 2203 397 \nQ 2534 397 2845 478 \nQ 3156 559 3463 722 \nL 3463 178 \nQ 3153 47 2828 -22 \nQ 2503 -91 2169 -91 \nQ 1331 -91 842 396 \nQ 353 884 353 1716 \nQ 353 2575 817 3079 \nQ 1281 3584 2069 3584 \nQ 2775 3584 3186 3129 \nQ 3597 2675 3597 1894 \nz\nM 3022 2063 \nQ 3016 2534 2758 2815 \nQ 2500 3097 2075 3097 \nQ 1594 3097 1305 2825 \nQ 1016 2553 972 2059 \nL 3022 2063 \nz\n\" id=\"DejaVuSans-65\" transform=\"scale(0.015625)\"/>\n      <path d=\"M 581 4863 \nL 1159 4863 \nL 1159 1991 \nL 2875 3500 \nL 3609 3500 \nL 1753 1863 \nL 3688 0 \nL 2938 0 \nL 1159 1709 \nL 1159 0 \nL 581 0 \nL 581 4863 \nz\n\" id=\"DejaVuSans-6b\" transform=\"scale(0.015625)\"/>\n     </defs>\n     <use xlink:href=\"#DejaVuSans-44\"/>\n     <use x=\"77.001953\" xlink:href=\"#DejaVuSans-61\"/>\n     <use x=\"138.28125\" xlink:href=\"#DejaVuSans-79\"/>\n     <use x=\"197.460938\" xlink:href=\"#DejaVuSans-5f\"/>\n     <use x=\"247.460938\" xlink:href=\"#DejaVuSans-6f\"/>\n     <use x=\"308.642578\" xlink:href=\"#DejaVuSans-66\"/>\n     <use x=\"343.847656\" xlink:href=\"#DejaVuSans-5f\"/>\n     <use x=\"393.847656\" xlink:href=\"#DejaVuSans-77\"/>\n     <use x=\"475.634766\" xlink:href=\"#DejaVuSans-65\"/>\n     <use x=\"537.158203\" xlink:href=\"#DejaVuSans-65\"/>\n     <use x=\"598.681641\" xlink:href=\"#DejaVuSans-6b\"/>\n    </g>\n   </g>\n  </g>\n </g>\n <defs>\n  <clipPath id=\"pb067bcd329\">\n   <rect height=\"217.44\" width=\"334.8\" x=\"52.375\" y=\"22.318125\"/>\n  </clipPath>\n </defs>\n</svg>\n",
      "image/png": "[encoded data removed]"
     },
     "metadata": {
      "needs_background": "light"
     }
    }
   ],
   "source": [
    "data_sub.select('Day_of_week').toPandas().hist()"
   ]
  },
  {
   "source": [
    "> * Khách hàng complain nhiều nhất từ thứ 2 đến thứ 6, thứ 7 + CN chắc do đi chơi nên ko lướt mua sắm nhiều"
   ],
   "cell_type": "markdown",
   "metadata": {}
  },
  {
   "source": [
    "#### Task 17"
   ],
   "cell_type": "markdown",
   "metadata": {}
  },
  {
   "cell_type": "code",
   "execution_count": 50,
   "metadata": {},
   "outputs": [],
   "source": [
    "df_products = data_sub.groupBy('product').count().orderBy('count', ascending=False).toPandas()"
   ]
  },
  {
   "cell_type": "code",
   "execution_count": 52,
   "metadata": {},
   "outputs": [
    {
     "output_type": "execute_result",
     "data": {
      "text/plain": [
       "                                              product   count\n",
       "0   Credit reporting, credit repair services, or o...  331635\n",
       "1                                            Mortgage  295097\n",
       "2                                     Debt collection  278961\n",
       "3                                    Credit reporting  139825\n",
       "4                                         Credit card   89175\n",
       "5                             Bank account or service   86193\n",
       "6                         Credit card or prepaid card   67849\n",
       "7                         Checking or savings account   57461\n",
       "8                                        Student loan   56365\n",
       "9                                       Consumer Loan   31592\n",
       "10                              Vehicle loan or lease   15540\n",
       "11  Money transfer, virtual currency, or money ser...   14165\n",
       "12          Payday loan, title loan, or personal loan   11962\n",
       "13                                        Payday loan    5541\n",
       "14                                    Money transfers    5354\n",
       "15                                       Prepaid card    3819\n",
       "16                            Other financial service    1059\n",
       "17                                   Virtual currency      18"
      ],
      "text/html": "<div>\n<style scoped>\n    .dataframe tbody tr th:only-of-type {\n        vertical-align: middle;\n    }\n\n    .dataframe tbody tr th {\n        vertical-align: top;\n    }\n\n    .dataframe thead th {\n        text-align: right;\n    }\n</style>\n<table border=\"1\" class=\"dataframe\">\n  <thead>\n    <tr style=\"text-align: right;\">\n      <th></th>\n      <th>product</th>\n      <th>count</th>\n    </tr>\n  </thead>\n  <tbody>\n    <tr>\n      <th>0</th>\n      <td>Credit reporting, credit repair services, or o...</td>\n      <td>331635</td>\n    </tr>\n    <tr>\n      <th>1</th>\n      <td>Mortgage</td>\n      <td>295097</td>\n    </tr>\n    <tr>\n      <th>2</th>\n      <td>Debt collection</td>\n      <td>278961</td>\n    </tr>\n    <tr>\n      <th>3</th>\n      <td>Credit reporting</td>\n      <td>139825</td>\n    </tr>\n    <tr>\n      <th>4</th>\n      <td>Credit card</td>\n      <td>89175</td>\n    </tr>\n    <tr>\n      <th>5</th>\n      <td>Bank account or service</td>\n      <td>86193</td>\n    </tr>\n    <tr>\n      <th>6</th>\n      <td>Credit card or prepaid card</td>\n      <td>67849</td>\n    </tr>\n    <tr>\n      <th>7</th>\n      <td>Checking or savings account</td>\n      <td>57461</td>\n    </tr>\n    <tr>\n      <th>8</th>\n      <td>Student loan</td>\n      <td>56365</td>\n    </tr>\n    <tr>\n      <th>9</th>\n      <td>Consumer Loan</td>\n      <td>31592</td>\n    </tr>\n    <tr>\n      <th>10</th>\n      <td>Vehicle loan or lease</td>\n      <td>15540</td>\n    </tr>\n    <tr>\n      <th>11</th>\n      <td>Money transfer, virtual currency, or money ser...</td>\n      <td>14165</td>\n    </tr>\n    <tr>\n      <th>12</th>\n      <td>Payday loan, title loan, or personal loan</td>\n      <td>11962</td>\n    </tr>\n    <tr>\n      <th>13</th>\n      <td>Payday loan</td>\n      <td>5541</td>\n    </tr>\n    <tr>\n      <th>14</th>\n      <td>Money transfers</td>\n      <td>5354</td>\n    </tr>\n    <tr>\n      <th>15</th>\n      <td>Prepaid card</td>\n      <td>3819</td>\n    </tr>\n    <tr>\n      <th>16</th>\n      <td>Other financial service</td>\n      <td>1059</td>\n    </tr>\n    <tr>\n      <th>17</th>\n      <td>Virtual currency</td>\n      <td>18</td>\n    </tr>\n  </tbody>\n</table>\n</div>"
     },
     "metadata": {},
     "execution_count": 52
    }
   ],
   "source": [
    "df_products.head(20)"
   ]
  },
  {
   "cell_type": "code",
   "execution_count": 56,
   "metadata": {},
   "outputs": [
    {
     "output_type": "display_data",
     "data": {
      "text/plain": "<Figure size 1296x720 with 1 Axes>",
      "image/svg+xml": "<?xml version=\"1.0\" encoding=\"utf-8\" standalone=\"no\"?>\n<!DOCTYPE svg PUBLIC \"-//W3C//DTD SVG 1.1//EN\"\n  \"http://www.w3.org/Graphics/SVG/1.1/DTD/svg11.dtd\">\n<svg height=\"588.35625pt\" version=\"1.1\" viewBox=\"0 0 1414.835938 588.35625\" width=\"1414.835938pt\" xmlns=\"http://www.w3.org/2000/svg\" xmlns:xlink=\"http://www.w3.org/1999/xlink\">\n <metadata>\n  <rdf:RDF xmlns:cc=\"http://creativecommons.org/ns#\" xmlns:dc=\"http://purl.org/dc/elements/1.1/\" xmlns:rdf=\"http://www.w3.org/1999/02/22-rdf-syntax-ns#\">\n   <cc:Work>\n    <dc:type rdf:resource=\"http://purl.org/dc/dcmitype/StillImage\"/>\n    <dc:date>2021-04-24T21:41:40.231188</dc:date>\n    <dc:format>image/svg+xml</dc:format>\n    <dc:creator>\n     <cc:Agent>\n      <dc:title>Matplotlib v3.4.1, https://matplotlib.org/</dc:title>\n     </cc:Agent>\n    </dc:creator>\n   </cc:Work>\n  </rdf:RDF>\n </metadata>\n <defs>\n  <style type=\"text/css\">*{stroke-linecap:butt;stroke-linejoin:round;}</style>\n </defs>\n <g id=\"figure_1\">\n  <g id=\"patch_1\">\n   <path d=\"M 0 588.35625 \nL 1414.835938 588.35625 \nL 1414.835938 0 \nL 0 0 \nz\n\" style=\"fill:none;\"/>\n  </g>\n  <g id=\"axes_1\">\n   <g id=\"patch_2\">\n    <path d=\"M 403.235937 550.8 \nL 1407.635938 550.8 \nL 1407.635938 7.2 \nL 403.235937 7.2 \nz\n\" style=\"fill:#ffffff;\"/>\n   </g>\n   <g id=\"patch_3\">\n    <path clip-path=\"url(#pa4bba5373d)\" d=\"M 403.235937 10.22 \nL 1359.807366 10.22 \nL 1359.807366 34.38 \nL 403.235937 34.38 \nz\n\" style=\"fill:#ea96a3;\"/>\n   </g>\n   <g id=\"patch_4\">\n    <path clip-path=\"url(#pa4bba5373d)\" d=\"M 403.235937 40.42 \nL 1254.41678 40.42 \nL 1254.41678 64.58 \nL 403.235937 64.58 \nz\n\" style=\"fill:#e7957e;\"/>\n   </g>\n   <g id=\"patch_5\">\n    <path clip-path=\"url(#pa4bba5373d)\" d=\"M 403.235937 70.62 \nL 1207.873935 70.62 \nL 1207.873935 94.78 \nL 403.235937 94.78 \nz\n\" style=\"fill:#d1964d;\"/>\n   </g>\n   <g id=\"patch_6\">\n    <path clip-path=\"url(#pa4bba5373d)\" d=\"M 403.235937 100.82 \nL 806.548616 100.82 \nL 806.548616 124.98 \nL 403.235937 124.98 \nz\n\" style=\"fill:#b89c49;\"/>\n   </g>\n   <g id=\"patch_7\">\n    <path clip-path=\"url(#pa4bba5373d)\" d=\"M 403.235937 131.02 \nL 660.453231 131.02 \nL 660.453231 155.18 \nL 403.235937 155.18 \nz\n\" style=\"fill:#a29f46;\"/>\n   </g>\n   <g id=\"patch_8\">\n    <path clip-path=\"url(#pa4bba5373d)\" d=\"M 403.235937 161.22 \nL 651.851919 161.22 \nL 651.851919 185.38 \nL 403.235937 185.38 \nz\n\" style=\"fill:#8ca646;\"/>\n   </g>\n   <g id=\"patch_9\">\n    <path clip-path=\"url(#pa4bba5373d)\" d=\"M 403.235937 191.42 \nL 598.940296 191.42 \nL 598.940296 215.58 \nL 403.235937 215.58 \nz\n\" style=\"fill:#60ae47;\"/>\n   </g>\n   <g id=\"patch_10\">\n    <path clip-path=\"url(#pa4bba5373d)\" d=\"M 403.235937 221.62 \nL 568.977041 221.62 \nL 568.977041 245.78 \nL 403.235937 245.78 \nz\n\" style=\"fill:#49af7c;\"/>\n   </g>\n   <g id=\"patch_11\">\n    <path clip-path=\"url(#pa4bba5373d)\" d=\"M 403.235937 251.82 \nL 565.815727 251.82 \nL 565.815727 275.98 \nL 403.235937 275.98 \nz\n\" style=\"fill:#4aad95;\"/>\n   </g>\n   <g id=\"patch_12\">\n    <path clip-path=\"url(#pa4bba5373d)\" d=\"M 403.235937 282.02 \nL 494.360229 282.02 \nL 494.360229 306.18 \nL 403.235937 306.18 \nz\n\" style=\"fill:#4baba4;\"/>\n   </g>\n   <g id=\"patch_13\">\n    <path clip-path=\"url(#pa4bba5373d)\" d=\"M 403.235937 312.22 \nL 448.059674 312.22 \nL 448.059674 336.38 \nL 403.235937 336.38 \nz\n\" style=\"fill:#4dabb3;\"/>\n   </g>\n   <g id=\"patch_14\">\n    <path clip-path=\"url(#pa4bba5373d)\" d=\"M 403.235937 342.42 \nL 444.09361 342.42 \nL 444.09361 366.58 \nL 403.235937 366.58 \nz\n\" style=\"fill:#51acc7;\"/>\n   </g>\n   <g id=\"patch_15\">\n    <path clip-path=\"url(#pa4bba5373d)\" d=\"M 403.235937 372.62 \nL 437.739254 372.62 \nL 437.739254 396.78 \nL 403.235937 396.78 \nz\n\" style=\"fill:#6daee2;\"/>\n   </g>\n   <g id=\"patch_16\">\n    <path clip-path=\"url(#pa4bba5373d)\" d=\"M 403.235937 402.82 \nL 419.218455 402.82 \nL 419.218455 426.98 \nL 403.235937 426.98 \nz\n\" style=\"fill:#a6acea;\"/>\n   </g>\n   <g id=\"patch_17\">\n    <path clip-path=\"url(#pa4bba5373d)\" d=\"M 403.235937 433.02 \nL 418.679071 433.02 \nL 418.679071 457.18 \nL 403.235937 457.18 \nz\n\" style=\"fill:#c4a1ea;\"/>\n   </g>\n   <g id=\"patch_18\">\n    <path clip-path=\"url(#pa4bba5373d)\" d=\"M 403.235937 463.22 \nL 414.251501 463.22 \nL 414.251501 487.38 \nL 403.235937 487.38 \nz\n\" style=\"fill:#df8fe7;\"/>\n   </g>\n   <g id=\"patch_19\">\n    <path clip-path=\"url(#pa4bba5373d)\" d=\"M 403.235937 493.42 \nL 406.290528 493.42 \nL 406.290528 517.58 \nL 403.235937 517.58 \nz\n\" style=\"fill:#e88ed1;\"/>\n   </g>\n   <g id=\"patch_20\">\n    <path clip-path=\"url(#pa4bba5373d)\" d=\"M 403.235937 523.62 \nL 403.287857 523.62 \nL 403.287857 547.78 \nL 403.235937 547.78 \nz\n\" style=\"fill:#e992bb;\"/>\n   </g>\n   <g id=\"matplotlib.axis_1\">\n    <g id=\"xtick_1\">\n     <g id=\"line2d_1\">\n      <defs>\n       <path d=\"M 0 0 \nL 0 3.5 \n\" id=\"m453717221d\" style=\"stroke:#000000;stroke-width:0.8;\"/>\n      </defs>\n      <g>\n       <use style=\"stroke:#000000;stroke-width:0.8;\" x=\"403.235937\" xlink:href=\"#m453717221d\" y=\"550.8\"/>\n      </g>\n     </g>\n     <g id=\"text_1\">\n      <!-- 0 -->\n      <g transform=\"translate(400.054688 565.398438)scale(0.1 -0.1)\">\n       <defs>\n        <path d=\"M 2034 4250 \nQ 1547 4250 1301 3770 \nQ 1056 3291 1056 2328 \nQ 1056 1369 1301 889 \nQ 1547 409 2034 409 \nQ 2525 409 2770 889 \nQ 3016 1369 3016 2328 \nQ 3016 3291 2770 3770 \nQ 2525 4250 2034 4250 \nz\nM 2034 4750 \nQ 2819 4750 3233 4129 \nQ 3647 3509 3647 2328 \nQ 3647 1150 3233 529 \nQ 2819 -91 2034 -91 \nQ 1250 -91 836 529 \nQ 422 1150 422 2328 \nQ 422 3509 836 4129 \nQ 1250 4750 2034 4750 \nz\n\" id=\"DejaVuSans-30\" transform=\"scale(0.015625)\"/>\n       </defs>\n       <use xlink:href=\"#DejaVuSans-30\"/>\n      </g>\n     </g>\n    </g>\n    <g id=\"xtick_2\">\n     <g id=\"line2d_2\">\n      <g>\n       <use style=\"stroke:#000000;stroke-width:0.8;\" x=\"547.456455\" xlink:href=\"#m453717221d\" y=\"550.8\"/>\n      </g>\n     </g>\n     <g id=\"text_2\">\n      <!-- 50000 -->\n      <g transform=\"translate(531.550205 565.398438)scale(0.1 -0.1)\">\n       <defs>\n        <path d=\"M 691 4666 \nL 3169 4666 \nL 3169 4134 \nL 1269 4134 \nL 1269 2991 \nQ 1406 3038 1543 3061 \nQ 1681 3084 1819 3084 \nQ 2600 3084 3056 2656 \nQ 3513 2228 3513 1497 \nQ 3513 744 3044 326 \nQ 2575 -91 1722 -91 \nQ 1428 -91 1123 -41 \nQ 819 9 494 109 \nL 494 744 \nQ 775 591 1075 516 \nQ 1375 441 1709 441 \nQ 2250 441 2565 725 \nQ 2881 1009 2881 1497 \nQ 2881 1984 2565 2268 \nQ 2250 2553 1709 2553 \nQ 1456 2553 1204 2497 \nQ 953 2441 691 2322 \nL 691 4666 \nz\n\" id=\"DejaVuSans-35\" transform=\"scale(0.015625)\"/>\n       </defs>\n       <use xlink:href=\"#DejaVuSans-35\"/>\n       <use x=\"63.623047\" xlink:href=\"#DejaVuSans-30\"/>\n       <use x=\"127.246094\" xlink:href=\"#DejaVuSans-30\"/>\n       <use x=\"190.869141\" xlink:href=\"#DejaVuSans-30\"/>\n       <use x=\"254.492188\" xlink:href=\"#DejaVuSans-30\"/>\n      </g>\n     </g>\n    </g>\n    <g id=\"xtick_3\">\n     <g id=\"line2d_3\">\n      <g>\n       <use style=\"stroke:#000000;stroke-width:0.8;\" x=\"691.676973\" xlink:href=\"#m453717221d\" y=\"550.8\"/>\n      </g>\n     </g>\n     <g id=\"text_3\">\n      <!-- 100000 -->\n      <g transform=\"translate(672.589473 565.398438)scale(0.1 -0.1)\">\n       <defs>\n        <path d=\"M 794 531 \nL 1825 531 \nL 1825 4091 \nL 703 3866 \nL 703 4441 \nL 1819 4666 \nL 2450 4666 \nL 2450 531 \nL 3481 531 \nL 3481 0 \nL 794 0 \nL 794 531 \nz\n\" id=\"DejaVuSans-31\" transform=\"scale(0.015625)\"/>\n       </defs>\n       <use xlink:href=\"#DejaVuSans-31\"/>\n       <use x=\"63.623047\" xlink:href=\"#DejaVuSans-30\"/>\n       <use x=\"127.246094\" xlink:href=\"#DejaVuSans-30\"/>\n       <use x=\"190.869141\" xlink:href=\"#DejaVuSans-30\"/>\n       <use x=\"254.492188\" xlink:href=\"#DejaVuSans-30\"/>\n       <use x=\"318.115234\" xlink:href=\"#DejaVuSans-30\"/>\n      </g>\n     </g>\n    </g>\n    <g id=\"xtick_4\">\n     <g id=\"line2d_4\">\n      <g>\n       <use style=\"stroke:#000000;stroke-width:0.8;\" x=\"835.897491\" xlink:href=\"#m453717221d\" y=\"550.8\"/>\n      </g>\n     </g>\n     <g id=\"text_4\">\n      <!-- 150000 -->\n      <g transform=\"translate(816.809991 565.398438)scale(0.1 -0.1)\">\n       <use xlink:href=\"#DejaVuSans-31\"/>\n       <use x=\"63.623047\" xlink:href=\"#DejaVuSans-35\"/>\n       <use x=\"127.246094\" xlink:href=\"#DejaVuSans-30\"/>\n       <use x=\"190.869141\" xlink:href=\"#DejaVuSans-30\"/>\n       <use x=\"254.492188\" xlink:href=\"#DejaVuSans-30\"/>\n       <use x=\"318.115234\" xlink:href=\"#DejaVuSans-30\"/>\n      </g>\n     </g>\n    </g>\n    <g id=\"xtick_5\">\n     <g id=\"line2d_5\">\n      <g>\n       <use style=\"stroke:#000000;stroke-width:0.8;\" x=\"980.118009\" xlink:href=\"#m453717221d\" y=\"550.8\"/>\n      </g>\n     </g>\n     <g id=\"text_5\">\n      <!-- 200000 -->\n      <g transform=\"translate(961.030509 565.398438)scale(0.1 -0.1)\">\n       <defs>\n        <path d=\"M 1228 531 \nL 3431 531 \nL 3431 0 \nL 469 0 \nL 469 531 \nQ 828 903 1448 1529 \nQ 2069 2156 2228 2338 \nQ 2531 2678 2651 2914 \nQ 2772 3150 2772 3378 \nQ 2772 3750 2511 3984 \nQ 2250 4219 1831 4219 \nQ 1534 4219 1204 4116 \nQ 875 4013 500 3803 \nL 500 4441 \nQ 881 4594 1212 4672 \nQ 1544 4750 1819 4750 \nQ 2544 4750 2975 4387 \nQ 3406 4025 3406 3419 \nQ 3406 3131 3298 2873 \nQ 3191 2616 2906 2266 \nQ 2828 2175 2409 1742 \nQ 1991 1309 1228 531 \nz\n\" id=\"DejaVuSans-32\" transform=\"scale(0.015625)\"/>\n       </defs>\n       <use xlink:href=\"#DejaVuSans-32\"/>\n       <use x=\"63.623047\" xlink:href=\"#DejaVuSans-30\"/>\n       <use x=\"127.246094\" xlink:href=\"#DejaVuSans-30\"/>\n       <use x=\"190.869141\" xlink:href=\"#DejaVuSans-30\"/>\n       <use x=\"254.492188\" xlink:href=\"#DejaVuSans-30\"/>\n       <use x=\"318.115234\" xlink:href=\"#DejaVuSans-30\"/>\n      </g>\n     </g>\n    </g>\n    <g id=\"xtick_6\">\n     <g id=\"line2d_6\">\n      <g>\n       <use style=\"stroke:#000000;stroke-width:0.8;\" x=\"1124.338527\" xlink:href=\"#m453717221d\" y=\"550.8\"/>\n      </g>\n     </g>\n     <g id=\"text_6\">\n      <!-- 250000 -->\n      <g transform=\"translate(1105.251027 565.398438)scale(0.1 -0.1)\">\n       <use xlink:href=\"#DejaVuSans-32\"/>\n       <use x=\"63.623047\" xlink:href=\"#DejaVuSans-35\"/>\n       <use x=\"127.246094\" xlink:href=\"#DejaVuSans-30\"/>\n       <use x=\"190.869141\" xlink:href=\"#DejaVuSans-30\"/>\n       <use x=\"254.492188\" xlink:href=\"#DejaVuSans-30\"/>\n       <use x=\"318.115234\" xlink:href=\"#DejaVuSans-30\"/>\n      </g>\n     </g>\n    </g>\n    <g id=\"xtick_7\">\n     <g id=\"line2d_7\">\n      <g>\n       <use style=\"stroke:#000000;stroke-width:0.8;\" x=\"1268.559044\" xlink:href=\"#m453717221d\" y=\"550.8\"/>\n      </g>\n     </g>\n     <g id=\"text_7\">\n      <!-- 300000 -->\n      <g transform=\"translate(1249.471544 565.398438)scale(0.1 -0.1)\">\n       <defs>\n        <path d=\"M 2597 2516 \nQ 3050 2419 3304 2112 \nQ 3559 1806 3559 1356 \nQ 3559 666 3084 287 \nQ 2609 -91 1734 -91 \nQ 1441 -91 1130 -33 \nQ 819 25 488 141 \nL 488 750 \nQ 750 597 1062 519 \nQ 1375 441 1716 441 \nQ 2309 441 2620 675 \nQ 2931 909 2931 1356 \nQ 2931 1769 2642 2001 \nQ 2353 2234 1838 2234 \nL 1294 2234 \nL 1294 2753 \nL 1863 2753 \nQ 2328 2753 2575 2939 \nQ 2822 3125 2822 3475 \nQ 2822 3834 2567 4026 \nQ 2313 4219 1838 4219 \nQ 1578 4219 1281 4162 \nQ 984 4106 628 3988 \nL 628 4550 \nQ 988 4650 1302 4700 \nQ 1616 4750 1894 4750 \nQ 2613 4750 3031 4423 \nQ 3450 4097 3450 3541 \nQ 3450 3153 3228 2886 \nQ 3006 2619 2597 2516 \nz\n\" id=\"DejaVuSans-33\" transform=\"scale(0.015625)\"/>\n       </defs>\n       <use xlink:href=\"#DejaVuSans-33\"/>\n       <use x=\"63.623047\" xlink:href=\"#DejaVuSans-30\"/>\n       <use x=\"127.246094\" xlink:href=\"#DejaVuSans-30\"/>\n       <use x=\"190.869141\" xlink:href=\"#DejaVuSans-30\"/>\n       <use x=\"254.492188\" xlink:href=\"#DejaVuSans-30\"/>\n       <use x=\"318.115234\" xlink:href=\"#DejaVuSans-30\"/>\n      </g>\n     </g>\n    </g>\n    <g id=\"text_8\">\n     <!-- count -->\n     <g style=\"fill:#0000ff;\" transform=\"translate(889.528125 579.076563)scale(0.1 -0.1)\">\n      <defs>\n       <path d=\"M 3366 3391 \nL 3366 2478 \nQ 3138 2634 2908 2709 \nQ 2678 2784 2431 2784 \nQ 1963 2784 1702 2511 \nQ 1441 2238 1441 1747 \nQ 1441 1256 1702 982 \nQ 1963 709 2431 709 \nQ 2694 709 2930 787 \nQ 3166 866 3366 1019 \nL 3366 103 \nQ 3103 6 2833 -42 \nQ 2563 -91 2291 -91 \nQ 1344 -91 809 395 \nQ 275 881 275 1747 \nQ 275 2613 809 3098 \nQ 1344 3584 2291 3584 \nQ 2566 3584 2833 3536 \nQ 3100 3488 3366 3391 \nz\n\" id=\"DejaVuSans-Bold-63\" transform=\"scale(0.015625)\"/>\n       <path d=\"M 2203 2784 \nQ 1831 2784 1636 2517 \nQ 1441 2250 1441 1747 \nQ 1441 1244 1636 976 \nQ 1831 709 2203 709 \nQ 2569 709 2762 976 \nQ 2956 1244 2956 1747 \nQ 2956 2250 2762 2517 \nQ 2569 2784 2203 2784 \nz\nM 2203 3584 \nQ 3106 3584 3614 3096 \nQ 4122 2609 4122 1747 \nQ 4122 884 3614 396 \nQ 3106 -91 2203 -91 \nQ 1297 -91 786 396 \nQ 275 884 275 1747 \nQ 275 2609 786 3096 \nQ 1297 3584 2203 3584 \nz\n\" id=\"DejaVuSans-Bold-6f\" transform=\"scale(0.015625)\"/>\n       <path d=\"M 500 1363 \nL 500 3500 \nL 1625 3500 \nL 1625 3150 \nQ 1625 2866 1622 2436 \nQ 1619 2006 1619 1863 \nQ 1619 1441 1641 1255 \nQ 1663 1069 1716 984 \nQ 1784 875 1895 815 \nQ 2006 756 2150 756 \nQ 2500 756 2700 1025 \nQ 2900 1294 2900 1772 \nL 2900 3500 \nL 4019 3500 \nL 4019 0 \nL 2900 0 \nL 2900 506 \nQ 2647 200 2364 54 \nQ 2081 -91 1741 -91 \nQ 1134 -91 817 281 \nQ 500 653 500 1363 \nz\n\" id=\"DejaVuSans-Bold-75\" transform=\"scale(0.015625)\"/>\n       <path d=\"M 4056 2131 \nL 4056 0 \nL 2931 0 \nL 2931 347 \nL 2931 1631 \nQ 2931 2084 2911 2256 \nQ 2891 2428 2841 2509 \nQ 2775 2619 2662 2680 \nQ 2550 2741 2406 2741 \nQ 2056 2741 1856 2470 \nQ 1656 2200 1656 1722 \nL 1656 0 \nL 538 0 \nL 538 3500 \nL 1656 3500 \nL 1656 2988 \nQ 1909 3294 2193 3439 \nQ 2478 3584 2822 3584 \nQ 3428 3584 3742 3212 \nQ 4056 2841 4056 2131 \nz\n\" id=\"DejaVuSans-Bold-6e\" transform=\"scale(0.015625)\"/>\n       <path d=\"M 1759 4494 \nL 1759 3500 \nL 2913 3500 \nL 2913 2700 \nL 1759 2700 \nL 1759 1216 \nQ 1759 972 1856 886 \nQ 1953 800 2241 800 \nL 2816 800 \nL 2816 0 \nL 1856 0 \nQ 1194 0 917 276 \nQ 641 553 641 1216 \nL 641 2700 \nL 84 2700 \nL 84 3500 \nL 641 3500 \nL 641 4494 \nL 1759 4494 \nz\n\" id=\"DejaVuSans-Bold-74\" transform=\"scale(0.015625)\"/>\n      </defs>\n      <use xlink:href=\"#DejaVuSans-Bold-63\"/>\n      <use x=\"59.277344\" xlink:href=\"#DejaVuSans-Bold-6f\"/>\n      <use x=\"127.978516\" xlink:href=\"#DejaVuSans-Bold-75\"/>\n      <use x=\"199.169922\" xlink:href=\"#DejaVuSans-Bold-6e\"/>\n      <use x=\"270.361328\" xlink:href=\"#DejaVuSans-Bold-74\"/>\n     </g>\n    </g>\n   </g>\n   <g id=\"matplotlib.axis_2\">\n    <g id=\"ytick_1\">\n     <g id=\"line2d_8\">\n      <defs>\n       <path d=\"M 0 0 \nL -3.5 0 \n\" id=\"m620b765df7\" style=\"stroke:#000000;stroke-width:0.8;\"/>\n      </defs>\n      <g>\n       <use style=\"stroke:#000000;stroke-width:0.8;\" x=\"403.235937\" xlink:href=\"#m620b765df7\" y=\"22.3\"/>\n      </g>\n     </g>\n     <g id=\"text_9\">\n      <!-- Credit reporting, credit repair services, or other personal consumer reports -->\n      <g transform=\"translate(20.878125 26.099219)scale(0.1 -0.1)\">\n       <defs>\n        <path d=\"M 4122 4306 \nL 4122 3641 \nQ 3803 3938 3442 4084 \nQ 3081 4231 2675 4231 \nQ 1875 4231 1450 3742 \nQ 1025 3253 1025 2328 \nQ 1025 1406 1450 917 \nQ 1875 428 2675 428 \nQ 3081 428 3442 575 \nQ 3803 722 4122 1019 \nL 4122 359 \nQ 3791 134 3420 21 \nQ 3050 -91 2638 -91 \nQ 1578 -91 968 557 \nQ 359 1206 359 2328 \nQ 359 3453 968 4101 \nQ 1578 4750 2638 4750 \nQ 3056 4750 3426 4639 \nQ 3797 4528 4122 4306 \nz\n\" id=\"DejaVuSans-43\" transform=\"scale(0.015625)\"/>\n        <path d=\"M 2631 2963 \nQ 2534 3019 2420 3045 \nQ 2306 3072 2169 3072 \nQ 1681 3072 1420 2755 \nQ 1159 2438 1159 1844 \nL 1159 0 \nL 581 0 \nL 581 3500 \nL 1159 3500 \nL 1159 2956 \nQ 1341 3275 1631 3429 \nQ 1922 3584 2338 3584 \nQ 2397 3584 2469 3576 \nQ 2541 3569 2628 3553 \nL 2631 2963 \nz\n\" id=\"DejaVuSans-72\" transform=\"scale(0.015625)\"/>\n        <path d=\"M 3597 1894 \nL 3597 1613 \nL 953 1613 \nQ 991 1019 1311 708 \nQ 1631 397 2203 397 \nQ 2534 397 2845 478 \nQ 3156 559 3463 722 \nL 3463 178 \nQ 3153 47 2828 -22 \nQ 2503 -91 2169 -91 \nQ 1331 -91 842 396 \nQ 353 884 353 1716 \nQ 353 2575 817 3079 \nQ 1281 3584 2069 3584 \nQ 2775 3584 3186 3129 \nQ 3597 2675 3597 1894 \nz\nM 3022 2063 \nQ 3016 2534 2758 2815 \nQ 2500 3097 2075 3097 \nQ 1594 3097 1305 2825 \nQ 1016 2553 972 2059 \nL 3022 2063 \nz\n\" id=\"DejaVuSans-65\" transform=\"scale(0.015625)\"/>\n        <path d=\"M 2906 2969 \nL 2906 4863 \nL 3481 4863 \nL 3481 0 \nL 2906 0 \nL 2906 525 \nQ 2725 213 2448 61 \nQ 2172 -91 1784 -91 \nQ 1150 -91 751 415 \nQ 353 922 353 1747 \nQ 353 2572 751 3078 \nQ 1150 3584 1784 3584 \nQ 2172 3584 2448 3432 \nQ 2725 3281 2906 2969 \nz\nM 947 1747 \nQ 947 1113 1208 752 \nQ 1469 391 1925 391 \nQ 2381 391 2643 752 \nQ 2906 1113 2906 1747 \nQ 2906 2381 2643 2742 \nQ 2381 3103 1925 3103 \nQ 1469 3103 1208 2742 \nQ 947 2381 947 1747 \nz\n\" id=\"DejaVuSans-64\" transform=\"scale(0.015625)\"/>\n        <path d=\"M 603 3500 \nL 1178 3500 \nL 1178 0 \nL 603 0 \nL 603 3500 \nz\nM 603 4863 \nL 1178 4863 \nL 1178 4134 \nL 603 4134 \nL 603 4863 \nz\n\" id=\"DejaVuSans-69\" transform=\"scale(0.015625)\"/>\n        <path d=\"M 1172 4494 \nL 1172 3500 \nL 2356 3500 \nL 2356 3053 \nL 1172 3053 \nL 1172 1153 \nQ 1172 725 1289 603 \nQ 1406 481 1766 481 \nL 2356 481 \nL 2356 0 \nL 1766 0 \nQ 1100 0 847 248 \nQ 594 497 594 1153 \nL 594 3053 \nL 172 3053 \nL 172 3500 \nL 594 3500 \nL 594 4494 \nL 1172 4494 \nz\n\" id=\"DejaVuSans-74\" transform=\"scale(0.015625)\"/>\n        <path id=\"DejaVuSans-20\" transform=\"scale(0.015625)\"/>\n        <path d=\"M 1159 525 \nL 1159 -1331 \nL 581 -1331 \nL 581 3500 \nL 1159 3500 \nL 1159 2969 \nQ 1341 3281 1617 3432 \nQ 1894 3584 2278 3584 \nQ 2916 3584 3314 3078 \nQ 3713 2572 3713 1747 \nQ 3713 922 3314 415 \nQ 2916 -91 2278 -91 \nQ 1894 -91 1617 61 \nQ 1341 213 1159 525 \nz\nM 3116 1747 \nQ 3116 2381 2855 2742 \nQ 2594 3103 2138 3103 \nQ 1681 3103 1420 2742 \nQ 1159 2381 1159 1747 \nQ 1159 1113 1420 752 \nQ 1681 391 2138 391 \nQ 2594 391 2855 752 \nQ 3116 1113 3116 1747 \nz\n\" id=\"DejaVuSans-70\" transform=\"scale(0.015625)\"/>\n        <path d=\"M 1959 3097 \nQ 1497 3097 1228 2736 \nQ 959 2375 959 1747 \nQ 959 1119 1226 758 \nQ 1494 397 1959 397 \nQ 2419 397 2687 759 \nQ 2956 1122 2956 1747 \nQ 2956 2369 2687 2733 \nQ 2419 3097 1959 3097 \nz\nM 1959 3584 \nQ 2709 3584 3137 3096 \nQ 3566 2609 3566 1747 \nQ 3566 888 3137 398 \nQ 2709 -91 1959 -91 \nQ 1206 -91 779 398 \nQ 353 888 353 1747 \nQ 353 2609 779 3096 \nQ 1206 3584 1959 3584 \nz\n\" id=\"DejaVuSans-6f\" transform=\"scale(0.015625)\"/>\n        <path d=\"M 3513 2113 \nL 3513 0 \nL 2938 0 \nL 2938 2094 \nQ 2938 2591 2744 2837 \nQ 2550 3084 2163 3084 \nQ 1697 3084 1428 2787 \nQ 1159 2491 1159 1978 \nL 1159 0 \nL 581 0 \nL 581 3500 \nL 1159 3500 \nL 1159 2956 \nQ 1366 3272 1645 3428 \nQ 1925 3584 2291 3584 \nQ 2894 3584 3203 3211 \nQ 3513 2838 3513 2113 \nz\n\" id=\"DejaVuSans-6e\" transform=\"scale(0.015625)\"/>\n        <path d=\"M 2906 1791 \nQ 2906 2416 2648 2759 \nQ 2391 3103 1925 3103 \nQ 1463 3103 1205 2759 \nQ 947 2416 947 1791 \nQ 947 1169 1205 825 \nQ 1463 481 1925 481 \nQ 2391 481 2648 825 \nQ 2906 1169 2906 1791 \nz\nM 3481 434 \nQ 3481 -459 3084 -895 \nQ 2688 -1331 1869 -1331 \nQ 1566 -1331 1297 -1286 \nQ 1028 -1241 775 -1147 \nL 775 -588 \nQ 1028 -725 1275 -790 \nQ 1522 -856 1778 -856 \nQ 2344 -856 2625 -561 \nQ 2906 -266 2906 331 \nL 2906 616 \nQ 2728 306 2450 153 \nQ 2172 0 1784 0 \nQ 1141 0 747 490 \nQ 353 981 353 1791 \nQ 353 2603 747 3093 \nQ 1141 3584 1784 3584 \nQ 2172 3584 2450 3431 \nQ 2728 3278 2906 2969 \nL 2906 3500 \nL 3481 3500 \nL 3481 434 \nz\n\" id=\"DejaVuSans-67\" transform=\"scale(0.015625)\"/>\n        <path d=\"M 750 794 \nL 1409 794 \nL 1409 256 \nL 897 -744 \nL 494 -744 \nL 750 256 \nL 750 794 \nz\n\" id=\"DejaVuSans-2c\" transform=\"scale(0.015625)\"/>\n        <path d=\"M 3122 3366 \nL 3122 2828 \nQ 2878 2963 2633 3030 \nQ 2388 3097 2138 3097 \nQ 1578 3097 1268 2742 \nQ 959 2388 959 1747 \nQ 959 1106 1268 751 \nQ 1578 397 2138 397 \nQ 2388 397 2633 464 \nQ 2878 531 3122 666 \nL 3122 134 \nQ 2881 22 2623 -34 \nQ 2366 -91 2075 -91 \nQ 1284 -91 818 406 \nQ 353 903 353 1747 \nQ 353 2603 823 3093 \nQ 1294 3584 2113 3584 \nQ 2378 3584 2631 3529 \nQ 2884 3475 3122 3366 \nz\n\" id=\"DejaVuSans-63\" transform=\"scale(0.015625)\"/>\n        <path d=\"M 2194 1759 \nQ 1497 1759 1228 1600 \nQ 959 1441 959 1056 \nQ 959 750 1161 570 \nQ 1363 391 1709 391 \nQ 2188 391 2477 730 \nQ 2766 1069 2766 1631 \nL 2766 1759 \nL 2194 1759 \nz\nM 3341 1997 \nL 3341 0 \nL 2766 0 \nL 2766 531 \nQ 2569 213 2275 61 \nQ 1981 -91 1556 -91 \nQ 1019 -91 701 211 \nQ 384 513 384 1019 \nQ 384 1609 779 1909 \nQ 1175 2209 1959 2209 \nL 2766 2209 \nL 2766 2266 \nQ 2766 2663 2505 2880 \nQ 2244 3097 1772 3097 \nQ 1472 3097 1187 3025 \nQ 903 2953 641 2809 \nL 641 3341 \nQ 956 3463 1253 3523 \nQ 1550 3584 1831 3584 \nQ 2591 3584 2966 3190 \nQ 3341 2797 3341 1997 \nz\n\" id=\"DejaVuSans-61\" transform=\"scale(0.015625)\"/>\n        <path d=\"M 2834 3397 \nL 2834 2853 \nQ 2591 2978 2328 3040 \nQ 2066 3103 1784 3103 \nQ 1356 3103 1142 2972 \nQ 928 2841 928 2578 \nQ 928 2378 1081 2264 \nQ 1234 2150 1697 2047 \nL 1894 2003 \nQ 2506 1872 2764 1633 \nQ 3022 1394 3022 966 \nQ 3022 478 2636 193 \nQ 2250 -91 1575 -91 \nQ 1294 -91 989 -36 \nQ 684 19 347 128 \nL 347 722 \nQ 666 556 975 473 \nQ 1284 391 1588 391 \nQ 1994 391 2212 530 \nQ 2431 669 2431 922 \nQ 2431 1156 2273 1281 \nQ 2116 1406 1581 1522 \nL 1381 1569 \nQ 847 1681 609 1914 \nQ 372 2147 372 2553 \nQ 372 3047 722 3315 \nQ 1072 3584 1716 3584 \nQ 2034 3584 2315 3537 \nQ 2597 3491 2834 3397 \nz\n\" id=\"DejaVuSans-73\" transform=\"scale(0.015625)\"/>\n        <path d=\"M 191 3500 \nL 800 3500 \nL 1894 563 \nL 2988 3500 \nL 3597 3500 \nL 2284 0 \nL 1503 0 \nL 191 3500 \nz\n\" id=\"DejaVuSans-76\" transform=\"scale(0.015625)\"/>\n        <path d=\"M 3513 2113 \nL 3513 0 \nL 2938 0 \nL 2938 2094 \nQ 2938 2591 2744 2837 \nQ 2550 3084 2163 3084 \nQ 1697 3084 1428 2787 \nQ 1159 2491 1159 1978 \nL 1159 0 \nL 581 0 \nL 581 4863 \nL 1159 4863 \nL 1159 2956 \nQ 1366 3272 1645 3428 \nQ 1925 3584 2291 3584 \nQ 2894 3584 3203 3211 \nQ 3513 2838 3513 2113 \nz\n\" id=\"DejaVuSans-68\" transform=\"scale(0.015625)\"/>\n        <path d=\"M 603 4863 \nL 1178 4863 \nL 1178 0 \nL 603 0 \nL 603 4863 \nz\n\" id=\"DejaVuSans-6c\" transform=\"scale(0.015625)\"/>\n        <path d=\"M 544 1381 \nL 544 3500 \nL 1119 3500 \nL 1119 1403 \nQ 1119 906 1312 657 \nQ 1506 409 1894 409 \nQ 2359 409 2629 706 \nQ 2900 1003 2900 1516 \nL 2900 3500 \nL 3475 3500 \nL 3475 0 \nL 2900 0 \nL 2900 538 \nQ 2691 219 2414 64 \nQ 2138 -91 1772 -91 \nQ 1169 -91 856 284 \nQ 544 659 544 1381 \nz\nM 1991 3584 \nL 1991 3584 \nz\n\" id=\"DejaVuSans-75\" transform=\"scale(0.015625)\"/>\n        <path d=\"M 3328 2828 \nQ 3544 3216 3844 3400 \nQ 4144 3584 4550 3584 \nQ 5097 3584 5394 3201 \nQ 5691 2819 5691 2113 \nL 5691 0 \nL 5113 0 \nL 5113 2094 \nQ 5113 2597 4934 2840 \nQ 4756 3084 4391 3084 \nQ 3944 3084 3684 2787 \nQ 3425 2491 3425 1978 \nL 3425 0 \nL 2847 0 \nL 2847 2094 \nQ 2847 2600 2669 2842 \nQ 2491 3084 2119 3084 \nQ 1678 3084 1418 2786 \nQ 1159 2488 1159 1978 \nL 1159 0 \nL 581 0 \nL 581 3500 \nL 1159 3500 \nL 1159 2956 \nQ 1356 3278 1631 3431 \nQ 1906 3584 2284 3584 \nQ 2666 3584 2933 3390 \nQ 3200 3197 3328 2828 \nz\n\" id=\"DejaVuSans-6d\" transform=\"scale(0.015625)\"/>\n       </defs>\n       <use xlink:href=\"#DejaVuSans-43\"/>\n       <use x=\"69.824219\" xlink:href=\"#DejaVuSans-72\"/>\n       <use x=\"108.6875\" xlink:href=\"#DejaVuSans-65\"/>\n       <use x=\"170.210938\" xlink:href=\"#DejaVuSans-64\"/>\n       <use x=\"233.6875\" xlink:href=\"#DejaVuSans-69\"/>\n       <use x=\"261.470703\" xlink:href=\"#DejaVuSans-74\"/>\n       <use x=\"300.679688\" xlink:href=\"#DejaVuSans-20\"/>\n       <use x=\"332.466797\" xlink:href=\"#DejaVuSans-72\"/>\n       <use x=\"371.330078\" xlink:href=\"#DejaVuSans-65\"/>\n       <use x=\"432.853516\" xlink:href=\"#DejaVuSans-70\"/>\n       <use x=\"496.330078\" xlink:href=\"#DejaVuSans-6f\"/>\n       <use x=\"557.511719\" xlink:href=\"#DejaVuSans-72\"/>\n       <use x=\"598.625\" xlink:href=\"#DejaVuSans-74\"/>\n       <use x=\"637.833984\" xlink:href=\"#DejaVuSans-69\"/>\n       <use x=\"665.617188\" xlink:href=\"#DejaVuSans-6e\"/>\n       <use x=\"728.996094\" xlink:href=\"#DejaVuSans-67\"/>\n       <use x=\"792.472656\" xlink:href=\"#DejaVuSans-2c\"/>\n       <use x=\"824.259766\" xlink:href=\"#DejaVuSans-20\"/>\n       <use x=\"856.046875\" xlink:href=\"#DejaVuSans-63\"/>\n       <use x=\"911.027344\" xlink:href=\"#DejaVuSans-72\"/>\n       <use x=\"949.890625\" xlink:href=\"#DejaVuSans-65\"/>\n       <use x=\"1011.414062\" xlink:href=\"#DejaVuSans-64\"/>\n       <use x=\"1074.890625\" xlink:href=\"#DejaVuSans-69\"/>\n       <use x=\"1102.673828\" xlink:href=\"#DejaVuSans-74\"/>\n       <use x=\"1141.882812\" xlink:href=\"#DejaVuSans-20\"/>\n       <use x=\"1173.669922\" xlink:href=\"#DejaVuSans-72\"/>\n       <use x=\"1212.533203\" xlink:href=\"#DejaVuSans-65\"/>\n       <use x=\"1274.056641\" xlink:href=\"#DejaVuSans-70\"/>\n       <use x=\"1337.533203\" xlink:href=\"#DejaVuSans-61\"/>\n       <use x=\"1398.8125\" xlink:href=\"#DejaVuSans-69\"/>\n       <use x=\"1426.595703\" xlink:href=\"#DejaVuSans-72\"/>\n       <use x=\"1467.708984\" xlink:href=\"#DejaVuSans-20\"/>\n       <use x=\"1499.496094\" xlink:href=\"#DejaVuSans-73\"/>\n       <use x=\"1551.595703\" xlink:href=\"#DejaVuSans-65\"/>\n       <use x=\"1613.119141\" xlink:href=\"#DejaVuSans-72\"/>\n       <use x=\"1654.232422\" xlink:href=\"#DejaVuSans-76\"/>\n       <use x=\"1713.412109\" xlink:href=\"#DejaVuSans-69\"/>\n       <use x=\"1741.195312\" xlink:href=\"#DejaVuSans-63\"/>\n       <use x=\"1796.175781\" xlink:href=\"#DejaVuSans-65\"/>\n       <use x=\"1857.699219\" xlink:href=\"#DejaVuSans-73\"/>\n       <use x=\"1909.798828\" xlink:href=\"#DejaVuSans-2c\"/>\n       <use x=\"1941.585938\" xlink:href=\"#DejaVuSans-20\"/>\n       <use x=\"1973.373047\" xlink:href=\"#DejaVuSans-6f\"/>\n       <use x=\"2034.554688\" xlink:href=\"#DejaVuSans-72\"/>\n       <use x=\"2075.667969\" xlink:href=\"#DejaVuSans-20\"/>\n       <use x=\"2107.455078\" xlink:href=\"#DejaVuSans-6f\"/>\n       <use x=\"2168.636719\" xlink:href=\"#DejaVuSans-74\"/>\n       <use x=\"2207.845703\" xlink:href=\"#DejaVuSans-68\"/>\n       <use x=\"2271.224609\" xlink:href=\"#DejaVuSans-65\"/>\n       <use x=\"2332.748047\" xlink:href=\"#DejaVuSans-72\"/>\n       <use x=\"2373.861328\" xlink:href=\"#DejaVuSans-20\"/>\n       <use x=\"2405.648438\" xlink:href=\"#DejaVuSans-70\"/>\n       <use x=\"2469.125\" xlink:href=\"#DejaVuSans-65\"/>\n       <use x=\"2530.648438\" xlink:href=\"#DejaVuSans-72\"/>\n       <use x=\"2571.761719\" xlink:href=\"#DejaVuSans-73\"/>\n       <use x=\"2623.861328\" xlink:href=\"#DejaVuSans-6f\"/>\n       <use x=\"2685.042969\" xlink:href=\"#DejaVuSans-6e\"/>\n       <use x=\"2748.421875\" xlink:href=\"#DejaVuSans-61\"/>\n       <use x=\"2809.701172\" xlink:href=\"#DejaVuSans-6c\"/>\n       <use x=\"2837.484375\" xlink:href=\"#DejaVuSans-20\"/>\n       <use x=\"2869.271484\" xlink:href=\"#DejaVuSans-63\"/>\n       <use x=\"2924.251953\" xlink:href=\"#DejaVuSans-6f\"/>\n       <use x=\"2985.433594\" xlink:href=\"#DejaVuSans-6e\"/>\n       <use x=\"3048.8125\" xlink:href=\"#DejaVuSans-73\"/>\n       <use x=\"3100.912109\" xlink:href=\"#DejaVuSans-75\"/>\n       <use x=\"3164.291016\" xlink:href=\"#DejaVuSans-6d\"/>\n       <use x=\"3261.703125\" xlink:href=\"#DejaVuSans-65\"/>\n       <use x=\"3323.226562\" xlink:href=\"#DejaVuSans-72\"/>\n       <use x=\"3364.339844\" xlink:href=\"#DejaVuSans-20\"/>\n       <use x=\"3396.126953\" xlink:href=\"#DejaVuSans-72\"/>\n       <use x=\"3434.990234\" xlink:href=\"#DejaVuSans-65\"/>\n       <use x=\"3496.513672\" xlink:href=\"#DejaVuSans-70\"/>\n       <use x=\"3559.990234\" xlink:href=\"#DejaVuSans-6f\"/>\n       <use x=\"3621.171875\" xlink:href=\"#DejaVuSans-72\"/>\n       <use x=\"3662.285156\" xlink:href=\"#DejaVuSans-74\"/>\n       <use x=\"3701.494141\" xlink:href=\"#DejaVuSans-73\"/>\n      </g>\n     </g>\n    </g>\n    <g id=\"ytick_2\">\n     <g id=\"line2d_9\">\n      <g>\n       <use style=\"stroke:#000000;stroke-width:0.8;\" x=\"403.235937\" xlink:href=\"#m620b765df7\" y=\"52.5\"/>\n      </g>\n     </g>\n     <g id=\"text_10\">\n      <!-- Mortgage -->\n      <g transform=\"translate(348.479687 56.299219)scale(0.1 -0.1)\">\n       <defs>\n        <path d=\"M 628 4666 \nL 1569 4666 \nL 2759 1491 \nL 3956 4666 \nL 4897 4666 \nL 4897 0 \nL 4281 0 \nL 4281 4097 \nL 3078 897 \nL 2444 897 \nL 1241 4097 \nL 1241 0 \nL 628 0 \nL 628 4666 \nz\n\" id=\"DejaVuSans-4d\" transform=\"scale(0.015625)\"/>\n       </defs>\n       <use xlink:href=\"#DejaVuSans-4d\"/>\n       <use x=\"86.279297\" xlink:href=\"#DejaVuSans-6f\"/>\n       <use x=\"147.460938\" xlink:href=\"#DejaVuSans-72\"/>\n       <use x=\"188.574219\" xlink:href=\"#DejaVuSans-74\"/>\n       <use x=\"227.783203\" xlink:href=\"#DejaVuSans-67\"/>\n       <use x=\"291.259766\" xlink:href=\"#DejaVuSans-61\"/>\n       <use x=\"352.539062\" xlink:href=\"#DejaVuSans-67\"/>\n       <use x=\"416.015625\" xlink:href=\"#DejaVuSans-65\"/>\n      </g>\n     </g>\n    </g>\n    <g id=\"ytick_3\">\n     <g id=\"line2d_10\">\n      <g>\n       <use style=\"stroke:#000000;stroke-width:0.8;\" x=\"403.235937\" xlink:href=\"#m620b765df7\" y=\"82.7\"/>\n      </g>\n     </g>\n     <g id=\"text_11\">\n      <!-- Debt collection -->\n      <g transform=\"translate(320.95625 86.499219)scale(0.1 -0.1)\">\n       <defs>\n        <path d=\"M 1259 4147 \nL 1259 519 \nL 2022 519 \nQ 2988 519 3436 956 \nQ 3884 1394 3884 2338 \nQ 3884 3275 3436 3711 \nQ 2988 4147 2022 4147 \nL 1259 4147 \nz\nM 628 4666 \nL 1925 4666 \nQ 3281 4666 3915 4102 \nQ 4550 3538 4550 2338 \nQ 4550 1131 3912 565 \nQ 3275 0 1925 0 \nL 628 0 \nL 628 4666 \nz\n\" id=\"DejaVuSans-44\" transform=\"scale(0.015625)\"/>\n        <path d=\"M 3116 1747 \nQ 3116 2381 2855 2742 \nQ 2594 3103 2138 3103 \nQ 1681 3103 1420 2742 \nQ 1159 2381 1159 1747 \nQ 1159 1113 1420 752 \nQ 1681 391 2138 391 \nQ 2594 391 2855 752 \nQ 3116 1113 3116 1747 \nz\nM 1159 2969 \nQ 1341 3281 1617 3432 \nQ 1894 3584 2278 3584 \nQ 2916 3584 3314 3078 \nQ 3713 2572 3713 1747 \nQ 3713 922 3314 415 \nQ 2916 -91 2278 -91 \nQ 1894 -91 1617 61 \nQ 1341 213 1159 525 \nL 1159 0 \nL 581 0 \nL 581 4863 \nL 1159 4863 \nL 1159 2969 \nz\n\" id=\"DejaVuSans-62\" transform=\"scale(0.015625)\"/>\n       </defs>\n       <use xlink:href=\"#DejaVuSans-44\"/>\n       <use x=\"77.001953\" xlink:href=\"#DejaVuSans-65\"/>\n       <use x=\"138.525391\" xlink:href=\"#DejaVuSans-62\"/>\n       <use x=\"202.001953\" xlink:href=\"#DejaVuSans-74\"/>\n       <use x=\"241.210938\" xlink:href=\"#DejaVuSans-20\"/>\n       <use x=\"272.998047\" xlink:href=\"#DejaVuSans-63\"/>\n       <use x=\"327.978516\" xlink:href=\"#DejaVuSans-6f\"/>\n       <use x=\"389.160156\" xlink:href=\"#DejaVuSans-6c\"/>\n       <use x=\"416.943359\" xlink:href=\"#DejaVuSans-6c\"/>\n       <use x=\"444.726562\" xlink:href=\"#DejaVuSans-65\"/>\n       <use x=\"506.25\" xlink:href=\"#DejaVuSans-63\"/>\n       <use x=\"561.230469\" xlink:href=\"#DejaVuSans-74\"/>\n       <use x=\"600.439453\" xlink:href=\"#DejaVuSans-69\"/>\n       <use x=\"628.222656\" xlink:href=\"#DejaVuSans-6f\"/>\n       <use x=\"689.404297\" xlink:href=\"#DejaVuSans-6e\"/>\n      </g>\n     </g>\n    </g>\n    <g id=\"ytick_4\">\n     <g id=\"line2d_11\">\n      <g>\n       <use style=\"stroke:#000000;stroke-width:0.8;\" x=\"403.235937\" xlink:href=\"#m620b765df7\" y=\"112.9\"/>\n      </g>\n     </g>\n     <g id=\"text_12\">\n      <!-- Credit reporting -->\n      <g transform=\"translate(316.9875 116.699219)scale(0.1 -0.1)\">\n       <use xlink:href=\"#DejaVuSans-43\"/>\n       <use x=\"69.824219\" xlink:href=\"#DejaVuSans-72\"/>\n       <use x=\"108.6875\" xlink:href=\"#DejaVuSans-65\"/>\n       <use x=\"170.210938\" xlink:href=\"#DejaVuSans-64\"/>\n       <use x=\"233.6875\" xlink:href=\"#DejaVuSans-69\"/>\n       <use x=\"261.470703\" xlink:href=\"#DejaVuSans-74\"/>\n       <use x=\"300.679688\" xlink:href=\"#DejaVuSans-20\"/>\n       <use x=\"332.466797\" xlink:href=\"#DejaVuSans-72\"/>\n       <use x=\"371.330078\" xlink:href=\"#DejaVuSans-65\"/>\n       <use x=\"432.853516\" xlink:href=\"#DejaVuSans-70\"/>\n       <use x=\"496.330078\" xlink:href=\"#DejaVuSans-6f\"/>\n       <use x=\"557.511719\" xlink:href=\"#DejaVuSans-72\"/>\n       <use x=\"598.625\" xlink:href=\"#DejaVuSans-74\"/>\n       <use x=\"637.833984\" xlink:href=\"#DejaVuSans-69\"/>\n       <use x=\"665.617188\" xlink:href=\"#DejaVuSans-6e\"/>\n       <use x=\"728.996094\" xlink:href=\"#DejaVuSans-67\"/>\n      </g>\n     </g>\n    </g>\n    <g id=\"ytick_5\">\n     <g id=\"line2d_12\">\n      <g>\n       <use style=\"stroke:#000000;stroke-width:0.8;\" x=\"403.235937\" xlink:href=\"#m620b765df7\" y=\"143.1\"/>\n      </g>\n     </g>\n     <g id=\"text_13\">\n      <!-- Credit card -->\n      <g transform=\"translate(341.078125 146.899219)scale(0.1 -0.1)\">\n       <use xlink:href=\"#DejaVuSans-43\"/>\n       <use x=\"69.824219\" xlink:href=\"#DejaVuSans-72\"/>\n       <use x=\"108.6875\" xlink:href=\"#DejaVuSans-65\"/>\n       <use x=\"170.210938\" xlink:href=\"#DejaVuSans-64\"/>\n       <use x=\"233.6875\" xlink:href=\"#DejaVuSans-69\"/>\n       <use x=\"261.470703\" xlink:href=\"#DejaVuSans-74\"/>\n       <use x=\"300.679688\" xlink:href=\"#DejaVuSans-20\"/>\n       <use x=\"332.466797\" xlink:href=\"#DejaVuSans-63\"/>\n       <use x=\"387.447266\" xlink:href=\"#DejaVuSans-61\"/>\n       <use x=\"448.726562\" xlink:href=\"#DejaVuSans-72\"/>\n       <use x=\"488.089844\" xlink:href=\"#DejaVuSans-64\"/>\n      </g>\n     </g>\n    </g>\n    <g id=\"ytick_6\">\n     <g id=\"line2d_13\">\n      <g>\n       <use style=\"stroke:#000000;stroke-width:0.8;\" x=\"403.235937\" xlink:href=\"#m620b765df7\" y=\"173.3\"/>\n      </g>\n     </g>\n     <g id=\"text_14\">\n      <!-- Bank account or service -->\n      <g transform=\"translate(275.69375 177.099219)scale(0.1 -0.1)\">\n       <defs>\n        <path d=\"M 1259 2228 \nL 1259 519 \nL 2272 519 \nQ 2781 519 3026 730 \nQ 3272 941 3272 1375 \nQ 3272 1813 3026 2020 \nQ 2781 2228 2272 2228 \nL 1259 2228 \nz\nM 1259 4147 \nL 1259 2741 \nL 2194 2741 \nQ 2656 2741 2882 2914 \nQ 3109 3088 3109 3444 \nQ 3109 3797 2882 3972 \nQ 2656 4147 2194 4147 \nL 1259 4147 \nz\nM 628 4666 \nL 2241 4666 \nQ 2963 4666 3353 4366 \nQ 3744 4066 3744 3513 \nQ 3744 3084 3544 2831 \nQ 3344 2578 2956 2516 \nQ 3422 2416 3680 2098 \nQ 3938 1781 3938 1306 \nQ 3938 681 3513 340 \nQ 3088 0 2303 0 \nL 628 0 \nL 628 4666 \nz\n\" id=\"DejaVuSans-42\" transform=\"scale(0.015625)\"/>\n        <path d=\"M 581 4863 \nL 1159 4863 \nL 1159 1991 \nL 2875 3500 \nL 3609 3500 \nL 1753 1863 \nL 3688 0 \nL 2938 0 \nL 1159 1709 \nL 1159 0 \nL 581 0 \nL 581 4863 \nz\n\" id=\"DejaVuSans-6b\" transform=\"scale(0.015625)\"/>\n       </defs>\n       <use xlink:href=\"#DejaVuSans-42\"/>\n       <use x=\"68.603516\" xlink:href=\"#DejaVuSans-61\"/>\n       <use x=\"129.882812\" xlink:href=\"#DejaVuSans-6e\"/>\n       <use x=\"193.261719\" xlink:href=\"#DejaVuSans-6b\"/>\n       <use x=\"251.171875\" xlink:href=\"#DejaVuSans-20\"/>\n       <use x=\"282.958984\" xlink:href=\"#DejaVuSans-61\"/>\n       <use x=\"344.238281\" xlink:href=\"#DejaVuSans-63\"/>\n       <use x=\"399.21875\" xlink:href=\"#DejaVuSans-63\"/>\n       <use x=\"454.199219\" xlink:href=\"#DejaVuSans-6f\"/>\n       <use x=\"515.380859\" xlink:href=\"#DejaVuSans-75\"/>\n       <use x=\"578.759766\" xlink:href=\"#DejaVuSans-6e\"/>\n       <use x=\"642.138672\" xlink:href=\"#DejaVuSans-74\"/>\n       <use x=\"681.347656\" xlink:href=\"#DejaVuSans-20\"/>\n       <use x=\"713.134766\" xlink:href=\"#DejaVuSans-6f\"/>\n       <use x=\"774.316406\" xlink:href=\"#DejaVuSans-72\"/>\n       <use x=\"815.429688\" xlink:href=\"#DejaVuSans-20\"/>\n       <use x=\"847.216797\" xlink:href=\"#DejaVuSans-73\"/>\n       <use x=\"899.316406\" xlink:href=\"#DejaVuSans-65\"/>\n       <use x=\"960.839844\" xlink:href=\"#DejaVuSans-72\"/>\n       <use x=\"1001.953125\" xlink:href=\"#DejaVuSans-76\"/>\n       <use x=\"1061.132812\" xlink:href=\"#DejaVuSans-69\"/>\n       <use x=\"1088.916016\" xlink:href=\"#DejaVuSans-63\"/>\n       <use x=\"1143.896484\" xlink:href=\"#DejaVuSans-65\"/>\n      </g>\n     </g>\n    </g>\n    <g id=\"ytick_7\">\n     <g id=\"line2d_14\">\n      <g>\n       <use style=\"stroke:#000000;stroke-width:0.8;\" x=\"403.235937\" xlink:href=\"#m620b765df7\" y=\"203.5\"/>\n      </g>\n     </g>\n     <g id=\"text_15\">\n      <!-- Credit card or prepaid card -->\n      <g transform=\"translate(261.4125 207.299219)scale(0.1 -0.1)\">\n       <use xlink:href=\"#DejaVuSans-43\"/>\n       <use x=\"69.824219\" xlink:href=\"#DejaVuSans-72\"/>\n       <use x=\"108.6875\" xlink:href=\"#DejaVuSans-65\"/>\n       <use x=\"170.210938\" xlink:href=\"#DejaVuSans-64\"/>\n       <use x=\"233.6875\" xlink:href=\"#DejaVuSans-69\"/>\n       <use x=\"261.470703\" xlink:href=\"#DejaVuSans-74\"/>\n       <use x=\"300.679688\" xlink:href=\"#DejaVuSans-20\"/>\n       <use x=\"332.466797\" xlink:href=\"#DejaVuSans-63\"/>\n       <use x=\"387.447266\" xlink:href=\"#DejaVuSans-61\"/>\n       <use x=\"448.726562\" xlink:href=\"#DejaVuSans-72\"/>\n       <use x=\"488.089844\" xlink:href=\"#DejaVuSans-64\"/>\n       <use x=\"551.566406\" xlink:href=\"#DejaVuSans-20\"/>\n       <use x=\"583.353516\" xlink:href=\"#DejaVuSans-6f\"/>\n       <use x=\"644.535156\" xlink:href=\"#DejaVuSans-72\"/>\n       <use x=\"685.648438\" xlink:href=\"#DejaVuSans-20\"/>\n       <use x=\"717.435547\" xlink:href=\"#DejaVuSans-70\"/>\n       <use x=\"780.912109\" xlink:href=\"#DejaVuSans-72\"/>\n       <use x=\"819.775391\" xlink:href=\"#DejaVuSans-65\"/>\n       <use x=\"881.298828\" xlink:href=\"#DejaVuSans-70\"/>\n       <use x=\"944.775391\" xlink:href=\"#DejaVuSans-61\"/>\n       <use x=\"1006.054688\" xlink:href=\"#DejaVuSans-69\"/>\n       <use x=\"1033.837891\" xlink:href=\"#DejaVuSans-64\"/>\n       <use x=\"1097.314453\" xlink:href=\"#DejaVuSans-20\"/>\n       <use x=\"1129.101562\" xlink:href=\"#DejaVuSans-63\"/>\n       <use x=\"1184.082031\" xlink:href=\"#DejaVuSans-61\"/>\n       <use x=\"1245.361328\" xlink:href=\"#DejaVuSans-72\"/>\n       <use x=\"1284.724609\" xlink:href=\"#DejaVuSans-64\"/>\n      </g>\n     </g>\n    </g>\n    <g id=\"ytick_8\">\n     <g id=\"line2d_15\">\n      <g>\n       <use style=\"stroke:#000000;stroke-width:0.8;\" x=\"403.235937\" xlink:href=\"#m620b765df7\" y=\"233.7\"/>\n      </g>\n     </g>\n     <g id=\"text_16\">\n      <!-- Checking or savings account -->\n      <g transform=\"translate(252.476562 237.499219)scale(0.1 -0.1)\">\n       <use xlink:href=\"#DejaVuSans-43\"/>\n       <use x=\"69.824219\" xlink:href=\"#DejaVuSans-68\"/>\n       <use x=\"133.203125\" xlink:href=\"#DejaVuSans-65\"/>\n       <use x=\"194.726562\" xlink:href=\"#DejaVuSans-63\"/>\n       <use x=\"249.707031\" xlink:href=\"#DejaVuSans-6b\"/>\n       <use x=\"307.617188\" xlink:href=\"#DejaVuSans-69\"/>\n       <use x=\"335.400391\" xlink:href=\"#DejaVuSans-6e\"/>\n       <use x=\"398.779297\" xlink:href=\"#DejaVuSans-67\"/>\n       <use x=\"462.255859\" xlink:href=\"#DejaVuSans-20\"/>\n       <use x=\"494.042969\" xlink:href=\"#DejaVuSans-6f\"/>\n       <use x=\"555.224609\" xlink:href=\"#DejaVuSans-72\"/>\n       <use x=\"596.337891\" xlink:href=\"#DejaVuSans-20\"/>\n       <use x=\"628.125\" xlink:href=\"#DejaVuSans-73\"/>\n       <use x=\"680.224609\" xlink:href=\"#DejaVuSans-61\"/>\n       <use x=\"741.503906\" xlink:href=\"#DejaVuSans-76\"/>\n       <use x=\"800.683594\" xlink:href=\"#DejaVuSans-69\"/>\n       <use x=\"828.466797\" xlink:href=\"#DejaVuSans-6e\"/>\n       <use x=\"891.845703\" xlink:href=\"#DejaVuSans-67\"/>\n       <use x=\"955.322266\" xlink:href=\"#DejaVuSans-73\"/>\n       <use x=\"1007.421875\" xlink:href=\"#DejaVuSans-20\"/>\n       <use x=\"1039.208984\" xlink:href=\"#DejaVuSans-61\"/>\n       <use x=\"1100.488281\" xlink:href=\"#DejaVuSans-63\"/>\n       <use x=\"1155.46875\" xlink:href=\"#DejaVuSans-63\"/>\n       <use x=\"1210.449219\" xlink:href=\"#DejaVuSans-6f\"/>\n       <use x=\"1271.630859\" xlink:href=\"#DejaVuSans-75\"/>\n       <use x=\"1335.009766\" xlink:href=\"#DejaVuSans-6e\"/>\n       <use x=\"1398.388672\" xlink:href=\"#DejaVuSans-74\"/>\n      </g>\n     </g>\n    </g>\n    <g id=\"ytick_9\">\n     <g id=\"line2d_16\">\n      <g>\n       <use style=\"stroke:#000000;stroke-width:0.8;\" x=\"403.235937\" xlink:href=\"#m620b765df7\" y=\"263.9\"/>\n      </g>\n     </g>\n     <g id=\"text_17\">\n      <!-- Student loan -->\n      <g transform=\"translate(332.329687 267.699219)scale(0.1 -0.1)\">\n       <defs>\n        <path d=\"M 3425 4513 \nL 3425 3897 \nQ 3066 4069 2747 4153 \nQ 2428 4238 2131 4238 \nQ 1616 4238 1336 4038 \nQ 1056 3838 1056 3469 \nQ 1056 3159 1242 3001 \nQ 1428 2844 1947 2747 \nL 2328 2669 \nQ 3034 2534 3370 2195 \nQ 3706 1856 3706 1288 \nQ 3706 609 3251 259 \nQ 2797 -91 1919 -91 \nQ 1588 -91 1214 -16 \nQ 841 59 441 206 \nL 441 856 \nQ 825 641 1194 531 \nQ 1563 422 1919 422 \nQ 2459 422 2753 634 \nQ 3047 847 3047 1241 \nQ 3047 1584 2836 1778 \nQ 2625 1972 2144 2069 \nL 1759 2144 \nQ 1053 2284 737 2584 \nQ 422 2884 422 3419 \nQ 422 4038 858 4394 \nQ 1294 4750 2059 4750 \nQ 2388 4750 2728 4690 \nQ 3069 4631 3425 4513 \nz\n\" id=\"DejaVuSans-53\" transform=\"scale(0.015625)\"/>\n       </defs>\n       <use xlink:href=\"#DejaVuSans-53\"/>\n       <use x=\"63.476562\" xlink:href=\"#DejaVuSans-74\"/>\n       <use x=\"102.685547\" xlink:href=\"#DejaVuSans-75\"/>\n       <use x=\"166.064453\" xlink:href=\"#DejaVuSans-64\"/>\n       <use x=\"229.541016\" xlink:href=\"#DejaVuSans-65\"/>\n       <use x=\"291.064453\" xlink:href=\"#DejaVuSans-6e\"/>\n       <use x=\"354.443359\" xlink:href=\"#DejaVuSans-74\"/>\n       <use x=\"393.652344\" xlink:href=\"#DejaVuSans-20\"/>\n       <use x=\"425.439453\" xlink:href=\"#DejaVuSans-6c\"/>\n       <use x=\"453.222656\" xlink:href=\"#DejaVuSans-6f\"/>\n       <use x=\"514.404297\" xlink:href=\"#DejaVuSans-61\"/>\n       <use x=\"575.683594\" xlink:href=\"#DejaVuSans-6e\"/>\n      </g>\n     </g>\n    </g>\n    <g id=\"ytick_10\">\n     <g id=\"line2d_17\">\n      <g>\n       <use style=\"stroke:#000000;stroke-width:0.8;\" x=\"403.235937\" xlink:href=\"#m620b765df7\" y=\"294.1\"/>\n      </g>\n     </g>\n     <g id=\"text_18\">\n      <!-- Consumer Loan -->\n      <g transform=\"translate(318.085938 297.899219)scale(0.1 -0.1)\">\n       <defs>\n        <path d=\"M 628 4666 \nL 1259 4666 \nL 1259 531 \nL 3531 531 \nL 3531 0 \nL 628 0 \nL 628 4666 \nz\n\" id=\"DejaVuSans-4c\" transform=\"scale(0.015625)\"/>\n       </defs>\n       <use xlink:href=\"#DejaVuSans-43\"/>\n       <use x=\"69.824219\" xlink:href=\"#DejaVuSans-6f\"/>\n       <use x=\"131.005859\" xlink:href=\"#DejaVuSans-6e\"/>\n       <use x=\"194.384766\" xlink:href=\"#DejaVuSans-73\"/>\n       <use x=\"246.484375\" xlink:href=\"#DejaVuSans-75\"/>\n       <use x=\"309.863281\" xlink:href=\"#DejaVuSans-6d\"/>\n       <use x=\"407.275391\" xlink:href=\"#DejaVuSans-65\"/>\n       <use x=\"468.798828\" xlink:href=\"#DejaVuSans-72\"/>\n       <use x=\"509.912109\" xlink:href=\"#DejaVuSans-20\"/>\n       <use x=\"541.699219\" xlink:href=\"#DejaVuSans-4c\"/>\n       <use x=\"595.662109\" xlink:href=\"#DejaVuSans-6f\"/>\n       <use x=\"656.84375\" xlink:href=\"#DejaVuSans-61\"/>\n       <use x=\"718.123047\" xlink:href=\"#DejaVuSans-6e\"/>\n      </g>\n     </g>\n    </g>\n    <g id=\"ytick_11\">\n     <g id=\"line2d_18\">\n      <g>\n       <use style=\"stroke:#000000;stroke-width:0.8;\" x=\"403.235937\" xlink:href=\"#m620b765df7\" y=\"324.3\"/>\n      </g>\n     </g>\n     <g id=\"text_19\">\n      <!-- Vehicle loan or lease -->\n      <g transform=\"translate(292.923437 328.099219)scale(0.1 -0.1)\">\n       <defs>\n        <path d=\"M 1831 0 \nL 50 4666 \nL 709 4666 \nL 2188 738 \nL 3669 4666 \nL 4325 4666 \nL 2547 0 \nL 1831 0 \nz\n\" id=\"DejaVuSans-56\" transform=\"scale(0.015625)\"/>\n       </defs>\n       <use xlink:href=\"#DejaVuSans-56\"/>\n       <use x=\"60.658203\" xlink:href=\"#DejaVuSans-65\"/>\n       <use x=\"122.181641\" xlink:href=\"#DejaVuSans-68\"/>\n       <use x=\"185.560547\" xlink:href=\"#DejaVuSans-69\"/>\n       <use x=\"213.34375\" xlink:href=\"#DejaVuSans-63\"/>\n       <use x=\"268.324219\" xlink:href=\"#DejaVuSans-6c\"/>\n       <use x=\"296.107422\" xlink:href=\"#DejaVuSans-65\"/>\n       <use x=\"357.630859\" xlink:href=\"#DejaVuSans-20\"/>\n       <use x=\"389.417969\" xlink:href=\"#DejaVuSans-6c\"/>\n       <use x=\"417.201172\" xlink:href=\"#DejaVuSans-6f\"/>\n       <use x=\"478.382812\" xlink:href=\"#DejaVuSans-61\"/>\n       <use x=\"539.662109\" xlink:href=\"#DejaVuSans-6e\"/>\n       <use x=\"603.041016\" xlink:href=\"#DejaVuSans-20\"/>\n       <use x=\"634.828125\" xlink:href=\"#DejaVuSans-6f\"/>\n       <use x=\"696.009766\" xlink:href=\"#DejaVuSans-72\"/>\n       <use x=\"737.123047\" xlink:href=\"#DejaVuSans-20\"/>\n       <use x=\"768.910156\" xlink:href=\"#DejaVuSans-6c\"/>\n       <use x=\"796.693359\" xlink:href=\"#DejaVuSans-65\"/>\n       <use x=\"858.216797\" xlink:href=\"#DejaVuSans-61\"/>\n       <use x=\"919.496094\" xlink:href=\"#DejaVuSans-73\"/>\n       <use x=\"971.595703\" xlink:href=\"#DejaVuSans-65\"/>\n      </g>\n     </g>\n    </g>\n    <g id=\"ytick_12\">\n     <g id=\"line2d_19\">\n      <g>\n       <use style=\"stroke:#000000;stroke-width:0.8;\" x=\"403.235937\" xlink:href=\"#m620b765df7\" y=\"354.5\"/>\n      </g>\n     </g>\n     <g id=\"text_20\">\n      <!-- Money transfer, virtual currency, or money service -->\n      <g transform=\"translate(142.30625 358.299219)scale(0.1 -0.1)\">\n       <defs>\n        <path d=\"M 2059 -325 \nQ 1816 -950 1584 -1140 \nQ 1353 -1331 966 -1331 \nL 506 -1331 \nL 506 -850 \nL 844 -850 \nQ 1081 -850 1212 -737 \nQ 1344 -625 1503 -206 \nL 1606 56 \nL 191 3500 \nL 800 3500 \nL 1894 763 \nL 2988 3500 \nL 3597 3500 \nL 2059 -325 \nz\n\" id=\"DejaVuSans-79\" transform=\"scale(0.015625)\"/>\n        <path d=\"M 2375 4863 \nL 2375 4384 \nL 1825 4384 \nQ 1516 4384 1395 4259 \nQ 1275 4134 1275 3809 \nL 1275 3500 \nL 2222 3500 \nL 2222 3053 \nL 1275 3053 \nL 1275 0 \nL 697 0 \nL 697 3053 \nL 147 3053 \nL 147 3500 \nL 697 3500 \nL 697 3744 \nQ 697 4328 969 4595 \nQ 1241 4863 1831 4863 \nL 2375 4863 \nz\n\" id=\"DejaVuSans-66\" transform=\"scale(0.015625)\"/>\n       </defs>\n       <use xlink:href=\"#DejaVuSans-4d\"/>\n       <use x=\"86.279297\" xlink:href=\"#DejaVuSans-6f\"/>\n       <use x=\"147.460938\" xlink:href=\"#DejaVuSans-6e\"/>\n       <use x=\"210.839844\" xlink:href=\"#DejaVuSans-65\"/>\n       <use x=\"272.363281\" xlink:href=\"#DejaVuSans-79\"/>\n       <use x=\"331.542969\" xlink:href=\"#DejaVuSans-20\"/>\n       <use x=\"363.330078\" xlink:href=\"#DejaVuSans-74\"/>\n       <use x=\"402.539062\" xlink:href=\"#DejaVuSans-72\"/>\n       <use x=\"443.652344\" xlink:href=\"#DejaVuSans-61\"/>\n       <use x=\"504.931641\" xlink:href=\"#DejaVuSans-6e\"/>\n       <use x=\"568.310547\" xlink:href=\"#DejaVuSans-73\"/>\n       <use x=\"620.410156\" xlink:href=\"#DejaVuSans-66\"/>\n       <use x=\"655.615234\" xlink:href=\"#DejaVuSans-65\"/>\n       <use x=\"717.138672\" xlink:href=\"#DejaVuSans-72\"/>\n       <use x=\"758.251953\" xlink:href=\"#DejaVuSans-2c\"/>\n       <use x=\"790.039062\" xlink:href=\"#DejaVuSans-20\"/>\n       <use x=\"821.826172\" xlink:href=\"#DejaVuSans-76\"/>\n       <use x=\"881.005859\" xlink:href=\"#DejaVuSans-69\"/>\n       <use x=\"908.789062\" xlink:href=\"#DejaVuSans-72\"/>\n       <use x=\"949.902344\" xlink:href=\"#DejaVuSans-74\"/>\n       <use x=\"989.111328\" xlink:href=\"#DejaVuSans-75\"/>\n       <use x=\"1052.490234\" xlink:href=\"#DejaVuSans-61\"/>\n       <use x=\"1113.769531\" xlink:href=\"#DejaVuSans-6c\"/>\n       <use x=\"1141.552734\" xlink:href=\"#DejaVuSans-20\"/>\n       <use x=\"1173.339844\" xlink:href=\"#DejaVuSans-63\"/>\n       <use x=\"1228.320312\" xlink:href=\"#DejaVuSans-75\"/>\n       <use x=\"1291.699219\" xlink:href=\"#DejaVuSans-72\"/>\n       <use x=\"1331.0625\" xlink:href=\"#DejaVuSans-72\"/>\n       <use x=\"1369.925781\" xlink:href=\"#DejaVuSans-65\"/>\n       <use x=\"1431.449219\" xlink:href=\"#DejaVuSans-6e\"/>\n       <use x=\"1494.828125\" xlink:href=\"#DejaVuSans-63\"/>\n       <use x=\"1549.808594\" xlink:href=\"#DejaVuSans-79\"/>\n       <use x=\"1608.988281\" xlink:href=\"#DejaVuSans-2c\"/>\n       <use x=\"1640.775391\" xlink:href=\"#DejaVuSans-20\"/>\n       <use x=\"1672.5625\" xlink:href=\"#DejaVuSans-6f\"/>\n       <use x=\"1733.744141\" xlink:href=\"#DejaVuSans-72\"/>\n       <use x=\"1774.857422\" xlink:href=\"#DejaVuSans-20\"/>\n       <use x=\"1806.644531\" xlink:href=\"#DejaVuSans-6d\"/>\n       <use x=\"1904.056641\" xlink:href=\"#DejaVuSans-6f\"/>\n       <use x=\"1965.238281\" xlink:href=\"#DejaVuSans-6e\"/>\n       <use x=\"2028.617188\" xlink:href=\"#DejaVuSans-65\"/>\n       <use x=\"2090.140625\" xlink:href=\"#DejaVuSans-79\"/>\n       <use x=\"2149.320312\" xlink:href=\"#DejaVuSans-20\"/>\n       <use x=\"2181.107422\" xlink:href=\"#DejaVuSans-73\"/>\n       <use x=\"2233.207031\" xlink:href=\"#DejaVuSans-65\"/>\n       <use x=\"2294.730469\" xlink:href=\"#DejaVuSans-72\"/>\n       <use x=\"2335.84375\" xlink:href=\"#DejaVuSans-76\"/>\n       <use x=\"2395.023438\" xlink:href=\"#DejaVuSans-69\"/>\n       <use x=\"2422.806641\" xlink:href=\"#DejaVuSans-63\"/>\n       <use x=\"2477.787109\" xlink:href=\"#DejaVuSans-65\"/>\n      </g>\n     </g>\n    </g>\n    <g id=\"ytick_13\">\n     <g id=\"line2d_20\">\n      <g>\n       <use style=\"stroke:#000000;stroke-width:0.8;\" x=\"403.235937\" xlink:href=\"#m620b765df7\" y=\"384.7\"/>\n      </g>\n     </g>\n     <g id=\"text_21\">\n      <!-- Payday loan, title loan, or personal loan -->\n      <g transform=\"translate(197.7375 388.499219)scale(0.1 -0.1)\">\n       <defs>\n        <path d=\"M 1259 4147 \nL 1259 2394 \nL 2053 2394 \nQ 2494 2394 2734 2622 \nQ 2975 2850 2975 3272 \nQ 2975 3691 2734 3919 \nQ 2494 4147 2053 4147 \nL 1259 4147 \nz\nM 628 4666 \nL 2053 4666 \nQ 2838 4666 3239 4311 \nQ 3641 3956 3641 3272 \nQ 3641 2581 3239 2228 \nQ 2838 1875 2053 1875 \nL 1259 1875 \nL 1259 0 \nL 628 0 \nL 628 4666 \nz\n\" id=\"DejaVuSans-50\" transform=\"scale(0.015625)\"/>\n       </defs>\n       <use xlink:href=\"#DejaVuSans-50\"/>\n       <use x=\"55.802734\" xlink:href=\"#DejaVuSans-61\"/>\n       <use x=\"117.082031\" xlink:href=\"#DejaVuSans-79\"/>\n       <use x=\"176.261719\" xlink:href=\"#DejaVuSans-64\"/>\n       <use x=\"239.738281\" xlink:href=\"#DejaVuSans-61\"/>\n       <use x=\"301.017578\" xlink:href=\"#DejaVuSans-79\"/>\n       <use x=\"360.197266\" xlink:href=\"#DejaVuSans-20\"/>\n       <use x=\"391.984375\" xlink:href=\"#DejaVuSans-6c\"/>\n       <use x=\"419.767578\" xlink:href=\"#DejaVuSans-6f\"/>\n       <use x=\"480.949219\" xlink:href=\"#DejaVuSans-61\"/>\n       <use x=\"542.228516\" xlink:href=\"#DejaVuSans-6e\"/>\n       <use x=\"605.607422\" xlink:href=\"#DejaVuSans-2c\"/>\n       <use x=\"637.394531\" xlink:href=\"#DejaVuSans-20\"/>\n       <use x=\"669.181641\" xlink:href=\"#DejaVuSans-74\"/>\n       <use x=\"708.390625\" xlink:href=\"#DejaVuSans-69\"/>\n       <use x=\"736.173828\" xlink:href=\"#DejaVuSans-74\"/>\n       <use x=\"775.382812\" xlink:href=\"#DejaVuSans-6c\"/>\n       <use x=\"803.166016\" xlink:href=\"#DejaVuSans-65\"/>\n       <use x=\"864.689453\" xlink:href=\"#DejaVuSans-20\"/>\n       <use x=\"896.476562\" xlink:href=\"#DejaVuSans-6c\"/>\n       <use x=\"924.259766\" xlink:href=\"#DejaVuSans-6f\"/>\n       <use x=\"985.441406\" xlink:href=\"#DejaVuSans-61\"/>\n       <use x=\"1046.720703\" xlink:href=\"#DejaVuSans-6e\"/>\n       <use x=\"1110.099609\" xlink:href=\"#DejaVuSans-2c\"/>\n       <use x=\"1141.886719\" xlink:href=\"#DejaVuSans-20\"/>\n       <use x=\"1173.673828\" xlink:href=\"#DejaVuSans-6f\"/>\n       <use x=\"1234.855469\" xlink:href=\"#DejaVuSans-72\"/>\n       <use x=\"1275.96875\" xlink:href=\"#DejaVuSans-20\"/>\n       <use x=\"1307.755859\" xlink:href=\"#DejaVuSans-70\"/>\n       <use x=\"1371.232422\" xlink:href=\"#DejaVuSans-65\"/>\n       <use x=\"1432.755859\" xlink:href=\"#DejaVuSans-72\"/>\n       <use x=\"1473.869141\" xlink:href=\"#DejaVuSans-73\"/>\n       <use x=\"1525.96875\" xlink:href=\"#DejaVuSans-6f\"/>\n       <use x=\"1587.150391\" xlink:href=\"#DejaVuSans-6e\"/>\n       <use x=\"1650.529297\" xlink:href=\"#DejaVuSans-61\"/>\n       <use x=\"1711.808594\" xlink:href=\"#DejaVuSans-6c\"/>\n       <use x=\"1739.591797\" xlink:href=\"#DejaVuSans-20\"/>\n       <use x=\"1771.378906\" xlink:href=\"#DejaVuSans-6c\"/>\n       <use x=\"1799.162109\" xlink:href=\"#DejaVuSans-6f\"/>\n       <use x=\"1860.34375\" xlink:href=\"#DejaVuSans-61\"/>\n       <use x=\"1921.623047\" xlink:href=\"#DejaVuSans-6e\"/>\n      </g>\n     </g>\n    </g>\n    <g id=\"ytick_14\">\n     <g id=\"line2d_21\">\n      <g>\n       <use style=\"stroke:#000000;stroke-width:0.8;\" x=\"403.235937\" xlink:href=\"#m620b765df7\" y=\"414.9\"/>\n      </g>\n     </g>\n     <g id=\"text_22\">\n      <!-- Payday loan -->\n      <g transform=\"translate(335.673437 418.699219)scale(0.1 -0.1)\">\n       <use xlink:href=\"#DejaVuSans-50\"/>\n       <use x=\"55.802734\" xlink:href=\"#DejaVuSans-61\"/>\n       <use x=\"117.082031\" xlink:href=\"#DejaVuSans-79\"/>\n       <use x=\"176.261719\" xlink:href=\"#DejaVuSans-64\"/>\n       <use x=\"239.738281\" xlink:href=\"#DejaVuSans-61\"/>\n       <use x=\"301.017578\" xlink:href=\"#DejaVuSans-79\"/>\n       <use x=\"360.197266\" xlink:href=\"#DejaVuSans-20\"/>\n       <use x=\"391.984375\" xlink:href=\"#DejaVuSans-6c\"/>\n       <use x=\"419.767578\" xlink:href=\"#DejaVuSans-6f\"/>\n       <use x=\"480.949219\" xlink:href=\"#DejaVuSans-61\"/>\n       <use x=\"542.228516\" xlink:href=\"#DejaVuSans-6e\"/>\n      </g>\n     </g>\n    </g>\n    <g id=\"ytick_15\">\n     <g id=\"line2d_22\">\n      <g>\n       <use style=\"stroke:#000000;stroke-width:0.8;\" x=\"403.235937\" xlink:href=\"#m620b765df7\" y=\"445.1\"/>\n      </g>\n     </g>\n     <g id=\"text_23\">\n      <!-- Money transfers -->\n      <g transform=\"translate(315.201562 448.899219)scale(0.1 -0.1)\">\n       <use xlink:href=\"#DejaVuSans-4d\"/>\n       <use x=\"86.279297\" xlink:href=\"#DejaVuSans-6f\"/>\n       <use x=\"147.460938\" xlink:href=\"#DejaVuSans-6e\"/>\n       <use x=\"210.839844\" xlink:href=\"#DejaVuSans-65\"/>\n       <use x=\"272.363281\" xlink:href=\"#DejaVuSans-79\"/>\n       <use x=\"331.542969\" xlink:href=\"#DejaVuSans-20\"/>\n       <use x=\"363.330078\" xlink:href=\"#DejaVuSans-74\"/>\n       <use x=\"402.539062\" xlink:href=\"#DejaVuSans-72\"/>\n       <use x=\"443.652344\" xlink:href=\"#DejaVuSans-61\"/>\n       <use x=\"504.931641\" xlink:href=\"#DejaVuSans-6e\"/>\n       <use x=\"568.310547\" xlink:href=\"#DejaVuSans-73\"/>\n       <use x=\"620.410156\" xlink:href=\"#DejaVuSans-66\"/>\n       <use x=\"655.615234\" xlink:href=\"#DejaVuSans-65\"/>\n       <use x=\"717.138672\" xlink:href=\"#DejaVuSans-72\"/>\n       <use x=\"758.251953\" xlink:href=\"#DejaVuSans-73\"/>\n      </g>\n     </g>\n    </g>\n    <g id=\"ytick_16\">\n     <g id=\"line2d_23\">\n      <g>\n       <use style=\"stroke:#000000;stroke-width:0.8;\" x=\"403.235937\" xlink:href=\"#m620b765df7\" y=\"475.3\"/>\n      </g>\n     </g>\n     <g id=\"text_24\">\n      <!-- Prepaid card -->\n      <g transform=\"translate(333.65 479.099219)scale(0.1 -0.1)\">\n       <use xlink:href=\"#DejaVuSans-50\"/>\n       <use x=\"58.552734\" xlink:href=\"#DejaVuSans-72\"/>\n       <use x=\"97.416016\" xlink:href=\"#DejaVuSans-65\"/>\n       <use x=\"158.939453\" xlink:href=\"#DejaVuSans-70\"/>\n       <use x=\"222.416016\" xlink:href=\"#DejaVuSans-61\"/>\n       <use x=\"283.695312\" xlink:href=\"#DejaVuSans-69\"/>\n       <use x=\"311.478516\" xlink:href=\"#DejaVuSans-64\"/>\n       <use x=\"374.955078\" xlink:href=\"#DejaVuSans-20\"/>\n       <use x=\"406.742188\" xlink:href=\"#DejaVuSans-63\"/>\n       <use x=\"461.722656\" xlink:href=\"#DejaVuSans-61\"/>\n       <use x=\"523.001953\" xlink:href=\"#DejaVuSans-72\"/>\n       <use x=\"562.365234\" xlink:href=\"#DejaVuSans-64\"/>\n      </g>\n     </g>\n    </g>\n    <g id=\"ytick_17\">\n     <g id=\"line2d_24\">\n      <g>\n       <use style=\"stroke:#000000;stroke-width:0.8;\" x=\"403.235937\" xlink:href=\"#m620b765df7\" y=\"505.5\"/>\n      </g>\n     </g>\n     <g id=\"text_25\">\n      <!-- Other financial service -->\n      <g transform=\"translate(283.379687 509.299219)scale(0.1 -0.1)\">\n       <defs>\n        <path d=\"M 2522 4238 \nQ 1834 4238 1429 3725 \nQ 1025 3213 1025 2328 \nQ 1025 1447 1429 934 \nQ 1834 422 2522 422 \nQ 3209 422 3611 934 \nQ 4013 1447 4013 2328 \nQ 4013 3213 3611 3725 \nQ 3209 4238 2522 4238 \nz\nM 2522 4750 \nQ 3503 4750 4090 4092 \nQ 4678 3434 4678 2328 \nQ 4678 1225 4090 567 \nQ 3503 -91 2522 -91 \nQ 1538 -91 948 565 \nQ 359 1222 359 2328 \nQ 359 3434 948 4092 \nQ 1538 4750 2522 4750 \nz\n\" id=\"DejaVuSans-4f\" transform=\"scale(0.015625)\"/>\n       </defs>\n       <use xlink:href=\"#DejaVuSans-4f\"/>\n       <use x=\"78.710938\" xlink:href=\"#DejaVuSans-74\"/>\n       <use x=\"117.919922\" xlink:href=\"#DejaVuSans-68\"/>\n       <use x=\"181.298828\" xlink:href=\"#DejaVuSans-65\"/>\n       <use x=\"242.822266\" xlink:href=\"#DejaVuSans-72\"/>\n       <use x=\"283.935547\" xlink:href=\"#DejaVuSans-20\"/>\n       <use x=\"315.722656\" xlink:href=\"#DejaVuSans-66\"/>\n       <use x=\"350.927734\" xlink:href=\"#DejaVuSans-69\"/>\n       <use x=\"378.710938\" xlink:href=\"#DejaVuSans-6e\"/>\n       <use x=\"442.089844\" xlink:href=\"#DejaVuSans-61\"/>\n       <use x=\"503.369141\" xlink:href=\"#DejaVuSans-6e\"/>\n       <use x=\"566.748047\" xlink:href=\"#DejaVuSans-63\"/>\n       <use x=\"621.728516\" xlink:href=\"#DejaVuSans-69\"/>\n       <use x=\"649.511719\" xlink:href=\"#DejaVuSans-61\"/>\n       <use x=\"710.791016\" xlink:href=\"#DejaVuSans-6c\"/>\n       <use x=\"738.574219\" xlink:href=\"#DejaVuSans-20\"/>\n       <use x=\"770.361328\" xlink:href=\"#DejaVuSans-73\"/>\n       <use x=\"822.460938\" xlink:href=\"#DejaVuSans-65\"/>\n       <use x=\"883.984375\" xlink:href=\"#DejaVuSans-72\"/>\n       <use x=\"925.097656\" xlink:href=\"#DejaVuSans-76\"/>\n       <use x=\"984.277344\" xlink:href=\"#DejaVuSans-69\"/>\n       <use x=\"1012.060547\" xlink:href=\"#DejaVuSans-63\"/>\n       <use x=\"1067.041016\" xlink:href=\"#DejaVuSans-65\"/>\n      </g>\n     </g>\n    </g>\n    <g id=\"ytick_18\">\n     <g id=\"line2d_25\">\n      <g>\n       <use style=\"stroke:#000000;stroke-width:0.8;\" x=\"403.235937\" xlink:href=\"#m620b765df7\" y=\"535.7\"/>\n      </g>\n     </g>\n     <g id=\"text_26\">\n      <!-- Virtual currency -->\n      <g transform=\"translate(316.823437 539.499219)scale(0.1 -0.1)\">\n       <use xlink:href=\"#DejaVuSans-56\"/>\n       <use x=\"66.158203\" xlink:href=\"#DejaVuSans-69\"/>\n       <use x=\"93.941406\" xlink:href=\"#DejaVuSans-72\"/>\n       <use x=\"135.054688\" xlink:href=\"#DejaVuSans-74\"/>\n       <use x=\"174.263672\" xlink:href=\"#DejaVuSans-75\"/>\n       <use x=\"237.642578\" xlink:href=\"#DejaVuSans-61\"/>\n       <use x=\"298.921875\" xlink:href=\"#DejaVuSans-6c\"/>\n       <use x=\"326.705078\" xlink:href=\"#DejaVuSans-20\"/>\n       <use x=\"358.492188\" xlink:href=\"#DejaVuSans-63\"/>\n       <use x=\"413.472656\" xlink:href=\"#DejaVuSans-75\"/>\n       <use x=\"476.851562\" xlink:href=\"#DejaVuSans-72\"/>\n       <use x=\"516.214844\" xlink:href=\"#DejaVuSans-72\"/>\n       <use x=\"555.078125\" xlink:href=\"#DejaVuSans-65\"/>\n       <use x=\"616.601562\" xlink:href=\"#DejaVuSans-6e\"/>\n       <use x=\"679.980469\" xlink:href=\"#DejaVuSans-63\"/>\n       <use x=\"734.960938\" xlink:href=\"#DejaVuSans-79\"/>\n      </g>\n     </g>\n    </g>\n    <g id=\"text_27\">\n     <!-- product -->\n     <g style=\"fill:#0000ff;\" transform=\"translate(14.798437 300.971875)rotate(-90)scale(0.1 -0.1)\">\n      <defs>\n       <path d=\"M 1656 506 \nL 1656 -1331 \nL 538 -1331 \nL 538 3500 \nL 1656 3500 \nL 1656 2988 \nQ 1888 3294 2169 3439 \nQ 2450 3584 2816 3584 \nQ 3463 3584 3878 3070 \nQ 4294 2556 4294 1747 \nQ 4294 938 3878 423 \nQ 3463 -91 2816 -91 \nQ 2450 -91 2169 54 \nQ 1888 200 1656 506 \nz\nM 2400 2772 \nQ 2041 2772 1848 2508 \nQ 1656 2244 1656 1747 \nQ 1656 1250 1848 986 \nQ 2041 722 2400 722 \nQ 2759 722 2948 984 \nQ 3138 1247 3138 1747 \nQ 3138 2247 2948 2509 \nQ 2759 2772 2400 2772 \nz\n\" id=\"DejaVuSans-Bold-70\" transform=\"scale(0.015625)\"/>\n       <path d=\"M 3138 2547 \nQ 2991 2616 2845 2648 \nQ 2700 2681 2553 2681 \nQ 2122 2681 1889 2404 \nQ 1656 2128 1656 1613 \nL 1656 0 \nL 538 0 \nL 538 3500 \nL 1656 3500 \nL 1656 2925 \nQ 1872 3269 2151 3426 \nQ 2431 3584 2822 3584 \nQ 2878 3584 2943 3579 \nQ 3009 3575 3134 3559 \nL 3138 2547 \nz\n\" id=\"DejaVuSans-Bold-72\" transform=\"scale(0.015625)\"/>\n       <path d=\"M 2919 2988 \nL 2919 4863 \nL 4044 4863 \nL 4044 0 \nL 2919 0 \nL 2919 506 \nQ 2688 197 2409 53 \nQ 2131 -91 1766 -91 \nQ 1119 -91 703 423 \nQ 288 938 288 1747 \nQ 288 2556 703 3070 \nQ 1119 3584 1766 3584 \nQ 2128 3584 2408 3439 \nQ 2688 3294 2919 2988 \nz\nM 2181 722 \nQ 2541 722 2730 984 \nQ 2919 1247 2919 1747 \nQ 2919 2247 2730 2509 \nQ 2541 2772 2181 2772 \nQ 1825 2772 1636 2509 \nQ 1447 2247 1447 1747 \nQ 1447 1247 1636 984 \nQ 1825 722 2181 722 \nz\n\" id=\"DejaVuSans-Bold-64\" transform=\"scale(0.015625)\"/>\n      </defs>\n      <use xlink:href=\"#DejaVuSans-Bold-70\"/>\n      <use x=\"71.582031\" xlink:href=\"#DejaVuSans-Bold-72\"/>\n      <use x=\"120.898438\" xlink:href=\"#DejaVuSans-Bold-6f\"/>\n      <use x=\"189.599609\" xlink:href=\"#DejaVuSans-Bold-64\"/>\n      <use x=\"261.181641\" xlink:href=\"#DejaVuSans-Bold-75\"/>\n      <use x=\"332.373047\" xlink:href=\"#DejaVuSans-Bold-63\"/>\n      <use x=\"391.650391\" xlink:href=\"#DejaVuSans-Bold-74\"/>\n     </g>\n    </g>\n   </g>\n   <g id=\"line2d_26\">\n    <path clip-path=\"url(#pa4bba5373d)\" d=\"M 0 0 \n\" style=\"fill:none;stroke:#424242;stroke-linecap:square;stroke-width:2.7;\"/>\n   </g>\n   <g id=\"line2d_27\">\n    <path clip-path=\"url(#pa4bba5373d)\" d=\"M 0 0 \n\" style=\"fill:none;stroke:#424242;stroke-linecap:square;stroke-width:2.7;\"/>\n   </g>\n   <g id=\"line2d_28\">\n    <path clip-path=\"url(#pa4bba5373d)\" d=\"M 0 0 \n\" style=\"fill:none;stroke:#424242;stroke-linecap:square;stroke-width:2.7;\"/>\n   </g>\n   <g id=\"line2d_29\">\n    <path clip-path=\"url(#pa4bba5373d)\" d=\"M 0 0 \n\" style=\"fill:none;stroke:#424242;stroke-linecap:square;stroke-width:2.7;\"/>\n   </g>\n   <g id=\"line2d_30\">\n    <path clip-path=\"url(#pa4bba5373d)\" d=\"M 0 0 \n\" style=\"fill:none;stroke:#424242;stroke-linecap:square;stroke-width:2.7;\"/>\n   </g>\n   <g id=\"line2d_31\">\n    <path clip-path=\"url(#pa4bba5373d)\" d=\"M 0 0 \n\" style=\"fill:none;stroke:#424242;stroke-linecap:square;stroke-width:2.7;\"/>\n   </g>\n   <g id=\"line2d_32\">\n    <path clip-path=\"url(#pa4bba5373d)\" d=\"M 0 0 \n\" style=\"fill:none;stroke:#424242;stroke-linecap:square;stroke-width:2.7;\"/>\n   </g>\n   <g id=\"line2d_33\">\n    <path clip-path=\"url(#pa4bba5373d)\" d=\"M 0 0 \n\" style=\"fill:none;stroke:#424242;stroke-linecap:square;stroke-width:2.7;\"/>\n   </g>\n   <g id=\"line2d_34\">\n    <path clip-path=\"url(#pa4bba5373d)\" d=\"M 0 0 \n\" style=\"fill:none;stroke:#424242;stroke-linecap:square;stroke-width:2.7;\"/>\n   </g>\n   <g id=\"line2d_35\">\n    <path clip-path=\"url(#pa4bba5373d)\" d=\"M 0 0 \n\" style=\"fill:none;stroke:#424242;stroke-linecap:square;stroke-width:2.7;\"/>\n   </g>\n   <g id=\"line2d_36\">\n    <path clip-path=\"url(#pa4bba5373d)\" d=\"M 0 0 \n\" style=\"fill:none;stroke:#424242;stroke-linecap:square;stroke-width:2.7;\"/>\n   </g>\n   <g id=\"line2d_37\">\n    <path clip-path=\"url(#pa4bba5373d)\" d=\"M 0 0 \n\" style=\"fill:none;stroke:#424242;stroke-linecap:square;stroke-width:2.7;\"/>\n   </g>\n   <g id=\"line2d_38\">\n    <path clip-path=\"url(#pa4bba5373d)\" d=\"M 0 0 \n\" style=\"fill:none;stroke:#424242;stroke-linecap:square;stroke-width:2.7;\"/>\n   </g>\n   <g id=\"line2d_39\">\n    <path clip-path=\"url(#pa4bba5373d)\" d=\"M 0 0 \n\" style=\"fill:none;stroke:#424242;stroke-linecap:square;stroke-width:2.7;\"/>\n   </g>\n   <g id=\"line2d_40\">\n    <path clip-path=\"url(#pa4bba5373d)\" d=\"M 0 0 \n\" style=\"fill:none;stroke:#424242;stroke-linecap:square;stroke-width:2.7;\"/>\n   </g>\n   <g id=\"line2d_41\">\n    <path clip-path=\"url(#pa4bba5373d)\" d=\"M 0 0 \n\" style=\"fill:none;stroke:#424242;stroke-linecap:square;stroke-width:2.7;\"/>\n   </g>\n   <g id=\"line2d_42\">\n    <path clip-path=\"url(#pa4bba5373d)\" d=\"M 0 0 \n\" style=\"fill:none;stroke:#424242;stroke-linecap:square;stroke-width:2.7;\"/>\n   </g>\n   <g id=\"line2d_43\">\n    <path clip-path=\"url(#pa4bba5373d)\" d=\"M 0 0 \n\" style=\"fill:none;stroke:#424242;stroke-linecap:square;stroke-width:2.7;\"/>\n   </g>\n   <g id=\"patch_21\">\n    <path d=\"M 403.235937 550.8 \nL 403.235937 7.2 \n\" style=\"fill:none;stroke:#000000;stroke-linecap:square;stroke-linejoin:miter;stroke-width:0.8;\"/>\n   </g>\n   <g id=\"patch_22\">\n    <path d=\"M 1407.635938 550.8 \nL 1407.635938 7.2 \n\" style=\"fill:none;stroke:#000000;stroke-linecap:square;stroke-linejoin:miter;stroke-width:0.8;\"/>\n   </g>\n   <g id=\"patch_23\">\n    <path d=\"M 403.235937 550.8 \nL 1407.635938 550.8 \n\" style=\"fill:none;stroke:#000000;stroke-linecap:square;stroke-linejoin:miter;stroke-width:0.8;\"/>\n   </g>\n   <g id=\"patch_24\">\n    <path d=\"M 403.235937 7.2 \nL 1407.635938 7.2 \n\" style=\"fill:none;stroke:#000000;stroke-linecap:square;stroke-linejoin:miter;stroke-width:0.8;\"/>\n   </g>\n  </g>\n </g>\n <defs>\n  <clipPath id=\"pa4bba5373d\">\n   <rect height=\"543.6\" width=\"1004.4\" x=\"403.235937\" y=\"7.2\"/>\n  </clipPath>\n </defs>\n</svg>\n",
      "image/png": "[encoded data removed]"
     },
     "metadata": {
      "needs_background": "light"
     }
    }
   ],
   "source": [
    "drawer.horbar(df_products, 'count', 'product', figsize=(18, 10))"
   ]
  },
  {
   "cell_type": "code",
   "execution_count": null,
   "metadata": {},
   "outputs": [],
   "source": []
  }
 ]
}