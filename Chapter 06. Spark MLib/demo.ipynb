{
 "metadata": {
  "language_info": {
   "codemirror_mode": {
    "name": "ipython",
    "version": 3
   },
   "file_extension": ".py",
   "mimetype": "text/x-python",
   "name": "python",
   "nbconvert_exporter": "python",
   "pygments_lexer": "ipython3",
   "version": "3.8.5"
  },
  "orig_nbformat": 2,
  "kernelspec": {
   "name": "python38564bit739b5682ab17410ead4710a41bd80672",
   "display_name": "Python 3.8.5 64-bit"
  },
  "metadata": {
   "interpreter": {
    "hash": "916dbcbb3f70747c44a77c7bcd40155683ae19c65e1c03b4aa3499c5328201f1"
   }
  }
 },
 "nbformat": 4,
 "nbformat_minor": 2,
 "cells": [
  {
   "cell_type": "code",
   "execution_count": 1,
   "metadata": {},
   "outputs": [],
   "source": [
    "%load_ext autoreload\n",
    "%autoreload 2"
   ]
  },
  {
   "source": [
    "# 1. Bài toán minh họa\n",
    "\n",
    "![](./images/00.png)<br>\n"
   ],
   "cell_type": "markdown",
   "metadata": {}
  },
  {
   "source": [
    "# 3. Xây dựng model"
   ],
   "cell_type": "markdown",
   "metadata": {}
  },
  {
   "cell_type": "code",
   "execution_count": 2,
   "metadata": {},
   "outputs": [],
   "source": [
    "from modules.my_pyspark import *\n",
    "from modules.my_drawer import MyDrawer"
   ]
  },
  {
   "cell_type": "code",
   "execution_count": 3,
   "metadata": {},
   "outputs": [],
   "source": [
    "spark = MyPySpark(session=True, sql=True)\n",
    "drawer = MyDrawer()"
   ]
  },
  {
   "source": [
    "## 3.1. Chuẩn bị & chuẩn hóa dữ liệu, xác định input, output"
   ],
   "cell_type": "markdown",
   "metadata": {}
  },
  {
   "source": [
    "* Đọc dữ liệu"
   ],
   "cell_type": "markdown",
   "metadata": {}
  },
  {
   "cell_type": "code",
   "execution_count": 4,
   "metadata": {},
   "outputs": [],
   "source": [
    "file_path = r'./data/Ecommerce_Customers.csv'"
   ]
  },
  {
   "cell_type": "code",
   "execution_count": 5,
   "metadata": {},
   "outputs": [],
   "source": [
    "data = spark.readFile(file_path)"
   ]
  },
  {
   "cell_type": "code",
   "execution_count": 6,
   "metadata": {},
   "outputs": [
    {
     "output_type": "stream",
     "name": "stdout",
     "text": [
      "root\n |-- Email: string (nullable = true)\n |-- Address: string (nullable = true)\n |-- Avatar: string (nullable = true)\n |-- Avg Session Length: double (nullable = true)\n |-- Time on App: double (nullable = true)\n |-- Time on Website: double (nullable = true)\n |-- Length of Membership: double (nullable = true)\n |-- Yearly Amount Spent: double (nullable = true)\n\n"
     ]
    }
   ],
   "source": [
    "data.printSchema()"
   ]
  },
  {
   "source": [
    "> * Các thuộc tính mơ hồ:\n",
    ">   * `Avg Session Length`: thời gian trung bình mà khách hàng sử dụng web hoặc app của công ty.\n",
    ">   * `Time on App`: thời gian dùng trên app\n",
    ">   * `Time on Website`: thời gian dùng trên web\n",
    ">   * `Length of Membership`: thời gian mất bao lâu để khách hàng trở thành thành viên của công ty\n",
    ">   * `Yearly Amount Spent`: số tiền mà khách hàng sẽ **cúng** cho công ty trong năm"
   ],
   "cell_type": "markdown",
   "metadata": {}
  },
  {
   "cell_type": "code",
   "execution_count": 7,
   "metadata": {},
   "outputs": [
    {
     "output_type": "execute_result",
     "data": {
      "text/plain": [
       "Row(Email='mstephenson@fernandez.com', Address='835 Frank TunnelWrightmouth, MI 82180-9605', Avatar='Violet', Avg Session Length=34.49726772511229, Time on App=12.65565114916675, Time on Website=39.57766801952616, Length of Membership=4.0826206329529615, Yearly Amount Spent=587.9510539684005)"
      ]
     },
     "metadata": {},
     "execution_count": 7
    }
   ],
   "source": [
    "data.head()"
   ]
  },
  {
   "source": [
    "* Xác định input và output\n",
    "  * Các thuộc tính input: `Avg Session Length`, `Time on App`, `Time on Website`, `Length of Membership`.\n",
    "  * Thuộc tính dự đoán: `Yearly Amount Spent`."
   ],
   "cell_type": "markdown",
   "metadata": {}
  },
  {
   "cell_type": "code",
   "execution_count": 8,
   "metadata": {},
   "outputs": [
    {
     "output_type": "execute_result",
     "data": {
      "text/plain": [
       "['Email',\n",
       " 'Address',\n",
       " 'Avatar',\n",
       " 'Avg Session Length',\n",
       " 'Time on App',\n",
       " 'Time on Website',\n",
       " 'Length of Membership',\n",
       " 'Yearly Amount Spent']"
      ]
     },
     "metadata": {},
     "execution_count": 8
    }
   ],
   "source": [
    "data.columns"
   ]
  },
  {
   "cell_type": "code",
   "execution_count": 9,
   "metadata": {},
   "outputs": [],
   "source": [
    "input_features = [\n",
    "    'Avg Session Length',\n",
    "    'Time on App',\n",
    "    'Time on Website',\n",
    "    'Length of Membership'\n",
    "]"
   ]
  },
  {
   "source": [
    "* Từ các thuộc tính trong `input_features` mình sẽ combine nó lại và tạo ra một vector duy nhất gọi là `features` (dc chỉ định tại tham số **outputCol**)."
   ],
   "cell_type": "markdown",
   "metadata": {}
  },
  {
   "cell_type": "code",
   "execution_count": 10,
   "metadata": {},
   "outputs": [],
   "source": [
    "from pyspark.ml.feature import VectorAssembler\n",
    "from pyspark.ml.regression import LinearRegression\n",
    "from pyspark.ml.regression import LinearRegressionModel"
   ]
  },
  {
   "cell_type": "code",
   "execution_count": 11,
   "metadata": {},
   "outputs": [],
   "source": [
    "assembler = VectorAssembler(inputCols=input_features, outputCol='features') # đây là input"
   ]
  },
  {
   "cell_type": "code",
   "execution_count": 12,
   "metadata": {},
   "outputs": [],
   "source": [
    "data_pre = assembler.transform(data) # transform `data` để khớp vs `assembler`"
   ]
  },
  {
   "source": [
    "* Lúc này ta có thể gọi thuộc tính `features` đại diện cùng lúc cho 4 thuộc tính mà ta đã định nghĩa tại `input_features`."
   ],
   "cell_type": "markdown",
   "metadata": {}
  },
  {
   "cell_type": "code",
   "execution_count": 13,
   "metadata": {},
   "outputs": [
    {
     "output_type": "stream",
     "name": "stdout",
     "text": [
      "+--------------------------------------------------------------------------+\n|features                                                                  |\n+--------------------------------------------------------------------------+\n|[34.49726772511229,12.65565114916675,39.57766801952616,4.0826206329529615]|\n|[31.92627202636016,11.109460728682564,37.268958868297744,2.66403418213262]|\n+--------------------------------------------------------------------------+\nonly showing top 2 rows\n\n"
     ]
    }
   ],
   "source": [
    "data_pre.select('features').show(2, False) "
   ]
  },
  {
   "source": [
    "* Tạo ra tập dữ liệu cuồi cùng gọi là `final_data` dùng để training model với input là `features` và output là `Yearly Amount Spent`."
   ],
   "cell_type": "markdown",
   "metadata": {}
  },
  {
   "cell_type": "code",
   "execution_count": 14,
   "metadata": {},
   "outputs": [],
   "source": [
    "final_data = data_pre.select('features', 'Yearly Amount Spent')"
   ]
  },
  {
   "cell_type": "code",
   "execution_count": 15,
   "metadata": {},
   "outputs": [
    {
     "output_type": "stream",
     "name": "stdout",
     "text": [
      "+--------------------+-------------------+\n|            features|Yearly Amount Spent|\n+--------------------+-------------------+\n|[34.4972677251122...|  587.9510539684005|\n|[31.9262720263601...|  392.2049334443264|\n|[33.0009147556426...| 487.54750486747207|\n|[34.3055566297555...|  581.8523440352177|\n|[33.3306725236463...|  599.4060920457634|\n|[33.8710378793419...|   637.102447915074|\n|[32.0215955013870...|  521.5721747578274|\n|[32.7391429383803...|  549.9041461052942|\n|[33.9877728956856...|  570.2004089636196|\n|[31.9365486184489...|  427.1993848953282|\n|[33.9925727749537...|  492.6060127179966|\n|[33.8793608248049...|  522.3374046069357|\n|[29.5324289670579...|  408.6403510726275|\n|[33.1903340437226...|  573.4158673313865|\n|[32.3879758531538...|  470.4527333009554|\n|[30.7377203726281...|  461.7807421962299|\n|[32.1253868972878...| 457.84769594494855|\n|[32.3388993230671...| 407.70454754954415|\n|[32.1878120459321...|  452.3156754800354|\n|[32.6178560628234...|   605.061038804892|\n+--------------------+-------------------+\nonly showing top 20 rows\n\n"
     ]
    }
   ],
   "source": [
    "final_data.show()"
   ]
  },
  {
   "source": [
    "## 3.2. Chuẩn bị train/test data"
   ],
   "cell_type": "markdown",
   "metadata": {}
  },
  {
   "cell_type": "code",
   "execution_count": 16,
   "metadata": {},
   "outputs": [],
   "source": [
    "train_data, test_data = final_data.randomSplit((0.7, 0.3)) # 0.7 train và 0.3 test"
   ]
  },
  {
   "source": [
    "* Xem thống kê mô tả trên training data và test data."
   ],
   "cell_type": "markdown",
   "metadata": {}
  },
  {
   "cell_type": "code",
   "execution_count": 17,
   "metadata": {},
   "outputs": [
    {
     "output_type": "stream",
     "name": "stdout",
     "text": [
      "+-------+-------------------+\n|summary|Yearly Amount Spent|\n+-------+-------------------+\n|  count|                343|\n|   mean|  500.3722352703127|\n| stddev|  79.75412742795619|\n|    min| 256.67058229005585|\n|    max|  744.2218671047146|\n+-------+-------------------+\n\n"
     ]
    }
   ],
   "source": [
    "train_data.describe().show()"
   ]
  },
  {
   "cell_type": "code",
   "execution_count": 18,
   "metadata": {},
   "outputs": [
    {
     "output_type": "stream",
     "name": "stdout",
     "text": [
      "+-------+-------------------+\n|summary|Yearly Amount Spent|\n+-------+-------------------+\n|  count|                157|\n|   mean|  497.0021810928547|\n| stddev|   78.5500299295117|\n|    min| 302.18954780965197|\n|    max|  765.5184619388373|\n+-------+-------------------+\n\n"
     ]
    }
   ],
   "source": [
    "test_data.describe().show()"
   ]
  },
  {
   "source": [
    "> * Dữ liệu train và test gần như tương đương, ko có sự chênh lệch cao về mặt thống kê.\n",
    "> * Nếu chênh lệch giữa các giá trị thống kê của training data và test data là $\\leq 10\\%$ thì OKLA."
   ],
   "cell_type": "markdown",
   "metadata": {}
  },
  {
   "source": [
    "## 3.3. Xây dựng model"
   ],
   "cell_type": "markdown",
   "metadata": {}
  },
  {
   "source": [
    "* Tạo model Linear Regression\n",
    "* Tham số `predictionCol` là giá trị mà model sẽ dự đoán, tức $\\widehat{y}$"
   ],
   "cell_type": "markdown",
   "metadata": {}
  },
  {
   "cell_type": "code",
   "execution_count": 19,
   "metadata": {},
   "outputs": [],
   "source": [
    "lr = LinearRegression(featuresCol='features', labelCol='Yearly Amount Spent', predictionCol='predict_Yearly Amount Spent') # "
   ]
  },
  {
   "source": [
    "* Fit model với data và gán model cho một biến nào đó"
   ],
   "cell_type": "markdown",
   "metadata": {}
  },
  {
   "cell_type": "code",
   "execution_count": 20,
   "metadata": {},
   "outputs": [],
   "source": [
    "lrModel = lr.fit(train_data)"
   ]
  },
  {
   "source": [
    "* In ra coefficients và intercept"
   ],
   "cell_type": "markdown",
   "metadata": {}
  },
  {
   "cell_type": "code",
   "execution_count": 21,
   "metadata": {},
   "outputs": [
    {
     "output_type": "execute_result",
     "data": {
      "text/plain": [
       "(DenseVector([25.5944, 39.0547, 0.4791, 61.2584]), -1051.5623194632235)"
      ]
     },
     "metadata": {},
     "execution_count": 21
    }
   ],
   "source": [
    "lrModel.coefficients, lrModel.intercept"
   ]
  },
  {
   "source": [
    "## 3.4. Đánh giá model vs test data"
   ],
   "cell_type": "markdown",
   "metadata": {}
  },
  {
   "cell_type": "code",
   "execution_count": 22,
   "metadata": {},
   "outputs": [],
   "source": [
    "test_results = lrModel.evaluate(test_data)"
   ]
  },
  {
   "source": [
    "* Đánh giá phần dư"
   ],
   "cell_type": "markdown",
   "metadata": {}
  },
  {
   "cell_type": "code",
   "execution_count": 23,
   "metadata": {},
   "outputs": [
    {
     "output_type": "stream",
     "name": "stdout",
     "text": [
      "+-------------------+\n|          residuals|\n+-------------------+\n| 10.064797262681282|\n|-4.9266001221373585|\n|  6.899681876762543|\n| -1.938494543972297|\n| 18.652850069654107|\n| -7.087102456761045|\n| -5.452626909541891|\n| -9.557893479412257|\n|  2.458540044765698|\n| -18.05821386999446|\n|-2.0804413756164877|\n|  16.33929658433027|\n|  5.859191815935162|\n| -6.740288712681547|\n| -3.408701006722822|\n|-18.869992788883394|\n|   7.88907701349018|\n| -5.400418842584656|\n|  -9.19971726227044|\n|0.25560536609708606|\n+-------------------+\nonly showing top 20 rows\n\n"
     ]
    }
   ],
   "source": [
    "test_results.residuals.show()"
   ]
  },
  {
   "source": [
    "* Đánh giá RMSE"
   ],
   "cell_type": "markdown",
   "metadata": {}
  },
  {
   "cell_type": "code",
   "execution_count": 24,
   "metadata": {},
   "outputs": [
    {
     "output_type": "execute_result",
     "data": {
      "text/plain": [
       "10.01416941214838"
      ]
     },
     "metadata": {},
     "execution_count": 24
    }
   ],
   "source": [
    "test_results.rootMeanSquaredError"
   ]
  },
  {
   "source": [
    "* Đánh giá mean squared error"
   ],
   "cell_type": "markdown",
   "metadata": {}
  },
  {
   "cell_type": "code",
   "execution_count": 25,
   "metadata": {},
   "outputs": [
    {
     "output_type": "execute_result",
     "data": {
      "text/plain": [
       "100.28358901520825"
      ]
     },
     "metadata": {},
     "execution_count": 25
    }
   ],
   "source": [
    "test_results.meanSquaredError"
   ]
  },
  {
   "source": [
    "* Đánh giá $R^2$"
   ],
   "cell_type": "markdown",
   "metadata": {}
  },
  {
   "cell_type": "code",
   "execution_count": 26,
   "metadata": {},
   "outputs": [
    {
     "output_type": "execute_result",
     "data": {
      "text/plain": [
       "0.9836426776340267"
      ]
     },
     "metadata": {},
     "execution_count": 26
    }
   ],
   "source": [
    "test_results.r2"
   ]
  },
  {
   "source": [
    "## 3.5. Đánh giá model vs test data"
   ],
   "cell_type": "markdown",
   "metadata": {}
  },
  {
   "cell_type": "code",
   "execution_count": 27,
   "metadata": {},
   "outputs": [
    {
     "output_type": "stream",
     "name": "stdout",
     "text": [
      "+---------------------------+-------------------+\n|predict_Yearly Amount Spent|Yearly Amount Spent|\n+---------------------------+-------------------+\n|          451.7159449335486|  461.7807421962299|\n|         472.42850054912697|  467.5019004269896|\n|          487.7389278801302|  494.6386097568927|\n|         423.26512580092367|  421.3266312569514|\n|          444.9385679582865|  463.5914180279406|\n|         425.68984455198506|   418.602742095224|\n|          449.4182537194238|  443.9656268098819|\n|         418.65241967175007|  409.0945261923378|\n|         434.05706568459686| 436.51560572936256|\n|          564.0037060113993|  545.9454921414049|\n|          543.3070253649448|  541.2265839893283|\n|          428.2062530667779| 444.54554965110816|\n|         469.40423191161335|  475.2634237275485|\n|         510.12817600064204|  503.3878872879605|\n|         396.21904599052004|  392.8103449837972|\n|          519.9924842925398| 501.12249150365636|\n|          465.1031696533082|  472.9922466667984|\n|         397.68566308885215|  392.2852442462675|\n|         399.30299023474595|  390.1032729724755|\n|         463.49037575453235| 463.74598112062944|\n+---------------------------+-------------------+\nonly showing top 20 rows\n\n"
     ]
    }
   ],
   "source": [
    "test_model = lrModel.transform(test_data)\n",
    "test_model.select('predict_Yearly Amount Spent', 'Yearly Amount Spent').show()"
   ]
  },
  {
   "source": [
    "## 3.6. Lưu trữ & tải model"
   ],
   "cell_type": "markdown",
   "metadata": {}
  },
  {
   "source": [
    "* Lưu model"
   ],
   "cell_type": "markdown",
   "metadata": {}
  },
  {
   "cell_type": "code",
   "execution_count": 28,
   "metadata": {},
   "outputs": [],
   "source": [
    "file_path1 = r'./models/Ecommerce_Customers_LinearRegression_0'"
   ]
  },
  {
   "cell_type": "code",
   "execution_count": 29,
   "metadata": {},
   "outputs": [],
   "source": [
    "lrModel.save(file_path1)"
   ]
  },
  {
   "source": [
    "* Tải model"
   ],
   "cell_type": "markdown",
   "metadata": {}
  },
  {
   "cell_type": "code",
   "execution_count": 30,
   "metadata": {},
   "outputs": [],
   "source": [
    "from pyspark.ml.regression import LinearRegressionModel"
   ]
  },
  {
   "cell_type": "code",
   "execution_count": 31,
   "metadata": {},
   "outputs": [],
   "source": [
    "lrModel2 = LinearRegressionModel.load(file_path1)"
   ]
  },
  {
   "source": [
    "## 3.7. Dự đoán dữ liệu mới"
   ],
   "cell_type": "markdown",
   "metadata": {}
  },
  {
   "cell_type": "code",
   "execution_count": 32,
   "metadata": {},
   "outputs": [],
   "source": [
    "unlabeled_data = test_data.select('features')\n",
    "preditions = lrModel2.transform(unlabeled_data)"
   ]
  },
  {
   "cell_type": "code",
   "execution_count": 33,
   "metadata": {},
   "outputs": [
    {
     "output_type": "stream",
     "name": "stdout",
     "text": [
      "+--------------------+---------------------------+\n|            features|predict_Yearly Amount Spent|\n+--------------------+---------------------------+\n|[30.7377203726281...|          451.7159449335486|\n|[30.8364326747734...|         472.42850054912697|\n|[30.9716756438877...|          487.7389278801302|\n|[31.2606468698795...|         423.26512580092367|\n|[31.3123495994443...|          444.9385679582865|\n|[31.4474464941278...|         425.68984455198506|\n|[31.5257524169682...|          449.4182537194238|\n|[31.5261978982398...|         418.65241967175007|\n|[31.5316044825729...|         434.05706568459686|\n|[31.5702008293202...|          564.0037060113993|\n|[31.5761319713222...|          543.3070253649448|\n|[31.6098395733896...|          428.2062530667779|\n|[31.6548096756927...|         469.40423191161335|\n|[31.7242025238451...|         510.12817600064204|\n|[31.8124825597242...|         396.21904599052004|\n|[31.8164283341993...|          519.9924842925398|\n|[31.8512531286083...|          465.1031696533082|\n|[31.8745516945853...|         397.68566308885215|\n|[31.8854062999117...|         399.30299023474595|\n|[32.0047530203648...|         463.49037575453235|\n+--------------------+---------------------------+\nonly showing top 20 rows\n\n"
     ]
    }
   ],
   "source": [
    "preditions.show()"
   ]
  },
  {
   "cell_type": "code",
   "execution_count": null,
   "metadata": {},
   "outputs": [],
   "source": []
  }
 ]
}