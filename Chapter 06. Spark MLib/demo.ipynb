{
 "metadata": {
  "language_info": {
   "codemirror_mode": {
    "name": "ipython",
    "version": 3
   },
   "file_extension": ".py",
   "mimetype": "text/x-python",
   "name": "python",
   "nbconvert_exporter": "python",
   "pygments_lexer": "ipython3",
   "version": "3.8.5"
  },
  "orig_nbformat": 2,
  "kernelspec": {
   "name": "python38564bit207240a302f84cf383d7b6dbf8fca3f2",
   "display_name": "Python 3.8.5 64-bit"
  },
  "metadata": {
   "interpreter": {
    "hash": "916dbcbb3f70747c44a77c7bcd40155683ae19c65e1c03b4aa3499c5328201f1"
   }
  }
 },
 "nbformat": 4,
 "nbformat_minor": 2,
 "cells": [
  {
   "cell_type": "code",
   "execution_count": 1,
   "metadata": {},
   "outputs": [],
   "source": [
    "%load_ext autoreload\n",
    "%autoreload 2"
   ]
  },
  {
   "source": [
    "# 1. Bài toán minh họa\n",
    "\n",
    "![](./images/00.png)<br>\n"
   ],
   "cell_type": "markdown",
   "metadata": {}
  },
  {
   "source": [
    "# 3. Xây dựng model"
   ],
   "cell_type": "markdown",
   "metadata": {}
  },
  {
   "cell_type": "code",
   "execution_count": 2,
   "metadata": {},
   "outputs": [],
   "source": [
    "from modules.my_spark_regression import *\n",
    "from modules.my_pyspark import *\n",
    "from modules.my_drawer import MyDrawer"
   ]
  },
  {
   "cell_type": "code",
   "execution_count": 3,
   "metadata": {},
   "outputs": [],
   "source": [
    "spark = MyPySpark(session=True, sql=True)\n",
    "drawer = MyDrawer()"
   ]
  },
  {
   "source": [
    "## 3.1. Chuẩn bị & chuẩn hóa dữ liệu, xác định input, output"
   ],
   "cell_type": "markdown",
   "metadata": {}
  },
  {
   "source": [
    "* Đọc dữ liệu"
   ],
   "cell_type": "markdown",
   "metadata": {}
  },
  {
   "cell_type": "code",
   "execution_count": 4,
   "metadata": {},
   "outputs": [],
   "source": [
    "file_path = r'./data/Ecommerce_Customers.csv'"
   ]
  },
  {
   "cell_type": "code",
   "execution_count": 5,
   "metadata": {},
   "outputs": [],
   "source": [
    "data = spark.readFile(file_path)"
   ]
  },
  {
   "cell_type": "code",
   "execution_count": 6,
   "metadata": {},
   "outputs": [
    {
     "output_type": "stream",
     "name": "stdout",
     "text": [
      "root\n |-- Email: string (nullable = true)\n |-- Address: string (nullable = true)\n |-- Avatar: string (nullable = true)\n |-- Avg Session Length: double (nullable = true)\n |-- Time on App: double (nullable = true)\n |-- Time on Website: double (nullable = true)\n |-- Length of Membership: double (nullable = true)\n |-- Yearly Amount Spent: double (nullable = true)\n\n"
     ]
    }
   ],
   "source": [
    "data.printSchema()"
   ]
  },
  {
   "source": [
    "> * Các thuộc tính mơ hồ:\n",
    ">   * `Avg Session Length`: thời gian trung bình mà khách hàng sử dụng web hoặc app của công ty.\n",
    ">   * `Time on App`: thời gian dùng trên app\n",
    ">   * `Time on Website`: thời gian dùng trên web\n",
    ">   * `Length of Membership`: thời gian mất bao lâu để khách hàng trở thành thành viên của công ty\n",
    ">   * `Yearly Amount Spent`: số tiền mà khách hàng sẽ **cúng** cho công ty trong năm"
   ],
   "cell_type": "markdown",
   "metadata": {}
  },
  {
   "cell_type": "code",
   "execution_count": 7,
   "metadata": {},
   "outputs": [
    {
     "output_type": "execute_result",
     "data": {
      "text/plain": [
       "Row(Email='mstephenson@fernandez.com', Address='835 Frank TunnelWrightmouth, MI 82180-9605', Avatar='Violet', Avg Session Length=34.49726772511229, Time on App=12.65565114916675, Time on Website=39.57766801952616, Length of Membership=4.0826206329529615, Yearly Amount Spent=587.9510539684005)"
      ]
     },
     "metadata": {},
     "execution_count": 7
    }
   ],
   "source": [
    "data.head()"
   ]
  },
  {
   "source": [
    "* Xác định input và output\n",
    "  * Các thuộc tính input: `Avg Session Length`, `Time on App`, `Time on Website`, `Length of Membership`.\n",
    "  * Thuộc tính dự đoán: `Yearly Amount Spent`."
   ],
   "cell_type": "markdown",
   "metadata": {}
  },
  {
   "cell_type": "code",
   "execution_count": 8,
   "metadata": {},
   "outputs": [
    {
     "output_type": "execute_result",
     "data": {
      "text/plain": [
       "['Email',\n",
       " 'Address',\n",
       " 'Avatar',\n",
       " 'Avg Session Length',\n",
       " 'Time on App',\n",
       " 'Time on Website',\n",
       " 'Length of Membership',\n",
       " 'Yearly Amount Spent']"
      ]
     },
     "metadata": {},
     "execution_count": 8
    }
   ],
   "source": [
    "data.columns"
   ]
  },
  {
   "cell_type": "code",
   "execution_count": 9,
   "metadata": {},
   "outputs": [],
   "source": [
    "input_features = [\n",
    "    'Avg Session Length',\n",
    "    'Time on App',\n",
    "    'Time on Website',\n",
    "    'Length of Membership'\n",
    "]"
   ]
  },
  {
   "source": [
    "* Từ các thuộc tính trong `input_features` mình sẽ combine nó lại và tạo ra một vector duy nhất gọi là `features` (dc chỉ định tại tham số **outputCol**)."
   ],
   "cell_type": "markdown",
   "metadata": {}
  },
  {
   "cell_type": "code",
   "execution_count": 10,
   "metadata": {},
   "outputs": [],
   "source": [
    "assembler = VectorAssembler(inputCols=input_features, outputCol='features') # đây là input"
   ]
  },
  {
   "cell_type": "code",
   "execution_count": 11,
   "metadata": {},
   "outputs": [],
   "source": [
    "data_pre = assembler.transform(data) # transform `data` để khớp vs `assembler`"
   ]
  },
  {
   "source": [
    "* Lúc này ta có thể gọi thuộc tính `features` đại diện cùng lúc cho 4 thuộc tính mà ta đã định nghĩa tại `input_features`."
   ],
   "cell_type": "markdown",
   "metadata": {}
  },
  {
   "cell_type": "code",
   "execution_count": 12,
   "metadata": {},
   "outputs": [
    {
     "output_type": "stream",
     "name": "stdout",
     "text": [
      "+--------------------------------------------------------------------------+\n|features                                                                  |\n+--------------------------------------------------------------------------+\n|[34.49726772511229,12.65565114916675,39.57766801952616,4.0826206329529615]|\n|[31.92627202636016,11.109460728682564,37.268958868297744,2.66403418213262]|\n+--------------------------------------------------------------------------+\nonly showing top 2 rows\n\n"
     ]
    }
   ],
   "source": [
    "data_pre.select('features').show(2, False) "
   ]
  },
  {
   "source": [
    "* Tạo ra tập dữ liệu cuồi cùng gọi là `final_data` dùng để training model với input là `features` và output là `Yearly Amount Spent`."
   ],
   "cell_type": "markdown",
   "metadata": {}
  },
  {
   "cell_type": "code",
   "execution_count": 13,
   "metadata": {},
   "outputs": [],
   "source": [
    "final_data = data_pre.select('features', 'Yearly Amount Spent')"
   ]
  },
  {
   "cell_type": "code",
   "execution_count": 14,
   "metadata": {},
   "outputs": [
    {
     "output_type": "stream",
     "name": "stdout",
     "text": [
      "+--------------------+-------------------+\n|            features|Yearly Amount Spent|\n+--------------------+-------------------+\n|[34.4972677251122...|  587.9510539684005|\n|[31.9262720263601...|  392.2049334443264|\n|[33.0009147556426...| 487.54750486747207|\n|[34.3055566297555...|  581.8523440352177|\n|[33.3306725236463...|  599.4060920457634|\n|[33.8710378793419...|   637.102447915074|\n|[32.0215955013870...|  521.5721747578274|\n|[32.7391429383803...|  549.9041461052942|\n|[33.9877728956856...|  570.2004089636196|\n|[31.9365486184489...|  427.1993848953282|\n|[33.9925727749537...|  492.6060127179966|\n|[33.8793608248049...|  522.3374046069357|\n|[29.5324289670579...|  408.6403510726275|\n|[33.1903340437226...|  573.4158673313865|\n|[32.3879758531538...|  470.4527333009554|\n|[30.7377203726281...|  461.7807421962299|\n|[32.1253868972878...| 457.84769594494855|\n|[32.3388993230671...| 407.70454754954415|\n|[32.1878120459321...|  452.3156754800354|\n|[32.6178560628234...|   605.061038804892|\n+--------------------+-------------------+\nonly showing top 20 rows\n\n"
     ]
    }
   ],
   "source": [
    "final_data.show()"
   ]
  },
  {
   "source": [
    "## 3.2. Chuẩn bị train/test data"
   ],
   "cell_type": "markdown",
   "metadata": {}
  },
  {
   "cell_type": "code",
   "execution_count": 15,
   "metadata": {},
   "outputs": [],
   "source": [
    "train_data, test_data = final_data.randomSplit((0.7, 0.3)) # 0.7 train và 0.3 test"
   ]
  },
  {
   "source": [
    "* Xem thống kê mô tả trên training data và test data."
   ],
   "cell_type": "markdown",
   "metadata": {}
  },
  {
   "cell_type": "code",
   "execution_count": 16,
   "metadata": {},
   "outputs": [
    {
     "output_type": "stream",
     "name": "stdout",
     "text": [
      "+-------+-------------------+\n|summary|Yearly Amount Spent|\n+-------+-------------------+\n|  count|                365|\n|   mean| 500.62556223304955|\n| stddev|  79.90015064991094|\n|    min| 256.67058229005585|\n|    max|  765.5184619388373|\n+-------+-------------------+\n\n"
     ]
    }
   ],
   "source": [
    "train_data.describe().show()"
   ]
  },
  {
   "cell_type": "code",
   "execution_count": 17,
   "metadata": {},
   "outputs": [
    {
     "output_type": "stream",
     "name": "stdout",
     "text": [
      "+-------+-------------------+\n|summary|Yearly Amount Spent|\n+-------+-------------------+\n|  count|                135|\n|   mean| 495.76806603134975|\n| stddev|  77.89261335663029|\n|    min|  275.9184206503857|\n|    max|  684.1634310159512|\n+-------+-------------------+\n\n"
     ]
    }
   ],
   "source": [
    "test_data.describe().show()"
   ]
  },
  {
   "source": [
    "> * Dữ liệu train và test gần như tương đương, ko có sự chênh lệch cao về mặt thống kê.\n",
    "> * Nếu chênh lệch giữa các giá trị thống kê của training data và test data là $\\leq 10\\%$ thì OKLA."
   ],
   "cell_type": "markdown",
   "metadata": {}
  },
  {
   "source": [
    "## 3.3. Xây dựng model"
   ],
   "cell_type": "markdown",
   "metadata": {}
  },
  {
   "source": [
    "* Tạo model Linear Regression\n",
    "* Tham số `predictionCol` là giá trị mà model sẽ dự đoán, tức $\\widehat{y}$"
   ],
   "cell_type": "markdown",
   "metadata": {}
  },
  {
   "cell_type": "code",
   "execution_count": 18,
   "metadata": {},
   "outputs": [],
   "source": [
    "lr = LinearRegression(featuresCol='features', labelCol='Yearly Amount Spent', predictionCol='predict_Yearly Amount Spent') # "
   ]
  },
  {
   "source": [
    "* Fit model với data và gán model cho một biến nào đó"
   ],
   "cell_type": "markdown",
   "metadata": {}
  },
  {
   "cell_type": "code",
   "execution_count": 19,
   "metadata": {},
   "outputs": [],
   "source": [
    "lrModel = lr.fit(train_data)"
   ]
  },
  {
   "source": [
    "* In ra coefficients và intercept"
   ],
   "cell_type": "markdown",
   "metadata": {}
  },
  {
   "cell_type": "code",
   "execution_count": 20,
   "metadata": {},
   "outputs": [
    {
     "output_type": "execute_result",
     "data": {
      "text/plain": [
       "(DenseVector([25.713, 38.6829, -0.1203, 61.2778]), -1028.6962111775113)"
      ]
     },
     "metadata": {},
     "execution_count": 20
    }
   ],
   "source": [
    "lrModel.coefficients, lrModel.intercept"
   ]
  },
  {
   "source": [
    "## 3.4. Đánh giá model vs test data"
   ],
   "cell_type": "markdown",
   "metadata": {}
  },
  {
   "cell_type": "code",
   "execution_count": 21,
   "metadata": {},
   "outputs": [],
   "source": [
    "test_results = lrModel.evaluate(test_data)"
   ]
  },
  {
   "source": [
    "* Đánh giá phần dư"
   ],
   "cell_type": "markdown",
   "metadata": {}
  },
  {
   "cell_type": "code",
   "execution_count": 22,
   "metadata": {},
   "outputs": [
    {
     "output_type": "stream",
     "name": "stdout",
     "text": [
      "+-------------------+\n|          residuals|\n+-------------------+\n|  10.50012861084042|\n| -5.121812427462771|\n|  6.258832743758603|\n| -22.29634497612176|\n| -7.094239509159706|\n| -5.135244488962371|\n| 2.1382327092534297|\n|  3.514817845767652|\n| 0.8242960148279508|\n| 3.0395071779875593|\n| -4.328748621591842|\n| -8.659823607413216|\n| -5.405240617714128|\n|  6.669525669209122|\n| -5.143398546796334|\n|  7.364276618996712|\n| -6.153407498195008|\n| -9.300333269112286|\n|-17.382429922941867|\n| 11.472059407789231|\n+-------------------+\nonly showing top 20 rows\n\n"
     ]
    }
   ],
   "source": [
    "test_results.residuals.show()"
   ]
  },
  {
   "source": [
    "* Đánh giá RMSE"
   ],
   "cell_type": "markdown",
   "metadata": {}
  },
  {
   "cell_type": "code",
   "execution_count": 23,
   "metadata": {},
   "outputs": [
    {
     "output_type": "execute_result",
     "data": {
      "text/plain": [
       "9.504243094543694"
      ]
     },
     "metadata": {},
     "execution_count": 23
    }
   ],
   "source": [
    "test_results.rootMeanSquaredError"
   ]
  },
  {
   "source": [
    "* Đánh giá mean squared error"
   ],
   "cell_type": "markdown",
   "metadata": {}
  },
  {
   "cell_type": "code",
   "execution_count": 24,
   "metadata": {},
   "outputs": [
    {
     "output_type": "execute_result",
     "data": {
      "text/plain": [
       "90.33063680018151"
      ]
     },
     "metadata": {},
     "execution_count": 24
    }
   ],
   "source": [
    "test_results.meanSquaredError"
   ]
  },
  {
   "source": [
    "* Đánh giá $R^2$"
   ],
   "cell_type": "markdown",
   "metadata": {}
  },
  {
   "cell_type": "code",
   "execution_count": 25,
   "metadata": {},
   "outputs": [
    {
     "output_type": "execute_result",
     "data": {
      "text/plain": [
       "0.9850006827140068"
      ]
     },
     "metadata": {},
     "execution_count": 25
    }
   ],
   "source": [
    "test_results.r2"
   ]
  },
  {
   "source": [
    "## 3.5. Đánh giá model vs test data"
   ],
   "cell_type": "markdown",
   "metadata": {}
  },
  {
   "cell_type": "code",
   "execution_count": 26,
   "metadata": {},
   "outputs": [
    {
     "output_type": "stream",
     "name": "stdout",
     "text": [
      "+---------------------------+-------------------+\n|predict_Yearly Amount Spent|Yearly Amount Spent|\n+---------------------------+-------------------+\n|         398.14022246178706|  408.6403510726275|\n|          472.6237128544524|  467.5019004269896|\n|          488.3797770131341|  494.6386097568927|\n|         509.24339881588753|  486.9470538397658|\n|          564.3469262562144|  557.2526867470547|\n|          428.6057776627863|  423.4705331738239|\n|          430.5824851306802|  432.7207178399336|\n|         491.66113260370776|  495.1759504494754|\n|         409.24531504515494|  410.0696110599829|\n|           481.837457757141| 484.87696493512857|\n|         280.24716927197755|  275.9184206503857|\n|           417.754349799751|  409.0945261923378|\n|          381.7421413746383|  376.3369007569242|\n|          468.5938980583394|  475.2634237275485|\n|         397.95374353059356|  392.8103449837972|\n|          465.6279700478017|  472.9922466667984|\n|          398.4386517444625|  392.2852442462675|\n|          399.4036062415878|  390.1032729724755|\n|           491.332287345758| 473.94985742281614|\n|         380.73287403653717|  392.2049334443264|\n+---------------------------+-------------------+\nonly showing top 20 rows\n\n"
     ]
    }
   ],
   "source": [
    "test_model = lrModel.transform(test_data)\n",
    "test_model.select('predict_Yearly Amount Spent', 'Yearly Amount Spent').show()"
   ]
  },
  {
   "source": [
    "## 3.6. Lưu trữ & tải model"
   ],
   "cell_type": "markdown",
   "metadata": {}
  },
  {
   "source": [
    "* Lưu model"
   ],
   "cell_type": "markdown",
   "metadata": {}
  },
  {
   "cell_type": "code",
   "execution_count": 27,
   "metadata": {},
   "outputs": [],
   "source": [
    "file_path1 = r'./data/lrModel_Ecommerce_Customers'"
   ]
  },
  {
   "cell_type": "code",
   "execution_count": 28,
   "metadata": {},
   "outputs": [
    {
     "output_type": "error",
     "ename": "Py4JJavaError",
     "evalue": "An error occurred while calling o220.save.\n: java.io.IOException: Path ./data/lrModel_Ecommerce_Customers already exists. To overwrite it, please use write.overwrite().save(path) for Scala and use write().overwrite().save(path) for Java and Python.\n\tat org.apache.spark.ml.util.FileSystemOverwrite.handleOverwrite(ReadWrite.scala:683)\n\tat org.apache.spark.ml.util.MLWriter.save(ReadWrite.scala:167)\n\tat java.base/jdk.internal.reflect.NativeMethodAccessorImpl.invoke0(Native Method)\n\tat java.base/jdk.internal.reflect.NativeMethodAccessorImpl.invoke(NativeMethodAccessorImpl.java:62)\n\tat java.base/jdk.internal.reflect.DelegatingMethodAccessorImpl.invoke(DelegatingMethodAccessorImpl.java:43)\n\tat java.base/java.lang.reflect.Method.invoke(Method.java:566)\n\tat py4j.reflection.MethodInvoker.invoke(MethodInvoker.java:244)\n\tat py4j.reflection.ReflectionEngine.invoke(ReflectionEngine.java:357)\n\tat py4j.Gateway.invoke(Gateway.java:282)\n\tat py4j.commands.AbstractCommand.invokeMethod(AbstractCommand.java:132)\n\tat py4j.commands.CallCommand.execute(CallCommand.java:79)\n\tat py4j.GatewayConnection.run(GatewayConnection.java:238)\n\tat java.base/java.lang.Thread.run(Thread.java:829)\n",
     "traceback": [
      "\u001b[0;31m---------------------------------------------------------------------------\u001b[0m",
      "\u001b[0;31mPy4JJavaError\u001b[0m                             Traceback (most recent call last)",
      "\u001b[0;32m<ipython-input-28-dbd12457c8eb>\u001b[0m in \u001b[0;36m<module>\u001b[0;34m\u001b[0m\n\u001b[0;32m----> 1\u001b[0;31m \u001b[0mlrModel\u001b[0m\u001b[0;34m.\u001b[0m\u001b[0msave\u001b[0m\u001b[0;34m(\u001b[0m\u001b[0mfile_path1\u001b[0m\u001b[0;34m)\u001b[0m\u001b[0;34m\u001b[0m\u001b[0;34m\u001b[0m\u001b[0m\n\u001b[0m",
      "\u001b[0;32m/usr/local/lib/python3.8/dist-packages/pyspark/ml/util.py\u001b[0m in \u001b[0;36msave\u001b[0;34m(self, path)\u001b[0m\n\u001b[1;32m    224\u001b[0m     \u001b[0;32mdef\u001b[0m \u001b[0msave\u001b[0m\u001b[0;34m(\u001b[0m\u001b[0mself\u001b[0m\u001b[0;34m,\u001b[0m \u001b[0mpath\u001b[0m\u001b[0;34m)\u001b[0m\u001b[0;34m:\u001b[0m\u001b[0;34m\u001b[0m\u001b[0;34m\u001b[0m\u001b[0m\n\u001b[1;32m    225\u001b[0m         \u001b[0;34m\"\"\"Save this ML instance to the given path, a shortcut of 'write().save(path)'.\"\"\"\u001b[0m\u001b[0;34m\u001b[0m\u001b[0;34m\u001b[0m\u001b[0m\n\u001b[0;32m--> 226\u001b[0;31m         \u001b[0mself\u001b[0m\u001b[0;34m.\u001b[0m\u001b[0mwrite\u001b[0m\u001b[0;34m(\u001b[0m\u001b[0;34m)\u001b[0m\u001b[0;34m.\u001b[0m\u001b[0msave\u001b[0m\u001b[0;34m(\u001b[0m\u001b[0mpath\u001b[0m\u001b[0;34m)\u001b[0m\u001b[0;34m\u001b[0m\u001b[0;34m\u001b[0m\u001b[0m\n\u001b[0m\u001b[1;32m    227\u001b[0m \u001b[0;34m\u001b[0m\u001b[0m\n\u001b[1;32m    228\u001b[0m \u001b[0;34m\u001b[0m\u001b[0m\n",
      "\u001b[0;32m/usr/local/lib/python3.8/dist-packages/pyspark/ml/util.py\u001b[0m in \u001b[0;36msave\u001b[0;34m(self, path)\u001b[0m\n\u001b[1;32m    175\u001b[0m         \u001b[0;32mif\u001b[0m \u001b[0;32mnot\u001b[0m \u001b[0misinstance\u001b[0m\u001b[0;34m(\u001b[0m\u001b[0mpath\u001b[0m\u001b[0;34m,\u001b[0m \u001b[0mstr\u001b[0m\u001b[0;34m)\u001b[0m\u001b[0;34m:\u001b[0m\u001b[0;34m\u001b[0m\u001b[0;34m\u001b[0m\u001b[0m\n\u001b[1;32m    176\u001b[0m             \u001b[0;32mraise\u001b[0m \u001b[0mTypeError\u001b[0m\u001b[0;34m(\u001b[0m\u001b[0;34m\"path should be a string, got type %s\"\u001b[0m \u001b[0;34m%\u001b[0m \u001b[0mtype\u001b[0m\u001b[0;34m(\u001b[0m\u001b[0mpath\u001b[0m\u001b[0;34m)\u001b[0m\u001b[0;34m)\u001b[0m\u001b[0;34m\u001b[0m\u001b[0;34m\u001b[0m\u001b[0m\n\u001b[0;32m--> 177\u001b[0;31m         \u001b[0mself\u001b[0m\u001b[0;34m.\u001b[0m\u001b[0m_jwrite\u001b[0m\u001b[0;34m.\u001b[0m\u001b[0msave\u001b[0m\u001b[0;34m(\u001b[0m\u001b[0mpath\u001b[0m\u001b[0;34m)\u001b[0m\u001b[0;34m\u001b[0m\u001b[0;34m\u001b[0m\u001b[0m\n\u001b[0m\u001b[1;32m    178\u001b[0m \u001b[0;34m\u001b[0m\u001b[0m\n\u001b[1;32m    179\u001b[0m     \u001b[0;32mdef\u001b[0m \u001b[0moverwrite\u001b[0m\u001b[0;34m(\u001b[0m\u001b[0mself\u001b[0m\u001b[0;34m)\u001b[0m\u001b[0;34m:\u001b[0m\u001b[0;34m\u001b[0m\u001b[0;34m\u001b[0m\u001b[0m\n",
      "\u001b[0;32m/usr/local/lib/python3.8/dist-packages/py4j/java_gateway.py\u001b[0m in \u001b[0;36m__call__\u001b[0;34m(self, *args)\u001b[0m\n\u001b[1;32m   1302\u001b[0m \u001b[0;34m\u001b[0m\u001b[0m\n\u001b[1;32m   1303\u001b[0m         \u001b[0manswer\u001b[0m \u001b[0;34m=\u001b[0m \u001b[0mself\u001b[0m\u001b[0;34m.\u001b[0m\u001b[0mgateway_client\u001b[0m\u001b[0;34m.\u001b[0m\u001b[0msend_command\u001b[0m\u001b[0;34m(\u001b[0m\u001b[0mcommand\u001b[0m\u001b[0;34m)\u001b[0m\u001b[0;34m\u001b[0m\u001b[0;34m\u001b[0m\u001b[0m\n\u001b[0;32m-> 1304\u001b[0;31m         return_value = get_return_value(\n\u001b[0m\u001b[1;32m   1305\u001b[0m             answer, self.gateway_client, self.target_id, self.name)\n\u001b[1;32m   1306\u001b[0m \u001b[0;34m\u001b[0m\u001b[0m\n",
      "\u001b[0;32m/usr/local/lib/python3.8/dist-packages/pyspark/sql/utils.py\u001b[0m in \u001b[0;36mdeco\u001b[0;34m(*a, **kw)\u001b[0m\n\u001b[1;32m    109\u001b[0m     \u001b[0;32mdef\u001b[0m \u001b[0mdeco\u001b[0m\u001b[0;34m(\u001b[0m\u001b[0;34m*\u001b[0m\u001b[0ma\u001b[0m\u001b[0;34m,\u001b[0m \u001b[0;34m**\u001b[0m\u001b[0mkw\u001b[0m\u001b[0;34m)\u001b[0m\u001b[0;34m:\u001b[0m\u001b[0;34m\u001b[0m\u001b[0;34m\u001b[0m\u001b[0m\n\u001b[1;32m    110\u001b[0m         \u001b[0;32mtry\u001b[0m\u001b[0;34m:\u001b[0m\u001b[0;34m\u001b[0m\u001b[0;34m\u001b[0m\u001b[0m\n\u001b[0;32m--> 111\u001b[0;31m             \u001b[0;32mreturn\u001b[0m \u001b[0mf\u001b[0m\u001b[0;34m(\u001b[0m\u001b[0;34m*\u001b[0m\u001b[0ma\u001b[0m\u001b[0;34m,\u001b[0m \u001b[0;34m**\u001b[0m\u001b[0mkw\u001b[0m\u001b[0;34m)\u001b[0m\u001b[0;34m\u001b[0m\u001b[0;34m\u001b[0m\u001b[0m\n\u001b[0m\u001b[1;32m    112\u001b[0m         \u001b[0;32mexcept\u001b[0m \u001b[0mpy4j\u001b[0m\u001b[0;34m.\u001b[0m\u001b[0mprotocol\u001b[0m\u001b[0;34m.\u001b[0m\u001b[0mPy4JJavaError\u001b[0m \u001b[0;32mas\u001b[0m \u001b[0me\u001b[0m\u001b[0;34m:\u001b[0m\u001b[0;34m\u001b[0m\u001b[0;34m\u001b[0m\u001b[0m\n\u001b[1;32m    113\u001b[0m             \u001b[0mconverted\u001b[0m \u001b[0;34m=\u001b[0m \u001b[0mconvert_exception\u001b[0m\u001b[0;34m(\u001b[0m\u001b[0me\u001b[0m\u001b[0;34m.\u001b[0m\u001b[0mjava_exception\u001b[0m\u001b[0;34m)\u001b[0m\u001b[0;34m\u001b[0m\u001b[0;34m\u001b[0m\u001b[0m\n",
      "\u001b[0;32m/usr/local/lib/python3.8/dist-packages/py4j/protocol.py\u001b[0m in \u001b[0;36mget_return_value\u001b[0;34m(answer, gateway_client, target_id, name)\u001b[0m\n\u001b[1;32m    324\u001b[0m             \u001b[0mvalue\u001b[0m \u001b[0;34m=\u001b[0m \u001b[0mOUTPUT_CONVERTER\u001b[0m\u001b[0;34m[\u001b[0m\u001b[0mtype\u001b[0m\u001b[0;34m]\u001b[0m\u001b[0;34m(\u001b[0m\u001b[0manswer\u001b[0m\u001b[0;34m[\u001b[0m\u001b[0;36m2\u001b[0m\u001b[0;34m:\u001b[0m\u001b[0;34m]\u001b[0m\u001b[0;34m,\u001b[0m \u001b[0mgateway_client\u001b[0m\u001b[0;34m)\u001b[0m\u001b[0;34m\u001b[0m\u001b[0;34m\u001b[0m\u001b[0m\n\u001b[1;32m    325\u001b[0m             \u001b[0;32mif\u001b[0m \u001b[0manswer\u001b[0m\u001b[0;34m[\u001b[0m\u001b[0;36m1\u001b[0m\u001b[0;34m]\u001b[0m \u001b[0;34m==\u001b[0m \u001b[0mREFERENCE_TYPE\u001b[0m\u001b[0;34m:\u001b[0m\u001b[0;34m\u001b[0m\u001b[0;34m\u001b[0m\u001b[0m\n\u001b[0;32m--> 326\u001b[0;31m                 raise Py4JJavaError(\n\u001b[0m\u001b[1;32m    327\u001b[0m                     \u001b[0;34m\"An error occurred while calling {0}{1}{2}.\\n\"\u001b[0m\u001b[0;34m.\u001b[0m\u001b[0;34m\u001b[0m\u001b[0;34m\u001b[0m\u001b[0m\n\u001b[1;32m    328\u001b[0m                     format(target_id, \".\", name), value)\n",
      "\u001b[0;31mPy4JJavaError\u001b[0m: An error occurred while calling o220.save.\n: java.io.IOException: Path ./data/lrModel_Ecommerce_Customers already exists. To overwrite it, please use write.overwrite().save(path) for Scala and use write().overwrite().save(path) for Java and Python.\n\tat org.apache.spark.ml.util.FileSystemOverwrite.handleOverwrite(ReadWrite.scala:683)\n\tat org.apache.spark.ml.util.MLWriter.save(ReadWrite.scala:167)\n\tat java.base/jdk.internal.reflect.NativeMethodAccessorImpl.invoke0(Native Method)\n\tat java.base/jdk.internal.reflect.NativeMethodAccessorImpl.invoke(NativeMethodAccessorImpl.java:62)\n\tat java.base/jdk.internal.reflect.DelegatingMethodAccessorImpl.invoke(DelegatingMethodAccessorImpl.java:43)\n\tat java.base/java.lang.reflect.Method.invoke(Method.java:566)\n\tat py4j.reflection.MethodInvoker.invoke(MethodInvoker.java:244)\n\tat py4j.reflection.ReflectionEngine.invoke(ReflectionEngine.java:357)\n\tat py4j.Gateway.invoke(Gateway.java:282)\n\tat py4j.commands.AbstractCommand.invokeMethod(AbstractCommand.java:132)\n\tat py4j.commands.CallCommand.execute(CallCommand.java:79)\n\tat py4j.GatewayConnection.run(GatewayConnection.java:238)\n\tat java.base/java.lang.Thread.run(Thread.java:829)\n"
     ]
    }
   ],
   "source": [
    "lrModel.save(file_path1)"
   ]
  },
  {
   "source": [
    "* Tải model"
   ],
   "cell_type": "markdown",
   "metadata": {}
  },
  {
   "cell_type": "code",
   "execution_count": 32,
   "metadata": {},
   "outputs": [],
   "source": [
    "from pyspark.ml.regression import LinearRegressionModel"
   ]
  },
  {
   "cell_type": "code",
   "execution_count": 33,
   "metadata": {},
   "outputs": [],
   "source": [
    "lrModel2 = LinearRegressionModel.load(file_path1)"
   ]
  },
  {
   "source": [
    "## 3.7. Dự đoán dữ liệu mới"
   ],
   "cell_type": "markdown",
   "metadata": {}
  },
  {
   "cell_type": "code",
   "execution_count": 34,
   "metadata": {},
   "outputs": [],
   "source": [
    "unlabeled_data = test_data.select('features')\n",
    "preditions = lrModel2.transform(unlabeled_data)"
   ]
  },
  {
   "cell_type": "code",
   "execution_count": 36,
   "metadata": {},
   "outputs": [
    {
     "output_type": "stream",
     "name": "stdout",
     "text": [
      "+--------------------+---------------------------+\n|            features|predict_Yearly Amount Spent|\n+--------------------+---------------------------+\n|[30.4925366965402...|          287.9716876515006|\n|[30.7377203726281...|          451.4531490841305|\n|[30.8364326747734...|         472.37039264151827|\n|[31.1239743499119...|         508.84162193564316|\n|[31.2606468698795...|          422.7389670833363|\n|[31.2834474760581...|          569.9208634421666|\n|[31.3584771924370...|         491.53583276578183|\n|[31.4252268808548...|          534.8952953365547|\n|[31.5147378578019...|         494.18800585094846|\n|[31.6253601348306...|         381.70254780395385|\n|[31.7242025238451...|         510.31043913621625|\n|[31.8293464559211...|         384.06433874584786|\n|[31.8627411090001...|          558.8838258513274|\n|[31.9262720263601...|         380.07417041060967|\n|[31.9453957483445...|          662.5628115177722|\n|[31.9563005605233...|          565.1072644299811|\n|[31.9764800614612...|         325.45352970554586|\n|[32.0085045178551...|         452.37812159952705|\n|[32.0305497162129...|           588.460128386866|\n|[32.0444861274404...|         448.39432576284025|\n+--------------------+---------------------------+\nonly showing top 20 rows\n\n"
     ]
    }
   ],
   "source": [
    "preditions.show()"
   ]
  },
  {
   "cell_type": "code",
   "execution_count": null,
   "metadata": {},
   "outputs": [],
   "source": []
  }
 ]
}