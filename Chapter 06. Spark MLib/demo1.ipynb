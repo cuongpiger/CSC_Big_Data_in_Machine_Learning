{
 "metadata": {
  "language_info": {
   "codemirror_mode": {
    "name": "ipython",
    "version": 3
   },
   "file_extension": ".py",
   "mimetype": "text/x-python",
   "name": "python",
   "nbconvert_exporter": "python",
   "pygments_lexer": "ipython3",
   "version": "3.8.5"
  },
  "orig_nbformat": 2,
  "kernelspec": {
   "name": "python38564bit207240a302f84cf383d7b6dbf8fca3f2",
   "display_name": "Python 3.8.5 64-bit"
  },
  "metadata": {
   "interpreter": {
    "hash": "916dbcbb3f70747c44a77c7bcd40155683ae19c65e1c03b4aa3499c5328201f1"
   }
  }
 },
 "nbformat": 4,
 "nbformat_minor": 2,
 "cells": [
  {
   "cell_type": "code",
   "execution_count": 1,
   "metadata": {},
   "outputs": [],
   "source": [
    "%load_ext autoreload\n",
    "%autoreload 2"
   ]
  },
  {
   "cell_type": "code",
   "execution_count": 2,
   "metadata": {},
   "outputs": [],
   "source": [
    "from modules.my_spark_regression import *\n",
    "from modules.my_pyspark import *\n",
    "from modules.my_drawer import MyDrawer"
   ]
  },
  {
   "cell_type": "code",
   "execution_count": 3,
   "metadata": {},
   "outputs": [],
   "source": [
    "spark = MyPySpark(session=True, sql=True)\n",
    "drawer = MyDrawer()"
   ]
  },
  {
   "cell_type": "code",
   "execution_count": 4,
   "metadata": {},
   "outputs": [],
   "source": [
    "file_path = r'./data/Ecommerce_Customers.csv'\n"
   ]
  },
  {
   "cell_type": "code",
   "execution_count": 5,
   "metadata": {},
   "outputs": [],
   "source": [
    "data = spark.readFile(file_path)\n"
   ]
  },
  {
   "cell_type": "code",
   "execution_count": 6,
   "metadata": {},
   "outputs": [],
   "source": [
    "input_features = [\n",
    "    'Avg Session Length',\n",
    "    'Time on App',\n",
    "    'Time on Website',\n",
    "    'Length of Membership'\n",
    "]\n",
    "\n",
    "target_feature = 'Yearly Amount Spent'"
   ]
  },
  {
   "cell_type": "code",
   "execution_count": 7,
   "metadata": {},
   "outputs": [],
   "source": [
    "lr_model = MySparkRegression(data, input_features, target_feature)"
   ]
  },
  {
   "cell_type": "code",
   "execution_count": 8,
   "metadata": {},
   "outputs": [],
   "source": [
    "lr_model.prepareData()"
   ]
  },
  {
   "cell_type": "code",
   "execution_count": 9,
   "metadata": {},
   "outputs": [],
   "source": [
    "lr_model.trainTestSplit()"
   ]
  },
  {
   "cell_type": "code",
   "execution_count": 10,
   "metadata": {},
   "outputs": [
    {
     "output_type": "stream",
     "name": "stdout",
     "text": [
      "+-------+-------------------------+\n|summary|Yearly Amount Spent (new)|\n+-------+-------------------------+\n|  count|                      364|\n|   mean|       500.55725933512986|\n| stddev|        79.47187244331258|\n|    min|       256.67058229005585|\n|    max|        765.5184619388373|\n+-------+-------------------------+\n\n"
     ]
    }
   ],
   "source": [
    "lr_model.train_data.select(lr_model.target_feature).describe().withColumnRenamed(lr_model.target_feature, lr_model.target_feature + \" (new)\").show()"
   ]
  },
  {
   "cell_type": "code",
   "execution_count": 22,
   "metadata": {},
   "outputs": [
    {
     "output_type": "stream",
     "name": "stdout",
     "text": [
      "+-------+---------------------------+--------------------------+\n|summary|Yearly Amount Spent (train)|Yearly Amount Spent (test)|\n+-------+---------------------------+--------------------------+\n|  count|                        364|                       136|\n|   mean|         500.55725933512986|        495.98659361256034|\n| stddev|          79.47187244331258|         79.08881448784598|\n|    min|         256.67058229005585|         282.4712457199145|\n|    max|          765.5184619388373|         725.5848140556806|\n+-------+---------------------------+--------------------------+\n\n"
     ]
    }
   ],
   "source": [
    "lr_model.describeTarget()"
   ]
  },
  {
   "cell_type": "code",
   "execution_count": 12,
   "metadata": {},
   "outputs": [],
   "source": [
    "sparkk = spark.session"
   ]
  },
  {
   "cell_type": "code",
   "execution_count": 13,
   "metadata": {},
   "outputs": [],
   "source": [
    " from pyspark.sql.types import *"
   ]
  },
  {
   "cell_type": "code",
   "execution_count": 14,
   "metadata": {},
   "outputs": [],
   "source": [
    "schema=StructType().add(\"user_id\",\"string\").add(\"country\",\"string\").add(\"browser\", \"string\").add(\"OS\",'string').add(\"age\", \"integer\")"
   ]
  },
  {
   "cell_type": "code",
   "execution_count": 15,
   "metadata": {},
   "outputs": [],
   "source": [
    "df=sparkk.createDataFrame([(\"A203\",'India',\"Chrome\",\"WIN\",33),(\"A201\",'China',\"Safari\",\"MacOS\",35),(\"A205\",'UK',\"Mozilla\",\"Linux\",25)],schema=schema)"
   ]
  },
  {
   "cell_type": "code",
   "execution_count": 16,
   "metadata": {},
   "outputs": [
    {
     "output_type": "stream",
     "name": "stdout",
     "text": [
      "+-------+-------+-------+-----+---+\n|user_id|country|browser|   OS|age|\n+-------+-------+-------+-----+---+\n|   A203|  India| Chrome|  WIN| 33|\n|   A201|  China| Safari|MacOS| 35|\n|   A205|     UK|Mozilla|Linux| 25|\n+-------+-------+-------+-----+---+\n\n"
     ]
    }
   ],
   "source": [
    "df.show()"
   ]
  },
  {
   "cell_type": "code",
   "execution_count": 17,
   "metadata": {},
   "outputs": [],
   "source": [
    "df2=sparkk.createDataFrame([(\"A203\",'India',\"Chrome\",\"WIN\",33),(\"A201\",'China',\"Safari\",\"MacOS\",35),(\"A205\",'UK',\"Mozilla\",\"Linux\",25)],schema=schema)"
   ]
  },
  {
   "cell_type": "code",
   "execution_count": 18,
   "metadata": {},
   "outputs": [],
   "source": [
    "new_df = df.join(df2, on='OS')"
   ]
  },
  {
   "cell_type": "code",
   "execution_count": 19,
   "metadata": {},
   "outputs": [
    {
     "output_type": "stream",
     "name": "stdout",
     "text": [
      "+-----+-------+-------+-------+---+-------+-------+-------+---+\n|   OS|user_id|country|browser|age|user_id|country|browser|age|\n+-----+-------+-------+-------+---+-------+-------+-------+---+\n|Linux|   A205|     UK|Mozilla| 25|   A205|     UK|Mozilla| 25|\n|  WIN|   A203|  India| Chrome| 33|   A203|  India| Chrome| 33|\n|MacOS|   A201|  China| Safari| 35|   A201|  China| Safari| 35|\n+-----+-------+-------+-------+---+-------+-------+-------+---+\n\n"
     ]
    }
   ],
   "source": [
    "new_df.show()"
   ]
  },
  {
   "cell_type": "code",
   "execution_count": 20,
   "metadata": {},
   "outputs": [],
   "source": [
    "new_dff = new_df.describe().withColumnRenamed('OS', 'os')"
   ]
  },
  {
   "cell_type": "code",
   "execution_count": 21,
   "metadata": {},
   "outputs": [
    {
     "output_type": "stream",
     "name": "stdout",
     "text": [
      "+-------+-----+-------+-------+-------+-----------------+-------+-------+-------+-----------------+\n|summary|   os|user_id|country|browser|              age|user_id|country|browser|              age|\n+-------+-----+-------+-------+-------+-----------------+-------+-------+-------+-----------------+\n|  count|    3|      3|      3|      3|                3|      3|      3|      3|                3|\n|   mean| null|   null|   null|   null|             31.0|   null|   null|   null|             31.0|\n| stddev| null|   null|   null|   null|5.291502622129181|   null|   null|   null|5.291502622129181|\n|    min|Linux|   A201|  China| Chrome|               25|   A201|  China| Chrome|               25|\n|    max|  WIN|   A205|     UK| Safari|               35|   A205|     UK| Safari|               35|\n+-------+-----+-------+-------+-------+-----------------+-------+-------+-------+-----------------+\n\n"
     ]
    }
   ],
   "source": [
    "new_dff.show()"
   ]
  },
  {
   "cell_type": "code",
   "execution_count": null,
   "metadata": {},
   "outputs": [],
   "source": []
  }
 ]
}