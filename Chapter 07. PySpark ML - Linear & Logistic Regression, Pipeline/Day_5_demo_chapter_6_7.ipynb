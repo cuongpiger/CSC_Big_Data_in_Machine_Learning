{
  "nbformat": 4,
  "nbformat_minor": 0,
  "metadata": {
    "colab": {
      "name": "Day_5_demo_chapter_6_7.ipynb",
      "provenance": [],
      "collapsed_sections": []
    },
    "kernelspec": {
      "name": "python38564bit207240a302f84cf383d7b6dbf8fca3f2",
      "display_name": "Python 3.8.5 64-bit"
    },
    "language_info": {
      "name": "python",
      "version": "3.8.5"
    },
    "metadata": {
      "interpreter": {
        "hash": "916dbcbb3f70747c44a77c7bcd40155683ae19c65e1c03b4aa3499c5328201f1"
      }
    }
  },
  "cells": [
    {
      "cell_type": "code",
      "metadata": {
        "id": "IBgHXL7AXrgP"
      },
      "source": [
        "from pyspark import SparkContext\n",
        "from pyspark.conf import SparkConf\n",
        "from pyspark.sql import SparkSession\n",
        "import matplotlib.pyplot as plt\n",
        "import seaborn as sb\n",
        "\n",
        "from pyspark.ml.linalg import Vectors\n",
        "from pyspark.ml.feature import VectorAssembler\n",
        "from pyspark.ml.regression import LinearRegression\n",
        "from pyspark.ml.classification import LogisticRegression\n",
        "from pyspark.sql.functions import corr\n",
        "from pyspark.ml.feature import StringIndexer\n",
        "from pyspark.ml.feature import OneHotEncoder, OneHotEncoder\n",
        "from pyspark.ml import Pipeline\n",
        "from pyspark.ml.evaluation import BinaryClassificationEvaluator\n",
        "from pyspark.ml.evaluation import MulticlassClassificationEvaluator\n",
        "from pyspark.ml.classification import DecisionTreeClassifier\n",
        "from pyspark.ml.classification import DecisionTreeClassificationModel\n",
        "from pyspark.ml.classification import RandomForestClassifier\n",
        "from pyspark.ml.classification import RandomForestClassificationModel\n",
        "from pyspark.ml.classification import GBTClassifier\n",
        "from pyspark.ml.classification import GBTClassificationModel"
      ],
      "execution_count": 2,
      "outputs": []
    },
    {
      "cell_type": "code",
      "metadata": {
        "id": "eSJaiiC8YrmX"
      },
      "source": [
        "sc = SparkContext(master=\"local\", appName=\"New Spark Context\")\n",
        "spark = SparkSession(sc)"
      ],
      "execution_count": 3,
      "outputs": []
    },
    {
      "cell_type": "markdown",
      "metadata": {
        "id": "97Rv6Dukp2ff"
      },
      "source": [
        "Part 1: Chapter 6"
      ]
    },
    {
      "cell_type": "code",
      "metadata": {
        "colab": {
          "base_uri": "https://localhost:8080/"
        },
        "id": "zcZbvKmlZN0N",
        "outputId": "ae59c33e-1de5-4289-a5e3-d9b8154e46a1"
      },
      "source": [
        "# df = spark.read.csv(\"./data/Ecommerce_Customers.csv\", header=True, inferSchema=True)\n",
        "# df.show(5)"
      ],
      "execution_count": 12,
      "outputs": []
    },
    {
      "cell_type": "code",
      "metadata": {
        "colab": {
          "base_uri": "https://localhost:8080/"
        },
        "id": "uLq8O8QobVfu",
        "outputId": "dd90d451-86f8-4d37-8e3a-bc1e457a8d7a"
      },
      "source": [
        "# df.printSchema()"
      ],
      "execution_count": 16,
      "outputs": []
    },
    {
      "cell_type": "code",
      "metadata": {
        "colab": {
          "base_uri": "https://localhost:8080/"
        },
        "id": "zvff2ZFibZZW",
        "outputId": "e99c14fc-866f-4994-d0bd-c17e9250e1df"
      },
      "source": [
        "# df.columns"
      ],
      "execution_count": 17,
      "outputs": []
    },
    {
      "cell_type": "code",
      "metadata": {
        "id": "KfbTbcPKdD9U"
      },
      "source": [
        "input_cols = df.columns[3:-1]\n",
        "target_col = df.columns[-1]\n",
        "\n",
        "assembler = VectorAssembler(inputCols=input_cols, outputCol='features')\n",
        "df_pre = assembler.transform(df)\n",
        "final_df = df_pre.select('features', 'Yearly Amount Spent')"
      ],
      "execution_count": 15,
      "outputs": [
        {
          "output_type": "error",
          "ename": "NameError",
          "evalue": "name 'df' is not defined",
          "traceback": [
            "\u001b[0;31m---------------------------------------------------------------------------\u001b[0m",
            "\u001b[0;31mNameError\u001b[0m                                 Traceback (most recent call last)",
            "\u001b[0;32m<ipython-input-15-3fa8e14fdc77>\u001b[0m in \u001b[0;36m<module>\u001b[0;34m\u001b[0m\n\u001b[0;32m----> 1\u001b[0;31m \u001b[0minput_cols\u001b[0m \u001b[0;34m=\u001b[0m \u001b[0mdf\u001b[0m\u001b[0;34m.\u001b[0m\u001b[0mcolumns\u001b[0m\u001b[0;34m[\u001b[0m\u001b[0;36m3\u001b[0m\u001b[0;34m:\u001b[0m\u001b[0;34m-\u001b[0m\u001b[0;36m1\u001b[0m\u001b[0;34m]\u001b[0m\u001b[0;34m\u001b[0m\u001b[0;34m\u001b[0m\u001b[0m\n\u001b[0m\u001b[1;32m      2\u001b[0m \u001b[0mtarget_col\u001b[0m \u001b[0;34m=\u001b[0m \u001b[0mdf\u001b[0m\u001b[0;34m.\u001b[0m\u001b[0mcolumns\u001b[0m\u001b[0;34m[\u001b[0m\u001b[0;34m-\u001b[0m\u001b[0;36m1\u001b[0m\u001b[0;34m]\u001b[0m\u001b[0;34m\u001b[0m\u001b[0;34m\u001b[0m\u001b[0m\n\u001b[1;32m      3\u001b[0m \u001b[0;34m\u001b[0m\u001b[0m\n\u001b[1;32m      4\u001b[0m \u001b[0massembler\u001b[0m \u001b[0;34m=\u001b[0m \u001b[0mVectorAssembler\u001b[0m\u001b[0;34m(\u001b[0m\u001b[0minputCols\u001b[0m\u001b[0;34m=\u001b[0m\u001b[0minput_cols\u001b[0m\u001b[0;34m,\u001b[0m \u001b[0moutputCol\u001b[0m\u001b[0;34m=\u001b[0m\u001b[0;34m'features'\u001b[0m\u001b[0;34m)\u001b[0m\u001b[0;34m\u001b[0m\u001b[0;34m\u001b[0m\u001b[0m\n\u001b[1;32m      5\u001b[0m \u001b[0mdf_pre\u001b[0m \u001b[0;34m=\u001b[0m \u001b[0massembler\u001b[0m\u001b[0;34m.\u001b[0m\u001b[0mtransform\u001b[0m\u001b[0;34m(\u001b[0m\u001b[0mdf\u001b[0m\u001b[0;34m)\u001b[0m\u001b[0;34m\u001b[0m\u001b[0;34m\u001b[0m\u001b[0m\n",
            "\u001b[0;31mNameError\u001b[0m: name 'df' is not defined"
          ]
        }
      ]
    },
    {
      "cell_type": "code",
      "metadata": {
        "colab": {
          "base_uri": "https://localhost:8080/"
        },
        "id": "copsQW22duS4",
        "outputId": "6ae454f9-9013-4bdc-d87c-61d331b513ed"
      },
      "source": [
        "df_pre[['features']].show(5, False)"
      ],
      "execution_count": null,
      "outputs": []
    },
    {
      "cell_type": "code",
      "metadata": {
        "colab": {
          "base_uri": "https://localhost:8080/"
        },
        "id": "cIMCE7F6dvmZ",
        "outputId": "69e64f49-cfde-4fd3-ca60-7bbf30b749e2"
      },
      "source": [
        "train_df, test_df = final_df.randomSplit([0.7, 0.3], seed=42)\n",
        "train_df.describe().show()"
      ],
      "execution_count": null,
      "outputs": []
    },
    {
      "cell_type": "code",
      "metadata": {
        "colab": {
          "base_uri": "https://localhost:8080/"
        },
        "id": "tNvuiU0VhIoT",
        "outputId": "305029bf-e51c-44a4-c5a8-70e9180acff2"
      },
      "source": [
        "test_df.describe().show()"
      ],
      "execution_count": null,
      "outputs": []
    },
    {
      "cell_type": "code",
      "metadata": {
        "id": "DHw2UfRMgIaO"
      },
      "source": [
        "lr = LinearRegression(featuresCol='features', \n",
        "                      labelCol='Yearly Amount Spent',\n",
        "                      predictionCol='Predict_Yearly_Amount_Spent'\n",
        "                      )\n",
        "model = lr.fit(train_df)"
      ],
      "execution_count": 15,
      "outputs": []
    },
    {
      "cell_type": "code",
      "metadata": {
        "colab": {
          "base_uri": "https://localhost:8080/"
        },
        "id": "yzZqQHeyg0Gk",
        "outputId": "5346a12e-660b-4da2-f56d-b73235aec2a6"
      },
      "source": [
        "print('Coefficients: {} -  Intercept: {}'.format(model.coefficients, model.intercept))"
      ],
      "execution_count": 17,
      "outputs": [
        {
          "output_type": "stream",
          "text": [
            "Coefficients: [25.93215475417773,38.31861228860246,0.6756981758947298,61.36799727890117] -  Intercept: -1061.6126556938295\n"
          ],
          "name": "stdout"
        }
      ]
    },
    {
      "cell_type": "code",
      "metadata": {
        "colab": {
          "base_uri": "https://localhost:8080/"
        },
        "id": "adwEYXPBhAVL",
        "outputId": "1b121deb-55de-4eb0-e633-0b171c110bcb"
      },
      "source": [
        "test_results = model.evaluate(test_df)\n",
        "test_results.residuals.show(5)"
      ],
      "execution_count": 21,
      "outputs": [
        {
          "output_type": "stream",
          "text": [
            "+-------------------+\n",
            "|          residuals|\n",
            "+-------------------+\n",
            "| 0.5230324245964653|\n",
            "|-17.069653184407684|\n",
            "|  7.546772405139109|\n",
            "|-20.438521626093575|\n",
            "| 23.359389939390212|\n",
            "+-------------------+\n",
            "only showing top 5 rows\n",
            "\n"
          ],
          "name": "stdout"
        }
      ]
    },
    {
      "cell_type": "code",
      "metadata": {
        "colab": {
          "base_uri": "https://localhost:8080/"
        },
        "id": "lnmn4gnbhZyU",
        "outputId": "5e97b394-ae84-4fb7-e74f-136725bb7313"
      },
      "source": [
        "test_results = model.evaluate(test_df)\n",
        "\n",
        "print('RMSE: {}'.format(test_results.rootMeanSquaredError))\n",
        "print('MSE: {}'.format(test_results.meanSquaredError))\n",
        "print('MAE: {}'.format(test_results.meanAbsoluteError))\n",
        "print('R2: {}'.format(test_results.r2))"
      ],
      "execution_count": 22,
      "outputs": [
        {
          "output_type": "stream",
          "text": [
            "RMSE: 9.850957450983932\n",
            "MSE: 97.04136270109586\n",
            "MAE: 7.933457771534967\n",
            "R2: 0.9849403386897637\n"
          ],
          "name": "stdout"
        }
      ]
    },
    {
      "cell_type": "code",
      "metadata": {
        "colab": {
          "base_uri": "https://localhost:8080/"
        },
        "id": "Dryraq2thp1Y",
        "outputId": "35d99243-714c-4c5c-f66a-934bd3319fe7"
      },
      "source": [
        "predictions = model.transform(test_df)\n",
        "predictions.columns"
      ],
      "execution_count": 23,
      "outputs": [
        {
          "output_type": "execute_result",
          "data": {
            "text/plain": [
              "['features', 'Yearly Amount Spent', 'Predict_Yearly_Amount_Spent']"
            ]
          },
          "metadata": {
            "tags": []
          },
          "execution_count": 23
        }
      ]
    },
    {
      "cell_type": "code",
      "metadata": {
        "colab": {
          "base_uri": "https://localhost:8080/"
        },
        "id": "cxTYS1-9hpys",
        "outputId": "9429f819-264d-4a94-c619-22cfbd6b9e60"
      },
      "source": [
        "predictions[['Yearly Amount Spent', 'Predict_Yearly_Amount_Spent']].show(5)"
      ],
      "execution_count": 24,
      "outputs": [
        {
          "output_type": "stream",
          "text": [
            "+-------------------+---------------------------+\n",
            "|Yearly Amount Spent|Predict_Yearly_Amount_Spent|\n",
            "+-------------------+---------------------------+\n",
            "| 442.06441375806565|          441.5413813334692|\n",
            "|   266.086340948469|          283.1559941328767|\n",
            "|  494.6386097568927|          487.0918373517536|\n",
            "|  486.9470538397658|         507.38557546585935|\n",
            "|  591.7810894256675|          568.4216994862772|\n",
            "+-------------------+---------------------------+\n",
            "only showing top 5 rows\n",
            "\n"
          ],
          "name": "stdout"
        }
      ]
    },
    {
      "cell_type": "code",
      "metadata": {
        "id": "nTqd4GoviZ1W"
      },
      "source": [
        "model.save('linear_model_ecommerce_customers')"
      ],
      "execution_count": 25,
      "outputs": []
    },
    {
      "cell_type": "code",
      "metadata": {
        "id": "Xg7GtKWLik5P"
      },
      "source": [
        "from pyspark.ml.regression import LinearRegressionModel\n",
        "model2 = LinearRegressionModel.load('linear_model_ecommerce_customers')"
      ],
      "execution_count": 28,
      "outputs": []
    },
    {
      "cell_type": "code",
      "metadata": {
        "colab": {
          "base_uri": "https://localhost:8080/"
        },
        "id": "j4qA4WmcjBYj",
        "outputId": "4fd4eabf-adc7-45e6-8aaf-89a18670d51b"
      },
      "source": [
        "model2.evaluate(test_df).r2"
      ],
      "execution_count": 29,
      "outputs": [
        {
          "output_type": "execute_result",
          "data": {
            "text/plain": [
              "0.9849403386897637"
            ]
          },
          "metadata": {
            "tags": []
          },
          "execution_count": 29
        }
      ]
    },
    {
      "cell_type": "markdown",
      "metadata": {
        "id": "Y-u-CUovpywv"
      },
      "source": [
        "Part 2: Chapter 7"
      ]
    },
    {
      "cell_type": "code",
      "metadata": {
        "colab": {
          "base_uri": "https://localhost:8080/"
        },
        "id": "nQ6ztk24mDRP",
        "outputId": "639ae0da-9db8-4e97-8ec3-8cda702e494c"
      },
      "source": [
        "df = spark.read.csv(\"./data/flights.csv\", header=True, inferSchema=True)\n",
        "df.show(5)"
      ],
      "execution_count": 18,
      "outputs": [
        {
          "output_type": "stream",
          "name": "stdout",
          "text": [
            "+---+---+---+-------+------+---+----+------+--------+-----+\n|mon|dom|dow|carrier|flight|org|mile|depart|duration|delay|\n+---+---+---+-------+------+---+----+------+--------+-----+\n| 11| 20|  6|     US|    19|JFK|2153|  9.48|     351|   NA|\n|  0| 22|  2|     UA|  1107|ORD| 316| 16.33|      82|   30|\n|  2| 20|  4|     UA|   226|SFO| 337|  6.17|      82|   -8|\n|  9| 13|  1|     AA|   419|ORD|1236| 10.33|     195|   -5|\n|  4|  2|  5|     AA|   325|ORD| 258|  8.92|      65|   NA|\n+---+---+---+-------+------+---+----+------+--------+-----+\nonly showing top 5 rows\n\n"
          ]
        }
      ]
    },
    {
      "cell_type": "code",
      "metadata": {
        "id": "NXVF6AtTp8ns"
      },
      "source": [
        "assembler = VectorAssembler(inputCols=['mile'], outputCol='features')\n",
        "df_pre = assembler.transform(df)\n",
        "final_df = df_pre.select('features', 'duration')"
      ],
      "execution_count": 19,
      "outputs": []
    },
    {
      "cell_type": "code",
      "metadata": {
        "colab": {
          "base_uri": "https://localhost:8080/"
        },
        "id": "kWzUQzK0qZKf",
        "outputId": "73fb3a57-8c6e-45f1-ccc4-a3a4d286dd8f"
      },
      "source": [
        "train_df, test_df = final_df.randomSplit([0.8, 0.2], seed=42)\n",
        "train_df.describe().show()"
      ],
      "execution_count": 20,
      "outputs": [
        {
          "output_type": "stream",
          "name": "stdout",
          "text": [
            "+-------+------------------+\n|summary|          duration|\n+-------+------------------+\n|  count|             39948|\n|   mean|151.35360969260037|\n| stddev| 86.74354736650423|\n|    min|                30|\n|    max|               560|\n+-------+------------------+\n\n"
          ]
        }
      ]
    },
    {
      "cell_type": "code",
      "metadata": {
        "colab": {
          "base_uri": "https://localhost:8080/"
        },
        "id": "uEQLbrM5q29Z",
        "outputId": "4033ec0d-c500-4780-b547-a2e35c7987b9"
      },
      "source": [
        "test_df.describe().show()"
      ],
      "execution_count": 21,
      "outputs": [
        {
          "output_type": "stream",
          "name": "stdout",
          "text": [
            "+-------+------------------+\n|summary|          duration|\n+-------+------------------+\n|  count|             10052|\n|   mean|153.40399920413847|\n| stddev| 88.21851423611517|\n|    min|                31|\n|    max|               560|\n+-------+------------------+\n\n"
          ]
        }
      ]
    },
    {
      "cell_type": "code",
      "metadata": {
        "id": "TTSCnsAHq8HZ"
      },
      "source": [
        "lr = LinearRegression(featuresCol='features', \n",
        "                      labelCol='duration',\n",
        "                      )\n",
        "model = lr.fit(train_df)"
      ],
      "execution_count": 22,
      "outputs": []
    },
    {
      "cell_type": "code",
      "metadata": {
        "colab": {
          "base_uri": "https://localhost:8080/"
        },
        "id": "yDKvN4NerR1S",
        "outputId": "5437b685-8919-4c50-95a8-654b1c98b9ca"
      },
      "source": [
        "print('Coefficients: {} -  Intercept: {}'.format(model.coefficients, model.intercept))"
      ],
      "execution_count": 23,
      "outputs": [
        {
          "output_type": "stream",
          "name": "stdout",
          "text": [
            "Coefficients: [0.12156049554670376] -  Intercept: 44.47745647046576\n"
          ]
        }
      ]
    },
    {
      "cell_type": "code",
      "metadata": {
        "colab": {
          "base_uri": "https://localhost:8080/"
        },
        "id": "A82qBv80rUDT",
        "outputId": "7701b0ba-bd91-42de-d964-987517b762bf"
      },
      "source": [
        "test_results = model.evaluate(test_df)\n",
        "\n",
        "print('RMSE: {}'.format(test_results.rootMeanSquaredError))\n",
        "print('MSE: {}'.format(test_results.meanSquaredError))\n",
        "print('MAE: {}'.format(test_results.meanAbsoluteError))\n",
        "print('R2: {}'.format(test_results.r2))"
      ],
      "execution_count": 24,
      "outputs": [
        {
          "output_type": "stream",
          "name": "stdout",
          "text": [
            "RMSE: 17.012577756944967\nMSE: 289.4278019360987\nMAE: 13.060488079800043\nR2: 0.9628067632188161\n"
          ]
        }
      ]
    },
    {
      "cell_type": "markdown",
      "metadata": {
        "id": "lNRocwEpxcM6"
      },
      "source": [
        "Part 3: Pipeline"
      ]
    },
    {
      "cell_type": "code",
      "metadata": {
        "colab": {
          "base_uri": "https://localhost:8080/"
        },
        "id": "meP2LeWTraUb",
        "outputId": "53ea7d6b-5422-4b46-b029-cc9a9c1c989e"
      },
      "source": [
        "from pyspark.sql.functions import *\n",
        "from pyspark.sql.types import *\n",
        "\n",
        "df = spark.read.csv(\"./data/flights.csv\", header=True, inferSchema=True)\n",
        "df.show(5)"
      ],
      "execution_count": 25,
      "outputs": [
        {
          "output_type": "stream",
          "name": "stdout",
          "text": [
            "+---+---+---+-------+------+---+----+------+--------+-----+\n|mon|dom|dow|carrier|flight|org|mile|depart|duration|delay|\n+---+---+---+-------+------+---+----+------+--------+-----+\n| 11| 20|  6|     US|    19|JFK|2153|  9.48|     351|   NA|\n|  0| 22|  2|     UA|  1107|ORD| 316| 16.33|      82|   30|\n|  2| 20|  4|     UA|   226|SFO| 337|  6.17|      82|   -8|\n|  9| 13|  1|     AA|   419|ORD|1236| 10.33|     195|   -5|\n|  4|  2|  5|     AA|   325|ORD| 258|  8.92|      65|   NA|\n+---+---+---+-------+------+---+----+------+--------+-----+\nonly showing top 5 rows\n\n"
          ]
        }
      ]
    },
    {
      "cell_type": "code",
      "metadata": {
        "colab": {
          "base_uri": "https://localhost:8080/"
        },
        "id": "-jFB5lrOxi9Z",
        "outputId": "8a2ed28a-fac2-4f56-b528-e6ffdf47ae9d"
      },
      "source": [
        "final_df = df.withColumn('km', round(df.mile * 1.60934, 0))\n",
        "final_df = final_df.withColumn('label', (df.delay >= 15).cast('integer'))\n",
        "final_df.show(5)"
      ],
      "execution_count": 26,
      "outputs": [
        {
          "output_type": "stream",
          "name": "stdout",
          "text": [
            "+---+---+---+-------+------+---+----+------+--------+-----+------+-----+\n|mon|dom|dow|carrier|flight|org|mile|depart|duration|delay|    km|label|\n+---+---+---+-------+------+---+----+------+--------+-----+------+-----+\n| 11| 20|  6|     US|    19|JFK|2153|  9.48|     351|   NA|3465.0| null|\n|  0| 22|  2|     UA|  1107|ORD| 316| 16.33|      82|   30| 509.0|    1|\n|  2| 20|  4|     UA|   226|SFO| 337|  6.17|      82|   -8| 542.0|    0|\n|  9| 13|  1|     AA|   419|ORD|1236| 10.33|     195|   -5|1989.0|    0|\n|  4|  2|  5|     AA|   325|ORD| 258|  8.92|      65|   NA| 415.0| null|\n+---+---+---+-------+------+---+----+------+--------+-----+------+-----+\nonly showing top 5 rows\n\n"
          ]
        }
      ]
    },
    {
      "cell_type": "code",
      "metadata": {
        "colab": {
          "base_uri": "https://localhost:8080/"
        },
        "id": "at8rpHq35c8k",
        "outputId": "7c87fc11-7a7a-4dbb-fb8c-9c23985fd15b"
      },
      "source": [
        "no_label_df = final_df[final_df.label.isNull()]\n",
        "no_label_df.show(5)"
      ],
      "execution_count": 27,
      "outputs": [
        {
          "output_type": "stream",
          "name": "stdout",
          "text": [
            "+---+---+---+-------+------+---+----+------+--------+-----+------+-----+\n|mon|dom|dow|carrier|flight|org|mile|depart|duration|delay|    km|label|\n+---+---+---+-------+------+---+----+------+--------+-----+------+-----+\n| 11| 20|  6|     US|    19|JFK|2153|  9.48|     351|   NA|3465.0| null|\n|  4|  2|  5|     AA|   325|ORD| 258|  8.92|      65|   NA| 415.0| null|\n|  0|  8|  2|     UA|   549|ORD| 334| 11.08|      85|   NA| 538.0| null|\n|  5|  8|  0|     UA|   574|ORD| 235| 14.48|      79|   NA| 378.0| null|\n|  1| 13|  3|     US|  2189|LGA| 214|  20.0|      82|   NA| 344.0| null|\n+---+---+---+-------+------+---+----+------+--------+-----+------+-----+\nonly showing top 5 rows\n\n"
          ]
        }
      ]
    },
    {
      "cell_type": "code",
      "metadata": {
        "colab": {
          "base_uri": "https://localhost:8080/"
        },
        "id": "W20YsAyu6nzv",
        "outputId": "600b0ad7-1049-4c63-e103-2c42f7ebb2b1"
      },
      "source": [
        "final_df = final_df[final_df.label.isNotNull()]\n",
        "final_df = final_df.dropna()\n",
        "final_df.count()"
      ],
      "execution_count": 28,
      "outputs": [
        {
          "output_type": "execute_result",
          "data": {
            "text/plain": [
              "47022"
            ]
          },
          "metadata": {},
          "execution_count": 28
        }
      ]
    },
    {
      "cell_type": "code",
      "metadata": {
        "id": "qLXT5NnG63FC"
      },
      "source": [
        "train_df, test_df = final_df.randomSplit([0.8, 0.2], seed=42)"
      ],
      "execution_count": 29,
      "outputs": []
    },
    {
      "cell_type": "code",
      "metadata": {
        "id": "3sDcsMBf1FbA"
      },
      "source": [
        "indexer_carrier = StringIndexer(inputCol='carrier', outputCol='carrier_idx')\n",
        "indexer_org = StringIndexer(inputCol='org', outputCol='org_idx')\n",
        "\n",
        "\n",
        "onehot = OneHotEncoder(inputCols=['carrier_idx', 'org_idx', 'dow'],\n",
        "                       outputCols=['carrier_dummy', 'org_dummy', 'dow_dummy'])\n",
        "\n",
        "input_cols = ['km', 'carrier_dummy', 'org_dummy', 'dow_dummy']\n",
        "assembler = VectorAssembler(inputCols=input_cols, outputCol='features')\n",
        "\n",
        "lr = LogisticRegression()\n",
        "\n",
        "pipeline = Pipeline(stages=[indexer_carrier, indexer_org, onehot, assembler, lr])"
      ],
      "execution_count": 30,
      "outputs": []
    },
    {
      "cell_type": "code",
      "metadata": {
        "colab": {
          "base_uri": "https://localhost:8080/"
        },
        "id": "T5Cl0-ad4ONT",
        "outputId": "36c9d1fe-c0e3-4921-86de-9bd6b887c48f"
      },
      "source": [
        "model = pipeline.fit(train_df)\n",
        "predictions = model.transform(test_df)\n",
        "predictions = predictions.withColumn('label', predictions.label.cast(DoubleType()))\n",
        "predictions.select('label', 'prediction').show(5)"
      ],
      "execution_count": 31,
      "outputs": [
        {
          "output_type": "stream",
          "name": "stdout",
          "text": [
            "+-----+----------+\n|label|prediction|\n+-----+----------+\n|  1.0|       1.0|\n|  1.0|       0.0|\n|  0.0|       1.0|\n|  0.0|       1.0|\n|  1.0|       1.0|\n+-----+----------+\nonly showing top 5 rows\n\n"
          ]
        }
      ]
    },
    {
      "cell_type": "code",
      "metadata": {
        "colab": {
          "base_uri": "https://localhost:8080/"
        },
        "id": "Bp3tspsg5Jfq",
        "outputId": "95e516e4-2457-4073-880a-262045c78e36"
      },
      "source": [
        "from pyspark.mllib.evaluation import BinaryClassificationMetrics, MulticlassMetrics\n",
        "prediction_and_label = predictions.select(['prediction', 'label'])\n",
        "metrics = MulticlassMetrics(prediction_and_label.rdd)\n",
        "\n",
        "print('Accuracy: {:.4f}'.format(metrics.accuracy))\n",
        "print('Precisions: {:.4f}'.format(metrics.precision(label=1)))\n",
        "print('Recall: {:.4f}'.format(metrics.recall(label=1)))\n",
        "# print('f1_score: {:.4f}'.format(metrics.fMeasure(label=1)))"
      ],
      "execution_count": 32,
      "outputs": [
        {
          "output_type": "stream",
          "name": "stdout",
          "text": [
            "Accuracy: 0.5906\nPrecisions: 0.5805\nRecall: 0.7440\n"
          ]
        }
      ]
    },
    {
      "source": [
        "* Đánh giá kết quả"
      ],
      "cell_type": "markdown",
      "metadata": {
        "id": "urFw0vqP97J1"
      }
    },
    {
      "cell_type": "code",
      "execution_count": 36,
      "metadata": {},
      "outputs": [],
      "source": [
        "multi_evaluator = MulticlassClassificationEvaluator()\n",
        "weighted_precision = multi_evaluator.evaluate(predictions, {\n",
        "    multi_evaluator.metricName: \"weightedPrecision\"\n",
        "})"
      ]
    },
    {
      "cell_type": "code",
      "execution_count": 37,
      "metadata": {},
      "outputs": [
        {
          "output_type": "execute_result",
          "data": {
            "text/plain": [
              "0.5949207645746231"
            ]
          },
          "metadata": {},
          "execution_count": 37
        }
      ],
      "source": [
        "weighted_precision"
      ]
    },
    {
      "cell_type": "code",
      "execution_count": 40,
      "metadata": {},
      "outputs": [],
      "source": [
        "binary_evaluator = BinaryClassificationEvaluator()"
      ]
    },
    {
      "cell_type": "code",
      "execution_count": 42,
      "metadata": {},
      "outputs": [],
      "source": [
        "auc = binary_evaluator.evaluate(predictions, {\n",
        "    binary_evaluator.metricName: \"areaUnderROC\"\n",
        "})"
      ]
    },
    {
      "cell_type": "code",
      "execution_count": 43,
      "metadata": {},
      "outputs": [
        {
          "output_type": "execute_result",
          "data": {
            "text/plain": [
              "0.6135788258477005"
            ]
          },
          "metadata": {},
          "execution_count": 43
        }
      ],
      "source": [
        "auc"
      ]
    },
    {
      "source": [
        "* Lưu model và load"
      ],
      "cell_type": "markdown",
      "metadata": {}
    },
    {
      "cell_type": "code",
      "execution_count": 68,
      "metadata": {},
      "outputs": [],
      "source": [
        "path = r'./data/logiticModel_flights'"
      ]
    },
    {
      "cell_type": "code",
      "execution_count": 69,
      "metadata": {},
      "outputs": [],
      "source": [
        "model.save(path)"
      ]
    },
    {
      "cell_type": "code",
      "execution_count": 70,
      "metadata": {},
      "outputs": [],
      "source": [
        "from pyspark.ml import PipelineModel"
      ]
    },
    {
      "cell_type": "code",
      "execution_count": 71,
      "metadata": {},
      "outputs": [],
      "source": [
        "logisticModel2 = PipelineModel.load(path)"
      ]
    },
    {
      "cell_type": "code",
      "execution_count": null,
      "metadata": {},
      "outputs": [],
      "source": [
        "def smthing()"
      ]
    }
  ]
}