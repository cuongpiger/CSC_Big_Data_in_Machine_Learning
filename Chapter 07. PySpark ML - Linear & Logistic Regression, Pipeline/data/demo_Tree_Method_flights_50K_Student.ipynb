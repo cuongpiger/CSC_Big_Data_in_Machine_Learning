{
  "nbformat": 4,
  "nbformat_minor": 0,
  "metadata": {
    "anaconda-cloud": {},
    "kernelspec": {
      "display_name": "Python 3",
      "language": "python",
      "name": "python3"
    },
    "language_info": {
      "codemirror_mode": {
        "name": "ipython",
        "version": 3
      },
      "file_extension": ".py",
      "mimetype": "text/x-python",
      "name": "python",
      "nbconvert_exporter": "python",
      "pygments_lexer": "ipython3",
      "version": "3.6.8"
    },
    "colab": {
      "name": "demo_Tree_Method_flights_50K_Student.ipynb",
      "provenance": [],
      "collapsed_sections": [
        "afYvBXQzR2L0"
      ]
    }
  },
  "cells": [
    {
      "cell_type": "markdown",
      "metadata": {
        "id": "JwC2Nr5RR2LC"
      },
      "source": [
        "# Demo Tree Model"
      ]
    },
    {
      "cell_type": "markdown",
      "metadata": {
        "id": "awc-2kK0R2LD"
      },
      "source": [
        "### Dataset: flights.csv\n",
        "- You'll build a regression model to predict flight delay or not \n",
        "- With 'mon', 'dom', 'dow', 'carrier_idx', 'org_idx', 'km', 'depart', 'duration' as a predictor"
      ]
    },
    {
      "cell_type": "markdown",
      "metadata": {
        "id": "Sdn8c0h0R2LD"
      },
      "source": [
        "First thing to do is start a Spark Session"
      ]
    },
    {
      "cell_type": "code",
      "metadata": {
        "id": "64JV__HcR2LE"
      },
      "source": [
        "import findspark\n",
        "findspark.init()"
      ],
      "execution_count": null,
      "outputs": []
    },
    {
      "cell_type": "code",
      "metadata": {
        "id": "it0eeUpcR2LH"
      },
      "source": [
        "import pyspark"
      ],
      "execution_count": null,
      "outputs": []
    },
    {
      "cell_type": "code",
      "metadata": {
        "id": "OreDvnvPR2LJ"
      },
      "source": [
        "from pyspark import SparkContext\n",
        "from pyspark.conf import SparkConf\n",
        "from pyspark.sql import SparkSession"
      ],
      "execution_count": null,
      "outputs": []
    },
    {
      "cell_type": "code",
      "metadata": {
        "id": "sckUTQOsR2LM"
      },
      "source": [
        "spark = SparkSession.builder.appName('lr_demo').getOrCreate()"
      ],
      "execution_count": null,
      "outputs": []
    },
    {
      "cell_type": "code",
      "metadata": {
        "id": "UVnE-S3rR2LO"
      },
      "source": [
        "# Use Spark to read flights.csv file.\n",
        "data = spark.read.csv(\"flights.csv\",inferSchema=True,header=True)"
      ],
      "execution_count": null,
      "outputs": []
    },
    {
      "cell_type": "code",
      "metadata": {
        "id": "pz5UpQ9tR2LQ",
        "outputId": "78cb5001-29a7-4890-a378-23f701306901"
      },
      "source": [
        "# Print the Schema of the DataFrame\n",
        "data.printSchema()"
      ],
      "execution_count": null,
      "outputs": [
        {
          "output_type": "stream",
          "text": [
            "root\n",
            " |-- mon: integer (nullable = true)\n",
            " |-- dom: integer (nullable = true)\n",
            " |-- dow: integer (nullable = true)\n",
            " |-- carrier: string (nullable = true)\n",
            " |-- flight: integer (nullable = true)\n",
            " |-- org: string (nullable = true)\n",
            " |-- mile: integer (nullable = true)\n",
            " |-- depart: double (nullable = true)\n",
            " |-- duration: integer (nullable = true)\n",
            " |-- delay: string (nullable = true)\n",
            "\n"
          ],
          "name": "stdout"
        }
      ]
    },
    {
      "cell_type": "code",
      "metadata": {
        "id": "IsxKkZvnR2LT",
        "outputId": "d4e13952-69ad-4b01-c66d-fecbe4439fa7"
      },
      "source": [
        "data.show(3)"
      ],
      "execution_count": null,
      "outputs": [
        {
          "output_type": "stream",
          "text": [
            "+---+---+---+-------+------+---+----+------+--------+-----+\n",
            "|mon|dom|dow|carrier|flight|org|mile|depart|duration|delay|\n",
            "+---+---+---+-------+------+---+----+------+--------+-----+\n",
            "| 11| 20|  6|     US|    19|JFK|2153|  9.48|     351|   NA|\n",
            "|  0| 22|  2|     UA|  1107|ORD| 316| 16.33|      82|   30|\n",
            "|  2| 20|  4|     UA|   226|SFO| 337|  6.17|      82|   -8|\n",
            "+---+---+---+-------+------+---+----+------+--------+-----+\n",
            "only showing top 3 rows\n",
            "\n"
          ],
          "name": "stdout"
        }
      ]
    },
    {
      "cell_type": "code",
      "metadata": {
        "id": "Vt0zISVmR2LV",
        "outputId": "9eb7544d-f58e-4688-9d82-6ac54dac84d4"
      },
      "source": [
        "data.head()"
      ],
      "execution_count": null,
      "outputs": [
        {
          "output_type": "execute_result",
          "data": {
            "text/plain": [
              "Row(mon=11, dom=20, dow=6, carrier='US', flight=19, org='JFK', mile=2153, depart=9.48, duration=351, delay='NA')"
            ]
          },
          "metadata": {
            "tags": []
          },
          "execution_count": 8
        }
      ]
    },
    {
      "cell_type": "code",
      "metadata": {
        "id": "aVW5oJbAR2LY"
      },
      "source": [
        "# for item in data.head():\n",
        "#     print(item)"
      ],
      "execution_count": null,
      "outputs": []
    },
    {
      "cell_type": "code",
      "metadata": {
        "id": "Xmgtp7BrR2Lb",
        "outputId": "652fcdb2-b72c-40ca-c34a-84ae5bcf8825"
      },
      "source": [
        "data.count()"
      ],
      "execution_count": null,
      "outputs": [
        {
          "output_type": "execute_result",
          "data": {
            "text/plain": [
              "50000"
            ]
          },
          "metadata": {
            "tags": []
          },
          "execution_count": 10
        }
      ]
    },
    {
      "cell_type": "code",
      "metadata": {
        "id": "RxJ71KYWR2Ld"
      },
      "source": [
        "# Remove the 'flight' column\n",
        "data = data.drop('flight')"
      ],
      "execution_count": null,
      "outputs": []
    },
    {
      "cell_type": "code",
      "metadata": {
        "id": "WMG3SWC_R2Lf",
        "outputId": "e6b2ac56-500e-409a-95be-f35065f5e706"
      },
      "source": [
        "# Number of records with missing 'delay' values\n",
        "data.filter('delay IS NULL').count()"
      ],
      "execution_count": null,
      "outputs": [
        {
          "output_type": "execute_result",
          "data": {
            "text/plain": [
              "0"
            ]
          },
          "metadata": {
            "tags": []
          },
          "execution_count": 12
        }
      ]
    },
    {
      "cell_type": "code",
      "metadata": {
        "id": "HbCunsjhR2Li"
      },
      "source": [
        "# Remove records with missing 'delay' values\n",
        "data = data.filter('delay IS NOT NULL')"
      ],
      "execution_count": null,
      "outputs": []
    },
    {
      "cell_type": "code",
      "metadata": {
        "id": "w1aOzJQ8R2Lk",
        "outputId": "5aa6e78f-ecd8-4ae3-bc62-b7d93dfa67d2"
      },
      "source": [
        "# Remove records with missing values in any column and get the number of remaining rows\n",
        "data = data.na.drop()\n",
        "data.count()"
      ],
      "execution_count": null,
      "outputs": [
        {
          "output_type": "execute_result",
          "data": {
            "text/plain": [
              "50000"
            ]
          },
          "metadata": {
            "tags": []
          },
          "execution_count": 14
        }
      ]
    },
    {
      "cell_type": "code",
      "metadata": {
        "id": "RqURa8-YR2Lm"
      },
      "source": [
        "# Import the required function\n",
        "from pyspark.sql.functions import round"
      ],
      "execution_count": null,
      "outputs": []
    },
    {
      "cell_type": "code",
      "metadata": {
        "id": "uDUHI8xkR2Lo"
      },
      "source": [
        "# Convert 'mile' to 'km' and drop 'mile' column\n",
        "data = data.withColumn('km', round(data.mile * 1.60934, 0))"
      ],
      "execution_count": null,
      "outputs": []
    },
    {
      "cell_type": "code",
      "metadata": {
        "id": "SlikOkPBR2Lr",
        "outputId": "f5648c4d-3a4f-4c58-d7ad-085296ebf4f4"
      },
      "source": [
        "# Create 'label' column indicating whether flight delayed (1) or not (0)\n",
        "data = data.withColumn('label', (data.delay >= 15).cast('integer'))\n",
        "# Check first five records\n",
        "data.show(3)"
      ],
      "execution_count": null,
      "outputs": [
        {
          "output_type": "stream",
          "text": [
            "+---+---+---+-------+---+----+------+--------+-----+------+-----+\n",
            "|mon|dom|dow|carrier|org|mile|depart|duration|delay|    km|label|\n",
            "+---+---+---+-------+---+----+------+--------+-----+------+-----+\n",
            "| 11| 20|  6|     US|JFK|2153|  9.48|     351|   NA|3465.0| null|\n",
            "|  0| 22|  2|     UA|ORD| 316| 16.33|      82|   30| 509.0|    1|\n",
            "|  2| 20|  4|     UA|SFO| 337|  6.17|      82|   -8| 542.0|    0|\n",
            "|  9| 13|  1|     AA|ORD|1236| 10.33|     195|   -5|1989.0|    0|\n",
            "|  4|  2|  5|     AA|ORD| 258|  8.92|      65|   NA| 415.0| null|\n",
            "+---+---+---+-------+---+----+------+--------+-----+------+-----+\n",
            "only showing top 5 rows\n",
            "\n"
          ],
          "name": "stdout"
        }
      ]
    },
    {
      "cell_type": "markdown",
      "metadata": {
        "id": "5_TRGWh-R2Lt"
      },
      "source": [
        "## Categories data"
      ]
    },
    {
      "cell_type": "code",
      "metadata": {
        "id": "-gTwydfvR2Lt"
      },
      "source": [
        "from pyspark.ml.feature import StringIndexer"
      ],
      "execution_count": null,
      "outputs": []
    },
    {
      "cell_type": "code",
      "metadata": {
        "id": "wrtgPrSDR2Lw"
      },
      "source": [
        "# Create an indexer\n",
        "indexer = StringIndexer(inputCol='carrier', outputCol='carrier_idx')\n",
        "\n",
        "# Indexer identifies categories in the data\n",
        "indexer_model = indexer.fit(data)\n",
        "\n",
        "# Indexer creates a new column with numeric index values\n",
        "data_indexed = indexer_model.transform(data)\n",
        "\n",
        "# Repeat the process for the other categorical feature\n",
        "data_indexed = StringIndexer(inputCol='org', outputCol='org_idx').fit(data_indexed).transform(data_indexed)"
      ],
      "execution_count": null,
      "outputs": []
    },
    {
      "cell_type": "code",
      "metadata": {
        "id": "InbXrHLzR2Ly",
        "outputId": "7415b9cd-f306-44c1-be9e-5293bfa97ae6"
      },
      "source": [
        "data_indexed.show(3)"
      ],
      "execution_count": null,
      "outputs": [
        {
          "output_type": "stream",
          "text": [
            "+---+---+---+-------+---+----+------+--------+-----+------+-----+-----------+-------+\n",
            "|mon|dom|dow|carrier|org|mile|depart|duration|delay|    km|label|carrier_idx|org_idx|\n",
            "+---+---+---+-------+---+----+------+--------+-----+------+-----+-----------+-------+\n",
            "| 11| 20|  6|     US|JFK|2153|  9.48|     351|   NA|3465.0| null|        6.0|    2.0|\n",
            "|  0| 22|  2|     UA|ORD| 316| 16.33|      82|   30| 509.0|    1|        0.0|    0.0|\n",
            "|  2| 20|  4|     UA|SFO| 337|  6.17|      82|   -8| 542.0|    0|        0.0|    1.0|\n",
            "+---+---+---+-------+---+----+------+--------+-----+------+-----+-----------+-------+\n",
            "only showing top 3 rows\n",
            "\n"
          ],
          "name": "stdout"
        }
      ]
    },
    {
      "cell_type": "markdown",
      "metadata": {
        "id": "afYvBXQzR2L0"
      },
      "source": [
        "## Setting Up DataFrame for Machine Learning "
      ]
    },
    {
      "cell_type": "markdown",
      "metadata": {
        "id": "AZ_-3LFKR2L0"
      },
      "source": [
        "## Assembling columns"
      ]
    },
    {
      "cell_type": "code",
      "metadata": {
        "id": "0g8J-G4cR2L1"
      },
      "source": [
        "from pyspark.ml.linalg import Vectors\n",
        "from pyspark.ml.feature import VectorAssembler"
      ],
      "execution_count": null,
      "outputs": []
    },
    {
      "cell_type": "code",
      "metadata": {
        "id": "C2DCNjCmR2L3",
        "outputId": "a55fd804-4a75-4200-dd7c-f24f5befee6b"
      },
      "source": [
        "data_indexed.columns"
      ],
      "execution_count": null,
      "outputs": [
        {
          "output_type": "execute_result",
          "data": {
            "text/plain": [
              "['mon',\n",
              " 'dom',\n",
              " 'dow',\n",
              " 'carrier',\n",
              " 'org',\n",
              " 'mile',\n",
              " 'depart',\n",
              " 'duration',\n",
              " 'delay',\n",
              " 'km',\n",
              " 'label',\n",
              " 'carrier_idx',\n",
              " 'org_idx']"
            ]
          },
          "metadata": {
            "tags": []
          },
          "execution_count": 22
        }
      ]
    },
    {
      "cell_type": "code",
      "metadata": {
        "id": "Oy0aQ7v5R2L4"
      },
      "source": [
        "# Create an assembler object\n",
        "assembler = VectorAssembler(inputCols=[\n",
        "    'mon', 'dom', 'dow', 'carrier_idx', 'org_idx', 'km', 'depart', 'duration'\n",
        "], outputCol='features')"
      ],
      "execution_count": null,
      "outputs": []
    },
    {
      "cell_type": "code",
      "metadata": {
        "id": "71Zgv3GXR2L7"
      },
      "source": [
        "data_pre = assembler.transform(data_indexed)"
      ],
      "execution_count": null,
      "outputs": []
    },
    {
      "cell_type": "code",
      "metadata": {
        "id": "9xzPcDMRR2L9",
        "outputId": "24db9cae-73ae-44ba-9d9d-138071bbe737"
      },
      "source": [
        "# Check the resulting column\n",
        "data_pre.select('features', 'label').show(2, truncate=False)"
      ],
      "execution_count": null,
      "outputs": [
        {
          "output_type": "stream",
          "text": [
            "+-----------------------------------------+-----+\n",
            "|features                                 |label|\n",
            "+-----------------------------------------+-----+\n",
            "|[11.0,20.0,6.0,6.0,2.0,3465.0,9.48,351.0]|null |\n",
            "|[0.0,22.0,2.0,0.0,0.0,509.0,16.33,82.0]  |1    |\n",
            "+-----------------------------------------+-----+\n",
            "only showing top 2 rows\n",
            "\n"
          ],
          "name": "stdout"
        }
      ]
    },
    {
      "cell_type": "code",
      "metadata": {
        "id": "RuPfIPrqR2L_",
        "outputId": "234bfc09-36ec-400d-e04b-864967d6d445"
      },
      "source": [
        "data_pre.show(3, False)"
      ],
      "execution_count": null,
      "outputs": [
        {
          "output_type": "stream",
          "text": [
            "+---+---+---+-------+---+----+------+--------+-----+------+-----+-----------+-------+--------------------+\n",
            "|mon|dom|dow|carrier|org|mile|depart|duration|delay|    km|label|carrier_idx|org_idx|            features|\n",
            "+---+---+---+-------+---+----+------+--------+-----+------+-----+-----------+-------+--------------------+\n",
            "| 11| 20|  6|     US|JFK|2153|  9.48|     351|   NA|3465.0| null|        6.0|    2.0|[11.0,20.0,6.0,6....|\n",
            "|  0| 22|  2|     UA|ORD| 316| 16.33|      82|   30| 509.0|    1|        0.0|    0.0|[0.0,22.0,2.0,0.0...|\n",
            "|  2| 20|  4|     UA|SFO| 337|  6.17|      82|   -8| 542.0|    0|        0.0|    1.0|[2.0,20.0,4.0,0.0...|\n",
            "|  9| 13|  1|     AA|ORD|1236| 10.33|     195|   -5|1989.0|    0|        1.0|    0.0|[9.0,13.0,1.0,1.0...|\n",
            "|  4|  2|  5|     AA|ORD| 258|  8.92|      65|   NA| 415.0| null|        1.0|    0.0|[4.0,2.0,5.0,1.0,...|\n",
            "+---+---+---+-------+---+----+------+--------+-----+------+-----+-----------+-------+--------------------+\n",
            "only showing top 5 rows\n",
            "\n"
          ],
          "name": "stdout"
        }
      ]
    },
    {
      "cell_type": "code",
      "metadata": {
        "id": "ohvD2PqmR2MC",
        "outputId": "93751c8f-7ef7-4a14-dd32-659009c82a97"
      },
      "source": [
        "final_data = data_pre.select(\"features\",\"label\")\n",
        "final_data.count()"
      ],
      "execution_count": null,
      "outputs": [
        {
          "output_type": "execute_result",
          "data": {
            "text/plain": [
              "50000"
            ]
          },
          "metadata": {
            "tags": []
          },
          "execution_count": 27
        }
      ]
    },
    {
      "cell_type": "code",
      "metadata": {
        "id": "vgTXYctAR2ME",
        "outputId": "5507bde7-eaae-4135-d08d-f1f2697f547b"
      },
      "source": [
        "final_data = final_data.na.drop()\n",
        "final_data.count()"
      ],
      "execution_count": null,
      "outputs": [
        {
          "output_type": "execute_result",
          "data": {
            "text/plain": [
              "47022"
            ]
          },
          "metadata": {
            "tags": []
          },
          "execution_count": 28
        }
      ]
    },
    {
      "cell_type": "code",
      "metadata": {
        "id": "1to1rg0xR2MF",
        "outputId": "c12a0b1e-3123-4a26-f1c9-332924a055b2"
      },
      "source": [
        "final_data.show(5)"
      ],
      "execution_count": null,
      "outputs": [
        {
          "output_type": "stream",
          "text": [
            "+--------------------+-----+\n",
            "|            features|label|\n",
            "+--------------------+-----+\n",
            "|[0.0,22.0,2.0,0.0...|    1|\n",
            "|[2.0,20.0,4.0,0.0...|    0|\n",
            "|[9.0,13.0,1.0,1.0...|    0|\n",
            "|[5.0,2.0,1.0,0.0,...|    0|\n",
            "|[7.0,2.0,6.0,1.0,...|    1|\n",
            "+--------------------+-----+\n",
            "only showing top 5 rows\n",
            "\n"
          ],
          "name": "stdout"
        }
      ]
    },
    {
      "cell_type": "code",
      "metadata": {
        "id": "9nsawBjJR2MH"
      },
      "source": [
        "train_data,test_data = final_data.randomSplit([0.8,0.2])"
      ],
      "execution_count": null,
      "outputs": []
    },
    {
      "cell_type": "code",
      "metadata": {
        "id": "BrH9NKivR2MJ",
        "outputId": "9664b98c-36b2-4e8a-bb73-38c3285f070b"
      },
      "source": [
        "train_data.describe().show()"
      ],
      "execution_count": null,
      "outputs": [
        {
          "output_type": "stream",
          "text": [
            "+-------+-------------------+\n",
            "|summary|              label|\n",
            "+-------+-------------------+\n",
            "|  count|              37614|\n",
            "|   mean| 0.5112192268836072|\n",
            "| stddev|0.49988075802113874|\n",
            "|    min|                  0|\n",
            "|    max|                  1|\n",
            "+-------+-------------------+\n",
            "\n"
          ],
          "name": "stdout"
        }
      ]
    },
    {
      "cell_type": "code",
      "metadata": {
        "id": "Ku-q2foZR2MM",
        "outputId": "0e542c7c-6fa0-41f7-f94b-63797818a692"
      },
      "source": [
        "test_data.describe().show()"
      ],
      "execution_count": null,
      "outputs": [
        {
          "output_type": "stream",
          "text": [
            "+-------+------------------+\n",
            "|summary|             label|\n",
            "+-------+------------------+\n",
            "|  count|              9408|\n",
            "|   mean|0.5116921768707483|\n",
            "| stddev|0.4998898422869004|\n",
            "|    min|                 0|\n",
            "|    max|                 1|\n",
            "+-------+------------------+\n",
            "\n"
          ],
          "name": "stdout"
        }
      ]
    },
    {
      "cell_type": "markdown",
      "metadata": {
        "id": "oDiQibqRxZcH"
      },
      "source": [
        "# Decision Tree\n",
        "- ..."
      ]
    }
  ]
}