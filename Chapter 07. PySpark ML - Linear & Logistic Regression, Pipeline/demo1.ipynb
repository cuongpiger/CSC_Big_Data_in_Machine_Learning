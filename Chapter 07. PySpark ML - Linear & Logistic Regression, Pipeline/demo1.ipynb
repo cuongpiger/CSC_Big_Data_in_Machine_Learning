{
 "metadata": {
  "language_info": {
   "codemirror_mode": {
    "name": "ipython",
    "version": 3
   },
   "file_extension": ".py",
   "mimetype": "text/x-python",
   "name": "python",
   "nbconvert_exporter": "python",
   "pygments_lexer": "ipython3",
   "version": "3.8.5"
  },
  "orig_nbformat": 2,
  "kernelspec": {
   "name": "python38564bit739b5682ab17410ead4710a41bd80672",
   "display_name": "Python 3.8.5 64-bit"
  },
  "metadata": {
   "interpreter": {
    "hash": "916dbcbb3f70747c44a77c7bcd40155683ae19c65e1c03b4aa3499c5328201f1"
   }
  }
 },
 "nbformat": 4,
 "nbformat_minor": 2,
 "cells": [
  {
   "cell_type": "code",
   "execution_count": 1,
   "metadata": {},
   "outputs": [],
   "source": [
    "%load_ext autoreload\n",
    "%autoreload 2"
   ]
  },
  {
   "cell_type": "code",
   "execution_count": 2,
   "metadata": {},
   "outputs": [],
   "source": [
    "from modules.my_spark_regression import *\n",
    "from modules.my_pyspark import *\n",
    "from modules.my_drawer import MyDrawer"
   ]
  },
  {
   "cell_type": "code",
   "execution_count": 3,
   "metadata": {},
   "outputs": [],
   "source": [
    "spark = MyPySpark(session=True, sql=True)\n",
    "drawer = MyDrawer()"
   ]
  },
  {
   "source": [
    "# 3. Xây dựng model"
   ],
   "cell_type": "markdown",
   "metadata": {}
  },
  {
   "source": [
    "## 3.1. Chuẩn bị & chuẩn hóa dữ liệu, xác định input, output"
   ],
   "cell_type": "markdown",
   "metadata": {}
  },
  {
   "source": [
    "* Đọc dữ liệu"
   ],
   "cell_type": "markdown",
   "metadata": {}
  },
  {
   "cell_type": "code",
   "execution_count": 4,
   "metadata": {},
   "outputs": [],
   "source": [
    "file_path = r'./data/flights.csv'"
   ]
  },
  {
   "cell_type": "code",
   "execution_count": 5,
   "metadata": {},
   "outputs": [],
   "source": [
    "data = spark.readFile(file_path)"
   ]
  },
  {
   "cell_type": "code",
   "execution_count": 6,
   "metadata": {},
   "outputs": [
    {
     "output_type": "stream",
     "name": "stdout",
     "text": [
      "root\n |-- mon: integer (nullable = true)\n |-- dom: integer (nullable = true)\n |-- dow: integer (nullable = true)\n |-- carrier: string (nullable = true)\n |-- flight: integer (nullable = true)\n |-- org: string (nullable = true)\n |-- mile: integer (nullable = true)\n |-- depart: double (nullable = true)\n |-- duration: integer (nullable = true)\n |-- delay: string (nullable = true)\n\n"
     ]
    }
   ],
   "source": [
    "data.printSchema()"
   ]
  },
  {
   "cell_type": "code",
   "execution_count": 7,
   "metadata": {},
   "outputs": [
    {
     "output_type": "execute_result",
     "data": {
      "text/plain": [
       "Row(mon=11, dom=20, dow=6, carrier='US', flight=19, org='JFK', mile=2153, depart=9.48, duration=351, delay='NA')"
      ]
     },
     "metadata": {},
     "execution_count": 7
    }
   ],
   "source": [
    "data.head()"
   ]
  },
  {
   "source": [
    "* Xác định input và output"
   ],
   "cell_type": "markdown",
   "metadata": {}
  },
  {
   "cell_type": "code",
   "execution_count": 8,
   "metadata": {},
   "outputs": [
    {
     "output_type": "execute_result",
     "data": {
      "text/plain": [
       "['mon',\n",
       " 'dom',\n",
       " 'dow',\n",
       " 'carrier',\n",
       " 'flight',\n",
       " 'org',\n",
       " 'mile',\n",
       " 'depart',\n",
       " 'duration',\n",
       " 'delay']"
      ]
     },
     "metadata": {},
     "execution_count": 8
    }
   ],
   "source": [
    "data.columns"
   ]
  },
  {
   "cell_type": "code",
   "execution_count": 9,
   "metadata": {},
   "outputs": [],
   "source": [
    "input_features = [\n",
    "    'mile'\n",
    "]"
   ]
  },
  {
   "cell_type": "code",
   "execution_count": 10,
   "metadata": {},
   "outputs": [],
   "source": [
    "assembler = VectorAssembler(inputCols=input_features, outputCol='features')"
   ]
  },
  {
   "cell_type": "code",
   "execution_count": 11,
   "metadata": {},
   "outputs": [],
   "source": [
    "data_pre = assembler.transform(data)"
   ]
  },
  {
   "cell_type": "code",
   "execution_count": 12,
   "metadata": {},
   "outputs": [
    {
     "output_type": "stream",
     "name": "stdout",
     "text": [
      "+--------+\n|features|\n+--------+\n|[2153.0]|\n|[316.0] |\n+--------+\nonly showing top 2 rows\n\n"
     ]
    }
   ],
   "source": [
    "data_pre.select('features').show(2, False)"
   ]
  },
  {
   "cell_type": "code",
   "execution_count": 13,
   "metadata": {},
   "outputs": [],
   "source": [
    "final_data = data_pre.select('features', 'duration')"
   ]
  },
  {
   "cell_type": "code",
   "execution_count": 14,
   "metadata": {},
   "outputs": [
    {
     "output_type": "stream",
     "name": "stdout",
     "text": [
      "+--------+--------+\n|features|duration|\n+--------+--------+\n|[2153.0]|     351|\n| [316.0]|      82|\n| [337.0]|      82|\n|[1236.0]|     195|\n| [258.0]|      65|\n| [550.0]|     102|\n| [733.0]|     135|\n|[1440.0]|     232|\n|[1829.0]|     250|\n| [158.0]|      60|\n|[1464.0]|     210|\n| [978.0]|     160|\n| [719.0]|     151|\n|[1745.0]|     264|\n|[1097.0]|     190|\n| [967.0]|     158|\n|[1735.0]|     265|\n| [802.0]|     160|\n| [948.0]|     160|\n| [944.0]|     166|\n+--------+--------+\nonly showing top 20 rows\n\n"
     ]
    }
   ],
   "source": [
    "final_data.show()"
   ]
  },
  {
   "source": [
    "## 3.2. Chuẩn bị train/test data"
   ],
   "cell_type": "markdown",
   "metadata": {}
  },
  {
   "cell_type": "code",
   "execution_count": 15,
   "metadata": {},
   "outputs": [],
   "source": [
    "train_data, test_data = final_data.randomSplit((0.8, 0.2))"
   ]
  },
  {
   "cell_type": "code",
   "execution_count": 16,
   "metadata": {},
   "outputs": [
    {
     "output_type": "stream",
     "name": "stdout",
     "text": [
      "+-------+------------------+\n|summary|          duration|\n+-------+------------------+\n|  count|             39957|\n|   mean|151.94096153364868|\n| stddev| 87.09705092087508|\n|    min|                30|\n|    max|               560|\n+-------+------------------+\n\n"
     ]
    }
   ],
   "source": [
    "train_data.describe().show()"
   ]
  },
  {
   "cell_type": "code",
   "execution_count": 17,
   "metadata": {},
   "outputs": [
    {
     "output_type": "stream",
     "name": "stdout",
     "text": [
      "+-------+------------------+\n|summary|          duration|\n+-------+------------------+\n|  count|             10043|\n|   mean|151.06900328587076|\n| stddev| 86.83879557617304|\n|    min|                31|\n|    max|               560|\n+-------+------------------+\n\n"
     ]
    }
   ],
   "source": [
    "test_data.describe().show()"
   ]
  },
  {
   "source": [
    "> * Dữ liệu train và test gần như tương đương, ko có sự chênh lệch cao về mặt thống kê"
   ],
   "cell_type": "markdown",
   "metadata": {}
  },
  {
   "source": [
    "## 3.3. Xây dựng model"
   ],
   "cell_type": "markdown",
   "metadata": {}
  },
  {
   "source": [
    "* Tạo model Linear Regression"
   ],
   "cell_type": "markdown",
   "metadata": {}
  },
  {
   "cell_type": "code",
   "execution_count": 18,
   "metadata": {},
   "outputs": [],
   "source": [
    "lr = LinearRegression(featuresCol='features', labelCol='duration', predictionCol='prediction')"
   ]
  },
  {
   "source": [
    "* Fit model với data và gán model cho một biến nào đó"
   ],
   "cell_type": "markdown",
   "metadata": {}
  },
  {
   "cell_type": "code",
   "execution_count": 19,
   "metadata": {},
   "outputs": [],
   "source": [
    "lrModel = lr.fit(train_data)"
   ]
  },
  {
   "source": [
    "* In ra coefficients và intercept"
   ],
   "cell_type": "markdown",
   "metadata": {}
  },
  {
   "cell_type": "code",
   "execution_count": 20,
   "metadata": {},
   "outputs": [
    {
     "output_type": "execute_result",
     "data": {
      "text/plain": [
       "(DenseVector([0.1216]), 44.440062415664244)"
      ]
     },
     "metadata": {},
     "execution_count": 20
    }
   ],
   "source": [
    "lrModel.coefficients, lrModel.intercept"
   ]
  },
  {
   "source": [
    "## 3.4. Đánh giá model vs test data"
   ],
   "cell_type": "markdown",
   "metadata": {}
  },
  {
   "cell_type": "code",
   "execution_count": 21,
   "metadata": {},
   "outputs": [],
   "source": [
    "test_results = lrModel.evaluate(test_data)"
   ]
  },
  {
   "source": [
    "* Đánh giá phần dư"
   ],
   "cell_type": "markdown",
   "metadata": {}
  },
  {
   "cell_type": "code",
   "execution_count": 22,
   "metadata": {},
   "outputs": [
    {
     "output_type": "stream",
     "name": "stdout",
     "text": [
      "+-------------------+\n|          residuals|\n+-------------------+\n| -9.586394736421823|\n| -6.586394736421823|\n| -6.586394736421823|\n| -6.586394736421823|\n| -6.586394736421823|\n| -5.586394736421823|\n| -5.586394736421823|\n| -5.586394736421823|\n| -4.586394736421823|\n| -4.586394736421823|\n| -4.586394736421823|\n| -4.586394736421823|\n| -4.586394736421823|\n|-3.5863947364218234|\n|-3.5863947364218234|\n|-3.5863947364218234|\n|-2.5863947364218234|\n|-1.5863947364218234|\n|-1.5863947364218234|\n|-1.5863947364218234|\n+-------------------+\nonly showing top 20 rows\n\n"
     ]
    }
   ],
   "source": [
    "test_results.residuals.show()"
   ]
  },
  {
   "source": [
    "* Đánh giá RMSE"
   ],
   "cell_type": "markdown",
   "metadata": {}
  },
  {
   "cell_type": "code",
   "execution_count": 23,
   "metadata": {},
   "outputs": [
    {
     "output_type": "execute_result",
     "data": {
      "text/plain": [
       "17.003770681934345"
      ]
     },
     "metadata": {},
     "execution_count": 23
    }
   ],
   "source": [
    "test_results.rootMeanSquaredError"
   ]
  },
  {
   "cell_type": "code",
   "execution_count": 33,
   "metadata": {},
   "outputs": [],
   "source": [
    "from pyspark.ml.evaluation import RegressionEvaluator"
   ]
  },
  {
   "cell_type": "code",
   "execution_count": 34,
   "metadata": {},
   "outputs": [
    {
     "output_type": "execute_result",
     "data": {
      "text/plain": [
       "17.003770681934345"
      ]
     },
     "metadata": {},
     "execution_count": 34
    }
   ],
   "source": [
    "RegressionEvaluator(labelCol='duration').evaluate(test_model)"
   ]
  },
  {
   "source": [
    "* Đánh giá mean squared error"
   ],
   "cell_type": "markdown",
   "metadata": {}
  },
  {
   "cell_type": "code",
   "execution_count": 24,
   "metadata": {},
   "outputs": [
    {
     "output_type": "execute_result",
     "data": {
      "text/plain": [
       "289.12821740380997"
      ]
     },
     "metadata": {},
     "execution_count": 24
    }
   ],
   "source": [
    "test_results.meanSquaredError"
   ]
  },
  {
   "source": [
    "* Đánh giá $R^2$"
   ],
   "cell_type": "markdown",
   "metadata": {}
  },
  {
   "cell_type": "code",
   "execution_count": 25,
   "metadata": {},
   "outputs": [
    {
     "output_type": "execute_result",
     "data": {
      "text/plain": [
       "0.9616552296008894"
      ]
     },
     "metadata": {},
     "execution_count": 25
    }
   ],
   "source": [
    "test_results.r2"
   ]
  },
  {
   "source": [
    "## 3.5. Đánh giá model vs test data"
   ],
   "cell_type": "markdown",
   "metadata": {}
  },
  {
   "cell_type": "code",
   "execution_count": 26,
   "metadata": {},
   "outputs": [
    {
     "output_type": "stream",
     "name": "stdout",
     "text": [
      "+-----------------+--------+\n|       prediction|duration|\n+-----------------+--------+\n|52.58639473642182|      43|\n|52.58639473642182|      46|\n|52.58639473642182|      46|\n|52.58639473642182|      46|\n|52.58639473642182|      46|\n|52.58639473642182|      47|\n|52.58639473642182|      47|\n|52.58639473642182|      47|\n|52.58639473642182|      48|\n|52.58639473642182|      48|\n|52.58639473642182|      48|\n|52.58639473642182|      48|\n|52.58639473642182|      48|\n|52.58639473642182|      49|\n|52.58639473642182|      49|\n|52.58639473642182|      49|\n|52.58639473642182|      50|\n|52.58639473642182|      51|\n|52.58639473642182|      51|\n|52.58639473642182|      51|\n+-----------------+--------+\nonly showing top 20 rows\n\n"
     ]
    }
   ],
   "source": [
    "test_model = lrModel.transform(test_data)\n",
    "test_model.select('prediction', 'duration').show()"
   ]
  },
  {
   "source": [
    "## 3.6. Lưu trữ & tải model"
   ],
   "cell_type": "markdown",
   "metadata": {}
  },
  {
   "source": [
    "* Lưu model"
   ],
   "cell_type": "markdown",
   "metadata": {}
  },
  {
   "cell_type": "code",
   "execution_count": 27,
   "metadata": {},
   "outputs": [],
   "source": [
    "file_path1 = r'./data/lrModel_flight'"
   ]
  },
  {
   "cell_type": "code",
   "execution_count": 28,
   "metadata": {},
   "outputs": [],
   "source": [
    "lrModel.save(file_path1)"
   ]
  },
  {
   "source": [
    "* Tải model"
   ],
   "cell_type": "markdown",
   "metadata": {}
  },
  {
   "cell_type": "code",
   "execution_count": 29,
   "metadata": {},
   "outputs": [],
   "source": [
    "from pyspark.ml.regression import LinearRegressionModel"
   ]
  },
  {
   "cell_type": "code",
   "execution_count": 30,
   "metadata": {},
   "outputs": [],
   "source": [
    "lrModel2 = LinearRegressionModel.load(file_path1)"
   ]
  },
  {
   "source": [
    "## 3.7. Dự đoán dữ liệu mới"
   ],
   "cell_type": "markdown",
   "metadata": {}
  },
  {
   "cell_type": "code",
   "execution_count": 31,
   "metadata": {},
   "outputs": [],
   "source": [
    "unlabeled_data = test_data.select('features')\n",
    "preditions = lrModel2.transform(unlabeled_data)"
   ]
  },
  {
   "cell_type": "code",
   "execution_count": 32,
   "metadata": {},
   "outputs": [
    {
     "output_type": "stream",
     "name": "stdout",
     "text": [
      "+--------+-----------------+\n|features|       prediction|\n+--------+-----------------+\n|  [67.0]|52.58639473642182|\n|  [67.0]|52.58639473642182|\n|  [67.0]|52.58639473642182|\n|  [67.0]|52.58639473642182|\n|  [67.0]|52.58639473642182|\n|  [67.0]|52.58639473642182|\n|  [67.0]|52.58639473642182|\n|  [67.0]|52.58639473642182|\n|  [67.0]|52.58639473642182|\n|  [67.0]|52.58639473642182|\n|  [67.0]|52.58639473642182|\n|  [67.0]|52.58639473642182|\n|  [67.0]|52.58639473642182|\n|  [67.0]|52.58639473642182|\n|  [67.0]|52.58639473642182|\n|  [67.0]|52.58639473642182|\n|  [67.0]|52.58639473642182|\n|  [67.0]|52.58639473642182|\n|  [67.0]|52.58639473642182|\n|  [67.0]|52.58639473642182|\n+--------+-----------------+\nonly showing top 20 rows\n\n"
     ]
    }
   ],
   "source": [
    "preditions.show()"
   ]
  },
  {
   "cell_type": "code",
   "execution_count": null,
   "metadata": {},
   "outputs": [],
   "source": []
  }
 ]
}