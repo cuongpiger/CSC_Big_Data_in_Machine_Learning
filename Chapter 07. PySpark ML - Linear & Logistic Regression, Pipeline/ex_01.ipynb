{
 "metadata": {
  "language_info": {
   "codemirror_mode": {
    "name": "ipython",
    "version": 3
   },
   "file_extension": ".py",
   "mimetype": "text/x-python",
   "name": "python",
   "nbconvert_exporter": "python",
   "pygments_lexer": "ipython3",
   "version": "3.8.5"
  },
  "orig_nbformat": 2,
  "kernelspec": {
   "name": "python38564bit739b5682ab17410ead4710a41bd80672",
   "display_name": "Python 3.8.5 64-bit"
  },
  "metadata": {
   "interpreter": {
    "hash": "916dbcbb3f70747c44a77c7bcd40155683ae19c65e1c03b4aa3499c5328201f1"
   }
  }
 },
 "nbformat": 4,
 "nbformat_minor": 2,
 "cells": [
  {
   "source": [
    "![](./images/07_01.jpg)"
   ],
   "cell_type": "markdown",
   "metadata": {}
  },
  {
   "cell_type": "code",
   "execution_count": 1,
   "metadata": {},
   "outputs": [
    {
     "output_type": "stream",
     "name": "stdout",
     "text": [
      "The history saving thread hit an unexpected error (OperationalError('attempt to write a readonly database')).History will not be written to the database.\n"
     ]
    }
   ],
   "source": [
    "%load_ext autoreload\n",
    "%autoreload 2"
   ]
  },
  {
   "cell_type": "code",
   "execution_count": 2,
   "metadata": {},
   "outputs": [],
   "source": [
    "from modules.my_pyspark import *\n",
    "from modules.my_spark_linear_regression import *"
   ]
  },
  {
   "cell_type": "code",
   "execution_count": 3,
   "metadata": {},
   "outputs": [],
   "source": [
    "data_path = r\"./data/cruise_ship_info.csv\""
   ]
  },
  {
   "cell_type": "code",
   "execution_count": 4,
   "metadata": {},
   "outputs": [],
   "source": [
    "spark = MyPySpark(session=True)"
   ]
  },
  {
   "source": [
    "# 1. Đọc dữ liệu"
   ],
   "cell_type": "markdown",
   "metadata": {}
  },
  {
   "cell_type": "code",
   "execution_count": 5,
   "metadata": {},
   "outputs": [],
   "source": [
    "df = spark.readFile(data_path, 'csv')"
   ]
  },
  {
   "cell_type": "code",
   "execution_count": 6,
   "metadata": {},
   "outputs": [
    {
     "output_type": "execute_result",
     "data": {
      "text/plain": [
       "  summary  Ship_name Cruise_line                 Age             Tonnage  \\\n",
       "0   count        158         158                 158                 158   \n",
       "1    mean   Infinity        None  15.689873417721518   71.28467088607599   \n",
       "2  stddev       None        None   7.615691058751413  37.229540025907866   \n",
       "3     min  Adventure     Azamara                   4               2.329   \n",
       "4     max  Zuiderdam    Windstar                  48               220.0   \n",
       "\n",
       "          passengers             length              cabins  \\\n",
       "0                158                158                 158   \n",
       "1  18.45740506329114  8.130632911392404   8.830000000000005   \n",
       "2  9.677094775143416  1.793473548054825  4.4714172221480615   \n",
       "3               0.66               2.79                0.33   \n",
       "4               54.0              11.82                27.0   \n",
       "\n",
       "   passenger_density               crew  \n",
       "0                158                158  \n",
       "1  39.90094936708861  7.794177215189873  \n",
       "2   8.63921711391542  3.503486564627034  \n",
       "3               17.7               0.59  \n",
       "4              71.43               21.0  "
      ],
      "text/html": "<div>\n<style scoped>\n    .dataframe tbody tr th:only-of-type {\n        vertical-align: middle;\n    }\n\n    .dataframe tbody tr th {\n        vertical-align: top;\n    }\n\n    .dataframe thead th {\n        text-align: right;\n    }\n</style>\n<table border=\"1\" class=\"dataframe\">\n  <thead>\n    <tr style=\"text-align: right;\">\n      <th></th>\n      <th>summary</th>\n      <th>Ship_name</th>\n      <th>Cruise_line</th>\n      <th>Age</th>\n      <th>Tonnage</th>\n      <th>passengers</th>\n      <th>length</th>\n      <th>cabins</th>\n      <th>passenger_density</th>\n      <th>crew</th>\n    </tr>\n  </thead>\n  <tbody>\n    <tr>\n      <th>0</th>\n      <td>count</td>\n      <td>158</td>\n      <td>158</td>\n      <td>158</td>\n      <td>158</td>\n      <td>158</td>\n      <td>158</td>\n      <td>158</td>\n      <td>158</td>\n      <td>158</td>\n    </tr>\n    <tr>\n      <th>1</th>\n      <td>mean</td>\n      <td>Infinity</td>\n      <td>None</td>\n      <td>15.689873417721518</td>\n      <td>71.28467088607599</td>\n      <td>18.45740506329114</td>\n      <td>8.130632911392404</td>\n      <td>8.830000000000005</td>\n      <td>39.90094936708861</td>\n      <td>7.794177215189873</td>\n    </tr>\n    <tr>\n      <th>2</th>\n      <td>stddev</td>\n      <td>None</td>\n      <td>None</td>\n      <td>7.615691058751413</td>\n      <td>37.229540025907866</td>\n      <td>9.677094775143416</td>\n      <td>1.793473548054825</td>\n      <td>4.4714172221480615</td>\n      <td>8.63921711391542</td>\n      <td>3.503486564627034</td>\n    </tr>\n    <tr>\n      <th>3</th>\n      <td>min</td>\n      <td>Adventure</td>\n      <td>Azamara</td>\n      <td>4</td>\n      <td>2.329</td>\n      <td>0.66</td>\n      <td>2.79</td>\n      <td>0.33</td>\n      <td>17.7</td>\n      <td>0.59</td>\n    </tr>\n    <tr>\n      <th>4</th>\n      <td>max</td>\n      <td>Zuiderdam</td>\n      <td>Windstar</td>\n      <td>48</td>\n      <td>220.0</td>\n      <td>54.0</td>\n      <td>11.82</td>\n      <td>27.0</td>\n      <td>71.43</td>\n      <td>21.0</td>\n    </tr>\n  </tbody>\n</table>\n</div>"
     },
     "metadata": {},
     "execution_count": 6
    }
   ],
   "source": [
    "df.describe().toPandas()"
   ]
  },
  {
   "cell_type": "code",
   "execution_count": 7,
   "metadata": {},
   "outputs": [
    {
     "output_type": "execute_result",
     "data": {
      "text/plain": [
       "158"
      ]
     },
     "metadata": {},
     "execution_count": 7
    }
   ],
   "source": [
    "df.count()"
   ]
  },
  {
   "cell_type": "code",
   "execution_count": 8,
   "metadata": {},
   "outputs": [
    {
     "output_type": "stream",
     "name": "stdout",
     "text": [
      "root\n |-- Ship_name: string (nullable = true)\n |-- Cruise_line: string (nullable = true)\n |-- Age: integer (nullable = true)\n |-- Tonnage: double (nullable = true)\n |-- passengers: double (nullable = true)\n |-- length: double (nullable = true)\n |-- cabins: double (nullable = true)\n |-- passenger_density: double (nullable = true)\n |-- crew: double (nullable = true)\n\n"
     ]
    }
   ],
   "source": [
    "df.printSchema()"
   ]
  },
  {
   "cell_type": "code",
   "execution_count": 9,
   "metadata": {},
   "outputs": [
    {
     "output_type": "stream",
     "name": "stdout",
     "text": [
      "+-----------+-----------+---+------------------+----------+------+------+-----------------+----+\n|Ship_name  |Cruise_line|Age|Tonnage           |passengers|length|cabins|passenger_density|crew|\n+-----------+-----------+---+------------------+----------+------+------+-----------------+----+\n|Journey    |Azamara    |6  |30.276999999999997|6.94      |5.94  |3.55  |42.64            |3.55|\n|Quest      |Azamara    |6  |30.276999999999997|6.94      |5.94  |3.55  |42.64            |3.55|\n|Celebration|Carnival   |26 |47.262            |14.86     |7.22  |7.43  |31.8             |6.7 |\n|Conquest   |Carnival   |11 |110.0             |29.74     |9.53  |14.88 |36.99            |19.1|\n|Destiny    |Carnival   |17 |101.353           |26.42     |8.92  |13.21 |38.36            |10.0|\n+-----------+-----------+---+------------------+----------+------+------+-----------------+----+\nonly showing top 5 rows\n\n"
     ]
    }
   ],
   "source": [
    "df.show(5, False)"
   ]
  },
  {
   "source": [
    "> **Nhận xét**:\n",
    "> * Predictor variables: `Cruise_line`, `Age`, `Tonnage`, `passengers`, `length`, `cabins`, `passenger_density`\n",
    "> * Target variable: `crew`"
   ],
   "cell_type": "markdown",
   "metadata": {}
  },
  {
   "source": [
    "# 2. Chuẩn hóa dữ liệu"
   ],
   "cell_type": "markdown",
   "metadata": {}
  },
  {
   "cell_type": "code",
   "execution_count": 10,
   "metadata": {},
   "outputs": [],
   "source": [
    "from modules.my_spark_preprocessing import indexerData"
   ]
  },
  {
   "source": [
    "* Áp dụng StringIndexer cho feature `Cruise_line`"
   ],
   "cell_type": "markdown",
   "metadata": {}
  },
  {
   "cell_type": "code",
   "execution_count": 11,
   "metadata": {},
   "outputs": [],
   "source": [
    "df_indexer = indexerData(df, ['Cruise_line'])"
   ]
  },
  {
   "cell_type": "code",
   "execution_count": 12,
   "metadata": {},
   "outputs": [
    {
     "output_type": "execute_result",
     "data": {
      "text/plain": [
       "[Row(Ship_name='Journey', Cruise_line='Azamara', Age=6, Tonnage=30.276999999999997, passengers=6.94, length=5.94, cabins=3.55, passenger_density=42.64, crew=3.55, idx_Cruise_line=16.0),\n",
       " Row(Ship_name='Quest', Cruise_line='Azamara', Age=6, Tonnage=30.276999999999997, passengers=6.94, length=5.94, cabins=3.55, passenger_density=42.64, crew=3.55, idx_Cruise_line=16.0),\n",
       " Row(Ship_name='Celebration', Cruise_line='Carnival', Age=26, Tonnage=47.262, passengers=14.86, length=7.22, cabins=7.43, passenger_density=31.8, crew=6.7, idx_Cruise_line=1.0),\n",
       " Row(Ship_name='Conquest', Cruise_line='Carnival', Age=11, Tonnage=110.0, passengers=29.74, length=9.53, cabins=14.88, passenger_density=36.99, crew=19.1, idx_Cruise_line=1.0),\n",
       " Row(Ship_name='Destiny', Cruise_line='Carnival', Age=17, Tonnage=101.353, passengers=26.42, length=8.92, cabins=13.21, passenger_density=38.36, crew=10.0, idx_Cruise_line=1.0)]"
      ]
     },
     "metadata": {},
     "execution_count": 12
    }
   ],
   "source": [
    "df_indexer.head(5)"
   ]
  },
  {
   "source": [
    "# 3. Chuyển đổi dữ liệu"
   ],
   "cell_type": "markdown",
   "metadata": {}
  },
  {
   "cell_type": "code",
   "execution_count": 13,
   "metadata": {},
   "outputs": [],
   "source": [
    "from modules.my_spark_linear_regression import *"
   ]
  },
  {
   "cell_type": "code",
   "execution_count": 14,
   "metadata": {},
   "outputs": [],
   "source": [
    "predictor_features = ['idx_Cruise_line', 'Age', 'Tonnage', 'passengers', 'length', 'cabins', 'passenger_density']\n",
    "target_feature = 'crew'"
   ]
  },
  {
   "cell_type": "code",
   "execution_count": 15,
   "metadata": {},
   "outputs": [],
   "source": [
    "lr_model = MySparkLinearRegression(df_indexer, predictor_features, target_feature)"
   ]
  },
  {
   "cell_type": "code",
   "execution_count": 16,
   "metadata": {},
   "outputs": [],
   "source": [
    "lr_model.prepareData()"
   ]
  },
  {
   "cell_type": "code",
   "execution_count": 17,
   "metadata": {},
   "outputs": [
    {
     "output_type": "stream",
     "name": "stdout",
     "text": [
      "+--------------------------------------------------+----+\n|features                                          |crew|\n+--------------------------------------------------+----+\n|[16.0,6.0,30.276999999999997,6.94,5.94,3.55,42.64]|3.55|\n|[16.0,6.0,30.276999999999997,6.94,5.94,3.55,42.64]|3.55|\n|[1.0,26.0,47.262,14.86,7.22,7.43,31.8]            |6.7 |\n|[1.0,11.0,110.0,29.74,9.53,14.88,36.99]           |19.1|\n|[1.0,17.0,101.353,26.42,8.92,13.21,38.36]         |10.0|\n+--------------------------------------------------+----+\nonly showing top 5 rows\n\n"
     ]
    }
   ],
   "source": [
    "lr_model.df_data.show(5, False)"
   ]
  },
  {
   "source": [
    "# 4. Chia dữ liệu thành training data và test data"
   ],
   "cell_type": "markdown",
   "metadata": {}
  },
  {
   "cell_type": "code",
   "execution_count": 18,
   "metadata": {},
   "outputs": [],
   "source": [
    "lr_model.trainTestSplit()"
   ]
  },
  {
   "cell_type": "code",
   "execution_count": 19,
   "metadata": {},
   "outputs": [
    {
     "output_type": "stream",
     "name": "stdout",
     "text": [
      "+-------+-----------------+-----------------+\n|summary|     crew (train)|      crew (test)|\n+-------+-----------------+-----------------+\n|  count|              108|               50|\n|   mean|7.601388888888893|           8.2106|\n| stddev|3.303965744638486|3.902816570590202|\n|    min|             0.59|             0.59|\n|    max|             19.1|             21.0|\n+-------+-----------------+-----------------+\n\n"
     ]
    }
   ],
   "source": [
    "lr_model.describeTarget()"
   ]
  },
  {
   "source": [
    "> **Nhận xét**\n",
    "> * Thống kê mô tả trên hai tập training data và test data tốt"
   ],
   "cell_type": "markdown",
   "metadata": {}
  },
  {
   "source": [
    "# 5. Build Model "
   ],
   "cell_type": "markdown",
   "metadata": {}
  },
  {
   "cell_type": "code",
   "execution_count": 20,
   "metadata": {},
   "outputs": [],
   "source": [
    "lr_model.buildModel()"
   ]
  },
  {
   "cell_type": "code",
   "execution_count": 21,
   "metadata": {},
   "outputs": [
    {
     "output_type": "execute_result",
     "data": {
      "text/plain": [
       "array([ 0.05033244, -0.01234149,  0.0271894 , -0.17178501,  0.29343451,\n",
       "        0.82746916, -0.00757564])"
      ]
     },
     "metadata": {},
     "execution_count": 21
    }
   ],
   "source": [
    "lr_model.coefficients"
   ]
  },
  {
   "cell_type": "code",
   "execution_count": 22,
   "metadata": {},
   "outputs": [
    {
     "output_type": "execute_result",
     "data": {
      "text/plain": [
       "-0.3532042819923151"
      ]
     },
     "metadata": {},
     "execution_count": 22
    }
   ],
   "source": [
    "lr_model.intercept"
   ]
  },
  {
   "source": [
    "# 6. Đánh giá model"
   ],
   "cell_type": "markdown",
   "metadata": {}
  },
  {
   "cell_type": "code",
   "execution_count": 23,
   "metadata": {},
   "outputs": [],
   "source": [
    "metric, residual = lr_model.evaluate()"
   ]
  },
  {
   "cell_type": "code",
   "execution_count": 24,
   "metadata": {},
   "outputs": [
    {
     "output_type": "execute_result",
     "data": {
      "text/plain": [
       "      Metric     Value\n",
       "0        MAE  0.661963\n",
       "1        MSE  0.625823\n",
       "2       RMSE  0.791090\n",
       "3  R-SQUARED  0.958075"
      ],
      "text/html": "<div>\n<style scoped>\n    .dataframe tbody tr th:only-of-type {\n        vertical-align: middle;\n    }\n\n    .dataframe tbody tr th {\n        vertical-align: top;\n    }\n\n    .dataframe thead th {\n        text-align: right;\n    }\n</style>\n<table border=\"1\" class=\"dataframe\">\n  <thead>\n    <tr style=\"text-align: right;\">\n      <th></th>\n      <th>Metric</th>\n      <th>Value</th>\n    </tr>\n  </thead>\n  <tbody>\n    <tr>\n      <th>0</th>\n      <td>MAE</td>\n      <td>0.661963</td>\n    </tr>\n    <tr>\n      <th>1</th>\n      <td>MSE</td>\n      <td>0.625823</td>\n    </tr>\n    <tr>\n      <th>2</th>\n      <td>RMSE</td>\n      <td>0.791090</td>\n    </tr>\n    <tr>\n      <th>3</th>\n      <td>R-SQUARED</td>\n      <td>0.958075</td>\n    </tr>\n  </tbody>\n</table>\n</div>"
     },
     "metadata": {},
     "execution_count": 24
    }
   ],
   "source": [
    "metric"
   ]
  },
  {
   "source": [
    "> **Nhận xét**\n",
    "> * Model cho ra kết quả đánh giá tốt."
   ],
   "cell_type": "markdown",
   "metadata": {}
  },
  {
   "cell_type": "code",
   "execution_count": 25,
   "metadata": {},
   "outputs": [
    {
     "output_type": "stream",
     "name": "stdout",
     "text": [
      "+-------+--------------------+\n|summary|           residuals|\n+-------+--------------------+\n|  count|                  50|\n|   mean|-0.22561575769517797|\n| stddev|  0.7659333628470786|\n|    min| -2.0572754576603085|\n|    max|  0.9338715809046549|\n+-------+--------------------+\n\n"
     ]
    }
   ],
   "source": [
    "residual.describe().show()"
   ]
  },
  {
   "source": [
    "> **Nhận xét**\n",
    "> * Phần dư nhỏ, ko cao."
   ],
   "cell_type": "markdown",
   "metadata": {}
  },
  {
   "source": [
    "* Trực quan hóa xem giữa dự đoán và giá trị thực tế có chênh nhau lớn ko"
   ],
   "cell_type": "markdown",
   "metadata": {}
  },
  {
   "cell_type": "code",
   "execution_count": 26,
   "metadata": {},
   "outputs": [
    {
     "output_type": "display_data",
     "data": {
      "text/plain": "<Figure size 576x432 with 1 Axes>",
      "image/svg+xml": "<?xml version=\"1.0\" encoding=\"utf-8\" standalone=\"no\"?>\n<!DOCTYPE svg PUBLIC \"-//W3C//DTD SVG 1.1//EN\"\n  \"http://www.w3.org/Graphics/SVG/1.1/DTD/svg11.dtd\">\n<svg height=\"410.7495pt\" version=\"1.1\" viewBox=\"0 0 494.203125 410.7495\" width=\"494.203125pt\" xmlns=\"http://www.w3.org/2000/svg\" xmlns:xlink=\"http://www.w3.org/1999/xlink\">\n <metadata>\n  <rdf:RDF xmlns:cc=\"http://creativecommons.org/ns#\" xmlns:dc=\"http://purl.org/dc/elements/1.1/\" xmlns:rdf=\"http://www.w3.org/1999/02/22-rdf-syntax-ns#\">\n   <cc:Work>\n    <dc:type rdf:resource=\"http://purl.org/dc/dcmitype/StillImage\"/>\n    <dc:date>2021-05-08T20:37:52.363210</dc:date>\n    <dc:format>image/svg+xml</dc:format>\n    <dc:creator>\n     <cc:Agent>\n      <dc:title>Matplotlib v3.4.1, https://matplotlib.org/</dc:title>\n     </cc:Agent>\n    </dc:creator>\n   </cc:Work>\n  </rdf:RDF>\n </metadata>\n <defs>\n  <style type=\"text/css\">*{stroke-linecap:butt;stroke-linejoin:round;}</style>\n </defs>\n <g id=\"figure_1\">\n  <g id=\"patch_1\">\n   <path d=\"M 0 410.7495 \nL 494.203125 410.7495 \nL 494.203125 0 \nL 0 0 \nz\n\" style=\"fill:none;\"/>\n  </g>\n  <g id=\"axes_1\">\n   <g id=\"patch_2\">\n    <path d=\"M 40.603125 373.19325 \nL 487.003125 373.19325 \nL 487.003125 47.03325 \nL 40.603125 47.03325 \nz\n\" style=\"fill:#ffffff;\"/>\n   </g>\n   <g id=\"PathCollection_1\">\n    <defs>\n     <path d=\"M 0 3 \nC 0.795609 3 1.55874 2.683901 2.12132 2.12132 \nC 2.683901 1.55874 3 0.795609 3 0 \nC 3 -0.795609 2.683901 -1.55874 2.12132 -2.12132 \nC 1.55874 -2.683901 0.795609 -3 0 -3 \nC -0.795609 -3 -1.55874 -2.683901 -2.12132 -2.12132 \nC -2.683901 -1.55874 -3 -0.795609 -3 0 \nC -3 0.795609 -2.683901 1.55874 -2.12132 2.12132 \nC -1.55874 2.683901 -0.795609 3 0 3 \nz\n\" id=\"maa2414e5ad\" style=\"stroke:#1f77b4;\"/>\n    </defs>\n    <g clip-path=\"url(#p6260b67dcc)\">\n     <use style=\"fill:#1f77b4;stroke:#1f77b4;\" x=\"466.712216\" xlink:href=\"#maa2414e5ad\" y=\"61.858705\"/>\n     <use style=\"fill:#1f77b4;stroke:#1f77b4;\" x=\"319.575785\" xlink:href=\"#maa2414e5ad\" y=\"147.478267\"/>\n     <use style=\"fill:#1f77b4;stroke:#1f77b4;\" x=\"319.575785\" xlink:href=\"#maa2414e5ad\" y=\"166.61615\"/>\n     <use style=\"fill:#1f77b4;stroke:#1f77b4;\" x=\"319.575785\" xlink:href=\"#maa2414e5ad\" y=\"167.319397\"/>\n     <use style=\"fill:#1f77b4;stroke:#1f77b4;\" x=\"219.761612\" xlink:href=\"#maa2414e5ad\" y=\"241.392411\"/>\n     <use style=\"fill:#1f77b4;stroke:#1f77b4;\" x=\"284.780008\" xlink:href=\"#maa2414e5ad\" y=\"177.985095\"/>\n     <use style=\"fill:#1f77b4;stroke:#1f77b4;\" x=\"217.773282\" xlink:href=\"#maa2414e5ad\" y=\"241.564316\"/>\n     <use style=\"fill:#1f77b4;stroke:#1f77b4;\" x=\"282.990511\" xlink:href=\"#maa2414e5ad\" y=\"178.500808\"/>\n     <use style=\"fill:#1f77b4;stroke:#1f77b4;\" x=\"282.990511\" xlink:href=\"#maa2414e5ad\" y=\"178.672712\"/>\n     <use style=\"fill:#1f77b4;stroke:#1f77b4;\" x=\"200.275977\" xlink:href=\"#maa2414e5ad\" y=\"246.188725\"/>\n     <use style=\"fill:#1f77b4;stroke:#1f77b4;\" x=\"192.322656\" xlink:href=\"#maa2414e5ad\" y=\"255.077118\"/>\n     <use style=\"fill:#1f77b4;stroke:#1f77b4;\" x=\"209.819962\" xlink:href=\"#maa2414e5ad\" y=\"250.884931\"/>\n     <use style=\"fill:#1f77b4;stroke:#1f77b4;\" x=\"279.809183\" xlink:href=\"#maa2414e5ad\" y=\"194.653083\"/>\n     <use style=\"fill:#1f77b4;stroke:#1f77b4;\" x=\"234.077589\" xlink:href=\"#maa2414e5ad\" y=\"232.439091\"/>\n     <use style=\"fill:#1f77b4;stroke:#1f77b4;\" x=\"232.089259\" xlink:href=\"#maa2414e5ad\" y=\"245.925274\"/>\n     <use style=\"fill:#1f77b4;stroke:#1f77b4;\" x=\"232.089259\" xlink:href=\"#maa2414e5ad\" y=\"246.269082\"/>\n     <use style=\"fill:#1f77b4;stroke:#1f77b4;\" x=\"232.089259\" xlink:href=\"#maa2414e5ad\" y=\"246.612891\"/>\n     <use style=\"fill:#1f77b4;stroke:#1f77b4;\" x=\"232.089259\" xlink:href=\"#maa2414e5ad\" y=\"247.128604\"/>\n     <use style=\"fill:#1f77b4;stroke:#1f77b4;\" x=\"232.089259\" xlink:href=\"#maa2414e5ad\" y=\"247.159373\"/>\n     <use style=\"fill:#1f77b4;stroke:#1f77b4;\" x=\"180.392676\" xlink:href=\"#maa2414e5ad\" y=\"281.858234\"/>\n     <use style=\"fill:#1f77b4;stroke:#1f77b4;\" x=\"287.762503\" xlink:href=\"#maa2414e5ad\" y=\"186.156192\"/>\n     <use style=\"fill:#1f77b4;stroke:#1f77b4;\" x=\"228.112599\" xlink:href=\"#maa2414e5ad\" y=\"244.60001\"/>\n     <use style=\"fill:#1f77b4;stroke:#1f77b4;\" x=\"267.879202\" xlink:href=\"#maa2414e5ad\" y=\"204.917118\"/>\n     <use style=\"fill:#1f77b4;stroke:#1f77b4;\" x=\"123.327601\" xlink:href=\"#maa2414e5ad\" y=\"317.24623\"/>\n     <use style=\"fill:#1f77b4;stroke:#1f77b4;\" x=\"208.229298\" xlink:href=\"#maa2414e5ad\" y=\"235.280923\"/>\n     <use style=\"fill:#1f77b4;stroke:#1f77b4;\" x=\"216.580284\" xlink:href=\"#maa2414e5ad\" y=\"242.329152\"/>\n     <use style=\"fill:#1f77b4;stroke:#1f77b4;\" x=\"160.708207\" xlink:href=\"#maa2414e5ad\" y=\"271.261062\"/>\n     <use style=\"fill:#1f77b4;stroke:#1f77b4;\" x=\"159.912875\" xlink:href=\"#maa2414e5ad\" y=\"283.466113\"/>\n     <use style=\"fill:#1f77b4;stroke:#1f77b4;\" x=\"267.879202\" xlink:href=\"#maa2414e5ad\" y=\"223.806987\"/>\n     <use style=\"fill:#1f77b4;stroke:#1f77b4;\" x=\"267.879202\" xlink:href=\"#maa2414e5ad\" y=\"224.797182\"/>\n     <use style=\"fill:#1f77b4;stroke:#1f77b4;\" x=\"239.843747\" xlink:href=\"#maa2414e5ad\" y=\"242.27543\"/>\n     <use style=\"fill:#1f77b4;stroke:#1f77b4;\" x=\"124.719432\" xlink:href=\"#maa2414e5ad\" y=\"320.390964\"/>\n     <use style=\"fill:#1f77b4;stroke:#1f77b4;\" x=\"125.713597\" xlink:href=\"#maa2414e5ad\" y=\"313.524063\"/>\n     <use style=\"fill:#1f77b4;stroke:#1f77b4;\" x=\"247.797067\" xlink:href=\"#maa2414e5ad\" y=\"235.580921\"/>\n     <use style=\"fill:#1f77b4;stroke:#1f77b4;\" x=\"229.902096\" xlink:href=\"#maa2414e5ad\" y=\"246.173326\"/>\n     <use style=\"fill:#1f77b4;stroke:#1f77b4;\" x=\"182.381006\" xlink:href=\"#maa2414e5ad\" y=\"281.282524\"/>\n     <use style=\"fill:#1f77b4;stroke:#1f77b4;\" x=\"200.275977\" xlink:href=\"#maa2414e5ad\" y=\"262.812979\"/>\n     <use style=\"fill:#1f77b4;stroke:#1f77b4;\" x=\"188.345996\" xlink:href=\"#maa2414e5ad\" y=\"262.944011\"/>\n     <use style=\"fill:#1f77b4;stroke:#1f77b4;\" x=\"108.216291\" xlink:href=\"#maa2414e5ad\" y=\"323.778068\"/>\n     <use style=\"fill:#1f77b4;stroke:#1f77b4;\" x=\"291.739163\" xlink:href=\"#maa2414e5ad\" y=\"197.739471\"/>\n     <use style=\"fill:#1f77b4;stroke:#1f77b4;\" x=\"221.948776\" xlink:href=\"#maa2414e5ad\" y=\"234.253154\"/>\n     <use style=\"fill:#1f77b4;stroke:#1f77b4;\" x=\"60.894034\" xlink:href=\"#maa2414e5ad\" y=\"358.367795\"/>\n     <use style=\"fill:#1f77b4;stroke:#1f77b4;\" x=\"198.287647\" xlink:href=\"#maa2414e5ad\" y=\"274.108726\"/>\n     <use style=\"fill:#1f77b4;stroke:#1f77b4;\" x=\"90.917819\" xlink:href=\"#maa2414e5ad\" y=\"334.685208\"/>\n     <use style=\"fill:#1f77b4;stroke:#1f77b4;\" x=\"84.952829\" xlink:href=\"#maa2414e5ad\" y=\"327.563904\"/>\n     <use style=\"fill:#1f77b4;stroke:#1f77b4;\" x=\"66.660192\" xlink:href=\"#maa2414e5ad\" y=\"343.083844\"/>\n     <use style=\"fill:#1f77b4;stroke:#1f77b4;\" x=\"66.660192\" xlink:href=\"#maa2414e5ad\" y=\"343.450956\"/>\n     <use style=\"fill:#1f77b4;stroke:#1f77b4;\" x=\"119.748606\" xlink:href=\"#maa2414e5ad\" y=\"304.74617\"/>\n     <use style=\"fill:#1f77b4;stroke:#1f77b4;\" x=\"175.620683\" xlink:href=\"#maa2414e5ad\" y=\"271.340262\"/>\n     <use style=\"fill:#1f77b4;stroke:#1f77b4;\" x=\"237.060085\" xlink:href=\"#maa2414e5ad\" y=\"235.468272\"/>\n    </g>\n   </g>\n   <g id=\"matplotlib.axis_1\">\n    <g id=\"xtick_1\">\n     <g id=\"line2d_1\">\n      <defs>\n       <path d=\"M 0 0 \nL 0 3.5 \n\" id=\"m139b8f0bca\" style=\"stroke:#000000;stroke-width:0.8;\"/>\n      </defs>\n      <g>\n       <use style=\"stroke:#000000;stroke-width:0.8;\" x=\"49.162886\" xlink:href=\"#m139b8f0bca\" y=\"373.19325\"/>\n      </g>\n     </g>\n     <g id=\"text_1\">\n      <!-- 0.0 -->\n      <g transform=\"translate(41.211324 387.791687)scale(0.1 -0.1)\">\n       <defs>\n        <path d=\"M 2034 4250 \nQ 1547 4250 1301 3770 \nQ 1056 3291 1056 2328 \nQ 1056 1369 1301 889 \nQ 1547 409 2034 409 \nQ 2525 409 2770 889 \nQ 3016 1369 3016 2328 \nQ 3016 3291 2770 3770 \nQ 2525 4250 2034 4250 \nz\nM 2034 4750 \nQ 2819 4750 3233 4129 \nQ 3647 3509 3647 2328 \nQ 3647 1150 3233 529 \nQ 2819 -91 2034 -91 \nQ 1250 -91 836 529 \nQ 422 1150 422 2328 \nQ 422 3509 836 4129 \nQ 1250 4750 2034 4750 \nz\n\" id=\"DejaVuSans-30\" transform=\"scale(0.015625)\"/>\n        <path d=\"M 684 794 \nL 1344 794 \nL 1344 0 \nL 684 0 \nL 684 794 \nz\n\" id=\"DejaVuSans-2e\" transform=\"scale(0.015625)\"/>\n       </defs>\n       <use xlink:href=\"#DejaVuSans-30\"/>\n       <use x=\"63.623047\" xlink:href=\"#DejaVuSans-2e\"/>\n       <use x=\"95.410156\" xlink:href=\"#DejaVuSans-30\"/>\n      </g>\n     </g>\n    </g>\n    <g id=\"xtick_2\">\n     <g id=\"line2d_2\">\n      <g>\n       <use style=\"stroke:#000000;stroke-width:0.8;\" x=\"98.87114\" xlink:href=\"#m139b8f0bca\" y=\"373.19325\"/>\n      </g>\n     </g>\n     <g id=\"text_2\">\n      <!-- 2.5 -->\n      <g transform=\"translate(90.919577 387.791687)scale(0.1 -0.1)\">\n       <defs>\n        <path d=\"M 1228 531 \nL 3431 531 \nL 3431 0 \nL 469 0 \nL 469 531 \nQ 828 903 1448 1529 \nQ 2069 2156 2228 2338 \nQ 2531 2678 2651 2914 \nQ 2772 3150 2772 3378 \nQ 2772 3750 2511 3984 \nQ 2250 4219 1831 4219 \nQ 1534 4219 1204 4116 \nQ 875 4013 500 3803 \nL 500 4441 \nQ 881 4594 1212 4672 \nQ 1544 4750 1819 4750 \nQ 2544 4750 2975 4387 \nQ 3406 4025 3406 3419 \nQ 3406 3131 3298 2873 \nQ 3191 2616 2906 2266 \nQ 2828 2175 2409 1742 \nQ 1991 1309 1228 531 \nz\n\" id=\"DejaVuSans-32\" transform=\"scale(0.015625)\"/>\n        <path d=\"M 691 4666 \nL 3169 4666 \nL 3169 4134 \nL 1269 4134 \nL 1269 2991 \nQ 1406 3038 1543 3061 \nQ 1681 3084 1819 3084 \nQ 2600 3084 3056 2656 \nQ 3513 2228 3513 1497 \nQ 3513 744 3044 326 \nQ 2575 -91 1722 -91 \nQ 1428 -91 1123 -41 \nQ 819 9 494 109 \nL 494 744 \nQ 775 591 1075 516 \nQ 1375 441 1709 441 \nQ 2250 441 2565 725 \nQ 2881 1009 2881 1497 \nQ 2881 1984 2565 2268 \nQ 2250 2553 1709 2553 \nQ 1456 2553 1204 2497 \nQ 953 2441 691 2322 \nL 691 4666 \nz\n\" id=\"DejaVuSans-35\" transform=\"scale(0.015625)\"/>\n       </defs>\n       <use xlink:href=\"#DejaVuSans-32\"/>\n       <use x=\"63.623047\" xlink:href=\"#DejaVuSans-2e\"/>\n       <use x=\"95.410156\" xlink:href=\"#DejaVuSans-35\"/>\n      </g>\n     </g>\n    </g>\n    <g id=\"xtick_3\">\n     <g id=\"line2d_3\">\n      <g>\n       <use style=\"stroke:#000000;stroke-width:0.8;\" x=\"148.579393\" xlink:href=\"#m139b8f0bca\" y=\"373.19325\"/>\n      </g>\n     </g>\n     <g id=\"text_3\">\n      <!-- 5.0 -->\n      <g transform=\"translate(140.627831 387.791687)scale(0.1 -0.1)\">\n       <use xlink:href=\"#DejaVuSans-35\"/>\n       <use x=\"63.623047\" xlink:href=\"#DejaVuSans-2e\"/>\n       <use x=\"95.410156\" xlink:href=\"#DejaVuSans-30\"/>\n      </g>\n     </g>\n    </g>\n    <g id=\"xtick_4\">\n     <g id=\"line2d_4\">\n      <g>\n       <use style=\"stroke:#000000;stroke-width:0.8;\" x=\"198.287647\" xlink:href=\"#m139b8f0bca\" y=\"373.19325\"/>\n      </g>\n     </g>\n     <g id=\"text_4\">\n      <!-- 7.5 -->\n      <g transform=\"translate(190.336084 387.791687)scale(0.1 -0.1)\">\n       <defs>\n        <path d=\"M 525 4666 \nL 3525 4666 \nL 3525 4397 \nL 1831 0 \nL 1172 0 \nL 2766 4134 \nL 525 4134 \nL 525 4666 \nz\n\" id=\"DejaVuSans-37\" transform=\"scale(0.015625)\"/>\n       </defs>\n       <use xlink:href=\"#DejaVuSans-37\"/>\n       <use x=\"63.623047\" xlink:href=\"#DejaVuSans-2e\"/>\n       <use x=\"95.410156\" xlink:href=\"#DejaVuSans-35\"/>\n      </g>\n     </g>\n    </g>\n    <g id=\"xtick_5\">\n     <g id=\"line2d_5\">\n      <g>\n       <use style=\"stroke:#000000;stroke-width:0.8;\" x=\"247.9959\" xlink:href=\"#m139b8f0bca\" y=\"373.19325\"/>\n      </g>\n     </g>\n     <g id=\"text_5\">\n      <!-- 10.0 -->\n      <g transform=\"translate(236.863088 387.791687)scale(0.1 -0.1)\">\n       <defs>\n        <path d=\"M 794 531 \nL 1825 531 \nL 1825 4091 \nL 703 3866 \nL 703 4441 \nL 1819 4666 \nL 2450 4666 \nL 2450 531 \nL 3481 531 \nL 3481 0 \nL 794 0 \nL 794 531 \nz\n\" id=\"DejaVuSans-31\" transform=\"scale(0.015625)\"/>\n       </defs>\n       <use xlink:href=\"#DejaVuSans-31\"/>\n       <use x=\"63.623047\" xlink:href=\"#DejaVuSans-30\"/>\n       <use x=\"127.246094\" xlink:href=\"#DejaVuSans-2e\"/>\n       <use x=\"159.033203\" xlink:href=\"#DejaVuSans-30\"/>\n      </g>\n     </g>\n    </g>\n    <g id=\"xtick_6\">\n     <g id=\"line2d_6\">\n      <g>\n       <use style=\"stroke:#000000;stroke-width:0.8;\" x=\"297.704154\" xlink:href=\"#m139b8f0bca\" y=\"373.19325\"/>\n      </g>\n     </g>\n     <g id=\"text_6\">\n      <!-- 12.5 -->\n      <g transform=\"translate(286.571341 387.791687)scale(0.1 -0.1)\">\n       <use xlink:href=\"#DejaVuSans-31\"/>\n       <use x=\"63.623047\" xlink:href=\"#DejaVuSans-32\"/>\n       <use x=\"127.246094\" xlink:href=\"#DejaVuSans-2e\"/>\n       <use x=\"159.033203\" xlink:href=\"#DejaVuSans-35\"/>\n      </g>\n     </g>\n    </g>\n    <g id=\"xtick_7\">\n     <g id=\"line2d_7\">\n      <g>\n       <use style=\"stroke:#000000;stroke-width:0.8;\" x=\"347.412407\" xlink:href=\"#m139b8f0bca\" y=\"373.19325\"/>\n      </g>\n     </g>\n     <g id=\"text_7\">\n      <!-- 15.0 -->\n      <g transform=\"translate(336.279595 387.791687)scale(0.1 -0.1)\">\n       <use xlink:href=\"#DejaVuSans-31\"/>\n       <use x=\"63.623047\" xlink:href=\"#DejaVuSans-35\"/>\n       <use x=\"127.246094\" xlink:href=\"#DejaVuSans-2e\"/>\n       <use x=\"159.033203\" xlink:href=\"#DejaVuSans-30\"/>\n      </g>\n     </g>\n    </g>\n    <g id=\"xtick_8\">\n     <g id=\"line2d_8\">\n      <g>\n       <use style=\"stroke:#000000;stroke-width:0.8;\" x=\"397.120661\" xlink:href=\"#m139b8f0bca\" y=\"373.19325\"/>\n      </g>\n     </g>\n     <g id=\"text_8\">\n      <!-- 17.5 -->\n      <g transform=\"translate(385.987848 387.791687)scale(0.1 -0.1)\">\n       <use xlink:href=\"#DejaVuSans-31\"/>\n       <use x=\"63.623047\" xlink:href=\"#DejaVuSans-37\"/>\n       <use x=\"127.246094\" xlink:href=\"#DejaVuSans-2e\"/>\n       <use x=\"159.033203\" xlink:href=\"#DejaVuSans-35\"/>\n      </g>\n     </g>\n    </g>\n    <g id=\"xtick_9\">\n     <g id=\"line2d_9\">\n      <g>\n       <use style=\"stroke:#000000;stroke-width:0.8;\" x=\"446.828914\" xlink:href=\"#m139b8f0bca\" y=\"373.19325\"/>\n      </g>\n     </g>\n     <g id=\"text_9\">\n      <!-- 20.0 -->\n      <g transform=\"translate(435.696102 387.791687)scale(0.1 -0.1)\">\n       <use xlink:href=\"#DejaVuSans-32\"/>\n       <use x=\"63.623047\" xlink:href=\"#DejaVuSans-30\"/>\n       <use x=\"127.246094\" xlink:href=\"#DejaVuSans-2e\"/>\n       <use x=\"159.033203\" xlink:href=\"#DejaVuSans-30\"/>\n      </g>\n     </g>\n    </g>\n    <g id=\"text_10\">\n     <!-- Actual values -->\n     <g style=\"fill:#0000ff;\" transform=\"translate(225.917188 401.469812)scale(0.1 -0.1)\">\n      <defs>\n       <path d=\"M 3419 850 \nL 1538 850 \nL 1241 0 \nL 31 0 \nL 1759 4666 \nL 3194 4666 \nL 4922 0 \nL 3713 0 \nL 3419 850 \nz\nM 1838 1716 \nL 3116 1716 \nL 2478 3572 \nL 1838 1716 \nz\n\" id=\"DejaVuSans-Bold-41\" transform=\"scale(0.015625)\"/>\n       <path d=\"M 3366 3391 \nL 3366 2478 \nQ 3138 2634 2908 2709 \nQ 2678 2784 2431 2784 \nQ 1963 2784 1702 2511 \nQ 1441 2238 1441 1747 \nQ 1441 1256 1702 982 \nQ 1963 709 2431 709 \nQ 2694 709 2930 787 \nQ 3166 866 3366 1019 \nL 3366 103 \nQ 3103 6 2833 -42 \nQ 2563 -91 2291 -91 \nQ 1344 -91 809 395 \nQ 275 881 275 1747 \nQ 275 2613 809 3098 \nQ 1344 3584 2291 3584 \nQ 2566 3584 2833 3536 \nQ 3100 3488 3366 3391 \nz\n\" id=\"DejaVuSans-Bold-63\" transform=\"scale(0.015625)\"/>\n       <path d=\"M 1759 4494 \nL 1759 3500 \nL 2913 3500 \nL 2913 2700 \nL 1759 2700 \nL 1759 1216 \nQ 1759 972 1856 886 \nQ 1953 800 2241 800 \nL 2816 800 \nL 2816 0 \nL 1856 0 \nQ 1194 0 917 276 \nQ 641 553 641 1216 \nL 641 2700 \nL 84 2700 \nL 84 3500 \nL 641 3500 \nL 641 4494 \nL 1759 4494 \nz\n\" id=\"DejaVuSans-Bold-74\" transform=\"scale(0.015625)\"/>\n       <path d=\"M 500 1363 \nL 500 3500 \nL 1625 3500 \nL 1625 3150 \nQ 1625 2866 1622 2436 \nQ 1619 2006 1619 1863 \nQ 1619 1441 1641 1255 \nQ 1663 1069 1716 984 \nQ 1784 875 1895 815 \nQ 2006 756 2150 756 \nQ 2500 756 2700 1025 \nQ 2900 1294 2900 1772 \nL 2900 3500 \nL 4019 3500 \nL 4019 0 \nL 2900 0 \nL 2900 506 \nQ 2647 200 2364 54 \nQ 2081 -91 1741 -91 \nQ 1134 -91 817 281 \nQ 500 653 500 1363 \nz\n\" id=\"DejaVuSans-Bold-75\" transform=\"scale(0.015625)\"/>\n       <path d=\"M 2106 1575 \nQ 1756 1575 1579 1456 \nQ 1403 1338 1403 1106 \nQ 1403 894 1545 773 \nQ 1688 653 1941 653 \nQ 2256 653 2472 879 \nQ 2688 1106 2688 1447 \nL 2688 1575 \nL 2106 1575 \nz\nM 3816 1997 \nL 3816 0 \nL 2688 0 \nL 2688 519 \nQ 2463 200 2181 54 \nQ 1900 -91 1497 -91 \nQ 953 -91 614 226 \nQ 275 544 275 1050 \nQ 275 1666 698 1953 \nQ 1122 2241 2028 2241 \nL 2688 2241 \nL 2688 2328 \nQ 2688 2594 2478 2717 \nQ 2269 2841 1825 2841 \nQ 1466 2841 1156 2769 \nQ 847 2697 581 2553 \nL 581 3406 \nQ 941 3494 1303 3539 \nQ 1666 3584 2028 3584 \nQ 2975 3584 3395 3211 \nQ 3816 2838 3816 1997 \nz\n\" id=\"DejaVuSans-Bold-61\" transform=\"scale(0.015625)\"/>\n       <path d=\"M 538 4863 \nL 1656 4863 \nL 1656 0 \nL 538 0 \nL 538 4863 \nz\n\" id=\"DejaVuSans-Bold-6c\" transform=\"scale(0.015625)\"/>\n       <path id=\"DejaVuSans-Bold-20\" transform=\"scale(0.015625)\"/>\n       <path d=\"M 97 3500 \nL 1216 3500 \nL 2088 1081 \nL 2956 3500 \nL 4078 3500 \nL 2700 0 \nL 1472 0 \nL 97 3500 \nz\n\" id=\"DejaVuSans-Bold-76\" transform=\"scale(0.015625)\"/>\n       <path d=\"M 4031 1759 \nL 4031 1441 \nL 1416 1441 \nQ 1456 1047 1700 850 \nQ 1944 653 2381 653 \nQ 2734 653 3104 758 \nQ 3475 863 3866 1075 \nL 3866 213 \nQ 3469 63 3072 -14 \nQ 2675 -91 2278 -91 \nQ 1328 -91 801 392 \nQ 275 875 275 1747 \nQ 275 2603 792 3093 \nQ 1309 3584 2216 3584 \nQ 3041 3584 3536 3087 \nQ 4031 2591 4031 1759 \nz\nM 2881 2131 \nQ 2881 2450 2695 2645 \nQ 2509 2841 2209 2841 \nQ 1884 2841 1681 2658 \nQ 1478 2475 1428 2131 \nL 2881 2131 \nz\n\" id=\"DejaVuSans-Bold-65\" transform=\"scale(0.015625)\"/>\n       <path d=\"M 3272 3391 \nL 3272 2541 \nQ 2913 2691 2578 2766 \nQ 2244 2841 1947 2841 \nQ 1628 2841 1473 2761 \nQ 1319 2681 1319 2516 \nQ 1319 2381 1436 2309 \nQ 1553 2238 1856 2203 \nL 2053 2175 \nQ 2913 2066 3209 1816 \nQ 3506 1566 3506 1031 \nQ 3506 472 3093 190 \nQ 2681 -91 1863 -91 \nQ 1516 -91 1145 -36 \nQ 775 19 384 128 \nL 384 978 \nQ 719 816 1070 734 \nQ 1422 653 1784 653 \nQ 2113 653 2278 743 \nQ 2444 834 2444 1013 \nQ 2444 1163 2330 1236 \nQ 2216 1309 1875 1350 \nL 1678 1375 \nQ 931 1469 631 1722 \nQ 331 1975 331 2491 \nQ 331 3047 712 3315 \nQ 1094 3584 1881 3584 \nQ 2191 3584 2531 3537 \nQ 2872 3491 3272 3391 \nz\n\" id=\"DejaVuSans-Bold-73\" transform=\"scale(0.015625)\"/>\n      </defs>\n      <use xlink:href=\"#DejaVuSans-Bold-41\"/>\n      <use x=\"77.392578\" xlink:href=\"#DejaVuSans-Bold-63\"/>\n      <use x=\"136.669922\" xlink:href=\"#DejaVuSans-Bold-74\"/>\n      <use x=\"184.472656\" xlink:href=\"#DejaVuSans-Bold-75\"/>\n      <use x=\"255.664062\" xlink:href=\"#DejaVuSans-Bold-61\"/>\n      <use x=\"323.144531\" xlink:href=\"#DejaVuSans-Bold-6c\"/>\n      <use x=\"357.421875\" xlink:href=\"#DejaVuSans-Bold-20\"/>\n      <use x=\"392.236328\" xlink:href=\"#DejaVuSans-Bold-76\"/>\n      <use x=\"457.421875\" xlink:href=\"#DejaVuSans-Bold-61\"/>\n      <use x=\"524.902344\" xlink:href=\"#DejaVuSans-Bold-6c\"/>\n      <use x=\"559.179688\" xlink:href=\"#DejaVuSans-Bold-75\"/>\n      <use x=\"630.371094\" xlink:href=\"#DejaVuSans-Bold-65\"/>\n      <use x=\"698.193359\" xlink:href=\"#DejaVuSans-Bold-73\"/>\n     </g>\n    </g>\n   </g>\n   <g id=\"matplotlib.axis_2\">\n    <g id=\"ytick_1\">\n     <g id=\"line2d_10\">\n      <defs>\n       <path d=\"M 0 0 \nL -3.5 0 \n\" id=\"m5b6293dd9b\" style=\"stroke:#000000;stroke-width:0.8;\"/>\n      </defs>\n      <g>\n       <use style=\"stroke:#000000;stroke-width:0.8;\" x=\"40.603125\" xlink:href=\"#m5b6293dd9b\" y=\"365.568236\"/>\n      </g>\n     </g>\n     <g id=\"text_11\">\n      <!-- 0 -->\n      <g transform=\"translate(27.240625 369.367454)scale(0.1 -0.1)\">\n       <use xlink:href=\"#DejaVuSans-30\"/>\n      </g>\n     </g>\n    </g>\n    <g id=\"ytick_2\">\n     <g id=\"line2d_11\">\n      <g>\n       <use style=\"stroke:#000000;stroke-width:0.8;\" x=\"40.603125\" xlink:href=\"#m5b6293dd9b\" y=\"295.923306\"/>\n      </g>\n     </g>\n     <g id=\"text_12\">\n      <!-- 5 -->\n      <g transform=\"translate(27.240625 299.722525)scale(0.1 -0.1)\">\n       <use xlink:href=\"#DejaVuSans-35\"/>\n      </g>\n     </g>\n    </g>\n    <g id=\"ytick_3\">\n     <g id=\"line2d_12\">\n      <g>\n       <use style=\"stroke:#000000;stroke-width:0.8;\" x=\"40.603125\" xlink:href=\"#m5b6293dd9b\" y=\"226.278377\"/>\n      </g>\n     </g>\n     <g id=\"text_13\">\n      <!-- 10 -->\n      <g transform=\"translate(20.878125 230.077596)scale(0.1 -0.1)\">\n       <use xlink:href=\"#DejaVuSans-31\"/>\n       <use x=\"63.623047\" xlink:href=\"#DejaVuSans-30\"/>\n      </g>\n     </g>\n    </g>\n    <g id=\"ytick_4\">\n     <g id=\"line2d_13\">\n      <g>\n       <use style=\"stroke:#000000;stroke-width:0.8;\" x=\"40.603125\" xlink:href=\"#m5b6293dd9b\" y=\"156.633448\"/>\n      </g>\n     </g>\n     <g id=\"text_14\">\n      <!-- 15 -->\n      <g transform=\"translate(20.878125 160.432667)scale(0.1 -0.1)\">\n       <use xlink:href=\"#DejaVuSans-31\"/>\n       <use x=\"63.623047\" xlink:href=\"#DejaVuSans-35\"/>\n      </g>\n     </g>\n    </g>\n    <g id=\"ytick_5\">\n     <g id=\"line2d_14\">\n      <g>\n       <use style=\"stroke:#000000;stroke-width:0.8;\" x=\"40.603125\" xlink:href=\"#m5b6293dd9b\" y=\"86.988519\"/>\n      </g>\n     </g>\n     <g id=\"text_15\">\n      <!-- 20 -->\n      <g transform=\"translate(20.878125 90.787737)scale(0.1 -0.1)\">\n       <use xlink:href=\"#DejaVuSans-32\"/>\n       <use x=\"63.623047\" xlink:href=\"#DejaVuSans-30\"/>\n      </g>\n     </g>\n    </g>\n    <g id=\"text_16\">\n     <!-- Predictive values -->\n     <g style=\"fill:#0000ff;\" transform=\"translate(14.798438 258.661687)rotate(-90)scale(0.1 -0.1)\">\n      <defs>\n       <path d=\"M 588 4666 \nL 2584 4666 \nQ 3475 4666 3951 4270 \nQ 4428 3875 4428 3144 \nQ 4428 2409 3951 2014 \nQ 3475 1619 2584 1619 \nL 1791 1619 \nL 1791 0 \nL 588 0 \nL 588 4666 \nz\nM 1791 3794 \nL 1791 2491 \nL 2456 2491 \nQ 2806 2491 2997 2661 \nQ 3188 2831 3188 3144 \nQ 3188 3456 2997 3625 \nQ 2806 3794 2456 3794 \nL 1791 3794 \nz\n\" id=\"DejaVuSans-Bold-50\" transform=\"scale(0.015625)\"/>\n       <path d=\"M 3138 2547 \nQ 2991 2616 2845 2648 \nQ 2700 2681 2553 2681 \nQ 2122 2681 1889 2404 \nQ 1656 2128 1656 1613 \nL 1656 0 \nL 538 0 \nL 538 3500 \nL 1656 3500 \nL 1656 2925 \nQ 1872 3269 2151 3426 \nQ 2431 3584 2822 3584 \nQ 2878 3584 2943 3579 \nQ 3009 3575 3134 3559 \nL 3138 2547 \nz\n\" id=\"DejaVuSans-Bold-72\" transform=\"scale(0.015625)\"/>\n       <path d=\"M 2919 2988 \nL 2919 4863 \nL 4044 4863 \nL 4044 0 \nL 2919 0 \nL 2919 506 \nQ 2688 197 2409 53 \nQ 2131 -91 1766 -91 \nQ 1119 -91 703 423 \nQ 288 938 288 1747 \nQ 288 2556 703 3070 \nQ 1119 3584 1766 3584 \nQ 2128 3584 2408 3439 \nQ 2688 3294 2919 2988 \nz\nM 2181 722 \nQ 2541 722 2730 984 \nQ 2919 1247 2919 1747 \nQ 2919 2247 2730 2509 \nQ 2541 2772 2181 2772 \nQ 1825 2772 1636 2509 \nQ 1447 2247 1447 1747 \nQ 1447 1247 1636 984 \nQ 1825 722 2181 722 \nz\n\" id=\"DejaVuSans-Bold-64\" transform=\"scale(0.015625)\"/>\n       <path d=\"M 538 3500 \nL 1656 3500 \nL 1656 0 \nL 538 0 \nL 538 3500 \nz\nM 538 4863 \nL 1656 4863 \nL 1656 3950 \nL 538 3950 \nL 538 4863 \nz\n\" id=\"DejaVuSans-Bold-69\" transform=\"scale(0.015625)\"/>\n      </defs>\n      <use xlink:href=\"#DejaVuSans-Bold-50\"/>\n      <use x=\"73.291016\" xlink:href=\"#DejaVuSans-Bold-72\"/>\n      <use x=\"122.607422\" xlink:href=\"#DejaVuSans-Bold-65\"/>\n      <use x=\"190.429688\" xlink:href=\"#DejaVuSans-Bold-64\"/>\n      <use x=\"262.011719\" xlink:href=\"#DejaVuSans-Bold-69\"/>\n      <use x=\"296.289062\" xlink:href=\"#DejaVuSans-Bold-63\"/>\n      <use x=\"355.566406\" xlink:href=\"#DejaVuSans-Bold-74\"/>\n      <use x=\"403.369141\" xlink:href=\"#DejaVuSans-Bold-69\"/>\n      <use x=\"437.646484\" xlink:href=\"#DejaVuSans-Bold-76\"/>\n      <use x=\"502.832031\" xlink:href=\"#DejaVuSans-Bold-65\"/>\n      <use x=\"570.654297\" xlink:href=\"#DejaVuSans-Bold-20\"/>\n      <use x=\"605.46875\" xlink:href=\"#DejaVuSans-Bold-76\"/>\n      <use x=\"670.654297\" xlink:href=\"#DejaVuSans-Bold-61\"/>\n      <use x=\"738.134766\" xlink:href=\"#DejaVuSans-Bold-6c\"/>\n      <use x=\"772.412109\" xlink:href=\"#DejaVuSans-Bold-75\"/>\n      <use x=\"843.603516\" xlink:href=\"#DejaVuSans-Bold-65\"/>\n      <use x=\"911.425781\" xlink:href=\"#DejaVuSans-Bold-73\"/>\n     </g>\n    </g>\n   </g>\n   <g id=\"patch_3\">\n    <path d=\"M 40.603125 373.19325 \nL 40.603125 47.03325 \n\" style=\"fill:none;stroke:#000000;stroke-linecap:square;stroke-linejoin:miter;stroke-width:0.8;\"/>\n   </g>\n   <g id=\"patch_4\">\n    <path d=\"M 487.003125 373.19325 \nL 487.003125 47.03325 \n\" style=\"fill:none;stroke:#000000;stroke-linecap:square;stroke-linejoin:miter;stroke-width:0.8;\"/>\n   </g>\n   <g id=\"patch_5\">\n    <path d=\"M 40.603125 373.19325 \nL 487.003125 373.19325 \n\" style=\"fill:none;stroke:#000000;stroke-linecap:square;stroke-linejoin:miter;stroke-width:0.8;\"/>\n   </g>\n   <g id=\"patch_6\">\n    <path d=\"M 40.603125 47.03325 \nL 487.003125 47.03325 \n\" style=\"fill:none;stroke:#000000;stroke-linecap:square;stroke-linejoin:miter;stroke-width:0.8;\"/>\n   </g>\n   <g id=\"text_17\">\n    <!-- Compare actual and predictive values -->\n    <g style=\"fill:#ff0000;\" transform=\"translate(71.747344 20.877187)scale(0.18 -0.18)\">\n     <defs>\n      <path d=\"M 4288 256 \nQ 3956 84 3597 -3 \nQ 3238 -91 2847 -91 \nQ 1681 -91 1000 561 \nQ 319 1213 319 2328 \nQ 319 3447 1000 4098 \nQ 1681 4750 2847 4750 \nQ 3238 4750 3597 4662 \nQ 3956 4575 4288 4403 \nL 4288 3438 \nQ 3953 3666 3628 3772 \nQ 3303 3878 2944 3878 \nQ 2300 3878 1931 3465 \nQ 1563 3053 1563 2328 \nQ 1563 1606 1931 1193 \nQ 2300 781 2944 781 \nQ 3303 781 3628 887 \nQ 3953 994 4288 1222 \nL 4288 256 \nz\n\" id=\"DejaVuSans-Bold-43\" transform=\"scale(0.015625)\"/>\n      <path d=\"M 2203 2784 \nQ 1831 2784 1636 2517 \nQ 1441 2250 1441 1747 \nQ 1441 1244 1636 976 \nQ 1831 709 2203 709 \nQ 2569 709 2762 976 \nQ 2956 1244 2956 1747 \nQ 2956 2250 2762 2517 \nQ 2569 2784 2203 2784 \nz\nM 2203 3584 \nQ 3106 3584 3614 3096 \nQ 4122 2609 4122 1747 \nQ 4122 884 3614 396 \nQ 3106 -91 2203 -91 \nQ 1297 -91 786 396 \nQ 275 884 275 1747 \nQ 275 2609 786 3096 \nQ 1297 3584 2203 3584 \nz\n\" id=\"DejaVuSans-Bold-6f\" transform=\"scale(0.015625)\"/>\n      <path d=\"M 3781 2919 \nQ 3994 3244 4286 3414 \nQ 4578 3584 4928 3584 \nQ 5531 3584 5847 3212 \nQ 6163 2841 6163 2131 \nL 6163 0 \nL 5038 0 \nL 5038 1825 \nQ 5041 1866 5042 1909 \nQ 5044 1953 5044 2034 \nQ 5044 2406 4934 2573 \nQ 4825 2741 4581 2741 \nQ 4263 2741 4089 2478 \nQ 3916 2216 3909 1719 \nL 3909 0 \nL 2784 0 \nL 2784 1825 \nQ 2784 2406 2684 2573 \nQ 2584 2741 2328 2741 \nQ 2006 2741 1831 2477 \nQ 1656 2213 1656 1722 \nL 1656 0 \nL 531 0 \nL 531 3500 \nL 1656 3500 \nL 1656 2988 \nQ 1863 3284 2130 3434 \nQ 2397 3584 2719 3584 \nQ 3081 3584 3359 3409 \nQ 3638 3234 3781 2919 \nz\n\" id=\"DejaVuSans-Bold-6d\" transform=\"scale(0.015625)\"/>\n      <path d=\"M 1656 506 \nL 1656 -1331 \nL 538 -1331 \nL 538 3500 \nL 1656 3500 \nL 1656 2988 \nQ 1888 3294 2169 3439 \nQ 2450 3584 2816 3584 \nQ 3463 3584 3878 3070 \nQ 4294 2556 4294 1747 \nQ 4294 938 3878 423 \nQ 3463 -91 2816 -91 \nQ 2450 -91 2169 54 \nQ 1888 200 1656 506 \nz\nM 2400 2772 \nQ 2041 2772 1848 2508 \nQ 1656 2244 1656 1747 \nQ 1656 1250 1848 986 \nQ 2041 722 2400 722 \nQ 2759 722 2948 984 \nQ 3138 1247 3138 1747 \nQ 3138 2247 2948 2509 \nQ 2759 2772 2400 2772 \nz\n\" id=\"DejaVuSans-Bold-70\" transform=\"scale(0.015625)\"/>\n      <path d=\"M 4056 2131 \nL 4056 0 \nL 2931 0 \nL 2931 347 \nL 2931 1631 \nQ 2931 2084 2911 2256 \nQ 2891 2428 2841 2509 \nQ 2775 2619 2662 2680 \nQ 2550 2741 2406 2741 \nQ 2056 2741 1856 2470 \nQ 1656 2200 1656 1722 \nL 1656 0 \nL 538 0 \nL 538 3500 \nL 1656 3500 \nL 1656 2988 \nQ 1909 3294 2193 3439 \nQ 2478 3584 2822 3584 \nQ 3428 3584 3742 3212 \nQ 4056 2841 4056 2131 \nz\n\" id=\"DejaVuSans-Bold-6e\" transform=\"scale(0.015625)\"/>\n     </defs>\n     <use xlink:href=\"#DejaVuSans-Bold-43\"/>\n     <use x=\"73.388672\" xlink:href=\"#DejaVuSans-Bold-6f\"/>\n     <use x=\"142.089844\" xlink:href=\"#DejaVuSans-Bold-6d\"/>\n     <use x=\"246.289062\" xlink:href=\"#DejaVuSans-Bold-70\"/>\n     <use x=\"317.871094\" xlink:href=\"#DejaVuSans-Bold-61\"/>\n     <use x=\"385.351562\" xlink:href=\"#DejaVuSans-Bold-72\"/>\n     <use x=\"434.667969\" xlink:href=\"#DejaVuSans-Bold-65\"/>\n     <use x=\"502.490234\" xlink:href=\"#DejaVuSans-Bold-20\"/>\n     <use x=\"537.304688\" xlink:href=\"#DejaVuSans-Bold-61\"/>\n     <use x=\"604.785156\" xlink:href=\"#DejaVuSans-Bold-63\"/>\n     <use x=\"664.0625\" xlink:href=\"#DejaVuSans-Bold-74\"/>\n     <use x=\"711.865234\" xlink:href=\"#DejaVuSans-Bold-75\"/>\n     <use x=\"783.056641\" xlink:href=\"#DejaVuSans-Bold-61\"/>\n     <use x=\"850.537109\" xlink:href=\"#DejaVuSans-Bold-6c\"/>\n     <use x=\"884.814453\" xlink:href=\"#DejaVuSans-Bold-20\"/>\n     <use x=\"919.628906\" xlink:href=\"#DejaVuSans-Bold-61\"/>\n     <use x=\"987.109375\" xlink:href=\"#DejaVuSans-Bold-6e\"/>\n     <use x=\"1058.300781\" xlink:href=\"#DejaVuSans-Bold-64\"/>\n     <use x=\"1129.882812\" xlink:href=\"#DejaVuSans-Bold-20\"/>\n     <use x=\"1164.697266\" xlink:href=\"#DejaVuSans-Bold-70\"/>\n     <use x=\"1236.279297\" xlink:href=\"#DejaVuSans-Bold-72\"/>\n     <use x=\"1285.595703\" xlink:href=\"#DejaVuSans-Bold-65\"/>\n     <use x=\"1353.417969\" xlink:href=\"#DejaVuSans-Bold-64\"/>\n     <use x=\"1425\" xlink:href=\"#DejaVuSans-Bold-69\"/>\n     <use x=\"1459.277344\" xlink:href=\"#DejaVuSans-Bold-63\"/>\n     <use x=\"1518.554688\" xlink:href=\"#DejaVuSans-Bold-74\"/>\n     <use x=\"1566.357422\" xlink:href=\"#DejaVuSans-Bold-69\"/>\n     <use x=\"1600.634766\" xlink:href=\"#DejaVuSans-Bold-76\"/>\n     <use x=\"1665.820312\" xlink:href=\"#DejaVuSans-Bold-65\"/>\n     <use x=\"1733.642578\" xlink:href=\"#DejaVuSans-Bold-20\"/>\n     <use x=\"1768.457031\" xlink:href=\"#DejaVuSans-Bold-76\"/>\n     <use x=\"1833.642578\" xlink:href=\"#DejaVuSans-Bold-61\"/>\n     <use x=\"1901.123047\" xlink:href=\"#DejaVuSans-Bold-6c\"/>\n     <use x=\"1935.400391\" xlink:href=\"#DejaVuSans-Bold-75\"/>\n     <use x=\"2006.591797\" xlink:href=\"#DejaVuSans-Bold-65\"/>\n     <use x=\"2074.414062\" xlink:href=\"#DejaVuSans-Bold-73\"/>\n    </g>\n    <!--  -->\n    <g style=\"fill:#ff0000;\" transform=\"translate(263.803125 41.03325)scale(0.18 -0.18)\"/>\n   </g>\n  </g>\n </g>\n <defs>\n  <clipPath id=\"p6260b67dcc\">\n   <rect height=\"326.16\" width=\"446.4\" x=\"40.603125\" y=\"47.03325\"/>\n  </clipPath>\n </defs>\n</svg>\n",
      "image/png": "[encoded data removed]"
     },
     "metadata": {
      "needs_background": "light"
     }
    }
   ],
   "source": [
    "test_predict = lr_model.evaluateTestData(True)"
   ]
  },
  {
   "source": [
    "> **Nhận xét**\n",
    "> * Giữa thực tế và dự đoán ko chênh nhau nhiều"
   ],
   "cell_type": "markdown",
   "metadata": {}
  },
  {
   "cell_type": "code",
   "execution_count": 27,
   "metadata": {},
   "outputs": [
    {
     "output_type": "stream",
     "name": "stdout",
     "text": [
      "+----------------------------------------+-----+------------------+\n|features                                |crew |predict_crew      |\n+----------------------------------------+-----+------------------+\n|[0.0,4.0,220.0,54.0,11.82,27.0,40.74]   |21.0 |21.80413810263026 |\n|[0.0,5.0,160.0,36.34,11.12,18.17,44.03] |13.6 |15.657275457660308|\n|[0.0,6.0,158.0,43.7,11.25,18.0,36.16]   |13.6 |14.283314478847638|\n|[0.0,7.0,158.0,43.7,11.12,18.0,36.16]   |13.6 |14.23282650571903 |\n|[0.0,10.0,90.09,25.01,9.62,10.5,36.02]  |8.58 |8.914922132484973 |\n|[0.0,10.0,138.0,31.14,10.2,15.57,44.32] |11.85|13.467106863771189|\n|[0.0,11.0,90.09,25.01,9.62,10.5,36.02]  |8.48 |8.902580645785896 |\n|[0.0,13.0,138.0,31.14,10.2,15.57,44.32] |11.76|13.430082403673959|\n|[0.0,14.0,138.0,31.14,10.2,15.57,44.32] |11.76|13.417740916974882|\n|[0.0,17.0,74.137,19.5,9.16,9.75,38.02]  |7.6  |8.570581681027916 |\n|[0.0,18.0,70.0,18.0,8.67,9.0,38.89]     |7.2  |7.932459594841203 |\n|[0.0,25.0,73.192,28.52,8.8,11.38,25.66] |8.08 |8.233428176555849 |\n|[1.0,10.0,110.0,29.74,9.51,14.87,36.99] |11.6 |12.270466409649318|\n|[1.0,11.0,86.0,21.24,9.63,10.62,40.49]  |9.3  |9.55770549380534  |\n|[1.0,15.0,70.367,20.52,8.55,10.2,34.29] |9.2  |8.589495551108483 |\n|[1.0,17.0,70.367,20.52,8.55,10.2,34.29] |9.2  |8.56481257771033  |\n|[1.0,19.0,70.367,20.52,8.55,10.2,34.29] |9.2  |8.540129604312176 |\n|[1.0,22.0,70.367,20.52,8.55,10.2,34.29] |9.2  |8.503105144214947 |\n|[1.0,23.0,70.367,20.56,8.55,10.22,34.23]|9.2  |8.500896178438081 |\n|[1.0,28.0,46.052,14.52,7.27,7.26,31.72] |6.6  |6.0097700059214425|\n+----------------------------------------+-----+------------------+\nonly showing top 20 rows\n\n"
     ]
    }
   ],
   "source": [
    "test_predict.show(truncate=False)"
   ]
  },
  {
   "cell_type": "code",
   "execution_count": null,
   "metadata": {},
   "outputs": [],
   "source": []
  }
 ]
}