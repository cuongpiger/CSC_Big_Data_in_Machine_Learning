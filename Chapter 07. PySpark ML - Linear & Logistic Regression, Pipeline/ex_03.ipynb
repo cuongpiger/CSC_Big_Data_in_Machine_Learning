{
 "metadata": {
  "language_info": {
   "codemirror_mode": {
    "name": "ipython",
    "version": 3
   },
   "file_extension": ".py",
   "mimetype": "text/x-python",
   "name": "python",
   "nbconvert_exporter": "python",
   "pygments_lexer": "ipython3",
   "version": "3.8.5"
  },
  "orig_nbformat": 2,
  "kernelspec": {
   "name": "python38564bit207240a302f84cf383d7b6dbf8fca3f2",
   "display_name": "Python 3.8.5 64-bit"
  },
  "metadata": {
   "interpreter": {
    "hash": "31f2aee4e71d21fbe5cf8b01ff0e069b9275f58929596ceb00d14d90e3e16cd6"
   }
  }
 },
 "nbformat": 4,
 "nbformat_minor": 2,
 "cells": [
  {
   "source": [
    "![](./images/07_00.jpg)\n",
    "\n",
    "* Một công ty quảng cáo trên website đang muốn xây dựng một logistic regression model để dự đoán xem các khách hàng của họ liệu có **rời đi** _(tức là ngừng sử dụng dịch vụ của họ)_ trong tương lai hay ko để họ có thể đề ra những chính sách cần thiết cho khách hàng của họ. Họ có một tập dữ liệu là `customer_churn.csv`, dưới đây là các đặc trưng:\n",
    "  * `Name`: tên khách hàng.\n",
    "  * `Age`: tuổi của khách hàng.\n",
    "  * `Total_Purchase`: tổng số tiền mà khách hàng này đã cúng cho công ty quảng cáo.\n",
    "  * `Years`: số năm mà khách hàng này gắn bó vs công ty.\n",
    "  * `Num_sites`: số lượng website mà khách hàng này đặt quảng cáo.\n",
    "  * `Onboard_date`: ngày mà khách hàng này bắt đầu sử dụng dịch vụ của công ty quảng cáo.\n",
    "  * `Location`: địa chỉ khách hàng.\n",
    "  * `Company`: tên công ty.\n",
    "  * `Account_Manager`: bằng $1$ nếu khách hàng có rủi ro cao sẽ rời bỏ công ty, ngược lại là $0$.\n",
    "  * `Churn`: rời bỏ công ty $1$ và ngược lại là $0$.\n",
    "* Khi xây dựng xong model, nhớ đánh giá model này, kiểm tra model bằng dữ liệu mới trong file `new_customer.csv`. Công ty quảng cáo muốn biết rằng khách hàng nó có khả năng sẽ rời bỏ công ty họ."
   ],
   "cell_type": "markdown",
   "metadata": {}
  },
  {
   "cell_type": "code",
   "execution_count": 1,
   "metadata": {},
   "outputs": [],
   "source": [
    "%load_ext autoreload\n",
    "%autoreload 2"
   ]
  },
  {
   "cell_type": "code",
   "execution_count": 2,
   "metadata": {},
   "outputs": [],
   "source": [
    "from modules.my_pyspark import *"
   ]
  },
  {
   "cell_type": "code",
   "execution_count": 3,
   "metadata": {},
   "outputs": [],
   "source": [
    "spark = MyPySpark(session=True)"
   ]
  },
  {
   "source": [
    "# 1. Đọc dữ liệu"
   ],
   "cell_type": "markdown",
   "metadata": {}
  },
  {
   "cell_type": "code",
   "execution_count": 4,
   "metadata": {},
   "outputs": [],
   "source": [
    "customers_data_path: str = r\"./data/customer_churn.csv\""
   ]
  },
  {
   "cell_type": "code",
   "execution_count": 5,
   "metadata": {},
   "outputs": [],
   "source": [
    "customers_data = spark.readFile(customers_data_path)"
   ]
  },
  {
   "source": [
    "* Schema "
   ],
   "cell_type": "markdown",
   "metadata": {}
  },
  {
   "cell_type": "code",
   "execution_count": 6,
   "metadata": {},
   "outputs": [
    {
     "output_type": "stream",
     "name": "stdout",
     "text": [
      "root\n |-- Names: string (nullable = true)\n |-- Age: double (nullable = true)\n |-- Total_Purchase: double (nullable = true)\n |-- Account_Manager: integer (nullable = true)\n |-- Years: double (nullable = true)\n |-- Num_Sites: double (nullable = true)\n |-- Onboard_date: string (nullable = true)\n |-- Location: string (nullable = true)\n |-- Company: string (nullable = true)\n |-- Churn: integer (nullable = true)\n\n"
     ]
    }
   ],
   "source": [
    "customers_data.printSchema()"
   ]
  },
  {
   "source": [
    "* Thống kê mô tả"
   ],
   "cell_type": "markdown",
   "metadata": {}
  },
  {
   "cell_type": "code",
   "execution_count": 7,
   "metadata": {},
   "outputs": [
    {
     "output_type": "execute_result",
     "data": {
      "text/plain": [
       "  summary          Names                Age     Total_Purchase  \\\n",
       "0   count            900                900                900   \n",
       "1    mean           None  41.81666666666667  10062.82403333334   \n",
       "2  stddev           None  6.127560416916251  2408.644531858096   \n",
       "3     min     Aaron King               22.0              100.0   \n",
       "4     max  Zachary Walsh               65.0           18026.01   \n",
       "\n",
       "      Account_Manager              Years           Num_Sites  \\\n",
       "0                 900                900                 900   \n",
       "1  0.4811111111111111   5.27315555555555   8.587777777777777   \n",
       "2  0.4999208935073339  1.274449013194616  1.7648355920350969   \n",
       "3                   0                1.0                 3.0   \n",
       "4                   1               9.15                14.0   \n",
       "\n",
       "          Onboard_date                                           Location  \\\n",
       "0                  900                                                900   \n",
       "1                 None                                               None   \n",
       "2                 None                                               None   \n",
       "3  2006-01-02 04:16:13  00103 Jeffrey Crest Apt. 205 Padillaville, IA ...   \n",
       "4  2016-12-28 04:07:38                    Unit 9800 Box 2878 DPO AA 75157   \n",
       "\n",
       "                     Company                Churn  \n",
       "0                        900                  900  \n",
       "1                       None  0.16666666666666666  \n",
       "2                       None   0.3728852122772358  \n",
       "3            Abbott-Thompson                    0  \n",
       "4  Zuniga, Clark and Shaffer                    1  "
      ],
      "text/html": "<div>\n<style scoped>\n    .dataframe tbody tr th:only-of-type {\n        vertical-align: middle;\n    }\n\n    .dataframe tbody tr th {\n        vertical-align: top;\n    }\n\n    .dataframe thead th {\n        text-align: right;\n    }\n</style>\n<table border=\"1\" class=\"dataframe\">\n  <thead>\n    <tr style=\"text-align: right;\">\n      <th></th>\n      <th>summary</th>\n      <th>Names</th>\n      <th>Age</th>\n      <th>Total_Purchase</th>\n      <th>Account_Manager</th>\n      <th>Years</th>\n      <th>Num_Sites</th>\n      <th>Onboard_date</th>\n      <th>Location</th>\n      <th>Company</th>\n      <th>Churn</th>\n    </tr>\n  </thead>\n  <tbody>\n    <tr>\n      <th>0</th>\n      <td>count</td>\n      <td>900</td>\n      <td>900</td>\n      <td>900</td>\n      <td>900</td>\n      <td>900</td>\n      <td>900</td>\n      <td>900</td>\n      <td>900</td>\n      <td>900</td>\n      <td>900</td>\n    </tr>\n    <tr>\n      <th>1</th>\n      <td>mean</td>\n      <td>None</td>\n      <td>41.81666666666667</td>\n      <td>10062.82403333334</td>\n      <td>0.4811111111111111</td>\n      <td>5.27315555555555</td>\n      <td>8.587777777777777</td>\n      <td>None</td>\n      <td>None</td>\n      <td>None</td>\n      <td>0.16666666666666666</td>\n    </tr>\n    <tr>\n      <th>2</th>\n      <td>stddev</td>\n      <td>None</td>\n      <td>6.127560416916251</td>\n      <td>2408.644531858096</td>\n      <td>0.4999208935073339</td>\n      <td>1.274449013194616</td>\n      <td>1.7648355920350969</td>\n      <td>None</td>\n      <td>None</td>\n      <td>None</td>\n      <td>0.3728852122772358</td>\n    </tr>\n    <tr>\n      <th>3</th>\n      <td>min</td>\n      <td>Aaron King</td>\n      <td>22.0</td>\n      <td>100.0</td>\n      <td>0</td>\n      <td>1.0</td>\n      <td>3.0</td>\n      <td>2006-01-02 04:16:13</td>\n      <td>00103 Jeffrey Crest Apt. 205 Padillaville, IA ...</td>\n      <td>Abbott-Thompson</td>\n      <td>0</td>\n    </tr>\n    <tr>\n      <th>4</th>\n      <td>max</td>\n      <td>Zachary Walsh</td>\n      <td>65.0</td>\n      <td>18026.01</td>\n      <td>1</td>\n      <td>9.15</td>\n      <td>14.0</td>\n      <td>2016-12-28 04:07:38</td>\n      <td>Unit 9800 Box 2878 DPO AA 75157</td>\n      <td>Zuniga, Clark and Shaffer</td>\n      <td>1</td>\n    </tr>\n  </tbody>\n</table>\n</div>"
     },
     "metadata": {},
     "execution_count": 7
    }
   ],
   "source": [
    "customers_data.describe().toPandas()"
   ]
  },
  {
   "source": [
    "> **Nhận xét**:\n",
    "> * Tập data có 900 sample.\n",
    "> * Ko có missing value\n",
    "> * Feature `Onboard_date` cần chuẩn lại data type.\n",
    "> * Mặc dù cho chênh lệch thang đo lớn ở feature `Total_Purchase` so với các feature khác, nhưng với logistic regression model thì ta ko cần thiết phải normalize hay standardize dữ liệu."
   ],
   "cell_type": "markdown",
   "metadata": {}
  },
  {
   "source": [
    "* Xem qua dữ liệu"
   ],
   "cell_type": "markdown",
   "metadata": {}
  },
  {
   "cell_type": "code",
   "execution_count": 8,
   "metadata": {},
   "outputs": [
    {
     "output_type": "stream",
     "name": "stdout",
     "text": [
      "-RECORD 0-------------------------------------------------------------\n Names           | Cameron Williams                                   \n Age             | 42.0                                               \n Total_Purchase  | 11066.8                                            \n Account_Manager | 0                                                  \n Years           | 7.22                                               \n Num_Sites       | 8.0                                                \n Onboard_date    | 2013-08-30 07:00:40                                \n Location        | 10265 Elizabeth Mission Barkerburgh, AK 89518      \n Company         | Harvey LLC                                         \n Churn           | 1                                                  \n-RECORD 1-------------------------------------------------------------\n Names           | Kevin Mueller                                      \n Age             | 41.0                                               \n Total_Purchase  | 11916.22                                           \n Account_Manager | 0                                                  \n Years           | 6.5                                                \n Num_Sites       | 11.0                                               \n Onboard_date    | 2013-08-13 00:38:46                                \n Location        | 6157 Frank Gardens Suite 019 Carloshaven, RI 17756 \n Company         | Wilson PLC                                         \n Churn           | 1                                                  \n-RECORD 2-------------------------------------------------------------\n Names           | Eric Lozano                                        \n Age             | 38.0                                               \n Total_Purchase  | 12884.75                                           \n Account_Manager | 0                                                  \n Years           | 6.67                                               \n Num_Sites       | 12.0                                               \n Onboard_date    | 2016-06-29 06:20:07                                \n Location        | 1331 Keith Court Alyssahaven, DE 90114             \n Company         | Miller, Johnson and Wallace                        \n Churn           | 1                                                  \nonly showing top 3 rows\n\n"
     ]
    }
   ],
   "source": [
    "customers_data.show(3, False, True)"
   ]
  },
  {
   "source": [
    "# 2. Chuẩn hóa dữ liệu"
   ],
   "cell_type": "markdown",
   "metadata": {}
  },
  {
   "source": [
    "## 2.1. Chuyển feature `Onboard_date` thành `DateType()` datatype"
   ],
   "cell_type": "markdown",
   "metadata": {}
  },
  {
   "cell_type": "code",
   "execution_count": 9,
   "metadata": {},
   "outputs": [],
   "source": [
    "from pyspark.sql.types import DateType\n",
    "from pyspark.sql.functions import col, udf\n",
    "from datetime import datetime"
   ]
  },
  {
   "source": [
    "* User define function"
   ],
   "cell_type": "markdown",
   "metadata": {}
  },
  {
   "cell_type": "code",
   "execution_count": 10,
   "metadata": {},
   "outputs": [],
   "source": [
    "standard_Onboard_date = udf(lambda x: datetime.strptime(x, '%Y-%m-%d %H:%M:%S'), DateType())"
   ]
  },
  {
   "source": [
    "* Tạo feature mới có tên là `Onboard_date_sd` với giá trị đã dc chuẩn hóa sang `DateType()` từ feature `Onboard_date`"
   ],
   "cell_type": "markdown",
   "metadata": {}
  },
  {
   "cell_type": "code",
   "execution_count": 11,
   "metadata": {},
   "outputs": [],
   "source": [
    "customers_data = customers_data.withColumn('Onboard_date_sd', standard_Onboard_date(col('Onboard_date')))"
   ]
  },
  {
   "source": [
    "show_features = customers_data.columns.copy()\n",
    "show_features.remove('Onboard_date_sd')"
   ],
   "cell_type": "code",
   "metadata": {},
   "execution_count": 12,
   "outputs": []
  },
  {
   "cell_type": "code",
   "execution_count": 13,
   "metadata": {},
   "outputs": [
    {
     "output_type": "execute_result",
     "data": {
      "text/plain": [
       "['Names',\n",
       " 'Age',\n",
       " 'Total_Purchase',\n",
       " 'Account_Manager',\n",
       " 'Years',\n",
       " 'Num_Sites',\n",
       " 'Onboard_date',\n",
       " 'Location',\n",
       " 'Company',\n",
       " 'Churn']"
      ]
     },
     "metadata": {},
     "execution_count": 13
    }
   ],
   "source": [
    "show_features"
   ]
  },
  {
   "source": [
    "# 3. Chuyển đổi dữ liệu\n",
    "* Lựa chọn thuộc tính:\n",
    "  * Predictor variables: `Age`, `Total_Purchase`, `Account_Manager`, `Years`, `Num_Sites`, `Onboard_date_sd`\n",
    "  * Target varible: `Churn`"
   ],
   "cell_type": "markdown",
   "metadata": {}
  },
  {
   "source": [
    "<hr>"
   ],
   "cell_type": "markdown",
   "metadata": {}
  },
  {
   "source": [
    "* Indexer feature `Onboard_date_sd` theo tháng"
   ],
   "cell_type": "markdown",
   "metadata": {}
  },
  {
   "cell_type": "code",
   "execution_count": 14,
   "metadata": {},
   "outputs": [],
   "source": [
    "from pyspark.sql.functions import month\n",
    "from modules.my_spark_logistic_regression import *"
   ]
  },
  {
   "cell_type": "code",
   "execution_count": 15,
   "metadata": {},
   "outputs": [],
   "source": [
    "customers_data = customers_data.withColumn('Month', month('Onboard_date_sd'))"
   ]
  },
  {
   "cell_type": "code",
   "execution_count": 16,
   "metadata": {},
   "outputs": [
    {
     "output_type": "stream",
     "name": "stdout",
     "text": [
      "-RECORD 0-------------------------------------------------------------\n Names           | Cameron Williams                                   \n Age             | 42.0                                               \n Total_Purchase  | 11066.8                                            \n Account_Manager | 0                                                  \n Years           | 7.22                                               \n Num_Sites       | 8.0                                                \n Onboard_date    | 2013-08-30 07:00:40                                \n Location        | 10265 Elizabeth Mission Barkerburgh, AK 89518      \n Company         | Harvey LLC                                         \n Churn           | 1                                                  \n Onboard_date_sd | 2013-08-30                                         \n Month           | 8                                                  \n-RECORD 1-------------------------------------------------------------\n Names           | Kevin Mueller                                      \n Age             | 41.0                                               \n Total_Purchase  | 11916.22                                           \n Account_Manager | 0                                                  \n Years           | 6.5                                                \n Num_Sites       | 11.0                                               \n Onboard_date    | 2013-08-13 00:38:46                                \n Location        | 6157 Frank Gardens Suite 019 Carloshaven, RI 17756 \n Company         | Wilson PLC                                         \n Churn           | 1                                                  \n Onboard_date_sd | 2013-08-13                                         \n Month           | 8                                                  \n-RECORD 2-------------------------------------------------------------\n Names           | Eric Lozano                                        \n Age             | 38.0                                               \n Total_Purchase  | 12884.75                                           \n Account_Manager | 0                                                  \n Years           | 6.67                                               \n Num_Sites       | 12.0                                               \n Onboard_date    | 2016-06-29 06:20:07                                \n Location        | 1331 Keith Court Alyssahaven, DE 90114             \n Company         | Miller, Johnson and Wallace                        \n Churn           | 1                                                  \n Onboard_date_sd | 2016-06-29                                         \n Month           | 6                                                  \nonly showing top 3 rows\n\n"
     ]
    }
   ],
   "source": [
    "customers_data.show(3, False, True)"
   ]
  },
  {
   "source": [
    "* Khởi tạo list `predictor_fts` chứa các predictor variables và `target_ft` chứa target variable với feature `Onboard_date_sd` thay bằng `Month`"
   ],
   "cell_type": "markdown",
   "metadata": {}
  },
  {
   "cell_type": "code",
   "execution_count": 17,
   "metadata": {},
   "outputs": [],
   "source": [
    "predictor_fts = ['Age', 'Total_Purchase', 'Account_Manager', 'Years', 'Num_Sites', 'Month']\n",
    "target_ft = 'Churn'"
   ]
  },
  {
   "cell_type": "code",
   "execution_count": 18,
   "metadata": {},
   "outputs": [],
   "source": [
    "log_model = MySparkLogisticRegression(customers_data, predictor_fts, target_ft)"
   ]
  },
  {
   "source": [
    "* Assembler"
   ],
   "cell_type": "markdown",
   "metadata": {}
  },
  {
   "cell_type": "code",
   "execution_count": 19,
   "metadata": {},
   "outputs": [],
   "source": [
    "log_model.prepareData()"
   ]
  },
  {
   "cell_type": "code",
   "execution_count": 20,
   "metadata": {},
   "outputs": [
    {
     "output_type": "stream",
     "name": "stdout",
     "text": [
      "+---------------------------------+-----+\n|features                         |Churn|\n+---------------------------------+-----+\n|[42.0,11066.8,0.0,7.22,8.0,8.0]  |1    |\n|[41.0,11916.22,0.0,6.5,11.0,8.0] |1    |\n|[38.0,12884.75,0.0,6.67,12.0,6.0]|1    |\n+---------------------------------+-----+\nonly showing top 3 rows\n\n"
     ]
    }
   ],
   "source": [
    "log_model.df_data.show(3, False)"
   ]
  },
  {
   "source": [
    "# 4. Xây dựng model"
   ],
   "cell_type": "markdown",
   "metadata": {}
  },
  {
   "cell_type": "code",
   "execution_count": 21,
   "metadata": {},
   "outputs": [],
   "source": [
    "log_model.buildModel()"
   ]
  },
  {
   "source": [
    "# 5. Đánh giá kết quả"
   ],
   "cell_type": "markdown",
   "metadata": {}
  },
  {
   "source": [
    "## 5.1. Đánh giá trên train data"
   ],
   "cell_type": "markdown",
   "metadata": {}
  },
  {
   "cell_type": "code",
   "execution_count": 22,
   "metadata": {},
   "outputs": [
    {
     "output_type": "execute_result",
     "data": {
      "text/plain": [
       "           Metric     Value     Range Model performance\n",
       "0        Accuracy  0.895556    [0, 1]    high is better\n",
       "1  Area under ROC  0.908053  [0.5, 1]    high is better\n",
       "2       Presicion  0.888688    [0, 1]    high is better\n",
       "3          Recall  0.895556    [0, 1]    high is better\n",
       "4        F1-Score  0.892109    [0, 1]    high is better"
      ],
      "text/html": "<div>\n<style scoped>\n    .dataframe tbody tr th:only-of-type {\n        vertical-align: middle;\n    }\n\n    .dataframe tbody tr th {\n        vertical-align: top;\n    }\n\n    .dataframe thead th {\n        text-align: right;\n    }\n</style>\n<table border=\"1\" class=\"dataframe\">\n  <thead>\n    <tr style=\"text-align: right;\">\n      <th></th>\n      <th>Metric</th>\n      <th>Value</th>\n      <th>Range</th>\n      <th>Model performance</th>\n    </tr>\n  </thead>\n  <tbody>\n    <tr>\n      <th>0</th>\n      <td>Accuracy</td>\n      <td>0.895556</td>\n      <td>[0, 1]</td>\n      <td>high is better</td>\n    </tr>\n    <tr>\n      <th>1</th>\n      <td>Area under ROC</td>\n      <td>0.908053</td>\n      <td>[0.5, 1]</td>\n      <td>high is better</td>\n    </tr>\n    <tr>\n      <th>2</th>\n      <td>Presicion</td>\n      <td>0.888688</td>\n      <td>[0, 1]</td>\n      <td>high is better</td>\n    </tr>\n    <tr>\n      <th>3</th>\n      <td>Recall</td>\n      <td>0.895556</td>\n      <td>[0, 1]</td>\n      <td>high is better</td>\n    </tr>\n    <tr>\n      <th>4</th>\n      <td>F1-Score</td>\n      <td>0.892109</td>\n      <td>[0, 1]</td>\n      <td>high is better</td>\n    </tr>\n  </tbody>\n</table>\n</div>"
     },
     "metadata": {},
     "execution_count": 22
    }
   ],
   "source": [
    "log_model.evaluateTrainData()"
   ]
  },
  {
   "source": [
    "> **Nhận xét**:\n",
    "> * Các giá trị đánh giá rât tốt, đa đạt ngưỡng hoặc hơn $90\\%$."
   ],
   "cell_type": "markdown",
   "metadata": {}
  },
  {
   "source": [
    "## 5.2. Đánh giá trên test data (ko có dữ liệu test data)\n",
    "# 6. Dự đoán cho tập dữ liệu mới\n",
    "## 6.1. Đọc dữ liệu"
   ],
   "cell_type": "markdown",
   "metadata": {}
  },
  {
   "cell_type": "code",
   "execution_count": 23,
   "metadata": {},
   "outputs": [],
   "source": [
    "customers_test_data_path = r\"./data/new_customers.csv\""
   ]
  },
  {
   "cell_type": "code",
   "execution_count": 24,
   "metadata": {},
   "outputs": [],
   "source": [
    "customers_test_data = spark.readFile(customers_test_data_path)"
   ]
  },
  {
   "source": [
    "## 6.2. Chuẩn hóa và chuyển đổi dữ liệu"
   ],
   "cell_type": "markdown",
   "metadata": {}
  },
  {
   "cell_type": "code",
   "execution_count": 25,
   "metadata": {},
   "outputs": [],
   "source": [
    "customers_test_data = customers_test_data.withColumn('Onboard_date_sd', standard_Onboard_date(col('Onboard_date')))"
   ]
  },
  {
   "cell_type": "code",
   "execution_count": 26,
   "metadata": {},
   "outputs": [],
   "source": [
    "customers_test_data = customers_test_data.withColumn('Month', month('Onboard_date_sd'))"
   ]
  },
  {
   "cell_type": "code",
   "execution_count": 27,
   "metadata": {},
   "outputs": [
    {
     "output_type": "stream",
     "name": "stdout",
     "text": [
      "-RECORD 0--------------------------------------------------------------------\n Names           | Andrew Mccall                                             \n Age             | 37.0                                                      \n Total_Purchase  | 9935.53                                                   \n Account_Manager | 1                                                         \n Years           | 7.71                                                      \n Num_Sites       | 8.0                                                       \n Onboard_date    | 2011-08-29 18:37:54                                       \n Location        | 38612 Johnny Stravenue Nataliebury, WI 15717-8316         \n Company         | King Ltd                                                  \n Onboard_date_sd | 2011-08-29                                                \n Month           | 8                                                         \n-RECORD 1--------------------------------------------------------------------\n Names           | Michele Wright                                            \n Age             | 23.0                                                      \n Total_Purchase  | 7526.94                                                   \n Account_Manager | 1                                                         \n Years           | 9.28                                                      \n Num_Sites       | 15.0                                                      \n Onboard_date    | 2013-07-22 18:19:54                                       \n Location        | 21083 Nicole Junction Suite 332, Youngport, ME 23686-4381 \n Company         | Cannon-Benson                                             \n Onboard_date_sd | 2013-07-22                                                \n Month           | 7                                                         \n-RECORD 2--------------------------------------------------------------------\n Names           | Jeremy Chang                                              \n Age             | 65.0                                                      \n Total_Purchase  | 100.0                                                     \n Account_Manager | 1                                                         \n Years           | 1.0                                                       \n Num_Sites       | 15.0                                                      \n Onboard_date    | 2006-12-11 07:48:13                                       \n Location        | 085 Austin Views Lake Julialand, WY 63726-4298            \n Company         | Barron-Robertson                                          \n Onboard_date_sd | 2006-12-11                                                \n Month           | 12                                                        \nonly showing top 3 rows\n\n"
     ]
    }
   ],
   "source": [
    "customers_test_data.show(3, False, True)"
   ]
  },
  {
   "source": [
    "## 6.3. Dự đoán cho `customers_test_data`"
   ],
   "cell_type": "markdown",
   "metadata": {}
  },
  {
   "cell_type": "code",
   "execution_count": 28,
   "metadata": {},
   "outputs": [],
   "source": [
    "predicted_customers_test_data = log_model.predict(customers_test_data)"
   ]
  },
  {
   "cell_type": "code",
   "execution_count": 29,
   "metadata": {},
   "outputs": [
    {
     "output_type": "stream",
     "name": "stdout",
     "text": [
      "+--------------------+--------------------+--------------------+----------+\n|            features|       rawPrediction|         probability|prediction|\n+--------------------+--------------------+--------------------+----------+\n|[37.0,9935.53,1.0...|[2.22343461620499...|[0.90233429706111...|       0.0|\n|[23.0,7526.94,1.0...|[-6.2203345510752...|[0.00198463322286...|       1.0|\n|[65.0,100.0,1.0,1...|[-3.7611128554502...|[0.02272921092289...|       1.0|\n|[32.0,6487.5,0.0,...|[-5.0913101761067...|[0.00611236628931...|       1.0|\n|[32.0,13147.71,1....|[1.10051548060227...|[0.75035667867300...|       0.0|\n|[22.0,8445.26,1.0...|[-1.6948282326692...|[0.15514193533747...|       1.0|\n+--------------------+--------------------+--------------------+----------+\n\n"
     ]
    }
   ],
   "source": [
    "predicted_customers_test_data.show()"
   ]
  },
  {
   "cell_type": "code",
   "execution_count": null,
   "metadata": {},
   "outputs": [],
   "source": []
  }
 ]
}