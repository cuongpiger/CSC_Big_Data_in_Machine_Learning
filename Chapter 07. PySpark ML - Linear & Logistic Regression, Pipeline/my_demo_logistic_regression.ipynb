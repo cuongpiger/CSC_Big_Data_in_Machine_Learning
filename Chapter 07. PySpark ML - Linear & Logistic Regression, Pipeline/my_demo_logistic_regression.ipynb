{
 "metadata": {
  "language_info": {
   "codemirror_mode": {
    "name": "ipython",
    "version": 3
   },
   "file_extension": ".py",
   "mimetype": "text/x-python",
   "name": "python",
   "nbconvert_exporter": "python",
   "pygments_lexer": "ipython3",
   "version": "3.8.5"
  },
  "orig_nbformat": 2,
  "kernelspec": {
   "name": "python38564bit207240a302f84cf383d7b6dbf8fca3f2",
   "display_name": "Python 3.8.5 64-bit"
  },
  "metadata": {
   "interpreter": {
    "hash": "916dbcbb3f70747c44a77c7bcd40155683ae19c65e1c03b4aa3499c5328201f1"
   }
  }
 },
 "nbformat": 4,
 "nbformat_minor": 2,
 "cells": [
  {
   "cell_type": "code",
   "execution_count": 1,
   "metadata": {},
   "outputs": [],
   "source": [
    "%load_ext autoreload\n",
    "%autoreload 2"
   ]
  },
  {
   "source": [
    "# 2. Logistic Regression\n",
    "## 2.5. Triển khai Logistic Regression\n",
    "### 2.5.1. Ví dụ:\n",
    "* Xây dựng logistic model để dự đoán `delay` (giá trị classification là chuyến bay có bị delay hay ko) từ `mon` (khoảng không gian cất cánh an toàn), `dom` (trong một tháng sẽ có bao nhiêu chuyến bay đến nơi dc chỉ định), `dow` (một tuần sẽ có bao nhiêu chuyến bay đến nơi dc chỉ định), `carrier` (hãng vận tải), `org` (nơi xuất phát), `km` (= `mile` * 1.60934) (độ dài đường bay), `depart` (thời gian khởi hành), `duration` (thời gian bay).\n"
   ],
   "cell_type": "markdown",
   "metadata": {}
  },
  {
   "source": [
    "from modules.my_pyspark import *"
   ],
   "cell_type": "code",
   "metadata": {},
   "execution_count": 2,
   "outputs": []
  },
  {
   "cell_type": "code",
   "execution_count": 3,
   "metadata": {},
   "outputs": [],
   "source": [
    "spark = MyPySpark(session=True)"
   ]
  },
  {
   "source": [
    "### 2.5.2. Đọc dữ liệu"
   ],
   "cell_type": "markdown",
   "metadata": {}
  },
  {
   "cell_type": "code",
   "execution_count": 4,
   "metadata": {},
   "outputs": [],
   "source": [
    "data_path = r\"./data/flights.csv\""
   ]
  },
  {
   "cell_type": "code",
   "execution_count": 5,
   "metadata": {},
   "outputs": [],
   "source": [
    "data = spark.readFile(data_path, 'csv')"
   ]
  },
  {
   "cell_type": "code",
   "execution_count": 6,
   "metadata": {},
   "outputs": [
    {
     "output_type": "stream",
     "name": "stdout",
     "text": [
      "+---+---+---+-------+------+---+----+------+--------+-----+\n|mon|dom|dow|carrier|flight|org|mile|depart|duration|delay|\n+---+---+---+-------+------+---+----+------+--------+-----+\n|11 |20 |6  |US     |19    |JFK|2153|9.48  |351     |NA   |\n|0  |22 |2  |UA     |1107  |ORD|316 |16.33 |82      |30   |\n|2  |20 |4  |UA     |226   |SFO|337 |6.17  |82      |-8   |\n+---+---+---+-------+------+---+----+------+--------+-----+\nonly showing top 3 rows\n\n"
     ]
    }
   ],
   "source": [
    "data.show(3, False)"
   ]
  },
  {
   "cell_type": "code",
   "execution_count": 7,
   "metadata": {},
   "outputs": [
    {
     "output_type": "execute_result",
     "data": {
      "text/plain": [
       "  summary                mon                dom                dow carrier  \\\n",
       "0   count              50000              50000              50000   50000   \n",
       "1    mean             5.2351           15.66196            2.95236    None   \n",
       "2  stddev  3.437758623534696  8.772488135606777  1.966033503314405    None   \n",
       "3     min                  0                  1                  0      AA   \n",
       "4     max                 11                 31                  6      WN   \n",
       "\n",
       "               flight    org              mile              depart  \\\n",
       "0               50000  50000             50000               50000   \n",
       "1          2054.31344   None         882.40112  14.130952600000064   \n",
       "2  2182.4715300582875   None  701.232785607705   4.694052286573998   \n",
       "3                   1    JFK                67                0.25   \n",
       "4                6941    TUS              4243               23.98   \n",
       "\n",
       "            duration               delay  \n",
       "0              50000               50000  \n",
       "1          151.76582  28.663795670111863  \n",
       "2  87.04507290261697   54.24034253403119  \n",
       "3                 30                  -1  \n",
       "4                560                  NA  "
      ],
      "text/html": "<div>\n<style scoped>\n    .dataframe tbody tr th:only-of-type {\n        vertical-align: middle;\n    }\n\n    .dataframe tbody tr th {\n        vertical-align: top;\n    }\n\n    .dataframe thead th {\n        text-align: right;\n    }\n</style>\n<table border=\"1\" class=\"dataframe\">\n  <thead>\n    <tr style=\"text-align: right;\">\n      <th></th>\n      <th>summary</th>\n      <th>mon</th>\n      <th>dom</th>\n      <th>dow</th>\n      <th>carrier</th>\n      <th>flight</th>\n      <th>org</th>\n      <th>mile</th>\n      <th>depart</th>\n      <th>duration</th>\n      <th>delay</th>\n    </tr>\n  </thead>\n  <tbody>\n    <tr>\n      <th>0</th>\n      <td>count</td>\n      <td>50000</td>\n      <td>50000</td>\n      <td>50000</td>\n      <td>50000</td>\n      <td>50000</td>\n      <td>50000</td>\n      <td>50000</td>\n      <td>50000</td>\n      <td>50000</td>\n      <td>50000</td>\n    </tr>\n    <tr>\n      <th>1</th>\n      <td>mean</td>\n      <td>5.2351</td>\n      <td>15.66196</td>\n      <td>2.95236</td>\n      <td>None</td>\n      <td>2054.31344</td>\n      <td>None</td>\n      <td>882.40112</td>\n      <td>14.130952600000064</td>\n      <td>151.76582</td>\n      <td>28.663795670111863</td>\n    </tr>\n    <tr>\n      <th>2</th>\n      <td>stddev</td>\n      <td>3.437758623534696</td>\n      <td>8.772488135606777</td>\n      <td>1.966033503314405</td>\n      <td>None</td>\n      <td>2182.4715300582875</td>\n      <td>None</td>\n      <td>701.232785607705</td>\n      <td>4.694052286573998</td>\n      <td>87.04507290261697</td>\n      <td>54.24034253403119</td>\n    </tr>\n    <tr>\n      <th>3</th>\n      <td>min</td>\n      <td>0</td>\n      <td>1</td>\n      <td>0</td>\n      <td>AA</td>\n      <td>1</td>\n      <td>JFK</td>\n      <td>67</td>\n      <td>0.25</td>\n      <td>30</td>\n      <td>-1</td>\n    </tr>\n    <tr>\n      <th>4</th>\n      <td>max</td>\n      <td>11</td>\n      <td>31</td>\n      <td>6</td>\n      <td>WN</td>\n      <td>6941</td>\n      <td>TUS</td>\n      <td>4243</td>\n      <td>23.98</td>\n      <td>560</td>\n      <td>NA</td>\n    </tr>\n  </tbody>\n</table>\n</div>"
     },
     "metadata": {},
     "execution_count": 7
    }
   ],
   "source": [
    "data.describe().toPandas()"
   ]
  },
  {
   "source": [
    "### 2.5.3. Chuẩn hóa dữ liệu\n",
    "* Tạo cột `km` từ `mile`"
   ],
   "cell_type": "markdown",
   "metadata": {}
  },
  {
   "source": [
    "from pyspark.sql.functions import round"
   ],
   "cell_type": "code",
   "metadata": {},
   "execution_count": 8,
   "outputs": []
  },
  {
   "cell_type": "code",
   "execution_count": 9,
   "metadata": {},
   "outputs": [],
   "source": [
    "data = data.withColumn('km', round(data['mile'] * 1.60934, 0))"
   ]
  },
  {
   "cell_type": "code",
   "execution_count": 10,
   "metadata": {},
   "outputs": [
    {
     "output_type": "stream",
     "name": "stdout",
     "text": [
      "+---+---+---+-------+------+---+----+------+--------+-----+------+\n|mon|dom|dow|carrier|flight|org|mile|depart|duration|delay|    km|\n+---+---+---+-------+------+---+----+------+--------+-----+------+\n| 11| 20|  6|     US|    19|JFK|2153|  9.48|     351|   NA|3465.0|\n|  0| 22|  2|     UA|  1107|ORD| 316| 16.33|      82|   30| 509.0|\n|  2| 20|  4|     UA|   226|SFO| 337|  6.17|      82|   -8| 542.0|\n+---+---+---+-------+------+---+----+------+--------+-----+------+\nonly showing top 3 rows\n\n"
     ]
    }
   ],
   "source": [
    "data.show(3)"
   ]
  },
  {
   "source": [
    "* Tạo cột `label` tham chiếu từ cột `delay` với giá trị $1$ là có delay và $0$ là ko delay, quy ước `delay` $\\geq 15 \\text{ phút} \\Rightarrow$ có delay."
   ],
   "cell_type": "markdown",
   "metadata": {}
  },
  {
   "cell_type": "code",
   "execution_count": 11,
   "metadata": {},
   "outputs": [],
   "source": [
    "data = data.withColumn('label', (data['delay'] >= 15).cast('integer'))"
   ]
  },
  {
   "cell_type": "code",
   "execution_count": 12,
   "metadata": {},
   "outputs": [
    {
     "output_type": "stream",
     "name": "stdout",
     "text": [
      "+---+---+---+-------+------+---+----+------+--------+-----+------+-----+\n|mon|dom|dow|carrier|flight|org|mile|depart|duration|delay|    km|label|\n+---+---+---+-------+------+---+----+------+--------+-----+------+-----+\n| 11| 20|  6|     US|    19|JFK|2153|  9.48|     351|   NA|3465.0| null|\n|  0| 22|  2|     UA|  1107|ORD| 316| 16.33|      82|   30| 509.0|    1|\n|  2| 20|  4|     UA|   226|SFO| 337|  6.17|      82|   -8| 542.0|    0|\n+---+---+---+-------+------+---+----+------+--------+-----+------+-----+\nonly showing top 3 rows\n\n"
     ]
    }
   ],
   "source": [
    "data.show(3)"
   ]
  },
  {
   "source": [
    "* Chuẩn cột `carrier`, `org` thành dữ liệu số"
   ],
   "cell_type": "markdown",
   "metadata": {}
  },
  {
   "cell_type": "code",
   "execution_count": 13,
   "metadata": {},
   "outputs": [],
   "source": [
    "import modules.my_spark_preprocessing as SP"
   ]
  },
  {
   "cell_type": "code",
   "execution_count": 14,
   "metadata": {},
   "outputs": [],
   "source": [
    "data = SP.oneHotEncoder(data, ['carrier', 'org'])"
   ]
  },
  {
   "cell_type": "code",
   "execution_count": 15,
   "metadata": {},
   "outputs": [
    {
     "output_type": "execute_result",
     "data": {
      "text/plain": [
       "   mon  dom  dow carrier  flight  org  mile  depart  duration delay      km  \\\n",
       "0   11   20    6      US      19  JFK  2153    9.48       351    NA  3465.0   \n",
       "1    0   22    2      UA    1107  ORD   316   16.33        82    30   509.0   \n",
       "2    2   20    4      UA     226  SFO   337    6.17        82    -8   542.0   \n",
       "\n",
       "   label  idx_carrier  idx_org                                     oh_carrier  \\\n",
       "0    NaN          6.0      2.0  (0.0, 0.0, 0.0, 0.0, 0.0, 0.0, 1.0, 0.0, 0.0)   \n",
       "1    1.0          0.0      0.0  (1.0, 0.0, 0.0, 0.0, 0.0, 0.0, 0.0, 0.0, 0.0)   \n",
       "2    0.0          0.0      1.0  (1.0, 0.0, 0.0, 0.0, 0.0, 0.0, 0.0, 0.0, 0.0)   \n",
       "\n",
       "                                     oh_org  \n",
       "0  (0.0, 0.0, 1.0, 0.0, 0.0, 0.0, 0.0, 0.0)  \n",
       "1  (1.0, 0.0, 0.0, 0.0, 0.0, 0.0, 0.0, 0.0)  \n",
       "2  (0.0, 1.0, 0.0, 0.0, 0.0, 0.0, 0.0, 0.0)  "
      ],
      "text/html": "<div>\n<style scoped>\n    .dataframe tbody tr th:only-of-type {\n        vertical-align: middle;\n    }\n\n    .dataframe tbody tr th {\n        vertical-align: top;\n    }\n\n    .dataframe thead th {\n        text-align: right;\n    }\n</style>\n<table border=\"1\" class=\"dataframe\">\n  <thead>\n    <tr style=\"text-align: right;\">\n      <th></th>\n      <th>mon</th>\n      <th>dom</th>\n      <th>dow</th>\n      <th>carrier</th>\n      <th>flight</th>\n      <th>org</th>\n      <th>mile</th>\n      <th>depart</th>\n      <th>duration</th>\n      <th>delay</th>\n      <th>km</th>\n      <th>label</th>\n      <th>idx_carrier</th>\n      <th>idx_org</th>\n      <th>oh_carrier</th>\n      <th>oh_org</th>\n    </tr>\n  </thead>\n  <tbody>\n    <tr>\n      <th>0</th>\n      <td>11</td>\n      <td>20</td>\n      <td>6</td>\n      <td>US</td>\n      <td>19</td>\n      <td>JFK</td>\n      <td>2153</td>\n      <td>9.48</td>\n      <td>351</td>\n      <td>NA</td>\n      <td>3465.0</td>\n      <td>NaN</td>\n      <td>6.0</td>\n      <td>2.0</td>\n      <td>(0.0, 0.0, 0.0, 0.0, 0.0, 0.0, 1.0, 0.0, 0.0)</td>\n      <td>(0.0, 0.0, 1.0, 0.0, 0.0, 0.0, 0.0, 0.0)</td>\n    </tr>\n    <tr>\n      <th>1</th>\n      <td>0</td>\n      <td>22</td>\n      <td>2</td>\n      <td>UA</td>\n      <td>1107</td>\n      <td>ORD</td>\n      <td>316</td>\n      <td>16.33</td>\n      <td>82</td>\n      <td>30</td>\n      <td>509.0</td>\n      <td>1.0</td>\n      <td>0.0</td>\n      <td>0.0</td>\n      <td>(1.0, 0.0, 0.0, 0.0, 0.0, 0.0, 0.0, 0.0, 0.0)</td>\n      <td>(1.0, 0.0, 0.0, 0.0, 0.0, 0.0, 0.0, 0.0)</td>\n    </tr>\n    <tr>\n      <th>2</th>\n      <td>2</td>\n      <td>20</td>\n      <td>4</td>\n      <td>UA</td>\n      <td>226</td>\n      <td>SFO</td>\n      <td>337</td>\n      <td>6.17</td>\n      <td>82</td>\n      <td>-8</td>\n      <td>542.0</td>\n      <td>0.0</td>\n      <td>0.0</td>\n      <td>1.0</td>\n      <td>(1.0, 0.0, 0.0, 0.0, 0.0, 0.0, 0.0, 0.0, 0.0)</td>\n      <td>(0.0, 1.0, 0.0, 0.0, 0.0, 0.0, 0.0, 0.0)</td>\n    </tr>\n  </tbody>\n</table>\n</div>"
     },
     "metadata": {},
     "execution_count": 15
    }
   ],
   "source": [
    "data.toPandas().iloc[:3, :]"
   ]
  },
  {
   "source": [
    "### 2.5.4. Chuyển đổi dữ liệu"
   ],
   "cell_type": "markdown",
   "metadata": {}
  },
  {
   "cell_type": "code",
   "execution_count": 16,
   "metadata": {},
   "outputs": [],
   "source": [
    "from modules.my_spark_logistic_regression import *"
   ]
  },
  {
   "cell_type": "code",
   "execution_count": 17,
   "metadata": {},
   "outputs": [],
   "source": [
    "predictor_features = ['mon', 'dom', 'dow', 'idx_carrier', 'idx_org', 'km', 'depart', 'duration']\n",
    "target_feature = 'label'"
   ]
  },
  {
   "cell_type": "code",
   "execution_count": 18,
   "metadata": {},
   "outputs": [],
   "source": [
    "lor_model = MySparkLogisticRegression(data, predictor_features, target_feature)"
   ]
  },
  {
   "cell_type": "code",
   "execution_count": 19,
   "metadata": {},
   "outputs": [],
   "source": [
    "lor_model.prepareData()"
   ]
  },
  {
   "cell_type": "code",
   "execution_count": 20,
   "metadata": {},
   "outputs": [
    {
     "output_type": "stream",
     "name": "stdout",
     "text": [
      "+-----------------------------------------+-----+\n|features                                 |label|\n+-----------------------------------------+-----+\n|[11.0,20.0,6.0,6.0,2.0,3465.0,9.48,351.0]|null |\n|[0.0,22.0,2.0,0.0,0.0,509.0,16.33,82.0]  |1    |\n|[2.0,20.0,4.0,0.0,1.0,542.0,6.17,82.0]   |0    |\n|[9.0,13.0,1.0,1.0,0.0,1989.0,10.33,195.0]|0    |\n|[4.0,2.0,5.0,1.0,0.0,415.0,8.92,65.0]    |null |\n+-----------------------------------------+-----+\nonly showing top 5 rows\n\n"
     ]
    }
   ],
   "source": [
    "lor_model.df_data.show(5, False)"
   ]
  },
  {
   "source": [
    "* Xóa các sample null"
   ],
   "cell_type": "markdown",
   "metadata": {}
  },
  {
   "cell_type": "code",
   "execution_count": 21,
   "metadata": {},
   "outputs": [],
   "source": [
    "lor_model.df_data = SP.dropNa(lor_model.df_data)"
   ]
  },
  {
   "cell_type": "code",
   "execution_count": 22,
   "metadata": {},
   "outputs": [
    {
     "output_type": "execute_result",
     "data": {
      "text/plain": [
       "47022"
      ]
     },
     "metadata": {},
     "execution_count": 22
    }
   ],
   "source": [
    "lor_model.df_data.count()"
   ]
  },
  {
   "cell_type": "code",
   "execution_count": 23,
   "metadata": {},
   "outputs": [
    {
     "output_type": "execute_result",
     "data": {
      "text/plain": [
       "50000"
      ]
     },
     "metadata": {},
     "execution_count": 23
    }
   ],
   "source": [
    "data.count()"
   ]
  },
  {
   "source": [
    "### 2.5.5. Chia dữ liệu thành train/test data"
   ],
   "cell_type": "markdown",
   "metadata": {}
  },
  {
   "cell_type": "code",
   "execution_count": 24,
   "metadata": {},
   "outputs": [],
   "source": [
    "lor_model.trainTestSplit(.8)"
   ]
  },
  {
   "cell_type": "code",
   "execution_count": 25,
   "metadata": {},
   "outputs": [
    {
     "output_type": "stream",
     "name": "stdout",
     "text": [
      "+------------------------------------+-----+\n|features                            |label|\n+------------------------------------+-----+\n|(8,[1,5,6,7],[6.0,386.0,13.17,68.0])|1    |\n|(8,[1,5,6,7],[6.0,538.0,20.0,84.0]) |1    |\n|(8,[1,5,6,7],[6.0,669.0,9.92,89.0]) |1    |\n+------------------------------------+-----+\nonly showing top 3 rows\n\n"
     ]
    }
   ],
   "source": [
    "lor_model.train_data.show(3, False)"
   ]
  },
  {
   "source": [
    "### 2.5.6. Xây dựng model"
   ],
   "cell_type": "markdown",
   "metadata": {}
  },
  {
   "cell_type": "code",
   "execution_count": 26,
   "metadata": {},
   "outputs": [],
   "source": [
    "lor_model.buildModel()"
   ]
  },
  {
   "cell_type": "code",
   "execution_count": null,
   "metadata": {},
   "outputs": [],
   "source": []
  },
  {
   "cell_type": "code",
   "execution_count": null,
   "metadata": {},
   "outputs": [],
   "source": []
  }
 ]
}