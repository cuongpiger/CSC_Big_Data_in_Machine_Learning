{
 "metadata": {
  "language_info": {
   "codemirror_mode": {
    "name": "ipython",
    "version": 3
   },
   "file_extension": ".py",
   "mimetype": "text/x-python",
   "name": "python",
   "nbconvert_exporter": "python",
   "pygments_lexer": "ipython3",
   "version": "3.8.5"
  },
  "orig_nbformat": 2,
  "kernelspec": {
   "name": "python38564bit207240a302f84cf383d7b6dbf8fca3f2",
   "display_name": "Python 3.8.5 64-bit"
  },
  "metadata": {
   "interpreter": {
    "hash": "31f2aee4e71d21fbe5cf8b01ff0e069b9275f58929596ceb00d14d90e3e16cd6"
   }
  }
 },
 "nbformat": 4,
 "nbformat_minor": 2,
 "cells": [
  {
   "source": [
    "![](./images/08_00.jpg)"
   ],
   "cell_type": "markdown",
   "metadata": {}
  },
  {
   "cell_type": "code",
   "execution_count": 1,
   "metadata": {},
   "outputs": [],
   "source": [
    "%load_ext autoreload\n",
    "%autoreload 2"
   ]
  },
  {
   "cell_type": "code",
   "execution_count": 2,
   "metadata": {},
   "outputs": [],
   "source": [
    "from modules.my_pyspark import *"
   ]
  },
  {
   "cell_type": "code",
   "execution_count": 3,
   "metadata": {},
   "outputs": [],
   "source": [
    "spark = MyPySpark(session=True)"
   ]
  },
  {
   "source": [
    "# 1. Đọc dữ liệu"
   ],
   "cell_type": "markdown",
   "metadata": {}
  },
  {
   "cell_type": "code",
   "execution_count": 4,
   "metadata": {},
   "outputs": [],
   "source": [
    "college_path = r\"./data/College.csv\""
   ]
  },
  {
   "cell_type": "code",
   "execution_count": 5,
   "metadata": {},
   "outputs": [],
   "source": [
    "college_data = spark.readFile(college_path)"
   ]
  },
  {
   "cell_type": "code",
   "execution_count": 6,
   "metadata": {},
   "outputs": [
    {
     "output_type": "stream",
     "name": "stdout",
     "text": [
      "-RECORD 0-----------------------------------\n School      | Abilene Christian University \n Private     | Yes                          \n Apps        | 1660                         \n Accept      | 1232                         \n Enroll      | 721                          \n Top10perc   | 23                           \n Top25perc   | 52                           \n F_Undergrad | 2885                         \n P_Undergrad | 537                          \n Outstate    | 7440                         \n Room_Board  | 3300                         \n Books       | 450                          \n Personal    | 2200                         \n PhD         | 70                           \n Terminal    | 78                           \n S_F_Ratio   | 18.1                         \n perc_alumni | 12                           \n Expend      | 7041                         \n Grad_Rate   | 60                           \n-RECORD 1-----------------------------------\n School      | Adelphi University           \n Private     | Yes                          \n Apps        | 2186                         \n Accept      | 1924                         \n Enroll      | 512                          \n Top10perc   | 16                           \n Top25perc   | 29                           \n F_Undergrad | 2683                         \n P_Undergrad | 1227                         \n Outstate    | 12280                        \n Room_Board  | 6450                         \n Books       | 750                          \n Personal    | 1500                         \n PhD         | 29                           \n Terminal    | 30                           \n S_F_Ratio   | 12.2                         \n perc_alumni | 16                           \n Expend      | 10527                        \n Grad_Rate   | 56                           \n-RECORD 2-----------------------------------\n School      | Adrian College               \n Private     | Yes                          \n Apps        | 1428                         \n Accept      | 1097                         \n Enroll      | 336                          \n Top10perc   | 22                           \n Top25perc   | 50                           \n F_Undergrad | 1036                         \n P_Undergrad | 99                           \n Outstate    | 11250                        \n Room_Board  | 3750                         \n Books       | 400                          \n Personal    | 1165                         \n PhD         | 53                           \n Terminal    | 66                           \n S_F_Ratio   | 12.9                         \n perc_alumni | 30                           \n Expend      | 8735                         \n Grad_Rate   | 54                           \nonly showing top 3 rows\n\n"
     ]
    }
   ],
   "source": [
    "college_data.show(3, False, True)"
   ]
  },
  {
   "cell_type": "code",
   "execution_count": 7,
   "metadata": {},
   "outputs": [
    {
     "output_type": "execute_result",
     "data": {
      "text/plain": [
       "  summary                        School Private                Apps  \\\n",
       "0   count                           777     777                 777   \n",
       "1    mean                          None    None  3001.6383526383524   \n",
       "2  stddev                          None    None  3870.2014844352884   \n",
       "3     min  Abilene Christian University      No                  81   \n",
       "4     max  York College of Pennsylvania     Yes               48094   \n",
       "\n",
       "               Accept            Enroll           Top10perc  \\\n",
       "0                 777               777                 777   \n",
       "1  2018.8043758043757  779.972972972973   27.55855855855856   \n",
       "2    2451.11397099263   929.17619013287  17.640364385452134   \n",
       "3                  72                35                   1   \n",
       "4               26330              6392                  96   \n",
       "\n",
       "            Top25perc        F_Undergrad        P_Undergrad  \\\n",
       "0                 777                777                777   \n",
       "1    55.7966537966538  3699.907335907336  855.2985842985843   \n",
       "2  19.804777595131373  4850.420530887386  1522.431887295513   \n",
       "3                   9                139                  1   \n",
       "4                 100              31643              21836   \n",
       "\n",
       "             Outstate          Room_Board               Books  \\\n",
       "0                 777                 777                 777   \n",
       "1   10440.66924066924   4357.526383526383   549.3809523809524   \n",
       "2  4023.0164841119727  1096.6964155935289  165.10536013709253   \n",
       "3                2340                1780                  96   \n",
       "4               21700                8124                2340   \n",
       "\n",
       "             Personal                 PhD            Terminal  \\\n",
       "0                 777                 777                 777   \n",
       "1  1340.6422136422136   72.66023166023166   79.70270270270271   \n",
       "2    677.071453590578  16.328154687939314  14.722358527903374   \n",
       "3                 250                   8                  24   \n",
       "4                6800                 103                 100   \n",
       "\n",
       "            S_F_Ratio         perc_alumni            Expend  \\\n",
       "0                 777                 777               777   \n",
       "1  14.089703989703986  22.743886743886744  9660.17117117117   \n",
       "2  3.9583491352055478   12.39180148937615  5221.76843985609   \n",
       "3                 2.5                   0              3186   \n",
       "4                39.8                  64             56233   \n",
       "\n",
       "            Grad_Rate  \n",
       "0                 777  \n",
       "1   65.46332046332046  \n",
       "2  17.177709897155403  \n",
       "3                  10  \n",
       "4                 118  "
      ],
      "text/html": "<div>\n<style scoped>\n    .dataframe tbody tr th:only-of-type {\n        vertical-align: middle;\n    }\n\n    .dataframe tbody tr th {\n        vertical-align: top;\n    }\n\n    .dataframe thead th {\n        text-align: right;\n    }\n</style>\n<table border=\"1\" class=\"dataframe\">\n  <thead>\n    <tr style=\"text-align: right;\">\n      <th></th>\n      <th>summary</th>\n      <th>School</th>\n      <th>Private</th>\n      <th>Apps</th>\n      <th>Accept</th>\n      <th>Enroll</th>\n      <th>Top10perc</th>\n      <th>Top25perc</th>\n      <th>F_Undergrad</th>\n      <th>P_Undergrad</th>\n      <th>Outstate</th>\n      <th>Room_Board</th>\n      <th>Books</th>\n      <th>Personal</th>\n      <th>PhD</th>\n      <th>Terminal</th>\n      <th>S_F_Ratio</th>\n      <th>perc_alumni</th>\n      <th>Expend</th>\n      <th>Grad_Rate</th>\n    </tr>\n  </thead>\n  <tbody>\n    <tr>\n      <th>0</th>\n      <td>count</td>\n      <td>777</td>\n      <td>777</td>\n      <td>777</td>\n      <td>777</td>\n      <td>777</td>\n      <td>777</td>\n      <td>777</td>\n      <td>777</td>\n      <td>777</td>\n      <td>777</td>\n      <td>777</td>\n      <td>777</td>\n      <td>777</td>\n      <td>777</td>\n      <td>777</td>\n      <td>777</td>\n      <td>777</td>\n      <td>777</td>\n      <td>777</td>\n    </tr>\n    <tr>\n      <th>1</th>\n      <td>mean</td>\n      <td>None</td>\n      <td>None</td>\n      <td>3001.6383526383524</td>\n      <td>2018.8043758043757</td>\n      <td>779.972972972973</td>\n      <td>27.55855855855856</td>\n      <td>55.7966537966538</td>\n      <td>3699.907335907336</td>\n      <td>855.2985842985843</td>\n      <td>10440.66924066924</td>\n      <td>4357.526383526383</td>\n      <td>549.3809523809524</td>\n      <td>1340.6422136422136</td>\n      <td>72.66023166023166</td>\n      <td>79.70270270270271</td>\n      <td>14.089703989703986</td>\n      <td>22.743886743886744</td>\n      <td>9660.17117117117</td>\n      <td>65.46332046332046</td>\n    </tr>\n    <tr>\n      <th>2</th>\n      <td>stddev</td>\n      <td>None</td>\n      <td>None</td>\n      <td>3870.2014844352884</td>\n      <td>2451.11397099263</td>\n      <td>929.17619013287</td>\n      <td>17.640364385452134</td>\n      <td>19.804777595131373</td>\n      <td>4850.420530887386</td>\n      <td>1522.431887295513</td>\n      <td>4023.0164841119727</td>\n      <td>1096.6964155935289</td>\n      <td>165.10536013709253</td>\n      <td>677.071453590578</td>\n      <td>16.328154687939314</td>\n      <td>14.722358527903374</td>\n      <td>3.9583491352055478</td>\n      <td>12.39180148937615</td>\n      <td>5221.76843985609</td>\n      <td>17.177709897155403</td>\n    </tr>\n    <tr>\n      <th>3</th>\n      <td>min</td>\n      <td>Abilene Christian University</td>\n      <td>No</td>\n      <td>81</td>\n      <td>72</td>\n      <td>35</td>\n      <td>1</td>\n      <td>9</td>\n      <td>139</td>\n      <td>1</td>\n      <td>2340</td>\n      <td>1780</td>\n      <td>96</td>\n      <td>250</td>\n      <td>8</td>\n      <td>24</td>\n      <td>2.5</td>\n      <td>0</td>\n      <td>3186</td>\n      <td>10</td>\n    </tr>\n    <tr>\n      <th>4</th>\n      <td>max</td>\n      <td>York College of Pennsylvania</td>\n      <td>Yes</td>\n      <td>48094</td>\n      <td>26330</td>\n      <td>6392</td>\n      <td>96</td>\n      <td>100</td>\n      <td>31643</td>\n      <td>21836</td>\n      <td>21700</td>\n      <td>8124</td>\n      <td>2340</td>\n      <td>6800</td>\n      <td>103</td>\n      <td>100</td>\n      <td>39.8</td>\n      <td>64</td>\n      <td>56233</td>\n      <td>118</td>\n    </tr>\n  </tbody>\n</table>\n</div>"
     },
     "metadata": {},
     "execution_count": 7
    }
   ],
   "source": [
    "college_data.describe().toPandas()"
   ]
  },
  {
   "cell_type": "code",
   "execution_count": 8,
   "metadata": {},
   "outputs": [
    {
     "output_type": "stream",
     "name": "stdout",
     "text": [
      "root\n |-- School: string (nullable = true)\n |-- Private: string (nullable = true)\n |-- Apps: integer (nullable = true)\n |-- Accept: integer (nullable = true)\n |-- Enroll: integer (nullable = true)\n |-- Top10perc: integer (nullable = true)\n |-- Top25perc: integer (nullable = true)\n |-- F_Undergrad: integer (nullable = true)\n |-- P_Undergrad: integer (nullable = true)\n |-- Outstate: integer (nullable = true)\n |-- Room_Board: integer (nullable = true)\n |-- Books: integer (nullable = true)\n |-- Personal: integer (nullable = true)\n |-- PhD: integer (nullable = true)\n |-- Terminal: integer (nullable = true)\n |-- S_F_Ratio: double (nullable = true)\n |-- perc_alumni: integer (nullable = true)\n |-- Expend: integer (nullable = true)\n |-- Grad_Rate: integer (nullable = true)\n\n"
     ]
    }
   ],
   "source": [
    "college_data.printSchema()"
   ]
  },
  {
   "source": [
    "# 2. Chuẩn dữ liệu\n",
    "## 2.1. Indexer feature `Private`"
   ],
   "cell_type": "markdown",
   "metadata": {}
  },
  {
   "cell_type": "code",
   "execution_count": 9,
   "metadata": {},
   "outputs": [],
   "source": [
    "from modules.my_spark_preprocessing import *"
   ]
  },
  {
   "cell_type": "code",
   "execution_count": 10,
   "metadata": {},
   "outputs": [],
   "source": [
    "college_data = indexerData(college_data, ['Private'])"
   ]
  },
  {
   "cell_type": "code",
   "execution_count": 11,
   "metadata": {},
   "outputs": [
    {
     "output_type": "stream",
     "name": "stdout",
     "text": [
      "-RECORD 0-----------------------------------\n School      | Abilene Christian University \n Private     | Yes                          \n Apps        | 1660                         \n Accept      | 1232                         \n Enroll      | 721                          \n Top10perc   | 23                           \n Top25perc   | 52                           \n F_Undergrad | 2885                         \n P_Undergrad | 537                          \n Outstate    | 7440                         \n Room_Board  | 3300                         \n Books       | 450                          \n Personal    | 2200                         \n PhD         | 70                           \n Terminal    | 78                           \n S_F_Ratio   | 18.1                         \n perc_alumni | 12                           \n Expend      | 7041                         \n Grad_Rate   | 60                           \n idx_Private | 0.0                          \nonly showing top 1 row\n\n"
     ]
    }
   ],
   "source": [
    "college_data.show(1, False, True)"
   ]
  },
  {
   "source": [
    "# 3. Chuyển đổi dữ liệu"
   ],
   "cell_type": "markdown",
   "metadata": {}
  },
  {
   "cell_type": "code",
   "execution_count": 12,
   "metadata": {},
   "outputs": [],
   "source": [
    "predictor_vars = ['Apps', 'Accept', 'Enroll', 'Top10perc', 'Top25perc', 'F_Undergrad', 'P_Undergrad', 'Outstate', 'Room_Board', 'Books', 'Personal', 'PhD', 'Terminal', 'S_F_Ratio', 'perc_alumni', 'Expend', 'Grad_Rate']\n",
    "target_var = 'idx_Private'"
   ]
  },
  {
   "cell_type": "code",
   "execution_count": 13,
   "metadata": {},
   "outputs": [],
   "source": [
    "data_handler = MyDataClassifier()\n",
    "data_handler.initModel(college_data, predictor_vars, target_var)"
   ]
  },
  {
   "cell_type": "code",
   "execution_count": 14,
   "metadata": {},
   "outputs": [],
   "source": [
    "data_handler.prepareData()"
   ]
  },
  {
   "source": [
    "# 4. Tách dữ liệu thành train và test"
   ],
   "cell_type": "markdown",
   "metadata": {}
  },
  {
   "cell_type": "code",
   "execution_count": 15,
   "metadata": {},
   "outputs": [],
   "source": [
    "data_handler.trainTestSplit(.7)"
   ]
  },
  {
   "source": [
    "# 5. Build Model"
   ],
   "cell_type": "markdown",
   "metadata": {}
  },
  {
   "cell_type": "code",
   "execution_count": 16,
   "metadata": {},
   "outputs": [],
   "source": [
    "from modules.my_decision_tree import *\n",
    "from modules.my_random_forest import *\n",
    "from modules.my_gbt import *"
   ]
  },
  {
   "cell_type": "code",
   "execution_count": 17,
   "metadata": {},
   "outputs": [],
   "source": [
    "dtree_model = MyDecisionTree(data_handler)\n",
    "rdfor_model = MyRandomForest(data_handler)\n",
    "gbt_model = MyGBT(data_handler)"
   ]
  },
  {
   "cell_type": "code",
   "execution_count": 18,
   "metadata": {},
   "outputs": [],
   "source": [
    "dtree_model.build()\n",
    "rdfor_model.build()\n",
    "gbt_model.build()"
   ]
  },
  {
   "cell_type": "code",
   "execution_count": 19,
   "metadata": {},
   "outputs": [],
   "source": [
    "dtree_test_predict = dtree_model.predictTestData()\n",
    "rdfor_test_predict = rdfor_model.predictTestData()\n",
    "gbt_test_predict = gbt_model.predictTestData()"
   ]
  },
  {
   "cell_type": "code",
   "execution_count": 20,
   "metadata": {},
   "outputs": [
    {
     "output_type": "stream",
     "name": "stdout",
     "text": [
      "-RECORD 0------------------------------------------------------------------------------------------------------------\n features      | [212.0,197.0,91.0,28.0,56.0,471.0,148.0,13500.0,5230.0,400.0,850.0,95.0,98.0,9.3,37.0,16095.0,52.0] \n idx_Private   | 0.0                                                                                                 \n rawPrediction | [234.0,0.0]                                                                                         \n probability   | [1.0,0.0]                                                                                           \n prediction    | 0.0                                                                                                 \n-RECORD 1------------------------------------------------------------------------------------------------------------\n features      | [213.0,155.0,75.0,28.0,66.0,504.0,147.0,7200.0,3532.0,550.0,1500.0,56.0,56.0,11.8,12.0,7818.0,52.0] \n idx_Private   | 0.0                                                                                                 \n rawPrediction | [49.0,2.0]                                                                                          \n probability   | [0.9607843137254902,0.0392156862745098]                                                             \n prediction    | 0.0                                                                                                 \n-RECORD 2------------------------------------------------------------------------------------------------------------\n features      | [213.0,166.0,85.0,13.0,36.0,513.0,247.0,8670.0,3820.0,450.0,1000.0,43.0,78.0,12.5,4.0,7440.0,48.0]  \n idx_Private   | 0.0                                                                                                 \n rawPrediction | [234.0,0.0]                                                                                         \n probability   | [1.0,0.0]                                                                                           \n prediction    | 0.0                                                                                                 \nonly showing top 3 rows\n\n"
     ]
    }
   ],
   "source": [
    "dtree_test_predict.show(3, False, True)"
   ]
  },
  {
   "cell_type": "code",
   "execution_count": 21,
   "metadata": {},
   "outputs": [
    {
     "output_type": "stream",
     "name": "stdout",
     "text": [
      "-RECORD 0------------------------------------------------------------------------------------------------------------\n features      | [212.0,197.0,91.0,28.0,56.0,471.0,148.0,13500.0,5230.0,400.0,850.0,95.0,98.0,9.3,37.0,16095.0,52.0] \n idx_Private   | 0.0                                                                                                 \n rawPrediction | [19.850498921150066,0.1495010788499337]                                                             \n probability   | [0.9925249460575033,0.007475053942496685]                                                           \n prediction    | 0.0                                                                                                 \n-RECORD 1------------------------------------------------------------------------------------------------------------\n features      | [213.0,155.0,75.0,28.0,66.0,504.0,147.0,7200.0,3532.0,550.0,1500.0,56.0,56.0,11.8,12.0,7818.0,52.0] \n idx_Private   | 0.0                                                                                                 \n rawPrediction | [19.36545009973221,0.6345499002677858]                                                              \n probability   | [0.9682725049866108,0.0317274950133893]                                                             \n prediction    | 0.0                                                                                                 \n-RECORD 2------------------------------------------------------------------------------------------------------------\n features      | [213.0,166.0,85.0,13.0,36.0,513.0,247.0,8670.0,3820.0,450.0,1000.0,43.0,78.0,12.5,4.0,7440.0,48.0]  \n idx_Private   | 0.0                                                                                                 \n rawPrediction | [19.56163882293315,0.43836117706685]                                                                \n probability   | [0.9780819411466576,0.0219180588533425]                                                             \n prediction    | 0.0                                                                                                 \nonly showing top 3 rows\n\n"
     ]
    }
   ],
   "source": [
    "rdfor_test_predict.show(3, False, True)"
   ]
  },
  {
   "cell_type": "code",
   "execution_count": 22,
   "metadata": {},
   "outputs": [
    {
     "output_type": "stream",
     "name": "stdout",
     "text": [
      "-RECORD 0------------------------------------------------------------------------------------------------------------\n features      | [212.0,197.0,91.0,28.0,56.0,471.0,148.0,13500.0,5230.0,400.0,850.0,95.0,98.0,9.3,37.0,16095.0,52.0] \n idx_Private   | 0.0                                                                                                 \n rawPrediction | [1.5495285788155515,-1.5495285788155515]                                                            \n probability   | [0.9568538369777853,0.043146163022214745]                                                           \n prediction    | 0.0                                                                                                 \n-RECORD 1------------------------------------------------------------------------------------------------------------\n features      | [213.0,155.0,75.0,28.0,66.0,504.0,147.0,7200.0,3532.0,550.0,1500.0,56.0,56.0,11.8,12.0,7818.0,52.0] \n idx_Private   | 0.0                                                                                                 \n rawPrediction | [1.4848301723128947,-1.4848301723128947]                                                            \n probability   | [0.9511845083563009,0.04881549164369914]                                                            \n prediction    | 0.0                                                                                                 \n-RECORD 2------------------------------------------------------------------------------------------------------------\n features      | [213.0,166.0,85.0,13.0,36.0,513.0,247.0,8670.0,3820.0,450.0,1000.0,43.0,78.0,12.5,4.0,7440.0,48.0]  \n idx_Private   | 0.0                                                                                                 \n rawPrediction | [1.520484966081961,-1.520484966081961]                                                              \n probability   | [0.9543910677699649,0.04560893223003515]                                                            \n prediction    | 0.0                                                                                                 \nonly showing top 3 rows\n\n"
     ]
    }
   ],
   "source": [
    "gbt_test_predict.show(3, False, True)"
   ]
  },
  {
   "cell_type": "code",
   "execution_count": 24,
   "metadata": {},
   "outputs": [
    {
     "output_type": "execute_result",
     "data": {
      "text/plain": [
       "     Metric    Values\n",
       "0  Accuracy  0.897778"
      ],
      "text/html": "<div>\n<style scoped>\n    .dataframe tbody tr th:only-of-type {\n        vertical-align: middle;\n    }\n\n    .dataframe tbody tr th {\n        vertical-align: top;\n    }\n\n    .dataframe thead th {\n        text-align: right;\n    }\n</style>\n<table border=\"1\" class=\"dataframe\">\n  <thead>\n    <tr style=\"text-align: right;\">\n      <th></th>\n      <th>Metric</th>\n      <th>Values</th>\n    </tr>\n  </thead>\n  <tbody>\n    <tr>\n      <th>0</th>\n      <td>Accuracy</td>\n      <td>0.897778</td>\n    </tr>\n  </tbody>\n</table>\n</div>"
     },
     "metadata": {},
     "execution_count": 24
    }
   ],
   "source": [
    "dtree_model.evaluate()"
   ]
  },
  {
   "cell_type": "code",
   "execution_count": 25,
   "metadata": {},
   "outputs": [
    {
     "output_type": "execute_result",
     "data": {
      "text/plain": [
       "     Metric  Values\n",
       "0  Accuracy    0.96"
      ],
      "text/html": "<div>\n<style scoped>\n    .dataframe tbody tr th:only-of-type {\n        vertical-align: middle;\n    }\n\n    .dataframe tbody tr th {\n        vertical-align: top;\n    }\n\n    .dataframe thead th {\n        text-align: right;\n    }\n</style>\n<table border=\"1\" class=\"dataframe\">\n  <thead>\n    <tr style=\"text-align: right;\">\n      <th></th>\n      <th>Metric</th>\n      <th>Values</th>\n    </tr>\n  </thead>\n  <tbody>\n    <tr>\n      <th>0</th>\n      <td>Accuracy</td>\n      <td>0.96</td>\n    </tr>\n  </tbody>\n</table>\n</div>"
     },
     "metadata": {},
     "execution_count": 25
    }
   ],
   "source": [
    "rdfor_model.evaluate()"
   ]
  },
  {
   "cell_type": "code",
   "execution_count": 26,
   "metadata": {},
   "outputs": [
    {
     "output_type": "execute_result",
     "data": {
      "text/plain": [
       "     Metric    Values\n",
       "0  Accuracy  0.902222"
      ],
      "text/html": "<div>\n<style scoped>\n    .dataframe tbody tr th:only-of-type {\n        vertical-align: middle;\n    }\n\n    .dataframe tbody tr th {\n        vertical-align: top;\n    }\n\n    .dataframe thead th {\n        text-align: right;\n    }\n</style>\n<table border=\"1\" class=\"dataframe\">\n  <thead>\n    <tr style=\"text-align: right;\">\n      <th></th>\n      <th>Metric</th>\n      <th>Values</th>\n    </tr>\n  </thead>\n  <tbody>\n    <tr>\n      <th>0</th>\n      <td>Accuracy</td>\n      <td>0.902222</td>\n    </tr>\n  </tbody>\n</table>\n</div>"
     },
     "metadata": {},
     "execution_count": 26
    }
   ],
   "source": [
    "gbt_model.evaluate()"
   ]
  },
  {
   "source": [
    "> **Nhận xét**\n",
    "> * Random forest cho ra kết quả tốt nhất"
   ],
   "cell_type": "markdown",
   "metadata": {}
  },
  {
   "cell_type": "code",
   "execution_count": null,
   "metadata": {},
   "outputs": [],
   "source": []
  }
 ]
}