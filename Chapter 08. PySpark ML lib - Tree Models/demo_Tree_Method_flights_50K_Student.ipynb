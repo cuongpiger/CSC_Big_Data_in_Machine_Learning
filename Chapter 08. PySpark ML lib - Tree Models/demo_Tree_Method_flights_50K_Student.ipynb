{
  "nbformat": 4,
  "nbformat_minor": 0,
  "metadata": {
    "anaconda-cloud": {},
    "kernelspec": {
      "name": "python38564bit739b5682ab17410ead4710a41bd80672",
      "display_name": "Python 3.8.5 64-bit"
    },
    "language_info": {
      "codemirror_mode": {
        "name": "ipython",
        "version": 3
      },
      "file_extension": ".py",
      "mimetype": "text/x-python",
      "name": "python",
      "nbconvert_exporter": "python",
      "pygments_lexer": "ipython3",
      "version": "3.8.5"
    },
    "colab": {
      "name": "demo_Tree_Method_flights_50K_Student.ipynb",
      "provenance": [],
      "collapsed_sections": [
        "afYvBXQzR2L0"
      ]
    },
    "metadata": {
      "interpreter": {
        "hash": "916dbcbb3f70747c44a77c7bcd40155683ae19c65e1c03b4aa3499c5328201f1"
      }
    }
  },
  "cells": [
    {
      "cell_type": "markdown",
      "metadata": {
        "id": "JwC2Nr5RR2LC"
      },
      "source": [
        "# Demo Tree Model"
      ]
    },
    {
      "cell_type": "markdown",
      "metadata": {
        "id": "awc-2kK0R2LD"
      },
      "source": [
        "### Dataset: flights.csv\n",
        "- You'll build a regression model to predict flight delay or not \n",
        "- With 'mon', 'dom', 'dow', 'carrier_idx', 'org_idx', 'km', 'depart', 'duration' as a predictor"
      ]
    },
    {
      "cell_type": "markdown",
      "metadata": {
        "id": "Sdn8c0h0R2LD"
      },
      "source": [
        "First thing to do is start a Spark Session"
      ]
    },
    {
      "cell_type": "code",
      "metadata": {
        "id": "64JV__HcR2LE"
      },
      "source": [
        "import findspark\n",
        "findspark.init()"
      ],
      "execution_count": 1,
      "outputs": []
    },
    {
      "cell_type": "code",
      "metadata": {
        "id": "it0eeUpcR2LH"
      },
      "source": [
        "import pyspark"
      ],
      "execution_count": 2,
      "outputs": []
    },
    {
      "cell_type": "code",
      "metadata": {
        "id": "OreDvnvPR2LJ"
      },
      "source": [
        "from pyspark import SparkContext\n",
        "from pyspark.conf import SparkConf\n",
        "from pyspark.sql import SparkSession"
      ],
      "execution_count": 3,
      "outputs": []
    },
    {
      "cell_type": "code",
      "metadata": {
        "id": "sckUTQOsR2LM"
      },
      "source": [
        "spark = SparkSession.builder.appName('lr_demo').getOrCreate()"
      ],
      "execution_count": 4,
      "outputs": []
    },
    {
      "cell_type": "code",
      "metadata": {
        "id": "UVnE-S3rR2LO"
      },
      "source": [
        "# Use Spark to read flights.csv file.\n",
        "data = spark.read.csv(\"./data/flights.csv\",inferSchema=True,header=True)"
      ],
      "execution_count": 5,
      "outputs": []
    },
    {
      "cell_type": "code",
      "metadata": {
        "id": "pz5UpQ9tR2LQ",
        "outputId": "78cb5001-29a7-4890-a378-23f701306901"
      },
      "source": [
        "# Print the Schema of the DataFrame\n",
        "data.printSchema()"
      ],
      "execution_count": 6,
      "outputs": [
        {
          "output_type": "stream",
          "name": "stdout",
          "text": [
            "root\n |-- mon: integer (nullable = true)\n |-- dom: integer (nullable = true)\n |-- dow: integer (nullable = true)\n |-- carrier: string (nullable = true)\n |-- flight: integer (nullable = true)\n |-- org: string (nullable = true)\n |-- mile: integer (nullable = true)\n |-- depart: double (nullable = true)\n |-- duration: integer (nullable = true)\n |-- delay: string (nullable = true)\n\n"
          ]
        }
      ]
    },
    {
      "cell_type": "code",
      "metadata": {
        "id": "IsxKkZvnR2LT",
        "outputId": "d4e13952-69ad-4b01-c66d-fecbe4439fa7"
      },
      "source": [
        "data.show(3)"
      ],
      "execution_count": 7,
      "outputs": [
        {
          "output_type": "stream",
          "name": "stdout",
          "text": [
            "+---+---+---+-------+------+---+----+------+--------+-----+\n|mon|dom|dow|carrier|flight|org|mile|depart|duration|delay|\n+---+---+---+-------+------+---+----+------+--------+-----+\n| 11| 20|  6|     US|    19|JFK|2153|  9.48|     351|   NA|\n|  0| 22|  2|     UA|  1107|ORD| 316| 16.33|      82|   30|\n|  2| 20|  4|     UA|   226|SFO| 337|  6.17|      82|   -8|\n+---+---+---+-------+------+---+----+------+--------+-----+\nonly showing top 3 rows\n\n"
          ]
        }
      ]
    },
    {
      "cell_type": "code",
      "metadata": {
        "id": "Vt0zISVmR2LV",
        "outputId": "9eb7544d-f58e-4688-9d82-6ac54dac84d4"
      },
      "source": [
        "data.head()"
      ],
      "execution_count": 8,
      "outputs": [
        {
          "output_type": "execute_result",
          "data": {
            "text/plain": [
              "Row(mon=11, dom=20, dow=6, carrier='US', flight=19, org='JFK', mile=2153, depart=9.48, duration=351, delay='NA')"
            ]
          },
          "metadata": {},
          "execution_count": 8
        }
      ]
    },
    {
      "cell_type": "code",
      "metadata": {
        "id": "aVW5oJbAR2LY"
      },
      "source": [
        "# for item in data.head():\n",
        "#     print(item)"
      ],
      "execution_count": 9,
      "outputs": []
    },
    {
      "cell_type": "code",
      "metadata": {
        "id": "Xmgtp7BrR2Lb",
        "outputId": "652fcdb2-b72c-40ca-c34a-84ae5bcf8825"
      },
      "source": [
        "data.count()"
      ],
      "execution_count": 10,
      "outputs": [
        {
          "output_type": "execute_result",
          "data": {
            "text/plain": [
              "50000"
            ]
          },
          "metadata": {},
          "execution_count": 10
        }
      ]
    },
    {
      "cell_type": "code",
      "metadata": {
        "id": "RxJ71KYWR2Ld"
      },
      "source": [
        "# Remove the 'flight' column\n",
        "data = data.drop('flight')"
      ],
      "execution_count": 11,
      "outputs": []
    },
    {
      "cell_type": "code",
      "metadata": {
        "id": "WMG3SWC_R2Lf",
        "outputId": "e6b2ac56-500e-409a-95be-f35065f5e706"
      },
      "source": [
        "# Number of records with missing 'delay' values\n",
        "data.filter('delay IS NULL').count()"
      ],
      "execution_count": 12,
      "outputs": [
        {
          "output_type": "execute_result",
          "data": {
            "text/plain": [
              "0"
            ]
          },
          "metadata": {},
          "execution_count": 12
        }
      ]
    },
    {
      "cell_type": "code",
      "metadata": {
        "id": "HbCunsjhR2Li"
      },
      "source": [
        "# Remove records with missing 'delay' values\n",
        "data = data.filter('delay IS NOT NULL')"
      ],
      "execution_count": 13,
      "outputs": []
    },
    {
      "cell_type": "code",
      "metadata": {
        "id": "w1aOzJQ8R2Lk",
        "outputId": "5aa6e78f-ecd8-4ae3-bc62-b7d93dfa67d2"
      },
      "source": [
        "# Remove records with missing values in any column and get the number of remaining rows\n",
        "data = data.na.drop()\n",
        "data.count()"
      ],
      "execution_count": 14,
      "outputs": [
        {
          "output_type": "execute_result",
          "data": {
            "text/plain": [
              "50000"
            ]
          },
          "metadata": {},
          "execution_count": 14
        }
      ]
    },
    {
      "cell_type": "code",
      "metadata": {
        "id": "RqURa8-YR2Lm"
      },
      "source": [
        "# Import the required function\n",
        "from pyspark.sql.functions import round"
      ],
      "execution_count": 15,
      "outputs": []
    },
    {
      "cell_type": "code",
      "metadata": {
        "id": "uDUHI8xkR2Lo"
      },
      "source": [
        "# Convert 'mile' to 'km' and drop 'mile' column\n",
        "data = data.withColumn('km', round(data.mile * 1.60934, 0))"
      ],
      "execution_count": 16,
      "outputs": []
    },
    {
      "cell_type": "code",
      "metadata": {
        "id": "SlikOkPBR2Lr",
        "outputId": "f5648c4d-3a4f-4c58-d7ad-085296ebf4f4"
      },
      "source": [
        "# Create 'label' column indicating whether flight delayed (1) or not (0)\n",
        "data = data.withColumn('label', (data.delay >= 15).cast('integer'))\n",
        "# Check first five records\n",
        "data.show(3)"
      ],
      "execution_count": 17,
      "outputs": [
        {
          "output_type": "stream",
          "name": "stdout",
          "text": [
            "+---+---+---+-------+---+----+------+--------+-----+------+-----+\n|mon|dom|dow|carrier|org|mile|depart|duration|delay|    km|label|\n+---+---+---+-------+---+----+------+--------+-----+------+-----+\n| 11| 20|  6|     US|JFK|2153|  9.48|     351|   NA|3465.0| null|\n|  0| 22|  2|     UA|ORD| 316| 16.33|      82|   30| 509.0|    1|\n|  2| 20|  4|     UA|SFO| 337|  6.17|      82|   -8| 542.0|    0|\n+---+---+---+-------+---+----+------+--------+-----+------+-----+\nonly showing top 3 rows\n\n"
          ]
        }
      ]
    },
    {
      "cell_type": "markdown",
      "metadata": {
        "id": "5_TRGWh-R2Lt"
      },
      "source": [
        "## Categories data"
      ]
    },
    {
      "cell_type": "code",
      "metadata": {
        "id": "-gTwydfvR2Lt"
      },
      "source": [
        "from pyspark.ml.feature import StringIndexer"
      ],
      "execution_count": 18,
      "outputs": []
    },
    {
      "cell_type": "code",
      "metadata": {
        "id": "wrtgPrSDR2Lw"
      },
      "source": [
        "# Create an indexer\n",
        "indexer = StringIndexer(inputCol='carrier', outputCol='carrier_idx')\n",
        "\n",
        "# Indexer identifies categories in the data\n",
        "indexer_model = indexer.fit(data)\n",
        "\n",
        "# Indexer creates a new column with numeric index values\n",
        "data_indexed = indexer_model.transform(data)\n",
        "\n",
        "# Repeat the process for the other categorical feature\n",
        "data_indexed = StringIndexer(inputCol='org', outputCol='org_idx').fit(data_indexed).transform(data_indexed)"
      ],
      "execution_count": 19,
      "outputs": []
    },
    {
      "cell_type": "code",
      "metadata": {
        "id": "InbXrHLzR2Ly",
        "outputId": "7415b9cd-f306-44c1-be9e-5293bfa97ae6"
      },
      "source": [
        "data_indexed.show(3)"
      ],
      "execution_count": 20,
      "outputs": [
        {
          "output_type": "stream",
          "name": "stdout",
          "text": [
            "+---+---+---+-------+---+----+------+--------+-----+------+-----+-----------+-------+\n|mon|dom|dow|carrier|org|mile|depart|duration|delay|    km|label|carrier_idx|org_idx|\n+---+---+---+-------+---+----+------+--------+-----+------+-----+-----------+-------+\n| 11| 20|  6|     US|JFK|2153|  9.48|     351|   NA|3465.0| null|        6.0|    2.0|\n|  0| 22|  2|     UA|ORD| 316| 16.33|      82|   30| 509.0|    1|        0.0|    0.0|\n|  2| 20|  4|     UA|SFO| 337|  6.17|      82|   -8| 542.0|    0|        0.0|    1.0|\n+---+---+---+-------+---+----+------+--------+-----+------+-----+-----------+-------+\nonly showing top 3 rows\n\n"
          ]
        }
      ]
    },
    {
      "cell_type": "markdown",
      "metadata": {
        "id": "afYvBXQzR2L0"
      },
      "source": [
        "## Setting Up DataFrame for Machine Learning "
      ]
    },
    {
      "cell_type": "markdown",
      "metadata": {
        "id": "AZ_-3LFKR2L0"
      },
      "source": [
        "## Assembling columns"
      ]
    },
    {
      "cell_type": "code",
      "metadata": {
        "id": "0g8J-G4cR2L1"
      },
      "source": [
        "from pyspark.ml.linalg import Vectors\n",
        "from pyspark.ml.feature import VectorAssembler"
      ],
      "execution_count": 21,
      "outputs": []
    },
    {
      "cell_type": "code",
      "metadata": {
        "id": "C2DCNjCmR2L3",
        "outputId": "a55fd804-4a75-4200-dd7c-f24f5befee6b"
      },
      "source": [
        "data_indexed.columns"
      ],
      "execution_count": 22,
      "outputs": [
        {
          "output_type": "execute_result",
          "data": {
            "text/plain": [
              "['mon',\n",
              " 'dom',\n",
              " 'dow',\n",
              " 'carrier',\n",
              " 'org',\n",
              " 'mile',\n",
              " 'depart',\n",
              " 'duration',\n",
              " 'delay',\n",
              " 'km',\n",
              " 'label',\n",
              " 'carrier_idx',\n",
              " 'org_idx']"
            ]
          },
          "metadata": {},
          "execution_count": 22
        }
      ]
    },
    {
      "cell_type": "code",
      "metadata": {
        "id": "Oy0aQ7v5R2L4"
      },
      "source": [
        "# Create an assembler object\n",
        "assembler = VectorAssembler(inputCols=[\n",
        "    'mon', 'dom', 'dow', 'carrier_idx', 'org_idx', 'km', 'depart', 'duration'\n",
        "], outputCol='features')"
      ],
      "execution_count": 23,
      "outputs": []
    },
    {
      "cell_type": "code",
      "metadata": {
        "id": "71Zgv3GXR2L7"
      },
      "source": [
        "data_pre = assembler.transform(data_indexed)"
      ],
      "execution_count": 24,
      "outputs": []
    },
    {
      "cell_type": "code",
      "metadata": {
        "id": "9xzPcDMRR2L9",
        "outputId": "24db9cae-73ae-44ba-9d9d-138071bbe737"
      },
      "source": [
        "# Check the resulting column\n",
        "data_pre.select('features', 'label').show(2, truncate=False)"
      ],
      "execution_count": 25,
      "outputs": [
        {
          "output_type": "stream",
          "name": "stdout",
          "text": [
            "+-----------------------------------------+-----+\n|features                                 |label|\n+-----------------------------------------+-----+\n|[11.0,20.0,6.0,6.0,2.0,3465.0,9.48,351.0]|null |\n|[0.0,22.0,2.0,0.0,0.0,509.0,16.33,82.0]  |1    |\n+-----------------------------------------+-----+\nonly showing top 2 rows\n\n"
          ]
        }
      ]
    },
    {
      "cell_type": "code",
      "metadata": {
        "id": "RuPfIPrqR2L_",
        "outputId": "234bfc09-36ec-400d-e04b-864967d6d445"
      },
      "source": [
        "data_pre.show(3, False)"
      ],
      "execution_count": 26,
      "outputs": [
        {
          "output_type": "stream",
          "name": "stdout",
          "text": [
            "+---+---+---+-------+---+----+------+--------+-----+------+-----+-----------+-------+-----------------------------------------+\n|mon|dom|dow|carrier|org|mile|depart|duration|delay|km    |label|carrier_idx|org_idx|features                                 |\n+---+---+---+-------+---+----+------+--------+-----+------+-----+-----------+-------+-----------------------------------------+\n|11 |20 |6  |US     |JFK|2153|9.48  |351     |NA   |3465.0|null |6.0        |2.0    |[11.0,20.0,6.0,6.0,2.0,3465.0,9.48,351.0]|\n|0  |22 |2  |UA     |ORD|316 |16.33 |82      |30   |509.0 |1    |0.0        |0.0    |[0.0,22.0,2.0,0.0,0.0,509.0,16.33,82.0]  |\n|2  |20 |4  |UA     |SFO|337 |6.17  |82      |-8   |542.0 |0    |0.0        |1.0    |[2.0,20.0,4.0,0.0,1.0,542.0,6.17,82.0]   |\n+---+---+---+-------+---+----+------+--------+-----+------+-----+-----------+-------+-----------------------------------------+\nonly showing top 3 rows\n\n"
          ]
        }
      ]
    },
    {
      "cell_type": "code",
      "metadata": {
        "id": "ohvD2PqmR2MC",
        "outputId": "93751c8f-7ef7-4a14-dd32-659009c82a97"
      },
      "source": [
        "final_data = data_pre.select(\"features\",\"label\")\n",
        "final_data.count()"
      ],
      "execution_count": 27,
      "outputs": [
        {
          "output_type": "execute_result",
          "data": {
            "text/plain": [
              "50000"
            ]
          },
          "metadata": {},
          "execution_count": 27
        }
      ]
    },
    {
      "cell_type": "code",
      "metadata": {
        "id": "vgTXYctAR2ME",
        "outputId": "5507bde7-eaae-4135-d08d-f1f2697f547b"
      },
      "source": [
        "final_data = final_data.na.drop()\n",
        "final_data.count()"
      ],
      "execution_count": 28,
      "outputs": [
        {
          "output_type": "execute_result",
          "data": {
            "text/plain": [
              "47022"
            ]
          },
          "metadata": {},
          "execution_count": 28
        }
      ]
    },
    {
      "cell_type": "code",
      "metadata": {
        "id": "1to1rg0xR2MF",
        "outputId": "c12a0b1e-3123-4a26-f1c9-332924a055b2"
      },
      "source": [
        "final_data.show(5)"
      ],
      "execution_count": 29,
      "outputs": [
        {
          "output_type": "stream",
          "name": "stdout",
          "text": [
            "+--------------------+-----+\n|            features|label|\n+--------------------+-----+\n|[0.0,22.0,2.0,0.0...|    1|\n|[2.0,20.0,4.0,0.0...|    0|\n|[9.0,13.0,1.0,1.0...|    0|\n|[5.0,2.0,1.0,0.0,...|    0|\n|[7.0,2.0,6.0,1.0,...|    1|\n+--------------------+-----+\nonly showing top 5 rows\n\n"
          ]
        }
      ]
    },
    {
      "cell_type": "code",
      "metadata": {
        "id": "9nsawBjJR2MH"
      },
      "source": [
        "train_data,test_data = final_data.randomSplit([0.8,0.2])"
      ],
      "execution_count": 30,
      "outputs": []
    },
    {
      "cell_type": "code",
      "metadata": {
        "id": "BrH9NKivR2MJ",
        "outputId": "9664b98c-36b2-4e8a-bb73-38c3285f070b"
      },
      "source": [
        "train_data.describe().show()"
      ],
      "execution_count": 31,
      "outputs": [
        {
          "output_type": "stream",
          "name": "stdout",
          "text": [
            "+-------+------------------+\n|summary|             label|\n+-------+------------------+\n|  count|             37544|\n|   mean|0.5117728531855956|\n| stddev|0.4998680378530724|\n|    min|                 0|\n|    max|                 1|\n+-------+------------------+\n\n"
          ]
        }
      ]
    },
    {
      "cell_type": "code",
      "metadata": {
        "id": "Ku-q2foZR2MM",
        "outputId": "0e542c7c-6fa0-41f7-f94b-63797818a692"
      },
      "source": [
        "test_data.describe().show()"
      ],
      "execution_count": 32,
      "outputs": [
        {
          "output_type": "stream",
          "name": "stdout",
          "text": [
            "+-------+------------------+\n|summary|             label|\n+-------+------------------+\n|  count|              9478|\n|   mean|0.5094956741928677|\n| stddev|0.4999361982425833|\n|    min|                 0|\n|    max|                 1|\n+-------+------------------+\n\n"
          ]
        }
      ]
    },
    {
      "cell_type": "markdown",
      "metadata": {
        "id": "oDiQibqRxZcH"
      },
      "source": [
        "# Decision Tree\n",
        "- ..."
      ]
    },
    {
      "cell_type": "code",
      "execution_count": 33,
      "metadata": {},
      "outputs": [],
      "source": [
        "from pyspark.ml.classification import DecisionTreeClassifier"
      ]
    },
    {
      "cell_type": "code",
      "execution_count": 34,
      "metadata": {},
      "outputs": [],
      "source": [
        "tree = DecisionTreeClassifier(featuresCol='features', labelCol='label', predictionCol='prediction')"
      ]
    },
    {
      "cell_type": "code",
      "execution_count": 35,
      "metadata": {},
      "outputs": [],
      "source": [
        "tree_model = tree.fit(train_data)"
      ]
    },
    {
      "cell_type": "code",
      "execution_count": 36,
      "metadata": {},
      "outputs": [],
      "source": [
        "test_model = tree_model.transform(test_data)"
      ]
    },
    {
      "cell_type": "code",
      "execution_count": 37,
      "metadata": {},
      "outputs": [
        {
          "output_type": "stream",
          "name": "stdout",
          "text": [
            "+-----+----------+----------------------------------------+\n|label|prediction|probability                             |\n+-----+----------+----------------------------------------+\n|1    |1.0       |[0.39353176874642243,0.6064682312535775]|\n|1    |1.0       |[0.32442233965392187,0.6755776603460781]|\n|1    |1.0       |[0.32442233965392187,0.6755776603460781]|\n+-----+----------+----------------------------------------+\nonly showing top 3 rows\n\n"
          ]
        }
      ],
      "source": [
        "test_model.select('label', 'prediction', 'probability').show(3, False)"
      ]
    },
    {
      "source": [
        "# Triển khai random forest"
      ],
      "cell_type": "markdown",
      "metadata": {}
    },
    {
      "cell_type": "code",
      "execution_count": 38,
      "metadata": {},
      "outputs": [],
      "source": [
        "from pyspark.ml.classification import RandomForestClassifier"
      ]
    },
    {
      "cell_type": "code",
      "execution_count": 39,
      "metadata": {},
      "outputs": [],
      "source": [
        "rfc = RandomForestClassifier(featuresCol='features', labelCol='label', predictionCol='prediction')"
      ]
    },
    {
      "cell_type": "code",
      "execution_count": 40,
      "metadata": {},
      "outputs": [],
      "source": [
        "rfc_model = rfc.fit(train_data)"
      ]
    },
    {
      "source": [
        "_Xem số cây trog rừng_"
      ],
      "cell_type": "markdown",
      "metadata": {}
    },
    {
      "cell_type": "code",
      "execution_count": 41,
      "metadata": {},
      "outputs": [
        {
          "output_type": "execute_result",
          "data": {
            "text/plain": [
              "20"
            ]
          },
          "metadata": {},
          "execution_count": 41
        }
      ],
      "source": [
        "rfc_model.getNumTrees"
      ]
    },
    {
      "source": [
        "_Xem vai trò của các thuộc tính xem thuộc tính nào quan trong hơn_"
      ],
      "cell_type": "markdown",
      "metadata": {}
    },
    {
      "cell_type": "code",
      "execution_count": 42,
      "metadata": {},
      "outputs": [
        {
          "output_type": "execute_result",
          "data": {
            "text/plain": [
              "SparseVector(8, {0: 0.1907, 1: 0.0166, 2: 0.0148, 3: 0.0672, 4: 0.2573, 5: 0.0324, 6: 0.3756, 7: 0.0453})"
            ]
          },
          "metadata": {},
          "execution_count": 42
        }
      ],
      "source": [
        "rfc_model.featureImportances"
      ]
    },
    {
      "source": [
        "> * Dựa trên các này để chọn feature selection"
      ],
      "cell_type": "markdown",
      "metadata": {}
    },
    {
      "source": [
        "* Đánh giá kết quả"
      ],
      "cell_type": "markdown",
      "metadata": {}
    },
    {
      "cell_type": "code",
      "execution_count": 43,
      "metadata": {},
      "outputs": [],
      "source": [
        "rfc_test_model = rfc_model.transform(test_data)"
      ]
    },
    {
      "cell_type": "code",
      "execution_count": 44,
      "metadata": {},
      "outputs": [
        {
          "output_type": "stream",
          "name": "stdout",
          "text": [
            "+-----+----------+---------------------------------------+\n|label|prediction|probability                            |\n+-----+----------+---------------------------------------+\n|1    |1.0       |[0.402455822191823,0.5975441778081769] |\n|1    |1.0       |[0.3622928439402501,0.6377071560597499]|\n|1    |1.0       |[0.3622928439402501,0.6377071560597499]|\n+-----+----------+---------------------------------------+\nonly showing top 3 rows\n\n"
          ]
        }
      ],
      "source": [
        "rfc_test_model.select('label', 'prediction', 'probability').show(3, False)"
      ]
    },
    {
      "source": [
        "# Đánh giá két quả"
      ],
      "cell_type": "markdown",
      "metadata": {}
    },
    {
      "cell_type": "code",
      "execution_count": 45,
      "metadata": {},
      "outputs": [
        {
          "output_type": "stream",
          "name": "stdout",
          "text": [
            "+-----+----------+-----+\n|label|prediction|count|\n+-----+----------+-----+\n|    1|       0.0| 1448|\n|    0|       0.0| 2560|\n|    1|       1.0| 3381|\n|    0|       1.0| 2089|\n+-----+----------+-----+\n\n"
          ]
        }
      ],
      "source": [
        "rfc_test_model.groupBy('label', 'prediction').count().show()"
      ]
    },
    {
      "cell_type": "code",
      "execution_count": 47,
      "metadata": {},
      "outputs": [],
      "source": [
        "TN = rfc_test_model.filter('prediction = 0 and label = prediction').count()\n",
        "TP = rfc_test_model.filter('prediction = 1 and label = prediction').count()\n",
        "FN = rfc_test_model.filter('prediction = 0 and label != prediction').count()\n",
        "FP = rfc_test_model.filter('prediction = 1 and label != prediction').count()\n",
        "\n"
      ]
    },
    {
      "cell_type": "code",
      "execution_count": 48,
      "metadata": {},
      "outputs": [],
      "source": [
        "accuracy = (TN + TP) / (TN + TP + FN + FP)"
      ]
    },
    {
      "cell_type": "code",
      "execution_count": 49,
      "metadata": {},
      "outputs": [
        {
          "output_type": "execute_result",
          "data": {
            "text/plain": [
              "0.6268200042202996"
            ]
          },
          "metadata": {},
          "execution_count": 49
        }
      ],
      "source": [
        "accuracy"
      ]
    },
    {
      "source": [
        "# Lưu và load model"
      ],
      "cell_type": "markdown",
      "metadata": {}
    },
    {
      "cell_type": "code",
      "execution_count": 50,
      "metadata": {},
      "outputs": [],
      "source": [
        "rfc_model.save('./data/rfc_model_flight_50k')"
      ]
    },
    {
      "cell_type": "code",
      "execution_count": 51,
      "metadata": {},
      "outputs": [],
      "source": [
        "from pyspark.ml.classification import RandomForestClassificationModel"
      ]
    },
    {
      "cell_type": "code",
      "execution_count": 54,
      "metadata": {},
      "outputs": [],
      "source": [
        "rfc_model2 = RandomForestClassificationModel.load('./data/rfc_model_flight_50k')"
      ]
    },
    {
      "cell_type": "code",
      "execution_count": 55,
      "metadata": {},
      "outputs": [],
      "source": [
        "unlabeled_data = test_data.select('features')"
      ]
    },
    {
      "cell_type": "code",
      "execution_count": 56,
      "metadata": {},
      "outputs": [],
      "source": [
        "predictions = rfc_model2.transform(unlabeled_data)"
      ]
    },
    {
      "cell_type": "code",
      "execution_count": 57,
      "metadata": {},
      "outputs": [
        {
          "output_type": "stream",
          "name": "stdout",
          "text": [
            "+-------------------------------------+-------------------------------------+---------------------------------------+----------+\n|features                             |rawPrediction                        |probability                            |prediction|\n+-------------------------------------+-------------------------------------+---------------------------------------+----------+\n|(8,[1,5,6,7],[6.0,378.0,21.33,69.0]) |[8.04911644383646,11.950883556163538]|[0.402455822191823,0.5975441778081769] |1.0       |\n|(8,[1,5,6,7],[6.0,2438.0,12.0,244.0])|[7.245856878805,12.754143121194996]  |[0.3622928439402501,0.6377071560597499]|1.0       |\n|(8,[1,5,6,7],[6.0,2971.0,11.5,291.0])|[7.245856878805,12.754143121194996]  |[0.3622928439402501,0.6377071560597499]|1.0       |\n+-------------------------------------+-------------------------------------+---------------------------------------+----------+\nonly showing top 3 rows\n\n"
          ]
        }
      ],
      "source": [
        "predictions.show(3, False)"
      ]
    },
    {
      "source": [
        "# Boosting - gradient boosted trees"
      ],
      "cell_type": "markdown",
      "metadata": {}
    },
    {
      "source": [
        "from pyspark.ml.classification import GBTClassifier"
      ],
      "cell_type": "code",
      "metadata": {},
      "execution_count": 59,
      "outputs": []
    },
    {
      "cell_type": "code",
      "execution_count": 60,
      "metadata": {},
      "outputs": [],
      "source": [
        "gbt = GBTClassifier(featuresCol='features', labelCol='label', predictionCol='prediction')"
      ]
    },
    {
      "cell_type": "code",
      "execution_count": 61,
      "metadata": {},
      "outputs": [],
      "source": [
        "gbt_model = gbt.fit(train_data)"
      ]
    },
    {
      "cell_type": "code",
      "execution_count": 62,
      "metadata": {},
      "outputs": [
        {
          "output_type": "execute_result",
          "data": {
            "text/plain": [
              "20"
            ]
          },
          "metadata": {},
          "execution_count": 62
        }
      ],
      "source": [
        "gbt_model.getNumTrees"
      ]
    },
    {
      "cell_type": "code",
      "execution_count": 63,
      "metadata": {},
      "outputs": [
        {
          "output_type": "execute_result",
          "data": {
            "text/plain": [
              "SparseVector(8, {0: 0.2055, 1: 0.1465, 2: 0.1449, 3: 0.0904, 4: 0.1591, 5: 0.0617, 6: 0.1538, 7: 0.0382})"
            ]
          },
          "metadata": {},
          "execution_count": 63
        }
      ],
      "source": [
        "gbt_model.featureImportances"
      ]
    },
    {
      "source": [
        "_Đánh giá kết quả_"
      ],
      "cell_type": "markdown",
      "metadata": {}
    },
    {
      "cell_type": "code",
      "execution_count": 64,
      "metadata": {},
      "outputs": [],
      "source": [
        "gbt_test_model = gbt_model.transform(test_data)"
      ]
    },
    {
      "cell_type": "code",
      "execution_count": 65,
      "metadata": {},
      "outputs": [
        {
          "output_type": "stream",
          "name": "stdout",
          "text": [
            "+-----+----------+----------------------------------------+\n|label|prediction|probability                             |\n+-----+----------+----------------------------------------+\n|1    |1.0       |[0.25586921312132144,0.7441307868786786]|\n|1    |1.0       |[0.3445452533501472,0.6554547466498528] |\n|1    |1.0       |[0.33729927509134944,0.6627007249086505]|\n+-----+----------+----------------------------------------+\nonly showing top 3 rows\n\n"
          ]
        }
      ],
      "source": [
        "gbt_test_model.select('label', 'prediction', 'probability').show(3, False)"
      ]
    },
    {
      "cell_type": "code",
      "execution_count": 67,
      "metadata": {},
      "outputs": [
        {
          "output_type": "stream",
          "name": "stdout",
          "text": [
            "+-----+----------+-----+\n|label|prediction|count|\n+-----+----------+-----+\n|    1|       0.0| 1410|\n|    0|       0.0| 2808|\n|    1|       1.0| 3419|\n|    0|       1.0| 1841|\n+-----+----------+-----+\n\n"
          ]
        }
      ],
      "source": [
        "gbt_test_model.groupBy('label', 'prediction').count().show()"
      ]
    },
    {
      "source": [
        "_Lưu model_"
      ],
      "cell_type": "markdown",
      "metadata": {}
    },
    {
      "cell_type": "code",
      "execution_count": 69,
      "metadata": {},
      "outputs": [],
      "source": [
        "gbt_model.save('gbt_model_flight')"
      ]
    },
    {
      "cell_type": "code",
      "execution_count": 70,
      "metadata": {},
      "outputs": [],
      "source": [
        "from pyspark.ml.classification import GBTClassificationModel"
      ]
    },
    {
      "cell_type": "code",
      "execution_count": 71,
      "metadata": {},
      "outputs": [],
      "source": [
        "gbt_model2 = GBTClassificationModel.load('gbt_model_flight')"
      ]
    },
    {
      "cell_type": "code",
      "execution_count": 72,
      "metadata": {},
      "outputs": [],
      "source": [
        "unlabeled_data = test_data.select('features')"
      ]
    },
    {
      "cell_type": "code",
      "execution_count": 73,
      "metadata": {},
      "outputs": [],
      "source": [
        "predictions = gbt_model2.transform(unlabeled_data)"
      ]
    },
    {
      "cell_type": "code",
      "execution_count": 74,
      "metadata": {},
      "outputs": [
        {
          "output_type": "stream",
          "name": "stdout",
          "text": [
            "+-------------------------------------+----------------------------------------+----------+\n|features                             |probability                             |prediction|\n+-------------------------------------+----------------------------------------+----------+\n|(8,[1,5,6,7],[6.0,378.0,21.33,69.0]) |[0.25586921312132144,0.7441307868786786]|1.0       |\n|(8,[1,5,6,7],[6.0,2438.0,12.0,244.0])|[0.3445452533501472,0.6554547466498528] |1.0       |\n|(8,[1,5,6,7],[6.0,2971.0,11.5,291.0])|[0.33729927509134944,0.6627007249086505]|1.0       |\n+-------------------------------------+----------------------------------------+----------+\nonly showing top 3 rows\n\n"
          ]
        }
      ],
      "source": [
        "predictions.select('features', 'probability', 'prediction').show(3, False)"
      ]
    },
    {
      "source": [
        "# So sánh"
      ],
      "cell_type": "markdown",
      "metadata": {}
    },
    {
      "cell_type": "code",
      "execution_count": 75,
      "metadata": {},
      "outputs": [],
      "source": [
        "from pyspark.ml.evaluation import MulticlassClassificationEvaluator"
      ]
    },
    {
      "cell_type": "code",
      "execution_count": 76,
      "metadata": {},
      "outputs": [],
      "source": [
        "dtc_predictions = tree_model.transform(test_data)\n",
        "rfc_predictions = rfc_model.transform(test_data)\n",
        "gbt_predictions = gbt_model.transform(test_data)"
      ]
    },
    {
      "cell_type": "code",
      "execution_count": 77,
      "metadata": {},
      "outputs": [],
      "source": [
        "acc_evaluator = MulticlassClassificationEvaluator(labelCol='label', predictionCol='prediction', metricName='accuracy')"
      ]
    },
    {
      "cell_type": "code",
      "execution_count": 78,
      "metadata": {},
      "outputs": [],
      "source": [
        "dtc_acc = acc_evaluator.evaluate(dtc_predictions)\n",
        "rfc_acc = acc_evaluator.evaluate(rfc_predictions)\n",
        "gbt_acc = acc_evaluator.evaluate(gbt_predictions)\n"
      ]
    },
    {
      "cell_type": "code",
      "execution_count": 79,
      "metadata": {},
      "outputs": [
        {
          "output_type": "execute_result",
          "data": {
            "text/plain": [
              "(0.6254484068368854, 0.6268200042202996, 0.6569951466554126)"
            ]
          },
          "metadata": {},
          "execution_count": 79
        }
      ],
      "source": [
        "dtc_acc, rfc_acc, gbt_acc"
      ]
    },
    {
      "cell_type": "code",
      "execution_count": 80,
      "metadata": {},
      "outputs": [],
      "source": [
        "from pyspark.ml.evaluation import BinaryClassificationEvaluator"
      ]
    },
    {
      "cell_type": "code",
      "execution_count": 81,
      "metadata": {},
      "outputs": [],
      "source": [
        "evaluator = BinaryClassificationEvaluator()"
      ]
    },
    {
      "cell_type": "code",
      "execution_count": 82,
      "metadata": {},
      "outputs": [],
      "source": [
        "dtc_acc_2 = evaluator.evaluate(dtc_predictions)\n",
        "rfc_acc_2 = evaluator.evaluate(rfc_predictions)\n",
        "gbt_acc_2 = evaluator.evaluate(gbt_predictions)"
      ]
    },
    {
      "cell_type": "code",
      "execution_count": 84,
      "metadata": {},
      "outputs": [
        {
          "output_type": "execute_result",
          "data": {
            "text/plain": [
              "(0.6359242603826519, 0.6762839108257399, 0.7151133845264553)"
            ]
          },
          "metadata": {},
          "execution_count": 84
        }
      ],
      "source": [
        "dtc_acc_2,rfc_acc_2,gbt_acc_2,"
      ]
    },
    {
      "cell_type": "code",
      "execution_count": null,
      "metadata": {},
      "outputs": [],
      "source": []
    }
  ]
}