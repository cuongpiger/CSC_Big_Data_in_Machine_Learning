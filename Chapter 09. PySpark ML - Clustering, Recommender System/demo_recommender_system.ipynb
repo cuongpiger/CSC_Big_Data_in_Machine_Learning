{
 "metadata": {
  "language_info": {
   "codemirror_mode": {
    "name": "ipython",
    "version": 3
   },
   "file_extension": ".py",
   "mimetype": "text/x-python",
   "name": "python",
   "nbconvert_exporter": "python",
   "pygments_lexer": "ipython3",
   "version": "3.8.5"
  },
  "orig_nbformat": 2,
  "kernelspec": {
   "name": "python38564bit739b5682ab17410ead4710a41bd80672",
   "display_name": "Python 3.8.5 64-bit"
  },
  "metadata": {
   "interpreter": {
    "hash": "916dbcbb3f70747c44a77c7bcd40155683ae19c65e1c03b4aa3499c5328201f1"
   }
  }
 },
 "nbformat": 4,
 "nbformat_minor": 2,
 "cells": [
  {
   "cell_type": "code",
   "execution_count": 1,
   "metadata": {},
   "outputs": [],
   "source": [
    "%load_ext autoreload\n",
    "%autoreload 2"
   ]
  },
  {
   "cell_type": "code",
   "execution_count": 2,
   "metadata": {},
   "outputs": [],
   "source": [
    "from modules.my_pyspark import *"
   ]
  },
  {
   "cell_type": "code",
   "execution_count": 3,
   "metadata": {},
   "outputs": [],
   "source": [
    "spark = MyPySpark(session=True)"
   ]
  },
  {
   "source": [
    "# 1. Đọc dữ liệu"
   ],
   "cell_type": "markdown",
   "metadata": {}
  },
  {
   "cell_type": "code",
   "execution_count": 4,
   "metadata": {},
   "outputs": [],
   "source": [
    "data_path = r\"./data/movielens_ratings.csv\""
   ]
  },
  {
   "cell_type": "code",
   "execution_count": 5,
   "metadata": {},
   "outputs": [],
   "source": [
    "data = spark.readFile(data_path, 'csv')"
   ]
  },
  {
   "cell_type": "code",
   "execution_count": 6,
   "metadata": {},
   "outputs": [
    {
     "output_type": "stream",
     "name": "stdout",
     "text": [
      "+-------+------+------+\n|movieId|rating|userId|\n+-------+------+------+\n|2      |3.0   |0     |\n|3      |1.0   |0     |\n|5      |2.0   |0     |\n|9      |4.0   |0     |\n|11     |1.0   |0     |\n+-------+------+------+\nonly showing top 5 rows\n\n"
     ]
    }
   ],
   "source": [
    "data.show(5, False)"
   ]
  },
  {
   "source": [
    "* Distinct `users` và `movies`"
   ],
   "cell_type": "markdown",
   "metadata": {}
  },
  {
   "cell_type": "code",
   "execution_count": 7,
   "metadata": {},
   "outputs": [],
   "source": [
    "users = data.select('userId').distinct().count()\n",
    "movies = data.select('movieId').distinct().count()\n",
    "numerator = data.count()"
   ]
  },
  {
   "cell_type": "code",
   "execution_count": 8,
   "metadata": {},
   "outputs": [
    {
     "output_type": "execute_result",
     "data": {
      "text/plain": [
       "(1501, 30, 100)"
      ]
     },
     "metadata": {},
     "execution_count": 8
    }
   ],
   "source": [
    "numerator, users, movies"
   ]
  },
  {
   "source": [
    "# 2. Chuẩn hóa dữ liệu, chuyển đổi dữ liệu\n",
    "# 3. Chia dữ liệu train/test"
   ],
   "cell_type": "markdown",
   "metadata": {}
  },
  {
   "source": [
    "training, test = data.randomSplit((.8, .2))"
   ],
   "cell_type": "code",
   "metadata": {},
   "execution_count": 9,
   "outputs": []
  },
  {
   "source": [
    "# 4. Xây dựng model"
   ],
   "cell_type": "markdown",
   "metadata": {}
  },
  {
   "cell_type": "code",
   "execution_count": 10,
   "metadata": {},
   "outputs": [],
   "source": [
    "from pyspark.ml.evaluation import RegressionEvaluator\n",
    "from pyspark.ml.recommendation import ALS"
   ]
  },
  {
   "cell_type": "code",
   "execution_count": 11,
   "metadata": {},
   "outputs": [],
   "source": [
    "als = ALS(maxIter=5, regParam=0.01, userCol='userId', itemCol='movieId', ratingCol='rating')\n",
    "model = als.fit(training)"
   ]
  },
  {
   "source": [
    "<hr>"
   ],
   "cell_type": "markdown",
   "metadata": {}
  },
  {
   "cell_type": "code",
   "execution_count": 12,
   "metadata": {},
   "outputs": [],
   "source": [
    "als_1 = ALS(maxIter=10, regParam=0.1, alpha=0.001, userCol='userId', itemCol='movieId', ratingCol='rating')\n",
    "model_1 = als_1.fit(training)"
   ]
  },
  {
   "source": [
    "# 5. Đánh giá kết quả"
   ],
   "cell_type": "markdown",
   "metadata": {}
  },
  {
   "cell_type": "code",
   "execution_count": 13,
   "metadata": {},
   "outputs": [],
   "source": [
    "predictions = model.transform(test)"
   ]
  },
  {
   "cell_type": "code",
   "execution_count": 14,
   "metadata": {},
   "outputs": [
    {
     "output_type": "stream",
     "name": "stdout",
     "text": [
      "+-------+------+------+----------+\n|movieId|rating|userId|prediction|\n+-------+------+------+----------+\n|31     |1.0   |19    |0.84917116|\n|31     |3.0   |7     |3.5913668 |\n|31     |1.0   |29    |-0.7865362|\n|31     |1.0   |0     |1.1094093 |\n|85     |1.0   |23    |-2.4602509|\n+-------+------+------+----------+\nonly showing top 5 rows\n\n"
     ]
    }
   ],
   "source": [
    "predictions.show(5, False)"
   ]
  },
  {
   "cell_type": "code",
   "execution_count": 15,
   "metadata": {},
   "outputs": [],
   "source": [
    "evaluator = RegressionEvaluator(metricName='rmse', labelCol='rating', predictionCol='prediction')\n",
    "rmse = evaluator.evaluate(predictions)"
   ]
  },
  {
   "cell_type": "code",
   "execution_count": 16,
   "metadata": {},
   "outputs": [
    {
     "output_type": "execute_result",
     "data": {
      "text/plain": [
       "1.9136859893240186"
      ]
     },
     "metadata": {},
     "execution_count": 16
    }
   ],
   "source": [
    "rmse"
   ]
  },
  {
   "source": [
    "> **Nhận xét**\n",
    "> * RMSE quá cao, `rating` có range là từ $[1, 5]$ mà RMSE là 1.81 là quá cao."
   ],
   "cell_type": "markdown",
   "metadata": {}
  },
  {
   "source": [
    "<hr>"
   ],
   "cell_type": "markdown",
   "metadata": {}
  },
  {
   "cell_type": "code",
   "execution_count": 17,
   "metadata": {},
   "outputs": [],
   "source": [
    "predictions_1 = model_1.transform(test)"
   ]
  },
  {
   "cell_type": "code",
   "execution_count": 18,
   "metadata": {},
   "outputs": [
    {
     "output_type": "stream",
     "name": "stdout",
     "text": [
      "+-------+------+------+----------+\n|movieId|rating|userId|prediction|\n+-------+------+------+----------+\n|31     |1.0   |19    |1.0588802 |\n|31     |3.0   |7     |1.9613568 |\n|31     |1.0   |29    |1.3128003 |\n|31     |1.0   |0     |1.7009472 |\n|85     |1.0   |23    |0.6054102 |\n+-------+------+------+----------+\nonly showing top 5 rows\n\n"
     ]
    }
   ],
   "source": [
    "predictions_1.show(5, False)"
   ]
  },
  {
   "cell_type": "code",
   "execution_count": 19,
   "metadata": {},
   "outputs": [],
   "source": [
    "evaluator_1 = RegressionEvaluator(metricName='rmse', labelCol='rating', predictionCol='prediction')\n",
    "rmse_1 = evaluator_1.evaluate(predictions_1)"
   ]
  },
  {
   "cell_type": "code",
   "execution_count": 20,
   "metadata": {},
   "outputs": [
    {
     "output_type": "execute_result",
     "data": {
      "text/plain": [
       "0.8934605900007409"
      ]
     },
     "metadata": {},
     "execution_count": 20
    }
   ],
   "source": [
    "rmse_1"
   ]
  },
  {
   "source": [
    "# 6. Dự đoán"
   ],
   "cell_type": "markdown",
   "metadata": {}
  },
  {
   "cell_type": "code",
   "execution_count": 21,
   "metadata": {},
   "outputs": [],
   "source": [
    "userId = 27\n",
    "single_user = test.filter(test['userId'] == userId).select(['movieId', 'userId'])"
   ]
  },
  {
   "cell_type": "code",
   "execution_count": 22,
   "metadata": {},
   "outputs": [
    {
     "output_type": "stream",
     "name": "stdout",
     "text": [
      "+-------+------+\n|movieId|userId|\n+-------+------+\n|      9|    27|\n|     19|    27|\n|     44|    27|\n|     52|    27|\n|     61|    27|\n|     66|    27|\n|     72|    27|\n|     75|    27|\n|     83|    27|\n+-------+------+\n\n"
     ]
    }
   ],
   "source": [
    "single_user.show()"
   ]
  },
  {
   "cell_type": "code",
   "execution_count": 23,
   "metadata": {},
   "outputs": [],
   "source": [
    "recommendations = model.transform(single_user)"
   ]
  },
  {
   "cell_type": "code",
   "execution_count": 24,
   "metadata": {},
   "outputs": [
    {
     "output_type": "stream",
     "name": "stdout",
     "text": [
      "+-------+------+-----------+\n|movieId|userId| prediction|\n+-------+------+-----------+\n|      9|    27|  2.4293168|\n|     83|    27|  1.6857698|\n|     72|    27|  1.4565545|\n|     44|    27|  1.4292258|\n|     66|    27|  1.1104711|\n|     19|    27| 0.96073085|\n|     61|    27|-0.23743144|\n|     75|    27|  -0.265545|\n|     52|    27| -1.1673692|\n+-------+------+-----------+\n\n"
     ]
    }
   ],
   "source": [
    "# prediction\n",
    "recommendations.orderBy('prediction', ascending=False).show()"
   ]
  },
  {
   "source": [
    "# 7. Đưa ra đề xuất cho tất cả user"
   ],
   "cell_type": "markdown",
   "metadata": {}
  },
  {
   "cell_type": "code",
   "execution_count": 25,
   "metadata": {},
   "outputs": [
    {
     "output_type": "stream",
     "name": "stdout",
     "text": [
      "Row(userId=28, recommendations=[Row(movieId=89, rating=3.3902018070220947), Row(movieId=2, rating=3.281651020050049), Row(movieId=92, rating=3.0954973697662354)])\n\n\nRow(userId=26, recommendations=[Row(movieId=22, rating=4.822081089019775), Row(movieId=32, rating=4.730332851409912), Row(movieId=51, rating=4.602514266967773)])\n\n\n"
     ]
    }
   ],
   "source": [
    "user_recs = model_1.recommendForAllUsers(3)\n",
    "\n",
    "for user in user_recs.head(2):\n",
    "    print(user)\n",
    "    print('\\n')"
   ]
  },
  {
   "source": [
    "# 8. Đưa ra đề xuất cho một user"
   ],
   "cell_type": "markdown",
   "metadata": {}
  },
  {
   "cell_type": "code",
   "execution_count": 26,
   "metadata": {},
   "outputs": [
    {
     "output_type": "stream",
     "name": "stdout",
     "text": [
      "+------+-------------------------------------------------+\n|userId|recommendations                                  |\n+------+-------------------------------------------------+\n|27    |[{18, 3.2424033}, {32, 2.882874}, {30, 2.806702}]|\n+------+-------------------------------------------------+\n\n"
     ]
    }
   ],
   "source": [
    "userId = 27\n",
    "user_recs.filter(user_recs['userId'] == userId).show(truncate=False)"
   ]
  },
  {
   "cell_type": "code",
   "execution_count": null,
   "metadata": {},
   "outputs": [],
   "source": []
  }
 ]
}