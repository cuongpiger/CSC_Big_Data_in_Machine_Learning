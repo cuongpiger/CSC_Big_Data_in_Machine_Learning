{
  "nbformat": 4,
  "nbformat_minor": 0,
  "metadata": {
    "colab": {
      "name": "Untitled1.ipynb",
      "provenance": []
    },
    "kernelspec": {
      "name": "python3",
      "display_name": "Python 3"
    },
    "language_info": {
      "name": "python"
    }
  },
  "cells": [
    {
      "source": [
        "![](./images/09_01.jpg)"
      ],
      "cell_type": "markdown",
      "metadata": {}
    },
    {
      "cell_type": "code",
      "metadata": {
        "id": "PutFqOoR7Xwb"
      },
      "source": [
        "!apt update\n",
        "!apt-get install openjdk-8-jdk-headless -qq > /dev/null\n",
        "!wget -q http://archive.apache.org/dist/spark/spark-2.4.0/spark-2.4.0-bin-hadoop2.7.tgz\n",
        "!tar -xvf spark-2.4.0-bin-hadoop2.7.tgz\n",
        "!pip install -q findspark\n",
        "import os\n",
        "os.environ[\"JAVA_HOME\"] = \"/usr/lib/jvm/java-8-openjdk-amd64\"\n",
        "os.environ[\"SPARK_HOME\"] = \"/content/spark-2.4.0-bin-hadoop2.7\"\n",
        "import findspark\n",
        "findspark.init()"
      ],
      "execution_count": null,
      "outputs": []
    },
    {
      "cell_type": "code",
      "metadata": {
        "colab": {
          "base_uri": "https://localhost:8080/"
        },
        "id": "xKkJ0YWU7kep",
        "outputId": "8b5b9930-f82d-4065-973f-9e9d4f6cc960"
      },
      "source": [
        "from google.colab import drive\n",
        "drive.mount('/content/gdrive', force_remount=True)"
      ],
      "execution_count": 2,
      "outputs": [
        {
          "output_type": "stream",
          "text": [
            "Mounted at /content/gdrive\n"
          ],
          "name": "stdout"
        }
      ]
    },
    {
      "cell_type": "code",
      "metadata": {
        "colab": {
          "base_uri": "https://localhost:8080/"
        },
        "id": "ZQ3FU9Js73qJ",
        "outputId": "336616f6-6153-4812-ed02-f18ca6cdea0a"
      },
      "source": [
        "%cd '/content/gdrive/My Drive/data/'"
      ],
      "execution_count": 3,
      "outputs": [
        {
          "output_type": "stream",
          "text": [
            "/content/gdrive/My Drive/data\n"
          ],
          "name": "stdout"
        }
      ]
    },
    {
      "cell_type": "code",
      "metadata": {
        "id": "yn_VZ_ZY8yeY"
      },
      "source": [
        "import pyspark\n",
        "from pyspark.sql import SparkSession\n",
        "from pyspark.sql.functions import col"
      ],
      "execution_count": 4,
      "outputs": []
    },
    {
      "cell_type": "code",
      "metadata": {
        "id": "DQ8s1HGL86_u"
      },
      "source": [
        "spark = SparkSession.builder.appName('kmeans_3D_points').getOrCreate()"
      ],
      "execution_count": 5,
      "outputs": []
    },
    {
      "cell_type": "markdown",
      "metadata": {
        "id": "PbY798JX9Kr1"
      },
      "source": [
        "# 1. Đọc dữ liệu"
      ]
    },
    {
      "cell_type": "code",
      "metadata": {
        "id": "AOU73SXC88rh"
      },
      "source": [
        "data = spark.read.csv(\"data3D.csv\", header=True, inferSchema=True)"
      ],
      "execution_count": 6,
      "outputs": []
    },
    {
      "cell_type": "code",
      "metadata": {
        "id": "D1EQDUjP9ASR"
      },
      "source": [
        "data = data.select(['x', 'y', 'z'])"
      ],
      "execution_count": 7,
      "outputs": []
    },
    {
      "cell_type": "code",
      "metadata": {
        "colab": {
          "base_uri": "https://localhost:8080/"
        },
        "id": "Ud6u84ja9Z43",
        "outputId": "2e78ab4b-a94a-4e73-cde9-73bc50d7c25b"
      },
      "source": [
        "data.show(3, False)"
      ],
      "execution_count": 8,
      "outputs": [
        {
          "output_type": "stream",
          "text": [
            "+-----------------+------------------+------------------+\n",
            "|x                |y                 |z                 |\n",
            "+-----------------+------------------+------------------+\n",
            "|5.647627534046943|-6.356222340123802|-7.240816026826695|\n",
            "|4.414367138680041|-10.32624175635328|8.963324308916228 |\n",
            "|5.005396944639823|-9.301070062115645|10.35473056351597 |\n",
            "+-----------------+------------------+------------------+\n",
            "only showing top 3 rows\n",
            "\n"
          ],
          "name": "stdout"
        }
      ]
    },
    {
      "cell_type": "markdown",
      "metadata": {
        "id": "7jAgM7rq_iX-"
      },
      "source": [
        "# 2. Chuẩn dữ liệu"
      ]
    },
    {
      "cell_type": "code",
      "metadata": {
        "id": "7yj1LmJX9bhP"
      },
      "source": [
        "from pyspark.ml.feature import VectorAssembler"
      ],
      "execution_count": 9,
      "outputs": []
    },
    {
      "cell_type": "code",
      "metadata": {
        "id": "Engg1KwH_tAN"
      },
      "source": [
        "vec_assembler = VectorAssembler(inputCols=data.columns, outputCol='features')"
      ],
      "execution_count": 10,
      "outputs": []
    },
    {
      "cell_type": "code",
      "metadata": {
        "id": "UHYhx9bx_uFd"
      },
      "source": [
        "final_data = vec_assembler.transform(data)"
      ],
      "execution_count": 11,
      "outputs": []
    },
    {
      "cell_type": "code",
      "metadata": {
        "colab": {
          "base_uri": "https://localhost:8080/"
        },
        "id": "DP6ZtjFg_vQm",
        "outputId": "e2dd186a-8070-474b-ac66-cf2ff0c3a3a3"
      },
      "source": [
        "final_data.show(3, False)"
      ],
      "execution_count": 12,
      "outputs": [
        {
          "output_type": "stream",
          "text": [
            "+-----------------+------------------+------------------+---------------------------------------------------------+\n",
            "|x                |y                 |z                 |features                                                 |\n",
            "+-----------------+------------------+------------------+---------------------------------------------------------+\n",
            "|5.647627534046943|-6.356222340123802|-7.240816026826695|[5.647627534046943,-6.356222340123802,-7.240816026826695]|\n",
            "|4.414367138680041|-10.32624175635328|8.963324308916228 |[4.414367138680041,-10.32624175635328,8.963324308916228] |\n",
            "|5.005396944639823|-9.301070062115645|10.35473056351597 |[5.005396944639823,-9.301070062115645,10.35473056351597] |\n",
            "+-----------------+------------------+------------------+---------------------------------------------------------+\n",
            "only showing top 3 rows\n",
            "\n"
          ],
          "name": "stdout"
        }
      ]
    },
    {
      "cell_type": "markdown",
      "metadata": {
        "id": "BXNp2VjU_270"
      },
      "source": [
        "# 3. Scale dữ liệu"
      ]
    },
    {
      "cell_type": "code",
      "metadata": {
        "id": "NnDoFQRY_50r"
      },
      "source": [
        "from pyspark.ml.feature import StandardScaler\n"
      ],
      "execution_count": 13,
      "outputs": []
    },
    {
      "cell_type": "code",
      "metadata": {
        "id": "e4vaIrr6_7PF"
      },
      "source": [
        "scaler = StandardScaler(inputCol='features',\n",
        "                        outputCol='scaled_features',\n",
        "                        withStd=True,\n",
        "                        withMean=False)"
      ],
      "execution_count": 14,
      "outputs": []
    },
    {
      "cell_type": "code",
      "metadata": {
        "id": "UebfbLYB__FB"
      },
      "source": [
        "scaler_model =  scaler.fit(final_data)"
      ],
      "execution_count": 15,
      "outputs": []
    },
    {
      "cell_type": "code",
      "metadata": {
        "id": "m2MorNtiAAGw"
      },
      "source": [
        "final_data = scaler_model.transform(final_data)"
      ],
      "execution_count": 16,
      "outputs": []
    },
    {
      "cell_type": "code",
      "metadata": {
        "colab": {
          "base_uri": "https://localhost:8080/"
        },
        "id": "nqdQxiIKABwI",
        "outputId": "66a81eec-c22b-4e03-c20c-28bad8739da6"
      },
      "source": [
        "final_data.show(3, False)"
      ],
      "execution_count": 17,
      "outputs": [
        {
          "output_type": "stream",
          "text": [
            "+-----------------+------------------+------------------+---------------------------------------------------------+------------------------------------------------------------+\n",
            "|x                |y                 |z                 |features                                                 |scaled_features                                             |\n",
            "+-----------------+------------------+------------------+---------------------------------------------------------+------------------------------------------------------------+\n",
            "|5.647627534046943|-6.356222340123802|-7.240816026826695|[5.647627534046943,-6.356222340123802,-7.240816026826695]|[1.0159673512169785,-0.8133579916042443,-1.1300631023636738]|\n",
            "|4.414367138680041|-10.32624175635328|8.963324308916228 |[4.414367138680041,-10.32624175635328,8.963324308916228] |[0.7941127247055376,-1.3213715327025202,1.3988923401033733] |\n",
            "|5.005396944639823|-9.301070062115645|10.35473056351597 |[5.005396944639823,-9.301070062115645,10.35473056351597] |[0.9004347126254749,-1.1901880174546249,1.61604698992401]   |\n",
            "+-----------------+------------------+------------------+---------------------------------------------------------+------------------------------------------------------------+\n",
            "only showing top 3 rows\n",
            "\n"
          ],
          "name": "stdout"
        }
      ]
    },
    {
      "cell_type": "markdown",
      "metadata": {
        "id": "bqKYspERAC71"
      },
      "source": [
        "# 4. Training model\n",
        "## 4.1. Tìm $k-value$"
      ]
    },
    {
      "cell_type": "code",
      "metadata": {
        "id": "nR9zIX_zAcl0"
      },
      "source": [
        "from pyspark.ml.clustering import KMeans\n",
        "from pyspark.ml.evaluation import ClusteringEvaluator"
      ],
      "execution_count": 18,
      "outputs": []
    },
    {
      "cell_type": "code",
      "metadata": {
        "colab": {
          "base_uri": "https://localhost:8080/"
        },
        "id": "QWvIAAxAAeGU",
        "outputId": "30eee72f-0745-44de-8806-5e4452a066e7"
      },
      "source": [
        "k_list = []\n",
        "silhouette_list = []\n",
        "evaluator = ClusteringEvaluator()\n",
        "\n",
        "for k in range(2, 11):\n",
        "    kmeans = KMeans(featuresCol='scaled_features', k=k)\n",
        "    model = kmeans.fit(final_data)\n",
        "    predictions = model.transform(final_data)\n",
        "    eva_value = evaluator.evaluate(predictions)\n",
        "    k_list.append(k)\n",
        "    silhouette_list.append(eva_value)\n",
        "    print(f'--> With k = {k} then silhouette value = {eva_value}')"
      ],
      "execution_count": 19,
      "outputs": [
        {
          "output_type": "stream",
          "text": [
            "--> With k = 2 then silhouette value = 0.4700835660754471\n",
            "--> With k = 3 then silhouette value = 0.9407566693614582\n",
            "--> With k = 4 then silhouette value = 0.9235528500030742\n",
            "--> With k = 5 then silhouette value = 0.8585695113900427\n",
            "--> With k = 6 then silhouette value = 0.7282734045298034\n",
            "--> With k = 7 then silhouette value = 0.6112872906361705\n",
            "--> With k = 8 then silhouette value = 0.5047718651816562\n",
            "--> With k = 9 then silhouette value = 0.4534409345000151\n",
            "--> With k = 10 then silhouette value = 0.4543318677756431\n"
          ],
          "name": "stdout"
        }
      ]
    },
    {
      "cell_type": "markdown",
      "metadata": {
        "id": "efRB3KgDAfDt"
      },
      "source": [
        "> **Nhận xét**\n",
        "> * Theo quy tắc Silhouette thì nếu giá trị Silhouette càng gần với 1 thì càng tốt, nhìn chung $k-value \\in [3, 5]$ là lựa chọn tối ưu."
      ]
    },
    {
      "cell_type": "markdown",
      "metadata": {
        "id": "Qe5aswImAhdO"
      },
      "source": [
        "## 4.2. Trực quan giá trị $k-value$."
      ]
    },
    {
      "cell_type": "code",
      "metadata": {
        "id": "CqOKuAydAuev"
      },
      "source": [
        "import pandas as pd\n",
        "import matplotlib.pyplot as plt\n",
        "import seaborn as sns"
      ],
      "execution_count": 20,
      "outputs": []
    },
    {
      "cell_type": "code",
      "metadata": {
        "id": "OCP1IjKtAv3V"
      },
      "source": [
        "def line(a: pd.Series, b: pd.Series, title=\"\"):\n",
        "    plt.plot(a, b, 'co-')\n",
        "    plt.xlabel(a.name, color='b', weight='bold')\n",
        "    plt.ylabel(b.name, color='b', weight='bold')\n",
        "    plt.title(title, fontsize=18, color='r', weight='bold')\n",
        "    \n",
        "    plt.show()"
      ],
      "execution_count": 21,
      "outputs": []
    },
    {
      "cell_type": "code",
      "metadata": {
        "colab": {
          "base_uri": "https://localhost:8080/",
          "height": 279
        },
        "id": "xirpmG8eAw5o",
        "outputId": "f5a786b1-349f-4097-8f1c-91f85ffb1a0d"
      },
      "source": [
        "line(pd.Series(k_list, name='K-Value'), pd.Series(silhouette_list, name='Sihoutte coefficient'))"
      ],
      "execution_count": 22,
      "outputs": [
        {
          "output_type": "display_data",
          "data": {
            "image/png": "[encoded data removed]",
            "text/plain": [
              "<Figure size 432x288 with 1 Axes>"
            ]
          },
          "metadata": {
            "tags": [],
            "needs_background": "light"
          }
        }
      ]
    },
    {
      "cell_type": "markdown",
      "metadata": {
        "id": "g4apjH0BAyRU"
      },
      "source": [
        "> **Nhận xét**\n",
        "> * Chọn $k-value = 4$\n",
        "\n",
        "## 4.3. Build model với $k-value = 4$"
      ]
    },
    {
      "cell_type": "code",
      "metadata": {
        "id": "AVgf9BfnA1t4"
      },
      "source": [
        "kmeans = KMeans(featuresCol='scaled_features', k=4)\n",
        "model = kmeans.fit(final_data)"
      ],
      "execution_count": 23,
      "outputs": []
    },
    {
      "cell_type": "markdown",
      "metadata": {
        "id": "JjlcPoPvA3tQ"
      },
      "source": [
        "### 4.3.1. Tính silhouette coefficient"
      ]
    },
    {
      "cell_type": "code",
      "metadata": {
        "colab": {
          "base_uri": "https://localhost:8080/"
        },
        "id": "FjDRy9j-A6Mh",
        "outputId": "6bddc454-1f72-45f6-d2cc-e06839be999e"
      },
      "source": [
        "evaluator.evaluate(model.transform(final_data))"
      ],
      "execution_count": 24,
      "outputs": [
        {
          "output_type": "execute_result",
          "data": {
            "text/plain": [
              "0.9235528500030742"
            ]
          },
          "metadata": {
            "tags": []
          },
          "execution_count": 24
        }
      ]
    },
    {
      "cell_type": "markdown",
      "metadata": {
        "id": "cOUVYqytA8F6"
      },
      "source": [
        "### 4.3.2. Hiển thị các cluster center"
      ]
    },
    {
      "cell_type": "code",
      "metadata": {
        "colab": {
          "base_uri": "https://localhost:8080/"
        },
        "id": "-c_0ayMbA966",
        "outputId": "dad5e37f-def1-424b-814e-40b9eb511f40"
      },
      "source": [
        "centers = model.clusterCenters()\n",
        "\n",
        "for center in centers:\n",
        "    print(center)"
      ],
      "execution_count": 25,
      "outputs": [
        {
          "output_type": "stream",
          "text": [
            "[ 0.77554585 -0.80820119 -1.03388802]\n",
            "[-1.59030525  0.93719373  0.31581855]\n",
            "[ 0.74896823 -1.2269015   1.46702482]\n",
            "[-0.45182036  1.15367577  0.72369935]\n"
          ],
          "name": "stdout"
        }
      ]
    },
    {
      "cell_type": "markdown",
      "metadata": {
        "id": "hwFCiRGgA_8U"
      },
      "source": [
        "# 5. Dự đoán kết quả"
      ]
    },
    {
      "cell_type": "code",
      "metadata": {
        "id": "G5pn3_NpBBx5"
      },
      "source": [
        "predictions = model.transform(final_data)"
      ],
      "execution_count": 26,
      "outputs": []
    },
    {
      "cell_type": "code",
      "metadata": {
        "colab": {
          "base_uri": "https://localhost:8080/"
        },
        "id": "9ThEFwV1BC4N",
        "outputId": "550bfa11-9070-4555-b1de-2be6ff8f1ed3"
      },
      "source": [
        "predictions.select('prediction').show(5, False)"
      ],
      "execution_count": 27,
      "outputs": [
        {
          "output_type": "stream",
          "text": [
            "+----------+\n",
            "|prediction|\n",
            "+----------+\n",
            "|0         |\n",
            "|2         |\n",
            "|2         |\n",
            "|2         |\n",
            "|1         |\n",
            "+----------+\n",
            "only showing top 5 rows\n",
            "\n"
          ],
          "name": "stdout"
        }
      ]
    },
    {
      "cell_type": "markdown",
      "metadata": {
        "id": "phAIZjmhBECB"
      },
      "source": [
        "## 5.1. Đếm số lượng mẫu cho từng cluster"
      ]
    },
    {
      "cell_type": "code",
      "metadata": {
        "colab": {
          "base_uri": "https://localhost:8080/"
        },
        "id": "ktuOpQduBGB2",
        "outputId": "ade40b3f-a7f8-4e41-df81-98cf8db79d07"
      },
      "source": [
        "predictions.groupBy('prediction').count().show()"
      ],
      "execution_count": 28,
      "outputs": [
        {
          "output_type": "stream",
          "text": [
            "+----------+------+\n",
            "|prediction| count|\n",
            "+----------+------+\n",
            "|         1|199983|\n",
            "|         3|200017|\n",
            "|         2|200000|\n",
            "|         0|400000|\n",
            "+----------+------+\n",
            "\n"
          ],
          "name": "stdout"
        }
      ]
    },
    {
      "cell_type": "markdown",
      "metadata": {
        "id": "LLh483fkBHle"
      },
      "source": [
        "## 5.2. Gộp cột `prediction` vào `final_data` cho trực quan"
      ]
    },
    {
      "cell_type": "code",
      "metadata": {
        "id": "hE-IX9-UBLfu"
      },
      "source": [
        "data_result = predictions.select('prediction')"
      ],
      "execution_count": 29,
      "outputs": []
    },
    {
      "cell_type": "code",
      "metadata": {
        "id": "Npn-L2FCBMzL"
      },
      "source": [
        "slice_data = final_data.select('scaled_features').rdd.map(lambda x: x[0].tolist()).toDF()"
      ],
      "execution_count": 30,
      "outputs": []
    },
    {
      "cell_type": "code",
      "metadata": {
        "colab": {
          "base_uri": "https://localhost:8080/"
        },
        "id": "rHAwZBy8BNzB",
        "outputId": "21ece5db-c0ce-4dd4-8706-cda02acbef5f"
      },
      "source": [
        "slice_data.show(3, False)"
      ],
      "execution_count": 31,
      "outputs": [
        {
          "output_type": "stream",
          "text": [
            "+------------------+-------------------+-------------------+\n",
            "|_1                |_2                 |_3                 |\n",
            "+------------------+-------------------+-------------------+\n",
            "|1.0159673512169785|-0.8133579916042443|-1.1300631023636738|\n",
            "|0.7941127247055376|-1.3213715327025202|1.3988923401033733 |\n",
            "|0.9004347126254749|-1.1901880174546249|1.61604698992401   |\n",
            "+------------------+-------------------+-------------------+\n",
            "only showing top 3 rows\n",
            "\n"
          ],
          "name": "stdout"
        }
      ]
    },
    {
      "cell_type": "code",
      "metadata": {
        "id": "-ZUH-sjABPvP"
      },
      "source": [
        "import pyspark.sql.functions as f"
      ],
      "execution_count": 32,
      "outputs": []
    },
    {
      "cell_type": "code",
      "metadata": {
        "id": "HNlGJN4eBRso"
      },
      "source": [
        "slice_data = slice_data.withColumn('row_index', f.monotonically_increasing_id())"
      ],
      "execution_count": 33,
      "outputs": []
    },
    {
      "cell_type": "code",
      "metadata": {
        "colab": {
          "base_uri": "https://localhost:8080/"
        },
        "id": "Yr7Ut1U3BT4H",
        "outputId": "b883ed46-347f-4df1-a871-b954189b56a1"
      },
      "source": [
        "slice_data.show(5)"
      ],
      "execution_count": 34,
      "outputs": [
        {
          "output_type": "stream",
          "text": [
            "+-------------------+-------------------+-------------------+---------+\n",
            "|                 _1|                 _2|                 _3|row_index|\n",
            "+-------------------+-------------------+-------------------+---------+\n",
            "| 1.0159673512169785|-0.8133579916042443|-1.1300631023636738|        0|\n",
            "| 0.7941127247055376|-1.3213715327025202| 1.3988923401033733|        1|\n",
            "| 0.9004347126254749|-1.1901880174546249|   1.61604698992401|        2|\n",
            "|  0.741187596138339|-0.9728318176240064|  1.857214477910124|        3|\n",
            "|-1.7815595725145852|  0.770202018652674|  0.319931787264219|        4|\n",
            "+-------------------+-------------------+-------------------+---------+\n",
            "only showing top 5 rows\n",
            "\n"
          ],
          "name": "stdout"
        }
      ]
    },
    {
      "cell_type": "code",
      "metadata": {
        "id": "D3JYxAO-BVuP"
      },
      "source": [
        "data_result = data_result.withColumn('row_index', f.monotonically_increasing_id())"
      ],
      "execution_count": 35,
      "outputs": []
    },
    {
      "cell_type": "code",
      "metadata": {
        "colab": {
          "base_uri": "https://localhost:8080/"
        },
        "id": "GaObPdFJBXlO",
        "outputId": "0e829106-7738-4a1c-f060-e3501150100d"
      },
      "source": [
        "data_result.show(5)"
      ],
      "execution_count": 36,
      "outputs": [
        {
          "output_type": "stream",
          "text": [
            "+----------+---------+\n",
            "|prediction|row_index|\n",
            "+----------+---------+\n",
            "|         0|        0|\n",
            "|         2|        1|\n",
            "|         2|        2|\n",
            "|         2|        3|\n",
            "|         1|        4|\n",
            "+----------+---------+\n",
            "only showing top 5 rows\n",
            "\n"
          ],
          "name": "stdout"
        }
      ]
    },
    {
      "cell_type": "code",
      "metadata": {
        "id": "nsdk5ay-BZpS"
      },
      "source": [
        "slice_data = slice_data.join(data_result, on=['row_index']).sort('row_index').drop('row_index')"
      ],
      "execution_count": 37,
      "outputs": []
    },
    {
      "cell_type": "code",
      "metadata": {
        "colab": {
          "base_uri": "https://localhost:8080/"
        },
        "id": "_g2qedlHBbfU",
        "outputId": "d21009a7-0b96-4316-cc61-ea21729dc05e"
      },
      "source": [
        "slice_data.show(10, False)"
      ],
      "execution_count": 38,
      "outputs": [
        {
          "output_type": "stream",
          "text": [
            "+--------------------+-------------------+-------------------+----------+\n",
            "|_1                  |_2                 |_3                 |prediction|\n",
            "+--------------------+-------------------+-------------------+----------+\n",
            "|1.0159673512169785  |-0.8133579916042443|-1.1300631023636738|0         |\n",
            "|0.7941127247055376  |-1.3213715327025202|1.3988923401033733 |2         |\n",
            "|0.9004347126254749  |-1.1901880174546249|1.61604698992401   |2         |\n",
            "|0.741187596138339   |-0.9728318176240064|1.857214477910124  |2         |\n",
            "|-1.7815595725145852 |0.770202018652674  |0.319931787264219  |1         |\n",
            "|-0.5683602990775889 |1.0970629584357672 |0.368058394452255  |3         |\n",
            "|-1.3307463065161096 |1.029508795222231  |0.2786541199655595 |1         |\n",
            "|-0.17437923969242972|1.0061668172956766 |0.505805866660319  |3         |\n",
            "|0.15164684356028676 |-0.9613230903828895|-1.094297326649475 |0         |\n",
            "|1.0416194796768259  |-1.5618465812109728|1.324024628261001  |2         |\n",
            "+--------------------+-------------------+-------------------+----------+\n",
            "only showing top 10 rows\n",
            "\n"
          ],
          "name": "stdout"
        }
      ]
    },
    {
      "cell_type": "markdown",
      "metadata": {
        "id": "HdsKV1C3BdXk"
      },
      "source": [
        "* Đổi tên cột"
      ]
    },
    {
      "cell_type": "code",
      "metadata": {
        "id": "IFQWu2RSBfb1"
      },
      "source": [
        "slice_data = slice_data.select(col(\"_1\").alias('x_scale'),\n",
        "                                col(\"_2\").alias('y_sacle'),\n",
        "                                col(\"_3\").alias('z_scale'), 'prediction')"
      ],
      "execution_count": 39,
      "outputs": []
    },
    {
      "cell_type": "code",
      "metadata": {
        "colab": {
          "base_uri": "https://localhost:8080/"
        },
        "id": "Pz_4-uAgBis1",
        "outputId": "893e51c0-f0df-4fe6-bb1d-3134072c7a10"
      },
      "source": [
        "slice_data.show(5, False)"
      ],
      "execution_count": 40,
      "outputs": [
        {
          "output_type": "stream",
          "text": [
            "+-------------------+-------------------+-------------------+----------+\n",
            "|x_scale            |y_sacle            |z_scale            |prediction|\n",
            "+-------------------+-------------------+-------------------+----------+\n",
            "|1.0159673512169785 |-0.8133579916042443|-1.1300631023636738|0         |\n",
            "|0.7941127247055376 |-1.3213715327025202|1.3988923401033733 |2         |\n",
            "|0.9004347126254749 |-1.1901880174546249|1.61604698992401   |2         |\n",
            "|0.741187596138339  |-0.9728318176240064|1.857214477910124  |2         |\n",
            "|-1.7815595725145852|0.770202018652674  |0.319931787264219  |1         |\n",
            "+-------------------+-------------------+-------------------+----------+\n",
            "only showing top 5 rows\n",
            "\n"
          ],
          "name": "stdout"
        }
      ]
    },
    {
      "cell_type": "markdown",
      "metadata": {
        "id": "Uxavwwl3BlNt"
      },
      "source": [
        "* Chuyển đổi `slice_data` thành **Pandas.DataFrame**"
      ]
    },
    {
      "cell_type": "code",
      "metadata": {
        "id": "YQJK30E-BqHS"
      },
      "source": [
        "final_data_df = slice_data.toPandas()"
      ],
      "execution_count": 41,
      "outputs": []
    },
    {
      "cell_type": "code",
      "metadata": {
        "colab": {
          "base_uri": "https://localhost:8080/",
          "height": 204
        },
        "id": "NyUaE-M4BuBy",
        "outputId": "1a7fcef5-5afe-4e42-ef61-b006a9c33d11"
      },
      "source": [
        "final_data_df.head()"
      ],
      "execution_count": 42,
      "outputs": [
        {
          "output_type": "execute_result",
          "data": {
            "text/html": [
              "<div>\n",
              "<style scoped>\n",
              "    .dataframe tbody tr th:only-of-type {\n",
              "        vertical-align: middle;\n",
              "    }\n",
              "\n",
              "    .dataframe tbody tr th {\n",
              "        vertical-align: top;\n",
              "    }\n",
              "\n",
              "    .dataframe thead th {\n",
              "        text-align: right;\n",
              "    }\n",
              "</style>\n",
              "<table border=\"1\" class=\"dataframe\">\n",
              "  <thead>\n",
              "    <tr style=\"text-align: right;\">\n",
              "      <th></th>\n",
              "      <th>x_scale</th>\n",
              "      <th>y_sacle</th>\n",
              "      <th>z_scale</th>\n",
              "      <th>prediction</th>\n",
              "    </tr>\n",
              "  </thead>\n",
              "  <tbody>\n",
              "    <tr>\n",
              "      <th>0</th>\n",
              "      <td>1.015967</td>\n",
              "      <td>-0.813358</td>\n",
              "      <td>-1.130063</td>\n",
              "      <td>0</td>\n",
              "    </tr>\n",
              "    <tr>\n",
              "      <th>1</th>\n",
              "      <td>0.794113</td>\n",
              "      <td>-1.321372</td>\n",
              "      <td>1.398892</td>\n",
              "      <td>2</td>\n",
              "    </tr>\n",
              "    <tr>\n",
              "      <th>2</th>\n",
              "      <td>0.900435</td>\n",
              "      <td>-1.190188</td>\n",
              "      <td>1.616047</td>\n",
              "      <td>2</td>\n",
              "    </tr>\n",
              "    <tr>\n",
              "      <th>3</th>\n",
              "      <td>0.741188</td>\n",
              "      <td>-0.972832</td>\n",
              "      <td>1.857214</td>\n",
              "      <td>2</td>\n",
              "    </tr>\n",
              "    <tr>\n",
              "      <th>4</th>\n",
              "      <td>-1.781560</td>\n",
              "      <td>0.770202</td>\n",
              "      <td>0.319932</td>\n",
              "      <td>1</td>\n",
              "    </tr>\n",
              "  </tbody>\n",
              "</table>\n",
              "</div>"
            ],
            "text/plain": [
              "    x_scale   y_sacle   z_scale  prediction\n",
              "0  1.015967 -0.813358 -1.130063           0\n",
              "1  0.794113 -1.321372  1.398892           2\n",
              "2  0.900435 -1.190188  1.616047           2\n",
              "3  0.741188 -0.972832  1.857214           2\n",
              "4 -1.781560  0.770202  0.319932           1"
            ]
          },
          "metadata": {
            "tags": []
          },
          "execution_count": 42
        }
      ]
    },
    {
      "cell_type": "markdown",
      "metadata": {
        "id": "8hzpZvXNBvFY"
      },
      "source": [
        "# 6. Trực quan hóa kết quả"
      ]
    },
    {
      "cell_type": "code",
      "metadata": {
        "id": "t90nH5q7Bwzv"
      },
      "source": [
        "from mpl_toolkits.mplot3d import Axes3D"
      ],
      "execution_count": 43,
      "outputs": []
    },
    {
      "cell_type": "code",
      "metadata": {
        "id": "5gQTs8sPBydD"
      },
      "source": [
        "def draw3D(pDf: pd.DataFrame):\n",
        "    figure = plt.figure(figsize=(12, 8)).gca(projection=\"3d\")\n",
        "    figure.scatter(pDf.iloc[:, 0], pDf.iloc[:, 1], pDf.iloc[:, 2], c=pDf.iloc[:, 3])\n",
        "\n",
        "    col_names = pDf.columns\n",
        "    figure.set_xlabel(col_names[0])\n",
        "    figure.set_ylabel(col_names[1])\n",
        "    figure.set_zlabel(col_names[2])\n",
        "\n",
        "    plt.show()"
      ],
      "execution_count": 44,
      "outputs": []
    },
    {
      "cell_type": "code",
      "metadata": {
        "colab": {
          "base_uri": "https://localhost:8080/",
          "height": 466
        },
        "id": "Yh8XGu9wBzgc",
        "outputId": "6703c9cb-1ca2-42d9-bb32-00ba93463ee1"
      },
      "source": [
        "draw3D(final_data_df)"
      ],
      "execution_count": 45,
      "outputs": [
        {
          "output_type": "display_data",
          "data": {
            "image/png": "[encoded data removed]",
            "text/plain": [
              "<Figure size 864x576 with 1 Axes>"
            ]
          },
          "metadata": {
            "tags": [],
            "needs_background": "light"
          }
        }
      ]
    },
    {
      "cell_type": "markdown",
      "metadata": {
        "id": "tmWfmy_QCDCB"
      },
      "source": [
        "# 7. Combine `final_data` với `slice_data`"
      ]
    },
    {
      "cell_type": "code",
      "metadata": {
        "id": "ulfKhFbsCyz0"
      },
      "source": [
        "final_data = final_data.withColumn('row_index', f.monotonically_increasing_id())\n",
        "slice_data = slice_data.withColumn('row_index', f.monotonically_increasing_id())"
      ],
      "execution_count": 46,
      "outputs": []
    },
    {
      "cell_type": "code",
      "metadata": {
        "colab": {
          "base_uri": "https://localhost:8080/"
        },
        "id": "E2t_0YJfILTp",
        "outputId": "4937a3ad-305c-4114-d4a5-5b93fbb7be56"
      },
      "source": [
        "final_data.show(3, False)"
      ],
      "execution_count": 47,
      "outputs": [
        {
          "output_type": "stream",
          "text": [
            "+-----------------+------------------+------------------+---------------------------------------------------------+------------------------------------------------------------+---------+\n",
            "|x                |y                 |z                 |features                                                 |scaled_features                                             |row_index|\n",
            "+-----------------+------------------+------------------+---------------------------------------------------------+------------------------------------------------------------+---------+\n",
            "|5.647627534046943|-6.356222340123802|-7.240816026826695|[5.647627534046943,-6.356222340123802,-7.240816026826695]|[1.0159673512169785,-0.8133579916042443,-1.1300631023636738]|0        |\n",
            "|4.414367138680041|-10.32624175635328|8.963324308916228 |[4.414367138680041,-10.32624175635328,8.963324308916228] |[0.7941127247055376,-1.3213715327025202,1.3988923401033733] |1        |\n",
            "|5.005396944639823|-9.301070062115645|10.35473056351597 |[5.005396944639823,-9.301070062115645,10.35473056351597] |[0.9004347126254749,-1.1901880174546249,1.61604698992401]   |2        |\n",
            "+-----------------+------------------+------------------+---------------------------------------------------------+------------------------------------------------------------+---------+\n",
            "only showing top 3 rows\n",
            "\n"
          ],
          "name": "stdout"
        }
      ]
    },
    {
      "cell_type": "code",
      "metadata": {
        "colab": {
          "base_uri": "https://localhost:8080/"
        },
        "id": "hYhL6MV0INij",
        "outputId": "082cca36-e916-4242-c664-f325e4afddea"
      },
      "source": [
        "slice_data.show(3, False)"
      ],
      "execution_count": 48,
      "outputs": [
        {
          "output_type": "stream",
          "text": [
            "+------------------+-------------------+-------------------+----------+---------+\n",
            "|x_scale           |y_sacle            |z_scale            |prediction|row_index|\n",
            "+------------------+-------------------+-------------------+----------+---------+\n",
            "|1.0159673512169785|-0.8133579916042443|-1.1300631023636738|0         |0        |\n",
            "|0.7941127247055376|-1.3213715327025202|1.3988923401033733 |2         |1        |\n",
            "|0.9004347126254749|-1.1901880174546249|1.61604698992401   |2         |2        |\n",
            "+------------------+-------------------+-------------------+----------+---------+\n",
            "only showing top 3 rows\n",
            "\n"
          ],
          "name": "stdout"
        }
      ]
    },
    {
      "cell_type": "code",
      "metadata": {
        "id": "1oUdN-l7IPqj"
      },
      "source": [
        "final_data = final_data.join(slice_data, on=['row_index']).sort('row_index').drop('row_index')"
      ],
      "execution_count": 49,
      "outputs": []
    },
    {
      "cell_type": "code",
      "metadata": {
        "colab": {
          "base_uri": "https://localhost:8080/"
        },
        "id": "Wr8AXxsrI3r2",
        "outputId": "5a402a26-ea99-46cc-d4fc-95f1e2c41d9a"
      },
      "source": [
        "final_data.show(3, False)"
      ],
      "execution_count": 50,
      "outputs": [
        {
          "output_type": "stream",
          "text": [
            "+-----------------+------------------+------------------+---------------------------------------------------------+------------------------------------------------------------+------------------+-------------------+-------------------+----------+\n",
            "|x                |y                 |z                 |features                                                 |scaled_features                                             |x_scale           |y_sacle            |z_scale            |prediction|\n",
            "+-----------------+------------------+------------------+---------------------------------------------------------+------------------------------------------------------------+------------------+-------------------+-------------------+----------+\n",
            "|5.647627534046943|-6.356222340123802|-7.240816026826695|[5.647627534046943,-6.356222340123802,-7.240816026826695]|[1.0159673512169785,-0.8133579916042443,-1.1300631023636738]|1.0159673512169785|-0.8133579916042443|-1.1300631023636738|0         |\n",
            "|4.414367138680041|-10.32624175635328|8.963324308916228 |[4.414367138680041,-10.32624175635328,8.963324308916228] |[0.7941127247055376,-1.3213715327025202,1.3988923401033733] |0.7941127247055376|-1.3213715327025202|1.3988923401033733 |2         |\n",
            "|5.005396944639823|-9.301070062115645|10.35473056351597 |[5.005396944639823,-9.301070062115645,10.35473056351597] |[0.9004347126254749,-1.1901880174546249,1.61604698992401]   |0.9004347126254749|-1.1901880174546249|1.61604698992401   |2         |\n",
            "+-----------------+------------------+------------------+---------------------------------------------------------+------------------------------------------------------------+------------------+-------------------+-------------------+----------+\n",
            "only showing top 3 rows\n",
            "\n"
          ],
          "name": "stdout"
        }
      ]
    },
    {
      "cell_type": "code",
      "metadata": {
        "id": "cmPwGvmbI6RW"
      },
      "source": [],
      "execution_count": 50,
      "outputs": []
    }
  ]
}