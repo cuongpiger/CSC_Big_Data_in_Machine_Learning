{
 "metadata": {
  "language_info": {
   "codemirror_mode": {
    "name": "ipython",
    "version": 3
   },
   "file_extension": ".py",
   "mimetype": "text/x-python",
   "name": "python",
   "nbconvert_exporter": "python",
   "pygments_lexer": "ipython3",
   "version": "3.8.5"
  },
  "orig_nbformat": 2,
  "kernelspec": {
   "name": "python38564bit207240a302f84cf383d7b6dbf8fca3f2",
   "display_name": "Python 3.8.5 64-bit"
  },
  "metadata": {
   "interpreter": {
    "hash": "31f2aee4e71d21fbe5cf8b01ff0e069b9275f58929596ceb00d14d90e3e16cd6"
   }
  }
 },
 "nbformat": 4,
 "nbformat_minor": 2,
 "cells": [
  {
   "source": [
    "![](./images/09_02.jpg)"
   ],
   "cell_type": "markdown",
   "metadata": {}
  },
  {
   "source": [
    "**Tóm tắt bài toán**\n",
    "* MỘt công ty công nghệ bi hack và họ đã lưu lại thông tin của các hacker mà chúng để lại, người ta mong muốn dựa trên các thông tin này để biết dc liệu có 2 hay 3 hacker tiến hành hack công ty này trong một phi vụ. Các feature bao gồm:\n",
    "  * `Session_Connection_Time`: thời gian một session duy trì (tính theo phút)\n",
    "  * `Bytes_Transferred`: số bytes lấy đi trong một session\n",
    "  * `Kali_Trace_Used`: có sử dụng các dịch vụ của Kali Linux hay ko\n",
    "  * `Servers_Corrupted`: số server bị hỏng trong quá trình tấn công\n",
    "  * `Pages_Corrupted`: số trang bị truy cấp bất hợp pháp\n",
    "  * `Location`: địa chỉ của hacker (ko quan trọng nếu hacker sử dụng dịch vụ VPN)\n",
    "  * `WPM_Typing_Speed`: tốc độ đánh máy của hacker, tức số từ trong một session\n",
    "* Người ta thấy rằng trong 100 cuộc tấn công, thì các hacker sẽ chia đều nhiệm vụ cho nhau, giả sư 2 hacker thì mỗi hacker sẽ làm 50 cuộc tấn công, 3 hacker thì mỗi hacker sẽ đảm nhiệm 33 cuộc tấn công. Hãy build model xem có 2 hay 3 hacker tham gia tấn công công ty công nghệ này."
   ],
   "cell_type": "markdown",
   "metadata": {}
  },
  {
   "source": [
    "# 1. Đọc dữ liệu"
   ],
   "cell_type": "markdown",
   "metadata": {}
  },
  {
   "cell_type": "code",
   "execution_count": 1,
   "metadata": {},
   "outputs": [],
   "source": [
    "from pyspark.sql import SparkSession"
   ]
  },
  {
   "cell_type": "code",
   "execution_count": 2,
   "metadata": {},
   "outputs": [],
   "source": [
    "spark = SparkSession.builder.appName('hack_find').getOrCreate()"
   ]
  },
  {
   "cell_type": "code",
   "execution_count": 3,
   "metadata": {},
   "outputs": [],
   "source": [
    "dataset = spark.read.csv('./data/hack_data.csv', inferSchema=True, header=True)"
   ]
  },
  {
   "cell_type": "code",
   "execution_count": 4,
   "metadata": {},
   "outputs": [
    {
     "output_type": "stream",
     "name": "stdout",
     "text": [
      "+-----------------------+-----------------+---------------+-----------------+---------------+----------------------+----------------+\n|Session_Connection_Time|Bytes Transferred|Kali_Trace_Used|Servers_Corrupted|Pages_Corrupted|Location              |WPM_Typing_Speed|\n+-----------------------+-----------------+---------------+-----------------+---------------+----------------------+----------------+\n|8.0                    |391.09           |1              |2.96             |7.0            |Slovenia              |72.37           |\n|20.0                   |720.99           |0              |3.04             |9.0            |British Virgin Islands|69.08           |\n|31.0                   |356.32           |1              |3.71             |8.0            |Tokelau               |70.58           |\n+-----------------------+-----------------+---------------+-----------------+---------------+----------------------+----------------+\nonly showing top 3 rows\n\n"
     ]
    }
   ],
   "source": [
    "dataset.show(3, False)"
   ]
  },
  {
   "cell_type": "code",
   "execution_count": 5,
   "metadata": {},
   "outputs": [
    {
     "output_type": "stream",
     "name": "stdout",
     "text": [
      "+-------+-----------------------+------------------+------------------+-----------------+------------------+-----------+------------------+\n|summary|Session_Connection_Time| Bytes Transferred|   Kali_Trace_Used|Servers_Corrupted|   Pages_Corrupted|   Location|  WPM_Typing_Speed|\n+-------+-----------------------+------------------+------------------+-----------------+------------------+-----------+------------------+\n|  count|                    334|               334|               334|              334|               334|        334|               334|\n|   mean|     30.008982035928145| 607.2452694610777|0.5119760479041916|5.258502994011977|10.838323353293413|       null|57.342395209580864|\n| stddev|     14.088200614636158|286.33593163576757|0.5006065264451406| 2.30190693339697|  3.06352633036022|       null| 13.41106336843464|\n|    min|                    1.0|              10.0|                 0|              1.0|               6.0|Afghanistan|              40.0|\n|    max|                   60.0|            1330.5|                 1|             10.0|              15.0|   Zimbabwe|              75.0|\n+-------+-----------------------+------------------+------------------+-----------------+------------------+-----------+------------------+\n\n"
     ]
    }
   ],
   "source": [
    "dataset.describe().show()"
   ]
  },
  {
   "cell_type": "code",
   "execution_count": 6,
   "metadata": {},
   "outputs": [
    {
     "output_type": "stream",
     "name": "stdout",
     "text": [
      "root\n |-- Session_Connection_Time: double (nullable = true)\n |-- Bytes Transferred: double (nullable = true)\n |-- Kali_Trace_Used: integer (nullable = true)\n |-- Servers_Corrupted: double (nullable = true)\n |-- Pages_Corrupted: double (nullable = true)\n |-- Location: string (nullable = true)\n |-- WPM_Typing_Speed: double (nullable = true)\n\n"
     ]
    }
   ],
   "source": [
    "dataset.printSchema()"
   ]
  },
  {
   "source": [
    "# 2. Chuyển đổi dữ liệu"
   ],
   "cell_type": "markdown",
   "metadata": {}
  },
  {
   "cell_type": "code",
   "execution_count": 7,
   "metadata": {},
   "outputs": [],
   "source": [
    "from pyspark.ml.feature import VectorAssembler"
   ]
  },
  {
   "cell_type": "code",
   "execution_count": 8,
   "metadata": {},
   "outputs": [],
   "source": [
    "feat_cols = dataset.columns.copy()"
   ]
  },
  {
   "cell_type": "code",
   "execution_count": 9,
   "metadata": {},
   "outputs": [],
   "source": [
    "feat_cols.remove('Location')"
   ]
  },
  {
   "cell_type": "code",
   "execution_count": 10,
   "metadata": {},
   "outputs": [
    {
     "output_type": "stream",
     "name": "stdout",
     "text": [
      "['Session_Connection_Time', 'Bytes Transferred', 'Kali_Trace_Used', 'Servers_Corrupted', 'Pages_Corrupted', 'WPM_Typing_Speed']\n"
     ]
    }
   ],
   "source": [
    "print(feat_cols)"
   ]
  },
  {
   "cell_type": "code",
   "execution_count": 11,
   "metadata": {},
   "outputs": [],
   "source": [
    "vec_assembler = VectorAssembler(inputCols=feat_cols, outputCol='features')"
   ]
  },
  {
   "cell_type": "code",
   "execution_count": 12,
   "metadata": {},
   "outputs": [],
   "source": [
    "final_data = vec_assembler.transform(dataset)"
   ]
  },
  {
   "source": [
    "final_data.show(3, False)"
   ],
   "cell_type": "code",
   "metadata": {},
   "execution_count": 13,
   "outputs": [
    {
     "output_type": "stream",
     "name": "stdout",
     "text": [
      "+-----------------------+-----------------+---------------+-----------------+---------------+----------------------+----------------+--------------------------------+\n|Session_Connection_Time|Bytes Transferred|Kali_Trace_Used|Servers_Corrupted|Pages_Corrupted|Location              |WPM_Typing_Speed|features                        |\n+-----------------------+-----------------+---------------+-----------------+---------------+----------------------+----------------+--------------------------------+\n|8.0                    |391.09           |1              |2.96             |7.0            |Slovenia              |72.37           |[8.0,391.09,1.0,2.96,7.0,72.37] |\n|20.0                   |720.99           |0              |3.04             |9.0            |British Virgin Islands|69.08           |[20.0,720.99,0.0,3.04,9.0,69.08]|\n|31.0                   |356.32           |1              |3.71             |8.0            |Tokelau               |70.58           |[31.0,356.32,1.0,3.71,8.0,70.58]|\n+-----------------------+-----------------+---------------+-----------------+---------------+----------------------+----------------+--------------------------------+\nonly showing top 3 rows\n\n"
     ]
    }
   ]
  },
  {
   "source": [
    "# 3. Scale dữ liệu"
   ],
   "cell_type": "markdown",
   "metadata": {}
  },
  {
   "cell_type": "code",
   "execution_count": 14,
   "metadata": {},
   "outputs": [],
   "source": [
    "from pyspark.ml.feature import StandardScaler"
   ]
  },
  {
   "cell_type": "code",
   "execution_count": 15,
   "metadata": {},
   "outputs": [],
   "source": [
    "scaler = StandardScaler(inputCol=\"features\",\n",
    "                        outputCol=\"scaled_features\",\n",
    "                        withStd=True,\n",
    "                        withMean=False)"
   ]
  },
  {
   "cell_type": "code",
   "execution_count": 16,
   "metadata": {},
   "outputs": [],
   "source": [
    "scaler_model = scaler.fit(final_data)"
   ]
  },
  {
   "cell_type": "code",
   "execution_count": 17,
   "metadata": {},
   "outputs": [],
   "source": [
    "cluster_final_data = scaler_model.transform(final_data)"
   ]
  },
  {
   "source": [
    "# 4. Build model\n",
    "* Vì người ta chỉ cần biết có 2 hay 3 hacker tham gia tấn công tên $k-value \\in \\{2, 3\\}$ là okla"
   ],
   "cell_type": "markdown",
   "metadata": {}
  },
  {
   "cell_type": "code",
   "execution_count": 18,
   "metadata": {},
   "outputs": [],
   "source": [
    "from pyspark.ml.clustering import KMeans"
   ]
  },
  {
   "cell_type": "code",
   "execution_count": 19,
   "metadata": {},
   "outputs": [],
   "source": [
    "kmeans2 = KMeans(featuresCol='features', k=2)\n",
    "kmeans3 = KMeans(featuresCol='features', k=3)"
   ]
  },
  {
   "cell_type": "code",
   "execution_count": 20,
   "metadata": {},
   "outputs": [],
   "source": [
    "model_k2 = kmeans2.fit(cluster_final_data)\n",
    "model_k3 = kmeans2.fit(cluster_final_data)"
   ]
  },
  {
   "source": [
    "* Tiến hành dự đoán"
   ],
   "cell_type": "markdown",
   "metadata": {}
  },
  {
   "cell_type": "code",
   "execution_count": 21,
   "metadata": {},
   "outputs": [],
   "source": [
    "prediction_k2 = model_k2.transform(cluster_final_data)"
   ]
  },
  {
   "cell_type": "code",
   "execution_count": 22,
   "metadata": {},
   "outputs": [],
   "source": [
    "prediction_k3 = model_k3.transform(cluster_final_data)"
   ]
  },
  {
   "source": [
    "# 5. Đánh giá model - tính silhouette coefficient"
   ],
   "cell_type": "markdown",
   "metadata": {}
  },
  {
   "cell_type": "code",
   "execution_count": 23,
   "metadata": {},
   "outputs": [],
   "source": [
    "from pyspark.ml.evaluation import ClusteringEvaluator"
   ]
  },
  {
   "cell_type": "code",
   "execution_count": 24,
   "metadata": {},
   "outputs": [],
   "source": [
    "elevator = ClusteringEvaluator()"
   ]
  },
  {
   "cell_type": "code",
   "execution_count": 25,
   "metadata": {},
   "outputs": [],
   "source": [
    "silhouette_k2 = elevator.evaluate(prediction_k2)\n",
    "silhouette_k3 = elevator.evaluate(prediction_k3)"
   ]
  },
  {
   "cell_type": "code",
   "execution_count": 26,
   "metadata": {},
   "outputs": [
    {
     "output_type": "execute_result",
     "data": {
      "text/plain": [
       "(0.8048521975748283, 0.8048521975748283)"
      ]
     },
     "metadata": {},
     "execution_count": 26
    }
   ],
   "source": [
    "silhouette_k2, silhouette_k3"
   ]
  },
  {
   "source": [
    "> **Nhận xét**\n",
    "> * Silhouette của $k-value = 2$ và $k-value = 3$ bằng nhau, vậy tức chỉ có duy nhất 2 cluster thôi"
   ],
   "cell_type": "markdown",
   "metadata": {}
  },
  {
   "cell_type": "code",
   "execution_count": 27,
   "metadata": {},
   "outputs": [
    {
     "output_type": "stream",
     "name": "stdout",
     "text": [
      "+----------+-----+\n|prediction|count|\n+----------+-----+\n|         1|  170|\n|         0|  164|\n+----------+-----+\n\n"
     ]
    }
   ],
   "source": [
    "prediction_k2.groupBy('prediction').count().show()"
   ]
  },
  {
   "cell_type": "code",
   "execution_count": 28,
   "metadata": {},
   "outputs": [
    {
     "output_type": "stream",
     "name": "stdout",
     "text": [
      "+----------+-----+\n|prediction|count|\n+----------+-----+\n|         1|  170|\n|         0|  164|\n+----------+-----+\n\n"
     ]
    }
   ],
   "source": [
    "prediction_k3.groupBy('prediction').count().show()"
   ]
  },
  {
   "source": [
    "> **Kết luận**:\n",
    "> Chỉ có 2 hacker"
   ],
   "cell_type": "markdown",
   "metadata": {}
  }
 ]
}