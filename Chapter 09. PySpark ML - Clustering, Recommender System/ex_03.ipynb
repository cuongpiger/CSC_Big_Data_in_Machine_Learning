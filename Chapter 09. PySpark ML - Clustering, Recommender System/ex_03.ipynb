{
 "metadata": {
  "language_info": {
   "codemirror_mode": {
    "name": "ipython",
    "version": 3
   },
   "file_extension": ".py",
   "mimetype": "text/x-python",
   "name": "python",
   "nbconvert_exporter": "python",
   "pygments_lexer": "ipython3",
   "version": "3.8.5"
  },
  "orig_nbformat": 2,
  "kernelspec": {
   "name": "python385jvsc74a57bd0916dbcbb3f70747c44a77c7bcd40155683ae19c65e1c03b4aa3499c5328201f1",
   "display_name": "Python 3.8.5 64-bit"
  },
  "metadata": {
   "interpreter": {
    "hash": "916dbcbb3f70747c44a77c7bcd40155683ae19c65e1c03b4aa3499c5328201f1"
   }
  }
 },
 "nbformat": 4,
 "nbformat_minor": 2,
 "cells": [
  {
   "source": [
    "![](./images/09_03.jpg)"
   ],
   "cell_type": "markdown",
   "metadata": {}
  },
  {
   "source": [
    "# 1. Đọc dữ liệu"
   ],
   "cell_type": "markdown",
   "metadata": {}
  },
  {
   "cell_type": "code",
   "execution_count": 1,
   "metadata": {},
   "outputs": [],
   "source": [
    "from pyspark.sql import SparkSession"
   ]
  },
  {
   "cell_type": "code",
   "execution_count": 2,
   "metadata": {},
   "outputs": [],
   "source": [
    "spark = SparkSession.builder.appName(\"Recommendation_System\").getOrCreate()"
   ]
  },
  {
   "cell_type": "code",
   "execution_count": 3,
   "metadata": {},
   "outputs": [],
   "source": [
    "data = spark.read.json('./data/Musical_Instruments_5.json')"
   ]
  },
  {
   "cell_type": "code",
   "execution_count": 4,
   "metadata": {},
   "outputs": [
    {
     "output_type": "stream",
     "name": "stdout",
     "text": [
      "+----------+--------+-------+--------------------+-----------+--------------+--------------------+--------------------+--------------+\n|      asin| helpful|overall|          reviewText| reviewTime|    reviewerID|        reviewerName|             summary|unixReviewTime|\n+----------+--------+-------+--------------------+-----------+--------------+--------------------+--------------------+--------------+\n|1384719342|  [0, 0]|    5.0|Not much to write...|02 28, 2014|A2IBPI20UZIR0U|cassandra tu \"Yea...|                good|    1393545600|\n|1384719342|[13, 14]|    5.0|The product does ...|03 16, 2013|A14VAT5EAX3D9S|                Jake|                Jake|    1363392000|\n|1384719342|  [1, 1]|    5.0|The primary job o...|08 28, 2013|A195EZSQDW3E21|Rick Bennette \"Ri...|It Does The Job Well|    1377648000|\n+----------+--------+-------+--------------------+-----------+--------------+--------------------+--------------------+--------------+\nonly showing top 3 rows\n\n"
     ]
    }
   ],
   "source": [
    "data.show(3)"
   ]
  },
  {
   "cell_type": "code",
   "execution_count": 5,
   "metadata": {},
   "outputs": [
    {
     "output_type": "stream",
     "name": "stdout",
     "text": [
      "root\n |-- asin: string (nullable = true)\n |-- helpful: array (nullable = true)\n |    |-- element: long (containsNull = true)\n |-- overall: double (nullable = true)\n |-- reviewText: string (nullable = true)\n |-- reviewTime: string (nullable = true)\n |-- reviewerID: string (nullable = true)\n |-- reviewerName: string (nullable = true)\n |-- summary: string (nullable = true)\n |-- unixReviewTime: long (nullable = true)\n\n"
     ]
    }
   ],
   "source": [
    "data.printSchema()"
   ]
  },
  {
   "cell_type": "code",
   "execution_count": 6,
   "metadata": {},
   "outputs": [
    {
     "output_type": "stream",
     "name": "stdout",
     "text": [
      "+-------+-------------+------------------+--------------------+----------+--------------------+--------------------+--------------------+--------------------+\n|summary|         asin|           overall|          reviewText|reviewTime|          reviewerID|        reviewerName|             summary|      unixReviewTime|\n+-------+-------------+------------------+--------------------+----------+--------------------+--------------------+--------------------+--------------------+\n|  count|        10261|             10261|               10261|     10261|               10261|               10234|               10261|               10261|\n|   mean|1.384719342E9| 4.488743787155248|                null|      null|                null|                null|                null|1.3606059557547998E9|\n| stddev|          0.0|0.8946423761647279|                null|      null|                null|                null|                null| 3.779735074639003E7|\n|    min|   1384719342|               1.0|                    |01 1, 2009|A00625243BI8W1SSZ...|\u001a\u001a\u001a\u001a\u001a\u001a\u001a \u001a\u001a\u001a\u001a\u001a \u001a\u001a\u001a...|\"As expected\" is ...|          1095465600|\n|    max|   B00JBIVXGC|               5.0|you will want thi...|12 9, 2013|       AZVME8JMPD3F4|              ~ Kyle|             yup yup|          1405987200|\n+-------+-------------+------------------+--------------------+----------+--------------------+--------------------+--------------------+--------------------+\n\n"
     ]
    }
   ],
   "source": [
    "data.describe().show()"
   ]
  },
  {
   "source": [
    "# 2. Lựa chọn thuộc tính"
   ],
   "cell_type": "markdown",
   "metadata": {}
  },
  {
   "cell_type": "code",
   "execution_count": 7,
   "metadata": {},
   "outputs": [],
   "source": [
    "data_sub = data.select('asin', 'overall', 'reviewerID')"
   ]
  },
  {
   "cell_type": "code",
   "execution_count": 8,
   "metadata": {},
   "outputs": [
    {
     "output_type": "stream",
     "name": "stdout",
     "text": [
      "+----------+-------+--------------+\n|      asin|overall|    reviewerID|\n+----------+-------+--------------+\n|1384719342|    5.0|A2IBPI20UZIR0U|\n|1384719342|    5.0|A14VAT5EAX3D9S|\n|1384719342|    5.0|A195EZSQDW3E21|\n+----------+-------+--------------+\nonly showing top 3 rows\n\n"
     ]
    }
   ],
   "source": [
    "data_sub.show(3)"
   ]
  },
  {
   "source": [
    "# 3. Chuẩn dữ liệu"
   ],
   "cell_type": "markdown",
   "metadata": {}
  },
  {
   "cell_type": "code",
   "execution_count": 9,
   "metadata": {},
   "outputs": [],
   "source": [
    "from pyspark.sql.functions import col, udf, isnan, when, count"
   ]
  },
  {
   "source": [
    "## 3.1. Kiểm tra dữ liệu có _null value_ hay ko"
   ],
   "cell_type": "markdown",
   "metadata": {}
  },
  {
   "cell_type": "code",
   "execution_count": 10,
   "metadata": {},
   "outputs": [
    {
     "output_type": "execute_result",
     "data": {
      "text/plain": [
       "            0\n",
       "asin        0\n",
       "overall     0\n",
       "reviewerID  0"
      ],
      "text/html": "<div>\n<style scoped>\n    .dataframe tbody tr th:only-of-type {\n        vertical-align: middle;\n    }\n\n    .dataframe tbody tr th {\n        vertical-align: top;\n    }\n\n    .dataframe thead th {\n        text-align: right;\n    }\n</style>\n<table border=\"1\" class=\"dataframe\">\n  <thead>\n    <tr style=\"text-align: right;\">\n      <th></th>\n      <th>0</th>\n    </tr>\n  </thead>\n  <tbody>\n    <tr>\n      <th>asin</th>\n      <td>0</td>\n    </tr>\n    <tr>\n      <th>overall</th>\n      <td>0</td>\n    </tr>\n    <tr>\n      <th>reviewerID</th>\n      <td>0</td>\n    </tr>\n  </tbody>\n</table>\n</div>"
     },
     "metadata": {},
     "execution_count": 10
    }
   ],
   "source": [
    "data_sub.select([count(when(col(c).isNull(), c)).alias(c) for c in data_sub.columns]).toPandas().T"
   ]
  },
  {
   "source": [
    "## 3.2. Đếm số lượng các unique value trên `asin` và `reviewerID`"
   ],
   "cell_type": "markdown",
   "metadata": {}
  },
  {
   "cell_type": "code",
   "execution_count": 11,
   "metadata": {},
   "outputs": [],
   "source": [
    "users = data_sub.select('reviewerID').distinct().count()\n",
    "products = data_sub.select('asin').distinct().count()\n",
    "numerator = data_sub.count()"
   ]
  },
  {
   "cell_type": "code",
   "execution_count": 12,
   "metadata": {},
   "outputs": [
    {
     "output_type": "execute_result",
     "data": {
      "text/plain": [
       "(1429, 900, 10261)"
      ]
     },
     "metadata": {},
     "execution_count": 12
    }
   ],
   "source": [
    "users, products, numerator"
   ]
  },
  {
   "source": [
    "## 3.3. Tính toán sparsity\n",
    "* Nếu xây dựng một **rating matrix** thì tổng số cell sẽ là"
   ],
   "cell_type": "markdown",
   "metadata": {}
  },
  {
   "source": [
    "denominator = users*products"
   ],
   "cell_type": "code",
   "metadata": {},
   "execution_count": 13,
   "outputs": []
  },
  {
   "cell_type": "code",
   "execution_count": 14,
   "metadata": {},
   "outputs": [
    {
     "output_type": "execute_result",
     "data": {
      "text/plain": [
       "1286100"
      ]
     },
     "metadata": {},
     "execution_count": 14
    }
   ],
   "source": [
    "denominator"
   ]
  },
  {
   "cell_type": "code",
   "execution_count": 15,
   "metadata": {},
   "outputs": [],
   "source": [
    "sparsity = 1 - (numerator / denominator)"
   ]
  },
  {
   "cell_type": "code",
   "execution_count": 16,
   "metadata": {},
   "outputs": [
    {
     "output_type": "execute_result",
     "data": {
      "text/plain": [
       "0.992021615737501"
      ]
     },
     "metadata": {},
     "execution_count": 16
    }
   ],
   "source": [
    "sparsity"
   ]
  },
  {
   "source": [
    "> **Nhận xét**\n",
    "> * Mật độ thưa thớt rất cao"
   ],
   "cell_type": "markdown",
   "metadata": {}
  },
  {
   "source": [
    "<hr>"
   ],
   "cell_type": "markdown",
   "metadata": {}
  },
  {
   "source": [
    "## 3.4. Indexer cho `data_sub`"
   ],
   "cell_type": "markdown",
   "metadata": {}
  },
  {
   "cell_type": "code",
   "execution_count": 17,
   "metadata": {},
   "outputs": [],
   "source": [
    "from pyspark.ml.feature import StringIndexer\n",
    "from pyspark.ml import Pipeline\n",
    "from pyspark.sql.functions import col"
   ]
  },
  {
   "cell_type": "code",
   "execution_count": 18,
   "metadata": {},
   "outputs": [],
   "source": [
    "indexer = StringIndexer(inputCol='asin', outputCol='asin_idx')"
   ]
  },
  {
   "cell_type": "code",
   "execution_count": 19,
   "metadata": {},
   "outputs": [],
   "source": [
    "indexer_model = indexer.fit(data_sub)"
   ]
  },
  {
   "cell_type": "code",
   "execution_count": 20,
   "metadata": {},
   "outputs": [],
   "source": [
    "data_indexed = indexer_model.transform(data_sub)"
   ]
  },
  {
   "cell_type": "code",
   "execution_count": 21,
   "metadata": {},
   "outputs": [],
   "source": [
    "indexer1 = StringIndexer(inputCol='reviewerID', outputCol='reviewerID_idx')"
   ]
  },
  {
   "cell_type": "code",
   "execution_count": 22,
   "metadata": {},
   "outputs": [],
   "source": [
    "indexer1_model = indexer1.fit(data_indexed)"
   ]
  },
  {
   "cell_type": "code",
   "execution_count": 23,
   "metadata": {},
   "outputs": [],
   "source": [
    "data_indexed = indexer1_model.transform(data_indexed)"
   ]
  },
  {
   "cell_type": "code",
   "execution_count": 24,
   "metadata": {},
   "outputs": [
    {
     "output_type": "stream",
     "name": "stdout",
     "text": [
      "+----------+-------+--------------+--------+--------------+\n|      asin|overall|    reviewerID|asin_idx|reviewerID_idx|\n+----------+-------+--------------+--------+--------------+\n|1384719342|    5.0|A2IBPI20UZIR0U|   703.0|          66.0|\n|1384719342|    5.0|A14VAT5EAX3D9S|   703.0|         266.0|\n|1384719342|    5.0|A195EZSQDW3E21|   703.0|         395.0|\n+----------+-------+--------------+--------+--------------+\nonly showing top 3 rows\n\n"
     ]
    }
   ],
   "source": [
    "data_indexed.show(3)"
   ]
  },
  {
   "source": [
    "# 4. Tạo tập training và test data"
   ],
   "cell_type": "markdown",
   "metadata": {}
  },
  {
   "cell_type": "code",
   "execution_count": 25,
   "metadata": {},
   "outputs": [],
   "source": [
    "training, test = data_indexed.randomSplit((0.8, 0.2))"
   ]
  },
  {
   "source": [
    "# 5. Build model"
   ],
   "cell_type": "markdown",
   "metadata": {}
  },
  {
   "cell_type": "code",
   "execution_count": 26,
   "metadata": {},
   "outputs": [],
   "source": [
    "from pyspark.ml.recommendation import ALS"
   ]
  },
  {
   "cell_type": "code",
   "execution_count": 27,
   "metadata": {},
   "outputs": [],
   "source": [
    "als = ALS(maxIter=10,\n",
    "            regParam=0.09,\n",
    "            rank=25,\n",
    "            userCol='reviewerID_idx',\n",
    "            itemCol='asin_idx',\n",
    "            ratingCol='overall',\n",
    "            coldStartStrategy='drop',\n",
    "            nonnegative=True)"
   ]
  },
  {
   "cell_type": "code",
   "execution_count": 28,
   "metadata": {},
   "outputs": [],
   "source": [
    "model = als.fit(training)"
   ]
  },
  {
   "source": [
    "# 6. Dự đoán"
   ],
   "cell_type": "markdown",
   "metadata": {}
  },
  {
   "cell_type": "code",
   "execution_count": 29,
   "metadata": {},
   "outputs": [],
   "source": [
    "predictions = model.transform(test)"
   ]
  },
  {
   "cell_type": "code",
   "execution_count": 30,
   "metadata": {},
   "outputs": [
    {
     "output_type": "stream",
     "name": "stdout",
     "text": [
      "+--------+--------------+-------+----------+\n|asin_idx|reviewerID_idx|overall|prediction|\n+--------+--------------+-------+----------+\n|   148.0|        1403.0|    4.0| 3.3198583|\n|   148.0|         465.0|    5.0| 4.9273977|\n|   148.0|         121.0|    5.0|  4.687597|\n|   463.0|        1226.0|    5.0|  4.460263|\n|   471.0|         154.0|    5.0| 4.1507263|\n+--------+--------------+-------+----------+\nonly showing top 5 rows\n\n"
     ]
    }
   ],
   "source": [
    "predictions.select('asin_idx', 'reviewerID_idx', 'overall', 'prediction').show(5)"
   ]
  },
  {
   "source": [
    "# 7. Đánh giá model"
   ],
   "cell_type": "markdown",
   "metadata": {}
  },
  {
   "cell_type": "code",
   "execution_count": 31,
   "metadata": {},
   "outputs": [],
   "source": [
    "from pyspark.ml.evaluation import RegressionEvaluator"
   ]
  },
  {
   "cell_type": "code",
   "execution_count": 32,
   "metadata": {},
   "outputs": [],
   "source": [
    "evaluator = RegressionEvaluator(metricName='rmse',\n",
    "                                labelCol='overall',\n",
    "                                predictionCol='prediction')"
   ]
  },
  {
   "cell_type": "code",
   "execution_count": 33,
   "metadata": {},
   "outputs": [],
   "source": [
    "rmse = evaluator.evaluate(predictions)"
   ]
  },
  {
   "cell_type": "code",
   "execution_count": 34,
   "metadata": {},
   "outputs": [
    {
     "output_type": "execute_result",
     "data": {
      "text/plain": [
       "1.0945917511078211"
      ]
     },
     "metadata": {},
     "execution_count": 34
    }
   ],
   "source": [
    "rmse"
   ]
  },
  {
   "source": [
    "> **Nhận xét**\n",
    "> * Trên thang điểm là từ $[1, 5]$ thì nhìn chung rmse là 1 thì khá lớn, nhưng tạm chấp nhận dc"
   ],
   "cell_type": "markdown",
   "metadata": {}
  },
  {
   "source": [
    "# 8. Dự đoán cho tất cả users"
   ],
   "cell_type": "markdown",
   "metadata": {}
  },
  {
   "source": [
    "* Mỗi user lấy 20 sản phẩm tốt nhất"
   ],
   "cell_type": "markdown",
   "metadata": {}
  },
  {
   "cell_type": "code",
   "execution_count": 35,
   "metadata": {},
   "outputs": [],
   "source": [
    "user_recs = model.recommendForAllUsers(20)"
   ]
  },
  {
   "cell_type": "code",
   "execution_count": 36,
   "metadata": {},
   "outputs": [
    {
     "output_type": "stream",
     "name": "stdout",
     "text": [
      "Row(reviewerID_idx=471, recommendations=[Row(asin_idx=25, rating=4.768749237060547), Row(asin_idx=49, rating=4.7623138427734375), Row(asin_idx=811, rating=4.661533832550049), Row(asin_idx=290, rating=4.64962100982666), Row(asin_idx=347, rating=4.621330261230469), Row(asin_idx=320, rating=4.592568397521973), Row(asin_idx=881, rating=4.556781768798828), Row(asin_idx=579, rating=4.555968284606934), Row(asin_idx=148, rating=4.511232376098633), Row(asin_idx=668, rating=4.505163669586182), Row(asin_idx=62, rating=4.503698348999023), Row(asin_idx=251, rating=4.499073505401611), Row(asin_idx=760, rating=4.495541572570801), Row(asin_idx=485, rating=4.484894752502441), Row(asin_idx=131, rating=4.484628200531006), Row(asin_idx=437, rating=4.484457969665527), Row(asin_idx=504, rating=4.478999614715576), Row(asin_idx=53, rating=4.477274417877197), Row(asin_idx=274, rating=4.46561861038208), Row(asin_idx=699, rating=4.463167667388916)])\n\n\n\nRow(reviewerID_idx=1342, recommendations=[Row(asin_idx=337, rating=5.52674674987793), Row(asin_idx=421, rating=5.513857841491699), Row(asin_idx=881, rating=5.394412517547607), Row(asin_idx=84, rating=5.350330829620361), Row(asin_idx=347, rating=5.33613395690918), Row(asin_idx=263, rating=5.325056552886963), Row(asin_idx=49, rating=5.308450698852539), Row(asin_idx=769, rating=5.29432487487793), Row(asin_idx=48, rating=5.284984111785889), Row(asin_idx=437, rating=5.27798318862915), Row(asin_idx=504, rating=5.27609395980835), Row(asin_idx=307, rating=5.269893169403076), Row(asin_idx=320, rating=5.266694068908691), Row(asin_idx=766, rating=5.256207466125488), Row(asin_idx=317, rating=5.236273288726807), Row(asin_idx=536, rating=5.209465503692627), Row(asin_idx=440, rating=5.203792572021484), Row(asin_idx=811, rating=5.201746940612793), Row(asin_idx=218, rating=5.198213577270508), Row(asin_idx=459, rating=5.196639060974121)])\n\n\n\nRow(reviewerID_idx=463, recommendations=[Row(asin_idx=436, rating=4.945775508880615), Row(asin_idx=228, rating=4.825040817260742), Row(asin_idx=64, rating=4.731490612030029), Row(asin_idx=781, rating=4.697462558746338), Row(asin_idx=3, rating=4.6895856857299805), Row(asin_idx=242, rating=4.686975002288818), Row(asin_idx=418, rating=4.668626308441162), Row(asin_idx=399, rating=4.663792133331299), Row(asin_idx=760, rating=4.62158203125), Row(asin_idx=308, rating=4.5706024169921875), Row(asin_idx=732, rating=4.560477256774902), Row(asin_idx=274, rating=4.558872222900391), Row(asin_idx=185, rating=4.55769157409668), Row(asin_idx=474, rating=4.538980960845947), Row(asin_idx=172, rating=4.538168907165527), Row(asin_idx=699, rating=4.5229926109313965), Row(asin_idx=275, rating=4.498969554901123), Row(asin_idx=347, rating=4.4966139793396), Row(asin_idx=435, rating=4.495887756347656), Row(asin_idx=473, rating=4.480643272399902)])\n\n\n\nRow(reviewerID_idx=833, recommendations=[Row(asin_idx=775, rating=4.778197765350342), Row(asin_idx=821, rating=4.763193130493164), Row(asin_idx=506, rating=4.679823875427246), Row(asin_idx=781, rating=4.444523334503174), Row(asin_idx=579, rating=4.416472911834717), Row(asin_idx=881, rating=4.408229351043701), Row(asin_idx=435, rating=4.360109329223633), Row(asin_idx=347, rating=4.346418380737305), Row(asin_idx=64, rating=4.342884063720703), Row(asin_idx=354, rating=4.335988521575928), Row(asin_idx=799, rating=4.335772514343262), Row(asin_idx=114, rating=4.332666397094727), Row(asin_idx=474, rating=4.326406478881836), Row(asin_idx=202, rating=4.304213523864746), Row(asin_idx=214, rating=4.30007791519165), Row(asin_idx=327, rating=4.297471046447754), Row(asin_idx=387, rating=4.296067237854004), Row(asin_idx=275, rating=4.281854629516602), Row(asin_idx=515, rating=4.278653621673584), Row(asin_idx=242, rating=4.266064167022705)])\n\n\n\nRow(reviewerID_idx=496, recommendations=[Row(asin_idx=881, rating=5.427275657653809), Row(asin_idx=515, rating=5.345442771911621), Row(asin_idx=541, rating=5.315888404846191), Row(asin_idx=685, rating=5.30488395690918), Row(asin_idx=623, rating=5.291092872619629), Row(asin_idx=579, rating=5.273317813873291), Row(asin_idx=317, rating=5.272420883178711), Row(asin_idx=307, rating=5.259409427642822), Row(asin_idx=48, rating=5.257964611053467), Row(asin_idx=59, rating=5.247319221496582), Row(asin_idx=769, rating=5.239460468292236), Row(asin_idx=347, rating=5.2354960441589355), Row(asin_idx=708, rating=5.225048542022705), Row(asin_idx=263, rating=5.201007843017578), Row(asin_idx=485, rating=5.200521945953369), Row(asin_idx=459, rating=5.187290668487549), Row(asin_idx=669, rating=5.1849751472473145), Row(asin_idx=504, rating=5.177138805389404), Row(asin_idx=732, rating=5.162992477416992), Row(asin_idx=437, rating=5.161114692687988)])\n\n\n\n"
     ]
    }
   ],
   "source": [
    "for user in user_recs.head(5):\n",
    "    print(user)\n",
    "    print(\"\\n\\n\")"
   ]
  },
  {
   "source": [
    "# 9. Chuyển đổi lại sang pandas.DataFrame"
   ],
   "cell_type": "markdown",
   "metadata": {}
  },
  {
   "cell_type": "code",
   "execution_count": 37,
   "metadata": {},
   "outputs": [],
   "source": [
    "import pandas as pd\n",
    "import pyspark"
   ]
  },
  {
   "cell_type": "code",
   "execution_count": 38,
   "metadata": {},
   "outputs": [],
   "source": [
    "recs = user_recs.toPandas()"
   ]
  },
  {
   "cell_type": "code",
   "execution_count": 39,
   "metadata": {},
   "outputs": [
    {
     "output_type": "execute_result",
     "data": {
      "text/plain": [
       "      reviewerID_idx                                    recommendations\n",
       "0                471  [(25, 4.768749237060547), (49, 4.7623138427734...\n",
       "1               1342  [(337, 5.52674674987793), (421, 5.513857841491...\n",
       "2                463  [(436, 4.945775508880615), (228, 4.82504081726...\n",
       "3                833  [(775, 4.778197765350342), (821, 4.76319313049...\n",
       "4                496  [(881, 5.427275657653809), (515, 5.34544277191...\n",
       "...              ...                                                ...\n",
       "1424             422  [(579, 5.587418556213379), (347, 5.44565153121...\n",
       "1425            1413  [(881, 4.8156514167785645), (354, 4.4654445648...\n",
       "1426             517  [(579, 5.504660606384277), (437, 5.10363101959...\n",
       "1427            1138  [(515, 5.340065002441406), (242, 5.32987785339...\n",
       "1428              89  [(251, 5.278594970703125), (263, 5.16582918167...\n",
       "\n",
       "[1429 rows x 2 columns]"
      ],
      "text/html": "<div>\n<style scoped>\n    .dataframe tbody tr th:only-of-type {\n        vertical-align: middle;\n    }\n\n    .dataframe tbody tr th {\n        vertical-align: top;\n    }\n\n    .dataframe thead th {\n        text-align: right;\n    }\n</style>\n<table border=\"1\" class=\"dataframe\">\n  <thead>\n    <tr style=\"text-align: right;\">\n      <th></th>\n      <th>reviewerID_idx</th>\n      <th>recommendations</th>\n    </tr>\n  </thead>\n  <tbody>\n    <tr>\n      <th>0</th>\n      <td>471</td>\n      <td>[(25, 4.768749237060547), (49, 4.7623138427734...</td>\n    </tr>\n    <tr>\n      <th>1</th>\n      <td>1342</td>\n      <td>[(337, 5.52674674987793), (421, 5.513857841491...</td>\n    </tr>\n    <tr>\n      <th>2</th>\n      <td>463</td>\n      <td>[(436, 4.945775508880615), (228, 4.82504081726...</td>\n    </tr>\n    <tr>\n      <th>3</th>\n      <td>833</td>\n      <td>[(775, 4.778197765350342), (821, 4.76319313049...</td>\n    </tr>\n    <tr>\n      <th>4</th>\n      <td>496</td>\n      <td>[(881, 5.427275657653809), (515, 5.34544277191...</td>\n    </tr>\n    <tr>\n      <th>...</th>\n      <td>...</td>\n      <td>...</td>\n    </tr>\n    <tr>\n      <th>1424</th>\n      <td>422</td>\n      <td>[(579, 5.587418556213379), (347, 5.44565153121...</td>\n    </tr>\n    <tr>\n      <th>1425</th>\n      <td>1413</td>\n      <td>[(881, 4.8156514167785645), (354, 4.4654445648...</td>\n    </tr>\n    <tr>\n      <th>1426</th>\n      <td>517</td>\n      <td>[(579, 5.504660606384277), (437, 5.10363101959...</td>\n    </tr>\n    <tr>\n      <th>1427</th>\n      <td>1138</td>\n      <td>[(515, 5.340065002441406), (242, 5.32987785339...</td>\n    </tr>\n    <tr>\n      <th>1428</th>\n      <td>89</td>\n      <td>[(251, 5.278594970703125), (263, 5.16582918167...</td>\n    </tr>\n  </tbody>\n</table>\n<p>1429 rows × 2 columns</p>\n</div>"
     },
     "metadata": {},
     "execution_count": 39
    }
   ],
   "source": [
    "recs"
   ]
  },
  {
   "cell_type": "code",
   "execution_count": 40,
   "metadata": {},
   "outputs": [],
   "source": [
    "nrecs = recs['recommendations'].apply(pd.Series).merge(recs, right_index=True, left_index=True) \\\n",
    "                                                .drop(['recommendations'], axis=1) \\\n",
    "                                                .melt(id_vars=['reviewerID_idx'], value_name='recommendation') \\\n",
    "                                                .drop('variable', axis=1)\\\n",
    "                                                .dropna()"
   ]
  },
  {
   "cell_type": "code",
   "execution_count": 41,
   "metadata": {},
   "outputs": [],
   "source": [
    "nrecs = nrecs.sort_values('reviewerID_idx')\n",
    "nrecs = pd.concat([nrecs['recommendation'].apply(pd.Series),\n",
    "                    nrecs['reviewerID_idx']], axis=1)\n",
    "nrecs.columns = ['ProductID_index', 'Rating', 'UserID_index']"
   ]
  },
  {
   "cell_type": "code",
   "execution_count": 42,
   "metadata": {},
   "outputs": [
    {
     "output_type": "execute_result",
     "data": {
      "text/plain": [
       "       ProductID_index    Rating  UserID_index\n",
       "7085             188.0  4.981926             0\n",
       "1369             769.0  5.217552             0\n",
       "2798             421.0  5.116728             0\n",
       "24233            780.0  4.916155             0\n",
       "9943             504.0  4.956274             0\n",
       "...                ...       ...           ...\n",
       "24165            352.0  5.152024          1428\n",
       "19878            732.0  5.174199          1428\n",
       "27023            596.0  5.142692          1428\n",
       "7017             307.0  5.253382          1428\n",
       "12733            881.0  5.187408          1428\n",
       "\n",
       "[28580 rows x 3 columns]"
      ],
      "text/html": "<div>\n<style scoped>\n    .dataframe tbody tr th:only-of-type {\n        vertical-align: middle;\n    }\n\n    .dataframe tbody tr th {\n        vertical-align: top;\n    }\n\n    .dataframe thead th {\n        text-align: right;\n    }\n</style>\n<table border=\"1\" class=\"dataframe\">\n  <thead>\n    <tr style=\"text-align: right;\">\n      <th></th>\n      <th>ProductID_index</th>\n      <th>Rating</th>\n      <th>UserID_index</th>\n    </tr>\n  </thead>\n  <tbody>\n    <tr>\n      <th>7085</th>\n      <td>188.0</td>\n      <td>4.981926</td>\n      <td>0</td>\n    </tr>\n    <tr>\n      <th>1369</th>\n      <td>769.0</td>\n      <td>5.217552</td>\n      <td>0</td>\n    </tr>\n    <tr>\n      <th>2798</th>\n      <td>421.0</td>\n      <td>5.116728</td>\n      <td>0</td>\n    </tr>\n    <tr>\n      <th>24233</th>\n      <td>780.0</td>\n      <td>4.916155</td>\n      <td>0</td>\n    </tr>\n    <tr>\n      <th>9943</th>\n      <td>504.0</td>\n      <td>4.956274</td>\n      <td>0</td>\n    </tr>\n    <tr>\n      <th>...</th>\n      <td>...</td>\n      <td>...</td>\n      <td>...</td>\n    </tr>\n    <tr>\n      <th>24165</th>\n      <td>352.0</td>\n      <td>5.152024</td>\n      <td>1428</td>\n    </tr>\n    <tr>\n      <th>19878</th>\n      <td>732.0</td>\n      <td>5.174199</td>\n      <td>1428</td>\n    </tr>\n    <tr>\n      <th>27023</th>\n      <td>596.0</td>\n      <td>5.142692</td>\n      <td>1428</td>\n    </tr>\n    <tr>\n      <th>7017</th>\n      <td>307.0</td>\n      <td>5.253382</td>\n      <td>1428</td>\n    </tr>\n    <tr>\n      <th>12733</th>\n      <td>881.0</td>\n      <td>5.187408</td>\n      <td>1428</td>\n    </tr>\n  </tbody>\n</table>\n<p>28580 rows × 3 columns</p>\n</div>"
     },
     "metadata": {},
     "execution_count": 42
    }
   ],
   "source": [
    "nrecs"
   ]
  },
  {
   "cell_type": "code",
   "execution_count": 43,
   "metadata": {},
   "outputs": [
    {
     "output_type": "stream",
     "name": "stderr",
     "text": [
      "<ipython-input-43-c781c551521e>:9: SettingWithCopyWarning: \nA value is trying to be set on a copy of a slice from a DataFrame.\nTry using .loc[row_indexer,col_indexer] = value instead\n\nSee the caveats in the documentation: https://pandas.pydata.org/pandas-docs/stable/user_guide/indexing.html#returning-a-view-versus-a-copy\n  new['recommendations'] = list(zip(new['asin'], new['Rating']))\n"
     ]
    }
   ],
   "source": [
    "md = data_indexed.select(['reviewerID', 'reviewerID_idx', 'asin', 'asin_idx']).toPandas()\n",
    "dict1 = dict(zip(md['reviewerID_idx'], md['reviewerID']))\n",
    "dict2 = dict(zip(md['asin_idx'], md['asin']))\n",
    "nrecs['reviewerID'] = nrecs['UserID_index'].map(dict1)\n",
    "nrecs['asin'] = nrecs['ProductID_index'].map(dict2)\n",
    "nrecs = nrecs.sort_values('reviewerID')\n",
    "nrecs.reset_index(drop=True, inplace=True)\n",
    "new = nrecs[['reviewerID', 'asin', 'Rating']]\n",
    "new['recommendations'] = list(zip(new['asin'], new['Rating']))\n",
    "res = new[['reviewerID', 'recommendations']]\n",
    "res_new = res['recommendations'].groupby([res['reviewerID']]).apply(list).reset_index()"
   ]
  },
  {
   "cell_type": "code",
   "execution_count": 44,
   "metadata": {},
   "outputs": [
    {
     "output_type": "execute_result",
     "data": {
      "text/plain": [
       "                 reviewerID                                    recommendations\n",
       "0     A00625243BI8W1SSZNLMD  [(B000068O1N, 5.075376510620117), (B0015RIN6U,...\n",
       "1            A10044ECXDUVKS  [(B003BFYDBS, 4.450658798217773), (B00923G9Q0,...\n",
       "2            A102MU6ZC9H1N6  [(B0073XCYO2, 5.112588405609131), (B000OR5928,...\n",
       "3            A109JTUZXO61UY  [(B0015RIN6U, 5.419037818908691), (B000RY68PA,...\n",
       "4            A109ME7C09HM2M  [(B009E3EWPI, 5.347193717956543), (B000RWJQRE,...\n",
       "...                     ...                                                ...\n",
       "1424          AZJPNK73JF3XP  [(B000RKVH0K, 5.327242374420166), (B00C5B20QE,...\n",
       "1425          AZMHABTPXVLG3  [(B000068O1N, 4.04396390914917), (B002HFC6P8, ...\n",
       "1426          AZMIKIG4BB6BZ  [(B000S5V510, 5.176730155944824), (B0002GWXKC,...\n",
       "1427          AZPDO6FLSMLFP  [(B000RKVH0K, 5.191473484039307), (B000U0DU34,...\n",
       "1428          AZVME8JMPD3F4  [(B001KD2CPC, 4.391669750213623), (B00063678K,...\n",
       "\n",
       "[1429 rows x 2 columns]"
      ],
      "text/html": "<div>\n<style scoped>\n    .dataframe tbody tr th:only-of-type {\n        vertical-align: middle;\n    }\n\n    .dataframe tbody tr th {\n        vertical-align: top;\n    }\n\n    .dataframe thead th {\n        text-align: right;\n    }\n</style>\n<table border=\"1\" class=\"dataframe\">\n  <thead>\n    <tr style=\"text-align: right;\">\n      <th></th>\n      <th>reviewerID</th>\n      <th>recommendations</th>\n    </tr>\n  </thead>\n  <tbody>\n    <tr>\n      <th>0</th>\n      <td>A00625243BI8W1SSZNLMD</td>\n      <td>[(B000068O1N, 5.075376510620117), (B0015RIN6U,...</td>\n    </tr>\n    <tr>\n      <th>1</th>\n      <td>A10044ECXDUVKS</td>\n      <td>[(B003BFYDBS, 4.450658798217773), (B00923G9Q0,...</td>\n    </tr>\n    <tr>\n      <th>2</th>\n      <td>A102MU6ZC9H1N6</td>\n      <td>[(B0073XCYO2, 5.112588405609131), (B000OR5928,...</td>\n    </tr>\n    <tr>\n      <th>3</th>\n      <td>A109JTUZXO61UY</td>\n      <td>[(B0015RIN6U, 5.419037818908691), (B000RY68PA,...</td>\n    </tr>\n    <tr>\n      <th>4</th>\n      <td>A109ME7C09HM2M</td>\n      <td>[(B009E3EWPI, 5.347193717956543), (B000RWJQRE,...</td>\n    </tr>\n    <tr>\n      <th>...</th>\n      <td>...</td>\n      <td>...</td>\n    </tr>\n    <tr>\n      <th>1424</th>\n      <td>AZJPNK73JF3XP</td>\n      <td>[(B000RKVH0K, 5.327242374420166), (B00C5B20QE,...</td>\n    </tr>\n    <tr>\n      <th>1425</th>\n      <td>AZMHABTPXVLG3</td>\n      <td>[(B000068O1N, 4.04396390914917), (B002HFC6P8, ...</td>\n    </tr>\n    <tr>\n      <th>1426</th>\n      <td>AZMIKIG4BB6BZ</td>\n      <td>[(B000S5V510, 5.176730155944824), (B0002GWXKC,...</td>\n    </tr>\n    <tr>\n      <th>1427</th>\n      <td>AZPDO6FLSMLFP</td>\n      <td>[(B000RKVH0K, 5.191473484039307), (B000U0DU34,...</td>\n    </tr>\n    <tr>\n      <th>1428</th>\n      <td>AZVME8JMPD3F4</td>\n      <td>[(B001KD2CPC, 4.391669750213623), (B00063678K,...</td>\n    </tr>\n  </tbody>\n</table>\n<p>1429 rows × 2 columns</p>\n</div>"
     },
     "metadata": {},
     "execution_count": 44
    }
   ],
   "source": [
    "res_new"
   ]
  },
  {
   "cell_type": "code",
   "execution_count": null,
   "metadata": {},
   "outputs": [],
   "source": []
  }
 ]
}