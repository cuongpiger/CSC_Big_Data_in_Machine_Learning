{
 "metadata": {
  "language_info": {
   "codemirror_mode": {
    "name": "ipython",
    "version": 3
   },
   "file_extension": ".py",
   "mimetype": "text/x-python",
   "name": "python",
   "nbconvert_exporter": "python",
   "pygments_lexer": "ipython3",
   "version": "3.8.5"
  },
  "orig_nbformat": 2,
  "kernelspec": {
   "name": "python385jvsc74a57bd0916dbcbb3f70747c44a77c7bcd40155683ae19c65e1c03b4aa3499c5328201f1",
   "display_name": "Python 3.8.5 64-bit"
  },
  "metadata": {
   "interpreter": {
    "hash": "916dbcbb3f70747c44a77c7bcd40155683ae19c65e1c03b4aa3499c5328201f1"
   }
  }
 },
 "nbformat": 4,
 "nbformat_minor": 2,
 "cells": [
  {
   "source": [
    "![](./images/09_04.jpg)"
   ],
   "cell_type": "markdown",
   "metadata": {}
  },
  {
   "source": [
    "# 1. Đọc dữ liệu"
   ],
   "cell_type": "markdown",
   "metadata": {}
  },
  {
   "cell_type": "code",
   "execution_count": 1,
   "metadata": {},
   "outputs": [],
   "source": [
    "from pyspark.sql import SparkSession"
   ]
  },
  {
   "cell_type": "code",
   "execution_count": 2,
   "metadata": {},
   "outputs": [],
   "source": [
    "spark = SparkSession.builder.appName('Recommendation_Beauty').getOrCreate()"
   ]
  },
  {
   "source": [
    "data = spark.read.json(\"../../local_data/Beauty_5.json\")"
   ],
   "cell_type": "code",
   "metadata": {},
   "execution_count": 3,
   "outputs": []
  },
  {
   "cell_type": "code",
   "execution_count": 4,
   "metadata": {},
   "outputs": [
    {
     "output_type": "stream",
     "name": "stdout",
     "text": [
      "+----------+-------+-------+--------------------+-----------+--------------+------------+--------------------+--------------+\n|      asin|helpful|overall|          reviewText| reviewTime|    reviewerID|reviewerName|             summary|unixReviewTime|\n+----------+-------+-------+--------------------+-----------+--------------+------------+--------------------+--------------+\n|7806397051| [3, 4]|    1.0|Very oily and cre...|01 30, 2014|A1YJEY40YUW4SE|      Andrea|Don't waste your ...|    1391040000|\n|7806397051| [1, 1]|    3.0|This palette was ...|04 18, 2014| A60XNB876KYML|  Jessica H.|         OK Palette!|    1397779200|\n|7806397051| [0, 1]|    4.0|The texture of th...| 09 6, 2013|A3G6XNM240RMWA|       Karen|       great quality|    1378425600|\n|7806397051| [2, 2]|    2.0|I really can't te...| 12 8, 2013|A1PQFP6SAJ6D80|       Norah|Do not work on my...|    1386460800|\n|7806397051| [0, 0]|    3.0|It was a little s...|10 19, 2013|A38FVHZTNQ271F|   Nova Amor|          It's okay.|    1382140800|\n+----------+-------+-------+--------------------+-----------+--------------+------------+--------------------+--------------+\nonly showing top 5 rows\n\n"
     ]
    }
   ],
   "source": [
    "data.show(5)"
   ]
  },
  {
   "cell_type": "code",
   "execution_count": 5,
   "metadata": {},
   "outputs": [],
   "source": [
    "data_sub = data.select(['asin', 'overall', 'reviewerID'])"
   ]
  },
  {
   "cell_type": "code",
   "execution_count": 6,
   "metadata": {},
   "outputs": [
    {
     "output_type": "execute_result",
     "data": {
      "text/plain": [
       "198502"
      ]
     },
     "metadata": {},
     "execution_count": 6
    }
   ],
   "source": [
    "data_sub.count()"
   ]
  },
  {
   "source": [
    "# 2. Chuẩn dữ liệu"
   ],
   "cell_type": "markdown",
   "metadata": {}
  },
  {
   "cell_type": "code",
   "execution_count": 7,
   "metadata": {},
   "outputs": [],
   "source": [
    "from pyspark.sql.functions import col, udf, isnan, when, count"
   ]
  },
  {
   "cell_type": "code",
   "execution_count": 8,
   "metadata": {},
   "outputs": [
    {
     "output_type": "execute_result",
     "data": {
      "text/plain": [
       "            0\n",
       "asin        0\n",
       "overall     0\n",
       "reviewerID  0"
      ],
      "text/html": "<div>\n<style scoped>\n    .dataframe tbody tr th:only-of-type {\n        vertical-align: middle;\n    }\n\n    .dataframe tbody tr th {\n        vertical-align: top;\n    }\n\n    .dataframe thead th {\n        text-align: right;\n    }\n</style>\n<table border=\"1\" class=\"dataframe\">\n  <thead>\n    <tr style=\"text-align: right;\">\n      <th></th>\n      <th>0</th>\n    </tr>\n  </thead>\n  <tbody>\n    <tr>\n      <th>asin</th>\n      <td>0</td>\n    </tr>\n    <tr>\n      <th>overall</th>\n      <td>0</td>\n    </tr>\n    <tr>\n      <th>reviewerID</th>\n      <td>0</td>\n    </tr>\n  </tbody>\n</table>\n</div>"
     },
     "metadata": {},
     "execution_count": 8
    }
   ],
   "source": [
    "data_sub.select([count(when(col(c).isNull(), c)).alias(c) for c in data_sub.columns]).toPandas().T"
   ]
  },
  {
   "cell_type": "code",
   "execution_count": 9,
   "metadata": {},
   "outputs": [],
   "source": [
    "users = data_sub.select('reviewerID').distinct().count()\n",
    "products = data_sub.select('asin').distinct().count()\n",
    "numerator = data_sub.count()"
   ]
  },
  {
   "cell_type": "code",
   "execution_count": 10,
   "metadata": {},
   "outputs": [
    {
     "output_type": "execute_result",
     "data": {
      "text/plain": [
       "(22363, 12101, 198502)"
      ]
     },
     "metadata": {},
     "execution_count": 10
    }
   ],
   "source": [
    "users, products, numerator"
   ]
  },
  {
   "source": [
    "* Tính toán độ thưa thớt của ma trận"
   ],
   "cell_type": "markdown",
   "metadata": {}
  },
  {
   "cell_type": "code",
   "execution_count": 11,
   "metadata": {},
   "outputs": [],
   "source": [
    "denominator = users * products"
   ]
  },
  {
   "cell_type": "code",
   "execution_count": 12,
   "metadata": {},
   "outputs": [
    {
     "output_type": "execute_result",
     "data": {
      "text/plain": [
       "270614663"
      ]
     },
     "metadata": {},
     "execution_count": 12
    }
   ],
   "source": [
    "denominator"
   ]
  },
  {
   "cell_type": "code",
   "execution_count": 13,
   "metadata": {},
   "outputs": [],
   "source": [
    "sparsity = 1 - (numerator / denominator)"
   ]
  },
  {
   "cell_type": "code",
   "execution_count": 14,
   "metadata": {},
   "outputs": [
    {
     "output_type": "execute_result",
     "data": {
      "text/plain": [
       "0.9992664772935825"
      ]
     },
     "metadata": {},
     "execution_count": 14
    }
   ],
   "source": [
    "sparsity"
   ]
  },
  {
   "source": [
    "## 2.1. Indexer cho `data_sub`"
   ],
   "cell_type": "markdown",
   "metadata": {}
  },
  {
   "cell_type": "code",
   "execution_count": 15,
   "metadata": {},
   "outputs": [],
   "source": [
    "from pyspark.ml.feature import StringIndexer\n",
    "from pyspark.ml import Pipeline\n",
    "from pyspark.sql.functions import col"
   ]
  },
  {
   "cell_type": "code",
   "execution_count": 16,
   "metadata": {},
   "outputs": [],
   "source": [
    "indexer = StringIndexer(inputCol='asin', outputCol='asin_idx')"
   ]
  },
  {
   "cell_type": "code",
   "execution_count": 17,
   "metadata": {},
   "outputs": [],
   "source": [
    "indexer_model = indexer.fit(data_sub)"
   ]
  },
  {
   "cell_type": "code",
   "execution_count": 18,
   "metadata": {},
   "outputs": [],
   "source": [
    "data_indexed = indexer_model.transform(data_sub)"
   ]
  },
  {
   "cell_type": "code",
   "execution_count": 19,
   "metadata": {},
   "outputs": [],
   "source": [
    "indexer1 = StringIndexer(inputCol='reviewerID', outputCol='reviewerID_idx')"
   ]
  },
  {
   "cell_type": "code",
   "execution_count": 20,
   "metadata": {},
   "outputs": [],
   "source": [
    "indexer1_model = indexer1.fit(data_indexed)"
   ]
  },
  {
   "cell_type": "code",
   "execution_count": 21,
   "metadata": {},
   "outputs": [],
   "source": [
    "data_indexed = indexer1_model.transform(data_indexed)"
   ]
  },
  {
   "cell_type": "code",
   "execution_count": 22,
   "metadata": {},
   "outputs": [
    {
     "output_type": "stream",
     "name": "stdout",
     "text": [
      "+----------+-------+--------------+--------+--------------+\n|      asin|overall|    reviewerID|asin_idx|reviewerID_idx|\n+----------+-------+--------------+--------+--------------+\n|7806397051|    1.0|A1YJEY40YUW4SE|  6194.0|       16983.0|\n|7806397051|    3.0| A60XNB876KYML|  6194.0|       10399.0|\n|7806397051|    4.0|A3G6XNM240RMWA|  6194.0|        5985.0|\n+----------+-------+--------------+--------+--------------+\nonly showing top 3 rows\n\n"
     ]
    }
   ],
   "source": [
    "data_indexed.show(3)"
   ]
  },
  {
   "source": [
    "# 3. Tạo tập training và test data"
   ],
   "cell_type": "markdown",
   "metadata": {}
  },
  {
   "cell_type": "code",
   "execution_count": 23,
   "metadata": {},
   "outputs": [],
   "source": [
    "training, test = data_indexed.randomSplit((0.8, 0.2))"
   ]
  },
  {
   "source": [
    "# 4. Build model"
   ],
   "cell_type": "markdown",
   "metadata": {}
  },
  {
   "cell_type": "code",
   "execution_count": 24,
   "metadata": {},
   "outputs": [],
   "source": [
    "from pyspark.ml.recommendation import ALS"
   ]
  },
  {
   "cell_type": "code",
   "execution_count": 25,
   "metadata": {},
   "outputs": [],
   "source": [
    "als = ALS(maxIter=10,\n",
    "            regParam=0.09,\n",
    "            rank=25,\n",
    "            userCol='reviewerID_idx',\n",
    "            itemCol='asin_idx',\n",
    "            ratingCol='overall',\n",
    "            coldStartStrategy='drop',\n",
    "            nonnegative=True)"
   ]
  },
  {
   "cell_type": "code",
   "execution_count": 26,
   "metadata": {},
   "outputs": [],
   "source": [
    "model = als.fit(training)"
   ]
  },
  {
   "source": [
    "# 5. Dự đoán"
   ],
   "cell_type": "markdown",
   "metadata": {}
  },
  {
   "cell_type": "code",
   "execution_count": 27,
   "metadata": {},
   "outputs": [],
   "source": [
    "predictions = model.transform(test)"
   ]
  },
  {
   "cell_type": "code",
   "execution_count": 28,
   "metadata": {},
   "outputs": [
    {
     "output_type": "stream",
     "name": "stdout",
     "text": [
      "+--------+--------------+-------+----------+\n|asin_idx|reviewerID_idx|overall|prediction|\n+--------+--------------+-------+----------+\n|   148.0|         493.0|    4.0| 3.6282616|\n|   148.0|           1.0|    5.0| 3.9160838|\n|   148.0|        3764.0|    4.0| 3.3301628|\n|   148.0|       16014.0|    5.0| 3.3559623|\n|   148.0|         455.0|    5.0| 3.6481733|\n+--------+--------------+-------+----------+\nonly showing top 5 rows\n\n"
     ]
    }
   ],
   "source": [
    "predictions.select('asin_idx', 'reviewerID_idx', 'overall', 'prediction').show(5)"
   ]
  },
  {
   "source": [
    "# 6. Đánh giá model"
   ],
   "cell_type": "markdown",
   "metadata": {}
  },
  {
   "cell_type": "code",
   "execution_count": 29,
   "metadata": {},
   "outputs": [],
   "source": [
    "from pyspark.ml.evaluation import RegressionEvaluator"
   ]
  },
  {
   "cell_type": "code",
   "execution_count": 30,
   "metadata": {},
   "outputs": [],
   "source": [
    "evaluator = RegressionEvaluator(metricName='rmse',\n",
    "                                labelCol='overall',\n",
    "                                predictionCol='prediction')"
   ]
  },
  {
   "cell_type": "code",
   "execution_count": 31,
   "metadata": {},
   "outputs": [],
   "source": [
    "rmse = evaluator.evaluate(predictions)"
   ]
  },
  {
   "cell_type": "code",
   "execution_count": 32,
   "metadata": {},
   "outputs": [
    {
     "output_type": "execute_result",
     "data": {
      "text/plain": [
       "1.2859662330735018"
      ]
     },
     "metadata": {},
     "execution_count": 32
    }
   ],
   "source": [
    "rmse"
   ]
  },
  {
   "source": [
    "> **Nhận xét**\n",
    "> * Trên thang điểm là từ $[1, 5]$ thì nhìn chung rmse là 1 thì khá lớn, nhưng tạm chấp nhận dc"
   ],
   "cell_type": "markdown",
   "metadata": {}
  },
  {
   "source": [
    "# 7. Dự đoán cho tất cả users"
   ],
   "cell_type": "markdown",
   "metadata": {}
  },
  {
   "cell_type": "code",
   "execution_count": 33,
   "metadata": {},
   "outputs": [],
   "source": [
    "user_recs = model.recommendForAllUsers(20)"
   ]
  },
  {
   "cell_type": "code",
   "execution_count": 34,
   "metadata": {},
   "outputs": [
    {
     "output_type": "stream",
     "name": "stdout",
     "text": [
      "Row(reviewerID_idx=1580, recommendations=[Row(asin_idx=8643, rating=5.330796241760254), Row(asin_idx=5867, rating=5.309784889221191), Row(asin_idx=8890, rating=5.287563800811768), Row(asin_idx=5137, rating=5.26399564743042), Row(asin_idx=10281, rating=5.249861717224121), Row(asin_idx=12075, rating=5.138065338134766), Row(asin_idx=12067, rating=5.138065338134766), Row(asin_idx=12068, rating=5.138065338134766), Row(asin_idx=4116, rating=5.039095401763916), Row(asin_idx=12071, rating=5.028798580169678), Row(asin_idx=11395, rating=5.0271430015563965), Row(asin_idx=12069, rating=5.0271430015563965), Row(asin_idx=11233, rating=4.978743553161621), Row(asin_idx=3591, rating=4.9759840965271), Row(asin_idx=11754, rating=4.963536262512207), Row(asin_idx=4104, rating=4.9616217613220215), Row(asin_idx=8113, rating=4.942749977111816), Row(asin_idx=7517, rating=4.935157299041748), Row(asin_idx=9328, rating=4.930989742279053), Row(asin_idx=11108, rating=4.928097248077393)])\n\n\n\nRow(reviewerID_idx=4900, recommendations=[Row(asin_idx=6714, rating=5.990791320800781), Row(asin_idx=2981, rating=5.877415657043457), Row(asin_idx=11376, rating=5.866676330566406), Row(asin_idx=9176, rating=5.815159320831299), Row(asin_idx=3203, rating=5.776410102844238), Row(asin_idx=1283, rating=5.760447978973389), Row(asin_idx=9450, rating=5.639523506164551), Row(asin_idx=8941, rating=5.596519947052002), Row(asin_idx=6051, rating=5.577956199645996), Row(asin_idx=10644, rating=5.573288440704346), Row(asin_idx=3459, rating=5.570506572723389), Row(asin_idx=4744, rating=5.556710720062256), Row(asin_idx=5137, rating=5.554922580718994), Row(asin_idx=6680, rating=5.534612655639648), Row(asin_idx=9995, rating=5.524267196655273), Row(asin_idx=4418, rating=5.524222373962402), Row(asin_idx=9973, rating=5.517143726348877), Row(asin_idx=1443, rating=5.505292892456055), Row(asin_idx=7356, rating=5.503605365753174), Row(asin_idx=1158, rating=5.491204261779785)])\n\n\n\nRow(reviewerID_idx=5300, recommendations=[Row(asin_idx=4097, rating=6.324025630950928), Row(asin_idx=10644, rating=6.2677998542785645), Row(asin_idx=4640, rating=6.265222072601318), Row(asin_idx=9176, rating=6.25137996673584), Row(asin_idx=6240, rating=6.212591648101807), Row(asin_idx=6422, rating=6.1707563400268555), Row(asin_idx=3457, rating=6.136393070220947), Row(asin_idx=3212, rating=6.107183933258057), Row(asin_idx=8394, rating=6.09604024887085), Row(asin_idx=8821, rating=6.085943698883057), Row(asin_idx=7334, rating=6.064177989959717), Row(asin_idx=4227, rating=6.04438591003418), Row(asin_idx=5394, rating=6.024104595184326), Row(asin_idx=10641, rating=6.020780563354492), Row(asin_idx=8617, rating=5.995619297027588), Row(asin_idx=10205, rating=5.981664180755615), Row(asin_idx=8545, rating=5.979524612426758), Row(asin_idx=4538, rating=5.945952892303467), Row(asin_idx=4034, rating=5.942142009735107), Row(asin_idx=8764, rating=5.937569618225098)])\n\n\n\nRow(reviewerID_idx=6620, recommendations=[Row(asin_idx=4327, rating=5.79592752456665), Row(asin_idx=6059, rating=5.7842936515808105), Row(asin_idx=11640, rating=5.7333245277404785), Row(asin_idx=3425, rating=5.7205729484558105), Row(asin_idx=7358, rating=5.707804203033447), Row(asin_idx=4073, rating=5.702239513397217), Row(asin_idx=11639, rating=5.698943614959717), Row(asin_idx=8050, rating=5.688911437988281), Row(asin_idx=6334, rating=5.563338756561279), Row(asin_idx=5011, rating=5.543820858001709), Row(asin_idx=10888, rating=5.481410980224609), Row(asin_idx=6349, rating=5.450855731964111), Row(asin_idx=2137, rating=5.403444766998291), Row(asin_idx=8885, rating=5.400181293487549), Row(asin_idx=2545, rating=5.395694732666016), Row(asin_idx=11033, rating=5.393293857574463), Row(asin_idx=12067, rating=5.3809404373168945), Row(asin_idx=12068, rating=5.3809404373168945), Row(asin_idx=12075, rating=5.3809404373168945), Row(asin_idx=7478, rating=5.378084182739258)])\n\n\n\nRow(reviewerID_idx=7240, recommendations=[Row(asin_idx=5137, rating=5.48166561126709), Row(asin_idx=12068, rating=5.416862487792969), Row(asin_idx=12067, rating=5.416862487792969), Row(asin_idx=12075, rating=5.416862487792969), Row(asin_idx=12071, rating=5.334405899047852), Row(asin_idx=11395, rating=5.333096027374268), Row(asin_idx=12069, rating=5.333096027374268), Row(asin_idx=4073, rating=5.31398868560791), Row(asin_idx=7372, rating=5.291096210479736), Row(asin_idx=3425, rating=5.239009857177734), Row(asin_idx=7334, rating=5.236597537994385), Row(asin_idx=11108, rating=5.200683116912842), Row(asin_idx=6059, rating=5.1800336837768555), Row(asin_idx=9532, rating=5.172027111053467), Row(asin_idx=5011, rating=5.139214038848877), Row(asin_idx=8885, rating=5.123190402984619), Row(asin_idx=6334, rating=5.108917713165283), Row(asin_idx=8545, rating=5.104739189147949), Row(asin_idx=8392, rating=5.09943962097168), Row(asin_idx=11639, rating=5.065148830413818)])\n\n\n\n"
     ]
    }
   ],
   "source": [
    "for user in user_recs.head(5):\n",
    "    print(user)\n",
    "    print(\"\\n\\n\")"
   ]
  },
  {
   "source": [
    "# 8. Chuyển đổi lại sang hiển thị ID thật của user và product"
   ],
   "cell_type": "markdown",
   "metadata": {}
  },
  {
   "cell_type": "code",
   "execution_count": 35,
   "metadata": {},
   "outputs": [],
   "source": [
    "import pandas as pd\n",
    "import pyspark"
   ]
  },
  {
   "cell_type": "code",
   "execution_count": 36,
   "metadata": {},
   "outputs": [],
   "source": [
    "recs = user_recs.toPandas()"
   ]
  },
  {
   "cell_type": "code",
   "execution_count": 37,
   "metadata": {},
   "outputs": [
    {
     "output_type": "execute_result",
     "data": {
      "text/plain": [
       "       reviewerID_idx                                    recommendations\n",
       "0                1580  [(8643, 5.330796241760254), (5867, 5.309784889...\n",
       "1                4900  [(6714, 5.990791320800781), (2981, 5.877415657...\n",
       "2                5300  [(4097, 6.324025630950928), (10644, 6.26779985...\n",
       "3                6620  [(4327, 5.79592752456665), (6059, 5.7842936515...\n",
       "4                7240  [(5137, 5.48166561126709), (12068, 5.416862487...\n",
       "...               ...                                                ...\n",
       "22356           18729  [(8890, 3.915904998779297), (4529, 3.896273612...\n",
       "22357           21499  [(4376, 4.627009868621826), (8373, 4.031133651...\n",
       "22358           21599  [(12067, 6.012242794036865), (12075, 6.0122427...\n",
       "22359           21819  [(4227, 5.501155853271484), (10661, 5.47741746...\n",
       "22360           22249  [(4456, 4.732776165008545), (8890, 4.580298900...\n",
       "\n",
       "[22361 rows x 2 columns]"
      ],
      "text/html": "<div>\n<style scoped>\n    .dataframe tbody tr th:only-of-type {\n        vertical-align: middle;\n    }\n\n    .dataframe tbody tr th {\n        vertical-align: top;\n    }\n\n    .dataframe thead th {\n        text-align: right;\n    }\n</style>\n<table border=\"1\" class=\"dataframe\">\n  <thead>\n    <tr style=\"text-align: right;\">\n      <th></th>\n      <th>reviewerID_idx</th>\n      <th>recommendations</th>\n    </tr>\n  </thead>\n  <tbody>\n    <tr>\n      <th>0</th>\n      <td>1580</td>\n      <td>[(8643, 5.330796241760254), (5867, 5.309784889...</td>\n    </tr>\n    <tr>\n      <th>1</th>\n      <td>4900</td>\n      <td>[(6714, 5.990791320800781), (2981, 5.877415657...</td>\n    </tr>\n    <tr>\n      <th>2</th>\n      <td>5300</td>\n      <td>[(4097, 6.324025630950928), (10644, 6.26779985...</td>\n    </tr>\n    <tr>\n      <th>3</th>\n      <td>6620</td>\n      <td>[(4327, 5.79592752456665), (6059, 5.7842936515...</td>\n    </tr>\n    <tr>\n      <th>4</th>\n      <td>7240</td>\n      <td>[(5137, 5.48166561126709), (12068, 5.416862487...</td>\n    </tr>\n    <tr>\n      <th>...</th>\n      <td>...</td>\n      <td>...</td>\n    </tr>\n    <tr>\n      <th>22356</th>\n      <td>18729</td>\n      <td>[(8890, 3.915904998779297), (4529, 3.896273612...</td>\n    </tr>\n    <tr>\n      <th>22357</th>\n      <td>21499</td>\n      <td>[(4376, 4.627009868621826), (8373, 4.031133651...</td>\n    </tr>\n    <tr>\n      <th>22358</th>\n      <td>21599</td>\n      <td>[(12067, 6.012242794036865), (12075, 6.0122427...</td>\n    </tr>\n    <tr>\n      <th>22359</th>\n      <td>21819</td>\n      <td>[(4227, 5.501155853271484), (10661, 5.47741746...</td>\n    </tr>\n    <tr>\n      <th>22360</th>\n      <td>22249</td>\n      <td>[(4456, 4.732776165008545), (8890, 4.580298900...</td>\n    </tr>\n  </tbody>\n</table>\n<p>22361 rows × 2 columns</p>\n</div>"
     },
     "metadata": {},
     "execution_count": 37
    }
   ],
   "source": [
    "recs"
   ]
  },
  {
   "cell_type": "code",
   "execution_count": 38,
   "metadata": {},
   "outputs": [],
   "source": [
    "nrecs = recs['recommendations'].apply(pd.Series).merge(recs, right_index=True, left_index=True) \\\n",
    "                                                .drop(['recommendations'], axis=1) \\\n",
    "                                                .melt(id_vars=['reviewerID_idx'], value_name='recommendation') \\\n",
    "                                                .drop('variable', axis=1)\\\n",
    "                                                .dropna()"
   ]
  },
  {
   "cell_type": "code",
   "execution_count": 39,
   "metadata": {},
   "outputs": [],
   "source": [
    "nrecs = nrecs.sort_values('reviewerID_idx')\n",
    "nrecs = pd.concat([nrecs['recommendation'].apply(pd.Series),\n",
    "                    nrecs['reviewerID_idx']], axis=1)\n",
    "nrecs.columns = ['ProductID_index', 'Rating', 'UserID_index']"
   ]
  },
  {
   "cell_type": "code",
   "execution_count": 40,
   "metadata": {},
   "outputs": [
    {
     "output_type": "execute_result",
     "data": {
      "text/plain": [
       "        ProductID_index    Rating  UserID_index\n",
       "334461           5687.0  5.439965             0\n",
       "43768            2730.0  5.706645             0\n",
       "245017           8637.0  5.464397             0\n",
       "289739          12067.0  5.449728             0\n",
       "200295           3207.0  5.481113             0\n",
       "...                 ...       ...           ...\n",
       "308650          10814.0  5.218294         22362\n",
       "85040           12071.0  5.499613         22362\n",
       "129762          12069.0  5.498857         22362\n",
       "196845           7334.0  5.352735         22362\n",
       "442816           2267.0  5.121777         22362\n",
       "\n",
       "[447220 rows x 3 columns]"
      ],
      "text/html": "<div>\n<style scoped>\n    .dataframe tbody tr th:only-of-type {\n        vertical-align: middle;\n    }\n\n    .dataframe tbody tr th {\n        vertical-align: top;\n    }\n\n    .dataframe thead th {\n        text-align: right;\n    }\n</style>\n<table border=\"1\" class=\"dataframe\">\n  <thead>\n    <tr style=\"text-align: right;\">\n      <th></th>\n      <th>ProductID_index</th>\n      <th>Rating</th>\n      <th>UserID_index</th>\n    </tr>\n  </thead>\n  <tbody>\n    <tr>\n      <th>334461</th>\n      <td>5687.0</td>\n      <td>5.439965</td>\n      <td>0</td>\n    </tr>\n    <tr>\n      <th>43768</th>\n      <td>2730.0</td>\n      <td>5.706645</td>\n      <td>0</td>\n    </tr>\n    <tr>\n      <th>245017</th>\n      <td>8637.0</td>\n      <td>5.464397</td>\n      <td>0</td>\n    </tr>\n    <tr>\n      <th>289739</th>\n      <td>12067.0</td>\n      <td>5.449728</td>\n      <td>0</td>\n    </tr>\n    <tr>\n      <th>200295</th>\n      <td>3207.0</td>\n      <td>5.481113</td>\n      <td>0</td>\n    </tr>\n    <tr>\n      <th>...</th>\n      <td>...</td>\n      <td>...</td>\n      <td>...</td>\n    </tr>\n    <tr>\n      <th>308650</th>\n      <td>10814.0</td>\n      <td>5.218294</td>\n      <td>22362</td>\n    </tr>\n    <tr>\n      <th>85040</th>\n      <td>12071.0</td>\n      <td>5.499613</td>\n      <td>22362</td>\n    </tr>\n    <tr>\n      <th>129762</th>\n      <td>12069.0</td>\n      <td>5.498857</td>\n      <td>22362</td>\n    </tr>\n    <tr>\n      <th>196845</th>\n      <td>7334.0</td>\n      <td>5.352735</td>\n      <td>22362</td>\n    </tr>\n    <tr>\n      <th>442816</th>\n      <td>2267.0</td>\n      <td>5.121777</td>\n      <td>22362</td>\n    </tr>\n  </tbody>\n</table>\n<p>447220 rows × 3 columns</p>\n</div>"
     },
     "metadata": {},
     "execution_count": 40
    }
   ],
   "source": [
    "nrecs"
   ]
  },
  {
   "cell_type": "code",
   "execution_count": 41,
   "metadata": {},
   "outputs": [
    {
     "output_type": "stream",
     "name": "stderr",
     "text": [
      "<ipython-input-41-c781c551521e>:9: SettingWithCopyWarning: \nA value is trying to be set on a copy of a slice from a DataFrame.\nTry using .loc[row_indexer,col_indexer] = value instead\n\nSee the caveats in the documentation: https://pandas.pydata.org/pandas-docs/stable/user_guide/indexing.html#returning-a-view-versus-a-copy\n  new['recommendations'] = list(zip(new['asin'], new['Rating']))\n"
     ]
    }
   ],
   "source": [
    "md = data_indexed.select(['reviewerID', 'reviewerID_idx', 'asin', 'asin_idx']).toPandas()\n",
    "dict1 = dict(zip(md['reviewerID_idx'], md['reviewerID']))\n",
    "dict2 = dict(zip(md['asin_idx'], md['asin']))\n",
    "nrecs['reviewerID'] = nrecs['UserID_index'].map(dict1)\n",
    "nrecs['asin'] = nrecs['ProductID_index'].map(dict2)\n",
    "nrecs = nrecs.sort_values('reviewerID')\n",
    "nrecs.reset_index(drop=True, inplace=True)\n",
    "new = nrecs[['reviewerID', 'asin', 'Rating']]\n",
    "new['recommendations'] = list(zip(new['asin'], new['Rating']))\n",
    "res = new[['reviewerID', 'recommendations']]\n",
    "res_new = res['recommendations'].groupby([res['reviewerID']]).apply(list).reset_index()"
   ]
  },
  {
   "cell_type": "code",
   "execution_count": 42,
   "metadata": {},
   "outputs": [
    {
     "output_type": "execute_result",
     "data": {
      "text/plain": [
       "                  reviewerID  \\\n",
       "0      A00414041RD0BXM6WK0GX   \n",
       "1      A00473363TJ8YSZ3YAGG9   \n",
       "2      A00700212KB3K0MVESPIY   \n",
       "3       A0078719IR14X3NNUG0F   \n",
       "4      A01198201H0E3GHV2Z17I   \n",
       "...                      ...   \n",
       "22356          AZZNK89PXD006   \n",
       "22357          AZZQXL8VDCFTV   \n",
       "22358          AZZT1ERHBSNQ8   \n",
       "22359          AZZU6NXB8YJN9   \n",
       "22360          AZZZLM1E5JJ8C   \n",
       "\n",
       "                                         recommendations  \n",
       "0      [(B007UUE824, 4.85647439956665), (B00GRTQBTM, ...  \n",
       "1      [(B001CJJ5XG, 4.142149448394775), (B0000Y8H3S,...  \n",
       "2      [(B00H8JPMX6, 5.4662675857543945), (B000PHP8L4...  \n",
       "3      [(B003Z4OD24, 6.351077556610107), (B0006IXSG4,...  \n",
       "4      [(B0045SU5ZI, 5.226602554321289), (B000TD2QXC,...  \n",
       "...                                                  ...  \n",
       "22356  [(B000C1W38O, 3.896512985229492), (B00HAQAREQ,...  \n",
       "22357  [(B001EXHT2O, 5.426084995269775), (B000TUB4BU,...  \n",
       "22358  [(B000JLAWIA, 5.530824184417725), (B000ORV5HQ,...  \n",
       "22359  [(B000A3I2X4, 5.121776580810547), (B003JMYYQW,...  \n",
       "22360  [(B004D2DR0Q, 4.130376815795898), (B004SSC738,...  \n",
       "\n",
       "[22361 rows x 2 columns]"
      ],
      "text/html": "<div>\n<style scoped>\n    .dataframe tbody tr th:only-of-type {\n        vertical-align: middle;\n    }\n\n    .dataframe tbody tr th {\n        vertical-align: top;\n    }\n\n    .dataframe thead th {\n        text-align: right;\n    }\n</style>\n<table border=\"1\" class=\"dataframe\">\n  <thead>\n    <tr style=\"text-align: right;\">\n      <th></th>\n      <th>reviewerID</th>\n      <th>recommendations</th>\n    </tr>\n  </thead>\n  <tbody>\n    <tr>\n      <th>0</th>\n      <td>A00414041RD0BXM6WK0GX</td>\n      <td>[(B007UUE824, 4.85647439956665), (B00GRTQBTM, ...</td>\n    </tr>\n    <tr>\n      <th>1</th>\n      <td>A00473363TJ8YSZ3YAGG9</td>\n      <td>[(B001CJJ5XG, 4.142149448394775), (B0000Y8H3S,...</td>\n    </tr>\n    <tr>\n      <th>2</th>\n      <td>A00700212KB3K0MVESPIY</td>\n      <td>[(B00H8JPMX6, 5.4662675857543945), (B000PHP8L4...</td>\n    </tr>\n    <tr>\n      <th>3</th>\n      <td>A0078719IR14X3NNUG0F</td>\n      <td>[(B003Z4OD24, 6.351077556610107), (B0006IXSG4,...</td>\n    </tr>\n    <tr>\n      <th>4</th>\n      <td>A01198201H0E3GHV2Z17I</td>\n      <td>[(B0045SU5ZI, 5.226602554321289), (B000TD2QXC,...</td>\n    </tr>\n    <tr>\n      <th>...</th>\n      <td>...</td>\n      <td>...</td>\n    </tr>\n    <tr>\n      <th>22356</th>\n      <td>AZZNK89PXD006</td>\n      <td>[(B000C1W38O, 3.896512985229492), (B00HAQAREQ,...</td>\n    </tr>\n    <tr>\n      <th>22357</th>\n      <td>AZZQXL8VDCFTV</td>\n      <td>[(B001EXHT2O, 5.426084995269775), (B000TUB4BU,...</td>\n    </tr>\n    <tr>\n      <th>22358</th>\n      <td>AZZT1ERHBSNQ8</td>\n      <td>[(B000JLAWIA, 5.530824184417725), (B000ORV5HQ,...</td>\n    </tr>\n    <tr>\n      <th>22359</th>\n      <td>AZZU6NXB8YJN9</td>\n      <td>[(B000A3I2X4, 5.121776580810547), (B003JMYYQW,...</td>\n    </tr>\n    <tr>\n      <th>22360</th>\n      <td>AZZZLM1E5JJ8C</td>\n      <td>[(B004D2DR0Q, 4.130376815795898), (B004SSC738,...</td>\n    </tr>\n  </tbody>\n</table>\n<p>22361 rows × 2 columns</p>\n</div>"
     },
     "metadata": {},
     "execution_count": 42
    }
   ],
   "source": [
    "res_new"
   ]
  },
  {
   "cell_type": "code",
   "execution_count": null,
   "metadata": {},
   "outputs": [],
   "source": []
  }
 ]
}