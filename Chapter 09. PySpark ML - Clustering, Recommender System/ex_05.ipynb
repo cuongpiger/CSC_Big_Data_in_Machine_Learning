{
 "metadata": {
  "language_info": {
   "codemirror_mode": {
    "name": "ipython",
    "version": 3
   },
   "file_extension": ".py",
   "mimetype": "text/x-python",
   "name": "python",
   "nbconvert_exporter": "python",
   "pygments_lexer": "ipython3",
   "version": "3.8.5"
  },
  "orig_nbformat": 2,
  "kernelspec": {
   "name": "python38564bit207240a302f84cf383d7b6dbf8fca3f2",
   "display_name": "Python 3.8.5 64-bit"
  },
  "metadata": {
   "interpreter": {
    "hash": "31f2aee4e71d21fbe5cf8b01ff0e069b9275f58929596ceb00d14d90e3e16cd6"
   }
  }
 },
 "nbformat": 4,
 "nbformat_minor": 2,
 "cells": [
  {
   "source": [
    "![](images/09_05.jpg)"
   ],
   "cell_type": "markdown",
   "metadata": {}
  },
  {
   "source": [
    "# 1. Đọc dữ liệu"
   ],
   "cell_type": "markdown",
   "metadata": {}
  },
  {
   "cell_type": "code",
   "execution_count": 1,
   "metadata": {},
   "outputs": [],
   "source": [
    "from pyspark.sql import SparkSession"
   ]
  },
  {
   "cell_type": "code",
   "execution_count": 2,
   "metadata": {},
   "outputs": [],
   "source": [
    "spark = SparkSession.builder.appName(\"instacart\").getOrCreate()"
   ]
  },
  {
   "cell_type": "code",
   "execution_count": 3,
   "metadata": {},
   "outputs": [],
   "source": [
    "data = spark.read.csv(\"../../local_data/instacart_2017_05_01/order_products__train.csv\", header=True, inferSchema=True)"
   ]
  },
  {
   "cell_type": "code",
   "execution_count": 4,
   "metadata": {},
   "outputs": [
    {
     "output_type": "execute_result",
     "data": {
      "text/plain": [
       "1384617"
      ]
     },
     "metadata": {},
     "execution_count": 4
    }
   ],
   "source": [
    "data.count()"
   ]
  },
  {
   "cell_type": "code",
   "execution_count": 5,
   "metadata": {},
   "outputs": [
    {
     "output_type": "stream",
     "name": "stdout",
     "text": [
      "+--------+----------+-----------------+---------+\n|order_id|product_id|add_to_cart_order|reordered|\n+--------+----------+-----------------+---------+\n|       1|     49302|                1|        1|\n|       1|     11109|                2|        1|\n|       1|     10246|                3|        0|\n|       1|     49683|                4|        0|\n|       1|     43633|                5|        1|\n+--------+----------+-----------------+---------+\nonly showing top 5 rows\n\n"
     ]
    }
   ],
   "source": [
    "data.show(5)"
   ]
  },
  {
   "source": [
    "# 2. Chuẩn dữ liệu"
   ],
   "cell_type": "markdown",
   "metadata": {}
  },
  {
   "cell_type": "code",
   "execution_count": 6,
   "metadata": {},
   "outputs": [],
   "source": [
    "from pyspark.sql.functions import collect_list, col, count, collect_set"
   ]
  },
  {
   "cell_type": "code",
   "execution_count": 7,
   "metadata": {},
   "outputs": [],
   "source": [
    "data.createOrReplaceTempView('order_products_train')"
   ]
  },
  {
   "cell_type": "code",
   "execution_count": 8,
   "metadata": {},
   "outputs": [],
   "source": [
    "products = spark.sql(\"\"\"\n",
    "    SELECT DISTINCT product_id\n",
    "    FROM order_products_train\n",
    "\"\"\")"
   ]
  },
  {
   "cell_type": "code",
   "execution_count": 9,
   "metadata": {},
   "outputs": [
    {
     "output_type": "execute_result",
     "data": {
      "text/plain": [
       "39123"
      ]
     },
     "metadata": {},
     "execution_count": 9
    }
   ],
   "source": [
    "products.count()"
   ]
  },
  {
   "cell_type": "code",
   "execution_count": 10,
   "metadata": {},
   "outputs": [],
   "source": [
    "raw_data = spark.sql(\"SELECT * FROM order_products_train\")"
   ]
  },
  {
   "cell_type": "code",
   "execution_count": 11,
   "metadata": {},
   "outputs": [],
   "source": [
    "baskets = raw_data.groupBy('order_id').agg(collect_set('product_id').alias('items'))"
   ]
  },
  {
   "cell_type": "code",
   "execution_count": 12,
   "metadata": {},
   "outputs": [],
   "source": [
    "baskets.createOrReplaceTempView('baskets')"
   ]
  },
  {
   "cell_type": "code",
   "execution_count": 13,
   "metadata": {},
   "outputs": [
    {
     "output_type": "stream",
     "name": "stdout",
     "text": [
      "+--------+--------------------------------------------------------------------------------------------------------------------------------------------------------------------------------------------------------------------+\n|order_id|items                                                                                                                                                                                                               |\n+--------+--------------------------------------------------------------------------------------------------------------------------------------------------------------------------------------------------------------------+\n|1342    |[30827, 3798, 14966, 21137, 46129, 33081, 13176, 7862]                                                                                                                                                              |\n|1591    |[48246, 44116, 24852, 5194, 9130, 48823, 46473, 40310, 32520, 22105, 16900, 27681, 4103, 44008, 17758, 41671, 25316, 45061, 38805, 48205, 25237, 19604, 5384, 27344, 17203, 18792, 12986, 39758, 34358, 31215, 9387]|\n|4519    |[29270]                                                                                                                                                                                                             |\n|4935    |[45190]                                                                                                                                                                                                             |\n|6357    |[33731, 14669, 43789, 37524, 39408, 43129, 24852, 48745, 38772]                                                                                                                                                     |\n+--------+--------------------------------------------------------------------------------------------------------------------------------------------------------------------------------------------------------------------+\nonly showing top 5 rows\n\n"
     ]
    }
   ],
   "source": [
    "baskets.show(5, False)"
   ]
  },
  {
   "source": [
    "# 3. Build model"
   ],
   "cell_type": "markdown",
   "metadata": {}
  },
  {
   "cell_type": "code",
   "execution_count": 14,
   "metadata": {},
   "outputs": [],
   "source": [
    "from pyspark.ml.fpm import FPGrowth"
   ]
  },
  {
   "cell_type": "code",
   "execution_count": 15,
   "metadata": {},
   "outputs": [],
   "source": [
    "fp_growth = FPGrowth(itemsCol='items', minSupport=0.003, minConfidence=0.003)"
   ]
  },
  {
   "cell_type": "code",
   "execution_count": 16,
   "metadata": {},
   "outputs": [],
   "source": [
    "model = fp_growth.fit(baskets)"
   ]
  },
  {
   "source": [
    "# 4. Hiển thị các mẫu phổ biến"
   ],
   "cell_type": "markdown",
   "metadata": {}
  },
  {
   "cell_type": "code",
   "execution_count": 17,
   "metadata": {},
   "outputs": [
    {
     "output_type": "stream",
     "name": "stdout",
     "text": [
      "+--------------------+-----+\n|               items| freq|\n+--------------------+-----+\n|             [13629]|  772|\n|              [5194]|  475|\n|             [24852]|18726|\n|             [13176]|15480|\n|             [35921]|  769|\n|             [20345]|  473|\n|             [21137]|10894|\n|      [21137, 13176]| 3074|\n|      [21137, 24852]| 2174|\n|             [23165]|  764|\n|             [13380]|  473|\n|              [7969]|  472|\n|             [21903]| 9784|\n|      [21903, 21137]| 1639|\n|[21903, 21137, 13...|  587|\n|      [21903, 13176]| 2236|\n|      [21903, 24852]| 2000|\n|             [32478]|  763|\n|             [47626]| 8135|\n|      [47626, 21137]| 1017|\n+--------------------+-----+\nonly showing top 20 rows\n\n"
     ]
    }
   ],
   "source": [
    "model.freqItemsets.show()"
   ]
  },
  {
   "source": [
    "# 5. Các luật kết hợp"
   ],
   "cell_type": "markdown",
   "metadata": {}
  },
  {
   "cell_type": "code",
   "execution_count": 18,
   "metadata": {},
   "outputs": [],
   "source": [
    "most_popular_item_in_a_basket = model.transform(baskets)"
   ]
  },
  {
   "cell_type": "code",
   "execution_count": 19,
   "metadata": {},
   "outputs": [
    {
     "output_type": "stream",
     "name": "stdout",
     "text": [
      "+--------+--------------------+--------------------+\n|order_id|               items|          prediction|\n+--------+--------------------+--------------------+\n|    1342|[30827, 3798, 149...|[21903, 47626, 47...|\n|    1591|[48246, 44116, 24...|[21137, 21903, 47...|\n|    4519|             [29270]|                  []|\n|    4935|             [45190]|                  []|\n|    6357|[33731, 14669, 43...|[21137, 21903, 47...|\n|   10362|[28522, 43789, 12...|[21137, 47626, 47...|\n|   19204|[45255, 37285, 48...|                  []|\n|   29601|[2716, 48057, 219...|[21137, 21903, 47...|\n|   31035|[40723, 8174, 131...|[21137, 21903, 47...|\n|   40011|[27292, 35213, 21...|[21137, 13176, 24...|\n|   46266|[38558, 48642, 13...|[47626, 47766, 47...|\n|   51607|[41390, 42752, 17...|                  []|\n|   58797|[30827, 8803, 326...|[21137, 21903, 47...|\n|   61793|[26348, 6184, 433...|[21137, 16797, 39...|\n|   67089|[47766, 29388, 21...|[47626, 21137, 47...|\n|   70863|[34791, 2618, 173...|      [13176, 24852]|\n|   88674|[25659, 16262, 22...|                  []|\n|   91937|[20708, 38200, 26...|                  []|\n|   92317|[18105, 34969, 17...|[13176, 21903, 21...|\n|   99621|[21616, 43789, 38...|[26209, 21137, 47...|\n+--------+--------------------+--------------------+\nonly showing top 20 rows\n\n"
     ]
    }
   ],
   "source": [
    "most_popular_item_in_a_basket.show()"
   ]
  },
  {
   "source": [
    "<hr>\n",
    "\n",
    "# Sử dụng `product_name` thay vì `product_id` như bên trên"
   ],
   "cell_type": "markdown",
   "metadata": {}
  },
  {
   "source": [
    "# 1. Đọc dữ liệu"
   ],
   "cell_type": "markdown",
   "metadata": {}
  },
  {
   "cell_type": "code",
   "execution_count": 20,
   "metadata": {},
   "outputs": [],
   "source": [
    "product_data = spark.read.csv(\"../../local_data/instacart_2017_05_01/products.csv\", header=True, inferSchema=True)"
   ]
  },
  {
   "cell_type": "code",
   "execution_count": 21,
   "metadata": {},
   "outputs": [
    {
     "output_type": "stream",
     "name": "stdout",
     "text": [
      "+----------+--------------------+--------+-------------+\n|product_id|        product_name|aisle_id|department_id|\n+----------+--------------------+--------+-------------+\n|         1|Chocolate Sandwic...|      61|           19|\n|         2|    All-Seasons Salt|     104|           13|\n|         3|Robust Golden Uns...|      94|            7|\n+----------+--------------------+--------+-------------+\nonly showing top 3 rows\n\n"
     ]
    }
   ],
   "source": [
    "product_data.show(3)"
   ]
  },
  {
   "cell_type": "code",
   "execution_count": 22,
   "metadata": {},
   "outputs": [],
   "source": [
    "product_data.createOrReplaceTempView('products')"
   ]
  },
  {
   "cell_type": "code",
   "execution_count": 23,
   "metadata": {},
   "outputs": [],
   "source": [
    "raw_data_1 = spark.sql(\"\"\"\n",
    "    SELECT p.product_name, o.order_id\n",
    "    FROM products p INNER JOIN order_products_train o\n",
    "    WHERE o.product_id = p.product_id\n",
    "\"\"\")"
   ]
  },
  {
   "cell_type": "code",
   "execution_count": 24,
   "metadata": {},
   "outputs": [
    {
     "output_type": "stream",
     "name": "stdout",
     "text": [
      "+--------+--------------------+\n|order_id|               items|\n+--------+--------------------+\n|    1342|[Raw Shrimp, Seed...|\n|    1591|[Cracked Wheat, S...|\n|    4519|[Beet Apple Carro...|\n|    4935|             [Vodka]|\n|    6357|[Globe Eggplant, ...|\n+--------+--------------------+\nonly showing top 5 rows\n\n"
     ]
    }
   ],
   "source": [
    "baskets_1 = raw_data_1.groupBy('order_id').agg(collect_set('product_name').alias('items'))\n",
    "baskets_1.show(5)"
   ]
  },
  {
   "cell_type": "code",
   "execution_count": 25,
   "metadata": {},
   "outputs": [],
   "source": [
    "baskets_1.createOrReplaceTempView('baskets')"
   ]
  },
  {
   "source": [
    "# 2. Build model"
   ],
   "cell_type": "markdown",
   "metadata": {}
  },
  {
   "cell_type": "code",
   "execution_count": 26,
   "metadata": {},
   "outputs": [],
   "source": [
    "fp_growth_1 = FPGrowth(itemsCol='items', minSupport=0.003, minConfidence=0.003)"
   ]
  },
  {
   "cell_type": "code",
   "execution_count": 27,
   "metadata": {},
   "outputs": [],
   "source": [
    "model_1 = fp_growth_1.fit(baskets_1)"
   ]
  },
  {
   "cell_type": "code",
   "execution_count": 28,
   "metadata": {},
   "outputs": [
    {
     "output_type": "stream",
     "name": "stdout",
     "text": [
      "+--------------------+-----+\n|               items| freq|\n+--------------------+-----+\n|[Organic Tomato B...|  772|\n|[Organic Spinach ...|  475|\n|            [Banana]|18726|\n|[Bag of Organic B...|15480|\n|[Organic Large Gr...|  769|\n+--------------------+-----+\nonly showing top 5 rows\n\n"
     ]
    }
   ],
   "source": [
    "model_1.freqItemsets.show(5)"
   ]
  },
  {
   "cell_type": "code",
   "execution_count": 29,
   "metadata": {},
   "outputs": [],
   "source": [
    "most_popular_item_in_a_basket_1 = model_1.transform(baskets_1)"
   ]
  },
  {
   "cell_type": "code",
   "execution_count": 30,
   "metadata": {},
   "outputs": [
    {
     "output_type": "execute_result",
     "data": {
      "text/plain": [
       "[Row(order_id=1342, items=['Raw Shrimp', 'Seedless Cucumbers', 'Versatile Stain Remover', 'Organic Strawberries', 'Organic Mandarins', 'Chicken Apple Sausage', 'Pink Lady Apples', 'Bag of Organic Bananas'], prediction=['Organic Baby Spinach', 'Large Lemon', 'Organic Avocado', 'Organic Hass Avocado', 'Strawberries', 'Limes', 'Organic Raspberries', 'Organic Blueberries', 'Organic Whole Milk', 'Organic Cucumber', 'Organic Zucchini', 'Organic Yellow Onion', 'Organic Garlic', 'Seedless Red Grapes', 'Asparagus', 'Organic Grape Tomatoes', 'Organic Red Onion', 'Organic Baby Carrots', 'Honeycrisp Apple', 'Organic Cilantro', 'Organic Lemon', 'Sparkling Water Grapefruit', 'Raspberries', 'Organic Fuji Apple', 'Small Hass Avocado', 'Organic Baby Arugula', 'Organic Large Extra Fancy Fuji Apple', 'Original Hummus', 'Organic Blackberries', 'Organic Gala Apples', 'Fresh Cauliflower', 'Organic Half & Half', 'Michigan Organic Kale', 'Organic Small Bunch Celery', 'Organic Garnet Sweet Potato (Yam)', 'Organic Tomato Cluster', 'Carrots', 'Organic Peeled Whole Baby Carrots', 'Organic Italian Parsley Bunch', 'Organic Red Bell Pepper', 'Organic Granny Smith Apple', 'Hass Avocados', 'Apple Honeycrisp Organic', 'Spring Water', 'Organic Unsweetened Almond Milk', 'Unsweetened Almondmilk', 'Organic Ginger Root', 'Organic Whole String Cheese', 'Organic Navel Orange', 'Large Alfresco Eggs', \"Organic D'Anjou Pears\", 'Organic Kiwi', 'Organic Grade A Free Range Large Brown Eggs', 'Organic Lacinato (Dinosaur) Kale', 'Organic Carrot Bunch', 'Organic Broccoli', 'Organic Black Beans', 'Banana', 'Broccoli Crown', 'Organic Banana']),\n",
       " Row(order_id=1591, items=['Cracked Wheat', 'Strawberry Rhubarb Yoghurt', 'Organic Bunny Fruit Snacks Berry Patch', 'Goodness Grapeness Organic Juice Drink', 'Honey Graham Snacks', 'Spinach', 'Granny Smith Apples', 'Oven Roasted Turkey Breast', 'Pure Vanilla Extract', 'Chewy 25% Low Sugar Chocolate Chip Granola', 'Banana', 'Original Turkey Burgers Smoke Flavor Added', 'Twisted Tropical Tango Organic Juice Drink', 'Navel Oranges', 'Lower Sugar Instant Oatmeal  Variety', 'Ultra Thin Sliced Provolone Cheese', 'Natural Vanilla Ice Cream', 'Cinnamon Multigrain Cereal', 'Garlic', 'Goldfish Pretzel Baked Snack Crackers', 'Original Whole Grain Chips', 'Medium Scarlet Raspberries', 'Lemon Yogurt', 'Original Patties (100965) 12 Oz Breakfast', 'Nutty Bars', 'Strawberry Banana Smoothie', 'Green Machine Juice Smoothie', 'Coconut Dreams Cookies', 'Buttermilk Waffles', 'Uncured Genoa Salami', 'Organic Greek Whole Milk Blended Vanilla Bean Yogurt'], prediction=['Organic Strawberries', 'Organic Baby Spinach', 'Large Lemon', 'Organic Avocado', 'Organic Hass Avocado', 'Strawberries', 'Limes', 'Organic Raspberries', 'Organic Blueberries', 'Organic Whole Milk', 'Organic Cucumber', 'Organic Zucchini', 'Organic Yellow Onion', 'Organic Garlic', 'Seedless Red Grapes', 'Asparagus', 'Organic Grape Tomatoes', 'Organic Red Onion', 'Yellow Onions', 'Organic Baby Carrots', 'Honeycrisp Apple', 'Organic Cilantro', 'Sparkling Water Grapefruit', 'Raspberries', 'Organic Fuji Apple', 'Small Hass Avocado', 'Broccoli Crown', 'Organic Baby Arugula', 'Red Peppers', 'Organic Large Extra Fancy Fuji Apple', 'Original Hummus', 'Organic Blackberries', 'Organic Gala Apples', 'Fresh Cauliflower', 'Organic Half & Half', 'Michigan Organic Kale', 'Organic Small Bunch Celery', 'Organic Garnet Sweet Potato (Yam)', 'Organic Tomato Cluster', 'Green Bell Pepper', 'Carrots', 'Organic Peeled Whole Baby Carrots', 'Half & Half', 'Cucumber Kirby', 'Organic Red Bell Pepper', 'Organic Granny Smith Apple', 'Blueberries', '100% Whole Wheat Bread', 'Apple Honeycrisp Organic', 'Red Vine Tomato', 'Unsweetened Almondmilk', 'Boneless Skinless Chicken Breasts', 'Organic Whole String Cheese', 'Roma Tomato', 'Bunched Cilantro', 'Jalapeno Peppers', \"Organic D'Anjou Pears\", 'Orange Bell Pepper', 'Grape White/Green Seedless', 'Red Raspberries', 'Clementines, Bag', 'Unsweetened Original Almond Breeze Almond Milk', 'Bartlett Pears']),\n",
       " Row(order_id=4519, items=['Beet Apple Carrot Lemon Ginger Organic Cold Pressed Juice Beverage'], prediction=[])]"
      ]
     },
     "metadata": {},
     "execution_count": 30
    }
   ],
   "source": [
    "most_popular_item_in_a_basket_1.head(3)"
   ]
  },
  {
   "cell_type": "code",
   "execution_count": 31,
   "metadata": {},
   "outputs": [
    {
     "output_type": "stream",
     "name": "stdout",
     "text": [
      "root\n |-- order_id: integer (nullable = true)\n |-- items: array (nullable = false)\n |    |-- element: string (containsNull = false)\n |-- prediction: array (nullable = true)\n |    |-- element: string (containsNull = false)\n\n"
     ]
    }
   ],
   "source": [
    "most_popular_item_in_a_basket_1.printSchema()"
   ]
  },
  {
   "cell_type": "code",
   "execution_count": 32,
   "metadata": {},
   "outputs": [],
   "source": [
    "most_popular_item_in_a_basket_1.createOrReplaceGlobalTempView('popular_items')"
   ]
  },
  {
   "cell_type": "code",
   "execution_count": 33,
   "metadata": {},
   "outputs": [],
   "source": [
    "from pyspark.sql.types import StringType"
   ]
  },
  {
   "cell_type": "code",
   "execution_count": 34,
   "metadata": {},
   "outputs": [],
   "source": [
    "df_cast = most_popular_item_in_a_basket_1.select('order_id', most_popular_item_in_a_basket_1['items'].cast(StringType()))"
   ]
  },
  {
   "cell_type": "code",
   "execution_count": 35,
   "metadata": {},
   "outputs": [
    {
     "output_type": "stream",
     "name": "stdout",
     "text": [
      "root\n |-- order_id: integer (nullable = true)\n |-- items: string (nullable = false)\n\n"
     ]
    }
   ],
   "source": [
    "df_cast.printSchema()"
   ]
  },
  {
   "cell_type": "code",
   "execution_count": 36,
   "metadata": {},
   "outputs": [
    {
     "output_type": "execute_result",
     "data": {
      "text/plain": [
       "[Row(order_id=1342, items='[Raw Shrimp, Seedless Cucumbers, Versatile Stain Remover, Organic Strawberries, Organic Mandarins, Chicken Apple Sausage, Pink Lady Apples, Bag of Organic Bananas]'),\n",
       " Row(order_id=1591, items='[Cracked Wheat, Strawberry Rhubarb Yoghurt, Organic Bunny Fruit Snacks Berry Patch, Goodness Grapeness Organic Juice Drink, Honey Graham Snacks, Spinach, Granny Smith Apples, Oven Roasted Turkey Breast, Pure Vanilla Extract, Chewy 25% Low Sugar Chocolate Chip Granola, Banana, Original Turkey Burgers Smoke Flavor Added, Twisted Tropical Tango Organic Juice Drink, Navel Oranges, Lower Sugar Instant Oatmeal  Variety, Ultra Thin Sliced Provolone Cheese, Natural Vanilla Ice Cream, Cinnamon Multigrain Cereal, Garlic, Goldfish Pretzel Baked Snack Crackers, Original Whole Grain Chips, Medium Scarlet Raspberries, Lemon Yogurt, Original Patties (100965) 12 Oz Breakfast, Nutty Bars, Strawberry Banana Smoothie, Green Machine Juice Smoothie, Coconut Dreams Cookies, Buttermilk Waffles, Uncured Genoa Salami, Organic Greek Whole Milk Blended Vanilla Bean Yogurt]'),\n",
       " Row(order_id=4519, items='[Beet Apple Carrot Lemon Ginger Organic Cold Pressed Juice Beverage]')]"
      ]
     },
     "metadata": {},
     "execution_count": 36
    }
   ],
   "source": [
    "df_cast.head(3)"
   ]
  },
  {
   "cell_type": "code",
   "execution_count": 37,
   "metadata": {},
   "outputs": [],
   "source": [
    "df_cast.write.csv('./data/mostPopularItemInABasket.csv')"
   ]
  },
  {
   "cell_type": "code",
   "execution_count": null,
   "metadata": {},
   "outputs": [],
   "source": []
  }
 ]
}