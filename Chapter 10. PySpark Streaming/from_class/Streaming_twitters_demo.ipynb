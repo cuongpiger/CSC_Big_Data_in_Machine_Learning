{
 "cells": [
  {
   "cell_type": "markdown",
   "metadata": {},
   "source": [
    "# Introduction to Spark Streaming\n",
    "\n",
    "_____\n",
    "### Note on  Streaming\n",
    "Streaming is something that is rapidly advancing and changin fast, there are multipl enew libraries every year, new and different services always popping up, and what is in this notebook may or may not apply to you. Maybe your looking for something specific on Kafka, or maybe you are looking for streaming about twitter, in which case Spark might be overkill for what you really want. Realistically speaking each situation is going to require a customized solution and this course is never going to be able to supply a one size fits all solution. Because of this, I wanted to point out some great resources for Python and Spark StreamingL\n",
    "\n",
    "* [The Official Documentation is great. This should be your first go to.](http://spark.apache.org/docs/latest/streaming-programming-guide.html#spark-streaming-programming-guide)\n",
    "\n",
    "* [Fantastic Guide to Spark Streaming with Kafka](https://www.rittmanmead.com/blog/2017/01/getting-started-with-spark-streaming-with-python-and-kafka/)\n",
    "\n",
    "* [Another Spark Streaming Example with Geo Plotting](http://nbviewer.jupyter.org/github/ibm-cds-labs/spark.samples/blob/master/notebook/DashDB%20Twitter%20Car%202015%20Python%20Notebook.ipynb)\n",
    "____"
   ]
  },
  {
   "cell_type": "markdown",
   "metadata": {},
   "source": [
    "Let's discuss SparkStreaming!\n",
    "\n",
    "Spark Streaming is an extension of the core Spark API that enables scalable, high-throughput, fault-tolerant stream processing of live data streams. Data can be ingested from many sources like Kafka, Flume, Kinesis, or TCP sockets, and can be processed using complex algorithms expressed with high-level functions like map, reduce, join and window. Finally, processed data can be pushed out to filesystems, databases, and live dashboards. In fact, you can apply Spark’s machine learning and graph processing algorithms on data streams.\n",
    "\n",
    "<img src='http://spark.apache.org/docs/latest/img/streaming-arch.png'/>\n",
    "\n",
    "Keep in mind that a few of these Streamiing Capabilities are limited when it comes to Python, you'll need to reference the documentation for the most up to date information. Also the streaming contexts tend to follow more along with the older RDD syntax, so a few things might seem different than what we are used to seeing, keep that in mind, you'll definitely want to have a good understanding of lambda expressions before continuing with this!\n",
    "\n",
    "There are SparkSQL modules for streaming: \n",
    "\n",
    "http://spark.apache.org/docs/latest/api/python/pyspark.sql.html?highlight=streaming#module-pyspark.sql.streaming\n",
    "\n",
    "But they are all still listed as experimental, so instead of showing you somethign that might break in the future, we'll stick to the RDD methods (which is what the documentation also currently shows for streaming).\n",
    "\n",
    "Internally, it works as follows. Spark Streaming receives live input data streams and divides the data into batches, which are then processed by the Spark engine to generate the final stream of results in batches.\n",
    "\n",
    "<img src='http://spark.apache.org/docs/latest/img/streaming-flow.png'/>"
   ]
  },
  {
   "cell_type": "markdown",
   "metadata": {},
   "source": [
    "# Twitter Example\n",
    "In order to use all of this though, we need to setup a Developer API acocunt with Twitter and create an application to get credentials. Review the video for instructions on how to do this or if you are already familiar with it, just get the credentials from: \n",
    "\n",
    "    https://apps.twitter.com/\n",
    "    \n",
    "Once you have that you also need to install python-twitter, a python library to connect your Python to the twitter dev account.\n",
    "\n",
    "You probably won't be able to run this example and then previous in the same notebook, you need to restart you kernel.\n",
    "\n",
    "Let's get started!\n",
    "\n",
    "Begin by running the TweetRead.py file. Make sure to add your own IP Adress and your credential keys."
   ]
  },
  {
   "cell_type": "code",
   "execution_count": 1,
   "metadata": {},
   "outputs": [],
   "source": [
    "import findspark\n",
    "findspark.init()"
   ]
  },
  {
   "cell_type": "code",
   "execution_count": 2,
   "metadata": {},
   "outputs": [],
   "source": [
    "import pyspark"
   ]
  },
  {
   "cell_type": "code",
   "execution_count": 3,
   "metadata": {},
   "outputs": [],
   "source": [
    "# May cause deprecation warnings, safe to ignore, they aren't errors\n",
    "from pyspark import SparkContext\n",
    "from pyspark.streaming import StreamingContext\n",
    "from pyspark.sql import SQLContext\n",
    "from pyspark.sql.functions import desc"
   ]
  },
  {
   "cell_type": "code",
   "execution_count": 4,
   "metadata": {},
   "outputs": [],
   "source": [
    "# Can only run this once. restart your kernel for any errors.\n",
    "sc = SparkContext()"
   ]
  },
  {
   "cell_type": "code",
   "execution_count": 5,
   "metadata": {},
   "outputs": [],
   "source": [
    "ssc = StreamingContext(sc, 10 ) # batch_size: batch duration time\n",
    "sqlContext = SQLContext(sc)"
   ]
  },
  {
   "cell_type": "code",
   "execution_count": 6,
   "metadata": {},
   "outputs": [],
   "source": [
    "# create a socketTextStream where we will be expecting a Twitter streaming connection\n",
    "socket_stream = ssc.socketTextStream(\"127.0.0.1\", 5555) # local machine: host, port"
   ]
  },
  {
   "cell_type": "code",
   "execution_count": 7,
   "metadata": {},
   "outputs": [],
   "source": [
    "# create a DStream via window method on socket_stream\n",
    "lines = socket_stream.window( 20 ) # "
   ]
  },
  {
   "cell_type": "code",
   "execution_count": 8,
   "metadata": {},
   "outputs": [],
   "source": [
    "# Create a class Tweet via namedtuple\n",
    "from collections import namedtuple\n",
    "# For every tweet, we want to store its name and count => fields will be tag and count.\n",
    "fields = (\"tag\", \"count\" )\n",
    "Tweet = namedtuple( 'Tweet', fields )"
   ]
  },
  {
   "cell_type": "code",
   "execution_count": 9,
   "metadata": {},
   "outputs": [],
   "source": [
    "# Use Parenthesis for multiple lines or use \\.\n",
    "( lines.flatMap( lambda text: text.split( \" \" ) ) # Grab the tweet line and split it into a word list.\n",
    "  .filter( lambda word: word.lower().startswith(\"#\") ) # Check for hashtag calls. Filter the message with the hashtag.\n",
    "  .map( lambda word: ( word.lower(), 1 ) ) # Convert the words to lowercase.\n",
    "  .reduceByKey( lambda a, b: a + b ) # Count and remove duplicates.\n",
    "  .map( lambda rec: Tweet( rec[0], rec[1] ) ) # Store the words in the Tweet object.\n",
    "  .foreachRDD( lambda rdd: rdd.toDF().sort( desc(\"count\") ) # Sort them in a DataFrame.\n",
    "  .limit(10).registerTempTable(\"tweets\") ) ) #Register to a table. (Refreshes will be executed every 10 seconds.)"
   ]
  },
  {
   "cell_type": "markdown",
   "metadata": {},
   "source": [
    "__________\n",
    "### Now run TweetRead_new.py\n",
    "- At folder containing TweetRead_new.py > type  cmd > python TweetRead_new.py >> tweets_covid_19.txt\n",
    "- Choose some famous hashtags to check, link: https://www.tweeplers.com/hashtags/?cc=WORLD\n",
    "__________"
   ]
  },
  {
   "cell_type": "code",
   "execution_count": 10,
   "metadata": {},
   "outputs": [],
   "source": [
    "#  run the pyspark Stream instance\n",
    "ssc.start()    "
   ]
  },
  {
   "cell_type": "code",
   "execution_count": 11,
   "metadata": {},
   "outputs": [],
   "source": [
    "import time\n",
    "from IPython import display\n",
    "import matplotlib.pyplot as plt\n",
    "import seaborn as sns\n",
    "# Only works for Jupyter Notebooks!\n",
    "%matplotlib inline "
   ]
  },
  {
   "cell_type": "code",
   "execution_count": 14,
   "metadata": {},
   "outputs": [
    {
     "data": {
      "image/png": "[encoded data removed]",
      "text/plain": [
       "<Figure size 720x576 with 1 Axes>"
      ]
     },
     "metadata": {
      "needs_background": "light"
     },
     "output_type": "display_data"
    }
   ],
   "source": [
    "# Make 10 plots\n",
    "# Before each of them, set the sleep time to 10 seconds (or other value, ex: 10 seconds)\n",
    "# grab the top 10 tweets from SQLContext instance. \n",
    "# transform the results to a DataFrame and build a plot for each of them.\n",
    "# The result will be a plot that will change every 10 seconds.\n",
    "try:\n",
    "    count = 0\n",
    "    while count < 10:    \n",
    "        time.sleep( 10 )\n",
    "        top_10_tweets = sqlContext.sql( 'Select tag, count from tweets' )\n",
    "        top_10_df = top_10_tweets.toPandas()\n",
    "        display.clear_output(wait=True)\n",
    "        plt.figure( figsize = ( 10, 8 ) )\n",
    "        sns.barplot( x=\"count\", y=\"tag\", data=top_10_df)\n",
    "        plt.show()\n",
    "        count = count + 1\n",
    "except:\n",
    "    print(\"No tweets now\")"
   ]
  },
  {
   "cell_type": "code",
   "execution_count": 15,
   "metadata": {},
   "outputs": [],
   "source": [
    "ssc.stop()"
   ]
  },
  {
   "cell_type": "code",
   "execution_count": null,
   "metadata": {},
   "outputs": [],
   "source": []
  }
 ],
 "metadata": {
  "anaconda-cloud": {},
  "kernelspec": {
   "display_name": "Python 3",
   "language": "python",
   "name": "python3"
  },
  "language_info": {
   "codemirror_mode": {
    "name": "ipython",
    "version": 3
   },
   "file_extension": ".py",
   "mimetype": "text/x-python",
   "name": "python",
   "nbconvert_exporter": "python",
   "pygments_lexer": "ipython3",
   "version": "3.6.8"
  }
 },
 "nbformat": 4,
 "nbformat_minor": 1
}
