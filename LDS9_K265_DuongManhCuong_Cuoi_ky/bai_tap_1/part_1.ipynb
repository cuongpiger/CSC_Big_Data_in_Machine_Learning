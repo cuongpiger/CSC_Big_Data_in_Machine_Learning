{
 "metadata": {
  "language_info": {
   "codemirror_mode": {
    "name": "ipython",
    "version": 3
   },
   "file_extension": ".py",
   "mimetype": "text/x-python",
   "name": "python",
   "nbconvert_exporter": "python",
   "pygments_lexer": "ipython3",
   "version": "3.8.5"
  },
  "orig_nbformat": 2,
  "kernelspec": {
   "name": "python38564bit207240a302f84cf383d7b6dbf8fca3f2",
   "display_name": "Python 3.8.5 64-bit"
  },
  "metadata": {
   "interpreter": {
    "hash": "31f2aee4e71d21fbe5cf8b01ff0e069b9275f58929596ceb00d14d90e3e16cd6"
   }
  }
 },
 "nbformat": 4,
 "nbformat_minor": 2,
 "cells": [
  {
   "source": [
    "![](../images/FE_00.png)"
   ],
   "cell_type": "markdown",
   "metadata": {}
  },
  {
   "source": [
    "# 1. Đọc dữ liệu"
   ],
   "cell_type": "markdown",
   "metadata": {}
  },
  {
   "cell_type": "code",
   "execution_count": 1,
   "metadata": {},
   "outputs": [],
   "source": [
    "%load_ext autoreload\n",
    "%autoreload 2"
   ]
  },
  {
   "cell_type": "code",
   "execution_count": 2,
   "metadata": {},
   "outputs": [],
   "source": [
    "import pandas as pd\n",
    "from pyspark.sql import SparkSession"
   ]
  },
  {
   "cell_type": "code",
   "execution_count": 3,
   "metadata": {},
   "outputs": [],
   "source": [
    "df = pd.read_excel(\"../data/womens-ecommerce-clothing-reviews/Womens_Clothing_E_Commerce_Reviews.xlsx\", sheet_name=\"Reviews\")"
   ]
  },
  {
   "cell_type": "code",
   "execution_count": 4,
   "metadata": {},
   "outputs": [
    {
     "output_type": "execute_result",
     "data": {
      "text/plain": [
       "   Unnamed: 0  Clothing ID  Age                    Title  \\\n",
       "0           0          767   33                      NaN   \n",
       "1           1         1080   34                      NaN   \n",
       "2           2         1077   60  Some major design flaws   \n",
       "3           3         1049   50         My favorite buy!   \n",
       "4           4          847   47         Flattering shirt   \n",
       "\n",
       "                                         Review Text  Rating  Recommended IND  \\\n",
       "0  Absolutely wonderful - silky and sexy and comf...       4                1   \n",
       "1  Love this dress!  it's sooo pretty.  i happene...       5                1   \n",
       "2  I had such high hopes for this dress and reall...       3                0   \n",
       "3  I love, love, love this jumpsuit. it's fun, fl...       5                1   \n",
       "4  This shirt is very flattering to all due to th...       5                1   \n",
       "\n",
       "   Positive Feedback Count   Division Name Department Name Class Name  \n",
       "0                        0       Initmates        Intimate  Intimates  \n",
       "1                        4         General         Dresses    Dresses  \n",
       "2                        0         General         Dresses    Dresses  \n",
       "3                        0  General Petite         Bottoms      Pants  \n",
       "4                        6         General            Tops    Blouses  "
      ],
      "text/html": "<div>\n<style scoped>\n    .dataframe tbody tr th:only-of-type {\n        vertical-align: middle;\n    }\n\n    .dataframe tbody tr th {\n        vertical-align: top;\n    }\n\n    .dataframe thead th {\n        text-align: right;\n    }\n</style>\n<table border=\"1\" class=\"dataframe\">\n  <thead>\n    <tr style=\"text-align: right;\">\n      <th></th>\n      <th>Unnamed: 0</th>\n      <th>Clothing ID</th>\n      <th>Age</th>\n      <th>Title</th>\n      <th>Review Text</th>\n      <th>Rating</th>\n      <th>Recommended IND</th>\n      <th>Positive Feedback Count</th>\n      <th>Division Name</th>\n      <th>Department Name</th>\n      <th>Class Name</th>\n    </tr>\n  </thead>\n  <tbody>\n    <tr>\n      <th>0</th>\n      <td>0</td>\n      <td>767</td>\n      <td>33</td>\n      <td>NaN</td>\n      <td>Absolutely wonderful - silky and sexy and comf...</td>\n      <td>4</td>\n      <td>1</td>\n      <td>0</td>\n      <td>Initmates</td>\n      <td>Intimate</td>\n      <td>Intimates</td>\n    </tr>\n    <tr>\n      <th>1</th>\n      <td>1</td>\n      <td>1080</td>\n      <td>34</td>\n      <td>NaN</td>\n      <td>Love this dress!  it's sooo pretty.  i happene...</td>\n      <td>5</td>\n      <td>1</td>\n      <td>4</td>\n      <td>General</td>\n      <td>Dresses</td>\n      <td>Dresses</td>\n    </tr>\n    <tr>\n      <th>2</th>\n      <td>2</td>\n      <td>1077</td>\n      <td>60</td>\n      <td>Some major design flaws</td>\n      <td>I had such high hopes for this dress and reall...</td>\n      <td>3</td>\n      <td>0</td>\n      <td>0</td>\n      <td>General</td>\n      <td>Dresses</td>\n      <td>Dresses</td>\n    </tr>\n    <tr>\n      <th>3</th>\n      <td>3</td>\n      <td>1049</td>\n      <td>50</td>\n      <td>My favorite buy!</td>\n      <td>I love, love, love this jumpsuit. it's fun, fl...</td>\n      <td>5</td>\n      <td>1</td>\n      <td>0</td>\n      <td>General Petite</td>\n      <td>Bottoms</td>\n      <td>Pants</td>\n    </tr>\n    <tr>\n      <th>4</th>\n      <td>4</td>\n      <td>847</td>\n      <td>47</td>\n      <td>Flattering shirt</td>\n      <td>This shirt is very flattering to all due to th...</td>\n      <td>5</td>\n      <td>1</td>\n      <td>6</td>\n      <td>General</td>\n      <td>Tops</td>\n      <td>Blouses</td>\n    </tr>\n  </tbody>\n</table>\n</div>"
     },
     "metadata": {},
     "execution_count": 4
    }
   ],
   "source": [
    "df.head()"
   ]
  },
  {
   "cell_type": "code",
   "execution_count": 5,
   "metadata": {},
   "outputs": [],
   "source": [
    "df = df.drop(columns=[\"Unnamed: 0\"])"
   ]
  },
  {
   "cell_type": "code",
   "execution_count": 6,
   "metadata": {},
   "outputs": [
    {
     "output_type": "execute_result",
     "data": {
      "text/plain": [
       "   Clothing ID  Age                    Title  \\\n",
       "0          767   33                      NaN   \n",
       "1         1080   34                      NaN   \n",
       "2         1077   60  Some major design flaws   \n",
       "3         1049   50         My favorite buy!   \n",
       "4          847   47         Flattering shirt   \n",
       "\n",
       "                                         Review Text  Rating  Recommended IND  \\\n",
       "0  Absolutely wonderful - silky and sexy and comf...       4                1   \n",
       "1  Love this dress!  it's sooo pretty.  i happene...       5                1   \n",
       "2  I had such high hopes for this dress and reall...       3                0   \n",
       "3  I love, love, love this jumpsuit. it's fun, fl...       5                1   \n",
       "4  This shirt is very flattering to all due to th...       5                1   \n",
       "\n",
       "   Positive Feedback Count   Division Name Department Name Class Name  \n",
       "0                        0       Initmates        Intimate  Intimates  \n",
       "1                        4         General         Dresses    Dresses  \n",
       "2                        0         General         Dresses    Dresses  \n",
       "3                        0  General Petite         Bottoms      Pants  \n",
       "4                        6         General            Tops    Blouses  "
      ],
      "text/html": "<div>\n<style scoped>\n    .dataframe tbody tr th:only-of-type {\n        vertical-align: middle;\n    }\n\n    .dataframe tbody tr th {\n        vertical-align: top;\n    }\n\n    .dataframe thead th {\n        text-align: right;\n    }\n</style>\n<table border=\"1\" class=\"dataframe\">\n  <thead>\n    <tr style=\"text-align: right;\">\n      <th></th>\n      <th>Clothing ID</th>\n      <th>Age</th>\n      <th>Title</th>\n      <th>Review Text</th>\n      <th>Rating</th>\n      <th>Recommended IND</th>\n      <th>Positive Feedback Count</th>\n      <th>Division Name</th>\n      <th>Department Name</th>\n      <th>Class Name</th>\n    </tr>\n  </thead>\n  <tbody>\n    <tr>\n      <th>0</th>\n      <td>767</td>\n      <td>33</td>\n      <td>NaN</td>\n      <td>Absolutely wonderful - silky and sexy and comf...</td>\n      <td>4</td>\n      <td>1</td>\n      <td>0</td>\n      <td>Initmates</td>\n      <td>Intimate</td>\n      <td>Intimates</td>\n    </tr>\n    <tr>\n      <th>1</th>\n      <td>1080</td>\n      <td>34</td>\n      <td>NaN</td>\n      <td>Love this dress!  it's sooo pretty.  i happene...</td>\n      <td>5</td>\n      <td>1</td>\n      <td>4</td>\n      <td>General</td>\n      <td>Dresses</td>\n      <td>Dresses</td>\n    </tr>\n    <tr>\n      <th>2</th>\n      <td>1077</td>\n      <td>60</td>\n      <td>Some major design flaws</td>\n      <td>I had such high hopes for this dress and reall...</td>\n      <td>3</td>\n      <td>0</td>\n      <td>0</td>\n      <td>General</td>\n      <td>Dresses</td>\n      <td>Dresses</td>\n    </tr>\n    <tr>\n      <th>3</th>\n      <td>1049</td>\n      <td>50</td>\n      <td>My favorite buy!</td>\n      <td>I love, love, love this jumpsuit. it's fun, fl...</td>\n      <td>5</td>\n      <td>1</td>\n      <td>0</td>\n      <td>General Petite</td>\n      <td>Bottoms</td>\n      <td>Pants</td>\n    </tr>\n    <tr>\n      <th>4</th>\n      <td>847</td>\n      <td>47</td>\n      <td>Flattering shirt</td>\n      <td>This shirt is very flattering to all due to th...</td>\n      <td>5</td>\n      <td>1</td>\n      <td>6</td>\n      <td>General</td>\n      <td>Tops</td>\n      <td>Blouses</td>\n    </tr>\n  </tbody>\n</table>\n</div>"
     },
     "metadata": {},
     "execution_count": 6
    }
   ],
   "source": [
    "df.head()"
   ]
  },
  {
   "cell_type": "code",
   "execution_count": 7,
   "metadata": {},
   "outputs": [],
   "source": [
    "spark = SparkSession.builder.appName(\"Womens_Clothing_E_Commerce_Reviews\").getOrCreate()"
   ]
  },
  {
   "cell_type": "code",
   "execution_count": 8,
   "metadata": {},
   "outputs": [],
   "source": [
    "from modules.utils import createSparkDfFromXlsx"
   ]
  },
  {
   "cell_type": "code",
   "execution_count": 9,
   "metadata": {},
   "outputs": [],
   "source": [
    "data = createSparkDfFromXlsx(df, spark)"
   ]
  },
  {
   "cell_type": "code",
   "execution_count": 10,
   "metadata": {},
   "outputs": [
    {
     "output_type": "execute_result",
     "data": {
      "text/plain": [
       "pyspark.sql.dataframe.DataFrame"
      ]
     },
     "metadata": {},
     "execution_count": 10
    }
   ],
   "source": [
    "type(data)"
   ]
  },
  {
   "source": [
    "# 2. Tiền xử lí dữ liệu\n",
    "## 2.1. Tìm hiểu sơ bộ về dữ liệu"
   ],
   "cell_type": "markdown",
   "metadata": {}
  },
  {
   "cell_type": "code",
   "execution_count": 11,
   "metadata": {},
   "outputs": [
    {
     "output_type": "stream",
     "name": "stdout",
     "text": [
      "root\n |-- Clothing ID: long (nullable = true)\n |-- Age: long (nullable = true)\n |-- Title: double (nullable = true)\n |-- Review Text: string (nullable = true)\n |-- Rating: long (nullable = true)\n |-- Recommended IND: long (nullable = true)\n |-- Positive Feedback Count: long (nullable = true)\n |-- Division Name: string (nullable = true)\n |-- Department Name: string (nullable = true)\n |-- Class Name: string (nullable = true)\n\n"
     ]
    }
   ],
   "source": [
    "data.printSchema()"
   ]
  },
  {
   "cell_type": "code",
   "execution_count": 12,
   "metadata": {},
   "outputs": [
    {
     "output_type": "execute_result",
     "data": {
      "text/plain": [
       "23481"
      ]
     },
     "metadata": {},
     "execution_count": 12
    }
   ],
   "source": [
    "data.count()"
   ]
  },
  {
   "cell_type": "code",
   "execution_count": 13,
   "metadata": {},
   "outputs": [
    {
     "output_type": "stream",
     "name": "stdout",
     "text": [
      "+-----------+---+-----+--------------------+------+---------------+-----------------------+-------------+---------------+----------+\n|Clothing ID|Age|Title|         Review Text|Rating|Recommended IND|Positive Feedback Count|Division Name|Department Name|Class Name|\n+-----------+---+-----+--------------------+------+---------------+-----------------------+-------------+---------------+----------+\n|        767| 33|  NaN|Absolutely wonder...|     4|              1|                      0|    Initmates|       Intimate| Intimates|\n|       1080| 34|  NaN|Love this dress! ...|     5|              1|                      4|      General|        Dresses|   Dresses|\n|       1077| 60| null|I had such high h...|     3|              0|                      0|      General|        Dresses|   Dresses|\n+-----------+---+-----+--------------------+------+---------------+-----------------------+-------------+---------------+----------+\nonly showing top 3 rows\n\n"
     ]
    }
   ],
   "source": [
    "data.show(3)"
   ]
  },
  {
   "source": [
    "> **Nhận xét:**\n",
    "> * Dữ liệu gồm $23,481$ mẫu.\n",
    "> * Có chứa missing value."
   ],
   "cell_type": "markdown",
   "metadata": {}
  },
  {
   "cell_type": "code",
   "execution_count": 14,
   "metadata": {},
   "outputs": [
    {
     "output_type": "stream",
     "name": "stdout",
     "text": [
      "+--------------+\n",
      "| Division Name|\n",
      "+--------------+\n",
      "|     Initmates|\n",
      "|       General|\n",
      "|General Petite|\n",
      "|           NaN|\n",
      "+--------------+\n",
      "\n",
      "+---------------+\n",
      "|Department Name|\n",
      "+---------------+\n",
      "|        Dresses|\n",
      "|           Tops|\n",
      "|        Jackets|\n",
      "|          Trend|\n",
      "|       Intimate|\n",
      "|        Bottoms|\n",
      "|            NaN|\n",
      "+---------------+\n",
      "\n",
      "+--------------+\n",
      "|    Class Name|\n",
      "+--------------+\n",
      "|       Dresses|\n",
      "|     Outerwear|\n",
      "|          Swim|\n",
      "|       Blouses|\n",
      "|         Knits|\n",
      "|       Jackets|\n",
      "|         Trend|\n",
      "|        Lounge|\n",
      "|      Chemises|\n",
      "|         Pants|\n",
      "|    Fine gauge|\n",
      "|      Layering|\n",
      "|        Skirts|\n",
      "|     Intimates|\n",
      "|Casual bottoms|\n",
      "|       Legwear|\n",
      "|           NaN|\n",
      "|         Sleep|\n",
      "|        Shorts|\n",
      "|      Sweaters|\n",
      "+--------------+\n",
      "only showing top 20 rows\n",
      "\n"
     ]
    }
   ],
   "source": [
    "data.select('Division Name').distinct().show()\n",
    "data.select('Department Name').distinct().show()\n",
    "data.select('Class Name').distinct().show()"
   ]
  },
  {
   "source": [
    "## 2.2. Lựa chọn thuộc tính"
   ],
   "cell_type": "markdown",
   "metadata": {}
  },
  {
   "source": [
    "> **Nhận xét:**\n",
    "> * Bài toán yêu câu xây dựng classification model để dự đoán `Rating` _(điểm đánh giá sản phẩm)_ của sản phẩm dựa trên các thuộc tính được cung cấp như sau:\n",
    ">   * `Clothing ID`: ID sản phẩm _(số nguyên dương, category)_\n",
    ">   * `Age`: tuổi của người viết đánh giá _(số nguyên dương)_\n",
    ">   * `Review Text`: nội dung đánh giá _(chuổi)_\n",
    ">   * `Recommended IND`: biến nhị phân cho biết khách hàng sẽ đề xuất sản phẩm này cho người khác hay ko, $1$ có và ngược lại\n",
    ">   * `Positive Feedback Count`: số khách hàng khác cho rằng đánh giá của người này là tích cực _(số nguyên dương)_\n",
    ">   * `Division Name`: phân bậc sản phẩm cấp 1, gồm bốn giá trị là `Initmates` (nội y), `General` (mọi người), `General Petite` (phụ nữ có tướng mình dây), `NaN`\n",
    ">   * `Department Name`: phân bậc cấp 2 của sản phẩm\n",
    ">   * `Class Name`: phân bậc cấp 3 của sản phẩm\n",
    "> * Nhìn chung, ta thấy:\n",
    ">   * Target variable: `Rating`\n",
    ">   * Predictor variables: `Age`, `Review Text`, `Recommended IND`, `Positive Feedback Count`, `Class Name`"
   ],
   "cell_type": "markdown",
   "metadata": {}
  },
  {
   "cell_type": "code",
   "execution_count": 15,
   "metadata": {},
   "outputs": [],
   "source": [
    "features = ['Age', 'Review Text', 'Recommended IND', 'Positive Feedback Count', 'Class Name']\n",
    "target = 'Rating'"
   ]
  },
  {
   "cell_type": "code",
   "execution_count": 16,
   "metadata": {},
   "outputs": [],
   "source": [
    "data_sub = data.select(features + [target])"
   ]
  },
  {
   "cell_type": "code",
   "execution_count": 17,
   "metadata": {},
   "outputs": [
    {
     "output_type": "stream",
     "name": "stdout",
     "text": [
      "+---+--------------------+---------------+-----------------------+----------+------+\n|Age|         Review Text|Recommended IND|Positive Feedback Count|Class Name|Rating|\n+---+--------------------+---------------+-----------------------+----------+------+\n| 33|Absolutely wonder...|              1|                      0| Intimates|     4|\n| 34|Love this dress! ...|              1|                      4|   Dresses|     5|\n| 60|I had such high h...|              0|                      0|   Dresses|     3|\n| 50|I love, love, lov...|              1|                      0|     Pants|     5|\n| 47|This shirt is ver...|              1|                      6|   Blouses|     5|\n+---+--------------------+---------------+-----------------------+----------+------+\nonly showing top 5 rows\n\n"
     ]
    }
   ],
   "source": [
    "data_sub.show(5)"
   ]
  },
  {
   "cell_type": "code",
   "execution_count": 19,
   "metadata": {},
   "outputs": [
    {
     "output_type": "execute_result",
     "data": {
      "text/plain": [
       "  summary                 Age  \\\n",
       "0   count               23481   \n",
       "1    mean   43.19837315276181   \n",
       "2  stddev  12.279291680205555   \n",
       "3     min                  18   \n",
       "4     max                  99   \n",
       "\n",
       "                                         Review Text      Recommended IND  \\\n",
       "0                                              23481                23481   \n",
       "1                                                NaN   0.8224521953920191   \n",
       "2                                                NaN  0.38213976604340594   \n",
       "3  \"does this sweater make my hips look big?\" my ...                    0   \n",
       "4  Yummy, soft material, but very faded looking. ...                    1   \n",
       "\n",
       "  Positive Feedback Count Class Name              Rating  \n",
       "0                   23481      23481               23481  \n",
       "1      2.5353690217622757        NaN   4.196286359184021  \n",
       "2       5.702127864380743        NaN  1.1098198084654947  \n",
       "3                       0    Blouses                   1  \n",
       "4                     122      Trend                   5  "
      ],
      "text/html": "<div>\n<style scoped>\n    .dataframe tbody tr th:only-of-type {\n        vertical-align: middle;\n    }\n\n    .dataframe tbody tr th {\n        vertical-align: top;\n    }\n\n    .dataframe thead th {\n        text-align: right;\n    }\n</style>\n<table border=\"1\" class=\"dataframe\">\n  <thead>\n    <tr style=\"text-align: right;\">\n      <th></th>\n      <th>summary</th>\n      <th>Age</th>\n      <th>Review Text</th>\n      <th>Recommended IND</th>\n      <th>Positive Feedback Count</th>\n      <th>Class Name</th>\n      <th>Rating</th>\n    </tr>\n  </thead>\n  <tbody>\n    <tr>\n      <th>0</th>\n      <td>count</td>\n      <td>23481</td>\n      <td>23481</td>\n      <td>23481</td>\n      <td>23481</td>\n      <td>23481</td>\n      <td>23481</td>\n    </tr>\n    <tr>\n      <th>1</th>\n      <td>mean</td>\n      <td>43.19837315276181</td>\n      <td>NaN</td>\n      <td>0.8224521953920191</td>\n      <td>2.5353690217622757</td>\n      <td>NaN</td>\n      <td>4.196286359184021</td>\n    </tr>\n    <tr>\n      <th>2</th>\n      <td>stddev</td>\n      <td>12.279291680205555</td>\n      <td>NaN</td>\n      <td>0.38213976604340594</td>\n      <td>5.702127864380743</td>\n      <td>NaN</td>\n      <td>1.1098198084654947</td>\n    </tr>\n    <tr>\n      <th>3</th>\n      <td>min</td>\n      <td>18</td>\n      <td>\"does this sweater make my hips look big?\" my ...</td>\n      <td>0</td>\n      <td>0</td>\n      <td>Blouses</td>\n      <td>1</td>\n    </tr>\n    <tr>\n      <th>4</th>\n      <td>max</td>\n      <td>99</td>\n      <td>Yummy, soft material, but very faded looking. ...</td>\n      <td>1</td>\n      <td>122</td>\n      <td>Trend</td>\n      <td>5</td>\n    </tr>\n  </tbody>\n</table>\n</div>"
     },
     "metadata": {},
     "execution_count": 19
    }
   ],
   "source": [
    "data_sub.describe().toPandas()"
   ]
  },
  {
   "source": [
    "> **Nhận xét:**\n",
    "> * Dữ liệu ko có outlier\n",
    "> * Thang đo giữa các thuộc tính đều nhau"
   ],
   "cell_type": "markdown",
   "metadata": {}
  },
  {
   "source": [
    "## 2.3. Xem xét missing observation"
   ],
   "cell_type": "markdown",
   "metadata": {}
  },
  {
   "cell_type": "code",
   "execution_count": 20,
   "metadata": {},
   "outputs": [],
   "source": [
    "from pyspark.sql.functions import *"
   ]
  },
  {
   "cell_type": "code",
   "execution_count": 62,
   "metadata": {},
   "outputs": [],
   "source": [
    "tmp = data_sub.select([count(when((col(c) == '') | col(c).isNull() | isnan(c), c)).alias(c + \" (% missing)\") for c in data_sub.columns]).toPandas()\n",
    "tmp = tmp / data_sub.count()"
   ]
  },
  {
   "cell_type": "code",
   "execution_count": 63,
   "metadata": {},
   "outputs": [
    {
     "output_type": "execute_result",
     "data": {
      "text/plain": [
       "   Age (% missing)  Review Text (% missing)  Recommended IND (% missing)  \\\n",
       "0              0.0                 0.035987                          0.0   \n",
       "\n",
       "   Positive Feedback Count (% missing)  Class Name (% missing)  \\\n",
       "0                                  0.0                0.000596   \n",
       "\n",
       "   Rating (% missing)  \n",
       "0                 0.0  "
      ],
      "text/html": "<div>\n<style scoped>\n    .dataframe tbody tr th:only-of-type {\n        vertical-align: middle;\n    }\n\n    .dataframe tbody tr th {\n        vertical-align: top;\n    }\n\n    .dataframe thead th {\n        text-align: right;\n    }\n</style>\n<table border=\"1\" class=\"dataframe\">\n  <thead>\n    <tr style=\"text-align: right;\">\n      <th></th>\n      <th>Age (% missing)</th>\n      <th>Review Text (% missing)</th>\n      <th>Recommended IND (% missing)</th>\n      <th>Positive Feedback Count (% missing)</th>\n      <th>Class Name (% missing)</th>\n      <th>Rating (% missing)</th>\n    </tr>\n  </thead>\n  <tbody>\n    <tr>\n      <th>0</th>\n      <td>0.0</td>\n      <td>0.035987</td>\n      <td>0.0</td>\n      <td>0.0</td>\n      <td>0.000596</td>\n      <td>0.0</td>\n    </tr>\n  </tbody>\n</table>\n</div>"
     },
     "metadata": {},
     "execution_count": 63
    }
   ],
   "source": [
    "tmp"
   ]
  },
  {
   "source": [
    "> **Nhận xét:**\n",
    "> * Dữ liệu ta có $23481$ mẫu và missing value cùng lắm chỉ chiếm 3 phần trăm dữ liệu $\\Rightarrow$ xóa các mẫu bị missing value."
   ],
   "cell_type": "markdown",
   "metadata": {}
  },
  {
   "cell_type": "code",
   "execution_count": 84,
   "metadata": {},
   "outputs": [],
   "source": [
    "data_sub = data_sub.filter(~col('Review Text').isNull() & ~(col('Review Text') == \"\") & ~(isnan('Review Text')))\n",
    "data_sub = data_sub.filter(~col('Class Name').isNull() & ~(col('Class Name') == \"\") & ~(isnan('Class Name')))"
   ]
  },
  {
   "cell_type": "code",
   "execution_count": 85,
   "metadata": {},
   "outputs": [
    {
     "output_type": "stream",
     "name": "stdout",
     "text": [
      "+---+--------------------+---------------+-----------------------+----------+------+\n|Age|         Review Text|Recommended IND|Positive Feedback Count|Class Name|Rating|\n+---+--------------------+---------------+-----------------------+----------+------+\n| 33|Absolutely wonder...|              1|                      0| Intimates|     4|\n| 34|Love this dress! ...|              1|                      4|   Dresses|     5|\n| 60|I had such high h...|              0|                      0|   Dresses|     3|\n+---+--------------------+---------------+-----------------------+----------+------+\nonly showing top 3 rows\n\n"
     ]
    }
   ],
   "source": [
    "data_sub.show(3)"
   ]
  },
  {
   "cell_type": "code",
   "execution_count": 87,
   "metadata": {},
   "outputs": [
    {
     "output_type": "execute_result",
     "data": {
      "text/plain": [
       "22623"
      ]
     },
     "metadata": {},
     "execution_count": 87
    }
   ],
   "source": [
    "data_sub.count()"
   ]
  },
  {
   "source": [
    "> **Nhận xét**:\n",
    "> * Sau khi loại bỏ các missing observation thì còn lại $22623$ sample."
   ],
   "cell_type": "markdown",
   "metadata": {}
  },
  {
   "source": [
    "## 2.4. Xóa các duplicated observation"
   ],
   "cell_type": "markdown",
   "metadata": {}
  },
  {
   "cell_type": "code",
   "execution_count": 90,
   "metadata": {},
   "outputs": [
    {
     "output_type": "execute_result",
     "data": {
      "text/plain": [
       "0.00013260840737305823"
      ]
     },
     "metadata": {},
     "execution_count": 90
    }
   ],
   "source": [
    "1 - (data_sub.distinct().count() / data_sub.count())"
   ]
  },
  {
   "source": [
    "> **Nhận xét**:\n",
    "> * Có các duplicated observation $\\Rightarrow$ xóa"
   ],
   "cell_type": "markdown",
   "metadata": {}
  },
  {
   "cell_type": "code",
   "execution_count": 91,
   "metadata": {},
   "outputs": [],
   "source": [
    "data_sub = data_sub.dropDuplicates()"
   ]
  },
  {
   "cell_type": "code",
   "execution_count": 92,
   "metadata": {},
   "outputs": [
    {
     "output_type": "execute_result",
     "data": {
      "text/plain": [
       "0.0"
      ]
     },
     "metadata": {},
     "execution_count": 92
    }
   ],
   "source": [
    "1 - (data_sub.distinct().count() / data_sub.count())"
   ]
  },
  {
   "source": [
    "> **Nhận xét:**\n",
    "> * OKLA"
   ],
   "cell_type": "markdown",
   "metadata": {}
  },
  {
   "source": [
    "## 2.5. Xem xét các group trong target variable `Rating` đã đều nhau chưa"
   ],
   "cell_type": "markdown",
   "metadata": {}
  },
  {
   "cell_type": "code",
   "execution_count": 93,
   "metadata": {},
   "outputs": [
    {
     "output_type": "stream",
     "name": "stdout",
     "text": [
      "+------+-----+\n|Rating|count|\n+------+-----+\n|     5|12523|\n|     1|  820|\n|     3| 2822|\n|     2| 1548|\n|     4| 4907|\n+------+-----+\n\n"
     ]
    }
   ],
   "source": [
    "data_sub.groupBy('Rating').count().show()"
   ]
  },
  {
   "source": [
    "> **Nhận xét**:\n",
    "> * Các sample được đánh giá là $5$ sao vượt trội hơn so với các group còn lại"
   ],
   "cell_type": "markdown",
   "metadata": {}
  }
 ]
}