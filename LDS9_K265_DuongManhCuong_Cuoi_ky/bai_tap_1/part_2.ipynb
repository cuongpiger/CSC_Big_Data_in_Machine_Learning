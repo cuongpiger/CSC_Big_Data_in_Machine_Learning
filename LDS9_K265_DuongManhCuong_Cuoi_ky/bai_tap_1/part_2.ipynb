{
 "metadata": {
  "language_info": {
   "codemirror_mode": {
    "name": "ipython",
    "version": 3
   },
   "file_extension": ".py",
   "mimetype": "text/x-python",
   "name": "python",
   "nbconvert_exporter": "python",
   "pygments_lexer": "ipython3",
   "version": "3.8.5"
  },
  "orig_nbformat": 2,
  "kernelspec": {
   "name": "python38564bit739b5682ab17410ead4710a41bd80672",
   "display_name": "Python 3.8.5 64-bit"
  },
  "metadata": {
   "interpreter": {
    "hash": "31f2aee4e71d21fbe5cf8b01ff0e069b9275f58929596ceb00d14d90e3e16cd6"
   }
  }
 },
 "nbformat": 4,
 "nbformat_minor": 2,
 "cells": [
  {
   "source": [
    "![](../images/FE_00.png)"
   ],
   "cell_type": "markdown",
   "metadata": {}
  },
  {
   "source": [
    "# 6. Đọc dữ liệu đã làm sạch từ file parquet đã làm từ **part_1**"
   ],
   "cell_type": "markdown",
   "metadata": {}
  },
  {
   "cell_type": "code",
   "execution_count": 1,
   "metadata": {},
   "outputs": [],
   "source": [
    "%load_ext autoreload\n",
    "%autoreload 2"
   ]
  },
  {
   "cell_type": "code",
   "execution_count": 2,
   "metadata": {},
   "outputs": [],
   "source": [
    "from pyspark.sql import SparkSession"
   ]
  },
  {
   "cell_type": "code",
   "execution_count": 3,
   "metadata": {},
   "outputs": [],
   "source": [
    "spark = SparkSession.builder.appName('Womens_Clothing_E_Commerce_Reviews').getOrCreate()"
   ]
  },
  {
   "cell_type": "code",
   "execution_count": 4,
   "metadata": {},
   "outputs": [],
   "source": [
    "data = spark.read.parquet(\"../data/womens-ecommerce-clothing-reviews/womens-ecommerce-clothing-reviews_clean_data.parquet\")"
   ]
  },
  {
   "cell_type": "code",
   "execution_count": 5,
   "metadata": {},
   "outputs": [
    {
     "output_type": "stream",
     "name": "stdout",
     "text": [
      "+---+------+--------------------+--------------+---------------------+---------+-------------+--------------------+--------------------+--------------------+--------------------+\n|Age|Rating|          ReviewText|RecommendedIND|PositiveFeedbackCount|ClassName|ClassName_idx|      ReviewText_tok|      ReviewText_stp|      ReviewText_cvt|      ReviewText_idf|\n+---+------+--------------------+--------------+---------------------+---------+-------------+--------------------+--------------------+--------------------+--------------------+\n| 46|     5|I tried these on ...|             1|                    8|    Pants|          4.0|[i, tried, these,...|[tried, whim, lik...|(14158,[3,8,14,19...|(14158,[3,8,14,19...|\n| 65|     4|Great feature...p...|             1|                    0|    Knits|          1.0|[great, feature, ...|[great, feature, ...|(14158,[3,5,8,16,...|(14158,[3,5,8,16,...|\n| 32|     3|I'm usually an xs...|             1|                    0|  Dresses|          0.0|[i, m, usually, a...|[m, usually, xs, ...|(14158,[0,4,6,10,...|(14158,[0,4,6,10,...|\n| 69|     4|Ordered this in w...|             1|                    1|Intimates|         15.0|[ordered, this, i...|[ordered, white, ...|(14158,[14,15,26,...|(14158,[14,15,26,...|\n| 39|     5|I was lucky enoug...|             1|                    0|  Dresses|          0.0|[i, was, lucky, e...|[lucky, enough, g...|(14158,[0,2,4,9,1...|(14158,[0,2,4,9,1...|\n+---+------+--------------------+--------------+---------------------+---------+-------------+--------------------+--------------------+--------------------+--------------------+\nonly showing top 5 rows\n\n"
     ]
    }
   ],
   "source": [
    "data.show(5)"
   ]
  },
  {
   "source": [
    "# 7. Chuyển dữ liệu"
   ],
   "cell_type": "markdown",
   "metadata": {}
  },
  {
   "cell_type": "code",
   "execution_count": 6,
   "metadata": {},
   "outputs": [],
   "source": [
    "from pyspark.ml.feature import VectorAssembler"
   ]
  },
  {
   "cell_type": "code",
   "execution_count": 7,
   "metadata": {},
   "outputs": [],
   "source": [
    "features = ['Age', 'RecommendedIND', 'PositiveFeedbackCount', 'ClassName_idx', 'ReviewText_idf']\n",
    "target = 'Rating'"
   ]
  },
  {
   "cell_type": "code",
   "execution_count": 8,
   "metadata": {},
   "outputs": [],
   "source": [
    "assembler = VectorAssembler(inputCols=features, outputCol='features')"
   ]
  },
  {
   "cell_type": "code",
   "execution_count": 9,
   "metadata": {},
   "outputs": [],
   "source": [
    "final_data = assembler.transform(data).select('features', target)"
   ]
  },
  {
   "cell_type": "code",
   "execution_count": 10,
   "metadata": {},
   "outputs": [
    {
     "output_type": "stream",
     "name": "stdout",
     "text": [
      "+--------------------+------+\n|            features|Rating|\n+--------------------+------+\n|(14162,[0,1,2,3,7...|     5|\n|(14162,[0,1,3,7,9...|     4|\n|(14162,[0,1,4,8,1...|     3|\n|(14162,[0,1,2,3,1...|     4|\n|(14162,[0,1,4,6,8...|     5|\n+--------------------+------+\nonly showing top 5 rows\n\n"
     ]
    }
   ],
   "source": [
    "final_data.show(5)"
   ]
  },
  {
   "source": [
    "# 8. Tách dữ liệu train test"
   ],
   "cell_type": "markdown",
   "metadata": {}
  },
  {
   "cell_type": "code",
   "execution_count": 11,
   "metadata": {},
   "outputs": [],
   "source": [
    "train, test = final_data.randomSplit((0.8, 0.2))"
   ]
  },
  {
   "source": [
    "# 9. Xem các group của `Rating` đã cân bằng trên `train` data chưa"
   ],
   "cell_type": "markdown",
   "metadata": {}
  },
  {
   "cell_type": "code",
   "execution_count": 12,
   "metadata": {},
   "outputs": [],
   "source": [
    "tmp = train.groupBy(target).count()"
   ]
  },
  {
   "cell_type": "code",
   "execution_count": 13,
   "metadata": {},
   "outputs": [
    {
     "output_type": "stream",
     "name": "stdout",
     "text": [
      "+------+-----+\n|Rating|count|\n+------+-----+\n|     1|  658|\n|     3| 2253|\n|     5| 9949|\n|     4| 3916|\n|     2| 1269|\n+------+-----+\n\n"
     ]
    }
   ],
   "source": [
    "tmp.show()"
   ]
  },
  {
   "source": [
    "> **Nhận xét:**\n",
    "> * Dữ liệu train gồm $18,147$ mẫu"
   ],
   "cell_type": "markdown",
   "metadata": {}
  },
  {
   "cell_type": "code",
   "execution_count": 14,
   "metadata": {},
   "outputs": [],
   "source": [
    "from pyspark.sql.functions import col"
   ]
  },
  {
   "cell_type": "code",
   "execution_count": 15,
   "metadata": {},
   "outputs": [],
   "source": [
    "tmp1 = train.count()"
   ]
  },
  {
   "cell_type": "code",
   "execution_count": 16,
   "metadata": {},
   "outputs": [],
   "source": [
    "tmp2 = tmp.select('Rating', col('count')/tmp1)"
   ]
  },
  {
   "source": [
    "tmp2.show()"
   ],
   "cell_type": "code",
   "metadata": {},
   "execution_count": 17,
   "outputs": [
    {
     "output_type": "stream",
     "name": "stdout",
     "text": [
      "+------+--------------------+\n|Rating|     (count / 18045)|\n+------+--------------------+\n|     1|0.036464394569132724|\n|     3| 0.12485453034081463|\n|     5|  0.5513438625658077|\n|     4|  0.2170130229980604|\n|     2| 0.07032418952618454|\n+------+--------------------+\n\n"
     ]
    }
   ]
  },
  {
   "source": [
    "> **Nhận xét**:\n",
    "> * Các group 1, 2, 3 chiếm số lượng quá nhỏ trong tập dữ liệu, cần oversampling chúng"
   ],
   "cell_type": "markdown",
   "metadata": {}
  },
  {
   "source": [
    "# 10. Ghi `train` và `test` data ra file parquet"
   ],
   "cell_type": "markdown",
   "metadata": {}
  },
  {
   "cell_type": "code",
   "execution_count": 18,
   "metadata": {},
   "outputs": [],
   "source": [
    "train.write.parquet(\"../data/womens-ecommerce-clothing-reviews/womens-ecommerce-clothing-reviews_train.parquet\")"
   ]
  },
  {
   "cell_type": "code",
   "execution_count": 19,
   "metadata": {},
   "outputs": [],
   "source": [
    "test.write.parquet(\"../data/womens-ecommerce-clothing-reviews/womens-ecommerce-clothing-reviews_test.parquet\")"
   ]
  },
  {
   "source": [
    "# 11. Áp dụng Oversampling cho các group 1, 2, 3 trên `train` data"
   ],
   "cell_type": "markdown",
   "metadata": {}
  },
  {
   "cell_type": "code",
   "execution_count": 20,
   "metadata": {},
   "outputs": [],
   "source": [
    "from modules.utils import oversampling"
   ]
  },
  {
   "cell_type": "code",
   "execution_count": 21,
   "metadata": {},
   "outputs": [],
   "source": [
    "# oversampling(pDf: pyspark.sql.DataFrame, pColumn: str, pMajorValue, pMinorValue):\n",
    "data_resampling = oversampling(train, target, 4, 1)\n",
    "data_resampling = data_resampling.unionAll(train)"
   ]
  },
  {
   "cell_type": "code",
   "execution_count": 22,
   "metadata": {},
   "outputs": [
    {
     "output_type": "stream",
     "name": "stdout",
     "text": [
      "+------+-----+\n|Rating|count|\n+------+-----+\n|     1| 3948|\n|     3| 2253|\n|     5| 9949|\n|     4| 7832|\n|     2| 1269|\n+------+-----+\n\n"
     ]
    }
   ],
   "source": [
    "data_resampling.groupBy(target).count().show()"
   ]
  },
  {
   "cell_type": "code",
   "execution_count": 23,
   "metadata": {},
   "outputs": [],
   "source": [
    "data_resampling = oversampling(data_resampling, target, 3, 2).unionAll(data_resampling)"
   ]
  },
  {
   "cell_type": "code",
   "execution_count": 24,
   "metadata": {},
   "outputs": [
    {
     "output_type": "stream",
     "name": "stdout",
     "text": [
      "+------+-----+\n|Rating|count|\n+------+-----+\n|     1| 3948|\n|     3| 4506|\n|     5| 9949|\n|     4| 7832|\n|     2| 2538|\n+------+-----+\n\n"
     ]
    }
   ],
   "source": [
    "data_resampling.groupBy(target).count().show()\n"
   ]
  },
  {
   "source": [
    "# 12. Ghi `data_resampling` ra file parquet"
   ],
   "cell_type": "markdown",
   "metadata": {}
  },
  {
   "cell_type": "code",
   "execution_count": 25,
   "metadata": {},
   "outputs": [],
   "source": [
    "data_resampling.write.parquet(\"../data/womens-ecommerce-clothing-reviews/womens-ecommerce-clothing-reviews_resampling.parquet\")"
   ]
  },
  {
   "cell_type": "code",
   "execution_count": null,
   "metadata": {},
   "outputs": [],
   "source": []
  }
 ]
}