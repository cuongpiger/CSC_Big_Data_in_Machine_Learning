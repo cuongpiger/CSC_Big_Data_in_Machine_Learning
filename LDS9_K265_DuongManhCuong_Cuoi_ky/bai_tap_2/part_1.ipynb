{
 "metadata": {
  "language_info": {
   "codemirror_mode": {
    "name": "ipython",
    "version": 3
   },
   "file_extension": ".py",
   "mimetype": "text/x-python",
   "name": "python",
   "nbconvert_exporter": "python",
   "pygments_lexer": "ipython3",
   "version": "3.8.5"
  },
  "orig_nbformat": 2,
  "kernelspec": {
   "name": "python38564bit207240a302f84cf383d7b6dbf8fca3f2",
   "display_name": "Python 3.8.5 64-bit"
  },
  "metadata": {
   "interpreter": {
    "hash": "31f2aee4e71d21fbe5cf8b01ff0e069b9275f58929596ceb00d14d90e3e16cd6"
   }
  }
 },
 "nbformat": 4,
 "nbformat_minor": 2,
 "cells": [
  {
   "source": [
    "![](../images/FE_01.png)"
   ],
   "cell_type": "markdown",
   "metadata": {}
  },
  {
   "source": [
    "# 1. Đọc dữ liệu"
   ],
   "cell_type": "markdown",
   "metadata": {}
  },
  {
   "cell_type": "code",
   "execution_count": 1,
   "metadata": {},
   "outputs": [],
   "source": [
    "%load_ext autoreload\n",
    "%autoreload 2"
   ]
  },
  {
   "cell_type": "code",
   "execution_count": 2,
   "metadata": {},
   "outputs": [],
   "source": [
    "import pandas as pd\n",
    "from pyspark.sql import SparkSession"
   ]
  },
  {
   "cell_type": "code",
   "execution_count": 3,
   "metadata": {},
   "outputs": [],
   "source": [
    "spark = SparkSession.builder.appName(\"Fake_and_Real_News\").getOrCreate()"
   ]
  },
  {
   "cell_type": "code",
   "execution_count": 4,
   "metadata": {},
   "outputs": [],
   "source": [
    "fake_news = spark.read.csv(\"../data/face-and-real-news-dataset/Fake.csv\", inferSchema=True, header=True)\n",
    "real_news = spark.read.csv(\"../data/face-and-real-news-dataset/True.csv\", inferSchema=True, header=True)"
   ]
  },
  {
   "source": [
    "* Tạo feature mới là `label` với 1 là **fake-news** và 0 là **real-news** "
   ],
   "cell_type": "markdown",
   "metadata": {}
  },
  {
   "cell_type": "code",
   "execution_count": 5,
   "metadata": {},
   "outputs": [],
   "source": [
    "from pyspark.sql.functions import lit"
   ]
  },
  {
   "cell_type": "code",
   "execution_count": 6,
   "metadata": {},
   "outputs": [],
   "source": [
    "fake_news = fake_news.withColumn('label', lit(1))\n",
    "real_news = real_news.withColumn('label', lit(0))"
   ]
  },
  {
   "cell_type": "code",
   "execution_count": 7,
   "metadata": {},
   "outputs": [
    {
     "output_type": "stream",
     "name": "stdout",
     "text": [
      "+--------------------+--------------------+-------+-----------------+-----+\n|               title|                text|subject|             date|label|\n+--------------------+--------------------+-------+-----------------+-----+\n| Donald Trump Sen...|Donald Trump just...|   News|December 31, 2017|    1|\n| Drunk Bragging T...|House Intelligenc...|   News|December 31, 2017|    1|\n| Sheriff David Cl...|On Friday, it was...|   News|December 30, 2017|    1|\n| Trump Is So Obse...|On Christmas day,...|   News|December 29, 2017|    1|\n| Pope Francis Jus...|Pope Francis used...|   News|December 25, 2017|    1|\n+--------------------+--------------------+-------+-----------------+-----+\nonly showing top 5 rows\n\n"
     ]
    }
   ],
   "source": [
    "fake_news.show(5)"
   ]
  },
  {
   "cell_type": "code",
   "execution_count": 8,
   "metadata": {},
   "outputs": [
    {
     "output_type": "stream",
     "name": "stdout",
     "text": [
      "+--------------------+--------------------+------------+------------------+-----+\n|               title|                text|     subject|              date|label|\n+--------------------+--------------------+------------+------------------+-----+\n|As U.S. budget fi...|WASHINGTON (Reute...|politicsNews|December 31, 2017 |    0|\n|U.S. military to ...|WASHINGTON (Reute...|politicsNews|December 29, 2017 |    0|\n|Senior U.S. Repub...|WASHINGTON (Reute...|politicsNews|December 31, 2017 |    0|\n|FBI Russia probe ...|WASHINGTON (Reute...|politicsNews|December 30, 2017 |    0|\n|Trump wants Posta...|SEATTLE/WASHINGTO...|politicsNews|December 29, 2017 |    0|\n+--------------------+--------------------+------------+------------------+-----+\nonly showing top 5 rows\n\n"
     ]
    }
   ],
   "source": [
    "real_news.show(5)"
   ]
  },
  {
   "source": [
    "# 2. Tiền xử lí dữ liệu\n",
    "## 2.1. Tìm hiểu sơ bộ về dữ liệu"
   ],
   "cell_type": "markdown",
   "metadata": {}
  },
  {
   "cell_type": "code",
   "execution_count": 9,
   "metadata": {},
   "outputs": [
    {
     "output_type": "stream",
     "name": "stdout",
     "text": [
      "root\n |-- title: string (nullable = true)\n |-- text: string (nullable = true)\n |-- subject: string (nullable = true)\n |-- date: string (nullable = true)\n |-- label: integer (nullable = false)\n\n"
     ]
    }
   ],
   "source": [
    "fake_news.printSchema()"
   ]
  },
  {
   "cell_type": "code",
   "execution_count": 10,
   "metadata": {},
   "outputs": [
    {
     "output_type": "stream",
     "name": "stdout",
     "text": [
      "root\n |-- title: string (nullable = true)\n |-- text: string (nullable = true)\n |-- subject: string (nullable = true)\n |-- date: string (nullable = true)\n |-- label: integer (nullable = false)\n\n"
     ]
    }
   ],
   "source": [
    "real_news.printSchema()"
   ]
  },
  {
   "cell_type": "code",
   "execution_count": 11,
   "metadata": {},
   "outputs": [
    {
     "output_type": "execute_result",
     "data": {
      "text/plain": [
       "(23489, 21417)"
      ]
     },
     "metadata": {},
     "execution_count": 11
    }
   ],
   "source": [
    "fake_news.count(), real_news.count()"
   ]
  },
  {
   "source": [
    "> **Nhận xét:**\n",
    "> * Dữ liệu khá cân bằng"
   ],
   "cell_type": "markdown",
   "metadata": {}
  },
  {
   "source": [
    "## 2.2. Lựa chọn thuộc tính"
   ],
   "cell_type": "markdown",
   "metadata": {}
  },
  {
   "source": [
    "> * Nhìn chung, ta thấy:\n",
    ">   * Target variable: `label`\n",
    ">   * Predictor variables: `title`, `text`, `subject`"
   ],
   "cell_type": "markdown",
   "metadata": {}
  },
  {
   "cell_type": "code",
   "execution_count": 12,
   "metadata": {},
   "outputs": [],
   "source": [
    "features = ['title', 'text', 'subject', 'label']"
   ]
  },
  {
   "cell_type": "code",
   "execution_count": 13,
   "metadata": {},
   "outputs": [],
   "source": [
    "fake_news_sub = fake_news.select(features)\n",
    "real_news_sub = real_news.select(features)"
   ]
  },
  {
   "cell_type": "code",
   "execution_count": 14,
   "metadata": {},
   "outputs": [
    {
     "output_type": "stream",
     "name": "stdout",
     "text": [
      "+--------------------+--------------------+-------+-----+\n|               title|                text|subject|label|\n+--------------------+--------------------+-------+-----+\n| Donald Trump Sen...|Donald Trump just...|   News|    1|\n| Drunk Bragging T...|House Intelligenc...|   News|    1|\n| Sheriff David Cl...|On Friday, it was...|   News|    1|\n| Trump Is So Obse...|On Christmas day,...|   News|    1|\n| Pope Francis Jus...|Pope Francis used...|   News|    1|\n+--------------------+--------------------+-------+-----+\nonly showing top 5 rows\n\n"
     ]
    }
   ],
   "source": [
    "fake_news_sub.show(5)"
   ]
  },
  {
   "cell_type": "code",
   "execution_count": 15,
   "metadata": {},
   "outputs": [
    {
     "output_type": "stream",
     "name": "stdout",
     "text": [
      "+--------------------+--------------------+------------+-----+\n|               title|                text|     subject|label|\n+--------------------+--------------------+------------+-----+\n|As U.S. budget fi...|WASHINGTON (Reute...|politicsNews|    0|\n|U.S. military to ...|WASHINGTON (Reute...|politicsNews|    0|\n|Senior U.S. Repub...|WASHINGTON (Reute...|politicsNews|    0|\n|FBI Russia probe ...|WASHINGTON (Reute...|politicsNews|    0|\n|Trump wants Posta...|SEATTLE/WASHINGTO...|politicsNews|    0|\n+--------------------+--------------------+------------+-----+\nonly showing top 5 rows\n\n"
     ]
    }
   ],
   "source": [
    "real_news_sub.show(5)"
   ]
  },
  {
   "source": [
    "## 2.3. Xem xét missing observation"
   ],
   "cell_type": "markdown",
   "metadata": {}
  },
  {
   "cell_type": "code",
   "execution_count": 16,
   "metadata": {},
   "outputs": [],
   "source": [
    "from pyspark.sql.functions import *"
   ]
  },
  {
   "cell_type": "code",
   "execution_count": 17,
   "metadata": {},
   "outputs": [],
   "source": [
    "tmp = fake_news_sub.select([count(when((col(c) == '') | col(c).isNull() | isnan(c), c)).alias(c + \" (% missing)\") for c in fake_news_sub.columns]).toPandas()\n",
    "tmp = tmp / fake_news_sub.count()"
   ]
  },
  {
   "cell_type": "code",
   "execution_count": 18,
   "metadata": {},
   "outputs": [
    {
     "output_type": "execute_result",
     "data": {
      "text/plain": [
       "   title (% missing)  text (% missing)  subject (% missing)  label (% missing)\n",
       "0                0.0          0.000341             0.000341                0.0"
      ],
      "text/html": "<div>\n<style scoped>\n    .dataframe tbody tr th:only-of-type {\n        vertical-align: middle;\n    }\n\n    .dataframe tbody tr th {\n        vertical-align: top;\n    }\n\n    .dataframe thead th {\n        text-align: right;\n    }\n</style>\n<table border=\"1\" class=\"dataframe\">\n  <thead>\n    <tr style=\"text-align: right;\">\n      <th></th>\n      <th>title (% missing)</th>\n      <th>text (% missing)</th>\n      <th>subject (% missing)</th>\n      <th>label (% missing)</th>\n    </tr>\n  </thead>\n  <tbody>\n    <tr>\n      <th>0</th>\n      <td>0.0</td>\n      <td>0.000341</td>\n      <td>0.000341</td>\n      <td>0.0</td>\n    </tr>\n  </tbody>\n</table>\n</div>"
     },
     "metadata": {},
     "execution_count": 18
    }
   ],
   "source": [
    "tmp"
   ]
  },
  {
   "cell_type": "code",
   "execution_count": 19,
   "metadata": {},
   "outputs": [],
   "source": [
    "tmp2 = real_news_sub.select([count(when((col(c) == '') | col(c).isNull() | isnan(c), c)).alias(c + \" (% missing)\") for c in real_news_sub.columns]).toPandas()\n",
    "tmp2 = tmp2 / real_news_sub.count()"
   ]
  },
  {
   "cell_type": "code",
   "execution_count": 20,
   "metadata": {},
   "outputs": [
    {
     "output_type": "execute_result",
     "data": {
      "text/plain": [
       "   title (% missing)  text (% missing)  subject (% missing)  label (% missing)\n",
       "0                0.0               0.0                  0.0                0.0"
      ],
      "text/html": "<div>\n<style scoped>\n    .dataframe tbody tr th:only-of-type {\n        vertical-align: middle;\n    }\n\n    .dataframe tbody tr th {\n        vertical-align: top;\n    }\n\n    .dataframe thead th {\n        text-align: right;\n    }\n</style>\n<table border=\"1\" class=\"dataframe\">\n  <thead>\n    <tr style=\"text-align: right;\">\n      <th></th>\n      <th>title (% missing)</th>\n      <th>text (% missing)</th>\n      <th>subject (% missing)</th>\n      <th>label (% missing)</th>\n    </tr>\n  </thead>\n  <tbody>\n    <tr>\n      <th>0</th>\n      <td>0.0</td>\n      <td>0.0</td>\n      <td>0.0</td>\n      <td>0.0</td>\n    </tr>\n  </tbody>\n</table>\n</div>"
     },
     "metadata": {},
     "execution_count": 20
    }
   ],
   "source": [
    "tmp2"
   ]
  },
  {
   "source": [
    "> **Nhận xét:**\n",
    "> * Có missing observation $\\Rightarrow$ xóa"
   ],
   "cell_type": "markdown",
   "metadata": {}
  },
  {
   "cell_type": "code",
   "execution_count": 21,
   "metadata": {},
   "outputs": [],
   "source": [
    "fake_news_sub = fake_news_sub.filter(~col('text').isNull() & ~(col('text') == \"\") & ~(isnan('text')))\n",
    "fake_news_sub = fake_news_sub.filter(~col('subject').isNull() & ~(col('subject') == \"\") & ~(isnan('subject')))"
   ]
  },
  {
   "cell_type": "code",
   "execution_count": 22,
   "metadata": {},
   "outputs": [],
   "source": [
    "tmp = fake_news_sub.select([count(when((col(c) == '') | col(c).isNull() | isnan(c), c)).alias(c + \" (% missing)\") for c in fake_news_sub.columns]).toPandas()\n",
    "tmp = tmp / fake_news_sub.count()"
   ]
  },
  {
   "cell_type": "code",
   "execution_count": 23,
   "metadata": {},
   "outputs": [
    {
     "output_type": "execute_result",
     "data": {
      "text/plain": [
       "   title (% missing)  text (% missing)  subject (% missing)  label (% missing)\n",
       "0                0.0               0.0                  0.0                0.0"
      ],
      "text/html": "<div>\n<style scoped>\n    .dataframe tbody tr th:only-of-type {\n        vertical-align: middle;\n    }\n\n    .dataframe tbody tr th {\n        vertical-align: top;\n    }\n\n    .dataframe thead th {\n        text-align: right;\n    }\n</style>\n<table border=\"1\" class=\"dataframe\">\n  <thead>\n    <tr style=\"text-align: right;\">\n      <th></th>\n      <th>title (% missing)</th>\n      <th>text (% missing)</th>\n      <th>subject (% missing)</th>\n      <th>label (% missing)</th>\n    </tr>\n  </thead>\n  <tbody>\n    <tr>\n      <th>0</th>\n      <td>0.0</td>\n      <td>0.0</td>\n      <td>0.0</td>\n      <td>0.0</td>\n    </tr>\n  </tbody>\n</table>\n</div>"
     },
     "metadata": {},
     "execution_count": 23
    }
   ],
   "source": [
    "tmp"
   ]
  },
  {
   "cell_type": "code",
   "execution_count": 24,
   "metadata": {},
   "outputs": [
    {
     "output_type": "execute_result",
     "data": {
      "text/plain": [
       "(23481, 21417)"
      ]
     },
     "metadata": {},
     "execution_count": 24
    }
   ],
   "source": [
    "fake_news_sub.count(), real_news_sub.count()"
   ]
  },
  {
   "source": [
    "## 2.4. Xóa các duplicated observation"
   ],
   "cell_type": "markdown",
   "metadata": {}
  },
  {
   "cell_type": "code",
   "execution_count": 25,
   "metadata": {},
   "outputs": [
    {
     "output_type": "execute_result",
     "data": {
      "text/plain": [
       "0.011285720369660579"
      ]
     },
     "metadata": {},
     "execution_count": 25
    }
   ],
   "source": [
    "1 - (fake_news_sub.distinct().count() / fake_news_sub.count())"
   ]
  },
  {
   "source": [
    "> **Nhận xét**:\n",
    "> * Có các duplicated observation $\\Rightarrow$ xóa"
   ],
   "cell_type": "markdown",
   "metadata": {}
  },
  {
   "cell_type": "code",
   "execution_count": 26,
   "metadata": {},
   "outputs": [],
   "source": [
    "fake_news_sub = fake_news_sub.dropDuplicates()"
   ]
  },
  {
   "cell_type": "code",
   "execution_count": 27,
   "metadata": {},
   "outputs": [
    {
     "output_type": "execute_result",
     "data": {
      "text/plain": [
       "0.0"
      ]
     },
     "metadata": {},
     "execution_count": 27
    }
   ],
   "source": [
    "1 - (fake_news_sub.distinct().count() / fake_news_sub.count())"
   ]
  },
  {
   "cell_type": "code",
   "execution_count": 28,
   "metadata": {},
   "outputs": [
    {
     "output_type": "execute_result",
     "data": {
      "text/plain": [
       "0.009758602978941933"
      ]
     },
     "metadata": {},
     "execution_count": 28
    }
   ],
   "source": [
    "1 - (real_news_sub.distinct().count() / real_news_sub.count())"
   ]
  },
  {
   "cell_type": "code",
   "execution_count": 29,
   "metadata": {},
   "outputs": [],
   "source": [
    "real_news_sub = real_news_sub.dropDuplicates()"
   ]
  },
  {
   "cell_type": "code",
   "execution_count": 30,
   "metadata": {},
   "outputs": [
    {
     "output_type": "execute_result",
     "data": {
      "text/plain": [
       "0.0"
      ]
     },
     "metadata": {},
     "execution_count": 30
    }
   ],
   "source": [
    "1 - (real_news_sub.distinct().count() / real_news_sub.count())"
   ]
  },
  {
   "source": [
    "> **Nhận xét:**\n",
    "> * OKLA"
   ],
   "cell_type": "markdown",
   "metadata": {}
  },
  {
   "source": [
    "# 3. Chuyển dữ liệu"
   ],
   "cell_type": "markdown",
   "metadata": {}
  },
  {
   "cell_type": "code",
   "execution_count": 31,
   "metadata": {},
   "outputs": [],
   "source": [
    "from pyspark.ml.feature import RegexTokenizer, StopWordsRemover, CountVectorizer, IDF, StringIndexer,VectorAssembler"
   ]
  },
  {
   "cell_type": "code",
   "execution_count": 32,
   "metadata": {},
   "outputs": [],
   "source": [
    "indexer = StringIndexer(inputCol='subject', outputCol='subject_idx')"
   ]
  },
  {
   "cell_type": "code",
   "execution_count": 33,
   "metadata": {},
   "outputs": [],
   "source": [
    "from pyspark.ml import Pipeline"
   ]
  },
  {
   "cell_type": "code",
   "execution_count": 34,
   "metadata": {},
   "outputs": [],
   "source": [
    "for c in ['text', 'title']:\n",
    "    reg_tokenizer = RegexTokenizer(inputCol=c, outputCol=(c + '_tok'), pattern=\"\\\\W\")\n",
    "    stopremove = StopWordsRemover(inputCol=(c + '_tok'), outputCol=(c + '_stp'))\n",
    "    count_vec = CountVectorizer(inputCol=(c + '_stp'), outputCol=(c + '_cvt'))\n",
    "    idf = IDF(inputCol=(c + '_cvt'), outputCol=(c + '_idf'))\n",
    "    pipeline = Pipeline(stages=[reg_tokenizer, stopremove, count_vec, idf])\n",
    "    fake_news_sub = pipeline.fit(fake_news_sub).transform(fake_news_sub)"
   ]
  },
  {
   "cell_type": "code",
   "execution_count": 35,
   "metadata": {},
   "outputs": [],
   "source": [
    "fake_news_sub = indexer.fit(fake_news_sub).transform(fake_news_sub)"
   ]
  },
  {
   "cell_type": "code",
   "execution_count": 36,
   "metadata": {},
   "outputs": [],
   "source": [
    "for c in ['text', 'title']:\n",
    "    reg_tokenizer = RegexTokenizer(inputCol=c, outputCol=(c + '_tok'), pattern=\"\\\\W\")\n",
    "    stopremove = StopWordsRemover(inputCol=(c + '_tok'), outputCol=(c + '_stp'))\n",
    "    count_vec = CountVectorizer(inputCol=(c + '_stp'), outputCol=(c + '_cvt'))\n",
    "    idf = IDF(inputCol=(c + '_cvt'), outputCol=(c + '_idf'))\n",
    "    pipeline = Pipeline(stages=[reg_tokenizer, stopremove, count_vec, idf])\n",
    "    real_news_sub = pipeline.fit(real_news_sub).transform(real_news_sub)"
   ]
  },
  {
   "cell_type": "code",
   "execution_count": 37,
   "metadata": {},
   "outputs": [],
   "source": [
    "real_news_sub = indexer.fit(real_news_sub).transform(real_news_sub)"
   ]
  },
  {
   "cell_type": "code",
   "execution_count": 38,
   "metadata": {},
   "outputs": [
    {
     "output_type": "stream",
     "name": "stdout",
     "text": [
      "+--------------------+--------------------+--------------------+-----+--------------------+--------------------+--------------------+--------------------+--------------------+--------------------+--------------------+--------------------+-----------+\n|               title|                text|             subject|label|            text_tok|            text_stp|            text_cvt|            text_idf|           title_tok|           title_stp|           title_cvt|           title_idf|subject_idx|\n+--------------------+--------------------+--------------------+-----+--------------------+--------------------+--------------------+--------------------+--------------------+--------------------+--------------------+--------------------+-----------+\n| Don Jr. Tries To...|When Sen. Al Fran...|                News|    1|[when, sen, al, f...|[sen, al, franken...|(90715,[0,1,3,4,7...|(90715,[0,1,3,4,7...|[don, jr, tries, ...|[jr, tries, mock,...|(15309,[252,391,4...|(15309,[252,391,4...|        0.0|\n| Chainsaw MASS-ac...|\"On Tuesday after...| 2017I have no id...|    1|[on, tuesday, aft...|[tuesday, afterno...|(90715,[0,4,8,11,...|(90715,[0,4,8,11,...|[chainsaw, mass, ...|[chainsaw, mass, ...|(15309,[0,195,340...|(15309,[0,195,340...|      392.0|\n| Trump Is Now Tal...|Before dawn on We...|                News|    1|[before, dawn, on...|[dawn, wednesday,...|(90715,[0,1,2,3,4...|(90715,[0,1,2,3,4...|[trump, is, now, ...|[trump, talking, ...|(15309,[0,57,99,7...|(15309,[0,57,99,7...|        0.0|\n| Kushner: I Lied ...|Donald Trump s so...|                News|    1|[donald, trump, s...|[donald, trump, s...|(90715,[0,1,5,7,8...|(90715,[0,1,5,7,8...|[kushner, i, lied...|[kushner, lied, f...|(15309,[79,269,48...|(15309,[79,269,48...|        0.0|\n| Trump Claims Tha...|Donald Trump keep...|                News|    1|[donald, trump, k...|[donald, trump, k...|(90715,[0,3,6,8,9...|(90715,[0,3,6,8,9...|[trump, claims, t...|[trump, claims, o...|(15309,[0,14,114,...|(15309,[0,14,114,...|        0.0|\n+--------------------+--------------------+--------------------+-----+--------------------+--------------------+--------------------+--------------------+--------------------+--------------------+--------------------+--------------------+-----------+\nonly showing top 5 rows\n\n"
     ]
    }
   ],
   "source": [
    "fake_news_sub.show(5)"
   ]
  },
  {
   "cell_type": "code",
   "execution_count": 39,
   "metadata": {},
   "outputs": [
    {
     "output_type": "stream",
     "name": "stdout",
     "text": [
      "+--------------------+--------------------+------------+-----+--------------------+--------------------+--------------------+--------------------+--------------------+--------------------+--------------------+--------------------+-----------+\n|               title|                text|     subject|label|            text_tok|            text_stp|            text_cvt|            text_idf|           title_tok|           title_stp|           title_cvt|           title_idf|subject_idx|\n+--------------------+--------------------+------------+-----+--------------------+--------------------+--------------------+--------------------+--------------------+--------------------+--------------------+--------------------+-----------+\n|White House expec...|WASHINGTON (Reute...|politicsNews|    0|[washington, reut...|[washington, reut...|(66256,[0,1,2,3,4...|(66256,[0,1,2,3,4...|[white, house, ex...|[white, house, ex...|(13367,[3,8,17,40...|(13367,[3,8,17,40...|        0.0|\n|Trump says he wou...|WASHINGTON (Reute...|politicsNews|    0|[washington, reut...|[washington, reut...|(66256,[0,1,3,4,8...|(66256,[0,1,3,4,8...|[trump, says, he,...|[trump, says, acc...|(13367,[0,2,17,43...|(13367,[0,2,17,43...|        0.0|\n|Trump lifts refug...| WASHINGTON (Reut...|politicsNews|    0|[washington, reut...|[washington, reut...|(66256,[0,1,2,3,4...|(66256,[0,1,2,3,4...|[trump, lifts, re...|[trump, lifts, re...|(13367,[0,53,217,...|(13367,[0,53,217,...|        0.0|\n|U.S. Senate candi...|(Reuters) - The c...|politicsNews|    0|[reuters, the, co...|[reuters, communi...|(66256,[0,1,2,3,4...|(66256,[0,1,2,3,4...|[u, s, senate, ca...|[u, senate, candi...|(13367,[1,10,54,2...|(13367,[1,10,54,2...|        0.0|\n|Senate Democrats ...|WASHINGTON (Reute...|politicsNews|    0|[washington, reut...|[washington, reut...|(66256,[0,1,2,3,4...|(66256,[0,1,2,3,4...|[senate, democrat...|[senate, democrat...|(13367,[4,10,61,4...|(13367,[4,10,61,4...|        0.0|\n+--------------------+--------------------+------------+-----+--------------------+--------------------+--------------------+--------------------+--------------------+--------------------+--------------------+--------------------+-----------+\nonly showing top 5 rows\n\n"
     ]
    }
   ],
   "source": [
    "real_news_sub.show(5)"
   ]
  },
  {
   "source": [
    "# 4. Ghi ra file parquet"
   ],
   "cell_type": "markdown",
   "metadata": {}
  },
  {
   "cell_type": "code",
   "execution_count": 40,
   "metadata": {},
   "outputs": [],
   "source": [
    "fake_news_sub.write.parquet(\"../data/face-and-real-news-dataset/fake_news_clean_data.parquet\")"
   ]
  },
  {
   "cell_type": "code",
   "execution_count": 41,
   "metadata": {},
   "outputs": [],
   "source": [
    "real_news_sub.write.parquet(\"../data/face-and-real-news-dataset/real_news_clean_data.parquet\")"
   ]
  }
 ]
}