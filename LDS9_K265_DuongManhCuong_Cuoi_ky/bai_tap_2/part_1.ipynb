{
 "metadata": {
  "language_info": {
   "codemirror_mode": {
    "name": "ipython",
    "version": 3
   },
   "file_extension": ".py",
   "mimetype": "text/x-python",
   "name": "python",
   "nbconvert_exporter": "python",
   "pygments_lexer": "ipython3",
   "version": "3.8.5"
  },
  "orig_nbformat": 2,
  "kernelspec": {
   "name": "python38564bit207240a302f84cf383d7b6dbf8fca3f2",
   "display_name": "Python 3.8.5 64-bit"
  },
  "metadata": {
   "interpreter": {
    "hash": "31f2aee4e71d21fbe5cf8b01ff0e069b9275f58929596ceb00d14d90e3e16cd6"
   }
  }
 },
 "nbformat": 4,
 "nbformat_minor": 2,
 "cells": [
  {
   "source": [
    "![](../images/FE_01.png)"
   ],
   "cell_type": "markdown",
   "metadata": {}
  },
  {
   "source": [
    "# 1. Đọc dữ liệu"
   ],
   "cell_type": "markdown",
   "metadata": {}
  },
  {
   "cell_type": "code",
   "execution_count": 1,
   "metadata": {},
   "outputs": [],
   "source": [
    "%load_ext autoreload\n",
    "%autoreload 2"
   ]
  },
  {
   "cell_type": "code",
   "execution_count": 2,
   "metadata": {},
   "outputs": [],
   "source": [
    "import pandas as pd\n",
    "from pyspark.sql import SparkSession"
   ]
  },
  {
   "cell_type": "code",
   "execution_count": 3,
   "metadata": {},
   "outputs": [],
   "source": [
    "spark = SparkSession.builder.appName(\"Fake_and_Real_News\").getOrCreate()"
   ]
  },
  {
   "cell_type": "code",
   "execution_count": 4,
   "metadata": {},
   "outputs": [],
   "source": [
    "fake_news = spark.read.csv(\"../data/face-and-real-news-dataset/Fake.csv\", inferSchema=True, header=True)\n",
    "real_news = spark.read.csv(\"../data/face-and-real-news-dataset/True.csv\", inferSchema=True, header=True)"
   ]
  },
  {
   "source": [
    "* Tạo feature mới là `label` với 1 là **fake-news** và 0 là **real-news** "
   ],
   "cell_type": "markdown",
   "metadata": {}
  },
  {
   "cell_type": "code",
   "execution_count": 5,
   "metadata": {},
   "outputs": [],
   "source": [
    "from pyspark.sql.functions import lit"
   ]
  },
  {
   "cell_type": "code",
   "execution_count": 6,
   "metadata": {},
   "outputs": [],
   "source": [
    "fake_news = fake_news.withColumn('label', lit(1))\n",
    "real_news = real_news.withColumn('label', lit(0))"
   ]
  },
  {
   "cell_type": "code",
   "execution_count": 7,
   "metadata": {},
   "outputs": [
    {
     "output_type": "stream",
     "name": "stdout",
     "text": [
      "+--------------------+--------------------+-------+-----------------+-----+\n|               title|                text|subject|             date|label|\n+--------------------+--------------------+-------+-----------------+-----+\n| Donald Trump Sen...|Donald Trump just...|   News|December 31, 2017|    1|\n| Drunk Bragging T...|House Intelligenc...|   News|December 31, 2017|    1|\n| Sheriff David Cl...|On Friday, it was...|   News|December 30, 2017|    1|\n| Trump Is So Obse...|On Christmas day,...|   News|December 29, 2017|    1|\n| Pope Francis Jus...|Pope Francis used...|   News|December 25, 2017|    1|\n+--------------------+--------------------+-------+-----------------+-----+\nonly showing top 5 rows\n\n"
     ]
    }
   ],
   "source": [
    "fake_news.show(5)"
   ]
  },
  {
   "cell_type": "code",
   "execution_count": 8,
   "metadata": {},
   "outputs": [
    {
     "output_type": "stream",
     "name": "stdout",
     "text": [
      "+--------------------+--------------------+------------+------------------+-----+\n|               title|                text|     subject|              date|label|\n+--------------------+--------------------+------------+------------------+-----+\n|As U.S. budget fi...|WASHINGTON (Reute...|politicsNews|December 31, 2017 |    0|\n|U.S. military to ...|WASHINGTON (Reute...|politicsNews|December 29, 2017 |    0|\n|Senior U.S. Repub...|WASHINGTON (Reute...|politicsNews|December 31, 2017 |    0|\n|FBI Russia probe ...|WASHINGTON (Reute...|politicsNews|December 30, 2017 |    0|\n|Trump wants Posta...|SEATTLE/WASHINGTO...|politicsNews|December 29, 2017 |    0|\n+--------------------+--------------------+------------+------------------+-----+\nonly showing top 5 rows\n\n"
     ]
    }
   ],
   "source": [
    "real_news.show(5)"
   ]
  },
  {
   "source": [
    "# 2. Tiền xử lí dữ liệu\n",
    "## 2.1. Tìm hiểu sơ bộ về dữ liệu"
   ],
   "cell_type": "markdown",
   "metadata": {}
  },
  {
   "cell_type": "code",
   "execution_count": 9,
   "metadata": {},
   "outputs": [
    {
     "output_type": "stream",
     "name": "stdout",
     "text": [
      "root\n |-- title: string (nullable = true)\n |-- text: string (nullable = true)\n |-- subject: string (nullable = true)\n |-- date: string (nullable = true)\n |-- label: integer (nullable = false)\n\n"
     ]
    }
   ],
   "source": [
    "fake_news.printSchema()"
   ]
  },
  {
   "cell_type": "code",
   "execution_count": 10,
   "metadata": {},
   "outputs": [
    {
     "output_type": "stream",
     "name": "stdout",
     "text": [
      "root\n |-- title: string (nullable = true)\n |-- text: string (nullable = true)\n |-- subject: string (nullable = true)\n |-- date: string (nullable = true)\n |-- label: integer (nullable = false)\n\n"
     ]
    }
   ],
   "source": [
    "real_news.printSchema()"
   ]
  },
  {
   "cell_type": "code",
   "execution_count": 11,
   "metadata": {},
   "outputs": [
    {
     "output_type": "execute_result",
     "data": {
      "text/plain": [
       "(23489, 21417)"
      ]
     },
     "metadata": {},
     "execution_count": 11
    }
   ],
   "source": [
    "fake_news.count(), real_news.count()"
   ]
  },
  {
   "source": [
    "> **Nhận xét:**\n",
    "> * Dữ liệu khá cân bằng"
   ],
   "cell_type": "markdown",
   "metadata": {}
  },
  {
   "source": [
    "## 2.2. Lựa chọn thuộc tính"
   ],
   "cell_type": "markdown",
   "metadata": {}
  },
  {
   "source": [
    "> * Nhìn chung, ta thấy:\n",
    ">   * Target variable: `label`\n",
    ">   * Predictor variables: `title`, `text`, `subject`"
   ],
   "cell_type": "markdown",
   "metadata": {}
  },
  {
   "cell_type": "code",
   "execution_count": 12,
   "metadata": {},
   "outputs": [],
   "source": [
    "features = ['title', 'text', 'subject', 'label']"
   ]
  },
  {
   "cell_type": "code",
   "execution_count": 13,
   "metadata": {},
   "outputs": [],
   "source": [
    "fake_news_sub = fake_news.select(features)\n",
    "real_news_sub = real_news.select(features)"
   ]
  },
  {
   "cell_type": "code",
   "execution_count": 14,
   "metadata": {},
   "outputs": [
    {
     "output_type": "stream",
     "name": "stdout",
     "text": [
      "+--------------------+--------------------+-------+-----+\n|               title|                text|subject|label|\n+--------------------+--------------------+-------+-----+\n| Donald Trump Sen...|Donald Trump just...|   News|    1|\n| Drunk Bragging T...|House Intelligenc...|   News|    1|\n| Sheriff David Cl...|On Friday, it was...|   News|    1|\n| Trump Is So Obse...|On Christmas day,...|   News|    1|\n| Pope Francis Jus...|Pope Francis used...|   News|    1|\n+--------------------+--------------------+-------+-----+\nonly showing top 5 rows\n\n"
     ]
    }
   ],
   "source": [
    "fake_news_sub.show(5)"
   ]
  },
  {
   "cell_type": "code",
   "execution_count": 15,
   "metadata": {},
   "outputs": [
    {
     "output_type": "stream",
     "name": "stdout",
     "text": [
      "+--------------------+--------------------+------------+-----+\n|               title|                text|     subject|label|\n+--------------------+--------------------+------------+-----+\n|As U.S. budget fi...|WASHINGTON (Reute...|politicsNews|    0|\n|U.S. military to ...|WASHINGTON (Reute...|politicsNews|    0|\n|Senior U.S. Repub...|WASHINGTON (Reute...|politicsNews|    0|\n|FBI Russia probe ...|WASHINGTON (Reute...|politicsNews|    0|\n|Trump wants Posta...|SEATTLE/WASHINGTO...|politicsNews|    0|\n+--------------------+--------------------+------------+-----+\nonly showing top 5 rows\n\n"
     ]
    }
   ],
   "source": [
    "real_news_sub.show(5)"
   ]
  },
  {
   "source": [
    "## 2.3. Xem xét missing observation"
   ],
   "cell_type": "markdown",
   "metadata": {}
  },
  {
   "cell_type": "code",
   "execution_count": 16,
   "metadata": {},
   "outputs": [],
   "source": [
    "from pyspark.sql.functions import *"
   ]
  },
  {
   "cell_type": "code",
   "execution_count": 17,
   "metadata": {},
   "outputs": [],
   "source": [
    "tmp = fake_news_sub.select([count(when((col(c) == '') | col(c).isNull() | isnan(c), c)).alias(c + \" (% missing)\") for c in fake_news_sub.columns]).toPandas()\n",
    "tmp = tmp / fake_news_sub.count()"
   ]
  },
  {
   "cell_type": "code",
   "execution_count": 18,
   "metadata": {},
   "outputs": [
    {
     "output_type": "execute_result",
     "data": {
      "text/plain": [
       "   title (% missing)  text (% missing)  subject (% missing)  label (% missing)\n",
       "0                0.0          0.000341             0.000341                0.0"
      ],
      "text/html": "<div>\n<style scoped>\n    .dataframe tbody tr th:only-of-type {\n        vertical-align: middle;\n    }\n\n    .dataframe tbody tr th {\n        vertical-align: top;\n    }\n\n    .dataframe thead th {\n        text-align: right;\n    }\n</style>\n<table border=\"1\" class=\"dataframe\">\n  <thead>\n    <tr style=\"text-align: right;\">\n      <th></th>\n      <th>title (% missing)</th>\n      <th>text (% missing)</th>\n      <th>subject (% missing)</th>\n      <th>label (% missing)</th>\n    </tr>\n  </thead>\n  <tbody>\n    <tr>\n      <th>0</th>\n      <td>0.0</td>\n      <td>0.000341</td>\n      <td>0.000341</td>\n      <td>0.0</td>\n    </tr>\n  </tbody>\n</table>\n</div>"
     },
     "metadata": {},
     "execution_count": 18
    }
   ],
   "source": [
    "tmp"
   ]
  },
  {
   "cell_type": "code",
   "execution_count": 19,
   "metadata": {},
   "outputs": [],
   "source": [
    "tmp2 = real_news_sub.select([count(when((col(c) == '') | col(c).isNull() | isnan(c), c)).alias(c + \" (% missing)\") for c in real_news_sub.columns]).toPandas()\n",
    "tmp2 = tmp2 / real_news_sub.count()"
   ]
  },
  {
   "cell_type": "code",
   "execution_count": 20,
   "metadata": {},
   "outputs": [
    {
     "output_type": "execute_result",
     "data": {
      "text/plain": [
       "   title (% missing)  text (% missing)  subject (% missing)  label (% missing)\n",
       "0                0.0               0.0                  0.0                0.0"
      ],
      "text/html": "<div>\n<style scoped>\n    .dataframe tbody tr th:only-of-type {\n        vertical-align: middle;\n    }\n\n    .dataframe tbody tr th {\n        vertical-align: top;\n    }\n\n    .dataframe thead th {\n        text-align: right;\n    }\n</style>\n<table border=\"1\" class=\"dataframe\">\n  <thead>\n    <tr style=\"text-align: right;\">\n      <th></th>\n      <th>title (% missing)</th>\n      <th>text (% missing)</th>\n      <th>subject (% missing)</th>\n      <th>label (% missing)</th>\n    </tr>\n  </thead>\n  <tbody>\n    <tr>\n      <th>0</th>\n      <td>0.0</td>\n      <td>0.0</td>\n      <td>0.0</td>\n      <td>0.0</td>\n    </tr>\n  </tbody>\n</table>\n</div>"
     },
     "metadata": {},
     "execution_count": 20
    }
   ],
   "source": [
    "tmp2"
   ]
  },
  {
   "source": [
    "> **Nhận xét:**\n",
    "> * Có missing observation $\\Rightarrow$ xóa"
   ],
   "cell_type": "markdown",
   "metadata": {}
  },
  {
   "cell_type": "code",
   "execution_count": 21,
   "metadata": {},
   "outputs": [],
   "source": [
    "fake_news_sub = fake_news_sub.filter(~col('text').isNull() & ~(col('text') == \"\") & ~(isnan('text')))\n",
    "fake_news_sub = fake_news_sub.filter(~col('subject').isNull() & ~(col('subject') == \"\") & ~(isnan('subject')))"
   ]
  },
  {
   "cell_type": "code",
   "execution_count": 22,
   "metadata": {},
   "outputs": [],
   "source": [
    "tmp = fake_news_sub.select([count(when((col(c) == '') | col(c).isNull() | isnan(c), c)).alias(c + \" (% missing)\") for c in fake_news_sub.columns]).toPandas()\n",
    "tmp = tmp / fake_news_sub.count()"
   ]
  },
  {
   "cell_type": "code",
   "execution_count": 23,
   "metadata": {},
   "outputs": [
    {
     "output_type": "execute_result",
     "data": {
      "text/plain": [
       "   title (% missing)  text (% missing)  subject (% missing)  label (% missing)\n",
       "0                0.0               0.0                  0.0                0.0"
      ],
      "text/html": "<div>\n<style scoped>\n    .dataframe tbody tr th:only-of-type {\n        vertical-align: middle;\n    }\n\n    .dataframe tbody tr th {\n        vertical-align: top;\n    }\n\n    .dataframe thead th {\n        text-align: right;\n    }\n</style>\n<table border=\"1\" class=\"dataframe\">\n  <thead>\n    <tr style=\"text-align: right;\">\n      <th></th>\n      <th>title (% missing)</th>\n      <th>text (% missing)</th>\n      <th>subject (% missing)</th>\n      <th>label (% missing)</th>\n    </tr>\n  </thead>\n  <tbody>\n    <tr>\n      <th>0</th>\n      <td>0.0</td>\n      <td>0.0</td>\n      <td>0.0</td>\n      <td>0.0</td>\n    </tr>\n  </tbody>\n</table>\n</div>"
     },
     "metadata": {},
     "execution_count": 23
    }
   ],
   "source": [
    "tmp"
   ]
  },
  {
   "cell_type": "code",
   "execution_count": 24,
   "metadata": {},
   "outputs": [
    {
     "output_type": "execute_result",
     "data": {
      "text/plain": [
       "(23481, 21417)"
      ]
     },
     "metadata": {},
     "execution_count": 24
    }
   ],
   "source": [
    "fake_news_sub.count(), real_news_sub.count()"
   ]
  },
  {
   "source": [
    "## 2.4. Xóa các duplicated observation"
   ],
   "cell_type": "markdown",
   "metadata": {}
  },
  {
   "cell_type": "code",
   "execution_count": 25,
   "metadata": {},
   "outputs": [
    {
     "output_type": "execute_result",
     "data": {
      "text/plain": [
       "0.011285720369660579"
      ]
     },
     "metadata": {},
     "execution_count": 25
    }
   ],
   "source": [
    "1 - (fake_news_sub.distinct().count() / fake_news_sub.count())"
   ]
  },
  {
   "source": [
    "> **Nhận xét**:\n",
    "> * Có các duplicated observation $\\Rightarrow$ xóa"
   ],
   "cell_type": "markdown",
   "metadata": {}
  },
  {
   "cell_type": "code",
   "execution_count": 26,
   "metadata": {},
   "outputs": [],
   "source": [
    "fake_news_sub = fake_news_sub.dropDuplicates()"
   ]
  },
  {
   "cell_type": "code",
   "execution_count": 27,
   "metadata": {},
   "outputs": [
    {
     "output_type": "execute_result",
     "data": {
      "text/plain": [
       "0.0"
      ]
     },
     "metadata": {},
     "execution_count": 27
    }
   ],
   "source": [
    "1 - (fake_news_sub.distinct().count() / fake_news_sub.count())"
   ]
  },
  {
   "cell_type": "code",
   "execution_count": 28,
   "metadata": {},
   "outputs": [
    {
     "output_type": "execute_result",
     "data": {
      "text/plain": [
       "0.009758602978941933"
      ]
     },
     "metadata": {},
     "execution_count": 28
    }
   ],
   "source": [
    "1 - (real_news_sub.distinct().count() / real_news_sub.count())"
   ]
  },
  {
   "cell_type": "code",
   "execution_count": 29,
   "metadata": {},
   "outputs": [],
   "source": [
    "real_news_sub = real_news_sub.dropDuplicates()"
   ]
  },
  {
   "cell_type": "code",
   "execution_count": 30,
   "metadata": {},
   "outputs": [
    {
     "output_type": "execute_result",
     "data": {
      "text/plain": [
       "0.0"
      ]
     },
     "metadata": {},
     "execution_count": 30
    }
   ],
   "source": [
    "1 - (real_news_sub.distinct().count() / real_news_sub.count())"
   ]
  },
  {
   "source": [
    "> **Nhận xét:**\n",
    "> * OKLA"
   ],
   "cell_type": "markdown",
   "metadata": {}
  },
  {
   "source": [
    "# 3. Chuyển dữ liệu"
   ],
   "cell_type": "markdown",
   "metadata": {}
  },
  {
   "cell_type": "code",
   "execution_count": 31,
   "metadata": {},
   "outputs": [],
   "source": [
    "from pyspark.sql.functions import col, concat"
   ]
  },
  {
   "cell_type": "code",
   "execution_count": 32,
   "metadata": {},
   "outputs": [],
   "source": [
    "# fake_news_sub = fake_news_sub.withColumn('title_text', concat(fake_news_sub['title'], concat(lit(' '), fake_news_sub['text']))).select('title_text', 'subject', 'label')\n",
    "\n",
    "fake_news_sub = fake_news_sub.select('text', 'subject', 'label')"
   ]
  },
  {
   "cell_type": "code",
   "execution_count": 33,
   "metadata": {},
   "outputs": [
    {
     "output_type": "execute_result",
     "data": {
      "text/plain": [
       "[Row(text='When Sen. Al Franken (D-MN) announced his plans to resign Thursday, he specifically called out Donald Trump over the Access Hollywood video and Roy Moore, an alleged pedophile who is running for the Senate seat in Alabama with the GOP s blessing. Donald Trump Jr., not known for being a brainiac, decided to mock Franken on Twitter as if he didn t listen to the Democrat s amazing speech. Junior invoked one of the former comedian s  Saturday Night Live  most well-known characters, writing,  because I m good enough, I m smart enough, and God-darnit people like me  and included the hashtag  #Franken. because I m good enough, I m smart enough, and God-darnit people like me. #Franken  Donald Trump Jr. (@DonaldJTrumpJr) December 7, 2017Twitter gave Junior a wake-up call:pic.twitter.com/NmuRm5MgMz  liberalgranny50 (@peppersandeggs) December 7, 2017I am sure daddy @realDonaldTrump can sympathize as he is a fellow sexual predator  pic.twitter.com/Qesftp1u28  Matt Slavin (@tHemAttsLavin) December 7, 2017 Grab  em by the pussy.  Donald Trump.  Mrs. SMH (@MRSSMH2) December 7, 2017Did you wear a diaper when you tweeted this?  Tony Posnanski (@tonyposnanski) December 7, 2017 And when you re a star, they let you do it. You can do anything. Grab  em by the pussy.    your dad  Aaron Rupar (@atrupar) December 7, 2017Your father is a rapist. Ask your mom if you don t believe me.Also: you ll be in prison this time next year, traitor.  Greg Olear (@gregolear) December 7, 2017This is coming from Donald  I do not recall  Trump Jr.  Rep. Jackie Sharp (@JackieSharp) December 7, 2017Can t wait to tweet joke about you when you go to prison. pic.twitter.com/JajOLBYqc6  American Dad   (@okiedokiepokey) December 7, 2017pic.twitter.com/zB2kijzXk1  Meghan Morris (@seaghost78) December 7, 2017 I moved on her actually. You know she was down on Palm Beach. I moved on her and I failed. I ll admit it. I did try and fuck her. She was married. Your Dad #Franken #25thAmendmentNow  Lesley Abravanel (@lesleyabravanel) December 7, 2017Calm down Fredo, go shoot a sedated animal or something, it s what you re good at.  Motive of Christmas Past (@Falsemotive) December 7, 2017Yes, Jr, your Father (Sexual Predator) such a shining example to your 2 daughters.  Nothing in the world like First Rate P*ssy  he said.  cantblameobamaanymor (@DrRev_Mustafa1) December 7, 2017Franken said during his speech, I, of all people, am aware that there is some irony in the fact that I am leaving while a man who has bragged on tape about his history of sexual assault sits in the Oval Office and a man who has repeatedly preyed on young girls campaigns for the Senate with the full support of his party. Trump and Moore support each other.Photo by Jeff Vinnick/Getty Images', subject='News', label=1)]"
      ]
     },
     "metadata": {},
     "execution_count": 33
    }
   ],
   "source": [
    "fake_news_sub.head(1)"
   ]
  },
  {
   "cell_type": "code",
   "execution_count": 34,
   "metadata": {},
   "outputs": [],
   "source": [
    "# real_news_sub = real_news_sub.withColumn('title_text', concat(real_news_sub['title'], concat(lit(' '), real_news_sub['text']))).select('title_text', 'subject', 'label')\n",
    "real_news_sub = real_news_sub.select('text', 'subject', 'label')"
   ]
  },
  {
   "cell_type": "code",
   "execution_count": 35,
   "metadata": {},
   "outputs": [
    {
     "output_type": "execute_result",
     "data": {
      "text/plain": [
       "['text', 'subject', 'label']"
      ]
     },
     "metadata": {},
     "execution_count": 35
    }
   ],
   "source": [
    "real_news_sub.columns"
   ]
  },
  {
   "cell_type": "code",
   "execution_count": 36,
   "metadata": {},
   "outputs": [],
   "source": [
    "from pyspark.ml.feature import RegexTokenizer, StopWordsRemover, CountVectorizer, IDF, StringIndexer,VectorAssembler"
   ]
  },
  {
   "cell_type": "code",
   "execution_count": 37,
   "metadata": {},
   "outputs": [],
   "source": [
    "indexer = StringIndexer(inputCol='subject', outputCol='subject_idx')"
   ]
  },
  {
   "cell_type": "code",
   "execution_count": 38,
   "metadata": {},
   "outputs": [],
   "source": [
    "from pyspark.ml import Pipeline"
   ]
  },
  {
   "cell_type": "code",
   "execution_count": 39,
   "metadata": {},
   "outputs": [],
   "source": [
    "# for c in ['title_text']:\n",
    "for c in ['text']:\n",
    "    reg_tokenizer = RegexTokenizer(inputCol=c, outputCol=(c + '_tok'), pattern=\"\\\\W\")\n",
    "    stopremove = StopWordsRemover(inputCol=(c + '_tok'), outputCol=(c + '_stp'))\n",
    "    count_vec = CountVectorizer(inputCol=(c + '_stp'), outputCol=(c + '_cvt'))\n",
    "    idf = IDF(inputCol=(c + '_cvt'), outputCol=(c + '_idf'))\n",
    "    pipeline = Pipeline(stages=[reg_tokenizer, stopremove, count_vec, idf])\n",
    "    fake_news_sub = pipeline.fit(fake_news_sub).transform(fake_news_sub)"
   ]
  },
  {
   "cell_type": "code",
   "execution_count": 40,
   "metadata": {},
   "outputs": [],
   "source": [
    "fake_news_sub = indexer.fit(fake_news_sub).transform(fake_news_sub)"
   ]
  },
  {
   "cell_type": "code",
   "execution_count": 41,
   "metadata": {},
   "outputs": [],
   "source": [
    "# for c in ['title_text']:\n",
    "for c in ['text']:\n",
    "    reg_tokenizer = RegexTokenizer(inputCol=c, outputCol=(c + '_tok'), pattern=\"\\\\W\")\n",
    "    stopremove = StopWordsRemover(inputCol=(c + '_tok'), outputCol=(c + '_stp'))\n",
    "    count_vec = CountVectorizer(inputCol=(c + '_stp'), outputCol=(c + '_cvt'))\n",
    "    idf = IDF(inputCol=(c + '_cvt'), outputCol=(c + '_idf'))\n",
    "    pipeline = Pipeline(stages=[reg_tokenizer, stopremove, count_vec, idf])\n",
    "    real_news_sub = pipeline.fit(real_news_sub).transform(real_news_sub)"
   ]
  },
  {
   "cell_type": "code",
   "execution_count": 42,
   "metadata": {},
   "outputs": [],
   "source": [
    "real_news_sub = indexer.fit(real_news_sub).transform(real_news_sub)"
   ]
  },
  {
   "cell_type": "code",
   "execution_count": 43,
   "metadata": {},
   "outputs": [
    {
     "output_type": "stream",
     "name": "stdout",
     "text": [
      "+--------------------+--------------------+-----+--------------------+--------------------+--------------------+--------------------+-----------+\n|                text|             subject|label|            text_tok|            text_stp|            text_cvt|            text_idf|subject_idx|\n+--------------------+--------------------+-----+--------------------+--------------------+--------------------+--------------------+-----------+\n|When Sen. Al Fran...|                News|    1|[when, sen, al, f...|[sen, al, franken...|(90715,[0,1,3,4,7...|(90715,[0,1,3,4,7...|        0.0|\n|\"On Tuesday after...| 2017I have no id...|    1|[on, tuesday, aft...|[tuesday, afterno...|(90715,[0,4,8,11,...|(90715,[0,4,8,11,...|      392.0|\n|Before dawn on We...|                News|    1|[before, dawn, on...|[dawn, wednesday,...|(90715,[0,1,2,3,4...|(90715,[0,1,2,3,4...|        0.0|\n|Donald Trump s so...|                News|    1|[donald, trump, s...|[donald, trump, s...|(90715,[0,1,5,7,8...|(90715,[0,1,5,7,8...|        0.0|\n|Donald Trump keep...|                News|    1|[donald, trump, k...|[donald, trump, k...|(90715,[0,3,6,8,9...|(90715,[0,3,6,8,9...|        0.0|\n+--------------------+--------------------+-----+--------------------+--------------------+--------------------+--------------------+-----------+\nonly showing top 5 rows\n\n"
     ]
    }
   ],
   "source": [
    "fake_news_sub.show(5)"
   ]
  },
  {
   "cell_type": "code",
   "execution_count": 44,
   "metadata": {},
   "outputs": [
    {
     "output_type": "stream",
     "name": "stdout",
     "text": [
      "+--------------------+------------+-----+--------------------+--------------------+--------------------+--------------------+-----------+\n|                text|     subject|label|            text_tok|            text_stp|            text_cvt|            text_idf|subject_idx|\n+--------------------+------------+-----+--------------------+--------------------+--------------------+--------------------+-----------+\n|WASHINGTON (Reute...|politicsNews|    0|[washington, reut...|[washington, reut...|(66256,[0,1,2,3,4...|(66256,[0,1,2,3,4...|        0.0|\n|WASHINGTON (Reute...|politicsNews|    0|[washington, reut...|[washington, reut...|(66256,[0,1,3,4,8...|(66256,[0,1,3,4,8...|        0.0|\n| WASHINGTON (Reut...|politicsNews|    0|[washington, reut...|[washington, reut...|(66256,[0,1,2,3,4...|(66256,[0,1,2,3,4...|        0.0|\n|(Reuters) - The c...|politicsNews|    0|[reuters, the, co...|[reuters, communi...|(66256,[0,1,2,3,4...|(66256,[0,1,2,3,4...|        0.0|\n|WASHINGTON (Reute...|politicsNews|    0|[washington, reut...|[washington, reut...|(66256,[0,1,2,3,4...|(66256,[0,1,2,3,4...|        0.0|\n+--------------------+------------+-----+--------------------+--------------------+--------------------+--------------------+-----------+\nonly showing top 5 rows\n\n"
     ]
    }
   ],
   "source": [
    "real_news_sub.show(5)"
   ]
  },
  {
   "source": [
    "# 4. Ghi ra file parquet"
   ],
   "cell_type": "markdown",
   "metadata": {}
  },
  {
   "cell_type": "code",
   "execution_count": 45,
   "metadata": {},
   "outputs": [],
   "source": [
    "fake_news_sub.write.parquet(\"../data/face-and-real-news-dataset/fake_news_clean_data.parquet\")"
   ]
  },
  {
   "cell_type": "code",
   "execution_count": 46,
   "metadata": {},
   "outputs": [],
   "source": [
    "real_news_sub.write.parquet(\"../data/face-and-real-news-dataset/real_news_clean_data.parquet\")"
   ]
  },
  {
   "cell_type": "code",
   "execution_count": null,
   "metadata": {},
   "outputs": [],
   "source": []
  }
 ]
}