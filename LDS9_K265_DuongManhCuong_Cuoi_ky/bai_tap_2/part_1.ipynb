{
 "metadata": {
  "language_info": {
   "codemirror_mode": {
    "name": "ipython",
    "version": 3
   },
   "file_extension": ".py",
   "mimetype": "text/x-python",
   "name": "python",
   "nbconvert_exporter": "python",
   "pygments_lexer": "ipython3",
   "version": "3.8.5"
  },
  "orig_nbformat": 2,
  "kernelspec": {
   "name": "python38564bit739b5682ab17410ead4710a41bd80672",
   "display_name": "Python 3.8.5 64-bit"
  },
  "metadata": {
   "interpreter": {
    "hash": "31f2aee4e71d21fbe5cf8b01ff0e069b9275f58929596ceb00d14d90e3e16cd6"
   }
  }
 },
 "nbformat": 4,
 "nbformat_minor": 2,
 "cells": [
  {
   "cell_type": "code",
   "execution_count": 1,
   "metadata": {},
   "outputs": [],
   "source": [
    "%load_ext autoreload\n",
    "%autoreload 2"
   ]
  },
  {
   "cell_type": "code",
   "execution_count": 5,
   "metadata": {},
   "outputs": [],
   "source": [
    "from pyspark.sql import SparkSession\n",
    "from pyspark.sql.functions import *"
   ]
  },
  {
   "cell_type": "code",
   "execution_count": 3,
   "metadata": {},
   "outputs": [],
   "source": [
    "spark = SparkSession.builder.appName(\"\").getOrCreate()"
   ]
  },
  {
   "cell_type": "code",
   "execution_count": 6,
   "metadata": {},
   "outputs": [
    {
     "output_type": "stream",
     "name": "stdout",
     "text": [
      "+--------------------+--------------------+-------+-----------------+-----+\n|               title|                text|subject|             date|label|\n+--------------------+--------------------+-------+-----------------+-----+\n| Donald Trump Sen...|Donald Trump just...|   News|December 31, 2017|    0|\n| Drunk Bragging T...|House Intelligenc...|   News|December 31, 2017|    0|\n| Sheriff David Cl...|On Friday, it was...|   News|December 30, 2017|    0|\n| Trump Is So Obse...|On Christmas day,...|   News|December 29, 2017|    0|\n| Pope Francis Jus...|Pope Francis used...|   News|December 25, 2017|    0|\n+--------------------+--------------------+-------+-----------------+-----+\nonly showing top 5 rows\n\n"
     ]
    }
   ],
   "source": [
    "fake_df = spark.read.csv(\"../data/face-and-real-news-dataset/Fake.csv\", header=True, inferSchema=True)\n",
    "fake_df = fake_df.withColumn('label', lit(0))\n",
    "\n",
    "real_df = spark.read.csv(\"../data/face-and-real-news-dataset/True.csv\", header=True, inferSchema=True)\n",
    "real_df = real_df.withColumn('label', lit(1))\n",
    "\n",
    "df = fake_df.union(real_df)\n",
    "df.show(5)"
   ]
  },
  {
   "cell_type": "code",
   "execution_count": 8,
   "metadata": {},
   "outputs": [
    {
     "output_type": "execute_result",
     "data": {
      "text/plain": [
       "44906"
      ]
     },
     "metadata": {},
     "execution_count": 8
    }
   ],
   "source": [
    "df.count()"
   ]
  },
  {
   "cell_type": "code",
   "execution_count": 9,
   "metadata": {},
   "outputs": [],
   "source": [
    "from modules.utils import *"
   ]
  },
  {
   "cell_type": "code",
   "execution_count": 10,
   "metadata": {},
   "outputs": [],
   "source": [
    "# def dropEmptyCell(pDf: pyspark.sql.DataFrame, pFeatures: List[str]):\n",
    "df = dropEmptyCell(df, ['title', 'text'])"
   ]
  },
  {
   "cell_type": "code",
   "execution_count": 11,
   "metadata": {},
   "outputs": [
    {
     "output_type": "execute_result",
     "data": {
      "text/plain": [
       "44898"
      ]
     },
     "metadata": {},
     "execution_count": 11
    }
   ],
   "source": [
    "df.count()"
   ]
  },
  {
   "cell_type": "code",
   "execution_count": 14,
   "metadata": {},
   "outputs": [
    {
     "output_type": "stream",
     "name": "stdout",
     "text": [
      "+--------------------+--------------------+-------+-----------------+-----+\n|               title|                text|subject|             date|label|\n+--------------------+--------------------+-------+-----------------+-----+\n| Donald Trump Sen...|Donald Trump just...|   News|December 31, 2017|    0|\n| Drunk Bragging T...|House Intelligenc...|   News|December 31, 2017|    0|\n| Sheriff David Cl...|On Friday, it was...|   News|December 30, 2017|    0|\n| Trump Is So Obse...|On Christmas day,...|   News|December 29, 2017|    0|\n| Pope Francis Jus...|Pope Francis used...|   News|December 25, 2017|    0|\n+--------------------+--------------------+-------+-----------------+-----+\nonly showing top 5 rows\n\n"
     ]
    }
   ],
   "source": [
    "df.show(5)"
   ]
  },
  {
   "cell_type": "code",
   "execution_count": 16,
   "metadata": {},
   "outputs": [],
   "source": [
    "df = df.withColumn('all_text', concat(col('title'), lit(' '), col('text')))"
   ]
  },
  {
   "cell_type": "code",
   "execution_count": 17,
   "metadata": {},
   "outputs": [
    {
     "output_type": "stream",
     "name": "stdout",
     "text": [
      "+--------------------+--------------------+-------+-----------------+-----+--------------------+--------------------+--------------------+--------------------+--------------------+--------------------+\n|               title|                text|subject|             date|label|            all_text|        all_text_tok|        all_text_stp|        all_text_cnt|        all_text_idf|            features|\n+--------------------+--------------------+-------+-----------------+-----+--------------------+--------------------+--------------------+--------------------+--------------------+--------------------+\n| Donald Trump Sen...|Donald Trump just...|   News|December 31, 2017|    0| Donald Trump Sen...|[donald, trump, s...|[donald, trump, s...|(1000,[0,3,4,5,7,...|(1000,[0,3,4,5,7,...|(1000,[0,3,4,5,7,...|\n| Drunk Bragging T...|House Intelligenc...|   News|December 31, 2017|    0| Drunk Bragging T...|[drunk, bragging,...|[drunk, bragging,...|(1000,[0,1,3,7,10...|(1000,[0,1,3,7,10...|(1000,[0,1,3,7,10...|\n| Sheriff David Cl...|On Friday, it was...|   News|December 30, 2017|    0| Sheriff David Cl...|[sheriff, david, ...|[sheriff, david, ...|(1000,[0,4,5,13,1...|(1000,[0,4,5,13,1...|(1000,[0,4,5,13,1...|\n| Trump Is So Obse...|On Christmas day,...|   News|December 29, 2017|    0| Trump Is So Obse...|[trump, is, so, o...|[trump, obsessed,...|(1000,[0,3,4,8,9,...|(1000,[0,3,4,8,9,...|(1000,[0,3,4,8,9,...|\n| Pope Francis Jus...|Pope Francis used...|   News|December 25, 2017|    0| Pope Francis Jus...|[pope, francis, j...|[pope, francis, c...|(1000,[0,1,4,5,13...|(1000,[0,1,4,5,13...|(1000,[0,1,4,5,13...|\n+--------------------+--------------------+-------+-----------------+-----+--------------------+--------------------+--------------------+--------------------+--------------------+--------------------+\nonly showing top 5 rows\n\n"
     ]
    }
   ],
   "source": [
    "from pyspark.ml.feature import VectorAssembler, RegexTokenizer, StopWordsRemover, CountVectorizer, IDF\n",
    "from pyspark.ml.pipeline import Pipeline\n",
    "\n",
    "\n",
    "tokenizer = RegexTokenizer(inputCol='all_text', outputCol='all_text_tok', pattern=\"\\\\W\")\n",
    "stopwordremover = StopWordsRemover(inputCol='all_text_tok', outputCol='all_text_stp')\n",
    "countvectorizer = CountVectorizer(inputCol='all_text_stp', outputCol='all_text_cnt')\n",
    "idf = IDF(inputCol='all_text_cnt', outputCol='all_text_idf')\n",
    "assembler = VectorAssembler(inputCols=['all_text_idf'], outputCol='features')\n",
    "\n",
    "\n",
    "pipeline = Pipeline(stages=[tokenizer, stopwordremover, countvectorizer, idf, assembler])\n",
    "\n",
    "pipeline_model = pipeline.fit(df)\n",
    "final_df = pipeline_model.transform(df)\n",
    "\n",
    "train_df, test_df = final_df.randomSplit([0.8, 0.2])\n",
    "final_df.show(5)"
   ]
  },
  {
   "cell_type": "code",
   "execution_count": 19,
   "metadata": {},
   "outputs": [
    {
     "output_type": "stream",
     "name": "stdout",
     "text": [
      "\n",
      "\n",
      "\n",
      "  Accuracy \t\t: 0.9879\n",
      "  Precisions (label=1)\t: 0.9909\n",
      "  Recall (label=1)\t: 0.9838\n",
      "  f1_score (label=1)\t: 0.9874\n",
      "  AUC \t\t\t: 0.9879\n"
     ]
    },
    {
     "output_type": "display_data",
     "data": {
      "text/plain": "            Predict Neg  Predict Pos\nActual Neg       4657.0         39.0\nActual Pos         70.0       4258.0",
      "text/html": "<div>\n<style scoped>\n    .dataframe tbody tr th:only-of-type {\n        vertical-align: middle;\n    }\n\n    .dataframe tbody tr th {\n        vertical-align: top;\n    }\n\n    .dataframe thead th {\n        text-align: right;\n    }\n</style>\n<table border=\"1\" class=\"dataframe\">\n  <thead>\n    <tr style=\"text-align: right;\">\n      <th></th>\n      <th>Predict Neg</th>\n      <th>Predict Pos</th>\n    </tr>\n  </thead>\n  <tbody>\n    <tr>\n      <th>Actual Neg</th>\n      <td>4657.0</td>\n      <td>39.0</td>\n    </tr>\n    <tr>\n      <th>Actual Pos</th>\n      <td>70.0</td>\n      <td>4258.0</td>\n    </tr>\n  </tbody>\n</table>\n</div>"
     },
     "metadata": {}
    },
    {
     "output_type": "stream",
     "name": "stdout",
     "text": [
      "\n",
      "\n",
      "\n",
      "  Accuracy \t\t: 0.9947\n",
      "  Precisions (label=1)\t: 0.9913\n",
      "  Recall (label=1)\t: 0.9977\n",
      "  f1_score (label=1)\t: 0.9945\n",
      "  AUC \t\t\t: 0.9947\n"
     ]
    },
    {
     "output_type": "display_data",
     "data": {
      "text/plain": "            Predict Neg  Predict Pos\nActual Neg       4658.0         38.0\nActual Pos         10.0       4318.0",
      "text/html": "<div>\n<style scoped>\n    .dataframe tbody tr th:only-of-type {\n        vertical-align: middle;\n    }\n\n    .dataframe tbody tr th {\n        vertical-align: top;\n    }\n\n    .dataframe thead th {\n        text-align: right;\n    }\n</style>\n<table border=\"1\" class=\"dataframe\">\n  <thead>\n    <tr style=\"text-align: right;\">\n      <th></th>\n      <th>Predict Neg</th>\n      <th>Predict Pos</th>\n    </tr>\n  </thead>\n  <tbody>\n    <tr>\n      <th>Actual Neg</th>\n      <td>4658.0</td>\n      <td>38.0</td>\n    </tr>\n    <tr>\n      <th>Actual Pos</th>\n      <td>10.0</td>\n      <td>4318.0</td>\n    </tr>\n  </tbody>\n</table>\n</div>"
     },
     "metadata": {}
    },
    {
     "output_type": "stream",
     "name": "stdout",
     "text": [
      "\n",
      "\n",
      "\n",
      "  Accuracy \t\t: 0.9928\n",
      "  Precisions (label=1)\t: 0.9903\n",
      "  Recall (label=1)\t: 0.9947\n",
      "  f1_score (label=1)\t: 0.9925\n",
      "  AUC \t\t\t: 0.9928\n"
     ]
    },
    {
     "output_type": "display_data",
     "data": {
      "text/plain": "            Predict Neg  Predict Pos\nActual Neg       4654.0         42.0\nActual Pos         23.0       4305.0",
      "text/html": "<div>\n<style scoped>\n    .dataframe tbody tr th:only-of-type {\n        vertical-align: middle;\n    }\n\n    .dataframe tbody tr th {\n        vertical-align: top;\n    }\n\n    .dataframe thead th {\n        text-align: right;\n    }\n</style>\n<table border=\"1\" class=\"dataframe\">\n  <thead>\n    <tr style=\"text-align: right;\">\n      <th></th>\n      <th>Predict Neg</th>\n      <th>Predict Pos</th>\n    </tr>\n  </thead>\n  <tbody>\n    <tr>\n      <th>Actual Neg</th>\n      <td>4654.0</td>\n      <td>42.0</td>\n    </tr>\n    <tr>\n      <th>Actual Pos</th>\n      <td>23.0</td>\n      <td>4305.0</td>\n    </tr>\n  </tbody>\n</table>\n</div>"
     },
     "metadata": {}
    },
    {
     "output_type": "stream",
     "name": "stdout",
     "text": [
      "\n",
      "\n",
      "\n",
      "  Accuracy \t\t: 0.9962\n",
      "  Precisions (label=1)\t: 0.9942\n",
      "  Recall (label=1)\t: 0.9979\n",
      "  f1_score (label=1)\t: 0.9961\n",
      "  AUC \t\t\t: 0.9962\n"
     ]
    },
    {
     "output_type": "display_data",
     "data": {
      "text/plain": "            Predict Neg  Predict Pos\nActual Neg       4671.0         25.0\nActual Pos          9.0       4319.0",
      "text/html": "<div>\n<style scoped>\n    .dataframe tbody tr th:only-of-type {\n        vertical-align: middle;\n    }\n\n    .dataframe tbody tr th {\n        vertical-align: top;\n    }\n\n    .dataframe thead th {\n        text-align: right;\n    }\n</style>\n<table border=\"1\" class=\"dataframe\">\n  <thead>\n    <tr style=\"text-align: right;\">\n      <th></th>\n      <th>Predict Neg</th>\n      <th>Predict Pos</th>\n    </tr>\n  </thead>\n  <tbody>\n    <tr>\n      <th>Actual Neg</th>\n      <td>4671.0</td>\n      <td>25.0</td>\n    </tr>\n    <tr>\n      <th>Actual Pos</th>\n      <td>9.0</td>\n      <td>4319.0</td>\n    </tr>\n  </tbody>\n</table>\n</div>"
     },
     "metadata": {}
    },
    {
     "output_type": "stream",
     "name": "stdout",
     "text": [
      "\n",
      "\n",
      "\n",
      "  Accuracy \t\t: 0.9942\n",
      "  Precisions (label=1)\t: 0.9949\n",
      "  Recall (label=1)\t: 0.9931\n",
      "  f1_score (label=1)\t: 0.9940\n",
      "  AUC \t\t\t: 0.9942\n"
     ]
    },
    {
     "output_type": "display_data",
     "data": {
      "text/plain": "            Predict Neg  Predict Pos\nActual Neg       4674.0         22.0\nActual Pos         30.0       4298.0",
      "text/html": "<div>\n<style scoped>\n    .dataframe tbody tr th:only-of-type {\n        vertical-align: middle;\n    }\n\n    .dataframe tbody tr th {\n        vertical-align: top;\n    }\n\n    .dataframe thead th {\n        text-align: right;\n    }\n</style>\n<table border=\"1\" class=\"dataframe\">\n  <thead>\n    <tr style=\"text-align: right;\">\n      <th></th>\n      <th>Predict Neg</th>\n      <th>Predict Pos</th>\n    </tr>\n  </thead>\n  <tbody>\n    <tr>\n      <th>Actual Neg</th>\n      <td>4674.0</td>\n      <td>22.0</td>\n    </tr>\n    <tr>\n      <th>Actual Pos</th>\n      <td>30.0</td>\n      <td>4298.0</td>\n    </tr>\n  </tbody>\n</table>\n</div>"
     },
     "metadata": {}
    }
   ],
   "source": [
    "from pyspark.ml.classification import DecisionTreeClassifier, RandomForestClassifier, GBTClassifier, LogisticRegression, LinearSVC\n",
    "from pyspark.mllib.evaluation import MulticlassMetrics\n",
    "from pyspark.ml.evaluation import MulticlassClassificationEvaluator\n",
    "from pyspark.sql.types import *\n",
    "\n",
    "list_model = [('Logistic Regression', LogisticRegression()),\n",
    "              ('Decision Tree', DecisionTreeClassifier()), \n",
    "              ('Random Forest', RandomForestClassifier()), \n",
    "              ('Gradient Boosting', GBTClassifier()),\n",
    "              ('Linear SVC', LinearSVC())\n",
    "]\n",
    "\n",
    "for model_name, model in list_model:\n",
    "    trained_model = model.fit(train_df)\n",
    "    predictions = trained_model.transform(test_df)\n",
    "\n",
    "    predictions = predictions.withColumn('label', predictions.label.cast(DoubleType()))\n",
    "    prediction_and_label = predictions.select(['prediction', 'label'])\n",
    "\n",
    "\n",
    "    metrics = MulticlassMetrics(prediction_and_label.rdd)\n",
    "    evaluator = MulticlassClassificationEvaluator()\n",
    "\n",
    "\n",
    "    print(\"\\n\\n\")\n",
    "    print('  Accuracy \\t\\t: {:.4f}'.format(metrics.accuracy))\n",
    "    print('  Precisions (label=1)\\t: {:.4f}'.format(metrics.precision(label=1)))\n",
    "    print('  Recall (label=1)\\t: {:.4f}'.format(metrics.recall(label=1)))\n",
    "    print('  f1_score (label=1)\\t: {:.4f}'.format(metrics.fMeasure(label=1.0)))\n",
    "    print('  AUC \\t\\t\\t: {:.4f}'.format(evaluator.evaluate(predictions)))\n",
    "    result_confusion_matrix = pd.DataFrame(metrics.confusionMatrix().toArray(), columns=['Predict Neg', 'Predict Pos'], index=['Actual Neg', 'Actual Pos'])\n",
    "    display(result_confusion_matrix)"
   ]
  },
  {
   "source": [
    "> **Nhận xét**:\n",
    "> * Các model dự đoán đều tốt nhưng với chi phí của Grdient Boosting và Random forest là quá lớn, nên decision tree là phù hợp rồi"
   ],
   "cell_type": "markdown",
   "metadata": {}
  },
  {
   "cell_type": "code",
   "execution_count": null,
   "metadata": {},
   "outputs": [],
   "source": []
  }
 ]
}