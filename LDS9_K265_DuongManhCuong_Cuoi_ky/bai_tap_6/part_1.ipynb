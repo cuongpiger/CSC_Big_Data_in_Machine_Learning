{
 "metadata": {
  "language_info": {
   "codemirror_mode": {
    "name": "ipython",
    "version": 3
   },
   "file_extension": ".py",
   "mimetype": "text/x-python",
   "name": "python",
   "nbconvert_exporter": "python",
   "pygments_lexer": "ipython3",
   "version": "3.8.5"
  },
  "orig_nbformat": 2,
  "kernelspec": {
   "name": "python38564bit739b5682ab17410ead4710a41bd80672",
   "display_name": "Python 3.8.5 64-bit"
  },
  "metadata": {
   "interpreter": {
    "hash": "31f2aee4e71d21fbe5cf8b01ff0e069b9275f58929596ceb00d14d90e3e16cd6"
   }
  }
 },
 "nbformat": 4,
 "nbformat_minor": 2,
 "cells": [
  {
   "source": [
    "![](../images/FE_02.png)"
   ],
   "cell_type": "markdown",
   "metadata": {}
  },
  {
   "source": [
    "# Chuẩn dữ liệu"
   ],
   "cell_type": "markdown",
   "metadata": {}
  },
  {
   "cell_type": "code",
   "execution_count": 1,
   "metadata": {},
   "outputs": [],
   "source": [
    "%load_ext autoreload\n",
    "%autoreload 2"
   ]
  },
  {
   "cell_type": "code",
   "execution_count": 2,
   "metadata": {},
   "outputs": [],
   "source": [
    "from pyspark.sql import SparkSession"
   ]
  },
  {
   "cell_type": "code",
   "execution_count": 3,
   "metadata": {},
   "outputs": [],
   "source": [
    "spark = SparkSession.builder.appName(\"\").getOrCreate()"
   ]
  },
  {
   "cell_type": "code",
   "execution_count": 4,
   "metadata": {},
   "outputs": [],
   "source": [
    "products = spark.read.csv(\"../data/75000/goods.csv\", inferSchema=True, header=True)"
   ]
  },
  {
   "cell_type": "code",
   "execution_count": 5,
   "metadata": {},
   "outputs": [],
   "source": [
    "data = spark.read.csv(\"../data/75000/75000i.csv\", inferSchema=True, header=False)"
   ]
  },
  {
   "cell_type": "code",
   "execution_count": 6,
   "metadata": {},
   "outputs": [
    {
     "output_type": "stream",
     "name": "stdout",
     "text": [
      "+---+---+---+\n|_c0|_c1|_c2|\n+---+---+---+\n|  1|  1| 21|\n|  1|  5| 11|\n|  2|  1|  7|\n|  2|  3| 11|\n|  2|  4| 37|\n+---+---+---+\nonly showing top 5 rows\n\n"
     ]
    }
   ],
   "source": [
    "data.show(5)"
   ]
  },
  {
   "cell_type": "code",
   "execution_count": 7,
   "metadata": {},
   "outputs": [],
   "source": [
    "data = data.select('_c0', '_c2')"
   ]
  },
  {
   "cell_type": "code",
   "execution_count": 8,
   "metadata": {},
   "outputs": [
    {
     "output_type": "stream",
     "name": "stdout",
     "text": [
      "+---+---+\n|_c0|_c2|\n+---+---+\n|  1| 21|\n|  1| 11|\n|  2|  7|\n+---+---+\nonly showing top 3 rows\n\n"
     ]
    }
   ],
   "source": [
    "data.show(3)"
   ]
  },
  {
   "cell_type": "code",
   "execution_count": 9,
   "metadata": {},
   "outputs": [],
   "source": [
    "data = data.withColumnRenamed('_c0', 'orderID').withColumnRenamed('_c2', 'itemID')"
   ]
  },
  {
   "cell_type": "code",
   "execution_count": 10,
   "metadata": {},
   "outputs": [
    {
     "output_type": "stream",
     "name": "stdout",
     "text": [
      "+-------+------+\n|orderID|itemID|\n+-------+------+\n|      1|    21|\n|      1|    11|\n|      2|     7|\n+-------+------+\nonly showing top 3 rows\n\n"
     ]
    }
   ],
   "source": [
    "data.show(3)"
   ]
  },
  {
   "source": [
    "# Chuẩn dữ liệu"
   ],
   "cell_type": "markdown",
   "metadata": {}
  },
  {
   "cell_type": "code",
   "execution_count": 11,
   "metadata": {},
   "outputs": [],
   "source": [
    "from pyspark.sql.functions import collect_list, col, count, collect_set"
   ]
  },
  {
   "cell_type": "code",
   "execution_count": 12,
   "metadata": {},
   "outputs": [],
   "source": [
    "data.createOrReplaceTempView('data')"
   ]
  },
  {
   "cell_type": "code",
   "execution_count": 13,
   "metadata": {},
   "outputs": [],
   "source": [
    "ordersDB = spark.sql(\"SELECT * FROM data\")"
   ]
  },
  {
   "cell_type": "code",
   "execution_count": 14,
   "metadata": {},
   "outputs": [
    {
     "output_type": "stream",
     "name": "stdout",
     "text": [
      "+-------+------+\n|orderID|itemID|\n+-------+------+\n|      1|    21|\n|      1|    11|\n|      2|     7|\n|      2|    11|\n|      2|    37|\n+-------+------+\nonly showing top 5 rows\n\n"
     ]
    }
   ],
   "source": [
    "ordersDB.show(5)"
   ]
  },
  {
   "cell_type": "code",
   "execution_count": 15,
   "metadata": {},
   "outputs": [],
   "source": [
    "orders = ordersDB.groupBy('orderID').agg(collect_set('itemID').alias('items'))"
   ]
  },
  {
   "cell_type": "code",
   "execution_count": 16,
   "metadata": {},
   "outputs": [],
   "source": [
    "orders.createOrReplaceTempView('orders')"
   ]
  },
  {
   "cell_type": "code",
   "execution_count": 17,
   "metadata": {},
   "outputs": [
    {
     "output_type": "stream",
     "name": "stdout",
     "text": [
      "+-------+--------------------+\n|orderID|               items|\n+-------+--------------------+\n|    148|[33, 27, 9, 46, 2...|\n|    463|            [17, 14]|\n|    471|     [9, 37, 34, 20]|\n|    496|     [15, 6, 47, 26]|\n|    833|         [12, 5, 21]|\n+-------+--------------------+\nonly showing top 5 rows\n\n"
     ]
    }
   ],
   "source": [
    "orders.show(5)"
   ]
  },
  {
   "source": [
    "# 3. Build model"
   ],
   "cell_type": "markdown",
   "metadata": {}
  },
  {
   "cell_type": "code",
   "execution_count": 18,
   "metadata": {},
   "outputs": [],
   "source": [
    "from pyspark.ml.fpm import FPGrowth"
   ]
  },
  {
   "cell_type": "code",
   "execution_count": 19,
   "metadata": {},
   "outputs": [],
   "source": [
    "fp_growth = FPGrowth(itemsCol='items', minSupport=0.03, minConfidence=0.03)"
   ]
  },
  {
   "cell_type": "code",
   "execution_count": 20,
   "metadata": {},
   "outputs": [],
   "source": [
    "model = fp_growth.fit(orders)"
   ]
  },
  {
   "source": [
    "# 4. Hiển thị các mẫu phổ biến"
   ],
   "cell_type": "markdown",
   "metadata": {}
  },
  {
   "cell_type": "code",
   "execution_count": 21,
   "metadata": {},
   "outputs": [
    {
     "output_type": "stream",
     "name": "stdout",
     "text": [
      "+--------+----+\n|   items|freq|\n+--------+----+\n|     [7]|8193|\n|    [45]|7700|\n| [45, 7]|2367|\n|    [28]|7556|\n|    [18]|6987|\n|     [4]|6948|\n|    [35]|6943|\n|[35, 18]|3982|\n|    [42]|6871|\n|    [22]|6783|\n|    [27]|6733|\n|[27, 28]|3819|\n|    [14]|6362|\n|    [32]|6299|\n|[32, 45]|2653|\n|     [1]|6271|\n|     [0]|6265|\n|    [46]|6236|\n| [46, 0]|3303|\n|    [16]|6221|\n+--------+----+\nonly showing top 20 rows\n\n"
     ]
    }
   ],
   "source": [
    "model.freqItemsets.show()"
   ]
  },
  {
   "source": [
    "# 5. Các luật kết hợp"
   ],
   "cell_type": "markdown",
   "metadata": {}
  },
  {
   "cell_type": "code",
   "execution_count": 22,
   "metadata": {},
   "outputs": [],
   "source": [
    "most_popular_item = model.transform(orders)"
   ]
  },
  {
   "cell_type": "code",
   "execution_count": 23,
   "metadata": {},
   "outputs": [
    {
     "output_type": "stream",
     "name": "stdout",
     "text": [
      "+-------+--------------------+------------------+\n|orderID|               items|        prediction|\n+-------+--------------------+------------------+\n|    148|[33, 27, 9, 46, 2...|        [42, 0, 2]|\n|    463|            [17, 14]|          [44, 47]|\n|    471|     [9, 37, 34, 20]|    [45, 7, 11, 4]|\n|    496|     [15, 6, 47, 26]|           [7, 17]|\n|    833|         [12, 5, 21]|              [22]|\n|   1088| [27, 35, 3, 18, 40]|              [28]|\n|   1238|        [19, 32, 18]|[35, 3, 1, 45, 16]|\n|   1342|         [49, 17, 8]|              [47]|\n|   1580|        [12, 31, 36]|                []|\n|   1591|             [1, 19]|                []|\n|   1645|         [15, 49, 7]|      [45, 37, 11]|\n|   1829|[15, 49, 38, 6, 7...|      [45, 37, 11]|\n|   1959|[9, 1, 18, 4, 22,...|    [35, 3, 5, 19]|\n|   2122|             [5, 22]|                []|\n|   2142|        [14, 44, 41]|                []|\n|   2366|         [0, 27, 29]|       [28, 46, 2]|\n|   2659|                [42]|              [33]|\n|   2866|         [2, 28, 40]|       [27, 46, 0]|\n|   3175|            [33, 42]|                []|\n|   3749|         [45, 4, 11]|[9, 37, 7, 32, 16]|\n+-------+--------------------+------------------+\nonly showing top 20 rows\n\n"
     ]
    }
   ],
   "source": [
    "most_popular_item.show(20)"
   ]
  },
  {
   "source": [
    "# Hiển thị kết quả với tên"
   ],
   "cell_type": "markdown",
   "metadata": {}
  },
  {
   "cell_type": "code",
   "execution_count": 26,
   "metadata": {},
   "outputs": [],
   "source": [
    "import pandas as pd"
   ]
  },
  {
   "cell_type": "code",
   "execution_count": 44,
   "metadata": {},
   "outputs": [],
   "source": [
    "df = most_popular_item.toPandas()"
   ]
  },
  {
   "cell_type": "code",
   "execution_count": 29,
   "metadata": {},
   "outputs": [
    {
     "output_type": "execute_result",
     "data": {
      "text/plain": [
       "   orderID                   items      prediction\n",
       "0      148  [33, 27, 9, 46, 28, 4]      [42, 0, 2]\n",
       "1      463                [17, 14]        [44, 47]\n",
       "2      471         [9, 37, 34, 20]  [45, 7, 11, 4]\n",
       "3      496         [15, 6, 47, 26]         [7, 17]\n",
       "4      833             [12, 5, 21]            [22]"
      ],
      "text/html": "<div>\n<style scoped>\n    .dataframe tbody tr th:only-of-type {\n        vertical-align: middle;\n    }\n\n    .dataframe tbody tr th {\n        vertical-align: top;\n    }\n\n    .dataframe thead th {\n        text-align: right;\n    }\n</style>\n<table border=\"1\" class=\"dataframe\">\n  <thead>\n    <tr style=\"text-align: right;\">\n      <th></th>\n      <th>orderID</th>\n      <th>items</th>\n      <th>prediction</th>\n    </tr>\n  </thead>\n  <tbody>\n    <tr>\n      <th>0</th>\n      <td>148</td>\n      <td>[33, 27, 9, 46, 28, 4]</td>\n      <td>[42, 0, 2]</td>\n    </tr>\n    <tr>\n      <th>1</th>\n      <td>463</td>\n      <td>[17, 14]</td>\n      <td>[44, 47]</td>\n    </tr>\n    <tr>\n      <th>2</th>\n      <td>471</td>\n      <td>[9, 37, 34, 20]</td>\n      <td>[45, 7, 11, 4]</td>\n    </tr>\n    <tr>\n      <th>3</th>\n      <td>496</td>\n      <td>[15, 6, 47, 26]</td>\n      <td>[7, 17]</td>\n    </tr>\n    <tr>\n      <th>4</th>\n      <td>833</td>\n      <td>[12, 5, 21]</td>\n      <td>[22]</td>\n    </tr>\n  </tbody>\n</table>\n</div>"
     },
     "metadata": {},
     "execution_count": 29
    }
   ],
   "source": [
    "df.head()"
   ]
  },
  {
   "cell_type": "code",
   "execution_count": 50,
   "metadata": {},
   "outputs": [],
   "source": [
    "products_df = products.collect()"
   ]
  },
  {
   "cell_type": "code",
   "execution_count": 53,
   "metadata": {},
   "outputs": [],
   "source": [
    "import numpy as np\n",
    "\n",
    "def showName(pProduct_df, df):\n",
    "    lst_products = [None] * (len(pProduct_df) + 5)\n",
    "\n",
    "    for row in pProduct_df:\n",
    "        i = row['Id']\n",
    "        name = row['Food']\n",
    "        flavor = row['Flavor']\n",
    "        lst_products[i] = \"{} - {}\".format(flavor, name)\n",
    "\n",
    "    items = np.array(lst_products)\n",
    "    res = []\n",
    "\n",
    "    for row in df['items']:\n",
    "        res.append(items[row])\n",
    "\n",
    "    return res\n"
   ]
  },
  {
   "cell_type": "code",
   "execution_count": 55,
   "metadata": {},
   "outputs": [],
   "source": [
    "res = showName(products_df, df)"
   ]
  },
  {
   "cell_type": "code",
   "execution_count": 56,
   "metadata": {},
   "outputs": [
    {
     "output_type": "execute_result",
     "data": {
      "text/plain": [
       "[array([\"'Cheese' - 'Croissant'\", \"'Marzipan' - 'Cookie'\",\n",
       "        \"'Napoleon' - 'Cake'\", \"'Chocolate' - 'Coffee'\",\n",
       "        \"'Tuile' - 'Cookie'\", \"'Strawberry' - 'Cake'\"], dtype=object),\n",
       " array([\"'Chocolate' - 'Tart'\", \"'Berry' - 'Tart'\"], dtype=object),\n",
       " array([\"'Napoleon' - 'Cake'\", \"'Almond' - 'Twist'\",\n",
       "        \"'Chocolate' - 'Croissant'\", \"'Pecan' - 'Tart'\"], dtype=object),\n",
       " array([\"'Blackberry' - 'Tart'\", \"'Chocolate' - 'Eclair'\",\n",
       "        \"'Vanilla' - 'Frappuccino'\", \"'Vanilla' - 'Meringue'\"],\n",
       "       dtype=object),\n",
       " array([\"'Apple' - 'Tart'\", \"'Truffle' - 'Cake'\", \"'Ganache' - 'Cookie'\"],\n",
       "       dtype=object)]"
      ]
     },
     "metadata": {},
     "execution_count": 56
    }
   ],
   "source": [
    "res[:5]"
   ]
  },
  {
   "cell_type": "code",
   "execution_count": null,
   "metadata": {},
   "outputs": [],
   "source": []
  }
 ]
}